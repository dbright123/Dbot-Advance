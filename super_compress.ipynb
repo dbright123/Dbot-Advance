{
 "cells": [
  {
   "cell_type": "code",
   "execution_count": 1,
   "metadata": {},
   "outputs": [],
   "source": [
    "import lzma\n",
    "import multiprocessing\n",
    "import os\n",
    "import shutil"
   ]
  },
  {
   "cell_type": "code",
   "execution_count": null,
   "metadata": {},
   "outputs": [],
   "source": [
    "def compress_file(file_path, output_dir):\n",
    "    \"\"\"Compresses a single file using LZMA.\"\"\"\n",
    "    xz_file = os.path.join(output_dir, os.path.basename(file_path) + \".xz\")\n",
    "    with open(file_path, 'rb') as f_in, lzma.open(xz_file, 'wb') as f_out:\n",
    "        shutil.copyfileobj(f_in, f_out)\n",
    "\n",
    "def compress_folder(folder_path, output_dir):\n",
    "    \"\"\"Compresses a folder using parallel processing.\"\"\"\n",
    "    pool = multiprocessing.Pool()\n",
    "    file_paths = [os.path.join(folder_path, file) for file in os.listdir(folder_path) if os.path.isfile(file)]\n",
    "    pool.starmap(compress_file, [(file_path, output_dir) for file_path in file_paths])\n",
    "    pool.close()\n",
    "    pool.join()\n",
    "\n",
    "# Example usage:\n",
    "folder_to_compress = \"path/to/your/folder\"\n",
    "output_folder = \"compressed_folder\"\n",
    "\n",
    "compress_folder(folder_to_compress, output_folder)"
   ]
  },
  {
   "cell_type": "code",
   "execution_count": null,
   "metadata": {},
   "outputs": [],
   "source": [
    "import lzma\n",
    "\n",
    "def decompress_file(compressed_file_path, output_file_path):\n",
    "    \"\"\"Decompresses a single LZMA-compressed file.\"\"\"\n",
    "    with lzma.open(compressed_file_path, 'rb') as f_in, open(output_file_path, 'wb') as f_out:\n",
    "        shutil.copyfileobj(f_in, f_out)\n",
    "\n",
    "# Example usage:\n",
    "compressed_file = \"compressed_file.xz\"\n",
    "decompressed_file = \"decompressed_file\"\n",
    "\n",
    "decompress_file(compressed_file, decompressed_file)"
   ]
  }
 ],
 "metadata": {
  "kernelspec": {
   "display_name": "Python 3",
   "language": "python",
   "name": "python3"
  },
  "language_info": {
   "codemirror_mode": {
    "name": "ipython",
    "version": 3
   },
   "file_extension": ".py",
   "mimetype": "text/x-python",
   "name": "python",
   "nbconvert_exporter": "python",
   "pygments_lexer": "ipython3",
   "version": "3.10.11"
  }
 },
 "nbformat": 4,
 "nbformat_minor": 2
}
