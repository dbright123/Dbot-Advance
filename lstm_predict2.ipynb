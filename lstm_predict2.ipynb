{
  "cells": [
    {
      "cell_type": "code",
      "execution_count": 10,
      "metadata": {
        "id": "JeJFh9snzHMp"
      },
      "outputs": [],
      "source": [
        "from tensorflow.keras.optimizers import SGD,Adam\n",
        "import matplotlib.pyplot as plt\n",
        "\n",
        "\n",
        "\n",
        "from tensorflow.keras import Model\n",
        "from tensorflow.keras.layers import Input, LSTM, Dense, Dropout, BatchNormalization, LayerNormalization, Bidirectional\n",
        "from tensorflow.keras.callbacks import EarlyStopping, ReduceLROnPlateau, ModelCheckpoint\n",
        "\n",
        "from sklearn.metrics import r2_score\n",
        "from tensorflow.keras.models import load_model"
      ]
    },
    {
      "cell_type": "code",
      "execution_count": 11,
      "metadata": {},
      "outputs": [],
      "source": [
        "from sklearn.preprocessing import MinMaxScaler, StandardScaler\n",
        "from sklearn.metrics import mean_squared_error, mean_absolute_error\n",
        "import joblib\n",
        "import os\n",
        "from sklearn.model_selection import train_test_split\n",
        "import numpy as np\n",
        "from sklearn.preprocessing import MinMaxScaler\n",
        "from scaler3d2d import preprocess_and_save_scalers,transform_data, inverse_transform_data,create_sequences"
      ]
    },
    {
      "cell_type": "code",
      "execution_count": 6,
      "metadata": {},
      "outputs": [],
      "source": [
        "import MetaTrader5 as mt5\n",
        "import numpy as np\n",
        "import pandas as pd\n"
      ]
    },
    {
      "cell_type": "code",
      "execution_count": 5,
      "metadata": {},
      "outputs": [
        {
          "name": "stdout",
          "output_type": "stream",
          "text": [
            "MetaTrader5 package author:  MetaQuotes Ltd.\n",
            "MetaTrader5 package version:  5.0.4200\n",
            "True\n",
            "{'login': 40834668, 'trade_mode': 0, 'leverage': 1000, 'limit_orders': 50, 'margin_so_mode': 0, 'trade_allowed': True, 'trade_expert': True, 'margin_mode': 2, 'currency_digits': 2, 'fifo_close': False, 'balance': 10000.0, 'credit': 0.0, 'profit': 0.0, 'equity': 10000.0, 'margin': 0.0, 'margin_free': 10000.0, 'margin_level': 0.0, 'margin_so_call': 100.0, 'margin_so_so': 50.0, 'margin_initial': 0.0, 'margin_maintenance': 0.0, 'assets': 0.0, 'liabilities': 0.0, 'commission_blocked': 0.0, 'name': 'Demo Standard', 'server': 'Deriv-Demo', 'currency': 'USD', 'company': 'Deriv.com Limited'}\n",
            "\n",
            "\n",
            "{'community_account': False, 'community_connection': False, 'connected': True, 'dlls_allowed': False, 'trade_allowed': True, 'tradeapi_disabled': False, 'email_enabled': False, 'ftp_enabled': False, 'notifications_enabled': False, 'mqid': True, 'build': 5328, 'maxbars': 100000000, 'codepage': 0, 'ping_last': 250411, 'community_balance': 0.0, 'retransmission': 0.29927254220139027, 'company': 'MetaQuotes Software Corp.', 'name': 'MetaTrader 5', 'language': 'English', 'path': 'C:\\\\Program Files\\\\MetaTrader 5', 'data_path': 'C:\\\\Program Files\\\\MetaTrader 5', 'commondata_path': 'C:\\\\Users\\\\omage\\\\AppData\\\\Roaming\\\\MetaQuotes\\\\Terminal\\\\Common'}\n",
            "\n",
            "\n",
            "790\n"
          ]
        }
      ],
      "source": [
        "print(\"MetaTrader5 package author: \",mt5.__author__)\n",
        "print(\"MetaTrader5 package version: \",mt5.__version__)\n",
        "\n",
        "trade_active = mt5.initialize()\n",
        "\n",
        "print(trade_active)\n",
        "\n",
        "if not trade_active:\n",
        "    print('Initialization failed, check internet connection. You must have Meta Trader 5 installed.')\n",
        "    mt5.shutdown()\n",
        "\n",
        "else:\n",
        "    print(mt5.account_info()._asdict())\n",
        "    print(\"\\n\")\n",
        "    print(mt5.terminal_info()._asdict())\n",
        "    print(\"\\n\")\n",
        "    print(mt5.symbols_total())"
      ]
    },
    {
      "cell_type": "code",
      "execution_count": 6,
      "metadata": {},
      "outputs": [
        {
          "name": "stdout",
          "output_type": "stream",
          "text": [
            "10000.0\n",
            "AI is successfully functional\n"
          ]
        }
      ],
      "source": [
        "account = mt5.account_info()\n",
        "terminal = mt5.terminal_info()\n",
        "\n",
        "print(account.equity)\n",
        "\n",
        "if(terminal.connected == True or terminal.trade_allowed == True):\n",
        "    print(\"AI is successfully functional\")\n",
        "else:\n",
        "    print(\"Please make sure metatrade 5 has internet and algo Trade is Turn On\")"
      ]
    },
    {
      "cell_type": "code",
      "execution_count": 7,
      "metadata": {},
      "outputs": [
        {
          "name": "stdout",
          "output_type": "stream",
          "text": [
            "790\n",
            "Yes  AUDUSD\n",
            "Yes  EURUSD\n",
            "Yes  GBPUSD\n",
            "Yes  NZDUSD\n",
            "Yes  USDCAD\n",
            "Yes  USDCHF\n",
            "Yes  USDJPY\n",
            "Yes  XAGUSD\n",
            "Yes  XAUUSD\n",
            "Yes  XPDUSD\n",
            "Yes  XPTUSD\n",
            "Yes  AAVUSD\n",
            "Yes  ADAUSD\n",
            "Yes  ALGUSD\n",
            "Yes  APEUSD\n",
            "Yes  AVAUSD\n",
            "Yes  BATUSD\n",
            "Yes  BCHUSD\n",
            "Yes  BNBUSD\n",
            "Yes  BTCUSD\n",
            "Yes  DOGUSD\n",
            "Yes  DOTUSD\n",
            "Yes  DSHUSD\n",
            "Yes  ETCUSD\n",
            "Yes  ETHUSD\n",
            "Yes  FILUSD\n",
            "Yes  IOTUSD\n",
            "Yes  LNKUSD\n",
            "Yes  LTCUSD\n",
            "Yes  USDCNH\n",
            "Yes  USDMXN\n",
            "Yes  USDNOK\n",
            "Yes  USDPLN\n",
            "Yes  USDSEK\n",
            "Yes  USDZAR\n",
            "Yes  USDHKD\n",
            "Yes  USDSGD\n",
            "Yes  USDTHB\n",
            "Yes  AUDUSDmicro\n",
            "Yes  EURUSDmicro\n",
            "Yes  GBPUSDmicro\n",
            "Yes  NZDUSDmicro\n",
            "Yes  USDCADmicro\n",
            "Yes  USDCHFmicro\n",
            "Yes  USDJPYmicro\n",
            "Yes  BCHUSD.conv\n",
            "Yes  ETHUSD.conv\n",
            "Yes  BTCUSD.conv\n",
            "Yes  NEOUSD\n",
            "Yes  SHBUSD\n",
            "Yes  SOLUSD\n",
            "Yes  TRXUSD\n",
            "Yes  UNIUSD\n",
            "Yes  XLMUSD\n",
            "Yes  XMRUSD\n",
            "Yes  XRPUSD\n",
            "Yes  XTZUSD\n",
            "Yes  ZECUSD\n",
            "Yes  LTCUSD.conv\n",
            "Yes  XALUSD\n",
            "Yes  XCUUSD\n",
            "Yes  XNIUSD\n",
            "Yes  XPBUSD\n",
            "Yes  XZNUSD\n",
            "Yes  USD Basket\n",
            "Yes  AUDUSD DFX 10 Index\n",
            "Yes  EURUSD DFX 10 Index\n",
            "Yes  GBPUSD DFX 10 Index\n",
            "Yes  USDCHF DFX 10 Index\n",
            "Yes  USDJPY DFX 10 Index\n",
            "Yes  AUDUSD DFX 20 Index\n",
            "Yes  EURUSD DFX 20 Index\n",
            "Yes  GBPUSD DFX 20 Index\n",
            "Yes  USDCHF DFX 20 Index\n",
            "Yes  USDJPY DFX 20 Index\n",
            "Yes  NERUSD\n",
            "Yes  TONUSD\n",
            "Yes  FETUSD\n",
            "Yes  APTUSD\n",
            "Yes  COMUSD\n",
            "Yes  IMXUSD\n",
            "Yes  SANUSD\n",
            "Yes  TRUUSD\n",
            "Yes  MLNUSD\n",
            "Yes  EURUSD RSI Rebound Index\n",
            "Yes  GBPUSD RSI Rebound Index\n",
            "Yes  USDJPY RSI Rebound Index\n",
            "Yes  EURUSD RSI Pullback Index\n",
            "Yes  GBPUSD RSI Pullback Index\n",
            "Yes  USDJPY RSI Pullback Index\n",
            "Yes  EURUSD RSI Trend Up Index\n",
            "Yes  GBPUSD RSI Trend Up Index\n",
            "Yes  USDJPY RSI Trend Up Index\n",
            "Yes  EURUSD RSI Trend Down Index\n",
            "Yes  GBPUSD RSI Trend Down Index\n",
            "Yes  USDJPY RSI Trend Down Index\n",
            "Yes  XAUUSDmicro\n",
            "Yes  EURUSD.s\n",
            "Yes  XAUUSD.s\n",
            "99\n"
          ]
        }
      ],
      "source": [
        "symbols = mt5.symbols_get()\n",
        "print(len(symbols))\n",
        "t_symbol = []\n",
        "for symbol in symbols:\n",
        "    if \"USD\" in symbol.name:\n",
        "        print(\"Yes \", symbol.name)\n",
        "        t_symbol.append(symbol.name)\n",
        "\n",
        "print(len(t_symbol))"
      ]
    },
    {
      "cell_type": "code",
      "execution_count": 12,
      "metadata": {},
      "outputs": [
        {
          "data": {
            "text/plain": [
              "array([( 737157600, 1.537  , 1.5445 , 1.529  , 1.5338 , 2781, 50, 0),\n",
              "       ( 737244000, 1.5328 , 1.536  , 1.518  , 1.5225 , 2571, 50, 0),\n",
              "       ( 737330400, 1.5228 , 1.5415 , 1.52   , 1.5387 , 2711, 50, 0), ...,\n",
              "       (1760498100, 1.335  , 1.33515, 1.33483, 1.33506,  761,  5, 0),\n",
              "       (1760499000, 1.33505, 1.33535, 1.33494, 1.33514,  761,  5, 0),\n",
              "       (1760499900, 1.33514, 1.33525, 1.33505, 1.33514,  218,  5, 0)],\n",
              "      dtype=[('time', '<i8'), ('open', '<f8'), ('high', '<f8'), ('low', '<f8'), ('close', '<f8'), ('tick_volume', '<u8'), ('spread', '<i4'), ('real_volume', '<u8')])"
            ]
          },
          "metadata": {},
          "output_type": "display_data"
        },
        {
          "name": "stdout",
          "output_type": "stream",
          "text": [
            "(664455,)\n",
            "GBPUSD\n"
          ]
        }
      ],
      "source": [
        "market = mt5.copy_rates_from_pos(\"GBPUSD\", mt5.TIMEFRAME_M15, 0, 10000000)\n",
        "display(market)\n",
        "print(market.shape)\n",
        "print(\"GBPUSD\")\n",
        "t_s = \"GBPUSD\"\n",
        "\n",
        "data = []\n",
        "for i in range(len(market)):\n",
        "    data.append([market[i][1],market[i][2],market[i][3],market[i][4],market[i][5]])\n",
        "df = pd.DataFrame(data, columns=[\"open\", \"high\",\"low\", \"close\",\"tick_volume\"])\n",
        "df.to_csv(\"Generated\"+t_s+\" dbot.csv\", index=False)"
      ]
    },
    {
      "cell_type": "code",
      "execution_count": 12,
      "metadata": {},
      "outputs": [
        {
          "name": "stdout",
          "output_type": "stream",
          "text": [
            "GeneratedVolatility 75 Index\n",
            "[[59688.2  59790.3  59494.6  59503.27   149.  ]\n",
            " [59521.58 59733.42 59478.42 59578.49   150.  ]\n",
            " [59589.61 59722.4  59547.89 59622.83   150.  ]\n",
            " ...\n",
            " [57931.03 58023.52 57841.96 58009.18   150.  ]\n",
            " [58009.86 58019.74 57826.61 57961.52   150.  ]\n",
            " [57958.87 58012.51 57637.71 57709.18   150.  ]]\n",
            "[57807.68]\n"
          ]
        }
      ],
      "source": [
        "\n",
        "m_label = \"GeneratedVolatility 75 Index\"\n",
        "train_df = pd.read_csv(m_label+\" dbot.csv\")\n",
        "#train_df_test = train_dfs_test[n]\n",
        "print(m_label)\n",
        "SEQ_LEN = 240 # length of input sequence (timesteps). Typical choices: 30, 60, 90\n",
        "n_rows, n_features = train_df.values.shape\n",
        "\n",
        "X, y = create_sequences(train_df.values, SEQ_LEN, 1, 3)  # X: (n_samples, SEQ_LEN, n_features), y: (n_samples, n_features)\n",
        "#X1, y1 = create_sequences(train_df.values, SEQ_LEN, 5)  # X: (n_samples, SEQ_LEN, n_features), y: (n_samples, n_features)\n",
        "\n",
        "n_samples = X.shape[0]\n",
        "print(X[-1])\n",
        "print(y[-1])"
      ]
    },
    {
      "cell_type": "code",
      "execution_count": null,
      "metadata": {},
      "outputs": [],
      "source": [
        "X, y = preprocess_and_save_scalers(X, y)"
      ]
    },
    {
      "cell_type": "code",
      "execution_count": null,
      "metadata": {},
      "outputs": [],
      "source": []
    },
    {
      "cell_type": "code",
      "execution_count": 3,
      "metadata": {},
      "outputs": [],
      "source": [
        "best_model = load_model(\"GeneratedVolatility 75 Index lstm_best.keras\")"
      ]
    },
    {
      "cell_type": "code",
      "execution_count": 4,
      "metadata": {},
      "outputs": [
        {
          "name": "stdout",
          "output_type": "stream",
          "text": [
            "Model: \"model\"\n",
            "_________________________________________________________________\n",
            " Layer (type)                Output Shape              Param #   \n",
            "=================================================================\n",
            " input_1 (InputLayer)        [(None, 240, 5)]          0         \n",
            "                                                                 \n",
            " bidirectional (Bidirectiona  (None, 240, 400)         329600    \n",
            " l)                                                              \n",
            "                                                                 \n",
            " bidirectional_1 (Bidirectio  (None, 240, 400)         961600    \n",
            " nal)                                                            \n",
            "                                                                 \n",
            " bidirectional_2 (Bidirectio  (None, 240, 400)         961600    \n",
            " nal)                                                            \n",
            "                                                                 \n",
            " bidirectional_3 (Bidirectio  (None, 400)              961600    \n",
            " nal)                                                            \n",
            "                                                                 \n",
            " dense (Dense)               (None, 150)               60150     \n",
            "                                                                 \n",
            " dropout (Dropout)           (None, 150)               0         \n",
            "                                                                 \n",
            " dense_1 (Dense)             (None, 1)                 151       \n",
            "                                                                 \n",
            "=================================================================\n",
            "Total params: 3,274,701\n",
            "Trainable params: 3,274,701\n",
            "Non-trainable params: 0\n",
            "_________________________________________________________________\n"
          ]
        }
      ],
      "source": [
        "best_model.summary()"
      ]
    }
  ],
  "metadata": {
    "accelerator": "GPU",
    "colab": {
      "gpuType": "T4",
      "provenance": []
    },
    "kernelspec": {
      "display_name": "Python 3",
      "name": "python3"
    },
    "language_info": {
      "codemirror_mode": {
        "name": "ipython",
        "version": 3
      },
      "file_extension": ".py",
      "mimetype": "text/x-python",
      "name": "python",
      "nbconvert_exporter": "python",
      "pygments_lexer": "ipython3",
      "version": "3.10.11"
    }
  },
  "nbformat": 4,
  "nbformat_minor": 0
}
