{
  "cells": [
    {
      "cell_type": "code",
      "execution_count": 2,
      "metadata": {
        "id": "JeJFh9snzHMp"
      },
      "outputs": [],
      "source": [
        "from tensorflow.keras.optimizers import SGD,Adam\n",
        "import matplotlib.pyplot as plt\n",
        "\n",
        "\n",
        "\n",
        "from tensorflow.keras import Model\n",
        "from tensorflow.keras.layers import Input, LSTM, Dense, Dropout, BatchNormalization, LayerNormalization, Bidirectional\n",
        "from tensorflow.keras.callbacks import EarlyStopping, ReduceLROnPlateau, ModelCheckpoint\n",
        "\n",
        "from sklearn.metrics import r2_score\n",
        "from tensorflow.keras.models import load_model"
      ]
    },
    {
      "cell_type": "code",
      "execution_count": 3,
      "metadata": {},
      "outputs": [],
      "source": [
        "from sklearn.preprocessing import MinMaxScaler, StandardScaler\n",
        "from sklearn.metrics import mean_squared_error, mean_absolute_error\n",
        "import joblib\n",
        "import os\n",
        "from sklearn.model_selection import train_test_split\n",
        "import numpy as np\n",
        "from sklearn.preprocessing import MinMaxScaler\n",
        "from scaler3d2d import preprocess_and_save_scalers,transform_data, inverse_transform_data"
      ]
    },
    {
      "cell_type": "code",
      "execution_count": 4,
      "metadata": {},
      "outputs": [],
      "source": [
        "import MetaTrader5 as mt5\n",
        "import numpy as np\n",
        "import pandas as pd\n"
      ]
    },
    {
      "cell_type": "code",
      "execution_count": 5,
      "metadata": {},
      "outputs": [
        {
          "name": "stdout",
          "output_type": "stream",
          "text": [
            "MetaTrader5 package author:  MetaQuotes Ltd.\n",
            "MetaTrader5 package version:  5.0.4200\n",
            "True\n",
            "{'login': 40834668, 'trade_mode': 0, 'leverage': 1000, 'limit_orders': 50, 'margin_so_mode': 0, 'trade_allowed': True, 'trade_expert': True, 'margin_mode': 2, 'currency_digits': 2, 'fifo_close': False, 'balance': 10000.0, 'credit': 0.0, 'profit': 0.0, 'equity': 10000.0, 'margin': 0.0, 'margin_free': 10000.0, 'margin_level': 0.0, 'margin_so_call': 100.0, 'margin_so_so': 50.0, 'margin_initial': 0.0, 'margin_maintenance': 0.0, 'assets': 0.0, 'liabilities': 0.0, 'commission_blocked': 0.0, 'name': 'Demo Standard', 'server': 'Deriv-Demo', 'currency': 'USD', 'company': 'Deriv.com Limited'}\n",
            "\n",
            "\n",
            "{'community_account': False, 'community_connection': False, 'connected': True, 'dlls_allowed': False, 'trade_allowed': True, 'tradeapi_disabled': False, 'email_enabled': False, 'ftp_enabled': False, 'notifications_enabled': False, 'mqid': True, 'build': 5328, 'maxbars': 100000000, 'codepage': 0, 'ping_last': 250411, 'community_balance': 0.0, 'retransmission': 0.29927254220139027, 'company': 'MetaQuotes Software Corp.', 'name': 'MetaTrader 5', 'language': 'English', 'path': 'C:\\\\Program Files\\\\MetaTrader 5', 'data_path': 'C:\\\\Program Files\\\\MetaTrader 5', 'commondata_path': 'C:\\\\Users\\\\omage\\\\AppData\\\\Roaming\\\\MetaQuotes\\\\Terminal\\\\Common'}\n",
            "\n",
            "\n",
            "790\n"
          ]
        }
      ],
      "source": [
        "print(\"MetaTrader5 package author: \",mt5.__author__)\n",
        "print(\"MetaTrader5 package version: \",mt5.__version__)\n",
        "\n",
        "trade_active = mt5.initialize()\n",
        "\n",
        "print(trade_active)\n",
        "\n",
        "if not trade_active:\n",
        "    print('Initialization failed, check internet connection. You must have Meta Trader 5 installed.')\n",
        "    mt5.shutdown()\n",
        "\n",
        "else:\n",
        "    print(mt5.account_info()._asdict())\n",
        "    print(\"\\n\")\n",
        "    print(mt5.terminal_info()._asdict())\n",
        "    print(\"\\n\")\n",
        "    print(mt5.symbols_total())"
      ]
    },
    {
      "cell_type": "code",
      "execution_count": 6,
      "metadata": {},
      "outputs": [
        {
          "name": "stdout",
          "output_type": "stream",
          "text": [
            "10000.0\n",
            "AI is successfully functional\n"
          ]
        }
      ],
      "source": [
        "account = mt5.account_info()\n",
        "terminal = mt5.terminal_info()\n",
        "\n",
        "print(account.equity)\n",
        "\n",
        "if(terminal.connected == True or terminal.trade_allowed == True):\n",
        "    print(\"AI is successfully functional\")\n",
        "else:\n",
        "    print(\"Please make sure metatrade 5 has internet and algo Trade is Turn On\")"
      ]
    },
    {
      "cell_type": "code",
      "execution_count": 7,
      "metadata": {},
      "outputs": [
        {
          "name": "stdout",
          "output_type": "stream",
          "text": [
            "790\n",
            "Yes  AUDUSD\n",
            "Yes  EURUSD\n",
            "Yes  GBPUSD\n",
            "Yes  NZDUSD\n",
            "Yes  USDCAD\n",
            "Yes  USDCHF\n",
            "Yes  USDJPY\n",
            "Yes  XAGUSD\n",
            "Yes  XAUUSD\n",
            "Yes  XPDUSD\n",
            "Yes  XPTUSD\n",
            "Yes  AAVUSD\n",
            "Yes  ADAUSD\n",
            "Yes  ALGUSD\n",
            "Yes  APEUSD\n",
            "Yes  AVAUSD\n",
            "Yes  BATUSD\n",
            "Yes  BCHUSD\n",
            "Yes  BNBUSD\n",
            "Yes  BTCUSD\n",
            "Yes  DOGUSD\n",
            "Yes  DOTUSD\n",
            "Yes  DSHUSD\n",
            "Yes  ETCUSD\n",
            "Yes  ETHUSD\n",
            "Yes  FILUSD\n",
            "Yes  IOTUSD\n",
            "Yes  LNKUSD\n",
            "Yes  LTCUSD\n",
            "Yes  USDCNH\n",
            "Yes  USDMXN\n",
            "Yes  USDNOK\n",
            "Yes  USDPLN\n",
            "Yes  USDSEK\n",
            "Yes  USDZAR\n",
            "Yes  USDHKD\n",
            "Yes  USDSGD\n",
            "Yes  USDTHB\n",
            "Yes  AUDUSDmicro\n",
            "Yes  EURUSDmicro\n",
            "Yes  GBPUSDmicro\n",
            "Yes  NZDUSDmicro\n",
            "Yes  USDCADmicro\n",
            "Yes  USDCHFmicro\n",
            "Yes  USDJPYmicro\n",
            "Yes  BCHUSD.conv\n",
            "Yes  ETHUSD.conv\n",
            "Yes  BTCUSD.conv\n",
            "Yes  NEOUSD\n",
            "Yes  SHBUSD\n",
            "Yes  SOLUSD\n",
            "Yes  TRXUSD\n",
            "Yes  UNIUSD\n",
            "Yes  XLMUSD\n",
            "Yes  XMRUSD\n",
            "Yes  XRPUSD\n",
            "Yes  XTZUSD\n",
            "Yes  ZECUSD\n",
            "Yes  LTCUSD.conv\n",
            "Yes  XALUSD\n",
            "Yes  XCUUSD\n",
            "Yes  XNIUSD\n",
            "Yes  XPBUSD\n",
            "Yes  XZNUSD\n",
            "Yes  USD Basket\n",
            "Yes  AUDUSD DFX 10 Index\n",
            "Yes  EURUSD DFX 10 Index\n",
            "Yes  GBPUSD DFX 10 Index\n",
            "Yes  USDCHF DFX 10 Index\n",
            "Yes  USDJPY DFX 10 Index\n",
            "Yes  AUDUSD DFX 20 Index\n",
            "Yes  EURUSD DFX 20 Index\n",
            "Yes  GBPUSD DFX 20 Index\n",
            "Yes  USDCHF DFX 20 Index\n",
            "Yes  USDJPY DFX 20 Index\n",
            "Yes  NERUSD\n",
            "Yes  TONUSD\n",
            "Yes  FETUSD\n",
            "Yes  APTUSD\n",
            "Yes  COMUSD\n",
            "Yes  IMXUSD\n",
            "Yes  SANUSD\n",
            "Yes  TRUUSD\n",
            "Yes  MLNUSD\n",
            "Yes  EURUSD RSI Rebound Index\n",
            "Yes  GBPUSD RSI Rebound Index\n",
            "Yes  USDJPY RSI Rebound Index\n",
            "Yes  EURUSD RSI Pullback Index\n",
            "Yes  GBPUSD RSI Pullback Index\n",
            "Yes  USDJPY RSI Pullback Index\n",
            "Yes  EURUSD RSI Trend Up Index\n",
            "Yes  GBPUSD RSI Trend Up Index\n",
            "Yes  USDJPY RSI Trend Up Index\n",
            "Yes  EURUSD RSI Trend Down Index\n",
            "Yes  GBPUSD RSI Trend Down Index\n",
            "Yes  USDJPY RSI Trend Down Index\n",
            "Yes  XAUUSDmicro\n",
            "Yes  EURUSD.s\n",
            "Yes  XAUUSD.s\n",
            "99\n"
          ]
        }
      ],
      "source": [
        "symbols = mt5.symbols_get()\n",
        "print(len(symbols))\n",
        "t_symbol = []\n",
        "for symbol in symbols:\n",
        "    if \"USD\" in symbol.name:\n",
        "        print(\"Yes \", symbol.name)\n",
        "        t_symbol.append(symbol.name)\n",
        "\n",
        "print(len(t_symbol))"
      ]
    },
    {
      "cell_type": "code",
      "execution_count": 12,
      "metadata": {},
      "outputs": [],
      "source": [
        "market = mt5.copy_rates_from_pos(\"GBPUSD\", mt5.TIMEFRAME_M15, 0, 10000000)\n",
        "display(market)\n",
        "print(market.shape)\n",
        "print(\"GBPUSD\")\n",
        "t_s = \"GBPUSD\"\n",
        "\n",
        "data = []\n",
        "for i in range(len(market)):\n",
        "    data.append([market[i][1],market[i][2],market[i][3],market[i][4],market[i][5]])\n",
        "df = pd.DataFrame(data, columns=[\"open\", \"high\",\"low\", \"close\",\"tick_volume\"])\n",
        "df.to_csv(\"Generated\"+t_s+\" dbot.csv\", index=False)"
      ]
    }
  ],
  "metadata": {
    "accelerator": "GPU",
    "colab": {
      "gpuType": "T4",
      "provenance": []
    },
    "kernelspec": {
      "display_name": "Python 3",
      "name": "python3"
    },
    "language_info": {
      "codemirror_mode": {
        "name": "ipython",
        "version": 3
      },
      "file_extension": ".py",
      "mimetype": "text/x-python",
      "name": "python",
      "nbconvert_exporter": "python",
      "pygments_lexer": "ipython3",
      "version": "3.10.13"
    }
  },
  "nbformat": 4,
  "nbformat_minor": 0
}
