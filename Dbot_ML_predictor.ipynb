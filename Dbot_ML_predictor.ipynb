{
 "cells": [
  {
   "cell_type": "code",
   "execution_count": 29,
   "metadata": {},
   "outputs": [
    {
     "name": "stdout",
     "output_type": "stream",
     "text": [
      "MetaTrader5 package author:  MetaQuotes Ltd.\n",
      "MetaTrader5 package version:  5.0.45\n"
     ]
    }
   ],
   "source": [
    "import MetaTrader5 as mt5\n",
    "import numpy as np\n",
    "import joblib\n",
    "import matplotlib.pyplot as plt\n",
    "from datetime import datetime, timezone\n",
    "\n",
    "print(\"MetaTrader5 package author: \",mt5.__author__)\n",
    "print(\"MetaTrader5 package version: \",mt5.__version__)\n",
    "\n"
   ]
  },
  {
   "cell_type": "code",
   "execution_count": 32,
   "metadata": {},
   "outputs": [
    {
     "name": "stdout",
     "output_type": "stream",
     "text": [
      "{'login': 75525372, 'trade_mode': 0, 'leverage': 100, 'limit_orders': 200, 'margin_so_mode': 0, 'trade_allowed': True, 'trade_expert': True, 'margin_mode': 2, 'currency_digits': 2, 'fifo_close': False, 'balance': 77.57, 'credit': 0.0, 'profit': -2.33, 'equity': 75.24, 'margin': 20.9, 'margin_free': 54.34, 'margin_level': 360.0, 'margin_so_call': 50.0, 'margin_so_so': 30.0, 'margin_initial': 0.0, 'margin_maintenance': 0.0, 'assets': 0.0, 'liabilities': 0.0, 'commission_blocked': 0.0, 'name': 'mike bright', 'server': 'MetaQuotes-Demo', 'currency': 'USD', 'company': 'MetaQuotes Software Corp.'}\n",
      "\n",
      "\n",
      "{'community_account': True, 'community_connection': True, 'connected': True, 'dlls_allowed': False, 'trade_allowed': True, 'tradeapi_disabled': False, 'email_enabled': False, 'ftp_enabled': False, 'notifications_enabled': False, 'mqid': False, 'build': 4073, 'maxbars': 100000, 'codepage': 0, 'ping_last': 132010, 'community_balance': 0.0, 'retransmission': 0.22843064558566747, 'company': 'MetaQuotes Software Corp.', 'name': 'MetaTrader 5', 'language': 'English', 'path': 'C:\\\\Program Files\\\\MetaTrader 5', 'data_path': 'C:\\\\Users\\\\Omage Micheal\\\\AppData\\\\Roaming\\\\MetaQuotes\\\\Terminal\\\\D0E8209F77C8CF37AD8BF550E51FF075', 'commondata_path': 'C:\\\\Users\\\\Omage Micheal\\\\AppData\\\\Roaming\\\\MetaQuotes\\\\Terminal\\\\Common'}\n",
      "\n",
      "\n",
      "139\n"
     ]
    }
   ],
   "source": [
    "if not mt5.initialize():\n",
    "    print('Initialization failed, check internet connection. You must have Meta Trader 5 installed.')\n",
    "    mt5.shutdown()\n",
    "\n",
    "else:\n",
    "    print(mt5.account_info()._asdict())\n",
    "    print(\"\\n\")\n",
    "    print(mt5.terminal_info()._asdict())\n",
    "    print(\"\\n\")\n",
    "    print(mt5.symbols_total())\n",
    "    \n",
    "    \n",
    "# you code here"
   ]
  },
  {
   "cell_type": "code",
   "execution_count": 33,
   "metadata": {},
   "outputs": [
    {
     "name": "stdout",
     "output_type": "stream",
     "text": [
      "75.33\n",
      "AI is successfully functional\n"
     ]
    }
   ],
   "source": [
    "account = mt5.account_info()\n",
    "terminal = mt5.terminal_info()\n",
    "\n",
    "print(account.equity)\n",
    "\n",
    "if(terminal.connected == True and terminal.trade_allowed == True):\n",
    "    print(\"AI is successfully functional\")\n",
    "else:\n",
    "    print(\"Please make sure metatrade 5 has internet and algo Trade is Turn On\")\n",
    "    mt5.shutdown()"
   ]
  },
  {
   "cell_type": "code",
   "execution_count": 34,
   "metadata": {},
   "outputs": [],
   "source": [
    "#rates = mt5.copy_rates_from_pos(\"GBPUSD\", mt5.TIMEFRAME_H1, 0, 99999)  \n",
    "target_market = [\"GBPUSD\",\"USDCAD\",\"AUDUSD\",\"USDCHF\",\"NZDUSD\",\"EURUSD\",\"XAUUSD\"]"
   ]
  },
  {
   "cell_type": "code",
   "execution_count": 60,
   "metadata": {},
   "outputs": [],
   "source": [
    "n = 4"
   ]
  },
  {
   "cell_type": "code",
   "execution_count": 61,
   "metadata": {},
   "outputs": [],
   "source": [
    "model = joblib.load(target_market[n]+\" regressor.joblib\")\n",
    "sc_x = joblib.load(target_market[n]+\" sc_x.joblib\")\n",
    "sc_y = joblib.load(target_market[n]+\" sc_y.joblib\")"
   ]
  },
  {
   "cell_type": "code",
   "execution_count": 62,
   "metadata": {},
   "outputs": [
    {
     "name": "stdout",
     "output_type": "stream",
     "text": [
      "1698271200\n",
      "(500,)\n",
      "[[1.6982712e+09 5.8069000e-01 9.1300000e+02]\n",
      " [1.6982748e+09 5.8046000e-01 7.2900000e+02]\n",
      " [1.6982784e+09 5.8007000e-01 4.4800000e+02]\n",
      " ...\n",
      " [1.7007552e+09 6.0440000e-01 1.5040000e+03]\n",
      " [1.7007588e+09 6.0431000e-01 1.2870000e+03]\n",
      " [1.7007624e+09 6.0450000e-01 4.4200000e+02]]\n",
      "[0.60425]\n"
     ]
    }
   ],
   "source": [
    "#dtype=[('time', '<i8'), ('open', '<f8'), ('high', '<f8'), ('low', '<f8'), ('close', '<f8'), ('tick_volume', '<u8'), ('spread', '<i4'), ('real_volume', '<u8')])]\n",
    "rates = mt5.copy_rates_from_pos(target_market[n], mt5.TIMEFRAME_H1, 0, 500)\n",
    "print(rates[0][0])\n",
    "print(rates.shape)\n",
    "data = []\n",
    "close_price = []\n",
    "open_price = []\n",
    "\n",
    "for i in range(len(rates)):\n",
    "    data.append([rates[i][0],rates[i][1],rates[i][5]])\n",
    "    open_price.append(rates[i][1])\n",
    "    close_price.append(rates[i][4])\n",
    "data = np.array(data)\n",
    "close_price = np.array(close_price)\n",
    "print(data)\n",
    "print(close_price[-1:])"
   ]
  },
  {
   "cell_type": "code",
   "execution_count": 63,
   "metadata": {},
   "outputs": [
    {
     "name": "stderr",
     "output_type": "stream",
     "text": [
      "[Parallel(n_jobs=10)]: Using backend ThreadingBackend with 10 concurrent workers.\n",
      "[Parallel(n_jobs=10)]: Done  30 tasks      | elapsed:    0.7s\n",
      "[Parallel(n_jobs=10)]: Done 180 tasks      | elapsed:    0.9s\n"
     ]
    },
    {
     "name": "stdout",
     "output_type": "stream",
     "text": [
      "[-1.73145614 -1.73498551 -1.73887279 -1.74639263 -1.75133837 -1.75592403\n",
      " -1.75535322 -1.75782239 -1.76725626 -1.76096643 -1.75494046 -1.74950794\n",
      " -1.74431489 -1.73718735 -1.73279283 -1.73588375 -1.74451953 -1.72713956\n",
      " -1.71513594 -1.71542635 -1.7174009  -1.72347999 -1.71338692 -1.7092863\n",
      " -1.7112787  -1.71181991 -1.71154996 -1.71096434 -1.7082274  -1.70626286\n",
      " -1.70482821 -1.70351547 -1.70732394 -1.70823828 -1.70876904 -1.71541024\n",
      " -1.71633808 -1.70647011 -1.70062831 -1.70527798 -1.71050151 -1.70496101\n",
      " -1.70093963 -1.7021679  -1.70724382 -1.71374352 -1.72281644 -1.72132736\n",
      " -1.72244678 -1.72678775 -1.72878364 -1.72746959 -1.71961275 -1.70958411\n",
      " -1.70619668 -1.70512211 -1.70357991 -1.70598812 -1.69883707 -1.70088172\n",
      " -1.70524881 -1.69739588 -1.69730576 -1.69701795 -1.69416868 -1.69203869\n",
      " -1.69424357 -1.69509347 -1.69637399 -1.69540087 -1.68843616 -1.68316431\n",
      " -1.6831347  -1.68506005 -1.6879951  -1.68988431 -1.68858943 -1.69176438\n",
      " -1.69314243 -1.69451569 -1.70285409 -1.70140943 -1.69787396 -1.68453975\n",
      " -1.67529092 -1.67169231 -1.67210464 -1.67412491 -1.69150271 -1.70716458\n",
      " -1.71097044 -1.71382711 -1.72255041 -1.71656754 -1.71029077 -1.70665734\n",
      " -1.71017191 -1.72291092 -1.73167906 -1.72784883 -1.73436942 -1.74488309\n",
      " -1.744577   -1.7343716  -1.72968057 -1.7286504  -1.72379827 -1.71814762\n",
      " -1.71946036 -1.71257272 -1.70902506 -1.70903159 -1.702666   -1.70259155\n",
      " -1.69040549 -1.68975544 -1.70201986 -1.69977667 -1.68796288 -1.67757809\n",
      " -1.6768083  -1.68181238 -1.6681686  -1.64314382 -1.62201286 -1.61752255\n",
      " -1.61804459 -1.62036181 -1.62654322 -1.63113672 -1.6297295  -1.628496\n",
      " -1.62606776 -1.61180571 -1.59725324 -1.60635577 -1.59390804 -1.60093849\n",
      " -1.61577049 -1.6251003  -1.62919526 -1.62040665 -1.61436892 -1.61354253\n",
      " -1.61152574 -1.6121623  -1.61260598 -1.61460186 -1.62006573 -1.6197357\n",
      " -1.61618107 -1.61508777 -1.61020081 -1.60605404 -1.59870923 -1.59815191\n",
      " -1.59405042 -1.58834403 -1.58196276 -1.57725127 -1.53854701 -1.51090459\n",
      " -1.49943782 -1.49174121 -1.48575355 -1.48602959 -1.48363967 -1.48795016\n",
      " -1.48336058 -1.48289426 -1.48449349 -1.48776511 -1.49251144 -1.49455043\n",
      " -1.49435798 -1.4865769  -1.48216278 -1.47907273 -1.48677457 -1.48707108\n",
      " -1.49320721 -1.50318534 -1.50493087 -1.51237538 -1.5141466  -1.5105898\n",
      " -1.50611298 -1.50908287 -1.50352713 -1.50541373 -1.51277203 -1.52233609\n",
      " -1.52449656 -1.52387437 -1.52609144 -1.53197243 -1.53907428 -1.54240207\n",
      " -1.53837633 -1.55474965 -1.56447307 -1.57003099 -1.58280135 -1.57602126\n",
      " -1.57816518 -1.5788627  -1.58262066 -1.58863488 -1.58381236 -1.57726956\n",
      " -1.57270741 -1.57205082 -1.57415251 -1.56496333 -1.56116706 -1.56182669\n",
      " -1.56284336 -1.56362403 -1.56243626 -1.56874002 -1.57118088 -1.56260301\n",
      " -1.56095806 -1.55845406 -1.56289125 -1.56669058 -1.56178402 -1.56058753\n",
      " -1.57376544 -1.57295123 -1.56980762 -1.5743049  -1.57456092 -1.57213921\n",
      " -1.5788431  -1.5758188  -1.57864978 -1.58029648 -1.58863662 -1.59404084\n",
      " -1.59476927 -1.59631277 -1.59459249 -1.5923284  -1.5858065  -1.58126438\n",
      " -1.58038661 -1.57227636 -1.57469589 -1.56811957 -1.56713077 -1.56855149\n",
      " -1.56676111 -1.56736327 -1.57070934 -1.57177695 -1.5647661  -1.54838015\n",
      " -1.5441624  -1.5497656  -1.55038822 -1.56643369 -1.59031989 -1.60600614\n",
      " -1.61293209 -1.6168542  -1.62056688 -1.61858885 -1.61520403 -1.61580227\n",
      " -1.6169378  -1.61518487 -1.61653201 -1.6106815  -1.61342628 -1.61993773\n",
      " -1.61982626 -1.6160056  -1.61841686 -1.61494017 -1.60759406 -1.62187832\n",
      " -1.62354721 -1.62802446 -1.6248704  -1.62020027 -1.62121171 -1.62065483\n",
      " -1.62091216 -1.62943125 -1.61698091 -1.6188884  -1.61980667 -1.6200666\n",
      " -1.61832238 -1.61745114 -1.61677104 -1.61498415 -1.61748728 -1.623643\n",
      " -1.62657762 -1.62480814 -1.62691462 -1.6304514  -1.63256049 -1.64062763\n",
      " -1.6380901  -1.62473238 -1.62481859 -1.61863152 -1.6266721  -1.63011831\n",
      " -1.63636417 -1.63928006 -1.6353758  -1.63380618 -1.63562137 -1.6391059\n",
      " -1.64084446 -1.64467949 -1.65062013 -1.64493246 -1.64743036 -1.64935876\n",
      " -1.63935059 -1.64173965 -1.64984946 -1.6424794  -1.58902848 -1.5327248\n",
      " -1.50893831 -1.50162616 -1.49196065 -1.48420961 -1.47017353 -1.46291841\n",
      " -1.46281348 -1.4722578  -1.47110137 -1.47253429 -1.46993101 -1.45709011\n",
      " -1.44708891 -1.44450001 -1.44516791 -1.44266435 -1.43645071 -1.42918863\n",
      " -1.42780448 -1.42578291 -1.42351403 -1.42574764 -1.4328926  -1.4590294\n",
      " -1.4470667  -1.43770946 -1.44261689 -1.44680242 -1.44694827 -1.44730443\n",
      " -1.4476754  -1.44996605 -1.44347986 -1.4600613  -1.47786666 -1.5029524\n",
      " -1.50312873 -1.50269986 -1.49764701 -1.49492052 -1.4991461  -1.49255236\n",
      " -1.47986821 -1.4832822  -1.48945534 -1.50240509 -1.47374906 -1.46764907\n",
      " -1.48626166 -1.50186563 -1.50277823 -1.4943828  -1.50168973 -1.51279598\n",
      " -1.51709428 -1.51633232 -1.52131594 -1.52564298 -1.53025738 -1.53328821\n",
      " -1.53163499 -1.53029656 -1.53056912 -1.53312712 -1.53891405 -1.52849791\n",
      " -1.51520898 -1.4931628  -1.49823306 -1.49971474 -1.50873193 -1.51055758\n",
      " -1.5053175  -1.51139529 -1.50895486 -1.50092255 -1.49552442 -1.49411894\n",
      " -1.49430399 -1.49893363 -1.48550232 -1.48332487 -1.46981998 -1.45346974\n",
      " -1.44505776 -1.44074596 -1.44254418 -1.44500943 -1.4412519  -1.43951551\n",
      " -1.43064418 -1.4326183  -1.44623857 -1.44543699 -1.44718818 -1.45572121\n",
      " -1.45466448 -1.44448215 -1.44415255 -1.44107513 -1.43311988 -1.42845672\n",
      " -1.4283679  -1.43139917 -1.42916164 -1.42254351 -1.41602989 -1.39786096\n",
      " -1.38273768 -1.39032153 -1.39484449 -1.40310017 -1.39428108 -1.37825782\n",
      " -1.39260043 -1.39200523 -1.38690013 -1.38230054 -1.38858253 -1.38177196\n",
      " -1.39244368 -1.39919504 -1.40262079 -1.41771707 -1.41903896 -1.41113727\n",
      " -1.41290282 -1.4144337  -1.40954413 -1.40626685 -1.40821049 -1.41240255\n",
      " -1.41367349 -1.41707616 -1.42814105 -1.44274403 -1.44191415 -1.44548924\n",
      " -1.44629822 -1.43549283 -1.4321916  -1.42911374 -1.44042551 -1.45164975\n",
      " -1.47220207 -1.46266675 -1.45508944 -1.4509444  -1.44690038 -1.44951062\n",
      " -1.44775595 -1.45012497 -1.4494932  -1.44227292 -1.43011038 -1.41828919\n",
      " -1.41053162 -1.41176512 -1.40455398 -1.39953988 -1.40023173 -1.40349725\n",
      " -1.41044759 -1.41492483 -1.41152913 -1.40781993 -1.41806888 -1.41681448\n",
      " -1.42111147 -1.41935767]\n"
     ]
    },
    {
     "name": "stderr",
     "output_type": "stream",
     "text": [
      "[Parallel(n_jobs=10)]: Done 300 out of 300 | elapsed:    1.1s finished\n"
     ]
    }
   ],
   "source": [
    "data = sc_x.transform(data)\n",
    "y_pred = model.predict(data)\n",
    "print(y_pred)"
   ]
  },
  {
   "cell_type": "code",
   "execution_count": 64,
   "metadata": {},
   "outputs": [
    {
     "name": "stdout",
     "output_type": "stream",
     "text": [
      "[0.58051083 0.58024063 0.57994303 0.57936733 0.5789887  0.57863763\n",
      " 0.57868133 0.5784923  0.57777007 0.5782516  0.57871293 0.57912883\n",
      " 0.5795264  0.58007207 0.5804085  0.58017187 0.57951073 0.5808413\n",
      " 0.58176027 0.58173803 0.58158687 0.58112147 0.58189417 0.5822081\n",
      " 0.58205557 0.58201413 0.5820348  0.58207963 0.58228917 0.58243957\n",
      " 0.5825494  0.5826499  0.58235833 0.58228833 0.5822477  0.58173927\n",
      " 0.58166823 0.5824237  0.58287093 0.58251497 0.58211507 0.58253923\n",
      " 0.5828471  0.58275307 0.58236447 0.58186687 0.58117227 0.58128627\n",
      " 0.58120057 0.58086823 0.58071543 0.58081603 0.58141753 0.5821853\n",
      " 0.58244463 0.5825269  0.58264497 0.5824606  0.58300807 0.58285153\n",
      " 0.5825172  0.5831184  0.5831253  0.58314733 0.58336547 0.58352853\n",
      " 0.58335973 0.58329467 0.58319663 0.58327113 0.58380433 0.58420793\n",
      " 0.5842102  0.5840628  0.5838381  0.58369347 0.5837926  0.58354953\n",
      " 0.58344403 0.5833389  0.58270053 0.58281113 0.5830818  0.58410263\n",
      " 0.5848107  0.5850862  0.58505463 0.58489997 0.58356957 0.58237053\n",
      " 0.58207917 0.58186047 0.58119263 0.58165067 0.5821312  0.58240937\n",
      " 0.5821403  0.58116503 0.58049377 0.580787   0.5802878  0.5794829\n",
      " 0.57950633 0.58028763 0.58064677 0.58072563 0.5810971  0.5815297\n",
      " 0.5814292  0.5819565  0.5822281  0.5822276  0.58271493 0.58272063\n",
      " 0.58365357 0.58370333 0.5827644  0.58293613 0.58384057 0.5846356\n",
      " 0.58469453 0.58431143 0.58535597 0.5872718  0.58888953 0.5892333\n",
      " 0.58919333 0.58901593 0.5885427  0.58819103 0.58829877 0.5883932\n",
      " 0.5885791  0.58967097 0.59078507 0.5900882  0.59104117 0.59050293\n",
      " 0.58936743 0.58865317 0.58833967 0.5890125  0.58947473 0.589538\n",
      " 0.5896924  0.58964367 0.5896097  0.5894569  0.5890386  0.58906387\n",
      " 0.589336   0.5894197  0.58979383 0.5901113  0.5906736  0.59071627\n",
      " 0.59103027 0.59146713 0.59195567 0.59231637 0.59527947 0.5973957\n",
      " 0.59827357 0.5988628  0.5993212  0.59930007 0.59948303 0.59915303\n",
      " 0.5995044  0.5995401  0.59941767 0.5991672  0.59880383 0.59864773\n",
      " 0.59866247 0.59925817 0.5995961  0.59983267 0.59924303 0.59922033\n",
      " 0.59875057 0.59798667 0.59785303 0.5972831  0.5971475  0.5974198\n",
      " 0.59776253 0.59753517 0.5979605  0.59781607 0.59725273 0.59652053\n",
      " 0.59635513 0.59640277 0.59623303 0.5957828  0.5952391  0.59498433\n",
      " 0.59529253 0.59403903 0.59329463 0.59286913 0.59189147 0.59241053\n",
      " 0.5922464  0.592193   0.5919053  0.59144487 0.59181407 0.59231497\n",
      " 0.59266423 0.5927145  0.5925536  0.5932571  0.59354773 0.59349723\n",
      " 0.5934194  0.59335963 0.59345057 0.59296797 0.5927811  0.5934378\n",
      " 0.59356373 0.59375543 0.59341573 0.59312487 0.5935005  0.5935921\n",
      " 0.59258323 0.59264557 0.59288623 0.59254193 0.59252233 0.59270773\n",
      " 0.5921945  0.59242603 0.5922093  0.59208323 0.59144473 0.591031\n",
      " 0.59097523 0.59085707 0.59098877 0.5911621  0.5916614  0.59200913\n",
      " 0.59207633 0.59269723 0.592512   0.59301547 0.59309117 0.5929824\n",
      " 0.59311947 0.59307337 0.5928172  0.59273547 0.5932722  0.59452667\n",
      " 0.59484957 0.5944206  0.59437293 0.59314453 0.59131587 0.59011497\n",
      " 0.58958473 0.58928447 0.58900023 0.58915167 0.5894108  0.589365\n",
      " 0.58927807 0.58941227 0.58930913 0.58975703 0.5895469  0.5890484\n",
      " 0.58905693 0.58934943 0.58916483 0.589431   0.5899934  0.58889983\n",
      " 0.58877207 0.5884293  0.58867077 0.5890283  0.58895087 0.5889935\n",
      " 0.5889738  0.5883216  0.58927477 0.58912873 0.58905843 0.58903853\n",
      " 0.58917207 0.58923877 0.58929083 0.58942763 0.589236   0.58876473\n",
      " 0.58854007 0.58867553 0.58851427 0.5882435  0.58808203 0.58746443\n",
      " 0.5876587  0.58868133 0.58867473 0.5891484  0.58853283 0.588269\n",
      " 0.58779083 0.5875676  0.5878665  0.58798667 0.5878477  0.58758093\n",
      " 0.58744783 0.58715423 0.58669943 0.58713487 0.58694363 0.586796\n",
      " 0.5875622  0.5873793  0.58675843 0.58732267 0.59141473 0.5957252\n",
      " 0.59754623 0.59810603 0.598846   0.5994394  0.60051397 0.6010694\n",
      " 0.60107743 0.6003544  0.60044293 0.60033323 0.60053253 0.6015156\n",
      " 0.60228127 0.60247947 0.60242833 0.60262    0.6030957  0.60365167\n",
      " 0.60375763 0.6039124  0.6040861  0.6039151  0.6033681  0.60136713\n",
      " 0.60228297 0.60299933 0.60262363 0.6023032  0.60229203 0.60226477\n",
      " 0.60223637 0.602061   0.60255757 0.60128813 0.599925   0.5980045\n",
      " 0.597991   0.59802383 0.59841067 0.5986194  0.5982959  0.5988007\n",
      " 0.59977177 0.5995104  0.5990378  0.5980464  0.60024023 0.60070723\n",
      " 0.5992823  0.5980877  0.59801783 0.59866057 0.59810117 0.5972509\n",
      " 0.59692183 0.59698017 0.59659863 0.59626737 0.5959141  0.59568207\n",
      " 0.59580863 0.5959111  0.59589023 0.5956944  0.59525137 0.5960488\n",
      " 0.59706617 0.59875397 0.5983658  0.59825237 0.59756203 0.59742227\n",
      " 0.59782343 0.59735813 0.59754497 0.5981599  0.59857317 0.59868077\n",
      " 0.5986666  0.59831217 0.59934043 0.59950713 0.60054103 0.60179277\n",
      " 0.60243677 0.60276687 0.6026292  0.60244047 0.60272813 0.60286107\n",
      " 0.60354023 0.6033891  0.60234637 0.60240773 0.60227367 0.6016204\n",
      " 0.6017013  0.60248083 0.60250607 0.60274167 0.6033507  0.6037077\n",
      " 0.6037145  0.60348243 0.60365373 0.6041604  0.60465907 0.60605003\n",
      " 0.60720783 0.60662723 0.60628097 0.60564893 0.6063241  0.6075508\n",
      " 0.60645277 0.60649833 0.60688917 0.6072413  0.60676037 0.60728177\n",
      " 0.60646477 0.6059479  0.60568563 0.6045299  0.6044287  0.60503363\n",
      " 0.60489847 0.60478127 0.6051556  0.6054065  0.6052577  0.60493677\n",
      " 0.60483947 0.60457897 0.60373187 0.6026139  0.60267743 0.60240373\n",
      " 0.6023418  0.60316903 0.60342177 0.6036574  0.6027914  0.6019321\n",
      " 0.60035867 0.60108867 0.60166877 0.6019861  0.6022957  0.60209587\n",
      " 0.6022302  0.60204883 0.6020972  0.60264997 0.6035811  0.6044861\n",
      " 0.60508    0.60498557 0.60553763 0.6059215  0.60586853 0.60561853\n",
      " 0.60508643 0.60474367 0.60500363 0.6052876  0.60450297 0.604599\n",
      " 0.60427003 0.6044043 ]\n"
     ]
    }
   ],
   "source": [
    "y_pred = sc_y.inverse_transform(y_pred.reshape((len(y_pred),1)))\n",
    "y_pred = y_pred.reshape(-1)\n",
    "print(y_pred)\n"
   ]
  },
  {
   "cell_type": "code",
   "execution_count": 65,
   "metadata": {},
   "outputs": [
    {
     "name": "stderr",
     "output_type": "stream",
     "text": [
      "[Parallel(n_jobs=10)]: Using backend ThreadingBackend with 10 concurrent workers.\n",
      "[Parallel(n_jobs=10)]: Done  30 tasks      | elapsed:    0.0s\n",
      "[Parallel(n_jobs=10)]: Done 180 tasks      | elapsed:    0.0s\n",
      "[Parallel(n_jobs=10)]: Done 300 out of 300 | elapsed:    0.1s finished\n"
     ]
    },
    {
     "name": "stdout",
     "output_type": "stream",
     "text": [
      "0.9811223176708687\n"
     ]
    }
   ],
   "source": [
    "\n",
    "score = model.score(\n",
    "    data[-100:],\n",
    "    sc_y.transform(close_price[-100:].reshape((len(close_price[-100:]),1))).reshape(-1)\n",
    ")\n",
    "print(score)"
   ]
  },
  {
   "cell_type": "code",
   "execution_count": 66,
   "metadata": {},
   "outputs": [
    {
     "name": "stderr",
     "output_type": "stream",
     "text": [
      "[Parallel(n_jobs=10)]: Using backend ThreadingBackend with 10 concurrent workers.\n",
      "[Parallel(n_jobs=10)]: Done  30 tasks      | elapsed:    0.0s\n",
      "[Parallel(n_jobs=10)]: Done 180 tasks      | elapsed:    0.0s\n",
      "[Parallel(n_jobs=10)]: Done 300 out of 300 | elapsed:    0.0s finished\n"
     ]
    },
    {
     "data": {
      "image/png": "[encoded data removed]",
      "text/plain": [
       "<Figure size 1500x1000 with 1 Axes>"
      ]
     },
     "metadata": {},
     "output_type": "display_data"
    }
   ],
   "source": [
    "plt.figure(figsize=(15, 10))\n",
    "plt.title(target_market[n]+\" Prediction Compare on live result\")\n",
    "x_point = []\n",
    "for i in range(len(close_price[-100:])):\n",
    "  t = [i]\n",
    "  x_point.append(t)\n",
    "plt.scatter(x_point, close_price[-100:], label=\"close_price\")\n",
    "plt.scatter(x_point, y_pred[-100:], label=\"predicted_price\")\n",
    "#plt.plot(close_price[-100:], label=\"y_test\")\n",
    "\n",
    "y_pred = model.predict(data[-100:])\n",
    "y_pred = sc_y.inverse_transform(y_pred.reshape((len(y_pred),1)))\n",
    "y_pred = y_pred.reshape(-1)\n",
    "plt.plot(\n",
    "    y_pred,\n",
    "    label=\"y_pred\", color=\"red\"\n",
    ")\n",
    "\n",
    "\n",
    "\n",
    "plt.legend()\n",
    "\n",
    "plt.show()"
   ]
  },
  {
   "cell_type": "code",
   "execution_count": 19,
   "metadata": {},
   "outputs": [],
   "source": [
    "data = sc_x.inverse_transform(data)\n"
   ]
  },
  {
   "cell_type": "code",
   "execution_count": 20,
   "metadata": {},
   "outputs": [
    {
     "name": "stdout",
     "output_type": "stream",
     "text": [
      "[1.2532]\n",
      "[[1.7007588e+09 1.2532300e+00 5.3000000e+02]]\n"
     ]
    },
    {
     "name": "stderr",
     "output_type": "stream",
     "text": [
      "[Parallel(n_jobs=10)]: Using backend ThreadingBackend with 10 concurrent workers.\n",
      "[Parallel(n_jobs=10)]: Done  30 tasks      | elapsed:    0.3s\n",
      "[Parallel(n_jobs=10)]: Done 180 tasks      | elapsed:    0.4s\n"
     ]
    },
    {
     "name": "stdout",
     "output_type": "stream",
     "text": [
      "[1.25341337]\n"
     ]
    },
    {
     "name": "stderr",
     "output_type": "stream",
     "text": [
      "[Parallel(n_jobs=10)]: Done 300 out of 300 | elapsed:    0.6s finished\n"
     ]
    }
   ],
   "source": [
    "# creating an assumption on the system\n",
    "print(close_price[-1:])\n",
    "print(data[-1:,:])\n",
    "y_pred = model.predict(sc_x.transform(data[-1:,:]))\n",
    "y_pred = sc_y.inverse_transform(y_pred.reshape((len(y_pred),1)))\n",
    "y_pred = y_pred.reshape(-1)\n",
    "print(y_pred)\n",
    "\n"
   ]
  },
  {
   "cell_type": "code",
   "execution_count": 21,
   "metadata": {},
   "outputs": [
    {
     "name": "stdout",
     "output_type": "stream",
     "text": [
      "Year: 2023\n",
      "Month: 11\n",
      "Day: 23\n",
      "Hour: 18\n",
      "Minutes: 0\n"
     ]
    }
   ],
   "source": [
    "# set time zone to UTC\n",
    "# Convert Unix epoch time to UTC time\n",
    "utc_time = datetime.fromtimestamp(int(data[-1,0]))\n",
    "\n",
    "\n",
    "# Extract the hour and minutes from the UTC datetime object\n",
    "year = utc_time.year\n",
    "month = utc_time.month\n",
    "day = utc_time.day\n",
    "hour = utc_time.hour\n",
    "minutes = utc_time.minute\n",
    "\n",
    "# Print the hour and minutes\n",
    "# Print the results\n",
    "print(\"Year:\", year)\n",
    "print(\"Month:\", month)\n",
    "print(\"Day:\", day)\n",
    "print(\"Hour:\", hour)\n",
    "print(\"Minutes:\", minutes)"
   ]
  },
  {
   "cell_type": "code",
   "execution_count": 51,
   "metadata": {},
   "outputs": [
    {
     "name": "stdout",
     "output_type": "stream",
     "text": [
      "1698271200\n"
     ]
    }
   ],
   "source": [
    "chart1H = mt5.copy_rates_from_pos(target_market[n], mt5.TIMEFRAME_H1, 0, 5)\n",
    "print(chart1H[-1][0])"
   ]
  },
  {
   "cell_type": "code",
   "execution_count": 52,
   "metadata": {},
   "outputs": [
    {
     "name": "stdout",
     "output_type": "stream",
     "text": [
      "23\n",
      "23\n",
      "22\n",
      "21 The only time to trade\n"
     ]
    }
   ],
   "source": [
    "utc_time1H = datetime.fromtimestamp(int(chart1H[-1][0]))\n",
    "h = utc_time1H.hour\n",
    "print(h)\n",
    "\n",
    "for i in range(1,len(chart1H)):\n",
    "    utc_time1H = datetime.fromtimestamp(int(chart1H[i * -1][0]))\n",
    "    h = utc_time1H.hour\n",
    "    if(hour == h):\n",
    "        print(h, \"The only time to trade\")\n",
    "        break\n",
    "    print(h)"
   ]
  },
  {
   "cell_type": "code",
   "execution_count": 22,
   "metadata": {},
   "outputs": [
    {
     "name": "stdout",
     "output_type": "stream",
     "text": [
      "AI is functional\n",
      "4\n"
     ]
    }
   ],
   "source": [
    "#trade operation\n",
    "if(terminal.connected == True and terminal.trade_allowed == True):\n",
    "    print(\"AI is functional\")\n",
    "    total_order = mt5.positions_total()\n",
    "    print(total_order)\n",
    "    \n",
    "    \n",
    "else:\n",
    "    print(\"Please make sure metatrade 5 has internet and algo Trade is Turn On\")"
   ]
  },
  {
   "cell_type": "code",
   "execution_count": 10,
   "metadata": {},
   "outputs": [
    {
     "name": "stdout",
     "output_type": "stream",
     "text": [
      "Year: 2023\n",
      "Month: 11\n",
      "Day: 1\n",
      "Hour: 7\n",
      "Minute: 10\n"
     ]
    },
    {
     "ename": "",
     "evalue": "",
     "output_type": "error",
     "traceback": [
      "\u001b[1;31mThe Kernel crashed while executing code in the the current cell or a previous cell. Please review the code in the cell(s) to identify a possible cause of the failure. Click <a href='https://aka.ms/vscodeJupyterKernelCrash'>here</a> for more info. View Jupyter <a href='command:jupyter.viewOutput'>log</a> for further details."
     ]
    }
   ],
   "source": [
    "# Get the current datetime in UTC\n",
    "now_utc = datetime.utcnow()\n",
    "\n",
    "# Convert the UTC datetime to GMT +0\n",
    "now_gmt0 = now_utc.astimezone(timezone.utc)\n",
    "\n",
    "# Get the year, month, day, and hour from the GMT +0 datetime\n",
    "year = now_gmt0.year\n",
    "month = now_gmt0.month\n",
    "day = now_gmt0.day\n",
    "hour = now_gmt0.hour + 1\n",
    "mins = now_gmt0.minute\n",
    "# Print the results\n",
    "print(\"Year:\", year)\n",
    "print(\"Month:\", month)\n",
    "print(\"Day:\", day)\n",
    "print(\"Hour:\", hour)\n",
    "print(\"Minute:\", mins)"
   ]
  },
  {
   "cell_type": "code",
   "execution_count": 45,
   "metadata": {},
   "outputs": [
    {
     "name": "stdout",
     "output_type": "stream",
     "text": [
      "OrderSendResult(retcode=10018, deal=0, order=0, volume=0.0, price=0.0, bid=0.0, ask=0.0, comment='Market closed', request_id=2098276545, retcode_external=0, request=TradeRequest(action=1, magic=0, order=0, symbol='GBPUSD', volume=0.01, price=1.21471, stoplimit=0.0, sl=0.0, tp=0.0, deviation=20, type=0, type_filling=2, type_time=0, expiration=0, comment='Dbot_ML', position=0, position_by=0))\n"
     ]
    }
   ],
   "source": [
    "lot = 0.01\n",
    "symbol = \"GBPUSD\"\n",
    "price = mt5.symbol_info_tick(symbol).bid\n",
    "if(y_pred[-1] > price):\n",
    "    price = mt5.symbol_info_tick(symbol).ask\n",
    "    #buying a market\n",
    "    request = {\n",
    "        \"action\": mt5.TRADE_ACTION_DEAL,\n",
    "        \"symbol\": symbol,\n",
    "        \"volume\": lot,\n",
    "        \"type\": mt5.ORDER_TYPE_BUY,\n",
    "        \"price\": price,\n",
    "        \"sl\": 0.0,\n",
    "        \"tp\": 0.0,\n",
    "        \"deviation\": 20,\n",
    "        \"magic\": 0,\n",
    "        \"comment\": \"Dbot_ML\",\n",
    "        \"type_time\": mt5.ORDER_TIME_GTC,\n",
    "        \"type_filling\": mt5.ORDER_FILLING_RETURN,\n",
    "    }\n",
    "elif(y_pred[-1] < price):\n",
    "    price = mt5.symbol_info_tick(symbol).bid\n",
    "    #buying a market\n",
    "    request = {\n",
    "        \"action\": mt5.TRADE_ACTION_DEAL,\n",
    "        \"symbol\": symbol,\n",
    "        \"volume\": lot,\n",
    "        \"type\": mt5.ORDER_TYPE_SELL,\n",
    "        \"price\": price,\n",
    "        \"sl\": 0.0,\n",
    "        \"tp\":0.0,\n",
    "        \"deviation\": 20,\n",
    "        \"magic\": 0,\n",
    "        \"comment\": \"Dbot_ML\",\n",
    "        \"type_time\": mt5.ORDER_TIME_GTC,\n",
    "        \"type_filling\": mt5.ORDER_FILLING_RETURN,\n",
    "    }\n",
    "result=mt5.order_send(request)\n",
    "print(result)"
   ]
  },
  {
   "cell_type": "code",
   "execution_count": 39,
   "metadata": {},
   "outputs": [
    {
     "name": "stdout",
     "output_type": "stream",
     "text": [
      "3\n"
     ]
    }
   ],
   "source": [
    "print(mt5.positions_total())"
   ]
  },
  {
   "cell_type": "code",
   "execution_count": 42,
   "metadata": {},
   "outputs": [
    {
     "name": "stdout",
     "output_type": "stream",
     "text": [
      "USDCHF\n",
      "USDCAD\n",
      "seen\n",
      "TradePosition(ticket=50764878607, time=1697054762, time_msc=1697054762903, time_update=1697054762, time_update_msc=1697054762903, type=1, magic=0, identifier=50764878607, reason=0, volume=0.01, price_open=1.36079, sl=0.0, tp=0.0, price_current=1.36136, swap=-0.01, profit=-0.42, symbol='USDCAD', comment='', external_id='')\n",
      "open price  1.36079\n",
      "close_price  1.36136\n",
      "profit  -0.42\n",
      "lot size  0.01\n",
      "order type  1\n"
     ]
    }
   ],
   "source": [
    "order_symbols = mt5.positions_get()\n",
    "n = 1\n",
    "for order_symbol in order_symbols:\n",
    "    print(order_symbol.symbol)\n",
    "    if(target_market[n] == order_symbol.symbol):\n",
    "        print(\"seen\")\n",
    "        target_order = order_symbol\n",
    "        break\n",
    "\n",
    "print(target_order)\n",
    "o_price = target_order.price_open\n",
    "c_price = target_order.price_current\n",
    "profit = target_order.profit\n",
    "lot_size = target_order.volume\n",
    "order_type = target_order.type\n",
    "tp = target_order.tp\n",
    "sl = target_order.sl\n",
    "\n",
    "print(\"open price \", o_price)\n",
    "print(\"close_price \",c_price)\n",
    "print(\"profit \",profit)\n",
    "print(\"lot size \",lot_size)\n",
    "print(\"order type \",order_type)"
   ]
  },
  {
   "cell_type": "code",
   "execution_count": 27,
   "metadata": {},
   "outputs": [
    {
     "name": "stdout",
     "output_type": "stream",
     "text": [
      "OrderSendResult(retcode=10009, deal=0, order=0, volume=0.0, price=0.0, bid=0.0, ask=0.0, comment='Request executed', request_id=111532076, retcode_external=0, request=TradeRequest(action=6, magic=0, order=0, symbol='GBPUSD', volume=0.0, price=0.0, stoplimit=0.0, sl=0.0, tp=1.2213676333333343, deviation=0, type=0, type_filling=0, type_time=0, expiration=0, comment='', position=50758476285, position_by=0))\n"
     ]
    }
   ],
   "source": [
    "\n",
    "#modify the market\n",
    "\n",
    "request = {\n",
    "    \"action\": mt5.TRADE_ACTION_SLTP,\n",
    "    \"symbol\": target_order.symbol,\n",
    "    \"sl\": 0.0,\n",
    "    \"tp\": y_pred[-1],\n",
    "    \"position\": target_order.ticket\n",
    "}\n",
    "\n",
    "result=mt5.order_send(request)\n",
    "print(result)"
   ]
  },
  {
   "cell_type": "code",
   "execution_count": 44,
   "metadata": {},
   "outputs": [
    {
     "name": "stdout",
     "output_type": "stream",
     "text": [
      "False\n"
     ]
    }
   ],
   "source": [
    "result = mt5.Close(target_order.symbol,ticket=target_order.ticket)\n",
    "print(result)"
   ]
  },
  {
   "cell_type": "code",
   "execution_count": 22,
   "metadata": {},
   "outputs": [
    {
     "name": "stdout",
     "output_type": "stream",
     "text": [
      "(1, 'Success')\n",
      "1.2278\n"
     ]
    },
    {
     "ename": "",
     "evalue": "",
     "output_type": "error",
     "traceback": [
      "\u001b[1;31mThe Kernel crashed while executing code in the the current cell or a previous cell. Please review the code in the cell(s) to identify a possible cause of the failure. Click <a href='https://aka.ms/vscodeJupyterKernelCrash'>here</a> for more info. View Jupyter <a href='command:jupyter.viewOutput'>log</a> for further details."
     ]
    }
   ],
   "source": [
    "print(mt5.last_error())\n",
    "print(price)"
   ]
  },
  {
   "cell_type": "code",
   "execution_count": 2,
   "metadata": {},
   "outputs": [
    {
     "name": "stdout",
     "output_type": "stream",
     "text": [
      "Hi  0\n",
      "Hi  1\n",
      "Hi  2\n",
      "Hi  3\n",
      "Hi  4\n",
      "Hi  5\n",
      "Hi  6\n",
      "Hi  7\n",
      "Hi  8\n",
      "Hi  9\n"
     ]
    }
   ],
   "source": [
    "import time\n",
    "\n",
    "for i in range(10):\n",
    "    print(\"Hi \", i)\n",
    "    time.sleep(5)"
   ]
  }
 ],
 "metadata": {
  "kernelspec": {
   "display_name": "Python 3",
   "language": "python",
   "name": "python3"
  },
  "language_info": {
   "codemirror_mode": {
    "name": "ipython",
    "version": 3
   },
   "file_extension": ".py",
   "mimetype": "text/x-python",
   "name": "python",
   "nbconvert_exporter": "python",
   "pygments_lexer": "ipython3",
   "version": "3.10.7"
  }
 },
 "nbformat": 4,
 "nbformat_minor": 2
}
