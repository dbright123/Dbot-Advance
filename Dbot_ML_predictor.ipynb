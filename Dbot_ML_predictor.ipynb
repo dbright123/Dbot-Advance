{
 "cells": [
  {
   "cell_type": "code",
   "execution_count": 29,
   "metadata": {},
   "outputs": [
    {
     "name": "stdout",
     "output_type": "stream",
     "text": [
      "MetaTrader5 package author:  MetaQuotes Ltd.\n",
      "MetaTrader5 package version:  5.0.45\n"
     ]
    }
   ],
   "source": [
    "import MetaTrader5 as mt5\n",
    "import numpy as np\n",
    "import joblib\n",
    "import matplotlib.pyplot as plt\n",
    "from datetime import datetime, timezone\n",
    "\n",
    "print(\"MetaTrader5 package author: \",mt5.__author__)\n",
    "print(\"MetaTrader5 package version: \",mt5.__version__)\n",
    "\n"
   ]
  },
  {
   "cell_type": "code",
   "execution_count": 32,
   "metadata": {},
   "outputs": [
    {
     "name": "stdout",
     "output_type": "stream",
     "text": [
      "{'login': 75525372, 'trade_mode': 0, 'leverage': 100, 'limit_orders': 200, 'margin_so_mode': 0, 'trade_allowed': True, 'trade_expert': True, 'margin_mode': 2, 'currency_digits': 2, 'fifo_close': False, 'balance': 77.57, 'credit': 0.0, 'profit': -2.33, 'equity': 75.24, 'margin': 20.9, 'margin_free': 54.34, 'margin_level': 360.0, 'margin_so_call': 50.0, 'margin_so_so': 30.0, 'margin_initial': 0.0, 'margin_maintenance': 0.0, 'assets': 0.0, 'liabilities': 0.0, 'commission_blocked': 0.0, 'name': 'mike bright', 'server': 'MetaQuotes-Demo', 'currency': 'USD', 'company': 'MetaQuotes Software Corp.'}\n",
      "\n",
      "\n",
      "{'community_account': True, 'community_connection': True, 'connected': True, 'dlls_allowed': False, 'trade_allowed': True, 'tradeapi_disabled': False, 'email_enabled': False, 'ftp_enabled': False, 'notifications_enabled': False, 'mqid': False, 'build': 4073, 'maxbars': 100000, 'codepage': 0, 'ping_last': 132010, 'community_balance': 0.0, 'retransmission': 0.22843064558566747, 'company': 'MetaQuotes Software Corp.', 'name': 'MetaTrader 5', 'language': 'English', 'path': 'C:\\\\Program Files\\\\MetaTrader 5', 'data_path': 'C:\\\\Users\\\\Omage Micheal\\\\AppData\\\\Roaming\\\\MetaQuotes\\\\Terminal\\\\D0E8209F77C8CF37AD8BF550E51FF075', 'commondata_path': 'C:\\\\Users\\\\Omage Micheal\\\\AppData\\\\Roaming\\\\MetaQuotes\\\\Terminal\\\\Common'}\n",
      "\n",
      "\n",
      "139\n"
     ]
    }
   ],
   "source": [
    "if not mt5.initialize():\n",
    "    print('Initialization failed, check internet connection. You must have Meta Trader 5 installed.')\n",
    "    mt5.shutdown()\n",
    "\n",
    "else:\n",
    "    print(mt5.account_info()._asdict())\n",
    "    print(\"\\n\")\n",
    "    print(mt5.terminal_info()._asdict())\n",
    "    print(\"\\n\")\n",
    "    print(mt5.symbols_total())\n",
    "    \n",
    "    \n",
    "# you code here"
   ]
  },
  {
   "cell_type": "code",
   "execution_count": 33,
   "metadata": {},
   "outputs": [
    {
     "name": "stdout",
     "output_type": "stream",
     "text": [
      "75.33\n",
      "AI is successfully functional\n"
     ]
    }
   ],
   "source": [
    "account = mt5.account_info()\n",
    "terminal = mt5.terminal_info()\n",
    "\n",
    "print(account.equity)\n",
    "\n",
    "if(terminal.connected == True and terminal.trade_allowed == True):\n",
    "    print(\"AI is successfully functional\")\n",
    "else:\n",
    "    print(\"Please make sure metatrade 5 has internet and algo Trade is Turn On\")\n",
    "    mt5.shutdown()"
   ]
  },
  {
   "cell_type": "code",
   "execution_count": 34,
   "metadata": {},
   "outputs": [],
   "source": [
    "#rates = mt5.copy_rates_from_pos(\"GBPUSD\", mt5.TIMEFRAME_H1, 0, 99999)  \n",
    "target_market = [\"GBPUSD\",\"USDCAD\",\"AUDUSD\",\"USDCHF\",\"NZDUSD\",\"EURUSD\",\"XAUUSD\"]"
   ]
  },
  {
   "cell_type": "code",
   "execution_count": 50,
   "metadata": {},
   "outputs": [],
   "source": [
    "n = 3"
   ]
  },
  {
   "cell_type": "code",
   "execution_count": 51,
   "metadata": {},
   "outputs": [],
   "source": [
    "model = joblib.load(target_market[n]+\" regressor.joblib\")\n",
    "sc_x = joblib.load(target_market[n]+\" sc_x.joblib\")\n",
    "sc_y = joblib.load(target_market[n]+\" sc_y.joblib\")"
   ]
  },
  {
   "cell_type": "code",
   "execution_count": 52,
   "metadata": {},
   "outputs": [
    {
     "name": "stdout",
     "output_type": "stream",
     "text": [
      "1698271200\n",
      "(500,)\n",
      "[[1.6982712e+09 8.9664000e-01 6.3700000e+02]\n",
      " [1.6982748e+09 8.9650000e-01 5.5600000e+02]\n",
      " [1.6982784e+09 8.9630000e-01 2.8170000e+03]\n",
      " ...\n",
      " [1.7007552e+09 8.8395000e-01 1.1090000e+03]\n",
      " [1.7007588e+09 8.8356000e-01 1.0010000e+03]\n",
      " [1.7007624e+09 8.8333000e-01 2.0200000e+02]]\n",
      "[0.88371]\n"
     ]
    }
   ],
   "source": [
    "#dtype=[('time', '<i8'), ('open', '<f8'), ('high', '<f8'), ('low', '<f8'), ('close', '<f8'), ('tick_volume', '<u8'), ('spread', '<i4'), ('real_volume', '<u8')])]\n",
    "rates = mt5.copy_rates_from_pos(target_market[n], mt5.TIMEFRAME_H1, 0, 500)\n",
    "print(rates[0][0])\n",
    "print(rates.shape)\n",
    "data = []\n",
    "close_price = []\n",
    "open_price = []\n",
    "\n",
    "for i in range(len(rates)):\n",
    "    data.append([rates[i][0],rates[i][1],rates[i][5]])\n",
    "    open_price.append(rates[i][1])\n",
    "    close_price.append(rates[i][4])\n",
    "data = np.array(data)\n",
    "close_price = np.array(close_price)\n",
    "print(data)\n",
    "print(close_price[-1:])"
   ]
  },
  {
   "cell_type": "code",
   "execution_count": 53,
   "metadata": {},
   "outputs": [
    {
     "name": "stdout",
     "output_type": "stream",
     "text": [
      "[-1.06104812 -1.0612943  -1.06313163 -1.0599384  -1.06022688 -1.05701845\n",
      " -1.05282148 -1.04594884 -1.04147814 -1.04055947 -1.0363934  -1.03427187\n",
      " -1.03813473 -1.02678045 -1.02883354 -1.03610635 -1.03205719 -1.05046613\n",
      " -1.05375678 -1.03639958 -1.02346556 -1.01333791 -1.0197025  -1.03076545\n",
      " -1.02524823 -1.02878269 -1.03731064 -1.02813017 -1.0285099  -1.02772478\n",
      " -1.02702663 -1.03537636 -1.03863137 -1.03650699 -1.03348818 -1.02590503\n",
      " -1.01948816 -1.01166169 -1.01199627 -1.002111   -0.99068543 -0.99028622\n",
      " -0.98922308 -0.98773934 -0.98267599 -0.97508381 -0.97770721 -0.99103094\n",
      " -0.99272902 -0.98412836 -0.98808342 -0.98029925 -0.97559139 -0.97267903\n",
      " -0.97568501 -0.96914505 -0.96766796 -0.97014593 -0.97513609 -0.97087022\n",
      " -0.97114301 -0.97256069 -0.95669484 -0.95650236 -0.97061406 -0.98541487\n",
      " -0.97539463 -0.98334372 -0.9844292  -0.98146504 -0.98794987 -0.99004336\n",
      " -0.98712578 -0.99455732 -0.98570953 -0.98465969 -0.98541107 -0.98644094\n",
      " -0.98405802 -0.97858976 -0.97816203 -0.9869737  -0.98736816 -0.9869143\n",
      " -0.99362535 -0.99274661 -0.98755066 -0.97839253 -0.95122847 -0.9352362\n",
      " -0.91546138 -0.88672614 -0.87598018 -0.87739216 -0.87992526 -0.87864398\n",
      " -0.87087976 -0.88062388 -0.87496789 -0.87275416 -0.86893835 -0.868129\n",
      " -0.87128563 -0.8761584  -0.87393992 -0.87707564 -0.88883578 -0.8866192\n",
      " -0.87748959 -0.87803137 -0.88464785 -0.88554703 -0.89968059 -0.88944078\n",
      " -0.88569103 -0.87414618 -0.86726831 -0.86802634 -0.8802855  -0.90144141\n",
      " -0.90468691 -0.91727209 -0.91280234 -0.93247878 -0.94197576 -0.94980129\n",
      " -0.96068554 -0.97208021 -0.97126373 -0.96026209 -0.95814293 -0.95403342\n",
      " -0.94249236 -0.95764107 -0.96690851 -0.95404863 -0.96562485 -0.9695262\n",
      " -0.95781073 -0.93988703 -0.92771341 -0.93670473 -0.93859624 -0.93180439\n",
      " -0.93335324 -0.92966005 -0.93107013 -0.92849283 -0.9311704  -0.93539113\n",
      " -0.9363193  -0.93635114 -0.93633783 -0.9399298  -0.93925019 -0.93230531\n",
      " -0.92299415 -0.93985804 -0.95122705 -0.95326066 -0.99824814 -1.02612365\n",
      " -1.01037898 -1.0284676  -1.04656905 -1.04796677 -1.04150808 -1.03324104\n",
      " -1.02680041 -1.03673226 -1.02675954 -1.02900178 -1.03660346 -1.04254508\n",
      " -1.04890682 -1.05166804 -1.05362228 -1.05485081 -1.04721207 -1.06134087\n",
      " -1.07303306 -1.06619654 -1.05913095 -1.04897383 -1.04164685 -1.04384585\n",
      " -1.05060728 -1.05479426 -1.05052363 -1.04248757 -1.03870171 -1.03181814\n",
      " -1.02537227 -1.03065376 -1.02562701 -1.02869952 -1.02730133 -1.02468838\n",
      " -1.02199465 -1.01319866 -1.0101789  -1.00431617 -1.00571294 -1.01872443\n",
      " -1.01905711 -1.01112608 -1.00266277 -0.99826905 -1.00261192 -1.00087534\n",
      " -1.00571009 -1.00691724 -0.99932221 -1.00710734 -1.00980773 -1.00759352\n",
      " -1.01134565 -1.01827056 -1.01531306 -1.00714678 -1.00381478 -1.00935386\n",
      " -1.00719811 -1.00574716 -1.00266372 -0.9961133  -0.9935417  -0.98785245\n",
      " -0.98651128 -0.99102619 -1.00219227 -1.01089416 -1.01110374 -1.02300741\n",
      " -1.03483362 -1.03964556 -1.0307127  -1.02441416 -1.02023479 -1.0219129\n",
      " -1.02475777 -1.03600654 -1.02719772 -1.02196281 -1.02640072 -1.02431436\n",
      " -1.02436093 -1.02421836 -1.02089681 -1.0189958  -1.01654017 -1.01415772\n",
      " -1.00996123 -1.00511888 -1.00862102 -1.00420354 -1.00894181 -1.01651783\n",
      " -1.02252361 -1.02103986 -1.01039134 -1.0012237  -0.98143938 -0.96349048\n",
      " -0.96971915 -0.98079493 -0.97215815 -0.96995678 -0.96977096 -0.96535633\n",
      " -0.9653435  -0.96463347 -0.96494096 -0.96315923 -0.95785873 -0.96830908\n",
      " -0.97897519 -0.995783   -0.99278463 -0.9857965  -0.98989746 -0.98102163\n",
      " -0.97345655 -0.96961127 -0.97359152 -0.98421343 -0.98085292 -0.98088856\n",
      " -1.00051605 -0.9868777  -0.98628934 -0.9830234  -0.98296732 -0.98099597\n",
      " -0.9821822  -0.98167986 -0.98011295 -0.98662724 -0.98965508 -0.98834338\n",
      " -0.98719755 -0.97598632 -0.96929523 -0.95235958 -0.9561136  -0.96364637\n",
      " -0.97293044 -0.99053715 -0.99134889 -0.98983283 -0.99249995 -0.98882767\n",
      " -0.99103427 -0.993488   -0.99282692 -0.99117162 -0.98648657 -0.98448243\n",
      " -0.98187043 -0.98168081 -0.98018566 -0.98405375 -0.98999774 -0.98878157\n",
      " -0.99036321 -0.99453689 -0.98707113 -0.99100433 -1.0346036  -1.10312753\n",
      " -1.12863818 -1.13898967 -1.15026173 -1.15923024 -1.17181685 -1.17768337\n",
      " -1.17755173 -1.17243753 -1.16801577 -1.16569273 -1.16557534 -1.16892493\n",
      " -1.17494021 -1.17648573 -1.17620533 -1.17584794 -1.18490913 -1.18404226\n",
      " -1.17277828 -1.17816385 -1.18548323 -1.19305212 -1.19423027 -1.17821138\n",
      " -1.19627576 -1.20078924 -1.19150136 -1.18201816 -1.17983912 -1.18019128\n",
      " -1.1827011  -1.18863606 -1.19628859 -1.19570973 -1.18875012 -1.18010289\n",
      " -1.17627044 -1.17768955 -1.17805882 -1.18053014 -1.17769098 -1.17854596\n",
      " -1.1737554  -1.1742202  -1.17756266 -1.16551118 -1.17910105 -1.19701573\n",
      " -1.19617738 -1.18853056 -1.18453795 -1.17945654 -1.17731695 -1.17197083\n",
      " -1.17621009 -1.18634772 -1.17942803 -1.17705414 -1.17382004 -1.18106908\n",
      " -1.18144881 -1.17954827 -1.17473395 -1.1806941  -1.17410376 -1.18698598\n",
      " -1.19195476 -1.19836165 -1.19502299 -1.19179745 -1.19619639 -1.1938743\n",
      " -1.19941433 -1.19929077 -1.20411459 -1.2192305  -1.22254919 -1.21909838\n",
      " -1.22076889 -1.22309478 -1.21969007 -1.2185352  -1.22595818 -1.2371965\n",
      " -1.24085833 -1.24309677 -1.24509474 -1.24095243 -1.2378533  -1.24084312\n",
      " -1.25174068 -1.25316264 -1.24668113 -1.24121714 -1.23333126 -1.24300457\n",
      " -1.2423164  -1.23968303 -1.23478506 -1.23495853 -1.23642611 -1.23239264\n",
      " -1.23184515 -1.2351301  -1.23656631 -1.24163679 -1.24222563 -1.24777421\n",
      " -1.25490492 -1.25494959 -1.25163565 -1.24945281 -1.24594211 -1.24479485\n",
      " -1.24026854 -1.24341376 -1.2384678  -1.24568167 -1.25253815 -1.25563823\n",
      " -1.2579166  -1.25456701 -1.25051738 -1.24435001 -1.24488372 -1.24690403\n",
      " -1.24749524 -1.25164991 -1.25000125 -1.25282568 -1.25050359 -1.25281855\n",
      " -1.25296113 -1.25115517 -1.24726759 -1.23927431 -1.24501584 -1.23128245\n",
      " -1.22661879 -1.24280164 -1.24339951 -1.24363808 -1.2369603  -1.2229004\n",
      " -1.21146438 -1.2230292  -1.22621815 -1.23558301 -1.23989832 -1.24509331\n",
      " -1.24583566 -1.24474352 -1.24344466 -1.24698672 -1.25046557 -1.2585848\n",
      " -1.26178136 -1.26050435 -1.26003765 -1.26115592 -1.2614924  -1.25976248\n",
      " -1.25905673 -1.26058229 -1.25249443 -1.23918021 -1.242593   -1.24439374\n",
      " -1.24677381 -1.24842769]\n"
     ]
    },
    {
     "name": "stderr",
     "output_type": "stream",
     "text": [
      "[Parallel(n_jobs=10)]: Using backend ThreadingBackend with 10 concurrent workers.\n",
      "[Parallel(n_jobs=10)]: Done  30 tasks      | elapsed:    0.0s\n",
      "[Parallel(n_jobs=10)]: Done 180 tasks      | elapsed:    0.0s\n",
      "[Parallel(n_jobs=10)]: Done 300 out of 300 | elapsed:    0.0s finished\n"
     ]
    }
   ],
   "source": [
    "data = sc_x.transform(data)\n",
    "y_pred = model.predict(data)\n",
    "print(y_pred)"
   ]
  },
  {
   "cell_type": "code",
   "execution_count": 54,
   "metadata": {},
   "outputs": [
    {
     "name": "stdout",
     "output_type": "stream",
     "text": [
      "[0.89670927 0.896692   0.89656313 0.8967871  0.89676687 0.8969919\n",
      " 0.89728627 0.8977683  0.89808187 0.8981463  0.8984385  0.8985873\n",
      " 0.89831637 0.89911273 0.89896873 0.89845863 0.89874263 0.89745147\n",
      " 0.89722067 0.89843807 0.89934523 0.90005557 0.89960917 0.89883323\n",
      " 0.8992202  0.8989723  0.89837417 0.89901807 0.89899143 0.8990465\n",
      " 0.89909547 0.89850983 0.89828153 0.89843053 0.89864227 0.89917413\n",
      " 0.8996242  0.90017313 0.90014967 0.900843   0.90164437 0.90167237\n",
      " 0.90174693 0.901851   0.90220613 0.90273863 0.90255463 0.90162013\n",
      " 0.90150103 0.90210427 0.90182687 0.90237283 0.90270303 0.9029073\n",
      " 0.90269647 0.90315517 0.90325877 0.90308497 0.90273497 0.90303417\n",
      " 0.90301503 0.9029156  0.9040284  0.9040419  0.90305213 0.90201403\n",
      " 0.90271683 0.9021593  0.90208317 0.90229107 0.90183623 0.9016894\n",
      " 0.90189403 0.9013728  0.90199337 0.902067   0.9020143  0.90194207\n",
      " 0.9021092  0.90249273 0.90252273 0.9019047  0.90187703 0.90190887\n",
      " 0.90143817 0.9014998  0.90186423 0.90250657 0.9044118  0.90553347\n",
      " 0.90692043 0.90893587 0.90968957 0.90959053 0.90941287 0.90950273\n",
      " 0.9100473  0.90936387 0.90976057 0.90991583 0.91018347 0.91024023\n",
      " 0.91001883 0.90967707 0.90983267 0.90961273 0.9087879  0.90894337\n",
      " 0.9095837  0.9095457  0.90908163 0.90901857 0.90802727 0.90874547\n",
      " 0.90900847 0.9098182  0.9103006  0.91024743 0.9093876  0.90790377\n",
      " 0.90767613 0.90679343 0.90710693 0.90572687 0.90506077 0.9045119\n",
      " 0.9037485  0.9029493  0.90300657 0.9037782  0.90392683 0.90421507\n",
      " 0.90502453 0.90396203 0.90331203 0.904214   0.90340207 0.90312843\n",
      " 0.90395013 0.90520727 0.9060611  0.90543047 0.9052978  0.90577417\n",
      " 0.90566553 0.90592457 0.90582567 0.90600643 0.90581863 0.9055226\n",
      " 0.9054575  0.90545527 0.9054562  0.90520427 0.90525193 0.90573903\n",
      " 0.9063921  0.9052093  0.9044119  0.90426927 0.90111393 0.8991588\n",
      " 0.9002631  0.8989944  0.8977248  0.89762677 0.89807977 0.8986596\n",
      " 0.89911133 0.89841473 0.8991142  0.89895693 0.89842377 0.89800703\n",
      " 0.89756083 0.89736717 0.8972301  0.89714393 0.8976797  0.89668873\n",
      " 0.89586867 0.89634817 0.89684373 0.89755613 0.89807003 0.8979158\n",
      " 0.89744157 0.8971479  0.89744743 0.89801107 0.8982766  0.8987594\n",
      " 0.8992115  0.89884107 0.89919363 0.89897813 0.8990762  0.89925947\n",
      " 0.8994484  0.90006533 0.90027713 0.90068833 0.90059037 0.89967777\n",
      " 0.89965443 0.9002107  0.9008043  0.90111247 0.90080787 0.90092967\n",
      " 0.90059057 0.9005059  0.9010386  0.90049257 0.90030317 0.90045847\n",
      " 0.9001953  0.8997096  0.89991703 0.9004898  0.9007235  0.900335\n",
      " 0.9004862  0.90058797 0.90080423 0.90126367 0.90144403 0.90184307\n",
      " 0.90193713 0.90162047 0.9008373  0.90022697 0.90021227 0.89937737\n",
      " 0.8985479  0.8982104  0.89883693 0.8992787  0.89957183 0.89945413\n",
      " 0.8992546  0.89846563 0.89908347 0.89945063 0.89913937 0.8992857\n",
      " 0.89928243 0.89929243 0.8995254  0.89965873 0.89983097 0.89999807\n",
      " 0.9002924  0.90063203 0.9003864  0.90069623 0.9003639  0.89983253\n",
      " 0.8994113  0.89951537 0.90026223 0.90090523 0.90229287 0.90355177\n",
      " 0.9031149  0.90233807 0.90294383 0.90309823 0.90311127 0.9034209\n",
      " 0.9034218  0.9034716  0.90345003 0.903575   0.90394677 0.9032138\n",
      " 0.9024657  0.90128683 0.90149713 0.90198727 0.90169963 0.90232217\n",
      " 0.90285277 0.90312247 0.9028433  0.9020983  0.902334   0.9023315\n",
      " 0.90095487 0.90191143 0.9019527  0.90218177 0.9021857  0.90232397\n",
      " 0.90224077 0.902276   0.9023859  0.901929   0.90171663 0.90180863\n",
      " 0.901889   0.90267533 0.90314463 0.90433247 0.90406917 0.90354083\n",
      " 0.90288967 0.90165477 0.90159783 0.90170417 0.9015171  0.90177467\n",
      " 0.9016199  0.9014478  0.90149417 0.90161027 0.90193887 0.90207943\n",
      " 0.90226263 0.90227593 0.9023808  0.9021095  0.9016926  0.9017779\n",
      " 0.90166697 0.90137423 0.90189787 0.901622   0.89856403 0.8937579\n",
      " 0.89196863 0.8912426  0.890452   0.88982297 0.88894017 0.8885287\n",
      " 0.88853793 0.88889663 0.88920677 0.8893697  0.88937793 0.889143\n",
      " 0.8887211  0.8886127  0.88863237 0.88865743 0.8880219  0.8880827\n",
      " 0.88887273 0.888495   0.88798163 0.88745077 0.88736813 0.88849167\n",
      " 0.88722467 0.8869081  0.88755953 0.88822467 0.8883775  0.8883528\n",
      " 0.88817677 0.8877605  0.88722377 0.88726437 0.8877525  0.888359\n",
      " 0.8886278  0.88852827 0.88850237 0.88832903 0.88852817 0.8884682\n",
      " 0.8888042  0.8887716  0.88853717 0.88938243 0.88842927 0.88717277\n",
      " 0.88723157 0.8877679  0.88804793 0.88840433 0.8885544  0.88892937\n",
      " 0.88863203 0.887921   0.88840633 0.88857283 0.88879967 0.88829123\n",
      " 0.8882646  0.8883979  0.88873557 0.88831753 0.88877977 0.88787623\n",
      " 0.88752773 0.88707837 0.88731253 0.88753877 0.88723023 0.8873931\n",
      " 0.88700453 0.8870132  0.88667487 0.88561467 0.8853819  0.88562393\n",
      " 0.88550677 0.88534363 0.88558243 0.88566343 0.8851428  0.88435457\n",
      " 0.88409773 0.88394073 0.8838006  0.88409113 0.8843085  0.8840988\n",
      " 0.88333447 0.88323473 0.88368933 0.88407257 0.88462567 0.8839472\n",
      " 0.88399547 0.88418017 0.8845237  0.88451153 0.8844086  0.8846915\n",
      " 0.8847299  0.8844995  0.88439877 0.88404313 0.88400183 0.88361267\n",
      " 0.88311253 0.8831094  0.88334183 0.88349493 0.88374117 0.88382163\n",
      " 0.8841391  0.8839185  0.8842654  0.88375943 0.88327853 0.8830611\n",
      " 0.8829013  0.88313623 0.88342027 0.88385283 0.8838154  0.8836737\n",
      " 0.88363223 0.88334083 0.88345647 0.88325837 0.88342123 0.88325887\n",
      " 0.88324887 0.88337553 0.8836482  0.88420883 0.88380613 0.88476937\n",
      " 0.88509647 0.88396143 0.8839195  0.88390277 0.88437113 0.88535727\n",
      " 0.88615937 0.88534823 0.88512457 0.88446773 0.88416507 0.8838007\n",
      " 0.88374863 0.88382523 0.88391633 0.8836679  0.8834239  0.88285443\n",
      " 0.88263023 0.8827198  0.88275253 0.8826741  0.8826505  0.88277183\n",
      " 0.88282133 0.88271433 0.8832816  0.88421543 0.88397607 0.88384977\n",
      " 0.88368283 0.88356683]\n"
     ]
    }
   ],
   "source": [
    "y_pred = sc_y.inverse_transform(y_pred.reshape((len(y_pred),1)))\n",
    "y_pred = y_pred.reshape(-1)\n",
    "print(y_pred)\n"
   ]
  },
  {
   "cell_type": "code",
   "execution_count": 55,
   "metadata": {},
   "outputs": [
    {
     "name": "stdout",
     "output_type": "stream",
     "text": [
      "0.9430745244779474\n"
     ]
    },
    {
     "name": "stderr",
     "output_type": "stream",
     "text": [
      "[Parallel(n_jobs=10)]: Using backend ThreadingBackend with 10 concurrent workers.\n",
      "[Parallel(n_jobs=10)]: Done  30 tasks      | elapsed:    0.0s\n",
      "[Parallel(n_jobs=10)]: Done 180 tasks      | elapsed:    0.0s\n",
      "[Parallel(n_jobs=10)]: Done 300 out of 300 | elapsed:    0.0s finished\n"
     ]
    }
   ],
   "source": [
    "\n",
    "score = model.score(\n",
    "    data[-100:],\n",
    "    sc_y.transform(close_price[-100:].reshape((len(close_price[-100:]),1))).reshape(-1)\n",
    ")\n",
    "print(score)"
   ]
  },
  {
   "cell_type": "code",
   "execution_count": 56,
   "metadata": {},
   "outputs": [
    {
     "name": "stderr",
     "output_type": "stream",
     "text": [
      "[Parallel(n_jobs=10)]: Using backend ThreadingBackend with 10 concurrent workers.\n",
      "[Parallel(n_jobs=10)]: Done  30 tasks      | elapsed:    0.0s\n",
      "[Parallel(n_jobs=10)]: Done 180 tasks      | elapsed:    0.0s\n",
      "[Parallel(n_jobs=10)]: Done 300 out of 300 | elapsed:    0.0s finished\n"
     ]
    },
    {
     "data": {
      "image/png": "[encoded data removed]",
      "text/plain": [
       "<Figure size 1500x1000 with 1 Axes>"
      ]
     },
     "metadata": {},
     "output_type": "display_data"
    }
   ],
   "source": [
    "plt.figure(figsize=(15, 10))\n",
    "plt.title(target_market[n]+\" Prediction Compare on live result\")\n",
    "x_point = []\n",
    "for i in range(len(close_price[-100:])):\n",
    "  t = [i]\n",
    "  x_point.append(t)\n",
    "plt.scatter(x_point, close_price[-100:], label=\"close_price\")\n",
    "plt.scatter(x_point, y_pred[-100:], label=\"predicted_price\")\n",
    "#plt.plot(close_price[-100:], label=\"y_test\")\n",
    "\n",
    "y_pred = model.predict(data[-100:])\n",
    "y_pred = sc_y.inverse_transform(y_pred.reshape((len(y_pred),1)))\n",
    "y_pred = y_pred.reshape(-1)\n",
    "plt.plot(\n",
    "    y_pred,\n",
    "    label=\"y_pred\", color=\"red\"\n",
    ")\n",
    "\n",
    "\n",
    "\n",
    "plt.legend()\n",
    "\n",
    "plt.show()"
   ]
  },
  {
   "cell_type": "code",
   "execution_count": 19,
   "metadata": {},
   "outputs": [],
   "source": [
    "data = sc_x.inverse_transform(data)\n"
   ]
  },
  {
   "cell_type": "code",
   "execution_count": 20,
   "metadata": {},
   "outputs": [
    {
     "name": "stdout",
     "output_type": "stream",
     "text": [
      "[1.2532]\n",
      "[[1.7007588e+09 1.2532300e+00 5.3000000e+02]]\n"
     ]
    },
    {
     "name": "stderr",
     "output_type": "stream",
     "text": [
      "[Parallel(n_jobs=10)]: Using backend ThreadingBackend with 10 concurrent workers.\n",
      "[Parallel(n_jobs=10)]: Done  30 tasks      | elapsed:    0.3s\n",
      "[Parallel(n_jobs=10)]: Done 180 tasks      | elapsed:    0.4s\n"
     ]
    },
    {
     "name": "stdout",
     "output_type": "stream",
     "text": [
      "[1.25341337]\n"
     ]
    },
    {
     "name": "stderr",
     "output_type": "stream",
     "text": [
      "[Parallel(n_jobs=10)]: Done 300 out of 300 | elapsed:    0.6s finished\n"
     ]
    }
   ],
   "source": [
    "# creating an assumption on the system\n",
    "print(close_price[-1:])\n",
    "print(data[-1:,:])\n",
    "y_pred = model.predict(sc_x.transform(data[-1:,:]))\n",
    "y_pred = sc_y.inverse_transform(y_pred.reshape((len(y_pred),1)))\n",
    "y_pred = y_pred.reshape(-1)\n",
    "print(y_pred)\n",
    "\n"
   ]
  },
  {
   "cell_type": "code",
   "execution_count": 21,
   "metadata": {},
   "outputs": [
    {
     "name": "stdout",
     "output_type": "stream",
     "text": [
      "Year: 2023\n",
      "Month: 11\n",
      "Day: 23\n",
      "Hour: 18\n",
      "Minutes: 0\n"
     ]
    }
   ],
   "source": [
    "# set time zone to UTC\n",
    "# Convert Unix epoch time to UTC time\n",
    "utc_time = datetime.fromtimestamp(int(data[-1,0]))\n",
    "\n",
    "\n",
    "# Extract the hour and minutes from the UTC datetime object\n",
    "year = utc_time.year\n",
    "month = utc_time.month\n",
    "day = utc_time.day\n",
    "hour = utc_time.hour\n",
    "minutes = utc_time.minute\n",
    "\n",
    "# Print the hour and minutes\n",
    "# Print the results\n",
    "print(\"Year:\", year)\n",
    "print(\"Month:\", month)\n",
    "print(\"Day:\", day)\n",
    "print(\"Hour:\", hour)\n",
    "print(\"Minutes:\", minutes)"
   ]
  },
  {
   "cell_type": "code",
   "execution_count": 51,
   "metadata": {},
   "outputs": [
    {
     "name": "stdout",
     "output_type": "stream",
     "text": [
      "1698271200\n"
     ]
    }
   ],
   "source": [
    "chart1H = mt5.copy_rates_from_pos(target_market[n], mt5.TIMEFRAME_H1, 0, 5)\n",
    "print(chart1H[-1][0])"
   ]
  },
  {
   "cell_type": "code",
   "execution_count": 52,
   "metadata": {},
   "outputs": [
    {
     "name": "stdout",
     "output_type": "stream",
     "text": [
      "23\n",
      "23\n",
      "22\n",
      "21 The only time to trade\n"
     ]
    }
   ],
   "source": [
    "utc_time1H = datetime.fromtimestamp(int(chart1H[-1][0]))\n",
    "h = utc_time1H.hour\n",
    "print(h)\n",
    "\n",
    "for i in range(1,len(chart1H)):\n",
    "    utc_time1H = datetime.fromtimestamp(int(chart1H[i * -1][0]))\n",
    "    h = utc_time1H.hour\n",
    "    if(hour == h):\n",
    "        print(h, \"The only time to trade\")\n",
    "        break\n",
    "    print(h)"
   ]
  },
  {
   "cell_type": "code",
   "execution_count": 22,
   "metadata": {},
   "outputs": [
    {
     "name": "stdout",
     "output_type": "stream",
     "text": [
      "AI is functional\n",
      "4\n"
     ]
    }
   ],
   "source": [
    "#trade operation\n",
    "if(terminal.connected == True and terminal.trade_allowed == True):\n",
    "    print(\"AI is functional\")\n",
    "    total_order = mt5.positions_total()\n",
    "    print(total_order)\n",
    "    \n",
    "    \n",
    "else:\n",
    "    print(\"Please make sure metatrade 5 has internet and algo Trade is Turn On\")"
   ]
  },
  {
   "cell_type": "code",
   "execution_count": 10,
   "metadata": {},
   "outputs": [
    {
     "name": "stdout",
     "output_type": "stream",
     "text": [
      "Year: 2023\n",
      "Month: 11\n",
      "Day: 1\n",
      "Hour: 7\n",
      "Minute: 10\n"
     ]
    },
    {
     "ename": "",
     "evalue": "",
     "output_type": "error",
     "traceback": [
      "\u001b[1;31mThe Kernel crashed while executing code in the the current cell or a previous cell. Please review the code in the cell(s) to identify a possible cause of the failure. Click <a href='https://aka.ms/vscodeJupyterKernelCrash'>here</a> for more info. View Jupyter <a href='command:jupyter.viewOutput'>log</a> for further details."
     ]
    }
   ],
   "source": [
    "# Get the current datetime in UTC\n",
    "now_utc = datetime.utcnow()\n",
    "\n",
    "# Convert the UTC datetime to GMT +0\n",
    "now_gmt0 = now_utc.astimezone(timezone.utc)\n",
    "\n",
    "# Get the year, month, day, and hour from the GMT +0 datetime\n",
    "year = now_gmt0.year\n",
    "month = now_gmt0.month\n",
    "day = now_gmt0.day\n",
    "hour = now_gmt0.hour + 1\n",
    "mins = now_gmt0.minute\n",
    "# Print the results\n",
    "print(\"Year:\", year)\n",
    "print(\"Month:\", month)\n",
    "print(\"Day:\", day)\n",
    "print(\"Hour:\", hour)\n",
    "print(\"Minute:\", mins)"
   ]
  },
  {
   "cell_type": "code",
   "execution_count": 45,
   "metadata": {},
   "outputs": [
    {
     "name": "stdout",
     "output_type": "stream",
     "text": [
      "OrderSendResult(retcode=10018, deal=0, order=0, volume=0.0, price=0.0, bid=0.0, ask=0.0, comment='Market closed', request_id=2098276545, retcode_external=0, request=TradeRequest(action=1, magic=0, order=0, symbol='GBPUSD', volume=0.01, price=1.21471, stoplimit=0.0, sl=0.0, tp=0.0, deviation=20, type=0, type_filling=2, type_time=0, expiration=0, comment='Dbot_ML', position=0, position_by=0))\n"
     ]
    }
   ],
   "source": [
    "lot = 0.01\n",
    "symbol = \"GBPUSD\"\n",
    "price = mt5.symbol_info_tick(symbol).bid\n",
    "if(y_pred[-1] > price):\n",
    "    price = mt5.symbol_info_tick(symbol).ask\n",
    "    #buying a market\n",
    "    request = {\n",
    "        \"action\": mt5.TRADE_ACTION_DEAL,\n",
    "        \"symbol\": symbol,\n",
    "        \"volume\": lot,\n",
    "        \"type\": mt5.ORDER_TYPE_BUY,\n",
    "        \"price\": price,\n",
    "        \"sl\": 0.0,\n",
    "        \"tp\": 0.0,\n",
    "        \"deviation\": 20,\n",
    "        \"magic\": 0,\n",
    "        \"comment\": \"Dbot_ML\",\n",
    "        \"type_time\": mt5.ORDER_TIME_GTC,\n",
    "        \"type_filling\": mt5.ORDER_FILLING_RETURN,\n",
    "    }\n",
    "elif(y_pred[-1] < price):\n",
    "    price = mt5.symbol_info_tick(symbol).bid\n",
    "    #buying a market\n",
    "    request = {\n",
    "        \"action\": mt5.TRADE_ACTION_DEAL,\n",
    "        \"symbol\": symbol,\n",
    "        \"volume\": lot,\n",
    "        \"type\": mt5.ORDER_TYPE_SELL,\n",
    "        \"price\": price,\n",
    "        \"sl\": 0.0,\n",
    "        \"tp\":0.0,\n",
    "        \"deviation\": 20,\n",
    "        \"magic\": 0,\n",
    "        \"comment\": \"Dbot_ML\",\n",
    "        \"type_time\": mt5.ORDER_TIME_GTC,\n",
    "        \"type_filling\": mt5.ORDER_FILLING_RETURN,\n",
    "    }\n",
    "result=mt5.order_send(request)\n",
    "print(result)"
   ]
  },
  {
   "cell_type": "code",
   "execution_count": 39,
   "metadata": {},
   "outputs": [
    {
     "name": "stdout",
     "output_type": "stream",
     "text": [
      "3\n"
     ]
    }
   ],
   "source": [
    "print(mt5.positions_total())"
   ]
  },
  {
   "cell_type": "code",
   "execution_count": 42,
   "metadata": {},
   "outputs": [
    {
     "name": "stdout",
     "output_type": "stream",
     "text": [
      "USDCHF\n",
      "USDCAD\n",
      "seen\n",
      "TradePosition(ticket=50764878607, time=1697054762, time_msc=1697054762903, time_update=1697054762, time_update_msc=1697054762903, type=1, magic=0, identifier=50764878607, reason=0, volume=0.01, price_open=1.36079, sl=0.0, tp=0.0, price_current=1.36136, swap=-0.01, profit=-0.42, symbol='USDCAD', comment='', external_id='')\n",
      "open price  1.36079\n",
      "close_price  1.36136\n",
      "profit  -0.42\n",
      "lot size  0.01\n",
      "order type  1\n"
     ]
    }
   ],
   "source": [
    "order_symbols = mt5.positions_get()\n",
    "n = 1\n",
    "for order_symbol in order_symbols:\n",
    "    print(order_symbol.symbol)\n",
    "    if(target_market[n] == order_symbol.symbol):\n",
    "        print(\"seen\")\n",
    "        target_order = order_symbol\n",
    "        break\n",
    "\n",
    "print(target_order)\n",
    "o_price = target_order.price_open\n",
    "c_price = target_order.price_current\n",
    "profit = target_order.profit\n",
    "lot_size = target_order.volume\n",
    "order_type = target_order.type\n",
    "tp = target_order.tp\n",
    "sl = target_order.sl\n",
    "\n",
    "print(\"open price \", o_price)\n",
    "print(\"close_price \",c_price)\n",
    "print(\"profit \",profit)\n",
    "print(\"lot size \",lot_size)\n",
    "print(\"order type \",order_type)"
   ]
  },
  {
   "cell_type": "code",
   "execution_count": 27,
   "metadata": {},
   "outputs": [
    {
     "name": "stdout",
     "output_type": "stream",
     "text": [
      "OrderSendResult(retcode=10009, deal=0, order=0, volume=0.0, price=0.0, bid=0.0, ask=0.0, comment='Request executed', request_id=111532076, retcode_external=0, request=TradeRequest(action=6, magic=0, order=0, symbol='GBPUSD', volume=0.0, price=0.0, stoplimit=0.0, sl=0.0, tp=1.2213676333333343, deviation=0, type=0, type_filling=0, type_time=0, expiration=0, comment='', position=50758476285, position_by=0))\n"
     ]
    }
   ],
   "source": [
    "\n",
    "#modify the market\n",
    "\n",
    "request = {\n",
    "    \"action\": mt5.TRADE_ACTION_SLTP,\n",
    "    \"symbol\": target_order.symbol,\n",
    "    \"sl\": 0.0,\n",
    "    \"tp\": y_pred[-1],\n",
    "    \"position\": target_order.ticket\n",
    "}\n",
    "\n",
    "result=mt5.order_send(request)\n",
    "print(result)"
   ]
  },
  {
   "cell_type": "code",
   "execution_count": 44,
   "metadata": {},
   "outputs": [
    {
     "name": "stdout",
     "output_type": "stream",
     "text": [
      "False\n"
     ]
    }
   ],
   "source": [
    "result = mt5.Close(target_order.symbol,ticket=target_order.ticket)\n",
    "print(result)"
   ]
  },
  {
   "cell_type": "code",
   "execution_count": 22,
   "metadata": {},
   "outputs": [
    {
     "name": "stdout",
     "output_type": "stream",
     "text": [
      "(1, 'Success')\n",
      "1.2278\n"
     ]
    },
    {
     "ename": "",
     "evalue": "",
     "output_type": "error",
     "traceback": [
      "\u001b[1;31mThe Kernel crashed while executing code in the the current cell or a previous cell. Please review the code in the cell(s) to identify a possible cause of the failure. Click <a href='https://aka.ms/vscodeJupyterKernelCrash'>here</a> for more info. View Jupyter <a href='command:jupyter.viewOutput'>log</a> for further details."
     ]
    }
   ],
   "source": [
    "print(mt5.last_error())\n",
    "print(price)"
   ]
  },
  {
   "cell_type": "code",
   "execution_count": 2,
   "metadata": {},
   "outputs": [
    {
     "name": "stdout",
     "output_type": "stream",
     "text": [
      "Hi  0\n",
      "Hi  1\n",
      "Hi  2\n",
      "Hi  3\n",
      "Hi  4\n",
      "Hi  5\n",
      "Hi  6\n",
      "Hi  7\n",
      "Hi  8\n",
      "Hi  9\n"
     ]
    }
   ],
   "source": [
    "import time\n",
    "\n",
    "for i in range(10):\n",
    "    print(\"Hi \", i)\n",
    "    time.sleep(5)"
   ]
  }
 ],
 "metadata": {
  "kernelspec": {
   "display_name": "Python 3",
   "language": "python",
   "name": "python3"
  },
  "language_info": {
   "codemirror_mode": {
    "name": "ipython",
    "version": 3
   },
   "file_extension": ".py",
   "mimetype": "text/x-python",
   "name": "python",
   "nbconvert_exporter": "python",
   "pygments_lexer": "ipython3",
   "version": "3.10.7"
  }
 },
 "nbformat": 4,
 "nbformat_minor": 2
}
