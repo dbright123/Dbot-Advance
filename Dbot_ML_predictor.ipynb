{
 "cells": [
  {
   "cell_type": "code",
   "execution_count": 1,
   "metadata": {},
   "outputs": [
    {
     "name": "stdout",
     "output_type": "stream",
     "text": [
      "MetaTrader5 package author:  MetaQuotes Ltd.\n",
      "MetaTrader5 package version:  5.0.45\n"
     ]
    }
   ],
   "source": [
    "import MetaTrader5 as mt5\n",
    "import numpy as np\n",
    "import joblib\n",
    "import matplotlib.pyplot as plt\n",
    "from datetime import datetime, timezone\n",
    "\n",
    "print(\"MetaTrader5 package author: \",mt5.__author__)\n",
    "print(\"MetaTrader5 package version: \",mt5.__version__)\n",
    "\n"
   ]
  },
  {
   "cell_type": "code",
   "execution_count": 2,
   "metadata": {},
   "outputs": [
    {
     "name": "stdout",
     "output_type": "stream",
     "text": [
      "{'login': 75525372, 'trade_mode': 0, 'leverage': 100, 'limit_orders': 200, 'margin_so_mode': 0, 'trade_allowed': True, 'trade_expert': True, 'margin_mode': 2, 'currency_digits': 2, 'fifo_close': False, 'balance': 97.58, 'credit': 0.0, 'profit': -5.36, 'equity': 92.22, 'margin': 33.3, 'margin_free': 58.92, 'margin_level': 276.93693693693695, 'margin_so_call': 50.0, 'margin_so_so': 30.0, 'margin_initial': 0.0, 'margin_maintenance': 0.0, 'assets': 0.0, 'liabilities': 0.0, 'commission_blocked': 0.0, 'name': 'mike bright', 'server': 'MetaQuotes-Demo', 'currency': 'USD', 'company': 'MetaQuotes Software Corp.'}\n",
      "\n",
      "\n",
      "{'community_account': True, 'community_connection': True, 'connected': True, 'dlls_allowed': False, 'trade_allowed': True, 'tradeapi_disabled': False, 'email_enabled': False, 'ftp_enabled': False, 'notifications_enabled': False, 'mqid': False, 'build': 4068, 'maxbars': 100000, 'codepage': 0, 'ping_last': 124124, 'community_balance': 0.0, 'retransmission': 0.08048289738430583, 'company': 'MetaQuotes Software Corp.', 'name': 'MetaTrader 5', 'language': 'English', 'path': 'C:\\\\Program Files\\\\MetaTrader 5', 'data_path': 'C:\\\\Users\\\\Omage Micheal\\\\AppData\\\\Roaming\\\\MetaQuotes\\\\Terminal\\\\D0E8209F77C8CF37AD8BF550E51FF075', 'commondata_path': 'C:\\\\Users\\\\Omage Micheal\\\\AppData\\\\Roaming\\\\MetaQuotes\\\\Terminal\\\\Common'}\n",
      "\n",
      "\n",
      "139\n"
     ]
    }
   ],
   "source": [
    "if not mt5.initialize():\n",
    "    print('Initialization failed, check internet connection. You must have Meta Trader 5 installed.')\n",
    "    mt5.shutdown()\n",
    "\n",
    "else:\n",
    "    print(mt5.account_info()._asdict())\n",
    "    print(\"\\n\")\n",
    "    print(mt5.terminal_info()._asdict())\n",
    "    print(\"\\n\")\n",
    "    print(mt5.symbols_total())\n",
    "    \n",
    "    \n",
    "# you code here"
   ]
  },
  {
   "cell_type": "code",
   "execution_count": 3,
   "metadata": {},
   "outputs": [
    {
     "name": "stdout",
     "output_type": "stream",
     "text": [
      "92.29\n",
      "AI is successfully functional\n"
     ]
    }
   ],
   "source": [
    "account = mt5.account_info()\n",
    "terminal = mt5.terminal_info()\n",
    "\n",
    "print(account.equity)\n",
    "\n",
    "if(terminal.connected == True and terminal.trade_allowed == True):\n",
    "    print(\"AI is successfully functional\")\n",
    "else:\n",
    "    print(\"Please make sure metatrade 5 has internet and algo Trade is Turn On\")\n",
    "    mt5.shutdown()"
   ]
  },
  {
   "cell_type": "code",
   "execution_count": 4,
   "metadata": {},
   "outputs": [],
   "source": [
    "#rates = mt5.copy_rates_from_pos(\"GBPUSD\", mt5.TIMEFRAME_H1, 0, 99999)  \n",
    "target_market =  [\"GBPUSD\",\"USDCAD\",\"AUDUSD\",\"USDCHF\",\"NZDUSD\",\"EURUSD\",\"XAUUSD\"]"
   ]
  },
  {
   "cell_type": "code",
   "execution_count": 48,
   "metadata": {},
   "outputs": [],
   "source": [
    "n = 6"
   ]
  },
  {
   "cell_type": "code",
   "execution_count": 49,
   "metadata": {},
   "outputs": [],
   "source": [
    "model = joblib.load(target_market[n]+\" regressor.joblib\")\n",
    "sc_x = joblib.load(target_market[n]+\" sc_x.joblib\")\n",
    "sc_y = joblib.load(target_market[n]+\" sc_y.joblib\")"
   ]
  },
  {
   "cell_type": "code",
   "execution_count": 50,
   "metadata": {},
   "outputs": [
    {
     "name": "stdout",
     "output_type": "stream",
     "text": [
      "1697677200\n",
      "(500,)\n",
      "[[1.6976772e+09 1.9474300e+03 1.9509400e+03 1.9474300e+03 1.3190000e+03]\n",
      " [1.6976808e+09 1.9496600e+03 1.9516000e+03 1.9496600e+03 1.5110000e+03]\n",
      " [1.6976844e+09 1.9508200e+03 1.9533300e+03 1.9486700e+03 3.9440000e+03]\n",
      " ...\n",
      " [1.7002332e+09 1.9886500e+03 1.9916000e+03 1.9835300e+03 1.4742000e+04]\n",
      " [1.7002368e+09 1.9847400e+03 1.9866700e+03 1.9794100e+03 1.8463000e+04]\n",
      " [1.7002404e+09 1.9803700e+03 1.9842700e+03 1.9799400e+03 1.1188000e+04]]\n",
      "[1982.77]\n"
     ]
    }
   ],
   "source": [
    "#dtype=[('time', '<i8'), ('open', '<f8'), ('high', '<f8'), ('low', '<f8'), ('close', '<f8'), ('tick_volume', '<u8'), ('spread', '<i4'), ('real_volume', '<u8')])]\n",
    "rates = mt5.copy_rates_from_pos(target_market[n], mt5.TIMEFRAME_H1, 0, 500)\n",
    "print(rates[0][0])\n",
    "print(rates.shape)\n",
    "data = []\n",
    "close_price = []\n",
    "open_price = []\n",
    "\n",
    "for i in range(len(rates)):\n",
    "    data.append([rates[i][0],rates[i][1],rates[i][2],rates[i][3],rates[i][5]])\n",
    "    open_price.append(rates[i][1])\n",
    "    close_price.append(rates[i][4])\n",
    "data = np.array(data)\n",
    "close_price = np.array(close_price)\n",
    "print(data)\n",
    "print(close_price[-1:])"
   ]
  },
  {
   "cell_type": "code",
   "execution_count": 51,
   "metadata": {},
   "outputs": [
    {
     "name": "stderr",
     "output_type": "stream",
     "text": [
      "[Parallel(n_jobs=10)]: Using backend ThreadingBackend with 10 concurrent workers.\n",
      "[Parallel(n_jobs=10)]: Done  30 tasks      | elapsed:    0.0s\n",
      "[Parallel(n_jobs=10)]: Done 180 tasks      | elapsed:    0.0s\n",
      "[Parallel(n_jobs=10)]: Done 300 out of 300 | elapsed:    0.0s finished\n"
     ]
    }
   ],
   "source": [
    "data = sc_x.transform(data)\n",
    "y_pred = model.predict(data)\n",
    "#print(y_pred)"
   ]
  },
  {
   "cell_type": "code",
   "execution_count": 52,
   "metadata": {},
   "outputs": [
    {
     "name": "stdout",
     "output_type": "stream",
     "text": [
      "[1949.60166667 1950.61553333 1950.62076667 1948.21786667 1949.4487\n",
      " 1946.72893333 1947.81393333 1946.9893     1947.53106667 1949.9825\n",
      " 1950.51356667 1950.17266667 1950.60206667 1951.70686667 1954.50373333\n",
      " 1953.997      1951.29886667 1956.67393333 1960.75433333 1971.80136667\n",
      " 1973.23566667 1974.95426667 1974.04813333 1973.57913333 1977.859\n",
      " 1975.1641     1976.90673333 1979.43463333 1977.95796667 1977.30123333\n",
      " 1977.95806667 1978.67433333 1980.1054     1983.90496667 1982.82046667\n",
      " 1983.34676667 1979.05613333 1977.472      1985.75623333 1989.80403333\n",
      " 1992.65513333 1983.74073333 1981.6804     1979.42543333 1980.06696667\n",
      " 1980.3733     1976.31236667 1972.38873333 1966.37696667 1966.6912\n",
      " 1972.5363     1973.45276667 1973.5185     1975.5082     1975.906\n",
      " 1978.85883333 1981.02096667 1978.1222     1977.4269     1978.84253333\n",
      " 1978.31736667 1974.56796667 1976.30173333 1975.49343333 1975.33343333\n",
      " 1976.07526667 1977.6357     1973.17283333 1972.65233333 1973.08606667\n",
      " 1973.07346667 1974.0099     1976.57583333 1978.0956     1977.08596667\n",
      " 1976.08086667 1976.17533333 1977.65213333 1976.19033333 1972.27586667\n",
      " 1966.6646     1962.4784     1961.1185     1964.8234     1963.35016667\n",
      " 1963.53173333 1968.73666667 1973.8922     1975.78723333 1973.47303333\n",
      " 1972.4348     1971.51626667 1970.53016667 1972.6145     1974.1201\n",
      " 1975.81293333 1972.99593333 1972.70626667 1972.69773333 1972.6909\n",
      " 1972.41593333 1970.68956667 1971.93703333 1970.17373333 1972.8015\n",
      " 1974.56546667 1975.27323333 1983.98733333 1978.20166667 1978.3969\n",
      " 1978.84616667 1983.05823333 1981.8639     1981.0881     1979.0233\n",
      " 1982.24676667 1982.9567     1983.49393333 1985.04413333 1985.1768\n",
      " 1986.5228     1988.46983333 1986.34316667 1985.5751     1989.3014\n",
      " 1991.81       1990.65293333 1986.99953333 1984.8289     1979.29683333\n",
      " 1978.87873333 1977.85233333 1979.56253333 1984.0969     1987.0551\n",
      " 1985.86206667 1984.17836667 1984.6476     1985.06986667 1984.62943333\n",
      " 1983.52373333 1985.37456667 1987.06093333 1987.41556667 1989.4198\n",
      " 1988.35953333 1987.65433333 1987.3588     1986.59133333 1985.97236667\n",
      " 1981.61416667 1981.7128     1981.07076667 1982.29186667 1982.4939\n",
      " 1980.23093333 1983.0873     1995.43006667 2003.97666667 2006.83996667\n",
      " 2005.586      2000.61363333 2002.41546667 2004.69726667 2004.57693333\n",
      " 2002.9514     2002.24486667 2001.21303333 1999.99203333 1996.03276667\n",
      " 1994.39373333 1993.2915     1995.9929     1994.67343333 1995.18693333\n",
      " 1997.68553333 1999.2507     1996.65146667 1999.0242     1998.94046667\n",
      " 1997.32013333 1998.01216667 1996.09096667 1996.2673     1995.3845\n",
      " 1995.22973333 1995.40913333 1996.1813     1994.82573333 1992.8481\n",
      " 1992.24326667 1993.5318     1994.46773333 1996.20996667 1997.2492\n",
      " 1997.48013333 1999.48376667 1999.6518     1996.0825     2001.47053333\n",
      " 2000.75033333 1994.62296667 1989.85323333 1984.7014     1983.31883333\n",
      " 1985.2523     1983.90063333 1984.89576667 1983.76203333 1980.39593333\n",
      " 1979.43486667 1978.65283333 1977.21253333 1977.6245     1978.48746667\n",
      " 1979.9634     1977.4347     1981.7938     1982.34946667 1983.27386667\n",
      " 1983.6787     1986.488      1984.8865     1988.104      1979.93183333\n",
      " 1977.85703333 1978.17933333 1976.1563     1979.19876667 1980.8082\n",
      " 1983.4441     1985.01486667 1984.75346667 1986.12853333 1984.24693333\n",
      " 1985.20886667 1985.71516667 1985.42323333 1985.5568     1985.31286667\n",
      " 1986.9821     1988.247      1988.24986667 1988.5053     1989.8022\n",
      " 1984.59006667 1983.49836667 1981.72916667 1981.37356667 1984.7269\n",
      " 1985.74313333 1985.24203333 1985.31373333 1985.1569     1985.11053333\n",
      " 1985.587      1984.1268     1987.02513333 1986.1579     1985.95163333\n",
      " 1986.83476667 1987.5469     1987.00756667 1988.1744     1989.1296\n",
      " 1988.4844     1987.81653333 1999.3141     1993.57593333 1994.439\n",
      " 1992.7663     1990.79983333 1992.76246667 1994.46473333 1992.95233333\n",
      " 1992.36476667 1988.67943333 1990.41406667 1992.1623     1988.09696667\n",
      " 1985.004      1983.92176667 1983.7461     1984.41746667 1983.46866667\n",
      " 1986.0603     1986.51503333 1987.32436667 1987.43176667 1984.83283333\n",
      " 1986.4214     1985.26253333 1981.78       1983.16506667 1983.6438\n",
      " 1981.45456667 1980.45886667 1977.79953333 1978.15923333 1976.79983333\n",
      " 1975.91516667 1975.88753333 1973.22216667 1972.73133333 1971.80123333\n",
      " 1973.30723333 1971.66163333 1969.11073333 1966.95736667 1966.36116667\n",
      " 1966.3657     1963.83276667 1959.3821     1965.41446667 1960.82136667\n",
      " 1963.52396667 1964.65103333 1963.58983333 1969.0819     1967.85626667\n",
      " 1968.59343333 1968.65893333 1968.82823333 1968.4162     1968.6467\n",
      " 1968.83036667 1967.7791     1967.51436667 1965.94593333 1967.47443333\n",
      " 1967.3144     1968.29656667 1966.0361     1961.84213333 1964.17623333\n",
      " 1963.14763333 1964.8411     1961.3105     1956.4727     1955.23586667\n",
      " 1954.11196667 1952.21926667 1948.4328     1949.5343     1950.20943333\n",
      " 1950.7323     1951.46866667 1953.2498     1950.4869     1949.2229\n",
      " 1949.38933333 1949.82156667 1949.56543333 1949.5221     1947.75203333\n",
      " 1947.50226667 1946.9348     1948.12676667 1946.1076     1950.12903333\n",
      " 1956.96476667 1962.30816667 1960.9387     1962.01273333 1962.5111\n",
      " 1958.8392     1957.9768     1958.2566     1958.94646667 1960.1835\n",
      " 1959.42086667 1958.0724     1959.55133333 1957.99123333 1957.39383333\n",
      " 1956.79566667 1955.34166667 1955.38673333 1954.11183333 1953.75696667\n",
      " 1948.636      1946.7099     1946.2724     1943.19596667 1942.87496667\n",
      " 1939.8007     1937.3068     1935.87283333 1935.84776667 1935.90773333\n",
      " 1937.29763333 1938.5162     1939.99596667 1939.85546667 1938.1924\n",
      " 1935.51053333 1935.58803333 1938.72763333 1938.9585     1938.96166667\n",
      " 1936.78923333 1938.46313333 1939.1147     1938.3003     1936.39533333\n",
      " 1936.42073333 1933.2896     1936.6942     1945.2465     1946.58016667\n",
      " 1947.42766667 1946.4044     1946.41946667 1946.07936667 1946.23446667\n",
      " 1946.6004     1946.18463333 1945.69436667 1944.95756667 1944.63336667\n",
      " 1944.49126667 1944.80656667 1945.58406667 1945.2893     1947.16083333\n",
      " 1946.9223     1946.09883333 1945.38643333 1954.72996667 1966.58466667\n",
      " 1964.12       1964.4164     1962.66213333 1962.7871     1963.4513\n",
      " 1963.59753333 1963.1025     1962.46016667 1963.12123333 1962.603\n",
      " 1964.1003     1966.33456667 1967.36773333 1966.72896667 1969.29193333\n",
      " 1969.6929     1971.41526667 1971.31103333 1973.1103     1972.7339\n",
      " 1971.64106667 1966.74363333 1958.56966667 1962.6285     1961.7438\n",
      " 1961.44553333 1960.28766667 1961.56793333 1959.58093333 1959.37856667\n",
      " 1960.16763333 1959.62963333 1958.43776667 1960.11933333 1961.3915\n",
      " 1962.179      1963.0094     1966.25523333 1966.60946667 1966.79136667\n",
      " 1966.5881     1965.32416667 1965.51603333 1963.9353     1971.72006667\n",
      " 1979.45046667 1984.2635     1982.5341     1982.72176667 1984.139\n",
      " 1983.3047     1981.2977     1980.9888     1982.3122     1984.42073333\n",
      " 1983.8629     1985.02026667 1986.42303333 1986.02476667 1984.7137\n",
      " 1983.57503333 1986.83736667 1987.99196667 1991.19353333 1992.2474\n",
      " 1988.89776667 1989.2007     1987.26863333 1982.38443333 1983.0735    ]\n"
     ]
    }
   ],
   "source": [
    "y_pred = sc_y.inverse_transform(y_pred.reshape((len(y_pred),1)))\n",
    "y_pred = y_pred.reshape(-1)\n",
    "print(y_pred)\n"
   ]
  },
  {
   "cell_type": "code",
   "execution_count": 53,
   "metadata": {},
   "outputs": [
    {
     "name": "stdout",
     "output_type": "stream",
     "text": [
      "0.9988377772246476\n",
      "0.9989572502813133\n"
     ]
    },
    {
     "name": "stderr",
     "output_type": "stream",
     "text": [
      "[Parallel(n_jobs=10)]: Using backend ThreadingBackend with 10 concurrent workers.\n",
      "[Parallel(n_jobs=10)]: Done  30 tasks      | elapsed:    0.0s\n",
      "[Parallel(n_jobs=10)]: Done 180 tasks      | elapsed:    0.0s\n",
      "[Parallel(n_jobs=10)]: Done 300 out of 300 | elapsed:    0.0s finished\n"
     ]
    }
   ],
   "source": [
    "def r_squared(y_true, y_pred):\n",
    "  \"\"\"Calculates the R-squared score.\n",
    "\n",
    "  Args:\n",
    "    y_true: The ground truth values.\n",
    "    y_pred: The predicted values.\n",
    "\n",
    "  Returns:\n",
    "    The R-squared score.\n",
    "  \"\"\"\n",
    "\n",
    "  mean_y_true = np.mean(y_true)\n",
    "  ss_tot = np.sum((y_true - mean_y_true)**2)\n",
    "  ss_res = np.sum((y_true - y_pred)**2)\n",
    "  r_squared = 1 - ss_res / ss_tot\n",
    "  return r_squared\n",
    "\n",
    "#y_pred = regressor.predict(x_test)\n",
    "#y_pred = y_pred.reshape(-1)\n",
    "r_squared = r_squared(close_price[-100:], y_pred[-100:])\n",
    "\n",
    "print(r_squared)\n",
    "\n",
    "score = model.score(\n",
    "    data,\n",
    "    sc_y.transform(close_price.reshape((len(close_price),1))).reshape(-1)\n",
    ")\n",
    "print(score)"
   ]
  },
  {
   "cell_type": "code",
   "execution_count": 54,
   "metadata": {},
   "outputs": [
    {
     "name": "stderr",
     "output_type": "stream",
     "text": [
      "[Parallel(n_jobs=10)]: Using backend ThreadingBackend with 10 concurrent workers.\n",
      "[Parallel(n_jobs=10)]: Done  30 tasks      | elapsed:    0.0s\n",
      "[Parallel(n_jobs=10)]: Done 180 tasks      | elapsed:    0.0s\n",
      "[Parallel(n_jobs=10)]: Done 300 out of 300 | elapsed:    0.0s finished\n"
     ]
    },
    {
     "data": {
      "image/png": "[encoded data removed]",
      "text/plain": [
       "<Figure size 1500x1000 with 1 Axes>"
      ]
     },
     "metadata": {},
     "output_type": "display_data"
    }
   ],
   "source": [
    "plt.figure(figsize=(15, 10))\n",
    "plt.title(target_market[n]+\" Prediction Compare on live result\")\n",
    "x_point = []\n",
    "for i in range(len(close_price[-100:])):\n",
    "  t = [i]\n",
    "  x_point.append(t)\n",
    "plt.scatter(x_point, close_price[-100:], label=\"close_price\")\n",
    "plt.scatter(x_point, y_pred[-100:], label=\"predicted_price\")\n",
    "plt.plot(close_price[-100:], label=\"y_test\")\n",
    "#plt.plot(open_price[-200:], label = \"open price\")\n",
    "y_pred = model.predict(data[-100:])\n",
    "y_pred = sc_y.inverse_transform(y_pred.reshape((len(y_pred),1)))\n",
    "y_pred = y_pred.reshape(-1)\n",
    "plt.plot(\n",
    "    y_pred,\n",
    "    label=\"y_pred\", color=\"red\"\n",
    ")\n",
    "\n",
    "\n",
    "\n",
    "plt.legend()\n",
    "\n",
    "plt.show()"
   ]
  },
  {
   "cell_type": "code",
   "execution_count": 40,
   "metadata": {},
   "outputs": [],
   "source": [
    "data = sc_x.inverse_transform(data)\n"
   ]
  },
  {
   "cell_type": "code",
   "execution_count": 41,
   "metadata": {},
   "outputs": [
    {
     "name": "stdout",
     "output_type": "stream",
     "text": [
      "[1.21147]\n",
      "[[1.698264e+09 1.212700e+00 1.428000e+04]]\n",
      "[1.21231177]\n"
     ]
    }
   ],
   "source": [
    "# creating an assumption on the system\n",
    "print(close_price[-1:])\n",
    "print(data[-1:,:])\n",
    "y_pred = model.predict(sc_x.transform(data[-1:,:]))\n",
    "y_pred = sc_y.inverse_transform(y_pred.reshape((len(y_pred),1)))\n",
    "y_pred = y_pred.reshape(-1)\n",
    "print(y_pred)\n",
    "\n"
   ]
  },
  {
   "cell_type": "code",
   "execution_count": 2,
   "metadata": {},
   "outputs": [
    {
     "ename": "NameError",
     "evalue": "name 'data' is not defined",
     "output_type": "error",
     "traceback": [
      "\u001b[1;31m---------------------------------------------------------------------------\u001b[0m",
      "\u001b[1;31mNameError\u001b[0m                                 Traceback (most recent call last)",
      "\u001b[1;32mc:\\Users\\Omage Micheal\\Documents\\Dbot Advance\\Dbot_ML_predictor.ipynb Cell 14\u001b[0m line \u001b[0;36m3\n\u001b[0;32m      <a href='vscode-notebook-cell:/c%3A/Users/Omage%20Micheal/Documents/Dbot%20Advance/Dbot_ML_predictor.ipynb#X16sZmlsZQ%3D%3D?line=0'>1</a>\u001b[0m \u001b[39m# set time zone to UTC\u001b[39;00m\n\u001b[0;32m      <a href='vscode-notebook-cell:/c%3A/Users/Omage%20Micheal/Documents/Dbot%20Advance/Dbot_ML_predictor.ipynb#X16sZmlsZQ%3D%3D?line=1'>2</a>\u001b[0m \u001b[39m# Convert Unix epoch time to UTC time\u001b[39;00m\n\u001b[1;32m----> <a href='vscode-notebook-cell:/c%3A/Users/Omage%20Micheal/Documents/Dbot%20Advance/Dbot_ML_predictor.ipynb#X16sZmlsZQ%3D%3D?line=2'>3</a>\u001b[0m utc_time \u001b[39m=\u001b[39m datetime\u001b[39m.\u001b[39mfromtimestamp(\u001b[39mint\u001b[39m(data[\u001b[39m-\u001b[39m\u001b[39m1\u001b[39m,\u001b[39m0\u001b[39m]))\n\u001b[0;32m      <a href='vscode-notebook-cell:/c%3A/Users/Omage%20Micheal/Documents/Dbot%20Advance/Dbot_ML_predictor.ipynb#X16sZmlsZQ%3D%3D?line=5'>6</a>\u001b[0m \u001b[39m# Extract the hour and minutes from the UTC datetime object\u001b[39;00m\n\u001b[0;32m      <a href='vscode-notebook-cell:/c%3A/Users/Omage%20Micheal/Documents/Dbot%20Advance/Dbot_ML_predictor.ipynb#X16sZmlsZQ%3D%3D?line=6'>7</a>\u001b[0m year \u001b[39m=\u001b[39m utc_time\u001b[39m.\u001b[39myear\n",
      "\u001b[1;31mNameError\u001b[0m: name 'data' is not defined"
     ]
    }
   ],
   "source": [
    "# set time zone to UTC\n",
    "# Convert Unix epoch time to UTC time\n",
    "utc_time = datetime.fromtimestamp(int(data[-1,0]))\n",
    "\n",
    "\n",
    "# Extract the hour and minutes from the UTC datetime object\n",
    "year = utc_time.year\n",
    "month = utc_time.month\n",
    "day = utc_time.day\n",
    "hour = utc_time.hour\n",
    "minutes = utc_time.minute\n",
    "\n",
    "# Print the hour and minutes\n",
    "# Print the results\n",
    "print(\"Year:\", year)\n",
    "print(\"Month:\", month)\n",
    "print(\"Day:\", day)\n",
    "print(\"Hour:\", hour)\n",
    "print(\"Minutes:\", minutes)"
   ]
  },
  {
   "cell_type": "code",
   "execution_count": 51,
   "metadata": {},
   "outputs": [
    {
     "name": "stdout",
     "output_type": "stream",
     "text": [
      "1698271200\n"
     ]
    }
   ],
   "source": [
    "chart1H = mt5.copy_rates_from_pos(target_market[n], mt5.TIMEFRAME_H1, 0, 5)\n",
    "print(chart1H[-1][0])"
   ]
  },
  {
   "cell_type": "code",
   "execution_count": 52,
   "metadata": {},
   "outputs": [
    {
     "name": "stdout",
     "output_type": "stream",
     "text": [
      "23\n",
      "23\n",
      "22\n",
      "21 The only time to trade\n"
     ]
    }
   ],
   "source": [
    "utc_time1H = datetime.fromtimestamp(int(chart1H[-1][0]))\n",
    "h = utc_time1H.hour\n",
    "print(h)\n",
    "\n",
    "for i in range(1,len(chart1H)):\n",
    "    utc_time1H = datetime.fromtimestamp(int(chart1H[i * -1][0]))\n",
    "    h = utc_time1H.hour\n",
    "    if(hour == h):\n",
    "        print(h, \"The only time to trade\")\n",
    "        break\n",
    "    print(h)"
   ]
  },
  {
   "cell_type": "code",
   "execution_count": 22,
   "metadata": {},
   "outputs": [
    {
     "name": "stdout",
     "output_type": "stream",
     "text": [
      "AI is functional\n",
      "4\n"
     ]
    }
   ],
   "source": [
    "#trade operation\n",
    "if(terminal.connected == True and terminal.trade_allowed == True):\n",
    "    print(\"AI is functional\")\n",
    "    total_order = mt5.positions_total()\n",
    "    print(total_order)\n",
    "    \n",
    "    \n",
    "else:\n",
    "    print(\"Please make sure metatrade 5 has internet and algo Trade is Turn On\")"
   ]
  },
  {
   "cell_type": "code",
   "execution_count": 10,
   "metadata": {},
   "outputs": [
    {
     "name": "stdout",
     "output_type": "stream",
     "text": [
      "Year: 2023\n",
      "Month: 11\n",
      "Day: 1\n",
      "Hour: 7\n",
      "Minute: 10\n"
     ]
    },
    {
     "ename": "",
     "evalue": "",
     "output_type": "error",
     "traceback": [
      "\u001b[1;31mThe Kernel crashed while executing code in the the current cell or a previous cell. Please review the code in the cell(s) to identify a possible cause of the failure. Click <a href='https://aka.ms/vscodeJupyterKernelCrash'>here</a> for more info. View Jupyter <a href='command:jupyter.viewOutput'>log</a> for further details."
     ]
    }
   ],
   "source": [
    "# Get the current datetime in UTC\n",
    "now_utc = datetime.utcnow()\n",
    "\n",
    "# Convert the UTC datetime to GMT +0\n",
    "now_gmt0 = now_utc.astimezone(timezone.utc)\n",
    "\n",
    "# Get the year, month, day, and hour from the GMT +0 datetime\n",
    "year = now_gmt0.year\n",
    "month = now_gmt0.month\n",
    "day = now_gmt0.day\n",
    "hour = now_gmt0.hour + 1\n",
    "mins = now_gmt0.minute\n",
    "# Print the results\n",
    "print(\"Year:\", year)\n",
    "print(\"Month:\", month)\n",
    "print(\"Day:\", day)\n",
    "print(\"Hour:\", hour)\n",
    "print(\"Minute:\", mins)"
   ]
  },
  {
   "cell_type": "code",
   "execution_count": 45,
   "metadata": {},
   "outputs": [
    {
     "name": "stdout",
     "output_type": "stream",
     "text": [
      "OrderSendResult(retcode=10018, deal=0, order=0, volume=0.0, price=0.0, bid=0.0, ask=0.0, comment='Market closed', request_id=2098276545, retcode_external=0, request=TradeRequest(action=1, magic=0, order=0, symbol='GBPUSD', volume=0.01, price=1.21471, stoplimit=0.0, sl=0.0, tp=0.0, deviation=20, type=0, type_filling=2, type_time=0, expiration=0, comment='Dbot_ML', position=0, position_by=0))\n"
     ]
    }
   ],
   "source": [
    "lot = 0.01\n",
    "symbol = \"GBPUSD\"\n",
    "price = mt5.symbol_info_tick(symbol).bid\n",
    "if(y_pred[-1] > price):\n",
    "    price = mt5.symbol_info_tick(symbol).ask\n",
    "    #buying a market\n",
    "    request = {\n",
    "        \"action\": mt5.TRADE_ACTION_DEAL,\n",
    "        \"symbol\": symbol,\n",
    "        \"volume\": lot,\n",
    "        \"type\": mt5.ORDER_TYPE_BUY,\n",
    "        \"price\": price,\n",
    "        \"sl\": 0.0,\n",
    "        \"tp\": 0.0,\n",
    "        \"deviation\": 20,\n",
    "        \"magic\": 0,\n",
    "        \"comment\": \"Dbot_ML\",\n",
    "        \"type_time\": mt5.ORDER_TIME_GTC,\n",
    "        \"type_filling\": mt5.ORDER_FILLING_RETURN,\n",
    "    }\n",
    "elif(y_pred[-1] < price):\n",
    "    price = mt5.symbol_info_tick(symbol).bid\n",
    "    #buying a market\n",
    "    request = {\n",
    "        \"action\": mt5.TRADE_ACTION_DEAL,\n",
    "        \"symbol\": symbol,\n",
    "        \"volume\": lot,\n",
    "        \"type\": mt5.ORDER_TYPE_SELL,\n",
    "        \"price\": price,\n",
    "        \"sl\": 0.0,\n",
    "        \"tp\":0.0,\n",
    "        \"deviation\": 20,\n",
    "        \"magic\": 0,\n",
    "        \"comment\": \"Dbot_ML\",\n",
    "        \"type_time\": mt5.ORDER_TIME_GTC,\n",
    "        \"type_filling\": mt5.ORDER_FILLING_RETURN,\n",
    "    }\n",
    "result=mt5.order_send(request)\n",
    "print(result)"
   ]
  },
  {
   "cell_type": "code",
   "execution_count": 39,
   "metadata": {},
   "outputs": [
    {
     "name": "stdout",
     "output_type": "stream",
     "text": [
      "3\n"
     ]
    }
   ],
   "source": [
    "print(mt5.positions_total())"
   ]
  },
  {
   "cell_type": "code",
   "execution_count": 42,
   "metadata": {},
   "outputs": [
    {
     "name": "stdout",
     "output_type": "stream",
     "text": [
      "USDCHF\n",
      "USDCAD\n",
      "seen\n",
      "TradePosition(ticket=50764878607, time=1697054762, time_msc=1697054762903, time_update=1697054762, time_update_msc=1697054762903, type=1, magic=0, identifier=50764878607, reason=0, volume=0.01, price_open=1.36079, sl=0.0, tp=0.0, price_current=1.36136, swap=-0.01, profit=-0.42, symbol='USDCAD', comment='', external_id='')\n",
      "open price  1.36079\n",
      "close_price  1.36136\n",
      "profit  -0.42\n",
      "lot size  0.01\n",
      "order type  1\n"
     ]
    }
   ],
   "source": [
    "order_symbols = mt5.positions_get()\n",
    "n = 1\n",
    "for order_symbol in order_symbols:\n",
    "    print(order_symbol.symbol)\n",
    "    if(target_market[n] == order_symbol.symbol):\n",
    "        print(\"seen\")\n",
    "        target_order = order_symbol\n",
    "        break\n",
    "\n",
    "print(target_order)\n",
    "o_price = target_order.price_open\n",
    "c_price = target_order.price_current\n",
    "profit = target_order.profit\n",
    "lot_size = target_order.volume\n",
    "order_type = target_order.type\n",
    "tp = target_order.tp\n",
    "sl = target_order.sl\n",
    "\n",
    "print(\"open price \", o_price)\n",
    "print(\"close_price \",c_price)\n",
    "print(\"profit \",profit)\n",
    "print(\"lot size \",lot_size)\n",
    "print(\"order type \",order_type)"
   ]
  },
  {
   "cell_type": "code",
   "execution_count": 27,
   "metadata": {},
   "outputs": [
    {
     "name": "stdout",
     "output_type": "stream",
     "text": [
      "OrderSendResult(retcode=10009, deal=0, order=0, volume=0.0, price=0.0, bid=0.0, ask=0.0, comment='Request executed', request_id=111532076, retcode_external=0, request=TradeRequest(action=6, magic=0, order=0, symbol='GBPUSD', volume=0.0, price=0.0, stoplimit=0.0, sl=0.0, tp=1.2213676333333343, deviation=0, type=0, type_filling=0, type_time=0, expiration=0, comment='', position=50758476285, position_by=0))\n"
     ]
    }
   ],
   "source": [
    "\n",
    "#modify the market\n",
    "\n",
    "request = {\n",
    "    \"action\": mt5.TRADE_ACTION_SLTP,\n",
    "    \"symbol\": target_order.symbol,\n",
    "    \"sl\": 0.0,\n",
    "    \"tp\": y_pred[-1],\n",
    "    \"position\": target_order.ticket\n",
    "}\n",
    "\n",
    "result=mt5.order_send(request)\n",
    "print(result)"
   ]
  },
  {
   "cell_type": "code",
   "execution_count": 44,
   "metadata": {},
   "outputs": [
    {
     "name": "stdout",
     "output_type": "stream",
     "text": [
      "False\n"
     ]
    }
   ],
   "source": [
    "result = mt5.Close(target_order.symbol,ticket=target_order.ticket)\n",
    "print(result)"
   ]
  },
  {
   "cell_type": "code",
   "execution_count": 22,
   "metadata": {},
   "outputs": [
    {
     "name": "stdout",
     "output_type": "stream",
     "text": [
      "(1, 'Success')\n",
      "1.2278\n"
     ]
    },
    {
     "ename": "",
     "evalue": "",
     "output_type": "error",
     "traceback": [
      "\u001b[1;31mThe Kernel crashed while executing code in the the current cell or a previous cell. Please review the code in the cell(s) to identify a possible cause of the failure. Click <a href='https://aka.ms/vscodeJupyterKernelCrash'>here</a> for more info. View Jupyter <a href='command:jupyter.viewOutput'>log</a> for further details."
     ]
    }
   ],
   "source": [
    "print(mt5.last_error())\n",
    "print(price)"
   ]
  },
  {
   "cell_type": "code",
   "execution_count": 2,
   "metadata": {},
   "outputs": [
    {
     "name": "stdout",
     "output_type": "stream",
     "text": [
      "Hi  0\n",
      "Hi  1\n",
      "Hi  2\n",
      "Hi  3\n",
      "Hi  4\n",
      "Hi  5\n",
      "Hi  6\n",
      "Hi  7\n",
      "Hi  8\n",
      "Hi  9\n"
     ]
    }
   ],
   "source": [
    "import time\n",
    "\n",
    "for i in range(10):\n",
    "    print(\"Hi \", i)\n",
    "    time.sleep(5)"
   ]
  }
 ],
 "metadata": {
  "kernelspec": {
   "display_name": "Python 3",
   "language": "python",
   "name": "python3"
  },
  "language_info": {
   "codemirror_mode": {
    "name": "ipython",
    "version": 3
   },
   "file_extension": ".py",
   "mimetype": "text/x-python",
   "name": "python",
   "nbconvert_exporter": "python",
   "pygments_lexer": "ipython3",
   "version": "3.10.7"
  }
 },
 "nbformat": 4,
 "nbformat_minor": 2
}
