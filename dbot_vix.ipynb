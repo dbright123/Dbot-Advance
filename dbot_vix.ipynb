{
 "cells": [
  {
   "cell_type": "code",
   "execution_count": 1,
   "metadata": {},
   "outputs": [],
   "source": [
    "import joblib\n",
    "from sklearn.ensemble import RandomForestRegressor\n",
    "from sklearn.preprocessing import StandardScaler\n",
    "import numpy as np\n",
    "import MetaTrader5 as mt5"
   ]
  },
  {
   "cell_type": "code",
   "execution_count": 2,
   "metadata": {},
   "outputs": [
    {
     "name": "stdout",
     "output_type": "stream",
     "text": [
      "MetaTrader5 initialized\n"
     ]
    }
   ],
   "source": [
    "if mt5.initialize():\n",
    "    print(\"MetaTrader5 initialized\")\n",
    "else:\n",
    "    print(\"MetaTrader5 not initialized\")"
   ]
  },
  {
   "cell_type": "code",
   "execution_count": 3,
   "metadata": {},
   "outputs": [
    {
     "name": "stdout",
     "output_type": "stream",
     "text": [
      "AccountInfo(login=31501023, trade_mode=0, leverage=500, limit_orders=50, margin_so_mode=0, trade_allowed=True, trade_expert=True, margin_mode=2, currency_digits=2, fifo_close=False, balance=9990.59, credit=0.0, profit=0.0, equity=9990.59, margin=0.0, margin_free=9990.59, margin_level=0.0, margin_so_call=100.0, margin_so_so=50.0, margin_initial=0.0, margin_maintenance=0.0, assets=0.0, liabilities=0.0, commission_blocked=0.0, name='Demo Derived', server='Deriv-Demo', currency='USD', company='Deriv.com Limited')\n",
      "\n",
      "\n",
      "TerminalInfo(community_account=False, community_connection=False, connected=True, dlls_allowed=False, trade_allowed=True, tradeapi_disabled=False, email_enabled=False, ftp_enabled=False, notifications_enabled=False, mqid=False, build=4294, maxbars=100000, codepage=0, ping_last=168583, community_balance=0.0, retransmission=0.0, company='MetaQuotes Software Corp.', name='MetaTrader 5', language='English', path='C:\\\\Program Files\\\\MetaTrader 5', data_path='C:\\\\Users\\\\omage\\\\AppData\\\\Roaming\\\\MetaQuotes\\\\Terminal\\\\D0E8209F77C8CF37AD8BF550E51FF075', commondata_path='C:\\\\Users\\\\omage\\\\AppData\\\\Roaming\\\\MetaQuotes\\\\Terminal\\\\Common')\n"
     ]
    }
   ],
   "source": [
    "print(mt5.account_info())\n",
    "print(\"\\n\")\n",
    "print(mt5.terminal_info())"
   ]
  },
  {
   "cell_type": "code",
   "execution_count": 4,
   "metadata": {},
   "outputs": [],
   "source": [
    "sc_x = joblib.load(\"v75i sc_x.joblib\")\n",
    "sc_y = joblib.load(\"v75i sc_y.joblib\")\n",
    "model = joblib.load(\"v75i t_model.joblib\")"
   ]
  },
  {
   "cell_type": "code",
   "execution_count": 5,
   "metadata": {},
   "outputs": [],
   "source": [
    "rates = mt5.copy_rates_from_pos(\"Volatility 75 Index\", mt5.TIMEFRAME_H1, 0, 100)"
   ]
  },
  {
   "cell_type": "code",
   "execution_count": 6,
   "metadata": {},
   "outputs": [
    {
     "name": "stdout",
     "output_type": "stream",
     "text": [
      "done executing\n"
     ]
    }
   ],
   "source": [
    "x = []\n",
    "y = []\n",
    "\n",
    "i = 0\n",
    "for rate in rates:\n",
    "    if i == 0:\n",
    "        i=1\n",
    "    else:    \n",
    "        x.append([rate[1],rate[2],rate[3],rate[4],rate[5]])\n",
    "i = 0\n",
    "for rate in rates:\n",
    "    if i < len(rates) - 1:\n",
    "        y.append(rate[4]) \n",
    "        i += 1\n",
    "    else:\n",
    "        print(\"done executing\") "
   ]
  },
  {
   "cell_type": "code",
   "execution_count": 7,
   "metadata": {},
   "outputs": [],
   "source": [
    "x = np.array(x,dtype=np.float32)\n",
    "y = np.array(y,dtype=np.float32)\n",
    "x = sc_x.transform(x)\n",
    "y = sc_y.transform(y.reshape((len(y),1)))"
   ]
  },
  {
   "cell_type": "code",
   "execution_count": 8,
   "metadata": {},
   "outputs": [],
   "source": [
    "y = y.reshape(-1)"
   ]
  },
  {
   "cell_type": "code",
   "execution_count": 9,
   "metadata": {},
   "outputs": [
    {
     "name": "stdout",
     "output_type": "stream",
     "text": [
      "[[ -1.3177834  -1.318945   -1.3203634  -1.3222611  80.880554 ]\n",
      " [ -1.3223332  -1.321244   -1.3205854  -1.3185349  80.880554 ]\n",
      " [ -1.318708   -1.3100277  -1.316107   -1.3104172  80.880554 ]\n",
      " [ -1.3102022  -1.3047748  -1.3083297  -1.3037307  80.790726 ]\n",
      " [ -1.3038799  -1.3053437  -1.3038973  -1.3038011  80.790726 ]\n",
      " [ -1.303795   -1.3066082  -1.3073051  -1.3035457  80.880554 ]\n",
      " [ -1.3035703  -1.306665   -1.3086851  -1.3051893  80.880554 ]\n",
      " [ -1.3051224  -1.305988   -1.3065698  -1.3039986  80.341576 ]\n",
      " [ -1.3038744  -1.3029593  -1.3041303  -1.3024116  80.880554 ]\n",
      " [ -1.3024824  -1.3041682  -1.303567   -1.3041906  80.880554 ]\n",
      " [ -1.304106   -1.3021829  -1.3062878  -1.3013287  80.880554 ]\n",
      " [ -1.3012409  -1.3027179  -1.3098036  -1.3065423  80.790726 ]\n",
      " [ -1.3063412  -1.3076726  -1.307316   -1.3073049  80.880554 ]\n",
      " [ -1.307264   -1.3062729  -1.3066764  -1.3056657  80.880554 ]\n",
      " [ -1.3057408  -1.3080031  -1.3111855  -1.3115488  80.880554 ]\n",
      " [ -1.3115776  -1.3117244  -1.310544   -1.3122479  80.880554 ]\n",
      " [ -1.312131   -1.3121059  -1.3178436  -1.3197043  80.880554 ]\n",
      " [ -1.3194581  -1.3205973  -1.3219907  -1.3240442  80.790726 ]\n",
      " [ -1.3239715  -1.323169   -1.3218634  -1.3211229  80.880554 ]\n",
      " [ -1.3212081  -1.3167154  -1.3215904  -1.3154994  80.790726 ]\n",
      " [ -1.3154403  -1.3184978  -1.3236582  -1.3242886  80.880554 ]\n",
      " [ -1.3242649  -1.3236103  -1.3264588  -1.3285508  80.880554 ]\n",
      " [ -1.328463   -1.3280947  -1.3282584  -1.3298854  80.7009   ]\n",
      " [ -1.3298786  -1.3305713  -1.3290913  -1.3300093  80.790726 ]\n",
      " [ -1.3301275  -1.3263919  -1.3290507  -1.325588   80.880554 ]\n",
      " [ -1.3256233  -1.3260409  -1.3280872  -1.3267723  80.880554 ]\n",
      " [ -1.3267221  -1.3294715  -1.331379   -1.3336749  80.880554 ]\n",
      " [ -1.3334978  -1.3343083  -1.3356524  -1.3372378  80.880554 ]\n",
      " [ -1.3371944  -1.339887   -1.3402234  -1.3420091  80.880554 ]\n",
      " [ -1.342215   -1.3364223  -1.3397447  -1.3375734  80.790726 ]\n",
      " [ -1.3374287  -1.3355635  -1.3364856  -1.3357965  80.790726 ]\n",
      " [ -1.3358022  -1.3302293  -1.333329   -1.3279902  80.790726 ]\n",
      " [ -1.327967   -1.3287576  -1.3285728  -1.330133   80.880554 ]\n",
      " [ -1.3302627  -1.3309958  -1.3312846  -1.3288496  80.790726 ]\n",
      " [ -1.3288085  -1.3316665  -1.3353609  -1.3316729  80.880554 ]\n",
      " [ -1.331565   -1.334164   -1.3362263  -1.3334576  80.880554 ]\n",
      " [ -1.3334953  -1.3288474  -1.333345   -1.3267277  80.880554 ]\n",
      " [ -1.3267175  -1.3258723  -1.3259022  -1.322929   80.880554 ]\n",
      " [ -1.3228976  -1.319816   -1.3208417  -1.3199701  80.880554 ]\n",
      " [ -1.319769   -1.3187884  -1.3202307  -1.3176813  80.880554 ]\n",
      " [ -1.3175521  -1.3156954  -1.3183266  -1.3199643  80.880554 ]\n",
      " [ -1.3199973  -1.318167   -1.3197448  -1.3210242  80.880554 ]\n",
      " [ -1.3208903  -1.3206646  -1.321909   -1.3242067  80.790726 ]\n",
      " [ -1.3240594  -1.3257928  -1.3332653  -1.3354679  80.7009   ]\n",
      " [ -1.335185   -1.334767   -1.336859   -1.3346786  80.880554 ]\n",
      " [ -1.3346916  -1.331994   -1.3344653  -1.334021   80.790726 ]\n",
      " [ -1.3338894  -1.3293732  -1.3326188  -1.3285662  80.880554 ]\n",
      " [ -1.3283598  -1.3300819  -1.3296251  -1.3306351  80.880554 ]\n",
      " [ -1.3305396  -1.3271328  -1.3285367  -1.3298577  80.880554 ]\n",
      " [ -1.3300732  -1.3316761  -1.3305596  -1.3324931  80.880554 ]\n",
      " [ -1.3326439  -1.3336225  -1.3354201  -1.3375237  80.880554 ]\n",
      " [ -1.3377715  -1.3282067  -1.3351077  -1.3264866  80.790726 ]\n",
      " [ -1.326462   -1.317252   -1.324614   -1.3152148  80.880554 ]\n",
      " [ -1.3152063  -1.3115228  -1.3126078  -1.3154281  80.880554 ]\n",
      " [ -1.3153163  -1.3183744  -1.3184011  -1.3189509  80.880554 ]\n",
      " [ -1.3189733  -1.3220146  -1.3241001  -1.3268951  80.880554 ]\n",
      " [ -1.3268422  -1.3277632  -1.3343054  -1.3345906  80.880554 ]\n",
      " [ -1.3347062  -1.3310903  -1.3339548  -1.3316987  80.790726 ]\n",
      " [ -1.331907   -1.3348888  -1.3406645  -1.3412411  80.790726 ]\n",
      " [ -1.3413957  -1.3439962  -1.3516146  -1.3518635  80.7009   ]\n",
      " [ -1.3518122  -1.3458892  -1.3508203  -1.3466357  80.7009   ]\n",
      " [ -1.346632   -1.3438601  -1.3442608  -1.3442556  80.880554 ]\n",
      " [ -1.3440387  -1.343927   -1.3445393  -1.3433944  80.880554 ]\n",
      " [ -1.3433806  -1.3414352  -1.3415384  -1.3438696  80.880554 ]\n",
      " [ -1.3439486  -1.3428713  -1.3448066  -1.3448412  80.880554 ]\n",
      " [ -1.3450727  -1.341537   -1.3429135  -1.342108   80.7009   ]\n",
      " [ -1.3422164  -1.3422221  -1.3423359  -1.3405188  80.880554 ]\n",
      " [ -1.3406297  -1.3400117  -1.3442137  -1.3373027  80.880554 ]\n",
      " [ -1.3372896  -1.3372806  -1.3394568  -1.3416449  80.790726 ]\n",
      " [ -1.3416218  -1.3413115  -1.343849   -1.343164   80.7009   ]\n",
      " [ -1.3431755  -1.344993   -1.3447336  -1.346576   80.790726 ]\n",
      " [ -1.3464671  -1.3476974  -1.3486646  -1.3503604  80.880554 ]\n",
      " [ -1.3501953  -1.3498375  -1.3504497  -1.3504219  80.790726 ]\n",
      " [ -1.350463   -1.348525   -1.3484907  -1.3466982  80.880554 ]\n",
      " [ -1.3466733  -1.3462265  -1.3466023  -1.3438014  80.880554 ]\n",
      " [ -1.3439791  -1.344321   -1.3476875  -1.3498167  80.880554 ]\n",
      " [ -1.3498535  -1.3452128  -1.3483186  -1.3461177  80.880554 ]\n",
      " [ -1.345936   -1.3471469  -1.3498114  -1.3476793  80.880554 ]\n",
      " [ -1.3476199  -1.3488235  -1.3500057  -1.3529143  80.880554 ]\n",
      " [ -1.3528732  -1.349922   -1.3503084  -1.3493178  80.790726 ]\n",
      " [ -1.349383   -1.3474811  -1.3495841  -1.3505476  80.880554 ]\n",
      " [ -1.350562   -1.3453617  -1.3505837  -1.3444241  80.880554 ]\n",
      " [ -1.344396   -1.3445872  -1.3457798  -1.3429897  80.880554 ]\n",
      " [ -1.3430957  -1.3440315  -1.3446528  -1.3428948  80.880554 ]\n",
      " [ -1.342843   -1.3322399  -1.3410808  -1.332295   80.880554 ]\n",
      " [ -1.3321654  -1.3347155  -1.3356953  -1.3383026  80.880554 ]\n",
      " [ -1.3382492  -1.3386672  -1.341424   -1.3432013  80.880554 ]\n",
      " [ -1.3434376  -1.3340969  -1.3407835  -1.334748   80.880554 ]\n",
      " [ -1.3349348  -1.337729   -1.3435861  -1.3436936  80.880554 ]\n",
      " [ -1.3436977  -1.3422681  -1.3416998  -1.3397207  80.790726 ]\n",
      " [ -1.3395401  -1.3408537  -1.3396835  -1.341206   80.880554 ]\n",
      " [ -1.3409773  -1.3354753  -1.339909   -1.3368666  80.790726 ]\n",
      " [ -1.3371521  -1.3333541  -1.3355749  -1.3320507  80.880554 ]\n",
      " [ -1.3319242  -1.3303983  -1.3360621  -1.3381733  80.880554 ]\n",
      " [ -1.3382099  -1.3356606  -1.3363708  -1.3345912  80.880554 ]\n",
      " [ -1.3344258  -1.334408   -1.3347148  -1.3364447  80.880554 ]\n",
      " [ -1.336357   -1.3356717  -1.3397765  -1.3416748  80.880554 ]\n",
      " [ -1.3417531  -1.3445911  -1.3489941  -1.3502162  80.880554 ]\n",
      " [ -1.3502201  -1.3522986  -1.3474987  -1.3504181 -72.99813  ]]\n"
     ]
    }
   ],
   "source": [
    "print(x)"
   ]
  },
  {
   "cell_type": "code",
   "execution_count": 10,
   "metadata": {},
   "outputs": [
    {
     "name": "stdout",
     "output_type": "stream",
     "text": [
      "0.9998081826340561\n"
     ]
    },
    {
     "name": "stderr",
     "output_type": "stream",
     "text": [
      "[Parallel(n_jobs=8)]: Using backend ThreadingBackend with 8 concurrent workers.\n",
      "[Parallel(n_jobs=8)]: Done  25 tasks      | elapsed:    0.0s\n",
      "[Parallel(n_jobs=8)]: Done 146 tasks      | elapsed:    0.0s\n",
      "[Parallel(n_jobs=8)]: Done 200 out of 200 | elapsed:    0.0s finished\n"
     ]
    }
   ],
   "source": [
    "print(model.score(x,y))"
   ]
  },
  {
   "cell_type": "code",
   "execution_count": 11,
   "metadata": {},
   "outputs": [],
   "source": [
    "market = \"Volatility 75 Index\"\n",
    "lot = 0.01"
   ]
  },
  {
   "cell_type": "code",
   "execution_count": 12,
   "metadata": {},
   "outputs": [
    {
     "data": {
      "text/plain": [
       "array([(1716465600, 163243.26, 163268.9, 160758.74, 161173.08, 1800, 4279, 0),\n",
       "       (1716469200, 161168.56, 161372. , 161123.58, 161123.58,   87, 4279, 0)],\n",
       "      dtype=[('time', '<i8'), ('open', '<f8'), ('high', '<f8'), ('low', '<f8'), ('close', '<f8'), ('tick_volume', '<u8'), ('spread', '<i4'), ('real_volume', '<u8')])"
      ]
     },
     "execution_count": 12,
     "metadata": {},
     "output_type": "execute_result"
    }
   ],
   "source": [
    "rates = mt5.copy_rates_from_pos(market, mt5.TIMEFRAME_H1, 0, 2)\n",
    "rates"
   ]
  },
  {
   "cell_type": "code",
   "execution_count": 13,
   "metadata": {},
   "outputs": [
    {
     "name": "stdout",
     "output_type": "stream",
     "text": [
      "OrderSendResult(retcode=10009, deal=3831408837, order=3918789492, volume=0.01, price=161165.93, bid=161123.14, ask=161165.93, comment='Request executed', request_id=3080975666, retcode_external=0, request=TradeRequest(action=1, magic=0, order=0, symbol='Volatility 75 Index', volume=0.01, price=161166.37, stoplimit=0.0, sl=0.0, tp=0.0, deviation=10, type=0, type_filling=0, type_time=0, expiration=0, comment='testing', position=0, position_by=0))\n",
      "OrderSendResult(retcode=10009, deal=3831408933, order=3918789529, volume=0.01, price=161183.88, bid=161183.88, ask=161226.67, comment='Request executed', request_id=3080975667, retcode_external=0, request=TradeRequest(action=1, magic=0, order=0, symbol='Volatility 75 Index', volume=0.01, price=161123.14, stoplimit=0.0, sl=0.0, tp=0.0, deviation=10, type=1, type_filling=0, type_time=0, expiration=0, comment='testing', position=0, position_by=0))\n"
     ]
    }
   ],
   "source": [
    "result = mt5.Buy(market,lot,comment=\"testing\")\n",
    "print(result)\n",
    "result = mt5.Sell(market,lot,comment=\"testing\")\n",
    "print(result)"
   ]
  },
  {
   "cell_type": "code",
   "execution_count": 14,
   "metadata": {},
   "outputs": [
    {
     "name": "stdout",
     "output_type": "stream",
     "text": [
      "True\n"
     ]
    }
   ],
   "source": [
    "result = mt5.Close(market)\n",
    "print(result)"
   ]
  },
  {
   "cell_type": "code",
   "execution_count": 15,
   "metadata": {},
   "outputs": [
    {
     "name": "stdout",
     "output_type": "stream",
     "text": [
      "[[163243.26, 163268.9, 160758.74, 161173.08, 1800], [161168.56, 161372.0, 161123.58, 161123.58, 87]]\n"
     ]
    }
   ],
   "source": [
    "x = []\n",
    "for rate in rates:      \n",
    "    x.append([rate[1],rate[2],rate[3],rate[4],rate[5]])\n",
    "print(x)"
   ]
  },
  {
   "cell_type": "code",
   "execution_count": 16,
   "metadata": {},
   "outputs": [],
   "source": [
    "x = np.array(x,dtype=np.float32)\n",
    "x = sc_x.transform(x)"
   ]
  },
  {
   "cell_type": "code",
   "execution_count": 17,
   "metadata": {},
   "outputs": [
    {
     "name": "stdout",
     "output_type": "stream",
     "text": [
      "[[ -1.3417531  -1.3445911  -1.3489941  -1.3502162  80.880554 ]\n",
      " [ -1.3502201  -1.3522986  -1.3474987  -1.3504181 -72.99813  ]]\n"
     ]
    }
   ],
   "source": [
    "print(x)"
   ]
  },
  {
   "cell_type": "code",
   "execution_count": 18,
   "metadata": {},
   "outputs": [
    {
     "name": "stdout",
     "output_type": "stream",
     "text": [
      "[-1.34175115 -1.35003605]\n"
     ]
    },
    {
     "name": "stderr",
     "output_type": "stream",
     "text": [
      "[Parallel(n_jobs=8)]: Using backend ThreadingBackend with 8 concurrent workers.\n",
      "[Parallel(n_jobs=8)]: Done  25 tasks      | elapsed:    0.0s\n",
      "[Parallel(n_jobs=8)]: Done 146 tasks      | elapsed:    0.0s\n",
      "[Parallel(n_jobs=8)]: Done 200 out of 200 | elapsed:    0.0s finished\n"
     ]
    }
   ],
   "source": [
    "y_pred = model.predict(x)\n",
    "print(y_pred)"
   ]
  },
  {
   "cell_type": "code",
   "execution_count": 19,
   "metadata": {},
   "outputs": [
    {
     "name": "stdout",
     "output_type": "stream",
     "text": [
      "[[163243.5361]\n",
      " [161213.4483]]\n"
     ]
    }
   ],
   "source": [
    "y_pred = sc_y.inverse_transform(y_pred.reshape((len(y_pred),1)))\n",
    "\n",
    "print(y_pred)"
   ]
  }
 ],
 "metadata": {
  "kernelspec": {
   "display_name": "py310",
   "language": "python",
   "name": "python3"
  },
  "language_info": {
   "codemirror_mode": {
    "name": "ipython",
    "version": 3
   },
   "file_extension": ".py",
   "mimetype": "text/x-python",
   "name": "python",
   "nbconvert_exporter": "python",
   "pygments_lexer": "ipython3",
   "version": "3.10.13"
  }
 },
 "nbformat": 4,
 "nbformat_minor": 2
}
