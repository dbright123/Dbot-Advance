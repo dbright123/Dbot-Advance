{
 "cells": [
  {
   "cell_type": "code",
   "execution_count": 1,
   "metadata": {},
   "outputs": [],
   "source": [
    "import joblib\n",
    "from sklearn.ensemble import RandomForestRegressor\n",
    "from sklearn.preprocessing import StandardScaler\n",
    "import numpy as np\n",
    "import MetaTrader5 as mt5"
   ]
  },
  {
   "cell_type": "code",
   "execution_count": 2,
   "metadata": {},
   "outputs": [
    {
     "name": "stdout",
     "output_type": "stream",
     "text": [
      "MetaTrader5 initialized\n"
     ]
    }
   ],
   "source": [
    "if mt5.initialize():\n",
    "    print(\"MetaTrader5 initialized\")\n",
    "else:\n",
    "    print(\"MetaTrader5 not initialized\")"
   ]
  },
  {
   "cell_type": "code",
   "execution_count": 3,
   "metadata": {},
   "outputs": [
    {
     "name": "stdout",
     "output_type": "stream",
     "text": [
      "AccountInfo(login=31501023, trade_mode=0, leverage=500, limit_orders=50, margin_so_mode=0, trade_allowed=True, trade_expert=True, margin_mode=2, currency_digits=2, fifo_close=False, balance=9999.56, credit=0.0, profit=0.0, equity=9999.56, margin=0.0, margin_free=9999.56, margin_level=0.0, margin_so_call=100.0, margin_so_so=50.0, margin_initial=0.0, margin_maintenance=0.0, assets=0.0, liabilities=0.0, commission_blocked=0.0, name='Demo Derived', server='Deriv-Demo', currency='USD', company='Deriv.com Limited')\n",
      "\n",
      "\n",
      "TerminalInfo(community_account=False, community_connection=False, connected=True, dlls_allowed=False, trade_allowed=True, tradeapi_disabled=False, email_enabled=False, ftp_enabled=False, notifications_enabled=False, mqid=False, build=4282, maxbars=100000, codepage=0, ping_last=156438, community_balance=0.0, retransmission=2.2288154691213458, company='MetaQuotes Software Corp.', name='MetaTrader 5', language='English', path='C:\\\\Program Files\\\\MetaTrader 5', data_path='C:\\\\Users\\\\omage\\\\AppData\\\\Roaming\\\\MetaQuotes\\\\Terminal\\\\D0E8209F77C8CF37AD8BF550E51FF075', commondata_path='C:\\\\Users\\\\omage\\\\AppData\\\\Roaming\\\\MetaQuotes\\\\Terminal\\\\Common')\n"
     ]
    }
   ],
   "source": [
    "print(mt5.account_info())\n",
    "print(\"\\n\")\n",
    "print(mt5.terminal_info())"
   ]
  },
  {
   "cell_type": "code",
   "execution_count": 4,
   "metadata": {},
   "outputs": [],
   "source": [
    "sc_x = joblib.load(\"v75i sc_x.joblib\")\n",
    "sc_y = joblib.load(\"v75i sc_y.joblib\")\n",
    "model = joblib.load(\"v75i t_model.joblib\")"
   ]
  },
  {
   "cell_type": "code",
   "execution_count": 5,
   "metadata": {},
   "outputs": [],
   "source": [
    "rates = mt5.copy_rates_from_pos(\"Volatility 75 Index\", mt5.TIMEFRAME_H1, 0, 100)"
   ]
  },
  {
   "cell_type": "code",
   "execution_count": 6,
   "metadata": {},
   "outputs": [
    {
     "name": "stdout",
     "output_type": "stream",
     "text": [
      "done executing\n"
     ]
    }
   ],
   "source": [
    "x = []\n",
    "y = []\n",
    "\n",
    "i = 0\n",
    "for rate in rates:\n",
    "    if i == 0:\n",
    "        i=1\n",
    "    else:    \n",
    "        x.append([rate[1],rate[2],rate[3],rate[4],rate[5]])\n",
    "i = 0\n",
    "for rate in rates:\n",
    "    if i < len(rates) - 1:\n",
    "        y.append(rate[4]) \n",
    "        i += 1\n",
    "    else:\n",
    "        print(\"done executing\") "
   ]
  },
  {
   "cell_type": "code",
   "execution_count": 7,
   "metadata": {},
   "outputs": [],
   "source": [
    "x = np.array(x,dtype=np.float32)\n",
    "y = np.array(y,dtype=np.float32)\n",
    "x = sc_x.transform(x)\n",
    "y = sc_y.transform(y.reshape((len(y),1)))"
   ]
  },
  {
   "cell_type": "code",
   "execution_count": 8,
   "metadata": {},
   "outputs": [],
   "source": [
    "y = y.reshape(-1)"
   ]
  },
  {
   "cell_type": "code",
   "execution_count": 9,
   "metadata": {},
   "outputs": [
    {
     "name": "stdout",
     "output_type": "stream",
     "text": [
      "[[-1.0843124 -1.0781972 -1.0821126 -1.0741409 80.86071  ]\n",
      " [-1.0742278 -1.0754932 -1.0727159 -1.0751587 80.86071  ]\n",
      " [-1.0751289 -1.056642  -1.0719888 -1.0524421 80.68109  ]\n",
      " [-1.0526333 -1.0564622 -1.0606767 -1.0634265 80.7709   ]\n",
      " [-1.0633433 -1.0605884 -1.0642713 -1.0612432 80.86071  ]\n",
      " [-1.0616385 -1.0619625 -1.064657  -1.0648339 80.86071  ]\n",
      " [-1.0647246 -1.06559   -1.0645823 -1.0638512 80.86071  ]\n",
      " [-1.0639455 -1.0679009 -1.0708778 -1.0738097 80.86071  ]\n",
      " [-1.0737157 -1.0743182 -1.077128  -1.0730057 80.86071  ]\n",
      " [-1.0729338 -1.0715009 -1.0769726 -1.0690053 80.86071  ]\n",
      " [-1.068868  -1.0634993 -1.0657164 -1.0623547 80.86071  ]\n",
      " [-1.0623801 -1.0606364 -1.0601724 -1.0616498 80.86071  ]\n",
      " [-1.0612997 -1.0625105 -1.0655481 -1.0673649 80.86071  ]\n",
      " [-1.0675663 -1.0693345 -1.0694104 -1.0669495 80.86071  ]\n",
      " [-1.0672047 -1.0582309 -1.0678933 -1.0708876 80.86071  ]\n",
      " [-1.0708272 -1.0729641 -1.0721096 -1.0723356 80.86071  ]\n",
      " [-1.0722954 -1.0703366 -1.0694926 -1.0717467 80.7709   ]\n",
      " [-1.0720134 -1.0752685 -1.0751829 -1.0751328 80.86071  ]\n",
      " [-1.0753568 -1.0743785 -1.0731429 -1.0730796 80.7709   ]\n",
      " [-1.0731187 -1.0765318 -1.0826904 -1.0828218 80.7709   ]\n",
      " [-1.0829529 -1.078253  -1.0812198 -1.0769931 80.950516 ]\n",
      " [-1.0771657 -1.0776858 -1.0775585 -1.0754961 80.86071  ]\n",
      " [-1.0754908 -1.0595793 -1.0728302 -1.0622445 80.86071  ]\n",
      " [-1.0621825 -1.0619576 -1.0649804 -1.0588655 80.7709   ]\n",
      " [-1.0584106 -1.0574152 -1.0585454 -1.0566071 80.86071  ]\n",
      " [-1.0564882 -1.0581759 -1.0553083 -1.0590878 80.86071  ]\n",
      " [-1.0591185 -1.0591908 -1.0592668 -1.0552214 80.86071  ]\n",
      " [-1.0553634 -1.0560873 -1.064907  -1.0665681 80.86071  ]\n",
      " [-1.066516  -1.0673418 -1.0681955 -1.0698876 80.86071  ]\n",
      " [-1.0698223 -1.0708373 -1.078387  -1.0778254 80.86071  ]\n",
      " [-1.0776261 -1.0814466 -1.0842527 -1.0828825 80.68109  ]\n",
      " [-1.0828885 -1.0849203 -1.0895283 -1.0865088 80.86071  ]\n",
      " [-1.0863708 -1.0716813 -1.0830624 -1.0687058 80.86071  ]\n",
      " [-1.0685835 -1.0671849 -1.0670432 -1.0697405 80.86071  ]\n",
      " [-1.0697045 -1.061724  -1.0670754 -1.0592875 80.86071  ]\n",
      " [-1.0592234 -1.0570575 -1.0598143 -1.0606226 80.86071  ]\n",
      " [-1.0606596 -1.060571  -1.0609246 -1.0594889 80.86071  ]\n",
      " [-1.0593364 -1.0588422 -1.0575641 -1.0550843 80.86071  ]\n",
      " [-1.0554153 -1.0595638 -1.0663685 -1.0676945 80.86071  ]\n",
      " [-1.067646  -1.0608511 -1.0638404 -1.058137  80.86071  ]\n",
      " [-1.0583429 -1.0575424 -1.0596076 -1.0600603 80.7709   ]\n",
      " [-1.0601748 -1.0573456 -1.0574772 -1.056085  80.86071  ]\n",
      " [-1.0559455 -1.053392  -1.0578158 -1.0597633 80.7709   ]\n",
      " [-1.0596614 -1.0603777 -1.0604788 -1.0646278 80.86071  ]\n",
      " [-1.0647428 -1.0669388 -1.0679997 -1.0636814 80.86071  ]\n",
      " [-1.0633775 -1.0643253 -1.068674  -1.0701244 80.86071  ]\n",
      " [-1.0698144 -1.0739067 -1.076904  -1.0741719 80.86071  ]\n",
      " [-1.0743544 -1.071723  -1.0760111 -1.0681462 80.86071  ]\n",
      " [-1.067916  -1.0693693 -1.0693407 -1.0703803 80.86071  ]\n",
      " [-1.0702676 -1.0696378 -1.0734041 -1.0659976 80.86071  ]\n",
      " [-1.0661181 -1.06715   -1.0651495 -1.0663731 80.7709   ]\n",
      " [-1.0664092 -1.0589833 -1.0623052 -1.0547937 80.86071  ]\n",
      " [-1.0547845 -1.0565344 -1.0560656 -1.0583011 80.7709   ]\n",
      " [-1.0584168 -1.0621874 -1.0653394 -1.0648745 80.86071  ]\n",
      " [-1.0650246 -1.0689099 -1.0684625 -1.0648439 80.86071  ]\n",
      " [-1.0647835 -1.0561141 -1.0615577 -1.0524682 80.86071  ]\n",
      " [-1.0525478 -1.0420516 -1.0511094 -1.0381285 80.86071  ]\n",
      " [-1.0381736 -1.0335914 -1.0338876 -1.030262  80.86071  ]\n",
      " [-1.0300627 -1.0288934 -1.0306121 -1.027667  80.86071  ]\n",
      " [-1.0275671 -1.0232582 -1.0253483 -1.0272614 80.86071  ]\n",
      " [-1.0269073 -1.0293477 -1.036396  -1.0387199 80.86071  ]\n",
      " [-1.0385532 -1.0338923 -1.0375773 -1.0380803 80.86071  ]\n",
      " [-1.0378667 -1.0295517 -1.0338055 -1.034892  80.86071  ]\n",
      " [-1.0346098 -1.0300148 -1.031567  -1.029881  80.86071  ]\n",
      " [-1.029747  -1.0291518 -1.0318055 -1.0339057 80.86071  ]\n",
      " [-1.0338153 -1.0327319 -1.035338  -1.0326065 80.86071  ]\n",
      " [-1.0323983 -1.0362294 -1.0469623 -1.0490801 80.86071  ]\n",
      " [-1.0493541 -1.0390676 -1.0458958 -1.0377544 80.7709   ]\n",
      " [-1.0378453 -1.0416973 -1.0440379 -1.0432714 80.86071  ]\n",
      " [-1.0432404 -1.0360684 -1.0404894 -1.0340363 80.86071  ]\n",
      " [-1.0340497 -1.0383419 -1.0453311 -1.0487303 80.86071  ]\n",
      " [-1.0488932 -1.0503625 -1.0551162 -1.056536  80.86071  ]\n",
      " [-1.0563196 -1.0552126 -1.0525914 -1.0555371 80.86071  ]\n",
      " [-1.0554988 -1.0503981 -1.0598187 -1.0636637 80.86071  ]\n",
      " [-1.0636321 -1.0618631 -1.0617286 -1.0622658 80.86071  ]\n",
      " [-1.062211  -1.0652673 -1.0782696 -1.0819917 80.86071  ]\n",
      " [-1.0821546 -1.0816171 -1.0834645 -1.0871106 80.86071  ]\n",
      " [-1.0871938 -1.0877261 -1.0917953 -1.0846996 80.86071  ]\n",
      " [-1.0848485 -1.0738066 -1.0819489 -1.0706207 80.86071  ]\n",
      " [-1.0707892 -1.072138  -1.0746735 -1.0772805 80.86071  ]\n",
      " [-1.0777489 -1.0772943 -1.0844733 -1.0875537 80.86071  ]\n",
      " [-1.086995  -1.084992  -1.0873609 -1.0824286 80.86071  ]\n",
      " [-1.0824575 -1.0846019 -1.0872403 -1.0872834 80.86071  ]\n",
      " [-1.087126  -1.0870361 -1.0867767 -1.0834298 80.86071  ]\n",
      " [-1.0835794 -1.085861  -1.0873855 -1.0903944 80.86071  ]\n",
      " [-1.0902821 -1.086215  -1.086758  -1.0836337 80.86071  ]\n",
      " [-1.0833315 -1.0803818 -1.0858217 -1.0893883 80.86071  ]\n",
      " [-1.0893432 -1.0902039 -1.0897774 -1.0893693 80.86071  ]\n",
      " [-1.0893011 -1.0921664 -1.0947864 -1.0976372 80.86071  ]\n",
      " [-1.0975771 -1.0998951 -1.1001722 -1.0982218 80.86071  ]\n",
      " [-1.0981368 -1.1010662 -1.1048584 -1.105224  80.86071  ]\n",
      " [-1.1051732 -1.1081241 -1.106561  -1.1085056 80.86071  ]\n",
      " [-1.1081768 -1.1099167 -1.1207932 -1.1238062 80.86071  ]\n",
      " [-1.1236423 -1.1205508 -1.1259378 -1.1270051 80.86071  ]\n",
      " [-1.1271976 -1.1170316 -1.1261499 -1.118389  80.86071  ]\n",
      " [-1.1183522 -1.1105021 -1.1144202 -1.111359  80.7709   ]\n",
      " [-1.1114744 -1.1140721 -1.1231337 -1.1242138 80.86071  ]\n",
      " [-1.1239718 -1.12782   -1.1288623 -1.1324986 80.68109  ]\n",
      " [-1.1325102 -1.1344151 -1.1351714 -1.1368036 72.688194 ]]\n"
     ]
    }
   ],
   "source": [
    "print(x)"
   ]
  },
  {
   "cell_type": "code",
   "execution_count": 10,
   "metadata": {},
   "outputs": [
    {
     "name": "stdout",
     "output_type": "stream",
     "text": [
      "0.9999069411269706\n"
     ]
    },
    {
     "name": "stderr",
     "output_type": "stream",
     "text": [
      "[Parallel(n_jobs=8)]: Using backend ThreadingBackend with 8 concurrent workers.\n",
      "[Parallel(n_jobs=8)]: Done  25 tasks      | elapsed:    0.0s\n",
      "[Parallel(n_jobs=8)]: Done 146 tasks      | elapsed:    0.0s\n",
      "[Parallel(n_jobs=8)]: Done 200 out of 200 | elapsed:    0.0s finished\n"
     ]
    }
   ],
   "source": [
    "print(model.score(x,y))"
   ]
  },
  {
   "cell_type": "code",
   "execution_count": 11,
   "metadata": {},
   "outputs": [],
   "source": [
    "market = \"Volatility 75 Index\"\n",
    "lot = 0.01"
   ]
  },
  {
   "cell_type": "code",
   "execution_count": 12,
   "metadata": {},
   "outputs": [
    {
     "data": {
      "text/plain": [
       "array([(1714222800, 216729.96, 216742.22, 214583.67, 214643.61, 1798, 5577, 0),\n",
       "       (1714226400, 214637.75, 215119.08, 213044.54, 213683.9 , 1718, 5577, 0)],\n",
       "      dtype=[('time', '<i8'), ('open', '<f8'), ('high', '<f8'), ('low', '<f8'), ('close', '<f8'), ('tick_volume', '<u8'), ('spread', '<i4'), ('real_volume', '<u8')])"
      ]
     },
     "execution_count": 12,
     "metadata": {},
     "output_type": "execute_result"
    }
   ],
   "source": [
    "rates = mt5.copy_rates_from_pos(market, mt5.TIMEFRAME_H1, 0, 2)\n",
    "rates"
   ]
  },
  {
   "cell_type": "code",
   "execution_count": 25,
   "metadata": {},
   "outputs": [
    {
     "name": "stdout",
     "output_type": "stream",
     "text": [
      "OrderSendResult(retcode=10009, deal=3793275804, order=3879771168, volume=0.01, price=225294.71, bid=225238.94, ask=225294.71, comment='Request executed', request_id=2437853441, retcode_external=0, request=TradeRequest(action=1, magic=0, order=0, symbol='Volatility 75 Index', volume=0.01, price=225305.22, stoplimit=0.0, sl=0.0, tp=0.0, deviation=10, type=0, type_filling=0, type_time=0, expiration=0, comment='testing', position=0, position_by=0))\n",
      "OrderSendResult(retcode=10009, deal=3793275844, order=3879771204, volume=0.01, price=225235.38, bid=225235.38, ask=225291.15, comment='Request executed', request_id=2437853442, retcode_external=0, request=TradeRequest(action=1, magic=0, order=0, symbol='Volatility 75 Index', volume=0.01, price=225238.94, stoplimit=0.0, sl=0.0, tp=0.0, deviation=10, type=1, type_filling=0, type_time=0, expiration=0, comment='testing', position=0, position_by=0))\n"
     ]
    }
   ],
   "source": [
    "result = mt5.Buy(market,lot,comment=\"testing\")\n",
    "print(result)\n",
    "result = mt5.Sell(market,lot,comment=\"testing\")\n",
    "print(result)"
   ]
  },
  {
   "cell_type": "code",
   "execution_count": 16,
   "metadata": {},
   "outputs": [
    {
     "name": "stdout",
     "output_type": "stream",
     "text": [
      "True\n"
     ]
    }
   ],
   "source": [
    "result = mt5.Close(market)\n",
    "print(result)"
   ]
  },
  {
   "cell_type": "code",
   "execution_count": 13,
   "metadata": {},
   "outputs": [
    {
     "name": "stdout",
     "output_type": "stream",
     "text": [
      "[[216729.96, 216742.22, 214583.67, 214643.61, 1798], [214637.75, 215119.08, 213044.54, 213683.9, 1718]]\n"
     ]
    }
   ],
   "source": [
    "x = []\n",
    "for rate in rates:      \n",
    "    x.append([rate[1],rate[2],rate[3],rate[4],rate[5]])\n",
    "print(x)"
   ]
  },
  {
   "cell_type": "code",
   "execution_count": 14,
   "metadata": {},
   "outputs": [],
   "source": [
    "x = np.array(x,dtype=np.float32)\n",
    "x = sc_x.transform(x)"
   ]
  },
  {
   "cell_type": "code",
   "execution_count": 15,
   "metadata": {},
   "outputs": [
    {
     "name": "stdout",
     "output_type": "stream",
     "text": [
      "[[-1.1239718 -1.12782   -1.1288623 -1.1324986 80.68109  ]\n",
      " [-1.1325102 -1.1344151 -1.1351714 -1.1364152 73.49646  ]]\n"
     ]
    }
   ],
   "source": [
    "print(x)"
   ]
  },
  {
   "cell_type": "code",
   "execution_count": 16,
   "metadata": {},
   "outputs": [
    {
     "name": "stdout",
     "output_type": "stream",
     "text": [
      "[-1.12394685 -1.132493  ]\n"
     ]
    },
    {
     "name": "stderr",
     "output_type": "stream",
     "text": [
      "[Parallel(n_jobs=8)]: Using backend ThreadingBackend with 8 concurrent workers.\n",
      "[Parallel(n_jobs=8)]: Done  25 tasks      | elapsed:    0.0s\n",
      "[Parallel(n_jobs=8)]: Done 146 tasks      | elapsed:    0.0s\n",
      "[Parallel(n_jobs=8)]: Done 200 out of 200 | elapsed:    0.0s finished\n"
     ]
    }
   ],
   "source": [
    "y_pred = model.predict(x)\n",
    "print(y_pred)"
   ]
  },
  {
   "cell_type": "code",
   "execution_count": 17,
   "metadata": {},
   "outputs": [
    {
     "name": "stdout",
     "output_type": "stream",
     "text": [
      "[[216735.8433624]\n",
      " [214641.7608394]]\n"
     ]
    }
   ],
   "source": [
    "y_pred = sc_y.inverse_transform(y_pred.reshape((len(y_pred),1)))\n",
    "\n",
    "print(y_pred)"
   ]
  }
 ],
 "metadata": {
  "kernelspec": {
   "display_name": "py310",
   "language": "python",
   "name": "python3"
  },
  "language_info": {
   "codemirror_mode": {
    "name": "ipython",
    "version": 3
   },
   "file_extension": ".py",
   "mimetype": "text/x-python",
   "name": "python",
   "nbconvert_exporter": "python",
   "pygments_lexer": "ipython3",
   "version": "3.10.13"
  }
 },
 "nbformat": 4,
 "nbformat_minor": 2
}
