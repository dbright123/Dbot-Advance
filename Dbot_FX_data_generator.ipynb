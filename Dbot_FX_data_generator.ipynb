{
 "cells": [
  {
   "cell_type": "code",
   "execution_count": 1,
   "metadata": {},
   "outputs": [
    {
     "name": "stdout",
     "output_type": "stream",
     "text": [
      "MetaTrader5 package author:  MetaQuotes Ltd.\n",
      "MetaTrader5 package version:  5.0.45\n"
     ]
    }
   ],
   "source": [
    "import MetaTrader5 as mt5\n",
    "import datetime\n",
    "import numpy as np\n",
    "import pandas as pd\n",
    "\n",
    "\n",
    "print(\"MetaTrader5 package author: \",mt5.__author__)\n",
    "print(\"MetaTrader5 package version: \",mt5.__version__)\n",
    "\n"
   ]
  },
  {
   "cell_type": "code",
   "execution_count": 2,
   "metadata": {},
   "outputs": [
    {
     "name": "stdout",
     "output_type": "stream",
     "text": [
      "{'login': 212647441, 'trade_mode': 0, 'leverage': 500, 'limit_orders': 500, 'margin_so_mode': 0, 'trade_allowed': True, 'trade_expert': True, 'margin_mode': 2, 'currency_digits': 2, 'fifo_close': False, 'balance': 40.51, 'credit': 0.0, 'profit': -0.49, 'equity': 40.02, 'margin': 8.07, 'margin_free': 31.95, 'margin_level': 495.910780669145, 'margin_so_call': 25.0, 'margin_so_so': 15.0, 'margin_initial': 0.0, 'margin_maintenance': 0.0, 'assets': 0.0, 'liabilities': 0.0, 'commission_blocked': 0.0, 'name': 'micheal bright omage ', 'server': 'OctaFX-Demo', 'currency': 'USD', 'company': 'Octa Markets Incorporated'}\n",
      "\n",
      "\n",
      "{'community_account': True, 'community_connection': True, 'connected': True, 'dlls_allowed': False, 'trade_allowed': True, 'tradeapi_disabled': False, 'email_enabled': False, 'ftp_enabled': False, 'notifications_enabled': False, 'mqid': False, 'build': 4092, 'maxbars': 100000, 'codepage': 0, 'ping_last': 136760, 'community_balance': 0.0, 'retransmission': 0.20725388601036268, 'company': 'MetaQuotes Software Corp.', 'name': 'MetaTrader 5', 'language': 'English', 'path': 'C:\\\\Program Files\\\\MetaTrader 5', 'data_path': 'C:\\\\Users\\\\Omage Micheal\\\\AppData\\\\Roaming\\\\MetaQuotes\\\\Terminal\\\\D0E8209F77C8CF37AD8BF550E51FF075', 'commondata_path': 'C:\\\\Users\\\\Omage Micheal\\\\AppData\\\\Roaming\\\\MetaQuotes\\\\Terminal\\\\Common'}\n",
      "\n",
      "\n",
      "273\n",
      "273\n",
      "yes\n"
     ]
    }
   ],
   "source": [
    "if not mt5.initialize():\n",
    "    print('Initialization failed, check internet connection. You must have Meta Trader 5 installed.')\n",
    "    mt5.shutdown()\n",
    "\n",
    "else:\n",
    "    print(mt5.account_info()._asdict())\n",
    "    print(\"\\n\")\n",
    "    print(mt5.terminal_info()._asdict())\n",
    "    print(\"\\n\")\n",
    "    print(mt5.symbols_total())\n",
    "    symbols = mt5.symbols_get()\n",
    "    print(len(symbols))\n",
    "    for symbol in symbols:\n",
    "        if(symbol.name == \"GBPUSD\"):\n",
    "            print(\"yes\")\n",
    "            break\n",
    "# you code here\n",
    "\n"
   ]
  },
  {
   "cell_type": "code",
   "execution_count": 3,
   "metadata": {},
   "outputs": [],
   "source": [
    "n = 6"
   ]
  },
  {
   "cell_type": "code",
   "execution_count": 4,
   "metadata": {},
   "outputs": [
    {
     "name": "stdout",
     "output_type": "stream",
     "text": [
      "(96406,)\n"
     ]
    }
   ],
   "source": [
    "#rates = mt5.copy_rates_from_pos(\"GBPUSD\", mt5.TIMEFRAME_H1, 0, 99999)  \n",
    "\n",
    "target_market = [\"GBPUSD\",\"USDCAD\",\"AUDUSD\",\"USDCHF\",\"NZDUSD\",\"EURUSD\",\"XAUUSD\"]\n",
    "market = mt5.copy_rates_from_pos(target_market[n], mt5.TIMEFRAME_M30, 0, 99999)  \n",
    "\n",
    "print(market.shape)"
   ]
  },
  {
   "cell_type": "code",
   "execution_count": 5,
   "metadata": {},
   "outputs": [
    {
     "data": {
      "text/plain": [
       "array([(1396483200, 1286.69, 1289.01, 1281.55, 1286.34, 49277,  0, 0),\n",
       "       (1396569600, 1286.86, 1306.7 , 1284.17, 1302.66, 91423,  0, 0),\n",
       "       (1396828800, 1303.65, 1304.02, 1295.52, 1296.84, 28762,  0, 0),\n",
       "       ...,\n",
       "       (1704218400, 2059.28, 2067.55, 2059.12, 2065.39, 16918, 24, 0),\n",
       "       (1704220200, 2065.39, 2066.86, 2064.08, 2066.04,  8295, 24, 0),\n",
       "       (1704222000, 2066.02, 2066.89, 2065.26, 2065.76,  3181, 24, 0)],\n",
       "      dtype=[('time', '<i8'), ('open', '<f8'), ('high', '<f8'), ('low', '<f8'), ('close', '<f8'), ('tick_volume', '<u8'), ('spread', '<i4'), ('real_volume', '<u8')])"
      ]
     },
     "execution_count": 5,
     "metadata": {},
     "output_type": "execute_result"
    }
   ],
   "source": [
    "market"
   ]
  },
  {
   "cell_type": "code",
   "execution_count": 6,
   "metadata": {},
   "outputs": [],
   "source": [
    "data = []\n",
    "for i in range(len(market)):\n",
    "    data.append([market[i][0],market[i][1],market[i][4],market[i][5]])\n",
    "\n"
   ]
  },
  {
   "cell_type": "code",
   "execution_count": 7,
   "metadata": {},
   "outputs": [
    {
     "data": {
      "text/html": [
       "<div>\n",
       "<style scoped>\n",
       "    .dataframe tbody tr th:only-of-type {\n",
       "        vertical-align: middle;\n",
       "    }\n",
       "\n",
       "    .dataframe tbody tr th {\n",
       "        vertical-align: top;\n",
       "    }\n",
       "\n",
       "    .dataframe thead th {\n",
       "        text-align: right;\n",
       "    }\n",
       "</style>\n",
       "<table border=\"1\" class=\"dataframe\">\n",
       "  <thead>\n",
       "    <tr style=\"text-align: right;\">\n",
       "      <th></th>\n",
       "      <th>Time</th>\n",
       "      <th>Open</th>\n",
       "      <th>Close</th>\n",
       "      <th>Tick Volume</th>\n",
       "    </tr>\n",
       "  </thead>\n",
       "  <tbody>\n",
       "    <tr>\n",
       "      <th>0</th>\n",
       "      <td>1396483200</td>\n",
       "      <td>1286.69</td>\n",
       "      <td>1286.34</td>\n",
       "      <td>49277</td>\n",
       "    </tr>\n",
       "    <tr>\n",
       "      <th>1</th>\n",
       "      <td>1396569600</td>\n",
       "      <td>1286.86</td>\n",
       "      <td>1302.66</td>\n",
       "      <td>91423</td>\n",
       "    </tr>\n",
       "    <tr>\n",
       "      <th>2</th>\n",
       "      <td>1396828800</td>\n",
       "      <td>1303.65</td>\n",
       "      <td>1296.84</td>\n",
       "      <td>28762</td>\n",
       "    </tr>\n",
       "    <tr>\n",
       "      <th>3</th>\n",
       "      <td>1396915200</td>\n",
       "      <td>1295.79</td>\n",
       "      <td>1308.31</td>\n",
       "      <td>29838</td>\n",
       "    </tr>\n",
       "    <tr>\n",
       "      <th>4</th>\n",
       "      <td>1397001600</td>\n",
       "      <td>1308.14</td>\n",
       "      <td>1311.51</td>\n",
       "      <td>32383</td>\n",
       "    </tr>\n",
       "  </tbody>\n",
       "</table>\n",
       "</div>"
      ],
      "text/plain": [
       "         Time     Open    Close  Tick Volume\n",
       "0  1396483200  1286.69  1286.34        49277\n",
       "1  1396569600  1286.86  1302.66        91423\n",
       "2  1396828800  1303.65  1296.84        28762\n",
       "3  1396915200  1295.79  1308.31        29838\n",
       "4  1397001600  1308.14  1311.51        32383"
      ]
     },
     "execution_count": 7,
     "metadata": {},
     "output_type": "execute_result"
    }
   ],
   "source": [
    "df = pd.DataFrame(data, columns=[\"Time\", \"Open\",\"Close\", \"Tick Volume\"])\n",
    "df.head()"
   ]
  },
  {
   "cell_type": "code",
   "execution_count": 8,
   "metadata": {},
   "outputs": [
    {
     "name": "stdout",
     "output_type": "stream",
     "text": [
      "[[1.3964832e+09 1.2866900e+03 1.2890100e+03 1.2815500e+03 1.2863400e+03\n",
      "  4.9277000e+04]\n",
      " [1.3965696e+09 1.2868600e+03 1.3067000e+03 1.2841700e+03 1.3026600e+03\n",
      "  9.1423000e+04]\n",
      " [1.3968288e+09 1.3036500e+03 1.3040200e+03 1.2955200e+03 1.2968400e+03\n",
      "  2.8762000e+04]\n",
      " ...\n",
      " [1.7042184e+09 2.0592800e+03 2.0675500e+03 2.0591200e+03 2.0653900e+03\n",
      "  1.6918000e+04]\n",
      " [1.7042202e+09 2.0653900e+03 2.0668600e+03 2.0640800e+03 2.0660400e+03\n",
      "  8.2950000e+03]\n",
      " [1.7042220e+09 2.0660200e+03 2.0668900e+03 2.0652600e+03 2.0657600e+03\n",
      "  3.1810000e+03]]\n"
     ]
    }
   ],
   "source": [
    "data = []\n",
    "for i in range(len(market)):\n",
    "    data.append(list(market[i]))\n",
    "data=np.array(data)\n",
    "data = data[:,:6]\n",
    "print(data)"
   ]
  },
  {
   "cell_type": "code",
   "execution_count": 9,
   "metadata": {},
   "outputs": [
    {
     "data": {
      "text/html": [
       "<div>\n",
       "<style scoped>\n",
       "    .dataframe tbody tr th:only-of-type {\n",
       "        vertical-align: middle;\n",
       "    }\n",
       "\n",
       "    .dataframe tbody tr th {\n",
       "        vertical-align: top;\n",
       "    }\n",
       "\n",
       "    .dataframe thead th {\n",
       "        text-align: right;\n",
       "    }\n",
       "</style>\n",
       "<table border=\"1\" class=\"dataframe\">\n",
       "  <thead>\n",
       "    <tr style=\"text-align: right;\">\n",
       "      <th></th>\n",
       "      <th>Time</th>\n",
       "      <th>Open</th>\n",
       "      <th>High</th>\n",
       "      <th>Low</th>\n",
       "      <th>Close</th>\n",
       "      <th>Tick Volume</th>\n",
       "    </tr>\n",
       "  </thead>\n",
       "  <tbody>\n",
       "    <tr>\n",
       "      <th>0</th>\n",
       "      <td>1.396483e+09</td>\n",
       "      <td>1286.69</td>\n",
       "      <td>1289.01</td>\n",
       "      <td>1281.55</td>\n",
       "      <td>1286.34</td>\n",
       "      <td>49277.0</td>\n",
       "    </tr>\n",
       "    <tr>\n",
       "      <th>1</th>\n",
       "      <td>1.396570e+09</td>\n",
       "      <td>1286.86</td>\n",
       "      <td>1306.70</td>\n",
       "      <td>1284.17</td>\n",
       "      <td>1302.66</td>\n",
       "      <td>91423.0</td>\n",
       "    </tr>\n",
       "    <tr>\n",
       "      <th>2</th>\n",
       "      <td>1.396829e+09</td>\n",
       "      <td>1303.65</td>\n",
       "      <td>1304.02</td>\n",
       "      <td>1295.52</td>\n",
       "      <td>1296.84</td>\n",
       "      <td>28762.0</td>\n",
       "    </tr>\n",
       "    <tr>\n",
       "      <th>3</th>\n",
       "      <td>1.396915e+09</td>\n",
       "      <td>1295.79</td>\n",
       "      <td>1314.28</td>\n",
       "      <td>1295.79</td>\n",
       "      <td>1308.31</td>\n",
       "      <td>29838.0</td>\n",
       "    </tr>\n",
       "    <tr>\n",
       "      <th>4</th>\n",
       "      <td>1.397002e+09</td>\n",
       "      <td>1308.14</td>\n",
       "      <td>1314.99</td>\n",
       "      <td>1300.80</td>\n",
       "      <td>1311.51</td>\n",
       "      <td>32383.0</td>\n",
       "    </tr>\n",
       "  </tbody>\n",
       "</table>\n",
       "</div>"
      ],
      "text/plain": [
       "           Time     Open     High      Low    Close  Tick Volume\n",
       "0  1.396483e+09  1286.69  1289.01  1281.55  1286.34      49277.0\n",
       "1  1.396570e+09  1286.86  1306.70  1284.17  1302.66      91423.0\n",
       "2  1.396829e+09  1303.65  1304.02  1295.52  1296.84      28762.0\n",
       "3  1.396915e+09  1295.79  1314.28  1295.79  1308.31      29838.0\n",
       "4  1.397002e+09  1308.14  1314.99  1300.80  1311.51      32383.0"
      ]
     },
     "execution_count": 9,
     "metadata": {},
     "output_type": "execute_result"
    }
   ],
   "source": [
    "df = pd.DataFrame(data, columns=[\"Time\", \"Open\",\"High\",\"Low\",\"Close\", \"Tick Volume\"])\n",
    "df.head()"
   ]
  },
  {
   "cell_type": "code",
   "execution_count": 10,
   "metadata": {},
   "outputs": [],
   "source": [
    "df.to_csv(\"Generated\"+target_market[n]+\" dbot.csv\", index=False)\n"
   ]
  },
  {
   "cell_type": "code",
   "execution_count": 11,
   "metadata": {},
   "outputs": [
    {
     "name": "stdout",
     "output_type": "stream",
     "text": [
      "2014-04-03 01:00:00\n"
     ]
    }
   ],
   "source": [
    "# set time zone to UTC\n",
    "# Convert Unix epoch time to UTC time\n",
    "utc_time = datetime.datetime.fromtimestamp(1396483200)\n",
    "\n",
    "# Print the UTC time\n",
    "print(utc_time)"
   ]
  },
  {
   "cell_type": "code",
   "execution_count": 12,
   "metadata": {},
   "outputs": [
    {
     "name": "stdout",
     "output_type": "stream",
     "text": [
      "1695898800.0\n"
     ]
    }
   ],
   "source": [
    "# Convert UTC time to Unix epoch time\n",
    "utc_time = datetime.datetime(2023, 9, 28, 12, 0, 0)\n",
    "unix_epoch_time = utc_time.timestamp()\n",
    "\n",
    "# Print the Unix epoch time\n",
    "print(unix_epoch_time)"
   ]
  }
 ],
 "metadata": {
  "kernelspec": {
   "display_name": "Python 3 (ipykernel)",
   "language": "python",
   "name": "python3"
  },
  "language_info": {
   "codemirror_mode": {
    "name": "ipython",
    "version": 3
   },
   "file_extension": ".py",
   "mimetype": "text/x-python",
   "name": "python",
   "nbconvert_exporter": "python",
   "pygments_lexer": "ipython3",
   "version": "3.10.7"
  }
 },
 "nbformat": 4,
 "nbformat_minor": 4
}
