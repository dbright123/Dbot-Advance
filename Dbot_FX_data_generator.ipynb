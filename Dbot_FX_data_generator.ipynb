{
 "cells": [
  {
   "cell_type": "code",
   "execution_count": 1,
   "metadata": {},
   "outputs": [
    {
     "name": "stdout",
     "output_type": "stream",
     "text": [
      "MetaTrader5 package author:  MetaQuotes Ltd.\n",
      "MetaTrader5 package version:  5.0.45\n"
     ]
    }
   ],
   "source": [
    "import MetaTrader5 as mt5\n",
    "import datetime\n",
    "import numpy as np\n",
    "import pandas as pd\n",
    "\n",
    "\n",
    "print(\"MetaTrader5 package author: \",mt5.__author__)\n",
    "print(\"MetaTrader5 package version: \",mt5.__version__)\n",
    "\n"
   ]
  },
  {
   "cell_type": "code",
   "execution_count": 2,
   "metadata": {},
   "outputs": [
    {
     "name": "stdout",
     "output_type": "stream",
     "text": [
      "{'login': 212647441, 'trade_mode': 0, 'leverage': 500, 'limit_orders': 500, 'margin_so_mode': 0, 'trade_allowed': True, 'trade_expert': True, 'margin_mode': 2, 'currency_digits': 2, 'fifo_close': False, 'balance': 103.91, 'credit': 0.0, 'profit': -22.43, 'equity': 81.48, 'margin': 4.15, 'margin_free': 77.33, 'margin_level': 1963.3734939759033, 'margin_so_call': 25.0, 'margin_so_so': 15.0, 'margin_initial': 0.0, 'margin_maintenance': 0.0, 'assets': 0.0, 'liabilities': 0.0, 'commission_blocked': 0.0, 'name': 'micheal bright omage ', 'server': 'OctaFX-Demo', 'currency': 'USD', 'company': 'Octa Markets Incorporated'}\n",
      "\n",
      "\n",
      "{'community_account': True, 'community_connection': False, 'connected': True, 'dlls_allowed': False, 'trade_allowed': True, 'tradeapi_disabled': False, 'email_enabled': False, 'ftp_enabled': False, 'notifications_enabled': False, 'mqid': False, 'build': 4092, 'maxbars': 100000, 'codepage': 0, 'ping_last': 117113, 'community_balance': 0.0, 'retransmission': 0.0, 'company': 'MetaQuotes Software Corp.', 'name': 'MetaTrader 5', 'language': 'English', 'path': 'C:\\\\Program Files\\\\MetaTrader 5', 'data_path': 'C:\\\\Users\\\\Omage Micheal\\\\AppData\\\\Roaming\\\\MetaQuotes\\\\Terminal\\\\D0E8209F77C8CF37AD8BF550E51FF075', 'commondata_path': 'C:\\\\Users\\\\Omage Micheal\\\\AppData\\\\Roaming\\\\MetaQuotes\\\\Terminal\\\\Common'}\n",
      "\n",
      "\n",
      "273\n",
      "273\n",
      "yes\n"
     ]
    }
   ],
   "source": [
    "if not mt5.initialize():\n",
    "    print('Initialization failed, check internet connection. You must have Meta Trader 5 installed.')\n",
    "    mt5.shutdown()\n",
    "\n",
    "else:\n",
    "    print(mt5.account_info()._asdict())\n",
    "    print(\"\\n\")\n",
    "    print(mt5.terminal_info()._asdict())\n",
    "    print(\"\\n\")\n",
    "    print(mt5.symbols_total())\n",
    "    symbols = mt5.symbols_get()\n",
    "    print(len(symbols))\n",
    "    for symbol in symbols:\n",
    "        if(symbol.name == \"GBPUSD\"):\n",
    "            print(\"yes\")\n",
    "            break\n",
    "# you code here\n",
    "\n"
   ]
  },
  {
   "cell_type": "code",
   "execution_count": 3,
   "metadata": {},
   "outputs": [],
   "source": [
    "n = 6"
   ]
  },
  {
   "cell_type": "code",
   "execution_count": 4,
   "metadata": {},
   "outputs": [
    {
     "name": "stdout",
     "output_type": "stream",
     "text": [
      "(95882,)\n"
     ]
    }
   ],
   "source": [
    "#rates = mt5.copy_rates_from_pos(\"GBPUSD\", mt5.TIMEFRAME_H1, 0, 99999)  \n",
    "\n",
    "market_rates = []\n",
    "target_market = [\"GBPUSD\",\"USDCAD\",\"AUDUSD\",\"USDCHF\",\"NZDUSD\",\"EURUSD\",\"XAUUSD\"]\n",
    "rates = mt5.copy_rates_from_pos(target_market[n], mt5.TIMEFRAME_M30, 0, 99999)  \n",
    "\n",
    "print(rates.shape)"
   ]
  },
  {
   "cell_type": "code",
   "execution_count": 5,
   "metadata": {},
   "outputs": [],
   "source": [
    "market = rates\n"
   ]
  },
  {
   "cell_type": "code",
   "execution_count": 6,
   "metadata": {},
   "outputs": [],
   "source": [
    "data = []\n",
    "for i in range(len(market)):\n",
    "    data.append([market[i][0],market[i][1],market[i][4],market[i][5]])\n",
    "\n"
   ]
  },
  {
   "cell_type": "code",
   "execution_count": 7,
   "metadata": {},
   "outputs": [
    {
     "data": {
      "text/html": [
       "<div>\n",
       "<style scoped>\n",
       "    .dataframe tbody tr th:only-of-type {\n",
       "        vertical-align: middle;\n",
       "    }\n",
       "\n",
       "    .dataframe tbody tr th {\n",
       "        vertical-align: top;\n",
       "    }\n",
       "\n",
       "    .dataframe thead th {\n",
       "        text-align: right;\n",
       "    }\n",
       "</style>\n",
       "<table border=\"1\" class=\"dataframe\">\n",
       "  <thead>\n",
       "    <tr style=\"text-align: right;\">\n",
       "      <th></th>\n",
       "      <th>Time</th>\n",
       "      <th>Open</th>\n",
       "      <th>Close</th>\n",
       "      <th>Tick Volume</th>\n",
       "    </tr>\n",
       "  </thead>\n",
       "  <tbody>\n",
       "    <tr>\n",
       "      <th>95877</th>\n",
       "      <td>1702508400</td>\n",
       "      <td>2023.88</td>\n",
       "      <td>2026.04</td>\n",
       "      <td>7326</td>\n",
       "    </tr>\n",
       "    <tr>\n",
       "      <th>95878</th>\n",
       "      <td>1702510200</td>\n",
       "      <td>2026.04</td>\n",
       "      <td>2027.18</td>\n",
       "      <td>4481</td>\n",
       "    </tr>\n",
       "    <tr>\n",
       "      <th>95879</th>\n",
       "      <td>1702515600</td>\n",
       "      <td>2026.12</td>\n",
       "      <td>2029.40</td>\n",
       "      <td>6282</td>\n",
       "    </tr>\n",
       "    <tr>\n",
       "      <th>95880</th>\n",
       "      <td>1702517400</td>\n",
       "      <td>2029.39</td>\n",
       "      <td>2032.80</td>\n",
       "      <td>8633</td>\n",
       "    </tr>\n",
       "    <tr>\n",
       "      <th>95881</th>\n",
       "      <td>1702519200</td>\n",
       "      <td>2032.80</td>\n",
       "      <td>2032.34</td>\n",
       "      <td>2575</td>\n",
       "    </tr>\n",
       "  </tbody>\n",
       "</table>\n",
       "</div>"
      ],
      "text/plain": [
       "             Time     Open    Close  Tick Volume\n",
       "95877  1702508400  2023.88  2026.04         7326\n",
       "95878  1702510200  2026.04  2027.18         4481\n",
       "95879  1702515600  2026.12  2029.40         6282\n",
       "95880  1702517400  2029.39  2032.80         8633\n",
       "95881  1702519200  2032.80  2032.34         2575"
      ]
     },
     "execution_count": 7,
     "metadata": {},
     "output_type": "execute_result"
    }
   ],
   "source": [
    "df = pd.DataFrame(data, columns=[\"Time\", \"Open\",\"Close\", \"Tick Volume\"])\n",
    "df.tail()"
   ]
  },
  {
   "cell_type": "code",
   "execution_count": 8,
   "metadata": {},
   "outputs": [],
   "source": [
    "df.to_csv(\"Generated\"+target_market[n]+\" dbot.csv\", index=False)\n"
   ]
  },
  {
   "cell_type": "code",
   "execution_count": 9,
   "metadata": {},
   "outputs": [
    {
     "name": "stdout",
     "output_type": "stream",
     "text": [
      "7\n"
     ]
    }
   ],
   "source": [
    "\n",
    "n+=1\n",
    "print(n)"
   ]
  },
  {
   "cell_type": "code",
   "execution_count": 10,
   "metadata": {},
   "outputs": [
    {
     "name": "stdout",
     "output_type": "stream",
     "text": [
      "2023-09-28 12:00:00\n"
     ]
    }
   ],
   "source": [
    "# set time zone to UTC\n",
    "# Convert Unix epoch time to UTC time\n",
    "utc_time = datetime.datetime.fromtimestamp(1695898800)\n",
    "\n",
    "# Print the UTC time\n",
    "print(utc_time)"
   ]
  },
  {
   "cell_type": "code",
   "execution_count": 11,
   "metadata": {},
   "outputs": [
    {
     "name": "stdout",
     "output_type": "stream",
     "text": [
      "1695898800.0\n"
     ]
    }
   ],
   "source": [
    "# Convert UTC time to Unix epoch time\n",
    "utc_time = datetime.datetime(2023, 9, 28, 12, 0, 0)\n",
    "unix_epoch_time = utc_time.timestamp()\n",
    "\n",
    "# Print the Unix epoch time\n",
    "print(unix_epoch_time)"
   ]
  }
 ],
 "metadata": {
  "kernelspec": {
   "display_name": "Python 3 (ipykernel)",
   "language": "python",
   "name": "python3"
  },
  "language_info": {
   "codemirror_mode": {
    "name": "ipython",
    "version": 3
   },
   "file_extension": ".py",
   "mimetype": "text/x-python",
   "name": "python",
   "nbconvert_exporter": "python",
   "pygments_lexer": "ipython3",
   "version": "3.10.7"
  }
 },
 "nbformat": 4,
 "nbformat_minor": 4
}
