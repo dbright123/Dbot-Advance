{
 "cells": [
  {
   "cell_type": "code",
   "execution_count": 2,
   "metadata": {},
   "outputs": [
    {
     "name": "stdout",
     "output_type": "stream",
     "text": [
      "MetaTrader5 package author:  MetaQuotes Ltd.\n",
      "MetaTrader5 package version:  5.0.45\n"
     ]
    }
   ],
   "source": [
    "import MetaTrader5 as mt5\n",
    "import datetime\n",
    "import numpy as np\n",
    "import pandas as pd\n",
    "\n",
    "\n",
    "print(\"MetaTrader5 package author: \",mt5.__author__)\n",
    "print(\"MetaTrader5 package version: \",mt5.__version__)\n",
    "\n"
   ]
  },
  {
   "cell_type": "code",
   "execution_count": 3,
   "metadata": {},
   "outputs": [
    {
     "name": "stdout",
     "output_type": "stream",
     "text": [
      "{'login': 31328266, 'trade_mode': 0, 'leverage': 500, 'limit_orders': 50, 'margin_so_mode': 0, 'trade_allowed': True, 'trade_expert': True, 'margin_mode': 2, 'currency_digits': 2, 'fifo_close': False, 'balance': 10000.0, 'credit': 0.0, 'profit': 0.0, 'equity': 10000.0, 'margin': 0.0, 'margin_free': 10000.0, 'margin_level': 0.0, 'margin_so_call': 100.0, 'margin_so_so': 50.0, 'margin_initial': 0.0, 'margin_maintenance': 0.0, 'assets': 0.0, 'liabilities': 0.0, 'commission_blocked': 0.0, 'name': 'Demo Derived', 'server': 'Deriv-Demo', 'currency': 'USD', 'company': 'Deriv.com Limited'}\n",
      "\n",
      "\n",
      "{'community_account': True, 'community_connection': True, 'connected': True, 'dlls_allowed': False, 'trade_allowed': True, 'tradeapi_disabled': False, 'email_enabled': False, 'ftp_enabled': False, 'notifications_enabled': False, 'mqid': False, 'build': 4092, 'maxbars': 100000, 'codepage': 0, 'ping_last': 161840, 'community_balance': 0.0, 'retransmission': 5.938520516825217, 'company': 'MetaQuotes Software Corp.', 'name': 'MetaTrader 5', 'language': 'English', 'path': 'C:\\\\Program Files\\\\MetaTrader 5', 'data_path': 'C:\\\\Users\\\\Omage Micheal\\\\AppData\\\\Roaming\\\\MetaQuotes\\\\Terminal\\\\D0E8209F77C8CF37AD8BF550E51FF075', 'commondata_path': 'C:\\\\Users\\\\Omage Micheal\\\\AppData\\\\Roaming\\\\MetaQuotes\\\\Terminal\\\\Common'}\n",
      "\n",
      "\n",
      "52\n",
      "52\n"
     ]
    }
   ],
   "source": [
    "if not mt5.initialize():\n",
    "    print('Initialization failed, check internet connection. You must have Meta Trader 5 installed.')\n",
    "    mt5.shutdown()\n",
    "\n",
    "else:\n",
    "    print(mt5.account_info()._asdict())\n",
    "    print(\"\\n\")\n",
    "    print(mt5.terminal_info()._asdict())\n",
    "    print(\"\\n\")\n",
    "    print(mt5.symbols_total())\n",
    "    symbols = mt5.symbols_get()\n",
    "    print(len(symbols))\n",
    "    for symbol in symbols:\n",
    "        if(symbol.name == \"GBPUSD\"):\n",
    "            print(\"yes\")\n",
    "            break\n",
    "# you code here\n",
    "\n"
   ]
  },
  {
   "cell_type": "code",
   "execution_count": 5,
   "metadata": {},
   "outputs": [],
   "source": [
    "n = 7"
   ]
  },
  {
   "cell_type": "code",
   "execution_count": 7,
   "metadata": {},
   "outputs": [
    {
     "name": "stdout",
     "output_type": "stream",
     "text": [
      "(43979,)\n"
     ]
    }
   ],
   "source": [
    "#rates = mt5.copy_rates_from_pos(\"GBPUSD\", mt5.TIMEFRAME_H1, 0, 99999)  \n",
    "\n",
    "target_market = [\"GBPUSD\",\"USDCAD\",\"AUDUSD\",\"USDCHF\",\"NZDUSD\",\"EURUSD\",\"XAUUSD\",\"Volatility 10 Index\"]\n",
    "market = mt5.copy_rates_from_pos(target_market[n], mt5.TIMEFRAME_H1, 0, 99999)  \n",
    "\n",
    "print(market.shape)"
   ]
  },
  {
   "cell_type": "code",
   "execution_count": 8,
   "metadata": {},
   "outputs": [
    {
     "data": {
      "text/plain": [
       "array([(1546318800, 7989.803, 7990.783, 7981.851, 7985.697, 1732, 300, 0),\n",
       "       (1546322400, 7985.807, 7994.125, 7984.129, 7985.746, 1797, 300, 0),\n",
       "       (1546326000, 7985.621, 7991.298, 7979.697, 7985.078, 1798, 300, 0),\n",
       "       ...,\n",
       "       (1704636000, 6746.998, 6748.691, 6738.086, 6743.773, 1797, 163, 0),\n",
       "       (1704639600, 6743.955, 6746.692, 6735.127, 6738.982, 1793, 163, 0),\n",
       "       (1704643200, 6739.229, 6740.984, 6733.55 , 6735.692, 1609, 163, 0)],\n",
       "      dtype=[('time', '<i8'), ('open', '<f8'), ('high', '<f8'), ('low', '<f8'), ('close', '<f8'), ('tick_volume', '<u8'), ('spread', '<i4'), ('real_volume', '<u8')])"
      ]
     },
     "execution_count": 8,
     "metadata": {},
     "output_type": "execute_result"
    }
   ],
   "source": [
    "market"
   ]
  },
  {
   "cell_type": "code",
   "execution_count": 9,
   "metadata": {},
   "outputs": [],
   "source": [
    "data = []\n",
    "for i in range(len(market)):\n",
    "    data.append([market[i][0],market[i][1],market[i][4],market[i][5]])\n",
    "\n"
   ]
  },
  {
   "cell_type": "code",
   "execution_count": 10,
   "metadata": {},
   "outputs": [
    {
     "data": {
      "text/html": [
       "<div>\n",
       "<style scoped>\n",
       "    .dataframe tbody tr th:only-of-type {\n",
       "        vertical-align: middle;\n",
       "    }\n",
       "\n",
       "    .dataframe tbody tr th {\n",
       "        vertical-align: top;\n",
       "    }\n",
       "\n",
       "    .dataframe thead th {\n",
       "        text-align: right;\n",
       "    }\n",
       "</style>\n",
       "<table border=\"1\" class=\"dataframe\">\n",
       "  <thead>\n",
       "    <tr style=\"text-align: right;\">\n",
       "      <th></th>\n",
       "      <th>Time</th>\n",
       "      <th>Open</th>\n",
       "      <th>Close</th>\n",
       "      <th>Tick Volume</th>\n",
       "    </tr>\n",
       "  </thead>\n",
       "  <tbody>\n",
       "    <tr>\n",
       "      <th>0</th>\n",
       "      <td>1546318800</td>\n",
       "      <td>7989.803</td>\n",
       "      <td>7985.697</td>\n",
       "      <td>1732</td>\n",
       "    </tr>\n",
       "    <tr>\n",
       "      <th>1</th>\n",
       "      <td>1546322400</td>\n",
       "      <td>7985.807</td>\n",
       "      <td>7985.746</td>\n",
       "      <td>1797</td>\n",
       "    </tr>\n",
       "    <tr>\n",
       "      <th>2</th>\n",
       "      <td>1546326000</td>\n",
       "      <td>7985.621</td>\n",
       "      <td>7985.078</td>\n",
       "      <td>1798</td>\n",
       "    </tr>\n",
       "    <tr>\n",
       "      <th>3</th>\n",
       "      <td>1546329600</td>\n",
       "      <td>7984.991</td>\n",
       "      <td>7989.836</td>\n",
       "      <td>1797</td>\n",
       "    </tr>\n",
       "    <tr>\n",
       "      <th>4</th>\n",
       "      <td>1546333200</td>\n",
       "      <td>7989.806</td>\n",
       "      <td>7985.492</td>\n",
       "      <td>1798</td>\n",
       "    </tr>\n",
       "  </tbody>\n",
       "</table>\n",
       "</div>"
      ],
      "text/plain": [
       "         Time      Open     Close  Tick Volume\n",
       "0  1546318800  7989.803  7985.697         1732\n",
       "1  1546322400  7985.807  7985.746         1797\n",
       "2  1546326000  7985.621  7985.078         1798\n",
       "3  1546329600  7984.991  7989.836         1797\n",
       "4  1546333200  7989.806  7985.492         1798"
      ]
     },
     "execution_count": 10,
     "metadata": {},
     "output_type": "execute_result"
    }
   ],
   "source": [
    "df = pd.DataFrame(data, columns=[\"Time\", \"Open\",\"Close\", \"Tick Volume\"])\n",
    "df.head()"
   ]
  },
  {
   "cell_type": "code",
   "execution_count": 11,
   "metadata": {},
   "outputs": [
    {
     "name": "stdout",
     "output_type": "stream",
     "text": [
      "[[1.5463188e+09 7.9898030e+03 7.9907830e+03 7.9818510e+03 7.9856970e+03\n",
      "  1.7320000e+03]\n",
      " [1.5463224e+09 7.9858070e+03 7.9941250e+03 7.9841290e+03 7.9857460e+03\n",
      "  1.7970000e+03]\n",
      " [1.5463260e+09 7.9856210e+03 7.9912980e+03 7.9796970e+03 7.9850780e+03\n",
      "  1.7980000e+03]\n",
      " ...\n",
      " [1.7046360e+09 6.7469980e+03 6.7486910e+03 6.7380860e+03 6.7437730e+03\n",
      "  1.7970000e+03]\n",
      " [1.7046396e+09 6.7439550e+03 6.7466920e+03 6.7351270e+03 6.7389820e+03\n",
      "  1.7930000e+03]\n",
      " [1.7046432e+09 6.7392290e+03 6.7409840e+03 6.7335500e+03 6.7356920e+03\n",
      "  1.6090000e+03]]\n"
     ]
    }
   ],
   "source": [
    "data = []\n",
    "for i in range(len(market)):\n",
    "    data.append(list(market[i]))\n",
    "data=np.array(data)\n",
    "data = data[:,:6]\n",
    "print(data)"
   ]
  },
  {
   "cell_type": "code",
   "execution_count": 12,
   "metadata": {},
   "outputs": [
    {
     "data": {
      "text/html": [
       "<div>\n",
       "<style scoped>\n",
       "    .dataframe tbody tr th:only-of-type {\n",
       "        vertical-align: middle;\n",
       "    }\n",
       "\n",
       "    .dataframe tbody tr th {\n",
       "        vertical-align: top;\n",
       "    }\n",
       "\n",
       "    .dataframe thead th {\n",
       "        text-align: right;\n",
       "    }\n",
       "</style>\n",
       "<table border=\"1\" class=\"dataframe\">\n",
       "  <thead>\n",
       "    <tr style=\"text-align: right;\">\n",
       "      <th></th>\n",
       "      <th>Time</th>\n",
       "      <th>Open</th>\n",
       "      <th>High</th>\n",
       "      <th>Low</th>\n",
       "      <th>Close</th>\n",
       "      <th>Tick Volume</th>\n",
       "    </tr>\n",
       "  </thead>\n",
       "  <tbody>\n",
       "    <tr>\n",
       "      <th>0</th>\n",
       "      <td>1.546319e+09</td>\n",
       "      <td>7989.803</td>\n",
       "      <td>7990.783</td>\n",
       "      <td>7981.851</td>\n",
       "      <td>7985.697</td>\n",
       "      <td>1732.0</td>\n",
       "    </tr>\n",
       "    <tr>\n",
       "      <th>1</th>\n",
       "      <td>1.546322e+09</td>\n",
       "      <td>7985.807</td>\n",
       "      <td>7994.125</td>\n",
       "      <td>7984.129</td>\n",
       "      <td>7985.746</td>\n",
       "      <td>1797.0</td>\n",
       "    </tr>\n",
       "    <tr>\n",
       "      <th>2</th>\n",
       "      <td>1.546326e+09</td>\n",
       "      <td>7985.621</td>\n",
       "      <td>7991.298</td>\n",
       "      <td>7979.697</td>\n",
       "      <td>7985.078</td>\n",
       "      <td>1798.0</td>\n",
       "    </tr>\n",
       "    <tr>\n",
       "      <th>3</th>\n",
       "      <td>1.546330e+09</td>\n",
       "      <td>7984.991</td>\n",
       "      <td>7999.997</td>\n",
       "      <td>7983.987</td>\n",
       "      <td>7989.836</td>\n",
       "      <td>1797.0</td>\n",
       "    </tr>\n",
       "    <tr>\n",
       "      <th>4</th>\n",
       "      <td>1.546333e+09</td>\n",
       "      <td>7989.806</td>\n",
       "      <td>7992.654</td>\n",
       "      <td>7983.357</td>\n",
       "      <td>7985.492</td>\n",
       "      <td>1798.0</td>\n",
       "    </tr>\n",
       "  </tbody>\n",
       "</table>\n",
       "</div>"
      ],
      "text/plain": [
       "           Time      Open      High       Low     Close  Tick Volume\n",
       "0  1.546319e+09  7989.803  7990.783  7981.851  7985.697       1732.0\n",
       "1  1.546322e+09  7985.807  7994.125  7984.129  7985.746       1797.0\n",
       "2  1.546326e+09  7985.621  7991.298  7979.697  7985.078       1798.0\n",
       "3  1.546330e+09  7984.991  7999.997  7983.987  7989.836       1797.0\n",
       "4  1.546333e+09  7989.806  7992.654  7983.357  7985.492       1798.0"
      ]
     },
     "execution_count": 12,
     "metadata": {},
     "output_type": "execute_result"
    }
   ],
   "source": [
    "df = pd.DataFrame(data, columns=[\"Time\", \"Open\",\"High\",\"Low\",\"Close\", \"Tick Volume\"])\n",
    "df.head()"
   ]
  },
  {
   "cell_type": "code",
   "execution_count": 10,
   "metadata": {},
   "outputs": [],
   "source": [
    "df.to_csv(\"Generated\"+target_market[n]+\" dbot.csv\", index=False)\n"
   ]
  },
  {
   "cell_type": "code",
   "execution_count": 11,
   "metadata": {},
   "outputs": [
    {
     "name": "stdout",
     "output_type": "stream",
     "text": [
      "2014-04-03 01:00:00\n"
     ]
    }
   ],
   "source": [
    "# set time zone to UTC\n",
    "# Convert Unix epoch time to UTC time\n",
    "utc_time = datetime.datetime.fromtimestamp(1396483200)\n",
    "\n",
    "# Print the UTC time\n",
    "print(utc_time)"
   ]
  },
  {
   "cell_type": "code",
   "execution_count": 12,
   "metadata": {},
   "outputs": [
    {
     "name": "stdout",
     "output_type": "stream",
     "text": [
      "1695898800.0\n"
     ]
    }
   ],
   "source": [
    "# Convert UTC time to Unix epoch time\n",
    "utc_time = datetime.datetime(2023, 9, 28, 12, 0, 0)\n",
    "unix_epoch_time = utc_time.timestamp()\n",
    "\n",
    "# Print the Unix epoch time\n",
    "print(unix_epoch_time)"
   ]
  }
 ],
 "metadata": {
  "kernelspec": {
   "display_name": "Python 3 (ipykernel)",
   "language": "python",
   "name": "python3"
  },
  "language_info": {
   "codemirror_mode": {
    "name": "ipython",
    "version": 3
   },
   "file_extension": ".py",
   "mimetype": "text/x-python",
   "name": "python",
   "nbconvert_exporter": "python",
   "pygments_lexer": "ipython3",
   "version": "3.10.7"
  }
 },
 "nbformat": 4,
 "nbformat_minor": 4
}
