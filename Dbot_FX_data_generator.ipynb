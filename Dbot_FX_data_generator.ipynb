{
 "cells": [
  {
   "cell_type": "code",
   "execution_count": 1,
   "metadata": {},
   "outputs": [
    {
     "name": "stdout",
     "output_type": "stream",
     "text": [
      "MetaTrader5 package author:  MetaQuotes Ltd.\n",
      "MetaTrader5 package version:  5.0.45\n"
     ]
    }
   ],
   "source": [
    "import MetaTrader5 as mt5\n",
    "import datetime\n",
    "import numpy as np\n",
    "import pandas as pd\n",
    "\n",
    "\n",
    "print(\"MetaTrader5 package author: \",mt5.__author__)\n",
    "print(\"MetaTrader5 package version: \",mt5.__version__)\n",
    "\n"
   ]
  },
  {
   "cell_type": "code",
   "execution_count": 2,
   "metadata": {},
   "outputs": [
    {
     "name": "stdout",
     "output_type": "stream",
     "text": [
      "{'login': 75525372, 'trade_mode': 0, 'leverage': 100, 'limit_orders': 200, 'margin_so_mode': 0, 'trade_allowed': True, 'trade_expert': True, 'margin_mode': 2, 'currency_digits': 2, 'fifo_close': False, 'balance': 60.86, 'credit': 0.0, 'profit': 0.0, 'equity': 60.86, 'margin': 0.0, 'margin_free': 60.86, 'margin_level': 0.0, 'margin_so_call': 50.0, 'margin_so_so': 30.0, 'margin_initial': 0.0, 'margin_maintenance': 0.0, 'assets': 0.0, 'liabilities': 0.0, 'commission_blocked': 0.0, 'name': 'mike bright', 'server': 'MetaQuotes-Demo', 'currency': 'USD', 'company': 'MetaQuotes Software Corp.'}\n",
      "\n",
      "\n",
      "{'community_account': True, 'community_connection': True, 'connected': True, 'dlls_allowed': False, 'trade_allowed': True, 'tradeapi_disabled': False, 'email_enabled': False, 'ftp_enabled': False, 'notifications_enabled': False, 'mqid': True, 'build': 4169, 'maxbars': 1000000, 'codepage': 0, 'ping_last': 170759, 'community_balance': 0.0, 'retransmission': 0.0, 'company': 'MetaQuotes Software Corp.', 'name': 'MetaTrader 5', 'language': 'English', 'path': 'C:\\\\Program Files\\\\MetaTrader 5', 'data_path': 'C:\\\\Users\\\\Omage Micheal\\\\AppData\\\\Roaming\\\\MetaQuotes\\\\Terminal\\\\D0E8209F77C8CF37AD8BF550E51FF075', 'commondata_path': 'C:\\\\Users\\\\Omage Micheal\\\\AppData\\\\Roaming\\\\MetaQuotes\\\\Terminal\\\\Common'}\n",
      "\n",
      "\n",
      "140\n",
      "140\n",
      "yes\n"
     ]
    }
   ],
   "source": [
    "if not mt5.initialize():\n",
    "    print('Initialization failed, check internet connection. You must have Meta Trader 5 installed.')\n",
    "    mt5.shutdown()\n",
    "\n",
    "else:\n",
    "    print(mt5.account_info()._asdict())\n",
    "    print(\"\\n\")\n",
    "    print(mt5.terminal_info()._asdict())\n",
    "    print(\"\\n\")\n",
    "    print(mt5.symbols_total())\n",
    "    symbols = mt5.symbols_get()\n",
    "    print(len(symbols))\n",
    "    for symbol in symbols:\n",
    "        if(symbol.name == \"GBPUSD\"):\n",
    "            print(\"yes\")\n",
    "            break\n",
    "# you code here\n",
    "\n"
   ]
  },
  {
   "cell_type": "code",
   "execution_count": 3,
   "metadata": {},
   "outputs": [],
   "source": [
    "n = 1"
   ]
  },
  {
   "cell_type": "code",
   "execution_count": 7,
   "metadata": {},
   "outputs": [
    {
     "name": "stdout",
     "output_type": "stream",
     "text": [
      "(99999,)\n"
     ]
    }
   ],
   "source": [
    "#rates = mt5.copy_rates_from_pos(\"GBPUSD\", mt5.TIMEFRAME_H1, 0, 99999)  \n",
    "\n",
    "target_market = [\"EURCHF\",\"USDCAD\",\"AUDUSD\",\"USDCHF\",\"NZDUSD\",\"EURUSD\",\"XAUUSD\",\"Volatility 10 Index\"]\n",
    "market = mt5.copy_rates_from_pos(target_market[n], mt5.TIMEFRAME_M30, 0, 99999)  \n",
    "\n",
    "print(market.shape)"
   ]
  },
  {
   "cell_type": "code",
   "execution_count": 8,
   "metadata": {},
   "outputs": [
    {
     "data": {
      "text/plain": [
       "array([(1453363200, 1.45076, 1.45157, 1.44989, 1.45153, 2201, 9, 2129850000),\n",
       "       (1453365000, 1.45153, 1.45246, 1.45079, 1.45106, 1901, 9, 1962686000),\n",
       "       (1453366800, 1.45107, 1.45148, 1.45033, 1.45119, 3789, 9, 3680458000),\n",
       "       ...,\n",
       "       (1707148800, 1.3512 , 1.35131, 1.35024, 1.35027, 1697, 5,          0),\n",
       "       (1707150600, 1.35027, 1.35168, 1.35019, 1.35118, 3439, 5,          0),\n",
       "       (1707152400, 1.35118, 1.35402, 1.35107, 1.3538 , 4209, 5,          0)],\n",
       "      dtype=[('time', '<i8'), ('open', '<f8'), ('high', '<f8'), ('low', '<f8'), ('close', '<f8'), ('tick_volume', '<u8'), ('spread', '<i4'), ('real_volume', '<u8')])"
      ]
     },
     "execution_count": 8,
     "metadata": {},
     "output_type": "execute_result"
    }
   ],
   "source": [
    "market"
   ]
  },
  {
   "cell_type": "code",
   "execution_count": 9,
   "metadata": {},
   "outputs": [],
   "source": [
    "data = []\n",
    "for i in range(len(market)):\n",
    "    data.append([market[i][0],market[i][1],market[i][4],market[i][5]])\n",
    "\n"
   ]
  },
  {
   "cell_type": "code",
   "execution_count": 10,
   "metadata": {},
   "outputs": [
    {
     "data": {
      "text/html": [
       "<div>\n",
       "<style scoped>\n",
       "    .dataframe tbody tr th:only-of-type {\n",
       "        vertical-align: middle;\n",
       "    }\n",
       "\n",
       "    .dataframe tbody tr th {\n",
       "        vertical-align: top;\n",
       "    }\n",
       "\n",
       "    .dataframe thead th {\n",
       "        text-align: right;\n",
       "    }\n",
       "</style>\n",
       "<table border=\"1\" class=\"dataframe\">\n",
       "  <thead>\n",
       "    <tr style=\"text-align: right;\">\n",
       "      <th></th>\n",
       "      <th>Time</th>\n",
       "      <th>Open</th>\n",
       "      <th>Close</th>\n",
       "      <th>Tick Volume</th>\n",
       "    </tr>\n",
       "  </thead>\n",
       "  <tbody>\n",
       "    <tr>\n",
       "      <th>0</th>\n",
       "      <td>1453363200</td>\n",
       "      <td>1.45076</td>\n",
       "      <td>1.45153</td>\n",
       "      <td>2201</td>\n",
       "    </tr>\n",
       "    <tr>\n",
       "      <th>1</th>\n",
       "      <td>1453365000</td>\n",
       "      <td>1.45153</td>\n",
       "      <td>1.45106</td>\n",
       "      <td>1901</td>\n",
       "    </tr>\n",
       "    <tr>\n",
       "      <th>2</th>\n",
       "      <td>1453366800</td>\n",
       "      <td>1.45107</td>\n",
       "      <td>1.45119</td>\n",
       "      <td>3789</td>\n",
       "    </tr>\n",
       "    <tr>\n",
       "      <th>3</th>\n",
       "      <td>1453368600</td>\n",
       "      <td>1.45120</td>\n",
       "      <td>1.45131</td>\n",
       "      <td>4549</td>\n",
       "    </tr>\n",
       "    <tr>\n",
       "      <th>4</th>\n",
       "      <td>1453370400</td>\n",
       "      <td>1.45133</td>\n",
       "      <td>1.44671</td>\n",
       "      <td>6228</td>\n",
       "    </tr>\n",
       "  </tbody>\n",
       "</table>\n",
       "</div>"
      ],
      "text/plain": [
       "         Time     Open    Close  Tick Volume\n",
       "0  1453363200  1.45076  1.45153         2201\n",
       "1  1453365000  1.45153  1.45106         1901\n",
       "2  1453366800  1.45107  1.45119         3789\n",
       "3  1453368600  1.45120  1.45131         4549\n",
       "4  1453370400  1.45133  1.44671         6228"
      ]
     },
     "execution_count": 10,
     "metadata": {},
     "output_type": "execute_result"
    }
   ],
   "source": [
    "df = pd.DataFrame(data, columns=[\"Time\", \"Open\",\"Close\", \"Tick Volume\"])\n",
    "df.head()"
   ]
  },
  {
   "cell_type": "code",
   "execution_count": 11,
   "metadata": {},
   "outputs": [
    {
     "name": "stdout",
     "output_type": "stream",
     "text": [
      "[[1.4533632e+09 1.4507600e+00 1.4515700e+00 1.4498900e+00 1.4515300e+00\n",
      "  2.2010000e+03]\n",
      " [1.4533650e+09 1.4515300e+00 1.4524600e+00 1.4507900e+00 1.4510600e+00\n",
      "  1.9010000e+03]\n",
      " [1.4533668e+09 1.4510700e+00 1.4514800e+00 1.4503300e+00 1.4511900e+00\n",
      "  3.7890000e+03]\n",
      " ...\n",
      " [1.7071488e+09 1.3512000e+00 1.3513100e+00 1.3502400e+00 1.3502700e+00\n",
      "  1.6970000e+03]\n",
      " [1.7071506e+09 1.3502700e+00 1.3516800e+00 1.3501900e+00 1.3511800e+00\n",
      "  3.4390000e+03]\n",
      " [1.7071524e+09 1.3511800e+00 1.3540200e+00 1.3510700e+00 1.3538000e+00\n",
      "  4.2090000e+03]]\n"
     ]
    }
   ],
   "source": [
    "data = []\n",
    "for i in range(len(market)):\n",
    "    data.append(list(market[i]))\n",
    "data=np.array(data)\n",
    "data = data[:,:6]\n",
    "print(data)"
   ]
  },
  {
   "cell_type": "code",
   "execution_count": 12,
   "metadata": {},
   "outputs": [
    {
     "data": {
      "text/html": [
       "<div>\n",
       "<style scoped>\n",
       "    .dataframe tbody tr th:only-of-type {\n",
       "        vertical-align: middle;\n",
       "    }\n",
       "\n",
       "    .dataframe tbody tr th {\n",
       "        vertical-align: top;\n",
       "    }\n",
       "\n",
       "    .dataframe thead th {\n",
       "        text-align: right;\n",
       "    }\n",
       "</style>\n",
       "<table border=\"1\" class=\"dataframe\">\n",
       "  <thead>\n",
       "    <tr style=\"text-align: right;\">\n",
       "      <th></th>\n",
       "      <th>Time</th>\n",
       "      <th>Open</th>\n",
       "      <th>High</th>\n",
       "      <th>Low</th>\n",
       "      <th>Close</th>\n",
       "      <th>Tick Volume</th>\n",
       "    </tr>\n",
       "  </thead>\n",
       "  <tbody>\n",
       "    <tr>\n",
       "      <th>0</th>\n",
       "      <td>1.615208e+09</td>\n",
       "      <td>6152.787</td>\n",
       "      <td>6153.274</td>\n",
       "      <td>6149.526</td>\n",
       "      <td>6152.502</td>\n",
       "      <td>449.0</td>\n",
       "    </tr>\n",
       "    <tr>\n",
       "      <th>1</th>\n",
       "      <td>1.615209e+09</td>\n",
       "      <td>6152.371</td>\n",
       "      <td>6155.355</td>\n",
       "      <td>6151.888</td>\n",
       "      <td>6152.779</td>\n",
       "      <td>450.0</td>\n",
       "    </tr>\n",
       "    <tr>\n",
       "      <th>2</th>\n",
       "      <td>1.615210e+09</td>\n",
       "      <td>6153.003</td>\n",
       "      <td>6154.315</td>\n",
       "      <td>6150.538</td>\n",
       "      <td>6152.896</td>\n",
       "      <td>449.0</td>\n",
       "    </tr>\n",
       "    <tr>\n",
       "      <th>3</th>\n",
       "      <td>1.615211e+09</td>\n",
       "      <td>6152.917</td>\n",
       "      <td>6153.414</td>\n",
       "      <td>6146.055</td>\n",
       "      <td>6149.942</td>\n",
       "      <td>450.0</td>\n",
       "    </tr>\n",
       "    <tr>\n",
       "      <th>4</th>\n",
       "      <td>1.615212e+09</td>\n",
       "      <td>6149.729</td>\n",
       "      <td>6154.497</td>\n",
       "      <td>6149.243</td>\n",
       "      <td>6152.056</td>\n",
       "      <td>450.0</td>\n",
       "    </tr>\n",
       "  </tbody>\n",
       "</table>\n",
       "</div>"
      ],
      "text/plain": [
       "           Time      Open      High       Low     Close  Tick Volume\n",
       "0  1.615208e+09  6152.787  6153.274  6149.526  6152.502        449.0\n",
       "1  1.615209e+09  6152.371  6155.355  6151.888  6152.779        450.0\n",
       "2  1.615210e+09  6153.003  6154.315  6150.538  6152.896        449.0\n",
       "3  1.615211e+09  6152.917  6153.414  6146.055  6149.942        450.0\n",
       "4  1.615212e+09  6149.729  6154.497  6149.243  6152.056        450.0"
      ]
     },
     "execution_count": 12,
     "metadata": {},
     "output_type": "execute_result"
    }
   ],
   "source": [
    "df = pd.DataFrame(data, columns=[\"Time\", \"Open\",\"High\",\"Low\",\"Close\", \"Tick Volume\"])\n",
    "df.head()"
   ]
  },
  {
   "cell_type": "code",
   "execution_count": 10,
   "metadata": {},
   "outputs": [],
   "source": [
    "df.to_csv(\"Generated\"+target_market[n]+\" dbot.csv\", index=False)\n"
   ]
  },
  {
   "cell_type": "code",
   "execution_count": 11,
   "metadata": {},
   "outputs": [
    {
     "name": "stdout",
     "output_type": "stream",
     "text": [
      "2014-04-03 01:00:00\n"
     ]
    }
   ],
   "source": [
    "# set time zone to UTC\n",
    "# Convert Unix epoch time to UTC time\n",
    "utc_time = datetime.datetime.fromtimestamp(1396483200)\n",
    "\n",
    "# Print the UTC time\n",
    "print(utc_time)"
   ]
  },
  {
   "cell_type": "code",
   "execution_count": 12,
   "metadata": {},
   "outputs": [
    {
     "name": "stdout",
     "output_type": "stream",
     "text": [
      "1695898800.0\n"
     ]
    }
   ],
   "source": [
    "# Convert UTC time to Unix epoch time\n",
    "utc_time = datetime.datetime(2023, 9, 28, 12, 0, 0)\n",
    "unix_epoch_time = utc_time.timestamp()\n",
    "\n",
    "# Print the Unix epoch time\n",
    "print(unix_epoch_time)"
   ]
  }
 ],
 "metadata": {
  "kernelspec": {
   "display_name": "Python 3 (ipykernel)",
   "language": "python",
   "name": "python3"
  },
  "language_info": {
   "codemirror_mode": {
    "name": "ipython",
    "version": 3
   },
   "file_extension": ".py",
   "mimetype": "text/x-python",
   "name": "python",
   "nbconvert_exporter": "python",
   "pygments_lexer": "ipython3",
   "version": "3.10.7"
  }
 },
 "nbformat": 4,
 "nbformat_minor": 4
}
