{
  "cells": [
    {
      "cell_type": "markdown",
      "metadata": {
        "colab_type": "text",
        "id": "view-in-github"
      },
      "source": [
        "<a href=\"https://colab.research.google.com/github/dbright123/Dbot-Advance/blob/main/lstm_predict.ipynb\" target=\"_parent\"><img src=\"https://colab.research.google.com/assets/colab-badge.svg\" alt=\"Open In Colab\"/></a>"
      ]
    },
    {
      "cell_type": "code",
      "execution_count": null,
      "metadata": {
        "id": "Z1oCaggK4VKR"
      },
      "outputs": [],
      "source": [
        "import MetaTrader5 as mt5\n",
        "import numpy as np\n",
        "import pandas as pd\n",
        "\n",
        "\n",
        "\n"
      ]
    },
    {
      "cell_type": "code",
      "execution_count": null,
      "metadata": {
        "id": "btJoWVAx4VKS",
        "outputId": "077d53d7-b8ac-4d3c-9251-3f449e68e0f3"
      },
      "outputs": [
        {
          "name": "stdout",
          "output_type": "stream",
          "text": [
            "MetaTrader5 package author:  MetaQuotes Ltd.\n",
            "MetaTrader5 package version:  5.0.5200\n",
            "True\n",
            "{'login': 63134054, 'trade_mode': 2, 'leverage': 100, 'limit_orders': 500, 'margin_so_mode': 0, 'trade_allowed': True, 'trade_expert': True, 'margin_mode': 2, 'currency_digits': 2, 'fifo_close': False, 'balance': 56.54, 'credit': 13.06, 'profit': 0.0, 'equity': 69.6, 'margin': 0.0, 'margin_free': 69.6, 'margin_level': 0.0, 'margin_so_call': 25.0, 'margin_so_so': 15.0, 'margin_initial': 0.0, 'margin_maintenance': 0.0, 'assets': 0.0, 'liabilities': 0.0, 'commission_blocked': 0.0, 'name': 'Bright Idowu ', 'server': 'OctaFX-Real', 'currency': 'USD', 'company': 'Octa Markets Incorporated'}\n",
            "\n",
            "\n",
            "{'community_account': False, 'community_connection': False, 'connected': True, 'dlls_allowed': False, 'trade_allowed': True, 'tradeapi_disabled': False, 'email_enabled': False, 'ftp_enabled': False, 'notifications_enabled': False, 'mqid': True, 'build': 5370, 'maxbars': 100000000, 'codepage': 0, 'ping_last': 160086, 'community_balance': 0.0, 'retransmission': 2.734702047378007, 'company': 'MetaQuotes Ltd.', 'name': 'MetaTrader 5', 'language': 'English', 'path': 'C:\\\\Program Files\\\\MetaTrader 5', 'data_path': 'C:\\\\Users\\\\dbright\\\\AppData\\\\Roaming\\\\MetaQuotes\\\\Terminal\\\\D0E8209F77C8CF37AD8BF550E51FF075', 'commondata_path': 'C:\\\\Users\\\\dbright\\\\AppData\\\\Roaming\\\\MetaQuotes\\\\Terminal\\\\Common'}\n",
            "\n",
            "\n",
            "279\n"
          ]
        }
      ],
      "source": [
        "print(\"MetaTrader5 package author: \",mt5.__author__)\n",
        "print(\"MetaTrader5 package version: \",mt5.__version__)\n",
        "\n",
        "trade_active = mt5.initialize()\n",
        "\n",
        "print(trade_active)\n",
        "\n",
        "if not trade_active:\n",
        "    print('Initialization failed, check internet connection. You must have Meta Trader 5 installed.')\n",
        "    mt5.shutdown()\n",
        "\n",
        "else:\n",
        "    print(mt5.account_info()._asdict())\n",
        "    print(\"\\n\")\n",
        "    print(mt5.terminal_info()._asdict())\n",
        "    print(\"\\n\")\n",
        "    print(mt5.symbols_total())"
      ]
    },
    {
      "cell_type": "code",
      "execution_count": null,
      "metadata": {
        "id": "ep9xWhDh4VKU",
        "outputId": "31c79ec1-fd31-4335-d881-2db8f23fed61"
      },
      "outputs": [
        {
          "name": "stdout",
          "output_type": "stream",
          "text": [
            "69.6\n",
            "AI is successfully functional\n"
          ]
        }
      ],
      "source": [
        "account = mt5.account_info()\n",
        "terminal = mt5.terminal_info()\n",
        "\n",
        "print(account.equity)\n",
        "\n",
        "if(terminal.connected == True or terminal.trade_allowed == True):\n",
        "    print(\"AI is successfully functional\")\n",
        "else:\n",
        "    print(\"Please make sure metatrade 5 has internet and algo Trade is Turn On\")"
      ]
    },
    {
      "cell_type": "code",
      "execution_count": null,
      "metadata": {
        "id": "Cm6_C7cwJaFl",
        "outputId": "14ed083f-33ea-49ce-81da-0259753f3a03"
      },
      "outputs": [
        {
          "name": "stdout",
          "output_type": "stream",
          "text": [
            "279\n",
            "Yes  EURUSD\n",
            "Yes  GBPUSD\n",
            "Yes  USDJPY\n",
            "Yes  USDCHF\n",
            "Yes  AUDUSD\n",
            "Yes  NZDUSD\n",
            "Yes  USDCAD\n",
            "Yes  USDMXN\n",
            "Yes  USDZAR\n",
            "Yes  XAGUSD\n",
            "Yes  XAUUSD\n",
            "Yes  XBRUSD\n",
            "Yes  XTIUSD\n",
            "Yes  XNGUSD\n",
            "Yes  AUS200\n",
            "Yes  EUSTX50\n",
            "Yes  US30\n",
            "Yes  BTCUSD\n",
            "Yes  ETHUSD\n",
            "Yes  LTCUSD\n",
            "Yes  XRPUSD\n",
            "Yes  BCHUSD\n",
            "Yes  AAVEUSD\n",
            "Yes  ADAUSD\n",
            "Yes  ALGOUSD\n",
            "Yes  ATOMUSD\n",
            "Yes  AVAXUSD\n",
            "Yes  AXSUSD\n",
            "Yes  BNBUSD\n",
            "Yes  DASHUSD\n",
            "Yes  DOGEUSD\n",
            "Yes  DOTUSD\n",
            "Yes  FILUSD\n",
            "Yes  GRTUSD\n",
            "Yes  ICPUSD\n",
            "Yes  IOTAUSD\n",
            "Yes  LINKUSD\n",
            "Yes  LRCUSD\n",
            "Yes  MANAUSD\n",
            "Yes  NEARUSD\n",
            "Yes  SOLUSD\n",
            "Yes  UNIUSD\n",
            "Yes  ZECUSD\n",
            "Yes  ETCUSD\n",
            "Yes  TRXUSD\n",
            "Yes  FETUSD\n",
            "Yes  ARBUSD\n",
            "Yes  APTUSD\n",
            "Yes  SUIUSD\n",
            "Yes  TMUS.NAS\n",
            "Yes  USDCNH\n",
            "Yes  USDCZK\n",
            "Yes  USDDKK\n",
            "Yes  USDHKD\n",
            "Yes  USDHUF\n",
            "Yes  USDNOK\n",
            "Yes  USDPLN\n",
            "Yes  USDSEK\n",
            "Yes  USDSGD\n",
            "Yes  USDTRY\n",
            "Yes  US30.Daily\n",
            "Yes  XBRUSD.Daily\n",
            "Yes  XTIUSD.Daily\n",
            "Yes  BTCUSD.Daily\n",
            "Yes  ETHUSD.Daily\n",
            "Yes  XRPUSD.Daily\n",
            "Yes  LTCUSD.Daily\n",
            "Yes  BCHUSD.Daily\n",
            "Yes  LINKUSD.Daily\n",
            "Yes  SOLUSD.Daily\n",
            "70\n"
          ]
        }
      ],
      "source": [
        "symbols = mt5.symbols_get()\n",
        "print(len(symbols))\n",
        "t_symbol = []\n",
        "for symbol in symbols:\n",
        "    if \"US\" in symbol.name:\n",
        "        print(\"Yes \", symbol.name)\n",
        "        t_symbol.append(symbol.name)\n",
        "\n",
        "print(len(t_symbol))"
      ]
    },
    {
      "cell_type": "code",
      "execution_count": null,
      "metadata": {
        "id": "S9rw9k_WbKfm",
        "outputId": "eb70bbd8-c5f8-4f29-94b8-4697f9acd144"
      },
      "outputs": [
        {
          "name": "stdout",
          "output_type": "stream",
          "text": [
            "[( 737164800, 1.537  , 1.5445 , 1.529  , 1.5338 , 2781, 50, 0)\n",
            " ( 737251200, 1.5328 , 1.536  , 1.518  , 1.5225 , 2571, 50, 0)\n",
            " ( 737337600, 1.5228 , 1.5415 , 1.52   , 1.5387 , 2711, 50, 0) ...\n",
            " (1760971800, 1.34032, 1.34067, 1.34032, 1.34055,  262, 14, 0)\n",
            " (1760972100, 1.34059, 1.34111, 1.34054, 1.34111,  424, 14, 0)\n",
            " (1760972400, 1.34113, 1.34136, 1.34091, 1.34116,  561, 14, 0)]\n",
            "GBPUSD\n"
          ]
        }
      ],
      "source": [
        "t_s = \"GBPUSD\"\n",
        "market = mt5.copy_rates_from_pos(t_s, mt5.TIMEFRAME_M5, 0, 10000000)\n",
        "#display(market)\n",
        "print(market)\n",
        "\n",
        "print(t_s)\n",
        "\n",
        "\n"
      ]
    },
    {
      "cell_type": "code",
      "execution_count": null,
      "metadata": {
        "id": "S0FLlKcMh-mJ",
        "outputId": "88baf341-a149-4ca8-d777-0f34a72f1785"
      },
      "outputs": [
        {
          "data": {
            "text/plain": [
              "array([( 737164800, 1.537  , 1.5445 , 1.529  , 1.5338 , 2781, 50, 0),\n",
              "       ( 737251200, 1.5328 , 1.536  , 1.518  , 1.5225 , 2571, 50, 0),\n",
              "       ( 737337600, 1.5228 , 1.5415 , 1.52   , 1.5387 , 2711, 50, 0), ...,\n",
              "       (1760971800, 1.34032, 1.34067, 1.34032, 1.34055,  262, 14, 0),\n",
              "       (1760972100, 1.34059, 1.34111, 1.34054, 1.34111,  424, 14, 0),\n",
              "       (1760972400, 1.34113, 1.34136, 1.34091, 1.34116,  561, 14, 0)],\n",
              "      dtype=[('time', '<i8'), ('open', '<f8'), ('high', '<f8'), ('low', '<f8'), ('close', '<f8'), ('tick_volume', '<u8'), ('spread', '<i4'), ('real_volume', '<u8')])"
            ]
          },
          "execution_count": 6,
          "metadata": {},
          "output_type": "execute_result"
        }
      ],
      "source": [
        "market"
      ]
    },
    {
      "cell_type": "code",
      "execution_count": null,
      "metadata": {
        "id": "EzfEfHeTzI4A"
      },
      "outputs": [],
      "source": [
        "data = []\n",
        "for i in range(len(market)):\n",
        "    data.append([market[i][1],market[i][2],market[i][3],market[i][4],market[i][5],market[i][6]])\n",
        "df = pd.DataFrame(data, columns=[\"open\", \"high\",\"low\", \"close\", \"volume\",\"spread\"])\n",
        "df.to_csv(\"Generated\"+t_s+\" dbot.csv\", index=False)"
      ]
    },
    {
      "cell_type": "code",
      "execution_count": 1,
      "metadata": {
        "id": "M8QyUXsy4op6"
      },
      "outputs": [
        {
          "name": "stdout",
          "output_type": "stream",
          "text": [
            "2.10.1\n"
          ]
        }
      ],
      "source": [
        "import numpy as np # linear algebra\n",
        "import pandas as pd # data processing, CSV file I/O (e.g. pd.read_csv)\n",
        "import tensorflow as tf\n",
        "print(tf.__version__)\n"
      ]
    },
    {
      "cell_type": "code",
      "execution_count": 2,
      "metadata": {
        "id": "PqACycZPJaFn"
      },
      "outputs": [],
      "source": [
        "from sklearn.preprocessing import MinMaxScaler, StandardScaler\n",
        "from sklearn.metrics import mean_squared_error, mean_absolute_error\n",
        "import joblib\n",
        "import os\n",
        "from sklearn.model_selection import train_test_split\n",
        "import numpy as np\n",
        "from sklearn.preprocessing import MinMaxScaler\n",
        "from scaler3d2d import preprocess_and_save_scalers,transform_data, inverse_transform_data,create_sequences\n",
        "\n"
      ]
    },
    {
      "cell_type": "code",
      "execution_count": 3,
      "metadata": {
        "id": "tpswK5-7JaFo"
      },
      "outputs": [],
      "source": [
        "from tensorflow.keras.optimizers import SGD,Adam\n",
        "import matplotlib.pyplot as plt\n",
        "\n",
        "\n",
        "\n",
        "from tensorflow.keras import Model\n",
        "from tensorflow.keras.layers import Input, LSTM, Dense, Dropout, BatchNormalization, LayerNormalization, Bidirectional\n",
        "from tensorflow.keras.callbacks import EarlyStopping, ReduceLROnPlateau, ModelCheckpoint\n",
        "\n",
        "from sklearn.metrics import r2_score\n",
        "from tensorflow.keras.models import load_model\n",
        "import keras"
      ]
    },
    {
      "cell_type": "code",
      "execution_count": 4,
      "metadata": {
        "id": "UC2tpiHOpgVu"
      },
      "outputs": [],
      "source": [
        "t_symbol = [\"GBPUSD\"]"
      ]
    },
    {
      "cell_type": "code",
      "execution_count": 5,
      "metadata": {
        "id": "XsSD7U_X58xa"
      },
      "outputs": [
        {
          "name": "stdout",
          "output_type": "stream",
          "text": [
            "Requirement already satisfied: ta in c:\\users\\omage\\.conda\\envs\\py310\\lib\\site-packages (0.11.0)\n",
            "Requirement already satisfied: numpy in c:\\users\\omage\\.conda\\envs\\py310\\lib\\site-packages (from ta) (1.26.4)\n",
            "Requirement already satisfied: pandas in c:\\users\\omage\\.conda\\envs\\py310\\lib\\site-packages (from ta) (2.2.1)\n",
            "Requirement already satisfied: python-dateutil>=2.8.2 in c:\\users\\omage\\.conda\\envs\\py310\\lib\\site-packages (from pandas->ta) (2.9.0.post0)\n",
            "Requirement already satisfied: pytz>=2020.1 in c:\\users\\omage\\.conda\\envs\\py310\\lib\\site-packages (from pandas->ta) (2024.1)\n",
            "Requirement already satisfied: tzdata>=2022.7 in c:\\users\\omage\\.conda\\envs\\py310\\lib\\site-packages (from pandas->ta) (2024.1)\n",
            "Requirement already satisfied: six>=1.5 in c:\\users\\omage\\.conda\\envs\\py310\\lib\\site-packages (from python-dateutil>=2.8.2->pandas->ta) (1.16.0)\n"
          ]
        }
      ],
      "source": [
        "!pip install ta"
      ]
    },
    {
      "cell_type": "code",
      "execution_count": 6,
      "metadata": {
        "id": "4TLz36D36BKH"
      },
      "outputs": [],
      "source": [
        "import ta"
      ]
    },
    {
      "cell_type": "code",
      "execution_count": 7,
      "metadata": {
        "id": "NWXhyS91bKfn"
      },
      "outputs": [],
      "source": [
        "\n",
        "\n",
        "def engineer_features_5min_btc(df):\n",
        "    \"\"\"\n",
        "    Input: df with columns ['timestamp', 'open', 'high', 'low', 'close', 'volume']\n",
        "    Output: df with 68 features\n",
        "    \"\"\"\n",
        "\n",
        "    # GROUP 1: Core Price Features\n",
        "    df['typical_price'] = (df['high'] + df['low'] + df['close']) / 3\n",
        "    df['weighted_close'] = (df['high'] + df['low'] + 2*df['close']) / 4\n",
        "    df['hl_range'] = df['high'] - df['low']\n",
        "    df['body_size'] = abs(df['close'] - df['open'])\n",
        "    df['upper_wick'] = df['high'] - df[['open', 'close']].max(axis=1)\n",
        "    df['lower_wick'] = df[['open', 'close']].min(axis=1) - df['low']\n",
        "\n",
        "    # GROUP 2: Volume Features\n",
        "    df['volume_usd'] = df['volume'] * df['close']\n",
        "    df['volume_ma10'] = df['volume'].rolling(10).mean()\n",
        "    df['volume_ratio'] = df['volume'] / df['volume_ma10']\n",
        "    df['volume_delta'] = df['volume'].diff()\n",
        "    df['vwap'] = (df['typical_price'] * df['volume']).cumsum() / df['volume'].cumsum()\n",
        "    df['distance_to_vwap'] = (df['close'] - df['vwap']) / df['close']\n",
        "    df['obv'] = (np.sign(df['close'].diff()) * df['volume']).fillna(0).cumsum()\n",
        "\n",
        "    # GROUP 3: Price Momentum\n",
        "    df['price_change'] = df['close'].diff()\n",
        "    df['price_change_pct'] = df['close'].pct_change() * 100\n",
        "    df['price_change_5'] = df['close'].diff(5)\n",
        "    df['price_change_12'] = df['close'].diff(12)\n",
        "    df['roc_10'] = ((df['close'] - df['close'].shift(10)) / df['close'].shift(10)) * 100\n",
        "    df['roc_20'] = ((df['close'] - df['close'].shift(20)) / df['close'].shift(20)) * 100\n",
        "    df['momentum_10'] = df['close'] - df['close'].shift(10)\n",
        "\n",
        "\n",
        "    # GROUP 4: Trend Features\n",
        "    df['sma_10'] = df['close'].rolling(10).mean()\n",
        "    df['sma_20'] = df['close'].rolling(20).mean()\n",
        "    df['sma_50'] = df['close'].rolling(50).mean()\n",
        "    df['ema_9'] = df['close'].ewm(span=9, adjust=False).mean()\n",
        "    df['ema_21'] = df['close'].ewm(span=21, adjust=False).mean()\n",
        "    df['distance_to_sma10'] = (df['close'] - df['sma_10']) / df['close']\n",
        "    df['distance_to_sma50'] = (df['close'] - df['sma_50']) / df['close']\n",
        "    df['sma10_slope'] = df['sma_10'].diff(5)\n",
        "    df['sma50_slope'] = df['sma_50'].diff(5)\n",
        "\n",
        "    # GROUP 7: Support/Resistance Features\n",
        "    df['recent_high_20'] = df['high'].rolling(20).max()\n",
        "    df['recent_low_20'] = df['low'].rolling(20).min()\n",
        "    df['distance_to_high'] = (df['recent_high_20'] - df['close']) / df['close']\n",
        "    df['distance_to_low'] = (df['close'] - df['recent_low_20']) / df['close']\n",
        "    df['pivot_point'] = (df['high'].shift(1) + df['low'].shift(1) + df['close'].shift(1)) / 3\n",
        "    df['range_position'] = (df['close'] - df['low']) / (df['high'] - df['low'])\n",
        "\n",
        "    return df\n",
        "\n",
        "# Usage:\n",
        "# df = pd.read_csv('btcusd_5min.csv')\n",
        "# df = engineer_features_5min_btc(df)"
      ]
    },
    {
      "cell_type": "code",
      "execution_count": 8,
      "metadata": {
        "id": "p5vJpq3AbKfo"
      },
      "outputs": [],
      "source": [
        "n = 0\n",
        "m_label = \"Generated\"+t_symbol[n]\n",
        "train_df = engineer_features_5min_btc(pd.read_csv(m_label+ \" dbot.csv\"))[1000:]"
      ]
    },
    {
      "cell_type": "code",
      "execution_count": 9,
      "metadata": {
        "id": "IW84qQV4bKfo"
      },
      "outputs": [
        {
          "data": {
            "text/html": [
              "<div>\n",
              "<style scoped>\n",
              "    .dataframe tbody tr th:only-of-type {\n",
              "        vertical-align: middle;\n",
              "    }\n",
              "\n",
              "    .dataframe tbody tr th {\n",
              "        vertical-align: top;\n",
              "    }\n",
              "\n",
              "    .dataframe thead th {\n",
              "        text-align: right;\n",
              "    }\n",
              "</style>\n",
              "<table border=\"1\" class=\"dataframe\">\n",
              "  <thead>\n",
              "    <tr style=\"text-align: right;\">\n",
              "      <th></th>\n",
              "      <th>open</th>\n",
              "      <th>high</th>\n",
              "      <th>low</th>\n",
              "      <th>close</th>\n",
              "      <th>volume</th>\n",
              "      <th>spread</th>\n",
              "      <th>typical_price</th>\n",
              "      <th>weighted_close</th>\n",
              "      <th>hl_range</th>\n",
              "      <th>body_size</th>\n",
              "      <th>...</th>\n",
              "      <th>distance_to_sma10</th>\n",
              "      <th>distance_to_sma50</th>\n",
              "      <th>sma10_slope</th>\n",
              "      <th>sma50_slope</th>\n",
              "      <th>recent_high_20</th>\n",
              "      <th>recent_low_20</th>\n",
              "      <th>distance_to_high</th>\n",
              "      <th>distance_to_low</th>\n",
              "      <th>pivot_point</th>\n",
              "      <th>range_position</th>\n",
              "    </tr>\n",
              "  </thead>\n",
              "  <tbody>\n",
              "    <tr>\n",
              "      <th>1000</th>\n",
              "      <td>1.59570</td>\n",
              "      <td>1.60430</td>\n",
              "      <td>1.59080</td>\n",
              "      <td>1.60250</td>\n",
              "      <td>2021</td>\n",
              "      <td>50</td>\n",
              "      <td>1.599200</td>\n",
              "      <td>1.600025</td>\n",
              "      <td>0.01350</td>\n",
              "      <td>0.00680</td>\n",
              "      <td>...</td>\n",
              "      <td>-0.003239</td>\n",
              "      <td>-0.020336</td>\n",
              "      <td>-0.014950</td>\n",
              "      <td>-0.009430</td>\n",
              "      <td>1.64320</td>\n",
              "      <td>1.58790</td>\n",
              "      <td>0.025398</td>\n",
              "      <td>0.009111</td>\n",
              "      <td>1.599233</td>\n",
              "      <td>0.866667</td>\n",
              "    </tr>\n",
              "    <tr>\n",
              "      <th>1001</th>\n",
              "      <td>1.60220</td>\n",
              "      <td>1.60350</td>\n",
              "      <td>1.58550</td>\n",
              "      <td>1.58900</td>\n",
              "      <td>2281</td>\n",
              "      <td>50</td>\n",
              "      <td>1.592667</td>\n",
              "      <td>1.591750</td>\n",
              "      <td>0.01800</td>\n",
              "      <td>0.01320</td>\n",
              "      <td>...</td>\n",
              "      <td>-0.010000</td>\n",
              "      <td>-0.027655</td>\n",
              "      <td>-0.014700</td>\n",
              "      <td>-0.009804</td>\n",
              "      <td>1.64320</td>\n",
              "      <td>1.58550</td>\n",
              "      <td>0.034110</td>\n",
              "      <td>0.002203</td>\n",
              "      <td>1.599200</td>\n",
              "      <td>0.194444</td>\n",
              "    </tr>\n",
              "    <tr>\n",
              "      <th>1002</th>\n",
              "      <td>1.58800</td>\n",
              "      <td>1.59310</td>\n",
              "      <td>1.58490</td>\n",
              "      <td>1.59100</td>\n",
              "      <td>1341</td>\n",
              "      <td>50</td>\n",
              "      <td>1.589667</td>\n",
              "      <td>1.590000</td>\n",
              "      <td>0.00820</td>\n",
              "      <td>0.00300</td>\n",
              "      <td>...</td>\n",
              "      <td>-0.007209</td>\n",
              "      <td>-0.025070</td>\n",
              "      <td>-0.014400</td>\n",
              "      <td>-0.010186</td>\n",
              "      <td>1.64320</td>\n",
              "      <td>1.58490</td>\n",
              "      <td>0.032810</td>\n",
              "      <td>0.003834</td>\n",
              "      <td>1.592667</td>\n",
              "      <td>0.743902</td>\n",
              "    </tr>\n",
              "    <tr>\n",
              "      <th>1003</th>\n",
              "      <td>1.59080</td>\n",
              "      <td>1.60160</td>\n",
              "      <td>1.58880</td>\n",
              "      <td>1.59790</td>\n",
              "      <td>1851</td>\n",
              "      <td>50</td>\n",
              "      <td>1.596100</td>\n",
              "      <td>1.596550</td>\n",
              "      <td>0.01280</td>\n",
              "      <td>0.00710</td>\n",
              "      <td>...</td>\n",
              "      <td>-0.001759</td>\n",
              "      <td>-0.019509</td>\n",
              "      <td>-0.012580</td>\n",
              "      <td>-0.009688</td>\n",
              "      <td>1.64320</td>\n",
              "      <td>1.58490</td>\n",
              "      <td>0.028350</td>\n",
              "      <td>0.008136</td>\n",
              "      <td>1.589667</td>\n",
              "      <td>0.710938</td>\n",
              "    </tr>\n",
              "    <tr>\n",
              "      <th>1004</th>\n",
              "      <td>1.59730</td>\n",
              "      <td>1.60380</td>\n",
              "      <td>1.59100</td>\n",
              "      <td>1.59370</td>\n",
              "      <td>2201</td>\n",
              "      <td>50</td>\n",
              "      <td>1.596167</td>\n",
              "      <td>1.595550</td>\n",
              "      <td>0.01280</td>\n",
              "      <td>0.00360</td>\n",
              "      <td>...</td>\n",
              "      <td>-0.003018</td>\n",
              "      <td>-0.020845</td>\n",
              "      <td>-0.011850</td>\n",
              "      <td>-0.009874</td>\n",
              "      <td>1.64320</td>\n",
              "      <td>1.58490</td>\n",
              "      <td>0.031060</td>\n",
              "      <td>0.005522</td>\n",
              "      <td>1.596100</td>\n",
              "      <td>0.210937</td>\n",
              "    </tr>\n",
              "    <tr>\n",
              "      <th>...</th>\n",
              "      <td>...</td>\n",
              "      <td>...</td>\n",
              "      <td>...</td>\n",
              "      <td>...</td>\n",
              "      <td>...</td>\n",
              "      <td>...</td>\n",
              "      <td>...</td>\n",
              "      <td>...</td>\n",
              "      <td>...</td>\n",
              "      <td>...</td>\n",
              "      <td>...</td>\n",
              "      <td>...</td>\n",
              "      <td>...</td>\n",
              "      <td>...</td>\n",
              "      <td>...</td>\n",
              "      <td>...</td>\n",
              "      <td>...</td>\n",
              "      <td>...</td>\n",
              "      <td>...</td>\n",
              "      <td>...</td>\n",
              "      <td>...</td>\n",
              "    </tr>\n",
              "    <tr>\n",
              "      <th>1980013</th>\n",
              "      <td>1.34053</td>\n",
              "      <td>1.34054</td>\n",
              "      <td>1.34016</td>\n",
              "      <td>1.34021</td>\n",
              "      <td>433</td>\n",
              "      <td>14</td>\n",
              "      <td>1.340303</td>\n",
              "      <td>1.340280</td>\n",
              "      <td>0.00038</td>\n",
              "      <td>0.00032</td>\n",
              "      <td>...</td>\n",
              "      <td>-0.000371</td>\n",
              "      <td>-0.001343</td>\n",
              "      <td>-0.000467</td>\n",
              "      <td>-0.000115</td>\n",
              "      <td>1.34244</td>\n",
              "      <td>1.33993</td>\n",
              "      <td>0.001664</td>\n",
              "      <td>0.000209</td>\n",
              "      <td>1.340423</td>\n",
              "      <td>0.131579</td>\n",
              "    </tr>\n",
              "    <tr>\n",
              "      <th>1980014</th>\n",
              "      <td>1.34019</td>\n",
              "      <td>1.34050</td>\n",
              "      <td>1.34014</td>\n",
              "      <td>1.34032</td>\n",
              "      <td>259</td>\n",
              "      <td>14</td>\n",
              "      <td>1.340320</td>\n",
              "      <td>1.340320</td>\n",
              "      <td>0.00036</td>\n",
              "      <td>0.00013</td>\n",
              "      <td>...</td>\n",
              "      <td>-0.000239</td>\n",
              "      <td>-0.001232</td>\n",
              "      <td>-0.000465</td>\n",
              "      <td>-0.000142</td>\n",
              "      <td>1.34200</td>\n",
              "      <td>1.33993</td>\n",
              "      <td>0.001253</td>\n",
              "      <td>0.000291</td>\n",
              "      <td>1.340303</td>\n",
              "      <td>0.500000</td>\n",
              "    </tr>\n",
              "    <tr>\n",
              "      <th>1980015</th>\n",
              "      <td>1.34032</td>\n",
              "      <td>1.34067</td>\n",
              "      <td>1.34032</td>\n",
              "      <td>1.34055</td>\n",
              "      <td>262</td>\n",
              "      <td>14</td>\n",
              "      <td>1.340513</td>\n",
              "      <td>1.340523</td>\n",
              "      <td>0.00035</td>\n",
              "      <td>0.00023</td>\n",
              "      <td>...</td>\n",
              "      <td>-0.000040</td>\n",
              "      <td>-0.001034</td>\n",
              "      <td>-0.000444</td>\n",
              "      <td>-0.000175</td>\n",
              "      <td>1.34183</td>\n",
              "      <td>1.33993</td>\n",
              "      <td>0.000955</td>\n",
              "      <td>0.000462</td>\n",
              "      <td>1.340320</td>\n",
              "      <td>0.657143</td>\n",
              "    </tr>\n",
              "    <tr>\n",
              "      <th>1980016</th>\n",
              "      <td>1.34059</td>\n",
              "      <td>1.34111</td>\n",
              "      <td>1.34054</td>\n",
              "      <td>1.34111</td>\n",
              "      <td>424</td>\n",
              "      <td>14</td>\n",
              "      <td>1.340920</td>\n",
              "      <td>1.340968</td>\n",
              "      <td>0.00057</td>\n",
              "      <td>0.00052</td>\n",
              "      <td>...</td>\n",
              "      <td>0.000372</td>\n",
              "      <td>-0.000604</td>\n",
              "      <td>-0.000286</td>\n",
              "      <td>-0.000164</td>\n",
              "      <td>1.34175</td>\n",
              "      <td>1.33993</td>\n",
              "      <td>0.000477</td>\n",
              "      <td>0.000880</td>\n",
              "      <td>1.340513</td>\n",
              "      <td>1.000000</td>\n",
              "    </tr>\n",
              "    <tr>\n",
              "      <th>1980017</th>\n",
              "      <td>1.34113</td>\n",
              "      <td>1.34136</td>\n",
              "      <td>1.34091</td>\n",
              "      <td>1.34116</td>\n",
              "      <td>561</td>\n",
              "      <td>14</td>\n",
              "      <td>1.341143</td>\n",
              "      <td>1.341147</td>\n",
              "      <td>0.00045</td>\n",
              "      <td>0.00003</td>\n",
              "      <td>...</td>\n",
              "      <td>0.000378</td>\n",
              "      <td>-0.000555</td>\n",
              "      <td>-0.000149</td>\n",
              "      <td>-0.000147</td>\n",
              "      <td>1.34175</td>\n",
              "      <td>1.33993</td>\n",
              "      <td>0.000440</td>\n",
              "      <td>0.000917</td>\n",
              "      <td>1.340920</td>\n",
              "      <td>0.555556</td>\n",
              "    </tr>\n",
              "  </tbody>\n",
              "</table>\n",
              "<p>1979018 rows × 41 columns</p>\n",
              "</div>"
            ],
            "text/plain": [
              "            open     high      low    close  volume  spread  typical_price  \\\n",
              "1000     1.59570  1.60430  1.59080  1.60250    2021      50       1.599200   \n",
              "1001     1.60220  1.60350  1.58550  1.58900    2281      50       1.592667   \n",
              "1002     1.58800  1.59310  1.58490  1.59100    1341      50       1.589667   \n",
              "1003     1.59080  1.60160  1.58880  1.59790    1851      50       1.596100   \n",
              "1004     1.59730  1.60380  1.59100  1.59370    2201      50       1.596167   \n",
              "...          ...      ...      ...      ...     ...     ...            ...   \n",
              "1980013  1.34053  1.34054  1.34016  1.34021     433      14       1.340303   \n",
              "1980014  1.34019  1.34050  1.34014  1.34032     259      14       1.340320   \n",
              "1980015  1.34032  1.34067  1.34032  1.34055     262      14       1.340513   \n",
              "1980016  1.34059  1.34111  1.34054  1.34111     424      14       1.340920   \n",
              "1980017  1.34113  1.34136  1.34091  1.34116     561      14       1.341143   \n",
              "\n",
              "         weighted_close  hl_range  body_size  ...  distance_to_sma10  \\\n",
              "1000           1.600025   0.01350    0.00680  ...          -0.003239   \n",
              "1001           1.591750   0.01800    0.01320  ...          -0.010000   \n",
              "1002           1.590000   0.00820    0.00300  ...          -0.007209   \n",
              "1003           1.596550   0.01280    0.00710  ...          -0.001759   \n",
              "1004           1.595550   0.01280    0.00360  ...          -0.003018   \n",
              "...                 ...       ...        ...  ...                ...   \n",
              "1980013        1.340280   0.00038    0.00032  ...          -0.000371   \n",
              "1980014        1.340320   0.00036    0.00013  ...          -0.000239   \n",
              "1980015        1.340523   0.00035    0.00023  ...          -0.000040   \n",
              "1980016        1.340968   0.00057    0.00052  ...           0.000372   \n",
              "1980017        1.341147   0.00045    0.00003  ...           0.000378   \n",
              "\n",
              "         distance_to_sma50  sma10_slope  sma50_slope  recent_high_20  \\\n",
              "1000             -0.020336    -0.014950    -0.009430         1.64320   \n",
              "1001             -0.027655    -0.014700    -0.009804         1.64320   \n",
              "1002             -0.025070    -0.014400    -0.010186         1.64320   \n",
              "1003             -0.019509    -0.012580    -0.009688         1.64320   \n",
              "1004             -0.020845    -0.011850    -0.009874         1.64320   \n",
              "...                    ...          ...          ...             ...   \n",
              "1980013          -0.001343    -0.000467    -0.000115         1.34244   \n",
              "1980014          -0.001232    -0.000465    -0.000142         1.34200   \n",
              "1980015          -0.001034    -0.000444    -0.000175         1.34183   \n",
              "1980016          -0.000604    -0.000286    -0.000164         1.34175   \n",
              "1980017          -0.000555    -0.000149    -0.000147         1.34175   \n",
              "\n",
              "         recent_low_20  distance_to_high  distance_to_low  pivot_point  \\\n",
              "1000           1.58790          0.025398         0.009111     1.599233   \n",
              "1001           1.58550          0.034110         0.002203     1.599200   \n",
              "1002           1.58490          0.032810         0.003834     1.592667   \n",
              "1003           1.58490          0.028350         0.008136     1.589667   \n",
              "1004           1.58490          0.031060         0.005522     1.596100   \n",
              "...                ...               ...              ...          ...   \n",
              "1980013        1.33993          0.001664         0.000209     1.340423   \n",
              "1980014        1.33993          0.001253         0.000291     1.340303   \n",
              "1980015        1.33993          0.000955         0.000462     1.340320   \n",
              "1980016        1.33993          0.000477         0.000880     1.340513   \n",
              "1980017        1.33993          0.000440         0.000917     1.340920   \n",
              "\n",
              "         range_position  \n",
              "1000           0.866667  \n",
              "1001           0.194444  \n",
              "1002           0.743902  \n",
              "1003           0.710938  \n",
              "1004           0.210937  \n",
              "...                 ...  \n",
              "1980013        0.131579  \n",
              "1980014        0.500000  \n",
              "1980015        0.657143  \n",
              "1980016        1.000000  \n",
              "1980017        0.555556  \n",
              "\n",
              "[1979018 rows x 41 columns]"
            ]
          },
          "execution_count": 9,
          "metadata": {},
          "output_type": "execute_result"
        }
      ],
      "source": [
        "train_df"
      ]
    },
    {
      "cell_type": "code",
      "execution_count": 10,
      "metadata": {
        "id": "FgfuQq2n2yc1"
      },
      "outputs": [
        {
          "name": "stdout",
          "output_type": "stream",
          "text": [
            "GeneratedGBPUSD\n",
            "[1.34116]\n"
          ]
        }
      ],
      "source": [
        "\n",
        "#train_df_test = train_dfs_test[n]\n",
        "print(m_label)\n",
        "SEQ_LEN = 120 # length of input sequence (timesteps). Typical choices: 30, 60, 90\n",
        "n_rows, n_features = train_df.values.shape\n",
        "\n",
        "X, y = create_sequences(train_df.values, SEQ_LEN, 1, 3)  # X: (n_samples, SEQ_LEN, n_features), y: (n_samples, n_features)\n",
        "\n",
        "n_samples = X.shape[0]\n",
        "#print(X[-1])\n",
        "print(y[-1])"
      ]
    },
    {
      "cell_type": "code",
      "execution_count": 11,
      "metadata": {
        "id": "rsrSNZt8bKfo"
      },
      "outputs": [
        {
          "name": "stdout",
          "output_type": "stream",
          "text": [
            "[[1.34322000e+00 1.34354000e+00 1.34318000e+00 ... 8.41074193e-04\n",
            "  1.34326333e+00 9.44444444e-01]\n",
            " [1.34352000e+00 1.34372000e+00 1.34348000e+00 ... 8.55947720e-04\n",
            "  1.34341333e+00 2.50000000e-01]\n",
            " [1.34353000e+00 1.34373000e+00 1.34350000e+00 ... 8.93043194e-04\n",
            "  1.34358000e+00 9.56521739e-01]\n",
            " ...\n",
            " [1.34019000e+00 1.34050000e+00 1.34014000e+00 ... 2.90975289e-04\n",
            "  1.34030333e+00 5.00000000e-01]\n",
            " [1.34032000e+00 1.34067000e+00 1.34032000e+00 ... 4.62496736e-04\n",
            "  1.34032000e+00 6.57142857e-01]\n",
            " [1.34059000e+00 1.34111000e+00 1.34054000e+00 ... 8.79868169e-04\n",
            "  1.34051333e+00 1.00000000e+00]]\n"
          ]
        }
      ],
      "source": [
        "print(X[-1])"
      ]
    },
    {
      "cell_type": "code",
      "execution_count": 12,
      "metadata": {
        "id": "ZmhqTdKdbKfo"
      },
      "outputs": [],
      "source": [
        "X, y = preprocess_and_save_scalers(X, y)\n"
      ]
    },
    {
      "cell_type": "code",
      "execution_count": null,
      "metadata": {
        "id": "5j_wkyXD5s_s"
      },
      "outputs": [],
      "source": [
        "X_train, X_test, y_train, y_test = train_test_split(X, y, test_size=0.33, random_state=0, shuffle=False)\n",
        "X_val, X_test, y_val,  y_test = train_test_split(X_test, y_test, test_size=0.01, random_state=0, shuffle=False)\n",
        "\n",
        "seq_len = X_train.shape[1]\n",
        "n_features = X_train.shape[2]\n",
        "output_dim = y_train.shape[1]\n",
        "\n",
        "i = Input(shape=(seq_len, n_features))\n",
        "X = Bidirectional(LSTM(50, return_sequences=True))(i)\n",
        "X = Bidirectional(LSTM(50, return_sequences=True))(X)\n",
        "X = Bidirectional(LSTM(50, return_sequences=True))(X)\n",
        "X = Bidirectional(LSTM(50))(X)\n",
        "#X = Dropout(0.5)(X)\n",
        "X = Dense(150, activation=\"relu\")(X)\n",
        "X = Dropout(0.25)(X)\n",
        "X = Dense(output_dim)(X)\n",
        "\n",
        "model = Model(i, X)\n",
        "model.summary()\n"
      ]
    },
    {
      "cell_type": "code",
      "execution_count": null,
      "metadata": {
        "id": "_ou0YHmXzI4D"
      },
      "outputs": [],
      "source": [
        "\n",
        "es = EarlyStopping(monitor='val_loss', patience=12, restore_best_weights=True, verbose=2)\n",
        "rlr = ReduceLROnPlateau(monitor='val_loss', factor=0.5, patience=6, min_lr=1e-6, verbose=2)\n",
        "mc = ModelCheckpoint(m_label + 'lstm_best.keras', monitor='val_loss', save_best_only=True, verbose=2)\n",
        "model.compile(optimizer=Adam(learning_rate=0.001),\n",
        "              loss='mse',\n",
        "              metrics=['mae',tf.keras.metrics.RootMeanSquaredError(),'mape','msle'])\n",
        "r = model.fit(\n",
        "  X_train, y_train,\n",
        "  validation_data=(X_val, y_val),\n",
        "  epochs=100,\n",
        "  batch_size=1024,\n",
        "  callbacks=[es, rlr, mc ],\n",
        "  verbose=1\n",
        "\n",
        ")"
      ]
    },
    {
      "cell_type": "code",
      "execution_count": null,
      "metadata": {
        "id": "gN-5WQ-M4QOP"
      },
      "outputs": [],
      "source": [
        "plt.title(\"Loss on data\")\n",
        "plt.plot(r.history['loss'], label=\"loss\")\n",
        "plt.plot(r.history['val_loss'], label=\"val_loss\")\n",
        "plt.legend()\n",
        "plt.show()\n",
        "\n",
        "plt.title(\"MAE on data\")\n",
        "plt.plot(r.history['mae'], label=\"mae\")\n",
        "plt.plot(r.history['val_mae'], label=\"val_mae\")\n",
        "plt.legend()\n",
        "plt.show()\n",
        "\n",
        "plt.title(\"mape on data\")\n",
        "plt.plot(r.history['mape'], label=\"mape\")\n",
        "plt.plot(r.history['val_mape'], label=\"val_mape\")\n",
        "plt.legend()\n",
        "plt.show()\n",
        "\n",
        "plt.title(\"msle on data\")\n",
        "plt.plot(r.history['msle'], label=\"msle\")\n",
        "plt.plot(r.history['val_msle'], label=\"val_msle\")\n",
        "plt.legend()\n",
        "plt.show()\n",
        "\n",
        "plt.title(\"root_mean_squared_error on data\")\n",
        "plt.plot(r.history['root_mean_squared_error'], label=\"root_mean_squared_error\")\n",
        "plt.plot(r.history['val_root_mean_squared_error'], label=\"val_root_mean_squared_error\")\n",
        "plt.legend()\n",
        "plt.show()\n",
        "\n",
        "\n"
      ]
    },
    {
      "cell_type": "code",
      "execution_count": null,
      "metadata": {
        "id": "gq_ghklFbKfo"
      },
      "outputs": [],
      "source": [
        "best_model = load_model(m_label + 'lstm_best.keras')\n"
      ]
    },
    {
      "cell_type": "code",
      "execution_count": null,
      "metadata": {
        "id": "nlqwzEAlbKfo"
      },
      "outputs": [],
      "source": [
        "y_pred = best_model.predict(X_test)"
      ]
    },
    {
      "cell_type": "code",
      "execution_count": null,
      "metadata": {
        "id": "sJaWHWTdbKfp"
      },
      "outputs": [],
      "source": [
        "print(y_pred.shape)"
      ]
    },
    {
      "cell_type": "code",
      "execution_count": null,
      "metadata": {
        "id": "KSyo7nJsbKfp"
      },
      "outputs": [],
      "source": [
        "_,y_test = inverse_transform_data(scaled_y=y_test)\n",
        "_,y_pred = inverse_transform_data(scaled_y=y_pred)\n",
        "print(y_test, \" comparing to \", y_pred)"
      ]
    },
    {
      "cell_type": "code",
      "execution_count": null,
      "metadata": {
        "id": "b3amOO49bKfp"
      },
      "outputs": [],
      "source": [
        "# 1. Calculate the error (the gap between actual and predicted)\n",
        "error = y_test - y_pred\n",
        "\n",
        "# 2. Calculate the average gap (the bias)\n",
        "average_gap = np.mean(error)\n",
        "print(f\"Average Gap (Bias): {average_gap:.7f}\")\n",
        "\n",
        "# 3. Add the average gap to your predictions to create a corrected version\n",
        "y_pred_corrected = y_pred + average_gap\n",
        "\n",
        "# --- Verification ---\n",
        "# Let's check the first predicted value vs. the first actual value\n",
        "print(\"\\n--- Example of Correction ---\")\n",
        "print(f\"Original Prediction: {y_pred[0, 0]:.7f}\")\n",
        "print(f\"Corrected Prediction: {y_pred_corrected[0, 0]:.7f}\")\n",
        "print(f\"Actual Value:        {y_test[0, 0]:.7f}\")"
      ]
    },
    {
      "cell_type": "code",
      "execution_count": null,
      "metadata": {
        "id": "ssFZIdC4bKfp"
      },
      "outputs": [],
      "source": [
        "print(\"R^2 value for \", m_label)\n",
        "print(r2_score(y_test, y_pred_corrected))"
      ]
    },
    {
      "cell_type": "code",
      "execution_count": null,
      "metadata": {
        "id": "Ok2GYKWsbKfp"
      },
      "outputs": [],
      "source": [
        "\n",
        "\n",
        "\n",
        "\n",
        "plt.figure(figsize=(12, 6))\n",
        "plt.plot(y_test[-50:, 0], label='Actual Close Price', color='blue')\n",
        "plt.plot(y_pred[-50:, 0], label='Predicted Close Price', color='red', linestyle='--')\n",
        "plt.plot(y_pred_corrected[-50:, 0], label='corrected Predicted Close Price', color='gray', linestyle='--')\n",
        "plt.title('Actual vs. Predicted Close Price')\n",
        "plt.xlabel('Time')\n",
        "plt.ylabel('Close Price')\n",
        "plt.legend()\n",
        "plt.grid(True)\n",
        "plt.savefig('actual_vs_predicted.png')\n",
        "plt.show()\n"
      ]
    }
  ],
  "metadata": {
    "accelerator": "GPU",
    "colab": {
      "gpuType": "T4",
      "include_colab_link": true,
      "provenance": []
    },
    "kernelspec": {
      "display_name": "Python 3",
      "name": "python3"
    },
    "language_info": {
      "codemirror_mode": {
        "name": "ipython",
        "version": 3
      },
      "file_extension": ".py",
      "mimetype": "text/x-python",
      "name": "python",
      "nbconvert_exporter": "python",
      "pygments_lexer": "ipython3",
      "version": "3.10.13"
    }
  },
  "nbformat": 4,
  "nbformat_minor": 0
}
