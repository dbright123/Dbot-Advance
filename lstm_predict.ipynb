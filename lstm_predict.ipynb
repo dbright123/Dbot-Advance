{
  "cells": [
    {
      "cell_type": "code",
      "execution_count": null,
      "metadata": {
        "id": "Z1oCaggK4VKR"
      },
      "outputs": [],
      "source": [
        "import MetaTrader5 as mt5\n",
        "import numpy as np\n",
        "import pandas as pd\n",
        "import joblib\n",
        "import matplotlib.pyplot as plt\n",
        "\n"
      ]
    },
    {
      "cell_type": "code",
      "execution_count": null,
      "metadata": {
        "id": "btJoWVAx4VKS",
        "outputId": "077d53d7-b8ac-4d3c-9251-3f449e68e0f3"
      },
      "outputs": [
        {
          "name": "stdout",
          "output_type": "stream",
          "text": [
            "MetaTrader5 package author:  MetaQuotes Ltd.\n",
            "MetaTrader5 package version:  5.0.4200\n",
            "True\n"
          ]
        }
      ],
      "source": [
        "print(\"MetaTrader5 package author: \",mt5.__author__)\n",
        "print(\"MetaTrader5 package version: \",mt5.__version__)\n",
        "\n",
        "trade_active = mt5.initialize()\n",
        "\n",
        "print(trade_active)"
      ]
    },
    {
      "cell_type": "code",
      "execution_count": null,
      "metadata": {
        "id": "zOwkO05C4VKT",
        "outputId": "d3fac923-d7cb-4ca0-b281-cb6af05cafa8"
      },
      "outputs": [
        {
          "name": "stdout",
          "output_type": "stream",
          "text": [
            "{'login': 213644473, 'trade_mode': 0, 'leverage': 1000, 'limit_orders': 500, 'margin_so_mode': 0, 'trade_allowed': True, 'trade_expert': True, 'margin_mode': 2, 'currency_digits': 2, 'fifo_close': False, 'balance': 200.0, 'credit': 0.0, 'profit': 0.0, 'equity': 200.0, 'margin': 0.0, 'margin_free': 200.0, 'margin_level': 0.0, 'margin_so_call': 25.0, 'margin_so_so': 15.0, 'margin_initial': 0.0, 'margin_maintenance': 0.0, 'assets': 0.0, 'liabilities': 0.0, 'commission_blocked': 0.0, 'name': 'micheal bright omage ', 'server': 'OctaFX-Demo', 'currency': 'USD', 'company': 'Octa Markets Incorporated'}\n",
            "\n",
            "\n",
            "{'community_account': False, 'community_connection': False, 'connected': True, 'dlls_allowed': False, 'trade_allowed': True, 'tradeapi_disabled': False, 'email_enabled': False, 'ftp_enabled': False, 'notifications_enabled': False, 'mqid': False, 'build': 5200, 'maxbars': 100000, 'codepage': 0, 'ping_last': 150601, 'community_balance': 0.0, 'retransmission': 0.6890690676895515, 'company': 'MetaQuotes Software Corp.', 'name': 'MetaTrader 5', 'language': 'English', 'path': 'C:\\\\Program Files\\\\MetaTrader 5', 'data_path': 'C:\\\\Program Files\\\\MetaTrader 5', 'commondata_path': 'C:\\\\Users\\\\omage\\\\AppData\\\\Roaming\\\\MetaQuotes\\\\Terminal\\\\Common'}\n",
            "\n",
            "\n",
            "280\n"
          ]
        }
      ],
      "source": [
        "if not trade_active:\n",
        "    print('Initialization failed, check internet connection. You must have Meta Trader 5 installed.')\n",
        "    mt5.shutdown()\n",
        "\n",
        "else:\n",
        "    print(mt5.account_info()._asdict())\n",
        "    print(\"\\n\")\n",
        "    print(mt5.terminal_info()._asdict())\n",
        "    print(\"\\n\")\n",
        "    print(mt5.symbols_total())\n",
        "\n"
      ]
    },
    {
      "cell_type": "code",
      "execution_count": null,
      "metadata": {
        "id": "ep9xWhDh4VKU",
        "outputId": "31c79ec1-fd31-4335-d881-2db8f23fed61"
      },
      "outputs": [
        {
          "name": "stdout",
          "output_type": "stream",
          "text": [
            "200.0\n",
            "AI is successfully functional\n"
          ]
        }
      ],
      "source": [
        "account = mt5.account_info()\n",
        "terminal = mt5.terminal_info()\n",
        "\n",
        "print(account.equity)\n",
        "\n",
        "if(terminal.connected == True and terminal.trade_allowed == True):\n",
        "    print(\"AI is successfully functional\")\n",
        "else:\n",
        "    print(\"Please make sure metatrade 5 has internet and algo Trade is Turn On\")"
      ]
    },
    {
      "cell_type": "code",
      "execution_count": null,
      "metadata": {
        "id": "LEqpQHyh4VKU",
        "outputId": "c1be5336-539c-4560-9f60-f3f5e9ba9910"
      },
      "outputs": [
        {
          "name": "stdout",
          "output_type": "stream",
          "text": [
            "280\n",
            "yes  EURUSD\n",
            "yes  GBPUSD\n",
            "yes  USDJPY\n",
            "yes  AUDUSD\n",
            "yes  USDCAD\n"
          ]
        }
      ],
      "source": [
        "symbols = mt5.symbols_get()\n",
        "print(len(symbols))\n",
        "t_symbol = [\"GBPUSD\",\"EURUSD\",\"USDCAD\",\"USDJPY\",\"AUDUSD\"]\n",
        "for symbol in symbols:\n",
        "    for t_s in t_symbol:\n",
        "        if(symbol.name == t_s):\n",
        "            print(\"yes \",t_s)\n",
        "            break\n",
        "\n",
        ""
      ]
    },
    {
      "cell_type": "code",
      "execution_count": null,
      "metadata": {
        "id": "fAWrlqlX4VKV"
      },
      "outputs": [],
      "source": [
        "n = 0"
      ]
    },
    {
      "cell_type": "code",
      "execution_count": null,
      "metadata": {
        "id": "gIrl4Aa64VKV"
      },
      "outputs": [],
      "source": [
        "market = mt5.copy_rates_from_pos(t_symbol[n], mt5.TIMEFRAME_M30, 0, 99999)"
      ]
    },
    {
      "cell_type": "code",
      "execution_count": null,
      "metadata": {
        "id": "AMyZKKm94VKW",
        "outputId": "705ee253-4ce9-4194-cdda-d11432fac80c"
      },
      "outputs": [
        {
          "data": {
            "text/plain": [
              "array([(1503012600, 1.28688, 1.28692, 1.28629, 1.28644, 1504,  8, 0),\n",
              "       (1503014400, 1.28668, 1.28693, 1.28656, 1.2868 ,  183, 13, 0),\n",
              "       (1503016200, 1.28677, 1.28694, 1.28643, 1.28664, 2022, 24, 0), ...,\n",
              "       (1756506600, 1.35073, 1.35148, 1.35073, 1.35147, 1963, 13, 0),\n",
              "       (1756508400, 1.35148, 1.35164, 1.35101, 1.35124, 1228, 13, 0),\n",
              "       (1756510200, 1.35125, 1.35126, 1.34995, 1.35018, 2122, 13, 0)],\n",
              "      dtype=[('time', '<i8'), ('open', '<f8'), ('high', '<f8'), ('low', '<f8'), ('close', '<f8'), ('tick_volume', '<u8'), ('spread', '<i4'), ('real_volume', '<u8')])"
            ]
          },
          "execution_count": 27,
          "metadata": {},
          "output_type": "execute_result"
        }
      ],
      "source": [
        "market"
      ]
    },
    {
      "cell_type": "code",
      "execution_count": null,
      "metadata": {
        "id": "_dwSWH3M4VKW",
        "outputId": "74646f6f-1425-4150-d7e5-49d69b48894f"
      },
      "outputs": [
        {
          "data": {
            "text/plain": [
              "99999"
            ]
          },
          "execution_count": 28,
          "metadata": {},
          "output_type": "execute_result"
        }
      ],
      "source": [
        "len(market)"
      ]
    },
    {
      "cell_type": "code",
      "execution_count": null,
      "metadata": {
        "id": "cgAOsT3T4VKW"
      },
      "outputs": [],
      "source": [
        "data = []\n",
        "for i in range(len(market)):\n",
        "    data.append([market[i][1],market[i][2],market[i][3],market[i][4]])"
      ]
    },
    {
      "cell_type": "code",
      "execution_count": null,
      "metadata": {
        "id": "lqYLs3rv4VKX",
        "outputId": "fd44ae43-9eb5-449e-c518-3174370640ac"
      },
      "outputs": [
        {
          "data": {
            "text/html": [
              "<div>\n",
              "<style scoped>\n",
              "    .dataframe tbody tr th:only-of-type {\n",
              "        vertical-align: middle;\n",
              "    }\n",
              "\n",
              "    .dataframe tbody tr th {\n",
              "        vertical-align: top;\n",
              "    }\n",
              "\n",
              "    .dataframe thead th {\n",
              "        text-align: right;\n",
              "    }\n",
              "</style>\n",
              "<table border=\"1\" class=\"dataframe\">\n",
              "  <thead>\n",
              "    <tr style=\"text-align: right;\">\n",
              "      <th></th>\n",
              "      <th>open</th>\n",
              "      <th>high</th>\n",
              "      <th>low</th>\n",
              "      <th>close</th>\n",
              "    </tr>\n",
              "  </thead>\n",
              "  <tbody>\n",
              "    <tr>\n",
              "      <th>0</th>\n",
              "      <td>1.28688</td>\n",
              "      <td>1.28692</td>\n",
              "      <td>1.28629</td>\n",
              "      <td>1.28644</td>\n",
              "    </tr>\n",
              "    <tr>\n",
              "      <th>1</th>\n",
              "      <td>1.28668</td>\n",
              "      <td>1.28693</td>\n",
              "      <td>1.28656</td>\n",
              "      <td>1.28680</td>\n",
              "    </tr>\n",
              "    <tr>\n",
              "      <th>2</th>\n",
              "      <td>1.28677</td>\n",
              "      <td>1.28694</td>\n",
              "      <td>1.28643</td>\n",
              "      <td>1.28664</td>\n",
              "    </tr>\n",
              "    <tr>\n",
              "      <th>3</th>\n",
              "      <td>1.28667</td>\n",
              "      <td>1.28741</td>\n",
              "      <td>1.28647</td>\n",
              "      <td>1.28671</td>\n",
              "    </tr>\n",
              "    <tr>\n",
              "      <th>4</th>\n",
              "      <td>1.28672</td>\n",
              "      <td>1.28736</td>\n",
              "      <td>1.28669</td>\n",
              "      <td>1.28711</td>\n",
              "    </tr>\n",
              "    <tr>\n",
              "      <th>...</th>\n",
              "      <td>...</td>\n",
              "      <td>...</td>\n",
              "      <td>...</td>\n",
              "      <td>...</td>\n",
              "    </tr>\n",
              "    <tr>\n",
              "      <th>99994</th>\n",
              "      <td>1.35005</td>\n",
              "      <td>1.35105</td>\n",
              "      <td>1.35003</td>\n",
              "      <td>1.35095</td>\n",
              "    </tr>\n",
              "    <tr>\n",
              "      <th>99995</th>\n",
              "      <td>1.35093</td>\n",
              "      <td>1.35114</td>\n",
              "      <td>1.35050</td>\n",
              "      <td>1.35073</td>\n",
              "    </tr>\n",
              "    <tr>\n",
              "      <th>99996</th>\n",
              "      <td>1.35073</td>\n",
              "      <td>1.35148</td>\n",
              "      <td>1.35073</td>\n",
              "      <td>1.35147</td>\n",
              "    </tr>\n",
              "    <tr>\n",
              "      <th>99997</th>\n",
              "      <td>1.35148</td>\n",
              "      <td>1.35164</td>\n",
              "      <td>1.35101</td>\n",
              "      <td>1.35124</td>\n",
              "    </tr>\n",
              "    <tr>\n",
              "      <th>99998</th>\n",
              "      <td>1.35125</td>\n",
              "      <td>1.35126</td>\n",
              "      <td>1.34995</td>\n",
              "      <td>1.35018</td>\n",
              "    </tr>\n",
              "  </tbody>\n",
              "</table>\n",
              "<p>99999 rows × 4 columns</p>\n",
              "</div>"
            ],
            "text/plain": [
              "          open     high      low    close\n",
              "0      1.28688  1.28692  1.28629  1.28644\n",
              "1      1.28668  1.28693  1.28656  1.28680\n",
              "2      1.28677  1.28694  1.28643  1.28664\n",
              "3      1.28667  1.28741  1.28647  1.28671\n",
              "4      1.28672  1.28736  1.28669  1.28711\n",
              "...        ...      ...      ...      ...\n",
              "99994  1.35005  1.35105  1.35003  1.35095\n",
              "99995  1.35093  1.35114  1.35050  1.35073\n",
              "99996  1.35073  1.35148  1.35073  1.35147\n",
              "99997  1.35148  1.35164  1.35101  1.35124\n",
              "99998  1.35125  1.35126  1.34995  1.35018\n",
              "\n",
              "[99999 rows x 4 columns]"
            ]
          },
          "metadata": {},
          "output_type": "display_data"
        }
      ],
      "source": [
        "df = pd.DataFrame(data, columns=[\"open\", \"high\",\"low\", \"close\"])\n",
        "display(df)"
      ]
    },
    {
      "cell_type": "code",
      "execution_count": null,
      "metadata": {
        "id": "akg_hIFS4VKX"
      },
      "outputs": [],
      "source": [
        "df.to_csv(\"Generated\"+t_symbol[n]+\" dbot.csv\", index=False)"
      ]
    },
    {
      "cell_type": "code",
      "source": [
        "import numpy as np # linear algebra\n",
        "import pandas as pd # data processing, CSV file I/O (e.g. pd.read_csv)\n",
        "import tensorflow as tf\n"
      ],
      "metadata": {
        "id": "M8QyUXsy4op6"
      },
      "execution_count": 1,
      "outputs": []
    },
    {
      "cell_type": "code",
      "source": [
        "train_df = pd.read_csv(\"GeneratedGBPUSD dbot.csv\")\n",
        "display(train_df)"
      ],
      "metadata": {
        "colab": {
          "base_uri": "https://localhost:8080/",
          "height": 424
        },
        "id": "YMI_hgF-5ZC8",
        "outputId": "e24869b2-82ae-4d1e-95b0-16c1999a3b34"
      },
      "execution_count": 2,
      "outputs": [
        {
          "output_type": "display_data",
          "data": {
            "text/plain": [
              "          open     high      low    close\n",
              "0      1.28688  1.28692  1.28629  1.28644\n",
              "1      1.28668  1.28693  1.28656  1.28680\n",
              "2      1.28677  1.28694  1.28643  1.28664\n",
              "3      1.28667  1.28741  1.28647  1.28671\n",
              "4      1.28672  1.28736  1.28669  1.28711\n",
              "...        ...      ...      ...      ...\n",
              "99994  1.35005  1.35105  1.35003  1.35095\n",
              "99995  1.35093  1.35114  1.35050  1.35073\n",
              "99996  1.35073  1.35148  1.35073  1.35147\n",
              "99997  1.35148  1.35164  1.35101  1.35124\n",
              "99998  1.35125  1.35126  1.34995  1.35018\n",
              "\n",
              "[99999 rows x 4 columns]"
            ],
            "text/html": [
              "\n",
              "  <div id=\"df-7be9195f-03d5-46da-affa-ece065eae4c3\" class=\"colab-df-container\">\n",
              "    <div>\n",
              "<style scoped>\n",
              "    .dataframe tbody tr th:only-of-type {\n",
              "        vertical-align: middle;\n",
              "    }\n",
              "\n",
              "    .dataframe tbody tr th {\n",
              "        vertical-align: top;\n",
              "    }\n",
              "\n",
              "    .dataframe thead th {\n",
              "        text-align: right;\n",
              "    }\n",
              "</style>\n",
              "<table border=\"1\" class=\"dataframe\">\n",
              "  <thead>\n",
              "    <tr style=\"text-align: right;\">\n",
              "      <th></th>\n",
              "      <th>open</th>\n",
              "      <th>high</th>\n",
              "      <th>low</th>\n",
              "      <th>close</th>\n",
              "    </tr>\n",
              "  </thead>\n",
              "  <tbody>\n",
              "    <tr>\n",
              "      <th>0</th>\n",
              "      <td>1.28688</td>\n",
              "      <td>1.28692</td>\n",
              "      <td>1.28629</td>\n",
              "      <td>1.28644</td>\n",
              "    </tr>\n",
              "    <tr>\n",
              "      <th>1</th>\n",
              "      <td>1.28668</td>\n",
              "      <td>1.28693</td>\n",
              "      <td>1.28656</td>\n",
              "      <td>1.28680</td>\n",
              "    </tr>\n",
              "    <tr>\n",
              "      <th>2</th>\n",
              "      <td>1.28677</td>\n",
              "      <td>1.28694</td>\n",
              "      <td>1.28643</td>\n",
              "      <td>1.28664</td>\n",
              "    </tr>\n",
              "    <tr>\n",
              "      <th>3</th>\n",
              "      <td>1.28667</td>\n",
              "      <td>1.28741</td>\n",
              "      <td>1.28647</td>\n",
              "      <td>1.28671</td>\n",
              "    </tr>\n",
              "    <tr>\n",
              "      <th>4</th>\n",
              "      <td>1.28672</td>\n",
              "      <td>1.28736</td>\n",
              "      <td>1.28669</td>\n",
              "      <td>1.28711</td>\n",
              "    </tr>\n",
              "    <tr>\n",
              "      <th>...</th>\n",
              "      <td>...</td>\n",
              "      <td>...</td>\n",
              "      <td>...</td>\n",
              "      <td>...</td>\n",
              "    </tr>\n",
              "    <tr>\n",
              "      <th>99994</th>\n",
              "      <td>1.35005</td>\n",
              "      <td>1.35105</td>\n",
              "      <td>1.35003</td>\n",
              "      <td>1.35095</td>\n",
              "    </tr>\n",
              "    <tr>\n",
              "      <th>99995</th>\n",
              "      <td>1.35093</td>\n",
              "      <td>1.35114</td>\n",
              "      <td>1.35050</td>\n",
              "      <td>1.35073</td>\n",
              "    </tr>\n",
              "    <tr>\n",
              "      <th>99996</th>\n",
              "      <td>1.35073</td>\n",
              "      <td>1.35148</td>\n",
              "      <td>1.35073</td>\n",
              "      <td>1.35147</td>\n",
              "    </tr>\n",
              "    <tr>\n",
              "      <th>99997</th>\n",
              "      <td>1.35148</td>\n",
              "      <td>1.35164</td>\n",
              "      <td>1.35101</td>\n",
              "      <td>1.35124</td>\n",
              "    </tr>\n",
              "    <tr>\n",
              "      <th>99998</th>\n",
              "      <td>1.35125</td>\n",
              "      <td>1.35126</td>\n",
              "      <td>1.34995</td>\n",
              "      <td>1.35018</td>\n",
              "    </tr>\n",
              "  </tbody>\n",
              "</table>\n",
              "<p>99999 rows × 4 columns</p>\n",
              "</div>\n",
              "    <div class=\"colab-df-buttons\">\n",
              "\n",
              "  <div class=\"colab-df-container\">\n",
              "    <button class=\"colab-df-convert\" onclick=\"convertToInteractive('df-7be9195f-03d5-46da-affa-ece065eae4c3')\"\n",
              "            title=\"Convert this dataframe to an interactive table.\"\n",
              "            style=\"display:none;\">\n",
              "\n",
              "  <svg xmlns=\"http://www.w3.org/2000/svg\" height=\"24px\" viewBox=\"0 -960 960 960\">\n",
              "    <path d=\"M120-120v-720h720v720H120Zm60-500h600v-160H180v160Zm220 220h160v-160H400v160Zm0 220h160v-160H400v160ZM180-400h160v-160H180v160Zm440 0h160v-160H620v160ZM180-180h160v-160H180v160Zm440 0h160v-160H620v160Z\"/>\n",
              "  </svg>\n",
              "    </button>\n",
              "\n",
              "  <style>\n",
              "    .colab-df-container {\n",
              "      display:flex;\n",
              "      gap: 12px;\n",
              "    }\n",
              "\n",
              "    .colab-df-convert {\n",
              "      background-color: #E8F0FE;\n",
              "      border: none;\n",
              "      border-radius: 50%;\n",
              "      cursor: pointer;\n",
              "      display: none;\n",
              "      fill: #1967D2;\n",
              "      height: 32px;\n",
              "      padding: 0 0 0 0;\n",
              "      width: 32px;\n",
              "    }\n",
              "\n",
              "    .colab-df-convert:hover {\n",
              "      background-color: #E2EBFA;\n",
              "      box-shadow: 0px 1px 2px rgba(60, 64, 67, 0.3), 0px 1px 3px 1px rgba(60, 64, 67, 0.15);\n",
              "      fill: #174EA6;\n",
              "    }\n",
              "\n",
              "    .colab-df-buttons div {\n",
              "      margin-bottom: 4px;\n",
              "    }\n",
              "\n",
              "    [theme=dark] .colab-df-convert {\n",
              "      background-color: #3B4455;\n",
              "      fill: #D2E3FC;\n",
              "    }\n",
              "\n",
              "    [theme=dark] .colab-df-convert:hover {\n",
              "      background-color: #434B5C;\n",
              "      box-shadow: 0px 1px 3px 1px rgba(0, 0, 0, 0.15);\n",
              "      filter: drop-shadow(0px 1px 2px rgba(0, 0, 0, 0.3));\n",
              "      fill: #FFFFFF;\n",
              "    }\n",
              "  </style>\n",
              "\n",
              "    <script>\n",
              "      const buttonEl =\n",
              "        document.querySelector('#df-7be9195f-03d5-46da-affa-ece065eae4c3 button.colab-df-convert');\n",
              "      buttonEl.style.display =\n",
              "        google.colab.kernel.accessAllowed ? 'block' : 'none';\n",
              "\n",
              "      async function convertToInteractive(key) {\n",
              "        const element = document.querySelector('#df-7be9195f-03d5-46da-affa-ece065eae4c3');\n",
              "        const dataTable =\n",
              "          await google.colab.kernel.invokeFunction('convertToInteractive',\n",
              "                                                    [key], {});\n",
              "        if (!dataTable) return;\n",
              "\n",
              "        const docLinkHtml = 'Like what you see? Visit the ' +\n",
              "          '<a target=\"_blank\" href=https://colab.research.google.com/notebooks/data_table.ipynb>data table notebook</a>'\n",
              "          + ' to learn more about interactive tables.';\n",
              "        element.innerHTML = '';\n",
              "        dataTable['output_type'] = 'display_data';\n",
              "        await google.colab.output.renderOutput(dataTable, element);\n",
              "        const docLink = document.createElement('div');\n",
              "        docLink.innerHTML = docLinkHtml;\n",
              "        element.appendChild(docLink);\n",
              "      }\n",
              "    </script>\n",
              "  </div>\n",
              "\n",
              "\n",
              "    <div id=\"df-ebcac68a-40a7-4736-8153-915b55f7af71\">\n",
              "      <button class=\"colab-df-quickchart\" onclick=\"quickchart('df-ebcac68a-40a7-4736-8153-915b55f7af71')\"\n",
              "                title=\"Suggest charts\"\n",
              "                style=\"display:none;\">\n",
              "\n",
              "<svg xmlns=\"http://www.w3.org/2000/svg\" height=\"24px\"viewBox=\"0 0 24 24\"\n",
              "     width=\"24px\">\n",
              "    <g>\n",
              "        <path d=\"M19 3H5c-1.1 0-2 .9-2 2v14c0 1.1.9 2 2 2h14c1.1 0 2-.9 2-2V5c0-1.1-.9-2-2-2zM9 17H7v-7h2v7zm4 0h-2V7h2v10zm4 0h-2v-4h2v4z\"/>\n",
              "    </g>\n",
              "</svg>\n",
              "      </button>\n",
              "\n",
              "<style>\n",
              "  .colab-df-quickchart {\n",
              "      --bg-color: #E8F0FE;\n",
              "      --fill-color: #1967D2;\n",
              "      --hover-bg-color: #E2EBFA;\n",
              "      --hover-fill-color: #174EA6;\n",
              "      --disabled-fill-color: #AAA;\n",
              "      --disabled-bg-color: #DDD;\n",
              "  }\n",
              "\n",
              "  [theme=dark] .colab-df-quickchart {\n",
              "      --bg-color: #3B4455;\n",
              "      --fill-color: #D2E3FC;\n",
              "      --hover-bg-color: #434B5C;\n",
              "      --hover-fill-color: #FFFFFF;\n",
              "      --disabled-bg-color: #3B4455;\n",
              "      --disabled-fill-color: #666;\n",
              "  }\n",
              "\n",
              "  .colab-df-quickchart {\n",
              "    background-color: var(--bg-color);\n",
              "    border: none;\n",
              "    border-radius: 50%;\n",
              "    cursor: pointer;\n",
              "    display: none;\n",
              "    fill: var(--fill-color);\n",
              "    height: 32px;\n",
              "    padding: 0;\n",
              "    width: 32px;\n",
              "  }\n",
              "\n",
              "  .colab-df-quickchart:hover {\n",
              "    background-color: var(--hover-bg-color);\n",
              "    box-shadow: 0 1px 2px rgba(60, 64, 67, 0.3), 0 1px 3px 1px rgba(60, 64, 67, 0.15);\n",
              "    fill: var(--button-hover-fill-color);\n",
              "  }\n",
              "\n",
              "  .colab-df-quickchart-complete:disabled,\n",
              "  .colab-df-quickchart-complete:disabled:hover {\n",
              "    background-color: var(--disabled-bg-color);\n",
              "    fill: var(--disabled-fill-color);\n",
              "    box-shadow: none;\n",
              "  }\n",
              "\n",
              "  .colab-df-spinner {\n",
              "    border: 2px solid var(--fill-color);\n",
              "    border-color: transparent;\n",
              "    border-bottom-color: var(--fill-color);\n",
              "    animation:\n",
              "      spin 1s steps(1) infinite;\n",
              "  }\n",
              "\n",
              "  @keyframes spin {\n",
              "    0% {\n",
              "      border-color: transparent;\n",
              "      border-bottom-color: var(--fill-color);\n",
              "      border-left-color: var(--fill-color);\n",
              "    }\n",
              "    20% {\n",
              "      border-color: transparent;\n",
              "      border-left-color: var(--fill-color);\n",
              "      border-top-color: var(--fill-color);\n",
              "    }\n",
              "    30% {\n",
              "      border-color: transparent;\n",
              "      border-left-color: var(--fill-color);\n",
              "      border-top-color: var(--fill-color);\n",
              "      border-right-color: var(--fill-color);\n",
              "    }\n",
              "    40% {\n",
              "      border-color: transparent;\n",
              "      border-right-color: var(--fill-color);\n",
              "      border-top-color: var(--fill-color);\n",
              "    }\n",
              "    60% {\n",
              "      border-color: transparent;\n",
              "      border-right-color: var(--fill-color);\n",
              "    }\n",
              "    80% {\n",
              "      border-color: transparent;\n",
              "      border-right-color: var(--fill-color);\n",
              "      border-bottom-color: var(--fill-color);\n",
              "    }\n",
              "    90% {\n",
              "      border-color: transparent;\n",
              "      border-bottom-color: var(--fill-color);\n",
              "    }\n",
              "  }\n",
              "</style>\n",
              "\n",
              "      <script>\n",
              "        async function quickchart(key) {\n",
              "          const quickchartButtonEl =\n",
              "            document.querySelector('#' + key + ' button');\n",
              "          quickchartButtonEl.disabled = true;  // To prevent multiple clicks.\n",
              "          quickchartButtonEl.classList.add('colab-df-spinner');\n",
              "          try {\n",
              "            const charts = await google.colab.kernel.invokeFunction(\n",
              "                'suggestCharts', [key], {});\n",
              "          } catch (error) {\n",
              "            console.error('Error during call to suggestCharts:', error);\n",
              "          }\n",
              "          quickchartButtonEl.classList.remove('colab-df-spinner');\n",
              "          quickchartButtonEl.classList.add('colab-df-quickchart-complete');\n",
              "        }\n",
              "        (() => {\n",
              "          let quickchartButtonEl =\n",
              "            document.querySelector('#df-ebcac68a-40a7-4736-8153-915b55f7af71 button');\n",
              "          quickchartButtonEl.style.display =\n",
              "            google.colab.kernel.accessAllowed ? 'block' : 'none';\n",
              "        })();\n",
              "      </script>\n",
              "    </div>\n",
              "\n",
              "  <div id=\"id_dc9fe135-92f4-4d0a-b483-7e56b7261756\">\n",
              "    <style>\n",
              "      .colab-df-generate {\n",
              "        background-color: #E8F0FE;\n",
              "        border: none;\n",
              "        border-radius: 50%;\n",
              "        cursor: pointer;\n",
              "        display: none;\n",
              "        fill: #1967D2;\n",
              "        height: 32px;\n",
              "        padding: 0 0 0 0;\n",
              "        width: 32px;\n",
              "      }\n",
              "\n",
              "      .colab-df-generate:hover {\n",
              "        background-color: #E2EBFA;\n",
              "        box-shadow: 0px 1px 2px rgba(60, 64, 67, 0.3), 0px 1px 3px 1px rgba(60, 64, 67, 0.15);\n",
              "        fill: #174EA6;\n",
              "      }\n",
              "\n",
              "      [theme=dark] .colab-df-generate {\n",
              "        background-color: #3B4455;\n",
              "        fill: #D2E3FC;\n",
              "      }\n",
              "\n",
              "      [theme=dark] .colab-df-generate:hover {\n",
              "        background-color: #434B5C;\n",
              "        box-shadow: 0px 1px 3px 1px rgba(0, 0, 0, 0.15);\n",
              "        filter: drop-shadow(0px 1px 2px rgba(0, 0, 0, 0.3));\n",
              "        fill: #FFFFFF;\n",
              "      }\n",
              "    </style>\n",
              "    <button class=\"colab-df-generate\" onclick=\"generateWithVariable('train_df')\"\n",
              "            title=\"Generate code using this dataframe.\"\n",
              "            style=\"display:none;\">\n",
              "\n",
              "  <svg xmlns=\"http://www.w3.org/2000/svg\" height=\"24px\"viewBox=\"0 0 24 24\"\n",
              "       width=\"24px\">\n",
              "    <path d=\"M7,19H8.4L18.45,9,17,7.55,7,17.6ZM5,21V16.75L18.45,3.32a2,2,0,0,1,2.83,0l1.4,1.43a1.91,1.91,0,0,1,.58,1.4,1.91,1.91,0,0,1-.58,1.4L9.25,21ZM18.45,9,17,7.55Zm-12,3A5.31,5.31,0,0,0,4.9,8.1,5.31,5.31,0,0,0,1,6.5,5.31,5.31,0,0,0,4.9,4.9,5.31,5.31,0,0,0,6.5,1,5.31,5.31,0,0,0,8.1,4.9,5.31,5.31,0,0,0,12,6.5,5.46,5.46,0,0,0,6.5,12Z\"/>\n",
              "  </svg>\n",
              "    </button>\n",
              "    <script>\n",
              "      (() => {\n",
              "      const buttonEl =\n",
              "        document.querySelector('#id_dc9fe135-92f4-4d0a-b483-7e56b7261756 button.colab-df-generate');\n",
              "      buttonEl.style.display =\n",
              "        google.colab.kernel.accessAllowed ? 'block' : 'none';\n",
              "\n",
              "      buttonEl.onclick = () => {\n",
              "        google.colab.notebook.generateWithVariable('train_df');\n",
              "      }\n",
              "      })();\n",
              "    </script>\n",
              "  </div>\n",
              "\n",
              "    </div>\n",
              "  </div>\n"
            ],
            "application/vnd.google.colaboratory.intrinsic+json": {
              "type": "dataframe",
              "variable_name": "train_df",
              "summary": "{\n  \"name\": \"train_df\",\n  \"rows\": 99999,\n  \"fields\": [\n    {\n      \"column\": \"open\",\n      \"properties\": {\n        \"dtype\": \"number\",\n        \"std\": 0.06058484342898948,\n        \"min\": 1.03959,\n        \"max\": 1.43742,\n        \"num_unique_values\": 24851,\n        \"samples\": [\n          1.31883,\n          1.18638,\n          1.35727\n        ],\n        \"semantic_type\": \"\",\n        \"description\": \"\"\n      }\n    },\n    {\n      \"column\": \"high\",\n      \"properties\": {\n        \"dtype\": \"number\",\n        \"std\": 0.06050771651817559,\n        \"min\": 1.05424,\n        \"max\": 1.43761,\n        \"num_unique_values\": 24800,\n        \"samples\": [\n          1.21129,\n          1.31088,\n          1.25709\n        ],\n        \"semantic_type\": \"\",\n        \"description\": \"\"\n      }\n    },\n    {\n      \"column\": \"low\",\n      \"properties\": {\n        \"dtype\": \"number\",\n        \"std\": 0.06065649646083252,\n        \"min\": 1.03514,\n        \"max\": 1.43648,\n        \"num_unique_values\": 24877,\n        \"samples\": [\n          1.38499,\n          1.27733,\n          1.28502\n        ],\n        \"semantic_type\": \"\",\n        \"description\": \"\"\n      }\n    },\n    {\n      \"column\": \"close\",\n      \"properties\": {\n        \"dtype\": \"number\",\n        \"std\": 0.06058462936297183,\n        \"min\": 1.03984,\n        \"max\": 1.43741,\n        \"num_unique_values\": 24859,\n        \"samples\": [\n          1.3386,\n          1.25258,\n          1.38987\n        ],\n        \"semantic_type\": \"\",\n        \"description\": \"\"\n      }\n    }\n  ]\n}"
            }
          },
          "metadata": {}
        }
      ]
    },
    {
      "cell_type": "code",
      "source": [
        "# -------------------------\n",
        "# User-adjustable settings\n",
        "# -------------------------\n",
        "SEQ_LEN = 48              # length of input sequence (timesteps). Typical choices: 30, 60, 90\n",
        "MODEL_SAVE_PATH = 'lstm_multivar_best.keras'"
      ],
      "metadata": {
        "id": "5j_wkyXD5s_s"
      },
      "execution_count": 11,
      "outputs": []
    },
    {
      "cell_type": "code",
      "source": [
        "from sklearn.preprocessing import MinMaxScaler\n",
        "from sklearn.metrics import mean_squared_error, mean_absolute_error\n",
        "import math"
      ],
      "metadata": {
        "id": "nW0blS3d56TI"
      },
      "execution_count": 4,
      "outputs": []
    },
    {
      "cell_type": "code",
      "source": [
        "def create_sequences(data_scaled, seq_len):\n",
        "    \"\"\"\n",
        "    data_scaled: np.array shaped (n_rows, n_features)\n",
        "    returns X (n_samples, seq_len, n_features), y (n_samples, n_features)\n",
        "    where y is the row immediately following the window.\n",
        "    \"\"\"\n",
        "    X, y = [], []\n",
        "    n_rows = data_scaled.shape[0]\n",
        "    for i in range(n_rows - seq_len):\n",
        "        X.append(data_scaled[i:i+seq_len])\n",
        "        y.append(data_scaled[i+seq_len])\n",
        "    X = np.array(X)\n",
        "    y = np.array(y)\n",
        "    return X, y\n",
        "\n",
        "# 1) Convert to numpy and ensure numeric\n",
        "n_rows, n_features = train_df.values.shape\n",
        "\"\"\"\n",
        "# 2) Fit scaler on all feature columns (important to use same scaler for inverse transform)\n",
        "scaler = MinMaxScaler(feature_range=(0, 1))\n",
        "scaled_all = scaler.fit_transform(train_df.values)  # (n_rows, n_features)\n",
        "\"\"\"\n",
        "# 3) Build sequences\n",
        "X, y = create_sequences(train_df.values, SEQ_LEN)  # X: (n_samples, SEQ_LEN, n_features), y: (n_samples, n_features)\n",
        "\n",
        "n_samples = X.shape[0]\n"
      ],
      "metadata": {
        "id": "DuHea8-f5-CG"
      },
      "execution_count": 5,
      "outputs": []
    },
    {
      "cell_type": "code",
      "source": [
        "from sklearn.model_selection import train_test_split"
      ],
      "metadata": {
        "id": "mhn0x45M7ItX"
      },
      "execution_count": 6,
      "outputs": []
    },
    {
      "cell_type": "code",
      "source": [
        "X_train, X_test, y_train, y_test = train_test_split(X, y, test_size=0.25, random_state=None, shuffle=False)"
      ],
      "metadata": {
        "id": "fMWOjf9T7Lub"
      },
      "execution_count": 7,
      "outputs": []
    },
    {
      "cell_type": "code",
      "source": [
        "X_val, X_test, y_val,  y_test = train_test_split(X_test, y_test, test_size=0.25, random_state=None, shuffle=False)"
      ],
      "metadata": {
        "id": "jlP8fEXg8or1"
      },
      "execution_count": 8,
      "outputs": []
    },
    {
      "cell_type": "code",
      "source": [
        "print(X_train.shape)\n",
        "print(y_train.shape)\n",
        "print(X_test.shape)\n",
        "print(y_test.shape)\n",
        "print(X_val.shape)\n",
        "print(y_val.shape)\n"
      ],
      "metadata": {
        "colab": {
          "base_uri": "https://localhost:8080/"
        },
        "id": "kp-iXSn-7ZpW",
        "outputId": "86b690ce-9a42-4ed3-db66-2a8fd6254a45"
      },
      "execution_count": 12,
      "outputs": [
        {
          "output_type": "stream",
          "name": "stdout",
          "text": [
            "(74963, 48, 4)\n",
            "(74963, 4)\n",
            "(6247, 48, 4)\n",
            "(6247, 4)\n",
            "(18741, 48, 4)\n",
            "(18741, 4)\n"
          ]
        }
      ]
    },
    {
      "cell_type": "code",
      "source": [
        "from tensorflow.keras.optimizers import SGD,Adam\n",
        "import matplotlib.pyplot as plt\n",
        "\n",
        "\n",
        "import json\n",
        "import math\n",
        "from tensorflow.keras import Model\n",
        "from tensorflow.keras.layers import Input, LSTM, Dense, Dropout, BatchNormalization, LayerNormalization, Bidirectional\n",
        "from tensorflow.keras.callbacks import EarlyStopping, ReduceLROnPlateau, ModelCheckpoint"
      ],
      "metadata": {
        "id": "gGWbDv7asb0y"
      },
      "execution_count": 13,
      "outputs": []
    },
    {
      "cell_type": "code",
      "source": [
        "  # 5) Build model\n",
        "seq_len = X_train.shape[1]\n",
        "n_features = X_train.shape[2]\n",
        "output_dim = y_train.shape[1]\n",
        "\n",
        "i = Input(shape=(seq_len, n_features))\n",
        "X = LSTM(100, return_sequences=True)(i)\n",
        "X = LSTM(100, return_sequences=True)(X)\n",
        "X = LSTM(100, return_sequences=True)(X)\n",
        "X = LSTM(100)(X)\n",
        "X = Dense(100, activation=\"relu\")(X)\n",
        "X = Dropout(0.25)(X)\n",
        "X = Dense(output_dim)(X)\n",
        "\n",
        "model = Model(i, X)\n",
        "model.summary()"
      ],
      "metadata": {
        "colab": {
          "base_uri": "https://localhost:8080/",
          "height": 408
        },
        "id": "3xnDaAaPs4cp",
        "outputId": "1e040e52-6b86-4fe7-b847-b9649b042f96"
      },
      "execution_count": 15,
      "outputs": [
        {
          "output_type": "display_data",
          "data": {
            "text/plain": [
              "\u001b[1mModel: \"functional_1\"\u001b[0m\n"
            ],
            "text/html": [
              "<pre style=\"white-space:pre;overflow-x:auto;line-height:normal;font-family:Menlo,'DejaVu Sans Mono',consolas,'Courier New',monospace\"><span style=\"font-weight: bold\">Model: \"functional_1\"</span>\n",
              "</pre>\n"
            ]
          },
          "metadata": {}
        },
        {
          "output_type": "display_data",
          "data": {
            "text/plain": [
              "┏━━━━━━━━━━━━━━━━━━━━━━━━━━━━━━━━━┳━━━━━━━━━━━━━━━━━━━━━━━━┳━━━━━━━━━━━━━━━┓\n",
              "┃\u001b[1m \u001b[0m\u001b[1mLayer (type)                   \u001b[0m\u001b[1m \u001b[0m┃\u001b[1m \u001b[0m\u001b[1mOutput Shape          \u001b[0m\u001b[1m \u001b[0m┃\u001b[1m \u001b[0m\u001b[1m      Param #\u001b[0m\u001b[1m \u001b[0m┃\n",
              "┡━━━━━━━━━━━━━━━━━━━━━━━━━━━━━━━━━╇━━━━━━━━━━━━━━━━━━━━━━━━╇━━━━━━━━━━━━━━━┩\n",
              "│ input_layer_1 (\u001b[38;5;33mInputLayer\u001b[0m)      │ (\u001b[38;5;45mNone\u001b[0m, \u001b[38;5;34m48\u001b[0m, \u001b[38;5;34m4\u001b[0m)          │             \u001b[38;5;34m0\u001b[0m │\n",
              "├─────────────────────────────────┼────────────────────────┼───────────────┤\n",
              "│ lstm_4 (\u001b[38;5;33mLSTM\u001b[0m)                   │ (\u001b[38;5;45mNone\u001b[0m, \u001b[38;5;34m48\u001b[0m, \u001b[38;5;34m100\u001b[0m)        │        \u001b[38;5;34m42,000\u001b[0m │\n",
              "├─────────────────────────────────┼────────────────────────┼───────────────┤\n",
              "│ lstm_5 (\u001b[38;5;33mLSTM\u001b[0m)                   │ (\u001b[38;5;45mNone\u001b[0m, \u001b[38;5;34m48\u001b[0m, \u001b[38;5;34m100\u001b[0m)        │        \u001b[38;5;34m80,400\u001b[0m │\n",
              "├─────────────────────────────────┼────────────────────────┼───────────────┤\n",
              "│ lstm_6 (\u001b[38;5;33mLSTM\u001b[0m)                   │ (\u001b[38;5;45mNone\u001b[0m, \u001b[38;5;34m48\u001b[0m, \u001b[38;5;34m100\u001b[0m)        │        \u001b[38;5;34m80,400\u001b[0m │\n",
              "├─────────────────────────────────┼────────────────────────┼───────────────┤\n",
              "│ lstm_7 (\u001b[38;5;33mLSTM\u001b[0m)                   │ (\u001b[38;5;45mNone\u001b[0m, \u001b[38;5;34m100\u001b[0m)            │        \u001b[38;5;34m80,400\u001b[0m │\n",
              "├─────────────────────────────────┼────────────────────────┼───────────────┤\n",
              "│ dense_2 (\u001b[38;5;33mDense\u001b[0m)                 │ (\u001b[38;5;45mNone\u001b[0m, \u001b[38;5;34m100\u001b[0m)            │        \u001b[38;5;34m10,100\u001b[0m │\n",
              "├─────────────────────────────────┼────────────────────────┼───────────────┤\n",
              "│ dropout_1 (\u001b[38;5;33mDropout\u001b[0m)             │ (\u001b[38;5;45mNone\u001b[0m, \u001b[38;5;34m100\u001b[0m)            │             \u001b[38;5;34m0\u001b[0m │\n",
              "├─────────────────────────────────┼────────────────────────┼───────────────┤\n",
              "│ dense_3 (\u001b[38;5;33mDense\u001b[0m)                 │ (\u001b[38;5;45mNone\u001b[0m, \u001b[38;5;34m4\u001b[0m)              │           \u001b[38;5;34m404\u001b[0m │\n",
              "└─────────────────────────────────┴────────────────────────┴───────────────┘\n"
            ],
            "text/html": [
              "<pre style=\"white-space:pre;overflow-x:auto;line-height:normal;font-family:Menlo,'DejaVu Sans Mono',consolas,'Courier New',monospace\">┏━━━━━━━━━━━━━━━━━━━━━━━━━━━━━━━━━┳━━━━━━━━━━━━━━━━━━━━━━━━┳━━━━━━━━━━━━━━━┓\n",
              "┃<span style=\"font-weight: bold\"> Layer (type)                    </span>┃<span style=\"font-weight: bold\"> Output Shape           </span>┃<span style=\"font-weight: bold\">       Param # </span>┃\n",
              "┡━━━━━━━━━━━━━━━━━━━━━━━━━━━━━━━━━╇━━━━━━━━━━━━━━━━━━━━━━━━╇━━━━━━━━━━━━━━━┩\n",
              "│ input_layer_1 (<span style=\"color: #0087ff; text-decoration-color: #0087ff\">InputLayer</span>)      │ (<span style=\"color: #00d7ff; text-decoration-color: #00d7ff\">None</span>, <span style=\"color: #00af00; text-decoration-color: #00af00\">48</span>, <span style=\"color: #00af00; text-decoration-color: #00af00\">4</span>)          │             <span style=\"color: #00af00; text-decoration-color: #00af00\">0</span> │\n",
              "├─────────────────────────────────┼────────────────────────┼───────────────┤\n",
              "│ lstm_4 (<span style=\"color: #0087ff; text-decoration-color: #0087ff\">LSTM</span>)                   │ (<span style=\"color: #00d7ff; text-decoration-color: #00d7ff\">None</span>, <span style=\"color: #00af00; text-decoration-color: #00af00\">48</span>, <span style=\"color: #00af00; text-decoration-color: #00af00\">100</span>)        │        <span style=\"color: #00af00; text-decoration-color: #00af00\">42,000</span> │\n",
              "├─────────────────────────────────┼────────────────────────┼───────────────┤\n",
              "│ lstm_5 (<span style=\"color: #0087ff; text-decoration-color: #0087ff\">LSTM</span>)                   │ (<span style=\"color: #00d7ff; text-decoration-color: #00d7ff\">None</span>, <span style=\"color: #00af00; text-decoration-color: #00af00\">48</span>, <span style=\"color: #00af00; text-decoration-color: #00af00\">100</span>)        │        <span style=\"color: #00af00; text-decoration-color: #00af00\">80,400</span> │\n",
              "├─────────────────────────────────┼────────────────────────┼───────────────┤\n",
              "│ lstm_6 (<span style=\"color: #0087ff; text-decoration-color: #0087ff\">LSTM</span>)                   │ (<span style=\"color: #00d7ff; text-decoration-color: #00d7ff\">None</span>, <span style=\"color: #00af00; text-decoration-color: #00af00\">48</span>, <span style=\"color: #00af00; text-decoration-color: #00af00\">100</span>)        │        <span style=\"color: #00af00; text-decoration-color: #00af00\">80,400</span> │\n",
              "├─────────────────────────────────┼────────────────────────┼───────────────┤\n",
              "│ lstm_7 (<span style=\"color: #0087ff; text-decoration-color: #0087ff\">LSTM</span>)                   │ (<span style=\"color: #00d7ff; text-decoration-color: #00d7ff\">None</span>, <span style=\"color: #00af00; text-decoration-color: #00af00\">100</span>)            │        <span style=\"color: #00af00; text-decoration-color: #00af00\">80,400</span> │\n",
              "├─────────────────────────────────┼────────────────────────┼───────────────┤\n",
              "│ dense_2 (<span style=\"color: #0087ff; text-decoration-color: #0087ff\">Dense</span>)                 │ (<span style=\"color: #00d7ff; text-decoration-color: #00d7ff\">None</span>, <span style=\"color: #00af00; text-decoration-color: #00af00\">100</span>)            │        <span style=\"color: #00af00; text-decoration-color: #00af00\">10,100</span> │\n",
              "├─────────────────────────────────┼────────────────────────┼───────────────┤\n",
              "│ dropout_1 (<span style=\"color: #0087ff; text-decoration-color: #0087ff\">Dropout</span>)             │ (<span style=\"color: #00d7ff; text-decoration-color: #00d7ff\">None</span>, <span style=\"color: #00af00; text-decoration-color: #00af00\">100</span>)            │             <span style=\"color: #00af00; text-decoration-color: #00af00\">0</span> │\n",
              "├─────────────────────────────────┼────────────────────────┼───────────────┤\n",
              "│ dense_3 (<span style=\"color: #0087ff; text-decoration-color: #0087ff\">Dense</span>)                 │ (<span style=\"color: #00d7ff; text-decoration-color: #00d7ff\">None</span>, <span style=\"color: #00af00; text-decoration-color: #00af00\">4</span>)              │           <span style=\"color: #00af00; text-decoration-color: #00af00\">404</span> │\n",
              "└─────────────────────────────────┴────────────────────────┴───────────────┘\n",
              "</pre>\n"
            ]
          },
          "metadata": {}
        },
        {
          "output_type": "display_data",
          "data": {
            "text/plain": [
              "\u001b[1m Total params: \u001b[0m\u001b[38;5;34m293,704\u001b[0m (1.12 MB)\n"
            ],
            "text/html": [
              "<pre style=\"white-space:pre;overflow-x:auto;line-height:normal;font-family:Menlo,'DejaVu Sans Mono',consolas,'Courier New',monospace\"><span style=\"font-weight: bold\"> Total params: </span><span style=\"color: #00af00; text-decoration-color: #00af00\">293,704</span> (1.12 MB)\n",
              "</pre>\n"
            ]
          },
          "metadata": {}
        },
        {
          "output_type": "display_data",
          "data": {
            "text/plain": [
              "\u001b[1m Trainable params: \u001b[0m\u001b[38;5;34m293,704\u001b[0m (1.12 MB)\n"
            ],
            "text/html": [
              "<pre style=\"white-space:pre;overflow-x:auto;line-height:normal;font-family:Menlo,'DejaVu Sans Mono',consolas,'Courier New',monospace\"><span style=\"font-weight: bold\"> Trainable params: </span><span style=\"color: #00af00; text-decoration-color: #00af00\">293,704</span> (1.12 MB)\n",
              "</pre>\n"
            ]
          },
          "metadata": {}
        },
        {
          "output_type": "display_data",
          "data": {
            "text/plain": [
              "\u001b[1m Non-trainable params: \u001b[0m\u001b[38;5;34m0\u001b[0m (0.00 B)\n"
            ],
            "text/html": [
              "<pre style=\"white-space:pre;overflow-x:auto;line-height:normal;font-family:Menlo,'DejaVu Sans Mono',consolas,'Courier New',monospace\"><span style=\"font-weight: bold\"> Non-trainable params: </span><span style=\"color: #00af00; text-decoration-color: #00af00\">0</span> (0.00 B)\n",
              "</pre>\n"
            ]
          },
          "metadata": {}
        }
      ]
    },
    {
      "cell_type": "code",
      "source": [
        "# 6) Callbacks\n",
        "es = EarlyStopping(monitor='val_loss', patience=12, restore_best_weights=True, verbose=2)\n",
        "rlr = ReduceLROnPlateau(monitor='val_loss', factor=0.5, patience=6, min_lr=1e-6, verbose=2)\n",
        "mc = ModelCheckpoint(MODEL_SAVE_PATH, monitor='val_loss', save_best_only=True, verbose=2)"
      ],
      "metadata": {
        "id": "SDdYipGUujEL"
      },
      "execution_count": 16,
      "outputs": []
    },
    {
      "cell_type": "code",
      "source": [
        "model.compile(optimizer=\"Adam\",\n",
        "                  loss='mse',\n",
        "                  metrics=['mae'])\n"
      ],
      "metadata": {
        "id": "xGNjF1jwumD1"
      },
      "execution_count": 17,
      "outputs": []
    },
    {
      "cell_type": "code",
      "source": [
        "r = model.fit(\n",
        "    X_train, y_train,\n",
        "    validation_data=(X_val, y_val),\n",
        "    epochs=100,\n",
        "    batch_size=16,\n",
        "    callbacks=[es, rlr, mc ],\n",
        "    verbose=2\n",
        "\n",
        ")"
      ],
      "metadata": {
        "colab": {
          "base_uri": "https://localhost:8080/"
        },
        "id": "5Jqd9Q2qvBqe",
        "outputId": "dbdbb8e2-67bd-4bfa-925e-348d49414b52"
      },
      "execution_count": 18,
      "outputs": [
        {
          "output_type": "stream",
          "name": "stdout",
          "text": [
            "Epoch 1/100\n",
            "\n",
            "Epoch 1: val_loss improved from inf to 0.00001, saving model to lstm_multivar_best.keras\n",
            "4686/4686 - 70s - 15ms/step - loss: 0.0184 - mae: 0.0976 - val_loss: 1.2845e-05 - val_mae: 0.0030 - learning_rate: 1.0000e-03\n",
            "Epoch 2/100\n",
            "\n",
            "Epoch 2: val_loss did not improve from 0.00001\n",
            "4686/4686 - 65s - 14ms/step - loss: 0.0010 - mae: 0.0224 - val_loss: 1.1188e-04 - val_mae: 0.0103 - learning_rate: 1.0000e-03\n",
            "Epoch 3/100\n",
            "\n",
            "Epoch 3: val_loss did not improve from 0.00001\n",
            "4686/4686 - 82s - 18ms/step - loss: 1.3111e-04 - mae: 0.0084 - val_loss: 2.7183e-05 - val_mae: 0.0050 - learning_rate: 1.0000e-03\n",
            "Epoch 4/100\n",
            "\n",
            "Epoch 4: val_loss did not improve from 0.00001\n",
            "4686/4686 - 84s - 18ms/step - loss: 1.2416e-04 - mae: 0.0081 - val_loss: 1.0140e-04 - val_mae: 0.0100 - learning_rate: 1.0000e-03\n",
            "Epoch 5/100\n",
            "\n",
            "Epoch 5: val_loss improved from 0.00001 to 0.00000, saving model to lstm_multivar_best.keras\n",
            "4686/4686 - 85s - 18ms/step - loss: 1.1831e-04 - mae: 0.0079 - val_loss: 4.8688e-06 - val_mae: 0.0018 - learning_rate: 1.0000e-03\n",
            "Epoch 6/100\n",
            "\n",
            "Epoch 6: val_loss did not improve from 0.00000\n",
            "4686/4686 - 78s - 17ms/step - loss: 1.1138e-04 - mae: 0.0076 - val_loss: 1.5193e-05 - val_mae: 0.0032 - learning_rate: 1.0000e-03\n",
            "Epoch 7/100\n",
            "\n",
            "Epoch 7: ReduceLROnPlateau reducing learning rate to 0.0005000000237487257.\n",
            "\n",
            "Epoch 7: val_loss did not improve from 0.00000\n",
            "4686/4686 - 70s - 15ms/step - loss: 1.1070e-04 - mae: 0.0075 - val_loss: 4.4027e-05 - val_mae: 0.0065 - learning_rate: 1.0000e-03\n",
            "Epoch 8/100\n",
            "\n",
            "Epoch 8: val_loss did not improve from 0.00000\n",
            "4686/4686 - 70s - 15ms/step - loss: 9.3412e-05 - mae: 0.0067 - val_loss: 1.1342e-05 - val_mae: 0.0030 - learning_rate: 5.0000e-04\n",
            "Epoch 9/100\n",
            "\n",
            "Epoch 9: val_loss improved from 0.00000 to 0.00000, saving model to lstm_multivar_best.keras\n",
            "4686/4686 - 82s - 17ms/step - loss: 9.4119e-05 - mae: 0.0067 - val_loss: 1.9008e-06 - val_mae: 0.0011 - learning_rate: 5.0000e-04\n",
            "Epoch 10/100\n",
            "\n",
            "Epoch 10: val_loss did not improve from 0.00000\n",
            "4686/4686 - 65s - 14ms/step - loss: 9.2936e-05 - mae: 0.0067 - val_loss: 4.0376e-06 - val_mae: 0.0019 - learning_rate: 5.0000e-04\n",
            "Epoch 11/100\n",
            "\n",
            "Epoch 11: val_loss did not improve from 0.00000\n",
            "4686/4686 - 70s - 15ms/step - loss: 9.4278e-05 - mae: 0.0067 - val_loss: 9.3678e-06 - val_mae: 0.0029 - learning_rate: 5.0000e-04\n",
            "Epoch 12/100\n",
            "\n",
            "Epoch 12: val_loss improved from 0.00000 to 0.00000, saving model to lstm_multivar_best.keras\n",
            "4686/4686 - 82s - 18ms/step - loss: 9.2643e-05 - mae: 0.0067 - val_loss: 9.4747e-07 - val_mae: 7.1960e-04 - learning_rate: 5.0000e-04\n",
            "Epoch 13/100\n",
            "\n",
            "Epoch 13: ReduceLROnPlateau reducing learning rate to 0.0002500000118743628.\n",
            "\n",
            "Epoch 13: val_loss did not improve from 0.00000\n",
            "4686/4686 - 82s - 17ms/step - loss: 9.1910e-05 - mae: 0.0066 - val_loss: 1.4869e-06 - val_mae: 0.0010 - learning_rate: 5.0000e-04\n",
            "Epoch 14/100\n",
            "\n",
            "Epoch 14: val_loss did not improve from 0.00000\n",
            "4686/4686 - 77s - 17ms/step - loss: 8.5380e-05 - mae: 0.0062 - val_loss: 3.4714e-05 - val_mae: 0.0058 - learning_rate: 2.5000e-04\n",
            "Epoch 15/100\n",
            "\n",
            "Epoch 15: val_loss improved from 0.00000 to 0.00000, saving model to lstm_multivar_best.keras\n",
            "4686/4686 - 82s - 18ms/step - loss: 8.7227e-05 - mae: 0.0063 - val_loss: 8.8200e-07 - val_mae: 7.5198e-04 - learning_rate: 2.5000e-04\n",
            "Epoch 16/100\n",
            "\n",
            "Epoch 16: val_loss did not improve from 0.00000\n",
            "4686/4686 - 82s - 18ms/step - loss: 8.6275e-05 - mae: 0.0063 - val_loss: 1.2813e-05 - val_mae: 0.0035 - learning_rate: 2.5000e-04\n",
            "Epoch 17/100\n",
            "\n",
            "Epoch 17: val_loss did not improve from 0.00000\n",
            "4686/4686 - 71s - 15ms/step - loss: 8.5907e-05 - mae: 0.0062 - val_loss: 1.7134e-05 - val_mae: 0.0040 - learning_rate: 2.5000e-04\n",
            "Epoch 18/100\n",
            "\n",
            "Epoch 18: val_loss did not improve from 0.00000\n",
            "4686/4686 - 76s - 16ms/step - loss: 8.7478e-05 - mae: 0.0063 - val_loss: 2.6184e-05 - val_mae: 0.0050 - learning_rate: 2.5000e-04\n",
            "Epoch 19/100\n",
            "\n",
            "Epoch 19: ReduceLROnPlateau reducing learning rate to 0.0001250000059371814.\n",
            "\n",
            "Epoch 19: val_loss did not improve from 0.00000\n",
            "4686/4686 - 83s - 18ms/step - loss: 8.6387e-05 - mae: 0.0063 - val_loss: 7.1839e-06 - val_mae: 0.0023 - learning_rate: 2.5000e-04\n",
            "Epoch 20/100\n",
            "\n",
            "Epoch 20: val_loss did not improve from 0.00000\n",
            "4686/4686 - 70s - 15ms/step - loss: 8.1938e-05 - mae: 0.0060 - val_loss: 7.5195e-06 - val_mae: 0.0024 - learning_rate: 1.2500e-04\n",
            "Epoch 21/100\n",
            "\n",
            "Epoch 21: val_loss did not improve from 0.00000\n",
            "4686/4686 - 77s - 17ms/step - loss: 8.1856e-05 - mae: 0.0060 - val_loss: 2.1323e-06 - val_mae: 0.0012 - learning_rate: 1.2500e-04\n",
            "Epoch 22/100\n",
            "\n",
            "Epoch 22: val_loss did not improve from 0.00000\n",
            "4686/4686 - 82s - 17ms/step - loss: 8.2230e-05 - mae: 0.0060 - val_loss: 1.6953e-06 - val_mae: 0.0011 - learning_rate: 1.2500e-04\n",
            "Epoch 23/100\n",
            "\n",
            "Epoch 23: val_loss did not improve from 0.00000\n",
            "4686/4686 - 86s - 18ms/step - loss: 8.2445e-05 - mae: 0.0061 - val_loss: 9.9186e-07 - val_mae: 7.5694e-04 - learning_rate: 1.2500e-04\n",
            "Epoch 24/100\n",
            "\n",
            "Epoch 24: val_loss improved from 0.00000 to 0.00000, saving model to lstm_multivar_best.keras\n",
            "4686/4686 - 82s - 18ms/step - loss: 8.2221e-05 - mae: 0.0060 - val_loss: 7.6842e-07 - val_mae: 6.7969e-04 - learning_rate: 1.2500e-04\n",
            "Epoch 25/100\n",
            "\n",
            "Epoch 25: ReduceLROnPlateau reducing learning rate to 6.25000029685907e-05.\n",
            "\n",
            "Epoch 25: val_loss did not improve from 0.00000\n",
            "4686/4686 - 77s - 16ms/step - loss: 8.1859e-05 - mae: 0.0060 - val_loss: 1.2726e-06 - val_mae: 8.3790e-04 - learning_rate: 1.2500e-04\n",
            "Epoch 26/100\n",
            "\n",
            "Epoch 26: val_loss did not improve from 0.00000\n",
            "4686/4686 - 86s - 18ms/step - loss: 8.0633e-05 - mae: 0.0059 - val_loss: 2.7501e-06 - val_mae: 0.0015 - learning_rate: 6.2500e-05\n",
            "Epoch 27/100\n",
            "\n",
            "Epoch 27: val_loss did not improve from 0.00000\n",
            "4686/4686 - 82s - 17ms/step - loss: 8.2153e-05 - mae: 0.0059 - val_loss: 1.2475e-06 - val_mae: 9.1342e-04 - learning_rate: 6.2500e-05\n",
            "Epoch 28/100\n",
            "\n",
            "Epoch 28: val_loss did not improve from 0.00000\n",
            "4686/4686 - 78s - 17ms/step - loss: 7.9019e-05 - mae: 0.0059 - val_loss: 1.1163e-06 - val_mae: 8.7962e-04 - learning_rate: 6.2500e-05\n",
            "Epoch 29/100\n",
            "\n",
            "Epoch 29: val_loss did not improve from 0.00000\n",
            "4686/4686 - 87s - 18ms/step - loss: 8.0525e-05 - mae: 0.0059 - val_loss: 5.4669e-06 - val_mae: 0.0021 - learning_rate: 6.2500e-05\n",
            "Epoch 30/100\n",
            "\n",
            "Epoch 30: val_loss did not improve from 0.00000\n",
            "4686/4686 - 78s - 17ms/step - loss: 7.9564e-05 - mae: 0.0059 - val_loss: 2.1145e-06 - val_mae: 0.0011 - learning_rate: 6.2500e-05\n",
            "Epoch 31/100\n",
            "\n",
            "Epoch 31: ReduceLROnPlateau reducing learning rate to 3.125000148429535e-05.\n",
            "\n",
            "Epoch 31: val_loss did not improve from 0.00000\n",
            "4686/4686 - 66s - 14ms/step - loss: 8.1549e-05 - mae: 0.0059 - val_loss: 3.9794e-06 - val_mae: 0.0019 - learning_rate: 6.2500e-05\n",
            "Epoch 32/100\n",
            "\n",
            "Epoch 32: val_loss did not improve from 0.00000\n",
            "4686/4686 - 70s - 15ms/step - loss: 8.0236e-05 - mae: 0.0058 - val_loss: 1.1882e-06 - val_mae: 9.2217e-04 - learning_rate: 3.1250e-05\n",
            "Epoch 33/100\n",
            "\n",
            "Epoch 33: val_loss did not improve from 0.00000\n",
            "4686/4686 - 78s - 17ms/step - loss: 7.8524e-05 - mae: 0.0058 - val_loss: 1.8080e-06 - val_mae: 9.9586e-04 - learning_rate: 3.1250e-05\n",
            "Epoch 34/100\n",
            "\n",
            "Epoch 34: val_loss did not improve from 0.00000\n",
            "4686/4686 - 86s - 18ms/step - loss: 7.8895e-05 - mae: 0.0058 - val_loss: 1.3830e-06 - val_mae: 8.2919e-04 - learning_rate: 3.1250e-05\n",
            "Epoch 35/100\n",
            "\n",
            "Epoch 35: val_loss did not improve from 0.00000\n",
            "4686/4686 - 77s - 17ms/step - loss: 7.9347e-05 - mae: 0.0058 - val_loss: 1.2287e-06 - val_mae: 7.8195e-04 - learning_rate: 3.1250e-05\n",
            "Epoch 36/100\n",
            "\n",
            "Epoch 36: val_loss improved from 0.00000 to 0.00000, saving model to lstm_multivar_best.keras\n",
            "4686/4686 - 82s - 18ms/step - loss: 7.9610e-05 - mae: 0.0058 - val_loss: 7.1954e-07 - val_mae: 6.5490e-04 - learning_rate: 3.1250e-05\n",
            "Epoch 37/100\n",
            "\n",
            "Epoch 37: ReduceLROnPlateau reducing learning rate to 1.5625000742147677e-05.\n",
            "\n",
            "Epoch 37: val_loss did not improve from 0.00000\n",
            "4686/4686 - 82s - 18ms/step - loss: 7.7434e-05 - mae: 0.0058 - val_loss: 8.8825e-07 - val_mae: 7.3196e-04 - learning_rate: 3.1250e-05\n",
            "Epoch 38/100\n",
            "\n",
            "Epoch 38: val_loss did not improve from 0.00000\n",
            "4686/4686 - 65s - 14ms/step - loss: 7.8640e-05 - mae: 0.0057 - val_loss: 2.0454e-06 - val_mae: 0.0013 - learning_rate: 1.5625e-05\n",
            "Epoch 39/100\n",
            "\n",
            "Epoch 39: val_loss did not improve from 0.00000\n",
            "4686/4686 - 70s - 15ms/step - loss: 7.8935e-05 - mae: 0.0057 - val_loss: 7.2338e-07 - val_mae: 5.9214e-04 - learning_rate: 1.5625e-05\n",
            "Epoch 40/100\n",
            "\n",
            "Epoch 40: val_loss did not improve from 0.00000\n",
            "4686/4686 - 77s - 16ms/step - loss: 7.7315e-05 - mae: 0.0057 - val_loss: 1.1815e-06 - val_mae: 8.9924e-04 - learning_rate: 1.5625e-05\n",
            "Epoch 41/100\n",
            "\n",
            "Epoch 41: val_loss did not improve from 0.00000\n",
            "4686/4686 - 82s - 17ms/step - loss: 7.9476e-05 - mae: 0.0058 - val_loss: 8.0061e-07 - val_mae: 6.7545e-04 - learning_rate: 1.5625e-05\n",
            "Epoch 42/100\n",
            "\n",
            "Epoch 42: val_loss did not improve from 0.00000\n",
            "4686/4686 - 86s - 18ms/step - loss: 7.9218e-05 - mae: 0.0058 - val_loss: 9.1504e-07 - val_mae: 7.1198e-04 - learning_rate: 1.5625e-05\n",
            "Epoch 43/100\n",
            "\n",
            "Epoch 43: ReduceLROnPlateau reducing learning rate to 7.812500371073838e-06.\n",
            "\n",
            "Epoch 43: val_loss did not improve from 0.00000\n",
            "4686/4686 - 67s - 14ms/step - loss: 7.8624e-05 - mae: 0.0057 - val_loss: 1.4897e-06 - val_mae: 0.0011 - learning_rate: 1.5625e-05\n",
            "Epoch 44/100\n",
            "\n",
            "Epoch 44: val_loss improved from 0.00000 to 0.00000, saving model to lstm_multivar_best.keras\n",
            "4686/4686 - 85s - 18ms/step - loss: 7.8760e-05 - mae: 0.0057 - val_loss: 5.7293e-07 - val_mae: 5.1924e-04 - learning_rate: 7.8125e-06\n",
            "Epoch 45/100\n",
            "\n",
            "Epoch 45: val_loss did not improve from 0.00000\n",
            "4686/4686 - 82s - 17ms/step - loss: 7.9251e-05 - mae: 0.0057 - val_loss: 8.2572e-07 - val_mae: 6.4070e-04 - learning_rate: 7.8125e-06\n",
            "Epoch 46/100\n",
            "\n",
            "Epoch 46: val_loss did not improve from 0.00000\n",
            "4686/4686 - 65s - 14ms/step - loss: 7.8319e-05 - mae: 0.0057 - val_loss: 1.3742e-06 - val_mae: 9.2747e-04 - learning_rate: 7.8125e-06\n",
            "Epoch 47/100\n",
            "\n",
            "Epoch 47: val_loss did not improve from 0.00000\n",
            "4686/4686 - 82s - 18ms/step - loss: 8.0335e-05 - mae: 0.0058 - val_loss: 7.8843e-07 - val_mae: 6.2864e-04 - learning_rate: 7.8125e-06\n",
            "Epoch 48/100\n",
            "\n",
            "Epoch 48: val_loss did not improve from 0.00000\n",
            "4686/4686 - 83s - 18ms/step - loss: 7.8222e-05 - mae: 0.0057 - val_loss: 9.2022e-07 - val_mae: 6.8398e-04 - learning_rate: 7.8125e-06\n",
            "Epoch 49/100\n",
            "\n",
            "Epoch 49: ReduceLROnPlateau reducing learning rate to 3.906250185536919e-06.\n",
            "\n",
            "Epoch 49: val_loss did not improve from 0.00000\n",
            "4686/4686 - 85s - 18ms/step - loss: 7.8636e-05 - mae: 0.0057 - val_loss: 6.7519e-07 - val_mae: 6.0326e-04 - learning_rate: 7.8125e-06\n",
            "Epoch 50/100\n",
            "\n",
            "Epoch 50: val_loss did not improve from 0.00000\n",
            "4686/4686 - 70s - 15ms/step - loss: 7.9474e-05 - mae: 0.0057 - val_loss: 6.8109e-07 - val_mae: 6.1848e-04 - learning_rate: 3.9063e-06\n",
            "Epoch 51/100\n",
            "\n",
            "Epoch 51: val_loss did not improve from 0.00000\n",
            "4686/4686 - 82s - 18ms/step - loss: 7.6870e-05 - mae: 0.0057 - val_loss: 8.2898e-07 - val_mae: 7.0284e-04 - learning_rate: 3.9063e-06\n",
            "Epoch 52/100\n",
            "\n",
            "Epoch 52: val_loss did not improve from 0.00000\n",
            "4686/4686 - 77s - 16ms/step - loss: 7.8693e-05 - mae: 0.0057 - val_loss: 9.9039e-07 - val_mae: 7.0400e-04 - learning_rate: 3.9063e-06\n",
            "Epoch 53/100\n",
            "\n",
            "Epoch 53: val_loss did not improve from 0.00000\n",
            "4686/4686 - 83s - 18ms/step - loss: 7.7745e-05 - mae: 0.0057 - val_loss: 6.9537e-07 - val_mae: 5.9967e-04 - learning_rate: 3.9063e-06\n",
            "Epoch 54/100\n",
            "\n",
            "Epoch 54: val_loss did not improve from 0.00000\n",
            "4686/4686 - 82s - 18ms/step - loss: 7.9522e-05 - mae: 0.0057 - val_loss: 8.9946e-07 - val_mae: 6.7486e-04 - learning_rate: 3.9063e-06\n",
            "Epoch 55/100\n",
            "\n",
            "Epoch 55: ReduceLROnPlateau reducing learning rate to 1.9531250927684596e-06.\n",
            "\n",
            "Epoch 55: val_loss did not improve from 0.00000\n",
            "4686/4686 - 81s - 17ms/step - loss: 7.9623e-05 - mae: 0.0057 - val_loss: 8.9411e-07 - val_mae: 6.5336e-04 - learning_rate: 3.9063e-06\n",
            "Epoch 56/100\n",
            "\n",
            "Epoch 56: val_loss did not improve from 0.00000\n",
            "4686/4686 - 82s - 17ms/step - loss: 7.8853e-05 - mae: 0.0057 - val_loss: 8.2275e-07 - val_mae: 6.2455e-04 - learning_rate: 1.9531e-06\n",
            "Epoch 56: early stopping\n",
            "Restoring model weights from the end of the best epoch: 44.\n"
          ]
        }
      ]
    },
    {
      "cell_type": "code",
      "source": [
        "plt.title(\"Loss on data\")\n",
        "plt.plot(r.history['loss'], label=\"loss\")\n",
        "plt.plot(r.history['val_loss'], label=\"val_loss\")\n",
        "plt.legend()\n",
        "plt.show()"
      ],
      "metadata": {
        "colab": {
          "base_uri": "https://localhost:8080/",
          "height": 452
        },
        "id": "2stGnSZ8v36b",
        "outputId": "c16f9d84-b380-4db2-9365-7938da3f6b40"
      },
      "execution_count": 19,
      "outputs": [
        {
          "output_type": "display_data",
          "data": {
            "text/plain": [
              "<Figure size 640x480 with 1 Axes>"
            ],
            "image/png": "[encoded data removed]"
          },
          "metadata": {}
        }
      ]
    },
    {
      "cell_type": "code",
      "source": [
        "plt.title(\"learning_rate on data\")\n",
        "plt.plot(r.history['learning_rate'], label=\"loss\")\n",
        "\n",
        "plt.show()"
      ],
      "metadata": {
        "colab": {
          "base_uri": "https://localhost:8080/",
          "height": 452
        },
        "id": "ePvWzQYqv58E",
        "outputId": "3439d739-4fd8-449c-827d-8dccffe3759b"
      },
      "execution_count": 20,
      "outputs": [
        {
          "output_type": "display_data",
          "data": {
            "text/plain": [
              "<Figure size 640x480 with 1 Axes>"
            ],
            "image/png": "[encoded data removed]"
          },
          "metadata": {}
        }
      ]
    },
    {
      "cell_type": "code",
      "source": [
        "plt.title(\"MAE on data\")\n",
        "plt.plot(r.history['mae'], label=\"mae\")\n",
        "plt.plot(r.history['val_mae'], label=\"val_mae\")\n",
        "plt.legend()\n",
        "plt.show()"
      ],
      "metadata": {
        "colab": {
          "base_uri": "https://localhost:8080/",
          "height": 452
        },
        "id": "goVnTjkHwFjt",
        "outputId": "01eebfec-558c-4cd4-99f5-35bd2d9d59a4"
      },
      "execution_count": 21,
      "outputs": [
        {
          "output_type": "display_data",
          "data": {
            "text/plain": [
              "<Figure size 640x480 with 1 Axes>"
            ],
            "image/png": "[encoded data removed]"
          },
          "metadata": {}
        }
      ]
    },
    {
      "cell_type": "code",
      "source": [
        "from tensorflow.keras.models import load_model\n",
        "best_model = load_model(MODEL_SAVE_PATH)"
      ],
      "metadata": {
        "id": "o0HF9AEkFACp"
      },
      "execution_count": 22,
      "outputs": []
    },
    {
      "cell_type": "code",
      "source": [],
      "metadata": {
        "id": "fGxCK9h0RKL1"
      },
      "execution_count": null,
      "outputs": []
    }
  ],
  "metadata": {
    "kernelspec": {
      "display_name": "Python 3",
      "name": "python3"
    },
    "language_info": {
      "codemirror_mode": {
        "name": "ipython",
        "version": 3
      },
      "file_extension": ".py",
      "mimetype": "text/x-python",
      "name": "python",
      "nbconvert_exporter": "python",
      "pygments_lexer": "ipython3",
      "version": "3.10.13"
    },
    "colab": {
      "provenance": [],
      "gpuType": "T4"
    },
    "accelerator": "GPU"
  },
  "nbformat": 4,
  "nbformat_minor": 0
}