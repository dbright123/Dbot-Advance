{
  "cells": [
    {
      "cell_type": "markdown",
      "metadata": {
        "colab_type": "text",
        "id": "view-in-github"
      },
      "source": [
        "<a href=\"https://colab.research.google.com/github/dbright123/Dbot-Advance/blob/main/lstm_predict.ipynb\" target=\"_parent\"><img src=\"https://colab.research.google.com/assets/colab-badge.svg\" alt=\"Open In Colab\"/></a>"
      ]
    },
    {
      "cell_type": "code",
      "execution_count": 1,
      "metadata": {
        "id": "Z1oCaggK4VKR"
      },
      "outputs": [],
      "source": [
        "import MetaTrader5 as mt5\n",
        "import numpy as np\n",
        "import pandas as pd\n",
        "\n",
        "\n",
        "\n"
      ]
    },
    {
      "cell_type": "code",
      "execution_count": 3,
      "metadata": {
        "id": "btJoWVAx4VKS",
        "outputId": "077d53d7-b8ac-4d3c-9251-3f449e68e0f3"
      },
      "outputs": [
        {
          "name": "stdout",
          "output_type": "stream",
          "text": [
            "MetaTrader5 package author:  MetaQuotes Ltd.\n",
            "MetaTrader5 package version:  5.0.4200\n",
            "True\n",
            "{'login': 213644473, 'trade_mode': 0, 'leverage': 1000, 'limit_orders': 500, 'margin_so_mode': 0, 'trade_allowed': True, 'trade_expert': True, 'margin_mode': 2, 'currency_digits': 2, 'fifo_close': False, 'balance': 200.0, 'credit': 0.0, 'profit': 0.0, 'equity': 200.0, 'margin': 0.0, 'margin_free': 200.0, 'margin_level': 0.0, 'margin_so_call': 25.0, 'margin_so_so': 15.0, 'margin_initial': 0.0, 'margin_maintenance': 0.0, 'assets': 0.0, 'liabilities': 0.0, 'commission_blocked': 0.0, 'name': 'micheal bright omage ', 'server': 'OctaFX-Demo', 'currency': 'USD', 'company': 'Octa Markets Incorporated'}\n",
            "\n",
            "\n",
            "{'community_account': False, 'community_connection': False, 'connected': True, 'dlls_allowed': False, 'trade_allowed': True, 'tradeapi_disabled': False, 'email_enabled': False, 'ftp_enabled': False, 'notifications_enabled': False, 'mqid': True, 'build': 5370, 'maxbars': 100000000, 'codepage': 0, 'ping_last': 216691, 'community_balance': 0.0, 'retransmission': 0.0, 'company': 'MetaQuotes Software Corp.', 'name': 'MetaTrader 5', 'language': 'English', 'path': 'C:\\\\Program Files\\\\MetaTrader 5', 'data_path': 'C:\\\\Program Files\\\\MetaTrader 5', 'commondata_path': 'C:\\\\Users\\\\omage\\\\AppData\\\\Roaming\\\\MetaQuotes\\\\Terminal\\\\Common'}\n",
            "\n",
            "\n",
            "280\n"
          ]
        }
      ],
      "source": [
        "print(\"MetaTrader5 package author: \",mt5.__author__)\n",
        "print(\"MetaTrader5 package version: \",mt5.__version__)\n",
        "\n",
        "trade_active = mt5.initialize()\n",
        "\n",
        "print(trade_active)\n",
        "\n",
        "if not trade_active:\n",
        "    print('Initialization failed, check internet connection. You must have Meta Trader 5 installed.')\n",
        "    mt5.shutdown()\n",
        "\n",
        "else:\n",
        "    print(mt5.account_info()._asdict())\n",
        "    print(\"\\n\")\n",
        "    print(mt5.terminal_info()._asdict())\n",
        "    print(\"\\n\")\n",
        "    print(mt5.symbols_total())"
      ]
    },
    {
      "cell_type": "code",
      "execution_count": 4,
      "metadata": {
        "id": "ep9xWhDh4VKU",
        "outputId": "31c79ec1-fd31-4335-d881-2db8f23fed61"
      },
      "outputs": [
        {
          "name": "stdout",
          "output_type": "stream",
          "text": [
            "200.0\n",
            "AI is successfully functional\n"
          ]
        }
      ],
      "source": [
        "account = mt5.account_info()\n",
        "terminal = mt5.terminal_info()\n",
        "\n",
        "print(account.equity)\n",
        "\n",
        "if(terminal.connected == True or terminal.trade_allowed == True):\n",
        "    print(\"AI is successfully functional\")\n",
        "else:\n",
        "    print(\"Please make sure metatrade 5 has internet and algo Trade is Turn On\")"
      ]
    },
    {
      "cell_type": "code",
      "execution_count": 5,
      "metadata": {
        "id": "Cm6_C7cwJaFl",
        "outputId": "14ed083f-33ea-49ce-81da-0259753f3a03"
      },
      "outputs": [
        {
          "name": "stdout",
          "output_type": "stream",
          "text": [
            "280\n",
            "Yes  EURUSD\n",
            "Yes  GBPUSD\n",
            "Yes  USDJPY\n",
            "Yes  USDCHF\n",
            "Yes  AUDUSD\n",
            "Yes  NZDUSD\n",
            "Yes  USDCAD\n",
            "Yes  USDMXN\n",
            "Yes  USDZAR\n",
            "Yes  XAGUSD\n",
            "Yes  XAUUSD\n",
            "Yes  XBRUSD\n",
            "Yes  XTIUSD\n",
            "Yes  XNGUSD\n",
            "Yes  BTCUSD\n",
            "Yes  ETHUSD\n",
            "Yes  LTCUSD\n",
            "Yes  XRPUSD\n",
            "Yes  BCHUSD\n",
            "Yes  AAVEUSD\n",
            "Yes  ADAUSD\n",
            "Yes  ALGOUSD\n",
            "Yes  ATOMUSD\n",
            "Yes  AVAXUSD\n",
            "Yes  AXSUSD\n",
            "Yes  BNBUSD\n",
            "Yes  DASHUSD\n",
            "Yes  DOGEUSD\n",
            "Yes  DOTUSD\n",
            "Yes  FILUSD\n",
            "Yes  GRTUSD\n",
            "Yes  ICPUSD\n",
            "Yes  IOTAUSD\n",
            "Yes  LINKUSD\n",
            "Yes  LRCUSD\n",
            "Yes  MANAUSD\n",
            "Yes  NEARUSD\n",
            "Yes  SOLUSD\n",
            "Yes  UNIUSD\n",
            "Yes  ZECUSD\n",
            "Yes  ETCUSD\n",
            "Yes  TRXUSD\n",
            "Yes  FETUSD\n",
            "Yes  ARBUSD\n",
            "Yes  APTUSD\n",
            "Yes  SUIUSD\n",
            "Yes  USDDKK\n",
            "Yes  USDCZK\n",
            "Yes  USDHUF\n",
            "Yes  USDNOK\n",
            "Yes  USDPLN\n",
            "Yes  USDSEK\n",
            "Yes  USDSGD\n",
            "Yes  USDHKD\n",
            "Yes  USDCNH\n",
            "Yes  USDTRY\n",
            "Yes  XBRUSD.Daily\n",
            "Yes  XTIUSD.Daily\n",
            "Yes  BTCUSD.Daily\n",
            "Yes  ETHUSD.Daily\n",
            "Yes  XRPUSD.Daily\n",
            "Yes  LTCUSD.Daily\n",
            "Yes  BCHUSD.Daily\n",
            "Yes  LINKUSD.Daily\n",
            "Yes  SOLUSD.Daily\n",
            "65\n"
          ]
        }
      ],
      "source": [
        "symbols = mt5.symbols_get()\n",
        "print(len(symbols))\n",
        "t_symbol = []\n",
        "for symbol in symbols:\n",
        "    if \"USD\" in symbol.name:\n",
        "        print(\"Yes \", symbol.name)\n",
        "        t_symbol.append(symbol.name)\n",
        "\n",
        "print(len(t_symbol))"
      ]
    },
    {
      "cell_type": "code",
      "execution_count": 28,
      "metadata": {},
      "outputs": [
        {
          "data": {
            "text/plain": [
              "array([(1311242400, 1.3690000e+01, 1.3780000e+01, 1.3400000e+01, 1.3610000e+01,   69,    0, 0),\n",
              "       (1311328800, 1.3610000e+01, 1.3810000e+01, 1.3450000e+01, 1.3700000e+01,   64,    0, 0),\n",
              "       (1311415200, 1.3700000e+01, 1.3760000e+01, 1.3510000e+01, 1.3680000e+01,   49,    0, 0),\n",
              "       ...,\n",
              "       (1760819100, 1.0678301e+05, 1.0696346e+05, 1.0676581e+05, 1.0693836e+05, 1293, 2250, 0),\n",
              "       (1760819400, 1.0693651e+05, 1.0697401e+05, 1.0681261e+05, 1.0685496e+05, 1250, 2252, 0),\n",
              "       (1760819700, 1.0685331e+05, 1.0688001e+05, 1.0683882e+05, 1.0686067e+05,  556, 2252, 0)],\n",
              "      dtype=[('time', '<i8'), ('open', '<f8'), ('high', '<f8'), ('low', '<f8'), ('close', '<f8'), ('tick_volume', '<u8'), ('spread', '<i4'), ('real_volume', '<u8')])"
            ]
          },
          "metadata": {},
          "output_type": "display_data"
        },
        {
          "name": "stdout",
          "output_type": "stream",
          "text": [
            "(719038,)\n",
            "BTCUSD\n"
          ]
        }
      ],
      "source": [
        "t_s = \"BTCUSD\"\n",
        "market = mt5.copy_rates_from_pos(t_s, mt5.TIMEFRAME_M5, 0, 10000000)\n",
        "display(market)\n",
        "print(market.shape)\n",
        "\n",
        "print(t_s)\n",
        "\n",
        "\n",
        "data = []\n",
        "for i in range(len(market)):\n",
        "    data.append([market[i][1],market[i][2],market[i][3],market[i][4],market[i][5]])\n",
        "df = pd.DataFrame(data, columns=[\"open\", \"high\",\"low\", \"close\", \"volume\"])\n",
        "df.to_csv(\"Generated\"+t_s+\" dbot.csv\", index=False)"
      ]
    },
    {
      "cell_type": "code",
      "execution_count": 6,
      "metadata": {
        "id": "hjdWs03YJaFm",
        "outputId": "65b3d587-0c44-45ea-8550-33b17d991ad6"
      },
      "outputs": [
        {
          "data": {
            "text/plain": [
              "['symbol.joblib']"
            ]
          },
          "execution_count": 6,
          "metadata": {},
          "output_type": "execute_result"
        }
      ],
      "source": [
        "import joblib\n",
        "\n",
        "joblib.dump(t_symbol,\"symbol.joblib\")"
      ]
    },
    {
      "cell_type": "code",
      "execution_count": 1,
      "metadata": {
        "id": "M8QyUXsy4op6"
      },
      "outputs": [
        {
          "name": "stdout",
          "output_type": "stream",
          "text": [
            "2.10.1\n"
          ]
        }
      ],
      "source": [
        "import numpy as np # linear algebra\n",
        "import pandas as pd # data processing, CSV file I/O (e.g. pd.read_csv)\n",
        "import tensorflow as tf\n",
        "print(tf.__version__)\n"
      ]
    },
    {
      "cell_type": "code",
      "execution_count": 2,
      "metadata": {
        "id": "PqACycZPJaFn"
      },
      "outputs": [],
      "source": [
        "from sklearn.preprocessing import MinMaxScaler, StandardScaler\n",
        "from sklearn.metrics import mean_squared_error, mean_absolute_error\n",
        "import joblib\n",
        "import os\n",
        "from sklearn.model_selection import train_test_split\n",
        "import numpy as np\n",
        "from sklearn.preprocessing import MinMaxScaler\n",
        "from scaler3d2d import preprocess_and_save_scalers,transform_data, inverse_transform_data,create_sequences\n",
        "\n"
      ]
    },
    {
      "cell_type": "code",
      "execution_count": 3,
      "metadata": {
        "id": "tpswK5-7JaFo"
      },
      "outputs": [],
      "source": [
        "from tensorflow.keras.optimizers import SGD,Adam\n",
        "import matplotlib.pyplot as plt\n",
        "\n",
        "\n",
        "\n",
        "from tensorflow.keras import Model\n",
        "from tensorflow.keras.layers import Input, LSTM, Dense, Dropout, BatchNormalization, LayerNormalization, Bidirectional\n",
        "from tensorflow.keras.callbacks import EarlyStopping, ReduceLROnPlateau, ModelCheckpoint\n",
        "\n",
        "from sklearn.metrics import r2_score\n",
        "from tensorflow.keras.models import load_model\n",
        "import keras"
      ]
    },
    {
      "cell_type": "code",
      "execution_count": 4,
      "metadata": {
        "id": "e5GJ3N6HJaFo"
      },
      "outputs": [],
      "source": [
        "# Get the list of all files and directories in the specified path\n",
        "\n",
        "dir_contents = os.listdir(\".\")\n",
        "t_symbol = joblib.load(\"symbol.joblib\")"
      ]
    },
    {
      "cell_type": "code",
      "execution_count": 5,
      "metadata": {
        "colab": {
          "base_uri": "https://localhost:8080/"
        },
        "id": "G82RO07oi6t1",
        "outputId": "679b1771-f61c-499c-811d-b960d68c7a8d"
      },
      "outputs": [
        {
          "name": "stdout",
          "output_type": "stream",
          "text": [
            "['EURUSD', 'GBPUSD', 'USDJPY', 'USDCHF', 'AUDUSD', 'NZDUSD', 'USDCAD', 'USDMXN', 'USDZAR', 'XAGUSD', 'XAUUSD', 'XBRUSD', 'XTIUSD', 'XNGUSD', 'BTCUSD', 'ETHUSD', 'LTCUSD', 'XRPUSD', 'BCHUSD', 'AAVEUSD', 'ADAUSD', 'ALGOUSD', 'ATOMUSD', 'AVAXUSD', 'AXSUSD', 'BNBUSD', 'DASHUSD', 'DOGEUSD', 'DOTUSD', 'FILUSD', 'GRTUSD', 'ICPUSD', 'IOTAUSD', 'LINKUSD', 'LRCUSD', 'MANAUSD', 'NEARUSD', 'SOLUSD', 'UNIUSD', 'ZECUSD', 'ETCUSD', 'TRXUSD', 'FETUSD', 'ARBUSD', 'APTUSD', 'SUIUSD', 'USDDKK', 'USDCZK', 'USDHUF', 'USDNOK', 'USDPLN', 'USDSEK', 'USDSGD', 'USDHKD', 'USDCNH', 'USDTRY', 'XBRUSD.Daily', 'XTIUSD.Daily', 'BTCUSD.Daily', 'ETHUSD.Daily', 'XRPUSD.Daily', 'LTCUSD.Daily', 'BCHUSD.Daily', 'LINKUSD.Daily', 'SOLUSD.Daily']\n"
          ]
        }
      ],
      "source": [
        "print(t_symbol)"
      ]
    },
    {
      "cell_type": "code",
      "execution_count": 6,
      "metadata": {
        "id": "UC2tpiHOpgVu"
      },
      "outputs": [],
      "source": [
        "t_symbol = [\"BTCUSD\"]"
      ]
    },
    {
      "cell_type": "code",
      "execution_count": 7,
      "metadata": {
        "colab": {
          "base_uri": "https://localhost:8080/"
        },
        "id": "L9Urbl8tJaFp",
        "outputId": "b6299a2a-23c2-42c6-8f42-2268afe6c8e7"
      },
      "outputs": [
        {
          "name": "stdout",
          "output_type": "stream",
          "text": [
            "GeneratedBTCUSD dbot.csv\n",
            "----------------------------------------------------\n",
            "1\n",
            "1\n"
          ]
        }
      ],
      "source": [
        "\n",
        "# Filter the list to include only files, not directories\n",
        "# os.path.join is used to create a full path for isfile() to check\n",
        "files = [item for item in dir_contents]\n",
        "\n",
        "file_target = []\n",
        "test_target = []\n",
        "\n",
        "for filename in files:\n",
        "    for t_s in t_symbol:\n",
        "        if t_s in filename  and \"dbot.csv\" in filename:\n",
        "            print(filename)\n",
        "            file_target.append(filename)\n",
        "            test_target.append(filename.replace(\"dbot\",\"test\"))\n",
        "\n",
        "print(\"----------------------------------------------------\")\n",
        "\n",
        "print(len(file_target))\n",
        "print(len(test_target))\n",
        "train_dfs = []\n",
        "for f_t in file_target:\n",
        "    train_dfs.append(pd.read_csv(f_t))\n",
        "try:\n",
        "    train_dfs_test = []\n",
        "    for f_t in test_target:\n",
        "        train_dfs_test.append(pd.read_csv(f_t))\n",
        "except:\n",
        "    pass"
      ]
    },
    {
      "cell_type": "code",
      "execution_count": 8,
      "metadata": {},
      "outputs": [],
      "source": [
        "\n",
        "import ta  # Technical Analysis library\n",
        "\n",
        "def engineer_features_5min_btc(df):\n",
        "    \"\"\"\n",
        "    Input: df with columns ['timestamp', 'open', 'high', 'low', 'close', 'volume']\n",
        "    Output: df with 68 features\n",
        "    \"\"\"\n",
        "    \n",
        "    # GROUP 1: Core Price Features\n",
        "    df['typical_price'] = (df['high'] + df['low'] + df['close']) / 3\n",
        "    df['weighted_close'] = (df['high'] + df['low'] + 2*df['close']) / 4\n",
        "    df['hl_range'] = df['high'] - df['low']\n",
        "    df['body_size'] = abs(df['close'] - df['open'])\n",
        "    df['upper_wick'] = df['high'] - df[['open', 'close']].max(axis=1)\n",
        "    df['lower_wick'] = df[['open', 'close']].min(axis=1) - df['low']\n",
        "    \n",
        "    # GROUP 2: Volume Features\n",
        "    df['volume_usd'] = df['volume'] * df['close']\n",
        "    df['volume_ma10'] = df['volume'].rolling(10).mean()\n",
        "    df['volume_ratio'] = df['volume'] / df['volume_ma10']\n",
        "    df['volume_delta'] = df['volume'].diff()\n",
        "    df['vwap'] = (df['typical_price'] * df['volume']).cumsum() / df['volume'].cumsum()\n",
        "    df['distance_to_vwap'] = (df['close'] - df['vwap']) / df['close']\n",
        "    df['obv'] = (np.sign(df['close'].diff()) * df['volume']).fillna(0).cumsum()\n",
        "    \n",
        "    # GROUP 3: Price Momentum\n",
        "    df['price_change'] = df['close'].diff()\n",
        "    df['price_change_pct'] = df['close'].pct_change() * 100\n",
        "    df['price_change_5'] = df['close'].diff(5)\n",
        "    df['price_change_12'] = df['close'].diff(12)\n",
        "    df['roc_10'] = ((df['close'] - df['close'].shift(10)) / df['close'].shift(10)) * 100\n",
        "    df['roc_20'] = ((df['close'] - df['close'].shift(20)) / df['close'].shift(20)) * 100\n",
        "    df['momentum_10'] = df['close'] - df['close'].shift(10)\n",
        "    \n",
        "    # RSI\n",
        "    df['rsi_14'] = ta.momentum.RSIIndicator(df['close'], window=14).rsi()\n",
        "    df['rsi_7'] = ta.momentum.RSIIndicator(df['close'], window=7).rsi()\n",
        "    \n",
        "    # Stochastic\n",
        "    stoch = ta.momentum.StochasticOscillator(df['high'], df['low'], df['close'], \n",
        "                                             window=14, smooth_window=3)\n",
        "    df['stoch_k'] = stoch.stoch()\n",
        "    df['stoch_d'] = stoch.stoch_signal()\n",
        "    \n",
        "    # Williams %R\n",
        "    df['williams_r'] = ta.momentum.WilliamsRIndicator(df['high'], df['low'], df['close'], \n",
        "                                                       lbp=14).williams_r()\n",
        "    \n",
        "    # GROUP 4: Trend Features\n",
        "    df['sma_10'] = df['close'].rolling(10).mean()\n",
        "    df['sma_20'] = df['close'].rolling(20).mean()\n",
        "    df['sma_50'] = df['close'].rolling(50).mean()\n",
        "    df['ema_9'] = df['close'].ewm(span=9, adjust=False).mean()\n",
        "    df['ema_21'] = df['close'].ewm(span=21, adjust=False).mean()\n",
        "    df['distance_to_sma10'] = (df['close'] - df['sma_10']) / df['close']\n",
        "    df['distance_to_sma50'] = (df['close'] - df['sma_50']) / df['close']\n",
        "    df['sma10_slope'] = df['sma_10'].diff(5)\n",
        "    df['sma50_slope'] = df['sma_50'].diff(5)\n",
        "    \n",
        "    # ADX\n",
        "    adx = ta.trend.ADXIndicator(df['high'], df['low'], df['close'], window=14)\n",
        "    df['adx_14'] = adx.adx()\n",
        "    df['plus_di'] = adx.adx_pos()\n",
        "    df['minus_di'] = adx.adx_neg()\n",
        "    \n",
        "    # GROUP 5: Volatility Features\n",
        "    df['atr_14'] = ta.volatility.AverageTrueRange(df['high'], df['low'], df['close'], \n",
        "                                                   window=14).average_true_range()\n",
        "    df['atr_normalized'] = df['atr_14'] / df['close']\n",
        "    \n",
        "    # Bollinger Bands\n",
        "    bb = ta.volatility.BollingerBands(df['close'], window=20, window_dev=2)\n",
        "    df['bb_upper'] = bb.bollinger_hband()\n",
        "    df['bb_lower'] = bb.bollinger_lband()\n",
        "    df['bb_width'] = (df['bb_upper'] - df['bb_lower']) / df['sma_20']\n",
        "    df['bb_position'] = (df['close'] - df['bb_lower']) / (df['bb_upper'] - df['bb_lower'])\n",
        "    \n",
        "    df['stddev_20'] = df['close'].pct_change().rolling(20).std()\n",
        "    df['historical_vol'] = df['close'].pct_change().rolling(20).std() * np.sqrt(288)  # 288 5-min periods in a day\n",
        "    \n",
        "    # GROUP 6: MACD Features\n",
        "    macd = ta.trend.MACD(df['close'], window_slow=26, window_fast=12, window_sign=9)\n",
        "    df['macd_line'] = macd.macd()\n",
        "    df['macd_signal'] = macd.macd_signal()\n",
        "    df['macd_histogram'] = macd.macd_diff()\n",
        "    \n",
        "\n",
        "    \n",
        "    # GROUP 7: Support/Resistance Features\n",
        "    df['recent_high_20'] = df['high'].rolling(20).max()\n",
        "    df['recent_low_20'] = df['low'].rolling(20).min()\n",
        "    df['distance_to_high'] = (df['recent_high_20'] - df['close']) / df['close']\n",
        "    df['distance_to_low'] = (df['close'] - df['recent_low_20']) / df['close']\n",
        "    df['pivot_point'] = (df['high'].shift(1) + df['low'].shift(1) + df['close'].shift(1)) / 3\n",
        "    df['range_position'] = (df['close'] - df['low']) / (df['high'] - df['low'])\n",
        "    \n",
        "    return df\n",
        "\n",
        "# Usage:\n",
        "# df = pd.read_csv('btcusd_5min.csv')\n",
        "# df = engineer_features_5min_btc(df)"
      ]
    },
    {
      "cell_type": "code",
      "execution_count": 9,
      "metadata": {},
      "outputs": [],
      "source": [
        "n = 0\n",
        "m_label = file_target[n].replace(\"dbot.csv\",\"\")\n",
        "train_df = train_dfs[n]\n",
        "train_df = engineer_features_5min_btc(train_df)[200:]"
      ]
    },
    {
      "cell_type": "code",
      "execution_count": 10,
      "metadata": {},
      "outputs": [
        {
          "data": {
            "text/html": [
              "<div>\n",
              "<style scoped>\n",
              "    .dataframe tbody tr th:only-of-type {\n",
              "        vertical-align: middle;\n",
              "    }\n",
              "\n",
              "    .dataframe tbody tr th {\n",
              "        vertical-align: top;\n",
              "    }\n",
              "\n",
              "    .dataframe thead th {\n",
              "        text-align: right;\n",
              "    }\n",
              "</style>\n",
              "<table border=\"1\" class=\"dataframe\">\n",
              "  <thead>\n",
              "    <tr style=\"text-align: right;\">\n",
              "      <th></th>\n",
              "      <th>open</th>\n",
              "      <th>high</th>\n",
              "      <th>low</th>\n",
              "      <th>close</th>\n",
              "      <th>volume</th>\n",
              "      <th>typical_price</th>\n",
              "      <th>weighted_close</th>\n",
              "      <th>hl_range</th>\n",
              "      <th>body_size</th>\n",
              "      <th>upper_wick</th>\n",
              "      <th>...</th>\n",
              "      <th>historical_vol</th>\n",
              "      <th>macd_line</th>\n",
              "      <th>macd_signal</th>\n",
              "      <th>macd_histogram</th>\n",
              "      <th>recent_high_20</th>\n",
              "      <th>recent_low_20</th>\n",
              "      <th>distance_to_high</th>\n",
              "      <th>distance_to_low</th>\n",
              "      <th>pivot_point</th>\n",
              "      <th>range_position</th>\n",
              "    </tr>\n",
              "  </thead>\n",
              "  <tbody>\n",
              "    <tr>\n",
              "      <th>200</th>\n",
              "      <td>5.60</td>\n",
              "      <td>5.92</td>\n",
              "      <td>5.50</td>\n",
              "      <td>5.83</td>\n",
              "      <td>62</td>\n",
              "      <td>5.750000</td>\n",
              "      <td>5.7700</td>\n",
              "      <td>0.42</td>\n",
              "      <td>0.23</td>\n",
              "      <td>0.09</td>\n",
              "      <td>...</td>\n",
              "      <td>0.787835</td>\n",
              "      <td>0.000637</td>\n",
              "      <td>0.040796</td>\n",
              "      <td>-0.040159</td>\n",
              "      <td>6.55</td>\n",
              "      <td>5.05</td>\n",
              "      <td>0.123499</td>\n",
              "      <td>0.133791</td>\n",
              "      <td>5.583333</td>\n",
              "      <td>0.785714</td>\n",
              "    </tr>\n",
              "    <tr>\n",
              "      <th>201</th>\n",
              "      <td>5.83</td>\n",
              "      <td>5.99</td>\n",
              "      <td>5.80</td>\n",
              "      <td>5.91</td>\n",
              "      <td>31</td>\n",
              "      <td>5.900000</td>\n",
              "      <td>5.9025</td>\n",
              "      <td>0.19</td>\n",
              "      <td>0.08</td>\n",
              "      <td>0.08</td>\n",
              "      <td>...</td>\n",
              "      <td>0.770822</td>\n",
              "      <td>0.013537</td>\n",
              "      <td>0.035344</td>\n",
              "      <td>-0.021807</td>\n",
              "      <td>6.45</td>\n",
              "      <td>5.05</td>\n",
              "      <td>0.091371</td>\n",
              "      <td>0.145516</td>\n",
              "      <td>5.750000</td>\n",
              "      <td>0.578947</td>\n",
              "    </tr>\n",
              "    <tr>\n",
              "      <th>202</th>\n",
              "      <td>5.91</td>\n",
              "      <td>6.00</td>\n",
              "      <td>5.54</td>\n",
              "      <td>5.60</td>\n",
              "      <td>62</td>\n",
              "      <td>5.713333</td>\n",
              "      <td>5.6850</td>\n",
              "      <td>0.46</td>\n",
              "      <td>0.31</td>\n",
              "      <td>0.09</td>\n",
              "      <td>...</td>\n",
              "      <td>0.788839</td>\n",
              "      <td>-0.001239</td>\n",
              "      <td>0.028027</td>\n",
              "      <td>-0.029267</td>\n",
              "      <td>6.39</td>\n",
              "      <td>5.05</td>\n",
              "      <td>0.141071</td>\n",
              "      <td>0.098214</td>\n",
              "      <td>5.900000</td>\n",
              "      <td>0.130435</td>\n",
              "    </tr>\n",
              "    <tr>\n",
              "      <th>203</th>\n",
              "      <td>5.60</td>\n",
              "      <td>5.85</td>\n",
              "      <td>5.43</td>\n",
              "      <td>5.51</td>\n",
              "      <td>76</td>\n",
              "      <td>5.596667</td>\n",
              "      <td>5.5750</td>\n",
              "      <td>0.42</td>\n",
              "      <td>0.09</td>\n",
              "      <td>0.25</td>\n",
              "      <td>...</td>\n",
              "      <td>0.788166</td>\n",
              "      <td>-0.019982</td>\n",
              "      <td>0.018426</td>\n",
              "      <td>-0.038407</td>\n",
              "      <td>6.39</td>\n",
              "      <td>5.05</td>\n",
              "      <td>0.159710</td>\n",
              "      <td>0.083485</td>\n",
              "      <td>5.713333</td>\n",
              "      <td>0.190476</td>\n",
              "    </tr>\n",
              "    <tr>\n",
              "      <th>204</th>\n",
              "      <td>5.51</td>\n",
              "      <td>5.72</td>\n",
              "      <td>5.20</td>\n",
              "      <td>5.26</td>\n",
              "      <td>80</td>\n",
              "      <td>5.393333</td>\n",
              "      <td>5.3600</td>\n",
              "      <td>0.52</td>\n",
              "      <td>0.25</td>\n",
              "      <td>0.21</td>\n",
              "      <td>...</td>\n",
              "      <td>0.802053</td>\n",
              "      <td>-0.054382</td>\n",
              "      <td>0.003864</td>\n",
              "      <td>-0.058246</td>\n",
              "      <td>6.32</td>\n",
              "      <td>5.05</td>\n",
              "      <td>0.201521</td>\n",
              "      <td>0.039924</td>\n",
              "      <td>5.596667</td>\n",
              "      <td>0.115385</td>\n",
              "    </tr>\n",
              "    <tr>\n",
              "      <th>...</th>\n",
              "      <td>...</td>\n",
              "      <td>...</td>\n",
              "      <td>...</td>\n",
              "      <td>...</td>\n",
              "      <td>...</td>\n",
              "      <td>...</td>\n",
              "      <td>...</td>\n",
              "      <td>...</td>\n",
              "      <td>...</td>\n",
              "      <td>...</td>\n",
              "      <td>...</td>\n",
              "      <td>...</td>\n",
              "      <td>...</td>\n",
              "      <td>...</td>\n",
              "      <td>...</td>\n",
              "      <td>...</td>\n",
              "      <td>...</td>\n",
              "      <td>...</td>\n",
              "      <td>...</td>\n",
              "      <td>...</td>\n",
              "      <td>...</td>\n",
              "    </tr>\n",
              "    <tr>\n",
              "      <th>719033</th>\n",
              "      <td>106723.29</td>\n",
              "      <td>106806.71</td>\n",
              "      <td>106714.88</td>\n",
              "      <td>106762.63</td>\n",
              "      <td>730</td>\n",
              "      <td>106761.406667</td>\n",
              "      <td>106761.7125</td>\n",
              "      <td>91.83</td>\n",
              "      <td>39.34</td>\n",
              "      <td>44.08</td>\n",
              "      <td>...</td>\n",
              "      <td>0.012526</td>\n",
              "      <td>-78.687321</td>\n",
              "      <td>-81.674173</td>\n",
              "      <td>2.986852</td>\n",
              "      <td>107091.38</td>\n",
              "      <td>106477.18</td>\n",
              "      <td>0.003079</td>\n",
              "      <td>0.002674</td>\n",
              "      <td>106688.386667</td>\n",
              "      <td>0.519983</td>\n",
              "    </tr>\n",
              "    <tr>\n",
              "      <th>719034</th>\n",
              "      <td>106761.08</td>\n",
              "      <td>106787.62</td>\n",
              "      <td>106728.97</td>\n",
              "      <td>106783.06</td>\n",
              "      <td>917</td>\n",
              "      <td>106766.550000</td>\n",
              "      <td>106770.6775</td>\n",
              "      <td>58.65</td>\n",
              "      <td>21.98</td>\n",
              "      <td>4.56</td>\n",
              "      <td>...</td>\n",
              "      <td>0.012555</td>\n",
              "      <td>-68.520832</td>\n",
              "      <td>-79.043505</td>\n",
              "      <td>10.522672</td>\n",
              "      <td>107091.38</td>\n",
              "      <td>106477.18</td>\n",
              "      <td>0.002887</td>\n",
              "      <td>0.002864</td>\n",
              "      <td>106761.406667</td>\n",
              "      <td>0.922251</td>\n",
              "    </tr>\n",
              "    <tr>\n",
              "      <th>719035</th>\n",
              "      <td>106783.01</td>\n",
              "      <td>106963.46</td>\n",
              "      <td>106765.81</td>\n",
              "      <td>106938.36</td>\n",
              "      <td>1293</td>\n",
              "      <td>106889.210000</td>\n",
              "      <td>106901.4975</td>\n",
              "      <td>197.65</td>\n",
              "      <td>155.35</td>\n",
              "      <td>25.10</td>\n",
              "      <td>...</td>\n",
              "      <td>0.013780</td>\n",
              "      <td>-47.386167</td>\n",
              "      <td>-72.712037</td>\n",
              "      <td>25.325871</td>\n",
              "      <td>107091.38</td>\n",
              "      <td>106477.18</td>\n",
              "      <td>0.001431</td>\n",
              "      <td>0.004313</td>\n",
              "      <td>106766.550000</td>\n",
              "      <td>0.873008</td>\n",
              "    </tr>\n",
              "    <tr>\n",
              "      <th>719036</th>\n",
              "      <td>106936.51</td>\n",
              "      <td>106974.01</td>\n",
              "      <td>106812.61</td>\n",
              "      <td>106854.96</td>\n",
              "      <td>1250</td>\n",
              "      <td>106880.526667</td>\n",
              "      <td>106874.1350</td>\n",
              "      <td>161.40</td>\n",
              "      <td>81.55</td>\n",
              "      <td>37.50</td>\n",
              "      <td>...</td>\n",
              "      <td>0.013972</td>\n",
              "      <td>-36.940646</td>\n",
              "      <td>-65.557759</td>\n",
              "      <td>28.617113</td>\n",
              "      <td>107091.38</td>\n",
              "      <td>106477.18</td>\n",
              "      <td>0.002213</td>\n",
              "      <td>0.003535</td>\n",
              "      <td>106889.210000</td>\n",
              "      <td>0.262392</td>\n",
              "    </tr>\n",
              "    <tr>\n",
              "      <th>719037</th>\n",
              "      <td>106853.31</td>\n",
              "      <td>106880.01</td>\n",
              "      <td>106838.82</td>\n",
              "      <td>106860.67</td>\n",
              "      <td>556</td>\n",
              "      <td>106859.833333</td>\n",
              "      <td>106860.0425</td>\n",
              "      <td>41.19</td>\n",
              "      <td>7.36</td>\n",
              "      <td>19.34</td>\n",
              "      <td>...</td>\n",
              "      <td>0.013930</td>\n",
              "      <td>-27.880359</td>\n",
              "      <td>-58.022279</td>\n",
              "      <td>30.141920</td>\n",
              "      <td>107091.38</td>\n",
              "      <td>106477.18</td>\n",
              "      <td>0.002159</td>\n",
              "      <td>0.003589</td>\n",
              "      <td>106880.526667</td>\n",
              "      <td>0.530469</td>\n",
              "    </tr>\n",
              "  </tbody>\n",
              "</table>\n",
              "<p>718838 rows × 59 columns</p>\n",
              "</div>"
            ],
            "text/plain": [
              "             open       high        low      close  volume  typical_price  \\\n",
              "200          5.60       5.92       5.50       5.83      62       5.750000   \n",
              "201          5.83       5.99       5.80       5.91      31       5.900000   \n",
              "202          5.91       6.00       5.54       5.60      62       5.713333   \n",
              "203          5.60       5.85       5.43       5.51      76       5.596667   \n",
              "204          5.51       5.72       5.20       5.26      80       5.393333   \n",
              "...           ...        ...        ...        ...     ...            ...   \n",
              "719033  106723.29  106806.71  106714.88  106762.63     730  106761.406667   \n",
              "719034  106761.08  106787.62  106728.97  106783.06     917  106766.550000   \n",
              "719035  106783.01  106963.46  106765.81  106938.36    1293  106889.210000   \n",
              "719036  106936.51  106974.01  106812.61  106854.96    1250  106880.526667   \n",
              "719037  106853.31  106880.01  106838.82  106860.67     556  106859.833333   \n",
              "\n",
              "        weighted_close  hl_range  body_size  upper_wick  ...  historical_vol  \\\n",
              "200             5.7700      0.42       0.23        0.09  ...        0.787835   \n",
              "201             5.9025      0.19       0.08        0.08  ...        0.770822   \n",
              "202             5.6850      0.46       0.31        0.09  ...        0.788839   \n",
              "203             5.5750      0.42       0.09        0.25  ...        0.788166   \n",
              "204             5.3600      0.52       0.25        0.21  ...        0.802053   \n",
              "...                ...       ...        ...         ...  ...             ...   \n",
              "719033     106761.7125     91.83      39.34       44.08  ...        0.012526   \n",
              "719034     106770.6775     58.65      21.98        4.56  ...        0.012555   \n",
              "719035     106901.4975    197.65     155.35       25.10  ...        0.013780   \n",
              "719036     106874.1350    161.40      81.55       37.50  ...        0.013972   \n",
              "719037     106860.0425     41.19       7.36       19.34  ...        0.013930   \n",
              "\n",
              "        macd_line  macd_signal  macd_histogram  recent_high_20  recent_low_20  \\\n",
              "200      0.000637     0.040796       -0.040159            6.55           5.05   \n",
              "201      0.013537     0.035344       -0.021807            6.45           5.05   \n",
              "202     -0.001239     0.028027       -0.029267            6.39           5.05   \n",
              "203     -0.019982     0.018426       -0.038407            6.39           5.05   \n",
              "204     -0.054382     0.003864       -0.058246            6.32           5.05   \n",
              "...           ...          ...             ...             ...            ...   \n",
              "719033 -78.687321   -81.674173        2.986852       107091.38      106477.18   \n",
              "719034 -68.520832   -79.043505       10.522672       107091.38      106477.18   \n",
              "719035 -47.386167   -72.712037       25.325871       107091.38      106477.18   \n",
              "719036 -36.940646   -65.557759       28.617113       107091.38      106477.18   \n",
              "719037 -27.880359   -58.022279       30.141920       107091.38      106477.18   \n",
              "\n",
              "        distance_to_high  distance_to_low    pivot_point  range_position  \n",
              "200             0.123499         0.133791       5.583333        0.785714  \n",
              "201             0.091371         0.145516       5.750000        0.578947  \n",
              "202             0.141071         0.098214       5.900000        0.130435  \n",
              "203             0.159710         0.083485       5.713333        0.190476  \n",
              "204             0.201521         0.039924       5.596667        0.115385  \n",
              "...                  ...              ...            ...             ...  \n",
              "719033          0.003079         0.002674  106688.386667        0.519983  \n",
              "719034          0.002887         0.002864  106761.406667        0.922251  \n",
              "719035          0.001431         0.004313  106766.550000        0.873008  \n",
              "719036          0.002213         0.003535  106889.210000        0.262392  \n",
              "719037          0.002159         0.003589  106880.526667        0.530469  \n",
              "\n",
              "[718838 rows x 59 columns]"
            ]
          },
          "metadata": {},
          "output_type": "display_data"
        }
      ],
      "source": [
        "display(train_df)"
      ]
    },
    {
      "cell_type": "code",
      "execution_count": 11,
      "metadata": {
        "colab": {
          "base_uri": "https://localhost:8080/"
        },
        "id": "FgfuQq2n2yc1",
        "outputId": "0784b3a8-b631-4e7f-8a48-75962084f30d"
      },
      "outputs": [
        {
          "name": "stdout",
          "output_type": "stream",
          "text": [
            "GeneratedBTCUSD \n",
            "[[1.06909880e+05 1.06967830e+05 1.06899240e+05 ... 2.72855429e-03\n",
            "  1.06916217e+05 6.39160227e-01]\n",
            " [1.06943230e+05 1.06965020e+05 1.06892990e+05 ... 2.65279719e-03\n",
            "  1.06936717e+05 7.04289879e-01]\n",
            " [1.06943170e+05 1.06943170e+05 1.06834170e+05 ... 2.36538319e-03\n",
            "  1.06933910e+05 7.22385321e-01]\n",
            " ...\n",
            " [1.06761080e+05 1.06787620e+05 1.06728970e+05 ... 2.86449929e-03\n",
            "  1.06761407e+05 9.22250639e-01]\n",
            " [1.06783010e+05 1.06963460e+05 1.06765810e+05 ... 4.31257783e-03\n",
            "  1.06766550e+05 8.73007842e-01]\n",
            " [1.06936510e+05 1.06974010e+05 1.06812610e+05 ... 3.53544655e-03\n",
            "  1.06889210e+05 2.62391574e-01]]\n",
            "[106860.67]\n"
          ]
        }
      ],
      "source": [
        "\n",
        "#train_df_test = train_dfs_test[n]\n",
        "print(m_label)\n",
        "SEQ_LEN = 90 # length of input sequence (timesteps). Typical choices: 30, 60, 90\n",
        "n_rows, n_features = train_df.values.shape\n",
        "\n",
        "X, y = create_sequences(train_df.values, SEQ_LEN, 1, 3)  # X: (n_samples, SEQ_LEN, n_features), y: (n_samples, n_features)\n",
        "#X1, y1 = create_sequences(train_df.values, SEQ_LEN, 5)  # X: (n_samples, SEQ_LEN, n_features), y: (n_samples, n_features)\n",
        "\n",
        "n_samples = X.shape[0]\n",
        "print(X[-1])\n",
        "print(y[-1])"
      ]
    },
    {
      "cell_type": "code",
      "execution_count": 12,
      "metadata": {},
      "outputs": [
        {
          "name": "stdout",
          "output_type": "stream",
          "text": [
            "[[1.06909880e+05 1.06967830e+05 1.06899240e+05 ... 2.72855429e-03\n",
            "  1.06916217e+05 6.39160227e-01]\n",
            " [1.06943230e+05 1.06965020e+05 1.06892990e+05 ... 2.65279719e-03\n",
            "  1.06936717e+05 7.04289879e-01]\n",
            " [1.06943170e+05 1.06943170e+05 1.06834170e+05 ... 2.36538319e-03\n",
            "  1.06933910e+05 7.22385321e-01]\n",
            " ...\n",
            " [1.06761080e+05 1.06787620e+05 1.06728970e+05 ... 2.86449929e-03\n",
            "  1.06761407e+05 9.22250639e-01]\n",
            " [1.06783010e+05 1.06963460e+05 1.06765810e+05 ... 4.31257783e-03\n",
            "  1.06766550e+05 8.73007842e-01]\n",
            " [1.06936510e+05 1.06974010e+05 1.06812610e+05 ... 3.53544655e-03\n",
            "  1.06889210e+05 2.62391574e-01]]\n"
          ]
        }
      ],
      "source": [
        "print(X[-1])"
      ]
    },
    {
      "cell_type": "code",
      "execution_count": 13,
      "metadata": {},
      "outputs": [
        {
          "name": "stdout",
          "output_type": "stream",
          "text": [
            "Scaler for X saved to 'scaler_x.joblib'\n",
            "Scaler for Y saved to 'scaler_y.joblib'\n"
          ]
        }
      ],
      "source": [
        "X, y = preprocess_and_save_scalers(X, y)\n"
      ]
    },
    {
      "cell_type": "code",
      "execution_count": 14,
      "metadata": {
        "colab": {
          "base_uri": "https://localhost:8080/",
          "height": 408
        },
        "id": "5j_wkyXD5s_s",
        "outputId": "13511d5b-1acf-450a-8259-13ee9a53e3e9"
      },
      "outputs": [],
      "source": [
        "X_train, X_test, y_train, y_test = train_test_split(X, y, test_size=0.33, random_state=0, shuffle=False)\n",
        "X_val, X_test, y_val,  y_test = train_test_split(X_test, y_test, test_size=0.01, random_state=0, shuffle=False)\n",
        "\n",
        "seq_len = X_train.shape[1]\n",
        "n_features = X_train.shape[2]\n",
        "output_dim = y_train.shape[1]\n",
        "\n",
        "i = Input(shape=(seq_len, n_features))\n",
        "X = Bidirectional(LSTM(128, return_sequences=True))(i)\n",
        "X = BatchNormalization()(X)\n",
        "X = Dropout(0.5)(X)\n",
        "\n",
        "X = Bidirectional(LSTM(64, return_sequences=True))(X)\n",
        "X = BatchNormalization()(X)\n",
        "X = Dropout(0.5)(X)\n",
        "\n",
        "\n",
        "X = LSTM(32)(X)\n",
        "X = Dropout(0.25)(X)\n",
        "\n",
        "X = Dense(16, activation=\"relu\")(X)\n",
        "X = Dropout(0.25)(X)\n",
        "X = Dense(8, activation=\"relu\")(X)\n",
        "X = Dense(output_dim)(X)\n",
        "\n",
        "model = Model(i, X)\n",
        "model.summary()\n"
      ]
    },
    {
      "cell_type": "code",
      "execution_count": null,
      "metadata": {
        "colab": {
          "base_uri": "https://localhost:8080/"
        },
        "id": "i8q4twW84DPd",
        "outputId": "7749addf-c964-4642-d789-c97dd802c6c5"
      },
      "outputs": [
        {
          "name": "stdout",
          "output_type": "stream",
          "text": [
            "Epoch 1/100\n",
            "1/2 [==============>...............] - ETA: 5s - loss: 0.5734 - mae: 0.7337 - root_mean_squared_error: 0.7572 - mape: 115.9365 - msle: 0.2404\n",
            "Epoch 1: val_loss improved from inf to 0.19960, saving model to GeneratedBTCUSD lstm_best.keras\n",
            "2/2 [==============================] - 7s 1s/step - loss: 0.5068 - mae: 0.6823 - root_mean_squared_error: 0.7119 - mape: 105.9648 - msle: 0.2297 - val_loss: 0.1996 - val_mae: 0.3937 - val_root_mean_squared_error: 0.4468 - val_mape: 67041.2031 - val_msle: 0.1176 - lr: 0.0010\n",
            "Epoch 2/100\n",
            "2/2 [==============================] - ETA: 0s - loss: 0.2708 - mae: 0.4877 - root_mean_squared_error: 0.5204 - mape: 74.8812 - msle: 0.1431\n",
            "Epoch 2: val_loss improved from 0.19960 to 0.18162, saving model to GeneratedBTCUSD lstm_best.keras\n",
            "2/2 [==============================] - 0s 204ms/step - loss: 0.2708 - mae: 0.4877 - root_mean_squared_error: 0.5204 - mape: 74.8812 - msle: 0.1431 - val_loss: 0.1816 - val_mae: 0.3750 - val_root_mean_squared_error: 0.4262 - val_mape: 520381.9688 - val_msle: 0.1142 - lr: 0.0010\n",
            "Epoch 3/100\n",
            "2/2 [==============================] - ETA: 0s - loss: 0.0889 - mae: 0.2411 - root_mean_squared_error: 0.2982 - mape: 40.8325 - msle: 0.0349\n",
            "Epoch 3: val_loss improved from 0.18162 to 0.17563, saving model to GeneratedBTCUSD lstm_best.keras\n",
            "2/2 [==============================] - 0s 201ms/step - loss: 0.0889 - mae: 0.2411 - root_mean_squared_error: 0.2982 - mape: 40.8325 - msle: 0.0349 - val_loss: 0.1756 - val_mae: 0.3684 - val_root_mean_squared_error: 0.4191 - val_mape: 665776.5625 - val_msle: 0.1110 - lr: 0.0010\n",
            "Epoch 4/100\n",
            "2/2 [==============================] - ETA: 0s - loss: 0.1029 - mae: 0.2659 - root_mean_squared_error: 0.3207 - mape: 42.7931 - msle: 0.0372\n",
            "Epoch 4: val_loss improved from 0.17563 to 0.17193, saving model to GeneratedBTCUSD lstm_best.keras\n",
            "2/2 [==============================] - 0s 191ms/step - loss: 0.1029 - mae: 0.2659 - root_mean_squared_error: 0.3207 - mape: 42.7931 - msle: 0.0372 - val_loss: 0.1719 - val_mae: 0.3631 - val_root_mean_squared_error: 0.4146 - val_mape: 1241153.2500 - val_msle: 0.1086 - lr: 0.0010\n",
            "Epoch 5/100\n",
            "2/2 [==============================] - ETA: 0s - loss: 0.0806 - mae: 0.2403 - root_mean_squared_error: 0.2839 - mape: 39.5927 - msle: 0.0294\n",
            "Epoch 5: val_loss improved from 0.17193 to 0.16247, saving model to GeneratedBTCUSD lstm_best.keras\n",
            "2/2 [==============================] - 0s 179ms/step - loss: 0.0806 - mae: 0.2403 - root_mean_squared_error: 0.2839 - mape: 39.5927 - msle: 0.0294 - val_loss: 0.1625 - val_mae: 0.3501 - val_root_mean_squared_error: 0.4031 - val_mape: 2653106.5000 - val_msle: 0.1014 - lr: 0.0010\n",
            "Epoch 6/100\n",
            "2/2 [==============================] - ETA: 0s - loss: 0.0845 - mae: 0.2425 - root_mean_squared_error: 0.2907 - mape: 37.4006 - msle: 0.0361\n",
            "Epoch 6: val_loss improved from 0.16247 to 0.14296, saving model to GeneratedBTCUSD lstm_best.keras\n",
            "2/2 [==============================] - 0s 184ms/step - loss: 0.0845 - mae: 0.2425 - root_mean_squared_error: 0.2907 - mape: 37.4006 - msle: 0.0361 - val_loss: 0.1430 - val_mae: 0.3273 - val_root_mean_squared_error: 0.3781 - val_mape: 4254424.0000 - val_msle: 0.0869 - lr: 0.0010\n",
            "Epoch 7/100\n",
            "2/2 [==============================] - ETA: 0s - loss: 0.0814 - mae: 0.2347 - root_mean_squared_error: 0.2852 - mape: 35.0974 - msle: 0.0341\n",
            "Epoch 7: val_loss improved from 0.14296 to 0.12273, saving model to GeneratedBTCUSD lstm_best.keras\n",
            "2/2 [==============================] - 0s 178ms/step - loss: 0.0814 - mae: 0.2347 - root_mean_squared_error: 0.2852 - mape: 35.0974 - msle: 0.0341 - val_loss: 0.1227 - val_mae: 0.3012 - val_root_mean_squared_error: 0.3503 - val_mape: 6178325.0000 - val_msle: 0.0726 - lr: 0.0010\n",
            "Epoch 8/100\n",
            "2/2 [==============================] - ETA: 0s - loss: 0.0610 - mae: 0.1949 - root_mean_squared_error: 0.2470 - mape: 33.1375 - msle: 0.0223\n",
            "Epoch 8: val_loss improved from 0.12273 to 0.10379, saving model to GeneratedBTCUSD lstm_best.keras\n",
            "2/2 [==============================] - 0s 165ms/step - loss: 0.0610 - mae: 0.1949 - root_mean_squared_error: 0.2470 - mape: 33.1375 - msle: 0.0223 - val_loss: 0.1038 - val_mae: 0.2727 - val_root_mean_squared_error: 0.3222 - val_mape: 7944348.5000 - val_msle: 0.0600 - lr: 0.0010\n",
            "Epoch 9/100\n",
            "1/2 [==============>...............] - ETA: 0s - loss: 0.0858 - mae: 0.2377 - root_mean_squared_error: 0.2929 - mape: 44.3033 - msle: 0.0342\n",
            "Epoch 9: val_loss improved from 0.10379 to 0.08955, saving model to GeneratedBTCUSD lstm_best.keras\n",
            "2/2 [==============================] - 0s 166ms/step - loss: 0.0743 - mae: 0.2177 - root_mean_squared_error: 0.2726 - mape: 37.2358 - msle: 0.0292 - val_loss: 0.0895 - val_mae: 0.2532 - val_root_mean_squared_error: 0.2992 - val_mape: 9390993.0000 - val_msle: 0.0510 - lr: 0.0010\n",
            "Epoch 10/100\n",
            "1/2 [==============>...............] - ETA: 0s - loss: 0.0588 - mae: 0.1906 - root_mean_squared_error: 0.2426 - mape: 30.9896 - msle: 0.0223\n",
            "Epoch 10: val_loss improved from 0.08955 to 0.07644, saving model to GeneratedBTCUSD lstm_best.keras\n",
            "2/2 [==============================] - 0s 170ms/step - loss: 0.0570 - mae: 0.1934 - root_mean_squared_error: 0.2387 - mape: 31.6275 - msle: 0.0213 - val_loss: 0.0764 - val_mae: 0.2381 - val_root_mean_squared_error: 0.2765 - val_mape: 10606290.0000 - val_msle: 0.0433 - lr: 0.0010\n",
            "Epoch 11/100\n",
            "2/2 [==============================] - ETA: 0s - loss: 0.0564 - mae: 0.1988 - root_mean_squared_error: 0.2374 - mape: 32.0076 - msle: 0.0218\n",
            "Epoch 11: val_loss improved from 0.07644 to 0.06773, saving model to GeneratedBTCUSD lstm_best.keras\n",
            "2/2 [==============================] - 0s 170ms/step - loss: 0.0564 - mae: 0.1988 - root_mean_squared_error: 0.2374 - mape: 32.0076 - msle: 0.0218 - val_loss: 0.0677 - val_mae: 0.2267 - val_root_mean_squared_error: 0.2603 - val_mape: 11486935.0000 - val_msle: 0.0381 - lr: 0.0010\n",
            "Epoch 12/100\n",
            "1/2 [==============>...............] - ETA: 0s - loss: 0.0683 - mae: 0.2059 - root_mean_squared_error: 0.2613 - mape: 30.1802 - msle: 0.0283\n",
            "Epoch 12: val_loss improved from 0.06773 to 0.06015, saving model to GeneratedBTCUSD lstm_best.keras\n",
            "2/2 [==============================] - 0s 179ms/step - loss: 0.0604 - mae: 0.1934 - root_mean_squared_error: 0.2458 - mape: 29.5281 - msle: 0.0247 - val_loss: 0.0601 - val_mae: 0.2149 - val_root_mean_squared_error: 0.2453 - val_mape: 12358470.0000 - val_msle: 0.0337 - lr: 0.0010\n",
            "Epoch 13/100\n",
            "1/2 [==============>...............] - ETA: 0s - loss: 0.0839 - mae: 0.2409 - root_mean_squared_error: 0.2897 - mape: 39.1032 - msle: 0.0341\n",
            "Epoch 13: val_loss improved from 0.06015 to 0.05336, saving model to GeneratedBTCUSD lstm_best.keras\n",
            "2/2 [==============================] - 0s 173ms/step - loss: 0.0678 - mae: 0.2108 - root_mean_squared_error: 0.2604 - mape: 33.8865 - msle: 0.0273 - val_loss: 0.0534 - val_mae: 0.2027 - val_root_mean_squared_error: 0.2310 - val_mape: 13322332.0000 - val_msle: 0.0300 - lr: 0.0010\n",
            "Epoch 14/100\n",
            "1/2 [==============>...............] - ETA: 0s - loss: 0.0624 - mae: 0.2007 - root_mean_squared_error: 0.2499 - mape: 32.1617 - msle: 0.0243\n",
            "Epoch 14: val_loss improved from 0.05336 to 0.04958, saving model to GeneratedBTCUSD lstm_best.keras\n",
            "2/2 [==============================] - 0s 173ms/step - loss: 0.0605 - mae: 0.1909 - root_mean_squared_error: 0.2459 - mape: 29.5681 - msle: 0.0244 - val_loss: 0.0496 - val_mae: 0.1953 - val_root_mean_squared_error: 0.2227 - val_mape: 14208935.0000 - val_msle: 0.0280 - lr: 0.0010\n",
            "Epoch 15/100\n",
            "2/2 [==============================] - ETA: 0s - loss: 0.0480 - mae: 0.1765 - root_mean_squared_error: 0.2191 - mape: 29.0775 - msle: 0.0204\n",
            "Epoch 15: val_loss improved from 0.04958 to 0.04708, saving model to GeneratedBTCUSD lstm_best.keras\n",
            "2/2 [==============================] - 0s 192ms/step - loss: 0.0480 - mae: 0.1765 - root_mean_squared_error: 0.2191 - mape: 29.0775 - msle: 0.0204 - val_loss: 0.0471 - val_mae: 0.1897 - val_root_mean_squared_error: 0.2170 - val_mape: 14981774.0000 - val_msle: 0.0268 - lr: 0.0010\n",
            "Epoch 16/100\n",
            "2/2 [==============================] - ETA: 0s - loss: 0.0759 - mae: 0.2111 - root_mean_squared_error: 0.2755 - mape: 33.6863 - msle: 0.0291\n",
            "Epoch 16: val_loss improved from 0.04708 to 0.04496, saving model to GeneratedBTCUSD lstm_best.keras\n",
            "2/2 [==============================] - 0s 200ms/step - loss: 0.0759 - mae: 0.2111 - root_mean_squared_error: 0.2755 - mape: 33.6863 - msle: 0.0291 - val_loss: 0.0450 - val_mae: 0.1848 - val_root_mean_squared_error: 0.2120 - val_mape: 15499196.0000 - val_msle: 0.0258 - lr: 0.0010\n",
            "Epoch 17/100\n",
            "2/2 [==============================] - ETA: 0s - loss: 0.0484 - mae: 0.1826 - root_mean_squared_error: 0.2201 - mape: 30.5028 - msle: 0.0184\n",
            "Epoch 17: val_loss improved from 0.04496 to 0.04363, saving model to GeneratedBTCUSD lstm_best.keras\n",
            "2/2 [==============================] - 0s 207ms/step - loss: 0.0484 - mae: 0.1826 - root_mean_squared_error: 0.2201 - mape: 30.5028 - msle: 0.0184 - val_loss: 0.0436 - val_mae: 0.1814 - val_root_mean_squared_error: 0.2089 - val_mape: 15819781.0000 - val_msle: 0.0251 - lr: 0.0010\n",
            "Epoch 18/100\n",
            "2/2 [==============================] - ETA: 0s - loss: 0.0848 - mae: 0.2419 - root_mean_squared_error: 0.2912 - mape: 38.9909 - msle: 0.0354\n",
            "Epoch 18: val_loss improved from 0.04363 to 0.04287, saving model to GeneratedBTCUSD lstm_best.keras\n",
            "2/2 [==============================] - 0s 213ms/step - loss: 0.0848 - mae: 0.2419 - root_mean_squared_error: 0.2912 - mape: 38.9909 - msle: 0.0354 - val_loss: 0.0429 - val_mae: 0.1796 - val_root_mean_squared_error: 0.2071 - val_mape: 15968145.0000 - val_msle: 0.0248 - lr: 0.0010\n",
            "Epoch 19/100\n",
            "2/2 [==============================] - ETA: 0s - loss: 0.0631 - mae: 0.1989 - root_mean_squared_error: 0.2513 - mape: 30.2158 - msle: 0.0266\n",
            "Epoch 19: val_loss did not improve from 0.04287\n",
            "2/2 [==============================] - 0s 120ms/step - loss: 0.0631 - mae: 0.1989 - root_mean_squared_error: 0.2513 - mape: 30.2158 - msle: 0.0266 - val_loss: 0.0434 - val_mae: 0.1810 - val_root_mean_squared_error: 0.2083 - val_mape: 16108793.0000 - val_msle: 0.0251 - lr: 0.0010\n",
            "Epoch 20/100\n",
            "2/2 [==============================] - ETA: 0s - loss: 0.0551 - mae: 0.1811 - root_mean_squared_error: 0.2348 - mape: 27.5749 - msle: 0.0231\n",
            "Epoch 20: val_loss did not improve from 0.04287\n",
            "2/2 [==============================] - 0s 102ms/step - loss: 0.0551 - mae: 0.1811 - root_mean_squared_error: 0.2348 - mape: 27.5749 - msle: 0.0231 - val_loss: 0.0440 - val_mae: 0.1825 - val_root_mean_squared_error: 0.2098 - val_mape: 16291701.0000 - val_msle: 0.0254 - lr: 0.0010\n",
            "Epoch 21/100\n",
            "1/2 [==============>...............] - ETA: 0s - loss: 0.0305 - mae: 0.1436 - root_mean_squared_error: 0.1746 - mape: 23.5986 - msle: 0.0122\n",
            "Epoch 21: val_loss did not improve from 0.04287\n",
            "2/2 [==============================] - 0s 100ms/step - loss: 0.0344 - mae: 0.1433 - root_mean_squared_error: 0.1854 - mape: 22.7064 - msle: 0.0138 - val_loss: 0.0447 - val_mae: 0.1840 - val_root_mean_squared_error: 0.2115 - val_mape: 16518572.0000 - val_msle: 0.0259 - lr: 0.0010\n",
            "Epoch 22/100\n",
            "1/2 [==============>...............] - ETA: 0s - loss: 0.0260 - mae: 0.1312 - root_mean_squared_error: 0.1612 - mape: 19.2931 - msle: 0.0096\n",
            "Epoch 22: val_loss did not improve from 0.04287\n",
            "2/2 [==============================] - 0s 95ms/step - loss: 0.0398 - mae: 0.1583 - root_mean_squared_error: 0.1996 - mape: 26.0977 - msle: 0.0143 - val_loss: 0.0455 - val_mae: 0.1860 - val_root_mean_squared_error: 0.2133 - val_mape: 16470286.0000 - val_msle: 0.0263 - lr: 0.0010\n",
            "Epoch 23/100\n",
            "1/2 [==============>...............] - ETA: 0s - loss: 0.0770 - mae: 0.2177 - root_mean_squared_error: 0.2774 - mape: 37.0838 - msle: 0.0301\n",
            "Epoch 23: val_loss did not improve from 0.04287\n",
            "2/2 [==============================] - 0s 99ms/step - loss: 0.0688 - mae: 0.2083 - root_mean_squared_error: 0.2622 - mape: 33.6518 - msle: 0.0268 - val_loss: 0.0471 - val_mae: 0.1895 - val_root_mean_squared_error: 0.2170 - val_mape: 15928864.0000 - val_msle: 0.0270 - lr: 0.0010\n",
            "Epoch 24/100\n",
            "1/2 [==============>...............] - ETA: 0s - loss: 0.0552 - mae: 0.1866 - root_mean_squared_error: 0.2349 - mape: 29.3482 - msle: 0.0190\n",
            "Epoch 24: ReduceLROnPlateau reducing learning rate to 0.0005000000237487257.\n",
            "\n",
            "Epoch 24: val_loss did not improve from 0.04287\n",
            "2/2 [==============================] - 0s 92ms/step - loss: 0.0544 - mae: 0.1919 - root_mean_squared_error: 0.2333 - mape: 30.3694 - msle: 0.0189 - val_loss: 0.0504 - val_mae: 0.1961 - val_root_mean_squared_error: 0.2245 - val_mape: 14921918.0000 - val_msle: 0.0286 - lr: 0.0010\n",
            "Epoch 25/100\n",
            "1/2 [==============>...............] - ETA: 0s - loss: 0.0451 - mae: 0.1723 - root_mean_squared_error: 0.2123 - mape: 26.7253 - msle: 0.0186\n",
            "Epoch 25: val_loss did not improve from 0.04287\n",
            "2/2 [==============================] - 0s 103ms/step - loss: 0.0451 - mae: 0.1703 - root_mean_squared_error: 0.2123 - mape: 26.4378 - msle: 0.0178 - val_loss: 0.0514 - val_mae: 0.1983 - val_root_mean_squared_error: 0.2266 - val_mape: 14696671.0000 - val_msle: 0.0291 - lr: 5.0000e-04\n",
            "Epoch 26/100\n",
            "1/2 [==============>...............] - ETA: 0s - loss: 0.0355 - mae: 0.1530 - root_mean_squared_error: 0.1884 - mape: 24.7229 - msle: 0.0140\n",
            "Epoch 26: val_loss did not improve from 0.04287\n",
            "2/2 [==============================] - 0s 93ms/step - loss: 0.0360 - mae: 0.1520 - root_mean_squared_error: 0.1898 - mape: 23.2628 - msle: 0.0140 - val_loss: 0.0520 - val_mae: 0.1998 - val_root_mean_squared_error: 0.2281 - val_mape: 14574737.0000 - val_msle: 0.0294 - lr: 5.0000e-04\n",
            "Epoch 27/100\n",
            "1/2 [==============>...............] - ETA: 0s - loss: 0.0417 - mae: 0.1490 - root_mean_squared_error: 0.2043 - mape: 22.2736 - msle: 0.0168\n",
            "Epoch 27: val_loss did not improve from 0.04287\n",
            "2/2 [==============================] - 0s 92ms/step - loss: 0.0407 - mae: 0.1522 - root_mean_squared_error: 0.2018 - mape: 23.1026 - msle: 0.0162 - val_loss: 0.0520 - val_mae: 0.1996 - val_root_mean_squared_error: 0.2280 - val_mape: 14652724.0000 - val_msle: 0.0294 - lr: 5.0000e-04\n",
            "Epoch 28/100\n",
            "1/2 [==============>...............] - ETA: 0s - loss: 0.0571 - mae: 0.1867 - root_mean_squared_error: 0.2390 - mape: 27.2501 - msle: 0.0233\n",
            "Epoch 28: val_loss did not improve from 0.04287\n",
            "2/2 [==============================] - 0s 92ms/step - loss: 0.0441 - mae: 0.1602 - root_mean_squared_error: 0.2099 - mape: 25.3058 - msle: 0.0185 - val_loss: 0.0514 - val_mae: 0.1981 - val_root_mean_squared_error: 0.2267 - val_mape: 14886546.0000 - val_msle: 0.0291 - lr: 5.0000e-04\n",
            "Epoch 29/100\n",
            "1/2 [==============>...............] - ETA: 0s - loss: 0.0375 - mae: 0.1466 - root_mean_squared_error: 0.1935 - mape: 22.7704 - msle: 0.0164\n",
            "Epoch 29: val_loss did not improve from 0.04287\n",
            "2/2 [==============================] - 0s 101ms/step - loss: 0.0351 - mae: 0.1448 - root_mean_squared_error: 0.1874 - mape: 23.1754 - msle: 0.0146 - val_loss: 0.0505 - val_mae: 0.1965 - val_root_mean_squared_error: 0.2248 - val_mape: 15234662.0000 - val_msle: 0.0287 - lr: 5.0000e-04\n",
            "Epoch 30/100\n",
            "1/2 [==============>...............] - ETA: 0s - loss: 0.0166 - mae: 0.1011 - root_mean_squared_error: 0.1289 - mape: 15.9208 - msle: 0.0064Restoring model weights from the end of the best epoch: 18.\n",
            "\n",
            "Epoch 30: ReduceLROnPlateau reducing learning rate to 0.0002500000118743628.\n",
            "\n",
            "Epoch 30: val_loss did not improve from 0.04287\n",
            "2/2 [==============================] - 0s 111ms/step - loss: 0.0294 - mae: 0.1238 - root_mean_squared_error: 0.1714 - mape: 18.8082 - msle: 0.0120 - val_loss: 0.0499 - val_mae: 0.1955 - val_root_mean_squared_error: 0.2234 - val_mape: 15600116.0000 - val_msle: 0.0284 - lr: 5.0000e-04\n",
            "Epoch 30: early stopping\n"
          ]
        }
      ],
      "source": [
        "\n",
        "es = EarlyStopping(monitor='val_loss', patience=12, restore_best_weights=True, verbose=2)\n",
        "rlr = ReduceLROnPlateau(monitor='val_loss', factor=0.5, patience=6, min_lr=1e-6, verbose=2)\n",
        "mc = ModelCheckpoint(m_label + 'lstm_best.keras', monitor='val_loss', save_best_only=True, verbose=2)\n",
        "model.compile(optimizer=Adam(learning_rate=0.001),\n",
        "              loss='mse',\n",
        "              metrics=['mae',tf.keras.metrics.RootMeanSquaredError(),'mape','msle'])\n",
        "r = model.fit(\n",
        "  X_train, y_train,\n",
        "  validation_data=(X_val, y_val),\n",
        "  epochs=100,\n",
        "  #batch_size=64,\n",
        "  callbacks=[es, rlr, mc ],\n",
        "  verbose=1\n",
        "\n",
        ")\n",
        "\n",
        "\n"
      ]
    },
    {
      "cell_type": "code",
      "execution_count": null,
      "metadata": {
        "id": "gN-5WQ-M4QOP"
      },
      "outputs": [
        {
          "data": {
            "image/png": "[encoded data removed]",
            "text/plain": [
              "<Figure size 640x480 with 1 Axes>"
            ]
          },
          "metadata": {},
          "output_type": "display_data"
        },
        {
          "data": {
            "image/png": "[encoded data removed]",
            "text/plain": [
              "<Figure size 640x480 with 1 Axes>"
            ]
          },
          "metadata": {},
          "output_type": "display_data"
        },
        {
          "data": {
            "image/png": "[encoded data removed]",
            "text/plain": [
              "<Figure size 640x480 with 1 Axes>"
            ]
          },
          "metadata": {},
          "output_type": "display_data"
        },
        {
          "data": {
            "image/png": "[encoded data removed]",
            "text/plain": [
              "<Figure size 640x480 with 1 Axes>"
            ]
          },
          "metadata": {},
          "output_type": "display_data"
        },
        {
          "data": {
            "image/png": "[encoded data removed]",
            "text/plain": [
              "<Figure size 640x480 with 1 Axes>"
            ]
          },
          "metadata": {},
          "output_type": "display_data"
        }
      ],
      "source": [
        "plt.title(\"Loss on data\")\n",
        "plt.plot(r.history['loss'], label=\"loss\")\n",
        "plt.plot(r.history['val_loss'], label=\"val_loss\")\n",
        "plt.legend()\n",
        "plt.show()\n",
        "\n",
        "plt.title(\"MAE on data\")\n",
        "plt.plot(r.history['mae'], label=\"mae\")\n",
        "plt.plot(r.history['val_mae'], label=\"val_mae\")\n",
        "plt.legend()\n",
        "plt.show()\n",
        "\n",
        "plt.title(\"mape on data\")\n",
        "plt.plot(r.history['mape'], label=\"mape\")\n",
        "plt.plot(r.history['val_mape'], label=\"val_mape\")\n",
        "plt.legend()\n",
        "plt.show()\n",
        "\n",
        "plt.title(\"msle on data\")\n",
        "plt.plot(r.history['msle'], label=\"msle\")\n",
        "plt.plot(r.history['val_msle'], label=\"val_msle\")\n",
        "plt.legend()\n",
        "plt.show()\n",
        "\n",
        "plt.title(\"root_mean_squared_error on data\")\n",
        "plt.plot(r.history['root_mean_squared_error'], label=\"root_mean_squared_error\")\n",
        "plt.plot(r.history['val_root_mean_squared_error'], label=\"val_root_mean_squared_error\")\n",
        "plt.legend()\n",
        "plt.show()\n",
        "\n",
        "\n"
      ]
    },
    {
      "cell_type": "code",
      "execution_count": null,
      "metadata": {},
      "outputs": [],
      "source": [
        "best_model = load_model(m_label + 'lstm_best.keras')\n"
      ]
    },
    {
      "cell_type": "code",
      "execution_count": null,
      "metadata": {},
      "outputs": [
        {
          "name": "stdout",
          "output_type": "stream",
          "text": [
            "1/1 [==============================] - 1s 935ms/step\n"
          ]
        }
      ],
      "source": [
        "y_pred = best_model.predict(X_test)"
      ]
    },
    {
      "cell_type": "code",
      "execution_count": null,
      "metadata": {},
      "outputs": [
        {
          "name": "stdout",
          "output_type": "stream",
          "text": [
            "(1, 1)\n"
          ]
        }
      ],
      "source": [
        "print(y_pred.shape)"
      ]
    },
    {
      "cell_type": "code",
      "execution_count": null,
      "metadata": {},
      "outputs": [
        {
          "name": "stdout",
          "output_type": "stream",
          "text": [
            "[[106860.67]]  comparing to  [[106640.52]]\n"
          ]
        }
      ],
      "source": [
        "_,y_test = inverse_transform_data(scaled_y=y_test)\n",
        "_,y_pred = inverse_transform_data(scaled_y=y_pred)\n",
        "print(y_test, \" comparing to \", y_pred)"
      ]
    },
    {
      "cell_type": "code",
      "execution_count": null,
      "metadata": {},
      "outputs": [
        {
          "name": "stdout",
          "output_type": "stream",
          "text": [
            "Average Gap (Bias): 220.1465625\n",
            "\n",
            "--- Example of Correction ---\n",
            "Original Prediction: 106640.5234375\n",
            "Corrected Prediction: 106860.6718750\n",
            "Actual Value:        106860.6700000\n"
          ]
        }
      ],
      "source": [
        "# 1. Calculate the error (the gap between actual and predicted)\n",
        "error = y_test - y_pred\n",
        "\n",
        "# 2. Calculate the average gap (the bias)\n",
        "average_gap = np.mean(error)\n",
        "print(f\"Average Gap (Bias): {average_gap:.7f}\")\n",
        "\n",
        "# 3. Add the average gap to your predictions to create a corrected version\n",
        "y_pred_corrected = y_pred + average_gap\n",
        "\n",
        "# --- Verification ---\n",
        "# Let's check the first predicted value vs. the first actual value\n",
        "print(\"\\n--- Example of Correction ---\")\n",
        "print(f\"Original Prediction: {y_pred[0, 0]:.7f}\")\n",
        "print(f\"Corrected Prediction: {y_pred_corrected[0, 0]:.7f}\")\n",
        "print(f\"Actual Value:        {y_test[0, 0]:.7f}\")"
      ]
    },
    {
      "cell_type": "code",
      "execution_count": null,
      "metadata": {},
      "outputs": [
        {
          "name": "stdout",
          "output_type": "stream",
          "text": [
            "R^2 value for  GeneratedBTCUSD \n",
            "nan\n"
          ]
        },
        {
          "name": "stderr",
          "output_type": "stream",
          "text": [
            "c:\\Users\\omage\\.conda\\envs\\py310\\lib\\site-packages\\sklearn\\metrics\\_regression.py:1187: UndefinedMetricWarning: R^2 score is not well-defined with less than two samples.\n",
            "  warnings.warn(msg, UndefinedMetricWarning)\n"
          ]
        }
      ],
      "source": [
        "print(\"R^2 value for \", m_label)\n",
        "print(r2_score(y_test, y_pred))"
      ]
    },
    {
      "cell_type": "code",
      "execution_count": null,
      "metadata": {},
      "outputs": [
        {
          "data": {
            "image/png": "[encoded data removed]",
            "text/plain": [
              "<Figure size 1200x600 with 1 Axes>"
            ]
          },
          "metadata": {},
          "output_type": "display_data"
        }
      ],
      "source": [
        "\n",
        "\n",
        "\n",
        "\n",
        "plt.figure(figsize=(12, 6))\n",
        "plt.plot(y_test[:, 0], label='Actual Close Price', color='blue')\n",
        "#plt.plot(y_pred[:, 0], label='Predicted Close Price', color='red', linestyle='--')\n",
        "plt.plot(y_pred_corrected[:, 0], label='corrected Predicted Close Price', color='gray', linestyle='--')\n",
        "plt.title('Actual vs. Predicted Close Price')\n",
        "plt.xlabel('Time')\n",
        "plt.ylabel('Close Price')\n",
        "plt.legend()\n",
        "plt.grid(True)\n",
        "plt.savefig('actual_vs_predicted.png')\n",
        "plt.show()\n"
      ]
    }
  ],
  "metadata": {
    "accelerator": "GPU",
    "colab": {
      "gpuType": "T4",
      "include_colab_link": true,
      "provenance": []
    },
    "kernelspec": {
      "display_name": "Python 3",
      "name": "python3"
    },
    "language_info": {
      "codemirror_mode": {
        "name": "ipython",
        "version": 3
      },
      "file_extension": ".py",
      "mimetype": "text/x-python",
      "name": "python",
      "nbconvert_exporter": "python",
      "pygments_lexer": "ipython3",
      "version": "3.10.13"
    }
  },
  "nbformat": 4,
  "nbformat_minor": 0
}
