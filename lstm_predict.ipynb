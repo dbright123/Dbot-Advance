{
 "cells": [
  {
   "cell_type": "code",
   "execution_count": 1,
   "metadata": {},
   "outputs": [],
   "source": [
    "import MetaTrader5 as mt5\n",
    "import numpy as np\n",
    "\n",
    "import joblib\n",
    "import matplotlib.pyplot as plt\n",
    "\n"
   ]
  },
  {
   "cell_type": "code",
   "execution_count": 14,
   "metadata": {},
   "outputs": [
    {
     "name": "stdout",
     "output_type": "stream",
     "text": [
      "MetaTrader5 package author:  MetaQuotes Ltd.\n",
      "MetaTrader5 package version:  5.0.5200\n",
      "False\n"
     ]
    }
   ],
   "source": [
    "print(\"MetaTrader5 package author: \",mt5.__author__)\n",
    "print(\"MetaTrader5 package version: \",mt5.__version__)\n",
    "\n",
    "trade_active = mt5.initialize() \n",
    "\n",
    "print(trade_active)"
   ]
  },
  {
   "cell_type": "code",
   "execution_count": 4,
   "metadata": {},
   "outputs": [
    {
     "name": "stdout",
     "output_type": "stream",
     "text": [
      "Initialization failed, check internet connection. You must have Meta Trader 5 installed.\n"
     ]
    }
   ],
   "source": [
    "if not trade_active:\n",
    "    print('Initialization failed, check internet connection. You must have Meta Trader 5 installed.')\n",
    "    mt5.shutdown()\n",
    "\n",
    "else:\n",
    "    print(mt5.account_info()._asdict())\n",
    "    print(\"\\n\")\n",
    "    print(mt5.terminal_info()._asdict())\n",
    "    print(\"\\n\")\n",
    "    print(mt5.symbols_total())\n",
    "\n"
   ]
  },
  {
   "cell_type": "code",
   "execution_count": 5,
   "metadata": {},
   "outputs": [
    {
     "name": "stdout",
     "output_type": "stream",
     "text": [
      "200.0\n",
      "AI is successfully functional\n"
     ]
    }
   ],
   "source": [
    "account = mt5.account_info()\n",
    "terminal = mt5.terminal_info()\n",
    "\n",
    "print(account.equity)\n",
    "\n",
    "if(terminal.connected == True and terminal.trade_allowed == True):\n",
    "    print(\"AI is successfully functional\")\n",
    "else:\n",
    "    print(\"Please make sure metatrade 5 has internet and algo Trade is Turn On\")"
   ]
  },
  {
   "cell_type": "code",
   "execution_count": 6,
   "metadata": {},
   "outputs": [
    {
     "name": "stdout",
     "output_type": "stream",
     "text": [
      "280\n",
      "yes  EURUSD\n",
      "yes  GBPUSD\n",
      "yes  USDJPY\n",
      "yes  AUDUSD\n",
      "yes  USDCAD\n"
     ]
    }
   ],
   "source": [
    "symbols = mt5.symbols_get()\n",
    "print(len(symbols))\n",
    "t_symbol = [\"GBPUSD\",\"EURUSD\",\"USDCAD\",\"USDJPY\",\"AUDUSD\"]\n",
    "for symbol in symbols:\n",
    "    for t_s in t_symbol:\n",
    "        if(symbol.name == t_s):\n",
    "            print(\"yes \",t_s)\n",
    "            break\n",
    "       \n",
    "        "
   ]
  },
  {
   "cell_type": "code",
   "execution_count": 7,
   "metadata": {},
   "outputs": [
    {
     "name": "stdout",
     "output_type": "stream",
     "text": [
      "(99999,)\n",
      "(99999,)\n",
      "(99999,)\n",
      "(99999,)\n",
      "(99999,)\n"
     ]
    },
    {
     "data": {
      "text/plain": [
       "5"
      ]
     },
     "execution_count": 7,
     "metadata": {},
     "output_type": "execute_result"
    }
   ],
   "source": [
    "markets = []\n",
    "for t_s in t_symbol:\n",
    "    market = mt5.copy_rates_from_pos(t_s, mt5.TIMEFRAME_M30, 0, 99999)  \n",
    "    print(market.shape)\n",
    "    markets.append(market)\n",
    "\n",
    "len(markets)"
   ]
  },
  {
   "cell_type": "code",
   "execution_count": 8,
   "metadata": {},
   "outputs": [
    {
     "data": {
      "text/plain": [
       "array([(1502859600, 0.78367, 0.78374, 0.78309, 0.78323, 1585,  7, 0),\n",
       "       (1502861400, 0.78324, 0.78337, 0.78255, 0.78298, 1354,  7, 0),\n",
       "       (1502863200, 0.78296, 0.78338, 0.78285, 0.78329, 1115,  7, 0), ...,\n",
       "       (1756360800, 0.6519 , 0.65213, 0.65171, 0.65176, 1104, 14, 0),\n",
       "       (1756362600, 0.65176, 0.65185, 0.65123, 0.65138, 1015, 14, 0),\n",
       "       (1756364400, 0.65138, 0.65139, 0.65106, 0.6511 ,  302, 14, 0)],\n",
       "      dtype=[('time', '<i8'), ('open', '<f8'), ('high', '<f8'), ('low', '<f8'), ('close', '<f8'), ('tick_volume', '<u8'), ('spread', '<i4'), ('real_volume', '<u8')])"
      ]
     },
     "execution_count": 8,
     "metadata": {},
     "output_type": "execute_result"
    }
   ],
   "source": [
    "market"
   ]
  },
  {
   "cell_type": "code",
   "execution_count": null,
   "metadata": {},
   "outputs": [],
   "source": []
  }
 ],
 "metadata": {
  "kernelspec": {
   "display_name": "Python 3",
   "language": "python",
   "name": "python3"
  },
  "language_info": {
   "codemirror_mode": {
    "name": "ipython",
    "version": 3
   },
   "file_extension": ".py",
   "mimetype": "text/x-python",
   "name": "python",
   "nbconvert_exporter": "python",
   "pygments_lexer": "ipython3",
   "version": "3.10.13"
  }
 },
 "nbformat": 4,
 "nbformat_minor": 2
}
