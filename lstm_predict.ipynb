{
  "cells": [
    {
      "cell_type": "markdown",
      "metadata": {
        "colab_type": "text",
        "id": "view-in-github"
      },
      "source": [
        "<a href=\"https://colab.research.google.com/github/dbright123/Dbot-Advance/blob/main/lstm_predict.ipynb\" target=\"_parent\"><img src=\"https://colab.research.google.com/assets/colab-badge.svg\" alt=\"Open In Colab\"/></a>"
      ]
    },
    {
      "cell_type": "code",
      "execution_count": 2,
      "metadata": {
        "id": "Z1oCaggK4VKR"
      },
      "outputs": [],
      "source": [
        "import MetaTrader5 as mt5\n",
        "import numpy as np\n",
        "import pandas as pd\n",
        "\n",
        "\n",
        "\n"
      ]
    },
    {
      "cell_type": "code",
      "execution_count": 5,
      "metadata": {
        "id": "btJoWVAx4VKS",
        "outputId": "077d53d7-b8ac-4d3c-9251-3f449e68e0f3"
      },
      "outputs": [
        {
          "name": "stdout",
          "output_type": "stream",
          "text": [
            "MetaTrader5 package author:  MetaQuotes Ltd.\n",
            "MetaTrader5 package version:  5.0.4200\n",
            "True\n",
            "{'login': 213644473, 'trade_mode': 0, 'leverage': 1000, 'limit_orders': 500, 'margin_so_mode': 0, 'trade_allowed': True, 'trade_expert': True, 'margin_mode': 2, 'currency_digits': 2, 'fifo_close': False, 'balance': 200.0, 'credit': 0.0, 'profit': 0.0, 'equity': 200.0, 'margin': 0.0, 'margin_free': 200.0, 'margin_level': 0.0, 'margin_so_call': 25.0, 'margin_so_so': 15.0, 'margin_initial': 0.0, 'margin_maintenance': 0.0, 'assets': 0.0, 'liabilities': 0.0, 'commission_blocked': 0.0, 'name': 'micheal bright omage ', 'server': 'OctaFX-Demo', 'currency': 'USD', 'company': 'Octa Markets Incorporated'}\n",
            "\n",
            "\n",
            "{'community_account': False, 'community_connection': False, 'connected': True, 'dlls_allowed': False, 'trade_allowed': False, 'tradeapi_disabled': False, 'email_enabled': False, 'ftp_enabled': False, 'notifications_enabled': False, 'mqid': False, 'build': 5328, 'maxbars': 100000, 'codepage': 0, 'ping_last': 116407, 'community_balance': 0.0, 'retransmission': 0.12231584669747216, 'company': 'MetaQuotes Software Corp.', 'name': 'MetaTrader 5', 'language': 'English', 'path': 'C:\\\\Program Files\\\\MetaTrader 5', 'data_path': 'C:\\\\Program Files\\\\MetaTrader 5', 'commondata_path': 'C:\\\\Users\\\\omage\\\\AppData\\\\Roaming\\\\MetaQuotes\\\\Terminal\\\\Common'}\n",
            "\n",
            "\n",
            "280\n"
          ]
        }
      ],
      "source": [
        "print(\"MetaTrader5 package author: \",mt5.__author__)\n",
        "print(\"MetaTrader5 package version: \",mt5.__version__)\n",
        "\n",
        "trade_active = mt5.initialize()\n",
        "\n",
        "print(trade_active)\n",
        "\n",
        "if not trade_active:\n",
        "    print('Initialization failed, check internet connection. You must have Meta Trader 5 installed.')\n",
        "    mt5.shutdown()\n",
        "\n",
        "else:\n",
        "    print(mt5.account_info()._asdict())\n",
        "    print(\"\\n\")\n",
        "    print(mt5.terminal_info()._asdict())\n",
        "    print(\"\\n\")\n",
        "    print(mt5.symbols_total())"
      ]
    },
    {
      "cell_type": "code",
      "execution_count": 6,
      "metadata": {
        "id": "ep9xWhDh4VKU",
        "outputId": "31c79ec1-fd31-4335-d881-2db8f23fed61"
      },
      "outputs": [
        {
          "name": "stdout",
          "output_type": "stream",
          "text": [
            "200.0\n",
            "AI is successfully functional\n"
          ]
        }
      ],
      "source": [
        "account = mt5.account_info()\n",
        "terminal = mt5.terminal_info()\n",
        "\n",
        "print(account.equity)\n",
        "\n",
        "if(terminal.connected == True or terminal.trade_allowed == True):\n",
        "    print(\"AI is successfully functional\")\n",
        "else:\n",
        "    print(\"Please make sure metatrade 5 has internet and algo Trade is Turn On\")"
      ]
    },
    {
      "cell_type": "code",
      "execution_count": 7,
      "metadata": {
        "id": "Cm6_C7cwJaFl",
        "outputId": "14ed083f-33ea-49ce-81da-0259753f3a03"
      },
      "outputs": [
        {
          "name": "stdout",
          "output_type": "stream",
          "text": [
            "280\n",
            "Yes  EURUSD\n",
            "Yes  GBPUSD\n",
            "Yes  USDJPY\n",
            "Yes  USDCHF\n",
            "Yes  AUDUSD\n",
            "Yes  NZDUSD\n",
            "Yes  USDCAD\n",
            "Yes  USDMXN\n",
            "Yes  USDZAR\n",
            "Yes  XAGUSD\n",
            "Yes  XAUUSD\n",
            "Yes  XBRUSD\n",
            "Yes  XTIUSD\n",
            "Yes  XNGUSD\n",
            "Yes  BTCUSD\n",
            "Yes  ETHUSD\n",
            "Yes  LTCUSD\n",
            "Yes  XRPUSD\n",
            "Yes  BCHUSD\n",
            "Yes  AAVEUSD\n",
            "Yes  ADAUSD\n",
            "Yes  ALGOUSD\n",
            "Yes  ATOMUSD\n",
            "Yes  AVAXUSD\n",
            "Yes  AXSUSD\n",
            "Yes  BNBUSD\n",
            "Yes  DASHUSD\n",
            "Yes  DOGEUSD\n",
            "Yes  DOTUSD\n",
            "Yes  FILUSD\n",
            "Yes  GRTUSD\n",
            "Yes  ICPUSD\n",
            "Yes  IOTAUSD\n",
            "Yes  LINKUSD\n",
            "Yes  LRCUSD\n",
            "Yes  MANAUSD\n",
            "Yes  NEARUSD\n",
            "Yes  SOLUSD\n",
            "Yes  UNIUSD\n",
            "Yes  ZECUSD\n",
            "Yes  ETCUSD\n",
            "Yes  TRXUSD\n",
            "Yes  FETUSD\n",
            "Yes  ARBUSD\n",
            "Yes  APTUSD\n",
            "Yes  SUIUSD\n",
            "Yes  USDDKK\n",
            "Yes  USDCZK\n",
            "Yes  USDHUF\n",
            "Yes  USDNOK\n",
            "Yes  USDPLN\n",
            "Yes  USDSEK\n",
            "Yes  USDSGD\n",
            "Yes  USDHKD\n",
            "Yes  USDCNH\n",
            "Yes  USDTRY\n",
            "Yes  XBRUSD.Daily\n",
            "Yes  XTIUSD.Daily\n",
            "Yes  BTCUSD.Daily\n",
            "Yes  ETHUSD.Daily\n",
            "Yes  XRPUSD.Daily\n",
            "Yes  LTCUSD.Daily\n",
            "Yes  BCHUSD.Daily\n",
            "Yes  LINKUSD.Daily\n",
            "Yes  SOLUSD.Daily\n",
            "65\n"
          ]
        }
      ],
      "source": [
        "symbols = mt5.symbols_get()\n",
        "print(len(symbols))\n",
        "t_symbol = []\n",
        "for symbol in symbols:\n",
        "    if \"USD\" in symbol.name:\n",
        "        print(\"Yes \", symbol.name)\n",
        "        t_symbol.append(symbol.name)\n",
        "\n",
        "print(len(t_symbol))"
      ]
    },
    {
      "cell_type": "code",
      "execution_count": 12,
      "metadata": {
        "id": "v4Nye5Nj2DGW",
        "outputId": "0dec2b90-1041-4a82-ca35-4016bfbf33f0"
      },
      "outputs": [
        {
          "data": {
            "text/plain": [
              "array([(1492021800, 1275.06, 1276.56, 1273.81, 1273.81,  6823, 10, 0),\n",
              "       (1492023600, 1273.86, 1274.58, 1272.98, 1273.66,  6259, 11, 0),\n",
              "       (1492025400, 1273.66, 1275.64, 1273.56, 1275.64,  5513, 14, 0),\n",
              "       ...,\n",
              "       (1760135400, 4005.32, 4021.4 , 4005.25, 4011.15, 25364, 26, 0),\n",
              "       (1760137200, 4011.12, 4015.53, 4005.65, 4012.26,  7374, 26, 0),\n",
              "       (1760139000, 4012.3 , 4020.55, 4007.56, 4018.12,  6617, 26, 0)],\n",
              "      dtype=[('time', '<i8'), ('open', '<f8'), ('high', '<f8'), ('low', '<f8'), ('close', '<f8'), ('tick_volume', '<u8'), ('spread', '<i4'), ('real_volume', '<u8')])"
            ]
          },
          "metadata": {},
          "output_type": "display_data"
        },
        {
          "name": "stdout",
          "output_type": "stream",
          "text": [
            "(99999,)\n",
            "XAUUSD\n"
          ]
        }
      ],
      "source": [
        "market = mt5.copy_rates_from_pos(t_symbol[10], mt5.TIMEFRAME_M30, 0, 99999)\n",
        "display(market)\n",
        "print(market.shape)\n",
        "print(t_symbol[10])\n",
        "t_s = t_symbol[10]\n",
        "\n",
        "data = []\n",
        "for i in range(len(market)):\n",
        "    data.append([market[i][1],market[i][2],market[i][3],market[i][4]])\n",
        "df = pd.DataFrame(data, columns=[\"open\", \"high\",\"low\", \"close\"])\n",
        "df.to_csv(\"Generated\"+t_s+\" dbot.csv\", index=False)\n"
      ]
    },
    {
      "cell_type": "code",
      "execution_count": 5,
      "metadata": {
        "id": "PT_T7TBpJaFl"
      },
      "outputs": [],
      "source": [
        "test_symbol = []\n",
        "for t_s in t_symbol:\n",
        "    market = mt5.copy_rates_from_pos(t_s, mt5.TIMEFRAME_H1, 0, 99999)\n",
        "    if(len(market) > 80000 ):\n",
        "        data = []\n",
        "        for i in range(len(market)):\n",
        "            data.append([market[i][1],market[i][2],market[i][3],market[i][4]])\n",
        "        df = pd.DataFrame(data, columns=[\"open\", \"high\",\"low\", \"close\"])\n",
        "        df.to_csv(\"Generated\"+t_s+\" dbot.csv\", index=False)\n",
        "        test_symbol.append(t_s)\n"
      ]
    },
    {
      "cell_type": "code",
      "execution_count": 6,
      "metadata": {
        "id": "b4CF7z2N8h2S"
      },
      "outputs": [],
      "source": [
        "\n",
        "for t_s in test_symbol:\n",
        "    market = mt5.copy_rates_from_pos(t_s, mt5.TIMEFRAME_D1, 0, 1000)\n",
        "    if(len(market) > 900):\n",
        "        data = []\n",
        "        for i in range(len(market)):\n",
        "            data.append([market[i][1],market[i][2],market[i][3],market[i][4]])\n",
        "        df = pd.DataFrame(data, columns=[\"open\", \"high\",\"low\", \"close\"])\n",
        "        df.to_csv(\"Generated\"+t_s+\" test.csv\", index=False)\n",
        "\n"
      ]
    },
    {
      "cell_type": "code",
      "execution_count": 7,
      "metadata": {
        "id": "hjdWs03YJaFm",
        "outputId": "65b3d587-0c44-45ea-8550-33b17d991ad6"
      },
      "outputs": [
        {
          "data": {
            "text/plain": [
              "['symbol.joblib']"
            ]
          },
          "execution_count": 7,
          "metadata": {},
          "output_type": "execute_result"
        }
      ],
      "source": [
        "import joblib\n",
        "\n",
        "joblib.dump(t_symbol,\"symbol.joblib\")"
      ]
    },
    {
      "cell_type": "code",
      "execution_count": 13,
      "metadata": {
        "id": "M8QyUXsy4op6"
      },
      "outputs": [
        {
          "name": "stdout",
          "output_type": "stream",
          "text": [
            "2.10.1\n"
          ]
        }
      ],
      "source": [
        "import numpy as np # linear algebra\n",
        "import pandas as pd # data processing, CSV file I/O (e.g. pd.read_csv)\n",
        "import tensorflow as tf\n",
        "print(tf.__version__)\n"
      ]
    },
    {
      "cell_type": "code",
      "execution_count": 14,
      "metadata": {
        "id": "PqACycZPJaFn"
      },
      "outputs": [],
      "source": [
        "from sklearn.preprocessing import MinMaxScaler, StandardScaler\n",
        "from sklearn.metrics import mean_squared_error, mean_absolute_error\n",
        "import joblib\n",
        "import os\n",
        "from sklearn.model_selection import train_test_split\n",
        "import numpy as np\n",
        "from sklearn.preprocessing import MinMaxScaler\n",
        "\n"
      ]
    },
    {
      "cell_type": "code",
      "execution_count": 15,
      "metadata": {
        "id": "tpswK5-7JaFo"
      },
      "outputs": [],
      "source": [
        "from tensorflow.keras.optimizers import SGD,Adam\n",
        "import matplotlib.pyplot as plt\n",
        "\n",
        "\n",
        "\n",
        "from tensorflow.keras import Model\n",
        "from tensorflow.keras.layers import Input, LSTM, Dense, Dropout, BatchNormalization, LayerNormalization, Bidirectional\n",
        "from tensorflow.keras.callbacks import EarlyStopping, ReduceLROnPlateau, ModelCheckpoint\n",
        "\n",
        "from sklearn.metrics import r2_score\n",
        "from tensorflow.keras.models import load_model\n",
        "import keras"
      ]
    },
    {
      "cell_type": "code",
      "execution_count": 16,
      "metadata": {
        "id": "e5GJ3N6HJaFo"
      },
      "outputs": [],
      "source": [
        "# Get the list of all files and directories in the specified path\n",
        "\n",
        "dir_contents = os.listdir(\".\")\n",
        "t_symbol = joblib.load(\"symbol.joblib\")"
      ]
    },
    {
      "cell_type": "code",
      "execution_count": 17,
      "metadata": {
        "colab": {
          "base_uri": "https://localhost:8080/"
        },
        "id": "G82RO07oi6t1",
        "outputId": "679b1771-f61c-499c-811d-b960d68c7a8d"
      },
      "outputs": [
        {
          "name": "stdout",
          "output_type": "stream",
          "text": [
            "['EURUSD', 'GBPUSD', 'USDJPY', 'USDCHF', 'AUDUSD', 'NZDUSD', 'USDCAD', 'USDMXN', 'USDZAR', 'XAGUSD', 'XAUUSD', 'XBRUSD', 'XTIUSD', 'XNGUSD', 'BTCUSD', 'ETHUSD', 'LTCUSD', 'XRPUSD', 'BCHUSD', 'AAVEUSD', 'ADAUSD', 'ALGOUSD', 'ATOMUSD', 'AVAXUSD', 'AXSUSD', 'BNBUSD', 'DASHUSD', 'DOGEUSD', 'DOTUSD', 'FILUSD', 'GRTUSD', 'ICPUSD', 'IOTAUSD', 'LINKUSD', 'LRCUSD', 'MANAUSD', 'NEARUSD', 'SOLUSD', 'UNIUSD', 'ZECUSD', 'ETCUSD', 'TRXUSD', 'FETUSD', 'ARBUSD', 'APTUSD', 'SUIUSD', 'USDDKK', 'USDCZK', 'USDHUF', 'USDNOK', 'USDPLN', 'USDSEK', 'USDSGD', 'USDHKD', 'USDCNH', 'USDTRY', 'XBRUSD.Daily', 'XTIUSD.Daily', 'BTCUSD.Daily', 'ETHUSD.Daily', 'XRPUSD.Daily', 'LTCUSD.Daily', 'BCHUSD.Daily', 'LINKUSD.Daily', 'SOLUSD.Daily']\n"
          ]
        }
      ],
      "source": [
        "print(t_symbol)"
      ]
    },
    {
      "cell_type": "code",
      "execution_count": 6,
      "metadata": {
        "id": "UC2tpiHOpgVu"
      },
      "outputs": [],
      "source": [
        "#t_symbol = [\"EURUSD\",\"AUDUSD\",\"GBPUSD\",\"USDCAD\"]"
      ]
    },
    {
      "cell_type": "code",
      "execution_count": 19,
      "metadata": {
        "colab": {
          "base_uri": "https://localhost:8080/"
        },
        "id": "L9Urbl8tJaFp",
        "outputId": "b6299a2a-23c2-42c6-8f42-2268afe6c8e7"
      },
      "outputs": [
        {
          "name": "stdout",
          "output_type": "stream",
          "text": [
            "GeneratedAUDUSD dbot.csv\n",
            "GeneratedEURUSD dbot.csv\n",
            "GeneratedGBPUSD dbot.csv\n",
            "GeneratedNZDUSD dbot.csv\n",
            "GeneratedUSDCAD dbot.csv\n",
            "GeneratedUSDCHF dbot.csv\n",
            "GeneratedUSDJPY dbot.csv\n",
            "GeneratedUSDMXN dbot.csv\n",
            "GeneratedUSDZAR dbot.csv\n",
            "GeneratedXAUUSD dbot.csv\n",
            "----------------------------------------------------\n",
            "10\n",
            "10\n"
          ]
        }
      ],
      "source": [
        "\n",
        "# Filter the list to include only files, not directories\n",
        "# os.path.join is used to create a full path for isfile() to check\n",
        "files = [item for item in dir_contents]\n",
        "\n",
        "file_target = []\n",
        "test_target = []\n",
        "\n",
        "for filename in files:\n",
        "    for t_s in t_symbol:\n",
        "        if t_s in filename  and \"dbot.csv\" in filename:\n",
        "            print(filename)\n",
        "            file_target.append(filename)\n",
        "            test_target.append(filename.replace(\"dbot\",\"test\"))\n",
        "\n",
        "print(\"----------------------------------------------------\")\n",
        "\n",
        "print(len(file_target))\n",
        "print(len(test_target))\n",
        "train_dfs = []\n",
        "for f_t in file_target:\n",
        "    train_dfs.append(pd.read_csv(f_t))\n",
        "try:\n",
        "    train_dfs_test = []\n",
        "    for f_t in test_target:\n",
        "        train_dfs_test.append(pd.read_csv(f_t))\n",
        "except:\n",
        "    pass"
      ]
    },
    {
      "cell_type": "code",
      "execution_count": null,
      "metadata": {
        "colab": {
          "base_uri": "https://localhost:8080/",
          "height": 424
        },
        "id": "94sFD1Kc29tr",
        "outputId": "c8aa60f1-e8b6-4aa1-b736-2bef8f7d1611"
      },
      "outputs": [],
      "source": [
        "display(train_dfs[0])"
      ]
    },
    {
      "cell_type": "code",
      "execution_count": null,
      "metadata": {
        "colab": {
          "base_uri": "https://localhost:8080/",
          "height": 424
        },
        "id": "tOE5gYlbhIFd",
        "outputId": "a9da9a6f-ec25-4759-e740-841cb535bf7f"
      },
      "outputs": [],
      "source": [
        "display(train_dfs_test[0])"
      ]
    },
    {
      "cell_type": "code",
      "execution_count": null,
      "metadata": {
        "colab": {
          "base_uri": "https://localhost:8080/"
        },
        "id": "X-1MEa4L3HwH",
        "outputId": "4d48a4c1-6224-4026-a485-1aa764490f34"
      },
      "outputs": [],
      "source": [
        "print(train_dfs[0].values[:,-1:])"
      ]
    },
    {
      "cell_type": "code",
      "execution_count": 20,
      "metadata": {
        "id": "xnvfkDwKJaFp"
      },
      "outputs": [],
      "source": [
        "def create_sequences(data_scaled, seq_len, pred_steps = 5):\n",
        "    \"\"\"\n",
        "    data_scaled: np.array shaped (n_rows, n_features)\n",
        "    returns X (n_samples, seq_len, n_features), y (n_samples, n_features)\n",
        "    where y is the row immediately following the window.\n",
        "    \"\"\"\n",
        "    X, y = [], []\n",
        "    n_rows = data_scaled.shape[0]\n",
        "    for i in range(n_rows - seq_len - pred_steps + 1):\n",
        "        X.append(data_scaled[i:i+seq_len])\n",
        "        y.append(data_scaled[i+seq_len : i + seq_len+pred_steps, -1])\n",
        "    X = np.array(X)\n",
        "    y = np.array(y)\n",
        "    return X, y\n",
        "\n",
        "\n",
        "\n"
      ]
    },
    {
      "cell_type": "code",
      "execution_count": 21,
      "metadata": {
        "id": "DqNMMybC2oHD"
      },
      "outputs": [],
      "source": [
        "n = 9"
      ]
    },
    {
      "cell_type": "code",
      "execution_count": 22,
      "metadata": {},
      "outputs": [],
      "source": [
        "\n",
        "def preprocess_and_save_scalers(data_x, data_y, scaler_x_filename='scaler_x.joblib', scaler_y_filename='scaler_y.joblib'):\n",
        "    \"\"\"\n",
        "    Preprocesses 3D X and 2D Y data, scales them to a range of [0, 1],\n",
        "    and saves the fitted scalers.\n",
        "\n",
        "    Args:\n",
        "        data_x (np.ndarray): The input features, a 3D numpy array of shape (samples, timesteps, features).\n",
        "        data_y (np.ndarray): The target values, a 2D numpy array of shape (samples, output_dim).\n",
        "        scaler_x_filename (str): Filename to save the scaler for X data.\n",
        "        scaler_y_filename (str): Filename to save the scaler for Y data.\n",
        "\n",
        "    Returns:\n",
        "        tuple: A tuple containing the scaled X data (3D) and scaled Y data (2D).\n",
        "    \"\"\"\n",
        "    try:\n",
        "        # --- Preprocess X data (3D) ---\n",
        "        # Reshape 3D data to 2D for scaler\n",
        "        original_shape_x = data_x.shape\n",
        "        data_x_reshaped = data_x.reshape(-1, original_shape_x[2])\n",
        "\n",
        "        # Initialize and fit the scaler for X\n",
        "        scaler_x = MinMaxScaler(feature_range=(0, 1))\n",
        "        scaled_x_reshaped = scaler_x.fit_transform(data_x_reshaped)\n",
        "\n",
        "        # Reshape the scaled data back to its original 3D shape\n",
        "        scaled_x = scaled_x_reshaped.reshape(original_shape_x)\n",
        "\n",
        "        # --- Preprocess Y data (2D) ---\n",
        "        scaler_y = MinMaxScaler(feature_range=(0, 1))\n",
        "        scaled_y = scaler_y.fit_transform(data_y)\n",
        "\n",
        "        # --- Save the scalers ---\n",
        "        joblib.dump(scaler_x, scaler_x_filename)\n",
        "        joblib.dump(scaler_y, scaler_y_filename)\n",
        "        print(f\"Scaler for X saved to '{scaler_x_filename}'\")\n",
        "        print(f\"Scaler for Y saved to '{scaler_y_filename}'\")\n",
        "\n",
        "        return scaled_x, scaled_y\n",
        "\n",
        "    except Exception as e:\n",
        "        print(f\"An error occurred during preprocessing: {e}\")\n",
        "        return None, None\n",
        "\n",
        "def transform_data(data_x=None, data_y=None, scaler_x_filename='scaler_x.joblib', scaler_y_filename='scaler_y.joblib'):\n",
        "    \"\"\"\n",
        "    Transforms new 3D X and/or 2D Y data using saved scalers.\n",
        "\n",
        "    Args:\n",
        "        data_x (np.ndarray, optional): The new input features (3D numpy array). Defaults to None.\n",
        "        data_y (np.ndarray, optional): The new target values (2D numpy array). Defaults to None.\n",
        "        scaler_x_filename (str): Filename of the saved scaler for X data.\n",
        "        scaler_y_filename (str): Filename of the saved scaler for Y data.\n",
        "\n",
        "    Returns:\n",
        "        tuple: A tuple containing (scaled_x, scaled_y). Elements will be None if not provided.\n",
        "    \"\"\"\n",
        "    scaled_x = None\n",
        "    scaled_y = None\n",
        "\n",
        "    # Transform X data if provided\n",
        "    if data_x is not None:\n",
        "        if not os.path.exists(scaler_x_filename):\n",
        "            print(f\"Error: Scaler file for X not found at '{scaler_x_filename}'\")\n",
        "        else:\n",
        "            try:\n",
        "                scaler_x = joblib.load(scaler_x_filename)\n",
        "                original_shape_x = data_x.shape\n",
        "                # Ensure there's data to reshape\n",
        "                if original_shape_x[0] > 0:\n",
        "                    data_x_reshaped = data_x.reshape(-1, original_shape_x[2])\n",
        "                    scaled_x_reshaped = scaler_x.transform(data_x_reshaped)\n",
        "                    scaled_x = scaled_x_reshaped.reshape(original_shape_x)\n",
        "                else:\n",
        "                    # Handle empty array case\n",
        "                    scaled_x = np.array([]).reshape(original_shape_x)\n",
        "            except Exception as e:\n",
        "                print(f\"An error occurred during X transformation: {e}\")\n",
        "\n",
        "    # Transform Y data if provided\n",
        "    if data_y is not None:\n",
        "        if not os.path.exists(scaler_y_filename):\n",
        "            print(f\"Error: Scaler file for Y not found at '{scaler_y_filename}'\")\n",
        "        else:\n",
        "            try:\n",
        "                scaler_y = joblib.load(scaler_y_filename)\n",
        "                scaled_y = scaler_y.transform(data_y)\n",
        "            except Exception as e:\n",
        "                print(f\"An error occurred during Y transformation: {e}\")\n",
        "\n",
        "    return scaled_x, scaled_y\n",
        "\n",
        "\n",
        "def inverse_transform_data(scaled_x=None, scaled_y=None, scaler_x_filename='scaler_x.joblib', scaler_y_filename='scaler_y.joblib'):\n",
        "    \"\"\"\n",
        "    Inverse transforms scaled 3D X and/or 2D Y data to their original scale.\n",
        "\n",
        "    Args:\n",
        "        scaled_x (np.ndarray, optional): The scaled input features (3D numpy array). Defaults to None.\n",
        "        scaled_y (np.ndarray, optional): The scaled target values or predictions (2D numpy array). Defaults to None.\n",
        "        scaler_x_filename (str): Filename of the saved scaler for X data.\n",
        "        scaler_y_filename (str): Filename of the saved scaler for Y data.\n",
        "\n",
        "    Returns:\n",
        "        tuple: A tuple containing (inversed_x, inversed_y). Elements will be None if not provided.\n",
        "    \"\"\"\n",
        "    inversed_x = None\n",
        "    inversed_y = None\n",
        "\n",
        "    # Inverse transform X data if provided\n",
        "    if scaled_x is not None:\n",
        "        if not os.path.exists(scaler_x_filename):\n",
        "            print(f\"Error: Scaler file for X not found at '{scaler_x_filename}'\")\n",
        "        else:\n",
        "            try:\n",
        "                scaler_x = joblib.load(scaler_x_filename)\n",
        "                original_shape_x = scaled_x.shape\n",
        "                # Ensure there's data to reshape\n",
        "                if original_shape_x[0] > 0:\n",
        "                    scaled_x_reshaped = scaled_x.reshape(-1, original_shape_x[2])\n",
        "                    inversed_x_reshaped = scaler_x.inverse_transform(scaled_x_reshaped)\n",
        "                    inversed_x = inversed_x_reshaped.reshape(original_shape_x)\n",
        "                else:\n",
        "                    inversed_x = np.array([]).reshape(original_shape_x)\n",
        "            except Exception as e:\n",
        "                print(f\"An error occurred during X inverse transformation: {e}\")\n",
        "\n",
        "    # Inverse transform Y data if provided\n",
        "    if scaled_y is not None:\n",
        "        if not os.path.exists(scaler_y_filename):\n",
        "            print(f\"Error: Scaler file for Y not found at '{scaler_y_filename}'\")\n",
        "        else:\n",
        "            try:\n",
        "                scaler_y = joblib.load(scaler_y_filename)\n",
        "                inversed_y = scaler_y.inverse_transform(scaled_y)\n",
        "            except Exception as e:\n",
        "                print(f\"An error occurred during Y inverse transformation: {e}\")\n",
        "\n",
        "    return inversed_x, inversed_y\n"
      ]
    },
    {
      "cell_type": "code",
      "execution_count": 24,
      "metadata": {
        "colab": {
          "base_uri": "https://localhost:8080/"
        },
        "id": "FgfuQq2n2yc1",
        "outputId": "0784b3a8-b631-4e7f-8a48-75962084f30d"
      },
      "outputs": [
        {
          "name": "stdout",
          "output_type": "stream",
          "text": [
            "GeneratedXAUUSD \n"
          ]
        }
      ],
      "source": [
        "m_label = file_target[n].replace(\"dbot.csv\",\"\")\n",
        "train_df = train_dfs[n]\n",
        "#train_df_test = train_dfs_test[n]\n",
        "print(m_label)\n",
        "SEQ_LEN = 240 # length of input sequence (timesteps). Typical choices: 30, 60, 90\n",
        "n_rows, n_features = train_df.values.shape\n",
        "\n",
        "X, y = create_sequences(train_df.values, SEQ_LEN, 5)  # X: (n_samples, SEQ_LEN, n_features), y: (n_samples, n_features)\n",
        "#X1, y1 = create_sequences(train_df.values, SEQ_LEN, 5)  # X: (n_samples, SEQ_LEN, n_features), y: (n_samples, n_features)\n",
        "\n",
        "n_samples = X.shape[0]\n"
      ]
    },
    {
      "cell_type": "code",
      "execution_count": 25,
      "metadata": {},
      "outputs": [
        {
          "name": "stdout",
          "output_type": "stream",
          "text": [
            "Scaler for X saved to 'scaler_x.joblib'\n",
            "Scaler for Y saved to 'scaler_y.joblib'\n"
          ]
        }
      ],
      "source": [
        "X, y = preprocess_and_save_scalers(X, y)\n",
        "#X1, y1 = transform_data(X1, y1)"
      ]
    },
    {
      "cell_type": "code",
      "execution_count": 26,
      "metadata": {
        "colab": {
          "base_uri": "https://localhost:8080/"
        },
        "id": "jgr3stmT3oDg",
        "outputId": "80d849ed-9728-4fd8-fa96-1b2f778e1aef"
      },
      "outputs": [
        {
          "name": "stdout",
          "output_type": "stream",
          "text": [
            "[[0.93920424 0.94167024 0.9378356  0.93973666]\n",
            " [0.93987521 0.94003777 0.935723   0.93863335]\n",
            " [0.93862319 0.93852289 0.93782869 0.93879591]\n",
            " [0.93884454 0.94115145 0.93835425 0.94158703]\n",
            " [0.94164949 0.94206452 0.94182223 0.942175  ]\n",
            " [0.94219595 0.94135551 0.94062935 0.93986809]\n",
            " [0.93987867 0.93960544 0.9406501  0.94020703]\n",
            " [0.94020378 0.94008965 0.94072617 0.94021049]\n",
            " [0.9402107  0.93999626 0.93923939 0.93961907]\n",
            " [0.93965386 0.93981987 0.94043919 0.94044222]\n",
            " [0.94045972 0.94119987 0.94191559 0.94102673]\n",
            " [0.94104423 0.94100618 0.94170121 0.94125154]\n",
            " [0.94125175 0.94118949 0.94202623 0.94088839]\n",
            " [0.94084709 0.94050122 0.94171504 0.94045951]\n",
            " [0.94045626 0.9404528  0.94144189 0.94118583]\n",
            " [0.94162528 0.94283234 0.94183952 0.94372447]\n",
            " [0.943697   0.94513924 0.94396595 0.94583078]\n",
            " [0.94582405 0.95203229 0.94686689 0.94947965]\n",
            " [0.94947636 0.94901637 0.95007209 0.9491407 ]\n",
            " [0.9491305  0.94837306 0.94700865 0.94667815]\n",
            " [0.94673367 0.94724901 0.94731983 0.9459795 ]\n",
            " [0.94597623 0.94788194 0.94724031 0.94687875]\n",
            " [0.94684781 0.95124718 0.9481462  0.95206671]\n",
            " [0.95206688 0.95338115 0.95341906 0.95339829]\n",
            " [0.95338807 0.95296958 0.95380631 0.95310776]\n",
            " [0.95309063 0.95414551 0.95426272 0.95341558]\n",
            " [0.95340537 0.95601663 0.95479865 0.95608911]\n",
            " [0.95607543 0.9568882  0.9572985  0.95749332]\n",
            " [0.95746579 0.95886654 0.95851558 0.95922264]\n",
            " [0.9592124  0.96057164 0.95883714 0.95863467]\n",
            " [0.95863481 0.95780474 0.95683864 0.9571682 ]\n",
            " [0.95715798 0.95632791 0.95501993 0.95565332]\n",
            " [0.95560505 0.95695738 0.95598461 0.95771467]\n",
            " [0.95767331 0.95755226 0.95749558 0.95708174]\n",
            " [0.95707843 0.96010473 0.95815944 0.96026369]\n",
            " [0.96024307 0.96208306 0.96115028 0.96097271]\n",
            " [0.960876   0.96128066 0.95960127 0.96051963]\n",
            " [0.96058202 0.9604748  0.96084255 0.9609312 ]\n",
            " [0.96087254 0.96030879 0.96001964 0.96050925]\n",
            " [0.96055089 0.95971044 0.95860548 0.95963076]\n",
            " [0.95961706 0.96114923 0.96090133 0.96045737]\n",
            " [0.96044021 0.95980037 0.95898236 0.95923301]\n",
            " [0.95922969 0.95885616 0.95808338 0.95907737]\n",
            " [0.95906368 0.95921586 0.95718094 0.95673933]\n",
            " [0.95673602 0.95827857 0.95652054 0.95771121]\n",
            " [0.95775978 0.95775978 0.95803497 0.95736189]\n",
            " [0.95735512 0.96124607 0.95676948 0.96123211]\n",
            " [0.96121841 0.96230787 0.96127129 0.96245646]\n",
            " [0.96244622 0.96536876 0.96355332 0.96484293]\n",
            " [0.96481884 0.96494681 0.96409962 0.96314128]\n",
            " [0.96313103 0.96712228 0.96398552 0.96744036]\n",
            " [0.96743356 0.9690937  0.96318335 0.96399902]\n",
            " [0.96399568 0.96407869 0.96496057 0.96458007]\n",
            " [0.96457673 0.96531688 0.96525446 0.96380879]\n",
            " [0.96379508 0.96502981 0.96507812 0.96591856]\n",
            " [0.96591868 0.96559011 0.96669629 0.96590473]\n",
            " [0.96589793 0.96587718 0.96673778 0.96603616]\n",
            " [0.96601552 0.96739897 0.96747771 0.96795224]\n",
            " [0.96796273 0.96727792 0.96753303 0.9663924 ]\n",
            " [0.96637868 0.96617462 0.96761601 0.96648924]\n",
            " [0.96648935 0.96647898 0.96722184 0.96656533]\n",
            " [0.96629913 0.97129339 0.96757106 0.97116878]\n",
            " [0.9711585  0.97024197 0.96771974 0.96776202]\n",
            " [0.96775521 0.96907295 0.96867404 0.96982337]\n",
            " [0.96985114 0.97002061 0.97071403 0.96990637]\n",
            " [0.96991685 0.97168767 0.97035444 0.97148006]\n",
            " [0.9714594  0.97172226 0.96861872 0.96757525]\n",
            " [0.96754424 0.9669874  0.96663405 0.96642352]\n",
            " [0.96646514 0.96605703 0.96673086 0.96595315]\n",
            " [0.96593943 0.9675304  0.96721839 0.96822202]\n",
            " [0.96821867 0.96810453 0.96940705 0.96826006]\n",
            " [0.96822213 0.96906257 0.96835594 0.96780006]\n",
            " [0.96779672 0.97074001 0.96907167 0.97122412]\n",
            " [0.97122422 0.97107204 0.97207633 0.97129675]\n",
            " [0.97128647 0.97151474 0.97266067 0.97211299]\n",
            " [0.97206812 0.97150091 0.96813465 0.96781736]\n",
            " [0.9678313  0.96796619 0.9682695  0.96820818]\n",
            " [0.96820483 0.96786935 0.96799289 0.96804217]\n",
            " [0.96802499 0.96722258 0.96598056 0.96493631]\n",
            " [0.96495372 0.96432771 0.96258864 0.96360473]\n",
            " [0.9635599  0.96431042 0.96228783 0.96172323]\n",
            " [0.96162306 0.96348381 0.96149258 0.96335917]\n",
            " [0.96334546 0.96361869 0.96473928 0.9635909 ]\n",
            " [0.96358065 0.96685943 0.96497094 0.96601195]\n",
            " [0.96598094 0.96663462 0.96642314 0.96491902]\n",
            " [0.9649053  0.96561432 0.96602205 0.96548623]\n",
            " [0.96547252 0.96669687 0.96684496 0.96663796]\n",
            " [0.96664499 0.96641326 0.96690029 0.96580443]\n",
            " [0.96579417 0.96886889 0.96686571 0.96900713]\n",
            " [0.9689519  0.96993761 0.96958339 0.9685748 ]\n",
            " [0.96863025 0.97262496 0.9698358  0.97332351]\n",
            " [0.97331323 0.97453066 0.97411286 0.97450291]\n",
            " [0.97447878 0.97361067 0.97172365 0.97326126]\n",
            " [0.97320947 0.97280135 0.9712465  0.97282893]\n",
            " [0.97282556 0.97511171 0.97416127 0.97546441]\n",
            " [0.97547487 0.97639486 0.97473869 0.97522576]\n",
            " [0.97522239 0.974503   0.96873282 0.96870623]\n",
            " [0.96876859 0.9713176  0.96919614 0.96987179]\n",
            " [0.9699134  0.97239669 0.97094915 0.97233434]\n",
            " [0.9723794  0.97442691 0.97376364 0.97379043]\n",
            " [0.97387352 0.97527081 0.97521584 0.97382155]\n",
            " [0.97383548 0.97391849 0.97300297 0.97353449]\n",
            " [0.97353112 0.97369022 0.97447591 0.97387689]\n",
            " [0.97385623 0.97374556 0.97448974 0.97353795]\n",
            " [0.97352766 0.97351037 0.97470411 0.97356562]\n",
            " [0.97355879 0.97375939 0.97507408 0.9743784 ]\n",
            " [0.97437157 0.97483502 0.97561001 0.97509088]\n",
            " [0.97494224 0.97629111 0.97611136 0.9771038 ]\n",
            " [0.97708659 0.97622193 0.97756356 0.97682365]\n",
            " [0.97682028 0.97682373 0.97797156 0.9766611 ]\n",
            " [0.97664043 0.97809997 0.97793352 0.97847343]\n",
            " [0.97841816 0.97924132 0.97988707 0.97995372]\n",
            " [0.97992958 0.97904417 0.97822396 0.97780591]\n",
            " [0.97779215 0.97807576 0.97654011 0.97836275]\n",
            " [0.97840779 0.97977394 0.97873915 0.98055207]\n",
            " [0.9805383  0.98172115 0.98033656 0.9816865 ]\n",
            " [0.9817004  0.9835231  0.98316143 0.98444304]\n",
            " [0.98442234 0.98455723 0.98494902 0.98433928]\n",
            " [0.98429783 0.98524895 0.98549878 0.98552905]\n",
            " [0.98561557 0.98707165 0.98701321 0.986871  ]\n",
            " [0.986833   0.98893931 0.98783958 0.9896725 ]\n",
            " [0.98960336 0.99146756 0.99039821 0.99200362]\n",
            " [0.99200365 0.99231147 0.99168444 0.99051987]\n",
            " [0.99055795 0.99089343 0.98926412 0.98957566]\n",
            " [0.9895757  0.99096606 0.99074743 0.99134994]\n",
            " [0.99133614 0.99321763 0.99232756 0.9929755 ]\n",
            " [0.99295823 0.99292019 0.99265603 0.99224573]\n",
            " [0.99224576 0.99348395 0.9933683  0.99359114]\n",
            " [0.99359116 0.99348395 0.99448511 0.99298242]\n",
            " [0.99297899 0.99339056 0.99338559 0.99268498]\n",
            " [0.9926435  0.99674197 0.99260763 0.99749249]\n",
            " [0.99747866 0.99666242 0.99501758 0.99440392]\n",
            " [0.99445928 0.99382635 0.99355847 0.99324182]\n",
            " [0.99324876 0.99242215 0.99332335 0.99242212]\n",
            " [0.99242215 0.992685   0.99300871 0.99354272]\n",
            " [0.99354274 0.99558679 0.99414972 0.99437625]\n",
            " [0.9943659  0.99373297 0.99255231 0.99427249]\n",
            " [0.99424484 0.99666588 0.99514206 0.99378828]\n",
            " [0.99377101 0.99334214 0.99094452 0.99356693]\n",
            " [0.99354274 0.99550033 0.99424999 0.99585655]\n",
            " [0.99589115 0.99647912 0.99555005 0.99709474]\n",
            " [0.99711205 0.99711205 0.99485853 0.99581505]\n",
            " [0.99585311 0.99626122 0.99664612 0.99623008]\n",
            " [0.99626122 0.99904196 0.99714747 0.99967489]\n",
            " [0.99968526 1.         1.         1.        ]\n",
            " [1.         0.99962993 0.99860312 0.99743023]\n",
            " [0.99743024 0.99811505 0.9965251  0.99798361]\n",
            " [0.9979767  0.99788678 0.99519738 0.99720196]\n",
            " [0.99719851 0.9970325  0.99784591 0.99767234]\n",
            " [0.99772076 0.99836407 0.99300871 0.99591535]\n",
            " [0.99586002 0.99543115 0.9937106  0.99593264]\n",
            " [0.99589115 0.99565596 0.99562266 0.9956352 ]\n",
            " [0.99555912 0.99502995 0.99528382 0.99467369]\n",
            " [0.99558679 0.99467025 0.98718263 0.98939581]\n",
            " [0.9894166  0.98922292 0.98901863 0.98782213]\n",
            " [0.98782909 0.98708894 0.98609694 0.98522815]\n",
            " [0.98520745 0.98622429 0.98231778 0.984488  ]\n",
            " [0.98447768 0.98912262 0.98494556 0.98981085]\n",
            " [0.9898178  0.98916758 0.98876622 0.98837897]\n",
            " [0.98834097 0.99086576 0.98477268 0.99121505]\n",
            " [0.99121509 0.99206937 0.98780846 0.98724454]\n",
            " [0.98724112 0.98679842 0.98270503 0.98496183]\n",
            " [0.98494113 0.98685721 0.98399472 0.98687792]\n",
            " [0.98686067 0.98820608 0.98784995 0.9889116 ]\n",
            " [0.98887705 0.98970712 0.99017693 0.98968634]\n",
            " [0.98968291 0.99295132 0.99117618 0.99368452]\n",
            " [0.993688   0.9938056  0.99444016 0.99393009]\n",
            " [0.99391973 0.99348395 0.99378321 0.99390242]\n",
            " [0.99388515 0.99462529 0.99406328 0.99418603]\n",
            " [0.99419296 0.99377793 0.99274247 0.99138453]\n",
            " [0.9913811  0.99196561 0.98976201 0.98950995]\n",
            " [0.98952036 0.99092802 0.99046391 0.9903919 ]\n",
            " [0.99037118 0.99074125 0.99119001 0.99134302]\n",
            " [0.99132922 0.99269538 0.99236905 0.99314152]\n",
            " [0.99313117 0.99343552 0.99411169 0.99360843]\n",
            " [0.99360846 0.99407537 0.99456118 0.99374678]\n",
            " [0.99372951 0.99345973 0.99376938 0.99336979]\n",
            " [0.99339402 0.993145   0.99448165 0.99381941]\n",
            " [0.99381943 0.99485356 0.9950729  0.99570091]\n",
            " [0.99572514 0.99571476 0.99354118 0.99284062]\n",
            " [0.99285447 0.99558333 0.99434681 0.99581505]\n",
            " [0.99574243 0.99500228 0.99486545 0.99454227]\n",
            " [0.99453883 0.99810813 0.9956849  0.99892782]\n",
            " [0.99893128 0.99957113 0.99876909 0.99966797]\n",
            " [0.99963684 0.99912497 0.98770128 0.9863695 ]\n",
            " [0.9864491  0.98958953 0.98414339 0.98285898]\n",
            " [0.9827622  0.9895169  0.98327899 0.98879747]\n",
            " [0.98879059 0.98946502 0.9875526  0.98617928]\n",
            " [0.98616549 0.98595451 0.98418489 0.98543913]\n",
            " [0.98541497 0.9870336  0.98536393 0.98471973]\n",
            " [0.98465753 0.98388279 0.96942434 0.96955705]\n",
            " [0.9695952  0.97079189 0.96247454 0.96629901]\n",
            " [0.96638905 0.96691131 0.96289637 0.96319661]\n",
            " [0.96312757 0.96877897 0.96437969 0.96769976]\n",
            " [0.96768604 0.9669701  0.96668937 0.96563841]\n",
            " [0.96566966 0.97197474 0.96646808 0.97284622]\n",
            " [0.97288436 0.97336511 0.97216969 0.97109615]\n",
            " [0.97111354 0.97222722 0.97257423 0.97235163]\n",
            " [0.97234827 0.97175339 0.97259497 0.97239314]\n",
            " [0.97177068 0.97307458 0.96762638 0.97082637]\n",
            " [0.97080918 0.97164271 0.97198643 0.97185013]\n",
            " [0.97187444 0.97461367 0.97301334 0.97454787]\n",
            " [0.97449954 0.97639141 0.97443096 0.976962  ]\n",
            " [0.9769102  0.97712809 0.97687895 0.97750155]\n",
            " [0.97749817 0.97759847 0.97777102 0.97732516]\n",
            " [0.9773114  0.97687216 0.97340751 0.97403599]\n",
            " [0.97405337 0.97320255 0.97153694 0.97118953]\n",
            " [0.97120346 0.97459292 0.97264684 0.97500095]\n",
            " [0.97498374 0.97493878 0.97379131 0.97301915]\n",
            " [0.97299157 0.97234827 0.9687017  0.97018998]\n",
            " [0.97014512 0.97052903 0.96839052 0.9672951 ]\n",
            " [0.96727446 0.96726409 0.96344613 0.96621255]\n",
            " [0.96621266 0.96802499 0.96733249 0.96880653]\n",
            " [0.96879626 0.97190557 0.97027837 0.97095434]\n",
            " [0.9709579  0.97165309 0.97004325 0.97178096]\n",
            " [0.97177068 0.9712588  0.9707901  0.97067073]\n",
            " [0.970657   0.97125188 0.96903709 0.96946021]\n",
            " [0.96941881 0.96866137 0.96554836 0.96827736]\n",
            " [0.96829476 0.97129339 0.96888495 0.97072953]\n",
            " [0.9707158  0.97564088 0.97158881 0.97583794]\n",
            " [0.97578615 0.97772989 0.97688933 0.97767102]\n",
            " [0.97769185 0.98009906 0.97852823 0.97917553]\n",
            " [0.97915831 0.98185258 0.9799666  0.9790026 ]\n",
            " [0.97895079 0.97920673 0.97872186 0.98000906]\n",
            " [0.97997454 0.97955259 0.9795344  0.97835237]\n",
            " [0.97835245 0.97941771 0.97959664 0.97937267]\n",
            " [0.97936583 0.97902342 0.97606296 0.97597975]\n",
            " [0.97597637 0.97730103 0.97677868 0.9774808 ]\n",
            " [0.97747396 0.97670268 0.97491157 0.97549554]\n",
            " [0.97547141 0.97763651 0.97476981 0.97781628]\n",
            " [0.97781982 0.9789162  0.97332107 0.97359674]\n",
            " [0.97350691 0.9750875  0.97179281 0.97464471]\n",
            " [0.97466209 0.97753275 0.97500838 0.97695508]\n",
            " [0.97693441 0.98641451 0.97773298 0.98624153]\n",
            " [0.9861897  0.98771495 0.98007379 0.97972545]\n",
            " [0.97970477 0.97914102 0.97415435 0.97620802]\n",
            " [0.97619081 0.97777486 0.97489774 0.97468276]\n",
            " [0.97471051 0.97503217 0.97326575 0.97508742]\n",
            " [0.97507713 0.97681336 0.97439293 0.97694817]\n",
            " [0.97692058 0.98268957 0.97645021 0.98196319]]\n"
          ]
        }
      ],
      "source": [
        "print(X[-1])"
      ]
    },
    {
      "cell_type": "code",
      "execution_count": 27,
      "metadata": {
        "colab": {
          "base_uri": "https://localhost:8080/"
        },
        "id": "plEgpMeQ3uvA",
        "outputId": "62472221-56a3-42b1-ff61-2b4b91bc4b19"
      },
      "outputs": [
        {
          "name": "stdout",
          "output_type": "stream",
          "text": [
            "[0.98010244 0.9823056  0.98431161 0.98469552 0.98672228]\n"
          ]
        }
      ],
      "source": [
        "print(y[-1])"
      ]
    },
    {
      "cell_type": "code",
      "execution_count": 28,
      "metadata": {
        "colab": {
          "base_uri": "https://localhost:8080/",
          "height": 408
        },
        "id": "5j_wkyXD5s_s",
        "outputId": "13511d5b-1acf-450a-8259-13ee9a53e3e9"
      },
      "outputs": [
        {
          "name": "stdout",
          "output_type": "stream",
          "text": [
            "Model: \"model\"\n",
            "_________________________________________________________________\n",
            " Layer (type)                Output Shape              Param #   \n",
            "=================================================================\n",
            " input_1 (InputLayer)        [(None, 240, 4)]          0         \n",
            "                                                                 \n",
            " bidirectional (Bidirectiona  (None, 240, 200)         84000     \n",
            " l)                                                              \n",
            "                                                                 \n",
            " bidirectional_1 (Bidirectio  (None, 240, 200)         240800    \n",
            " nal)                                                            \n",
            "                                                                 \n",
            " bidirectional_2 (Bidirectio  (None, 240, 200)         240800    \n",
            " nal)                                                            \n",
            "                                                                 \n",
            " bidirectional_3 (Bidirectio  (None, 200)              240800    \n",
            " nal)                                                            \n",
            "                                                                 \n",
            " dense (Dense)               (None, 150)               30150     \n",
            "                                                                 \n",
            " dropout (Dropout)           (None, 150)               0         \n",
            "                                                                 \n",
            " dense_1 (Dense)             (None, 5)                 755       \n",
            "                                                                 \n",
            "=================================================================\n",
            "Total params: 837,305\n",
            "Trainable params: 837,305\n",
            "Non-trainable params: 0\n",
            "_________________________________________________________________\n"
          ]
        }
      ],
      "source": [
        "X_train, X_test, y_train, y_test = train_test_split(X, y, test_size=0.33, random_state=0, shuffle=False)\n",
        "X_val, X_test, y_val,  y_test = train_test_split(X_test, y_test, test_size=0.01, random_state=0, shuffle=False)\n",
        "\n",
        "seq_len = X_train.shape[1]\n",
        "n_features = X_train.shape[2]\n",
        "output_dim = y_train.shape[1]\n",
        "\n",
        "i = Input(shape=(seq_len, n_features))\n",
        "X = Bidirectional(LSTM(100, return_sequences=True))(i)\n",
        "X = Bidirectional(LSTM(100, return_sequences=True))(X)\n",
        "X = Bidirectional(LSTM(100, return_sequences=True))(X)\n",
        "X = Bidirectional(LSTM(100))(X)\n",
        "#X = Dropout(0.5)(X)\n",
        "X = Dense(150, activation=\"relu\")(X)\n",
        "X = Dropout(0.5)(X)\n",
        "X = Dense(output_dim)(X)\n",
        "\n",
        "model = Model(i, X)\n",
        "model.summary()\n"
      ]
    },
    {
      "cell_type": "code",
      "execution_count": 29,
      "metadata": {
        "colab": {
          "base_uri": "https://localhost:8080/"
        },
        "id": "i8q4twW84DPd",
        "outputId": "7749addf-c964-4642-d789-c97dd802c6c5"
      },
      "outputs": [
        {
          "name": "stdout",
          "output_type": "stream",
          "text": [
            "Epoch 1/100\n"
          ]
        }
      ],
      "source": [
        "\n",
        "es = EarlyStopping(monitor='val_loss', patience=12, restore_best_weights=True, verbose=2)\n",
        "rlr = ReduceLROnPlateau(monitor='val_loss', factor=0.5, patience=6, min_lr=1e-6, verbose=2)\n",
        "mc = ModelCheckpoint(m_label + 'lstm_best.keras', monitor='val_loss', save_best_only=True, verbose=2)\n",
        "model.compile(optimizer=Adam(learning_rate=0.001),\n",
        "              loss='mse',\n",
        "              metrics=['mae',tf.keras.metrics.RootMeanSquaredError(),'mape','msle'])\n",
        "r = model.fit(\n",
        "  X_train, y_train,\n",
        "  validation_data=(X_val, y_val),\n",
        "  epochs=100,\n",
        "  #batch_size=1024,\n",
        "  callbacks=[es, rlr, mc ],\n",
        "  verbose=1\n",
        "\n",
        ")\n",
        "\n",
        "\n"
      ]
    },
    {
      "cell_type": "code",
      "execution_count": null,
      "metadata": {
        "id": "gN-5WQ-M4QOP"
      },
      "outputs": [],
      "source": [
        "plt.title(\"Loss on data\")\n",
        "plt.plot(r.history['loss'], label=\"loss\")\n",
        "plt.plot(r.history['val_loss'], label=\"val_loss\")\n",
        "plt.legend()\n",
        "plt.show()\n",
        "\n",
        "plt.title(\"MAE on data\")\n",
        "plt.plot(r.history['mae'], label=\"mae\")\n",
        "plt.plot(r.history['val_mae'], label=\"val_mae\")\n",
        "plt.legend()\n",
        "plt.show()\n",
        "\n",
        "plt.title(\"mape on data\")\n",
        "plt.plot(r.history['mape'], label=\"mape\")\n",
        "plt.plot(r.history['val_mape'], label=\"val_mape\")\n",
        "plt.legend()\n",
        "plt.show()\n",
        "\n",
        "plt.title(\"msle on data\")\n",
        "plt.plot(r.history['msle'], label=\"msle\")\n",
        "plt.plot(r.history['val_msle'], label=\"val_msle\")\n",
        "plt.legend()\n",
        "plt.show()\n",
        "\n",
        "plt.title(\"root_mean_squared_error on data\")\n",
        "plt.plot(r.history['root_mean_squared_error'], label=\"root_mean_squared_error\")\n",
        "plt.plot(r.history['val_root_mean_squared_error'], label=\"val_root_mean_squared_error\")\n",
        "plt.legend()\n",
        "plt.show()\n",
        "\n",
        "\n"
      ]
    },
    {
      "cell_type": "code",
      "execution_count": 1,
      "metadata": {},
      "outputs": [
        {
          "ename": "NameError",
          "evalue": "name 'load_model' is not defined",
          "output_type": "error",
          "traceback": [
            "\u001b[1;31m---------------------------------------------------------------------------\u001b[0m",
            "\u001b[1;31mNameError\u001b[0m                                 Traceback (most recent call last)",
            "Cell \u001b[1;32mIn[1], line 1\u001b[0m\n\u001b[1;32m----> 1\u001b[0m best_model \u001b[38;5;241m=\u001b[39m \u001b[43mload_model\u001b[49m(m_label \u001b[38;5;241m+\u001b[39m \u001b[38;5;124m'\u001b[39m\u001b[38;5;124mlstm_best.keras\u001b[39m\u001b[38;5;124m'\u001b[39m)\n",
            "\u001b[1;31mNameError\u001b[0m: name 'load_model' is not defined"
          ]
        }
      ],
      "source": [
        "best_model = load_model(m_label + 'lstm_best.keras')\n"
      ]
    },
    {
      "cell_type": "code",
      "execution_count": null,
      "metadata": {},
      "outputs": [],
      "source": [
        "best_model.summary()"
      ]
    },
    {
      "cell_type": "code",
      "execution_count": null,
      "metadata": {},
      "outputs": [],
      "source": [
        "best_model.evaluate(X1[-100:],y1[-100:])"
      ]
    },
    {
      "cell_type": "code",
      "execution_count": null,
      "metadata": {},
      "outputs": [],
      "source": [
        "y_pred = best_model.predict(X[-100:])"
      ]
    },
    {
      "cell_type": "code",
      "execution_count": null,
      "metadata": {},
      "outputs": [],
      "source": [
        "print(y[-2:], \" comparing to \", y_pred[-2:])"
      ]
    },
    {
      "cell_type": "code",
      "execution_count": null,
      "metadata": {},
      "outputs": [],
      "source": [
        "print(\"R^2 value for \", m_label)\n",
        "print(r2_score(y[-100:], y_pred))"
      ]
    },
    {
      "cell_type": "code",
      "execution_count": null,
      "metadata": {},
      "outputs": [],
      "source": [
        "y_pred = best_model.predict(X1)\n",
        "print(\"R^2 value for test \", m_label)\n",
        "print(r2_score(y1, y_pred))"
      ]
    },
    {
      "cell_type": "code",
      "execution_count": null,
      "metadata": {},
      "outputs": [],
      "source": [
        "print(y1[-1], \" comparing to \", y_pred[-1])"
      ]
    },
    {
      "cell_type": "code",
      "execution_count": null,
      "metadata": {},
      "outputs": [],
      "source": [
        "\n",
        "\n",
        "\n",
        "\n",
        "plt.figure(figsize=(12, 6))\n",
        "plt.plot(y_test[:, 0], label='Actual Close Price', color='blue')\n",
        "plt.plot(y_pred[:, 0], label='Predicted Close Price', color='red', linestyle='--')\n",
        "plt.title('Actual vs. Predicted Close Price')\n",
        "plt.xlabel('Time')\n",
        "plt.ylabel('Close Price')\n",
        "plt.legend()\n",
        "plt.grid(True)\n",
        "plt.savefig('actual_vs_predicted.png')\n",
        "plt.show()\n",
        "\n",
        "\n",
        "\n",
        "plt.figure(figsize=(12, 6))\n",
        "plt.plot(y1[:, 0], label='Actual Close Price', color='blue')\n",
        "plt.plot(y_pred[:, 0], label='Predicted Close Price', color='red', linestyle='--')\n",
        "plt.title('Actual vs. Predicted Close Price Test')\n",
        "plt.xlabel('Time')\n",
        "plt.ylabel('Close Price')\n",
        "plt.legend()\n",
        "plt.grid(True)\n",
        "plt.savefig('actual_vs_predicted.png')\n",
        "plt.show()"
      ]
    }
  ],
  "metadata": {
    "accelerator": "GPU",
    "colab": {
      "gpuType": "T4",
      "include_colab_link": true,
      "provenance": []
    },
    "kernelspec": {
      "display_name": "Python 3",
      "name": "python3"
    },
    "language_info": {
      "codemirror_mode": {
        "name": "ipython",
        "version": 3
      },
      "file_extension": ".py",
      "mimetype": "text/x-python",
      "name": "python",
      "nbconvert_exporter": "python",
      "pygments_lexer": "ipython3",
      "version": "3.10.13"
    }
  },
  "nbformat": 4,
  "nbformat_minor": 0
}
