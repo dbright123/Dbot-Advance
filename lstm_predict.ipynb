{
  "cells": [
    {
      "cell_type": "markdown",
      "metadata": {
        "colab_type": "text",
        "id": "view-in-github"
      },
      "source": [
        "<a href=\"https://colab.research.google.com/github/dbright123/Dbot-Advance/blob/main/lstm_predict.ipynb\" target=\"_parent\"><img src=\"https://colab.research.google.com/assets/colab-badge.svg\" alt=\"Open In Colab\"/></a>"
      ]
    },
    {
      "cell_type": "code",
      "execution_count": null,
      "metadata": {
        "id": "Z1oCaggK4VKR"
      },
      "outputs": [],
      "source": [
        "import MetaTrader5 as mt5\n",
        "import numpy as np\n",
        "import pandas as pd\n",
        "\n",
        "\n",
        "\n"
      ]
    },
    {
      "cell_type": "code",
      "execution_count": null,
      "metadata": {
        "id": "btJoWVAx4VKS",
        "outputId": "077d53d7-b8ac-4d3c-9251-3f449e68e0f3"
      },
      "outputs": [
        {
          "name": "stdout",
          "output_type": "stream",
          "text": [
            "MetaTrader5 package author:  MetaQuotes Ltd.\n",
            "MetaTrader5 package version:  5.0.5200\n",
            "True\n",
            "{'login': 213644473, 'trade_mode': 0, 'leverage': 1000, 'limit_orders': 500, 'margin_so_mode': 0, 'trade_allowed': True, 'trade_expert': True, 'margin_mode': 2, 'currency_digits': 2, 'fifo_close': False, 'balance': 200.0, 'credit': 0.0, 'profit': 0.0, 'equity': 200.0, 'margin': 0.0, 'margin_free': 200.0, 'margin_level': 0.0, 'margin_so_call': 25.0, 'margin_so_so': 15.0, 'margin_initial': 0.0, 'margin_maintenance': 0.0, 'assets': 0.0, 'liabilities': 0.0, 'commission_blocked': 0.0, 'name': 'micheal bright omage ', 'server': 'OctaFX-Demo', 'currency': 'USD', 'company': 'Octa Markets Incorporated'}\n",
            "\n",
            "\n",
            "{'community_account': False, 'community_connection': False, 'connected': True, 'dlls_allowed': False, 'trade_allowed': False, 'tradeapi_disabled': False, 'email_enabled': False, 'ftp_enabled': False, 'notifications_enabled': False, 'mqid': False, 'build': 5327, 'maxbars': 100000, 'codepage': 0, 'ping_last': 164116, 'community_balance': 0.0, 'retransmission': 0.0, 'company': 'MetaQuotes Ltd.', 'name': 'MetaTrader 5', 'language': 'English', 'path': 'C:\\\\Program Files\\\\MetaTrader 5', 'data_path': 'C:\\\\Users\\\\dbright\\\\AppData\\\\Roaming\\\\MetaQuotes\\\\Terminal\\\\D0E8209F77C8CF37AD8BF550E51FF075', 'commondata_path': 'C:\\\\Users\\\\dbright\\\\AppData\\\\Roaming\\\\MetaQuotes\\\\Terminal\\\\Common'}\n",
            "\n",
            "\n",
            "280\n"
          ]
        }
      ],
      "source": [
        "print(\"MetaTrader5 package author: \",mt5.__author__)\n",
        "print(\"MetaTrader5 package version: \",mt5.__version__)\n",
        "\n",
        "trade_active = mt5.initialize()\n",
        "\n",
        "print(trade_active)\n",
        "\n",
        "if not trade_active:\n",
        "    print('Initialization failed, check internet connection. You must have Meta Trader 5 installed.')\n",
        "    mt5.shutdown()\n",
        "\n",
        "else:\n",
        "    print(mt5.account_info()._asdict())\n",
        "    print(\"\\n\")\n",
        "    print(mt5.terminal_info()._asdict())\n",
        "    print(\"\\n\")\n",
        "    print(mt5.symbols_total())"
      ]
    },
    {
      "cell_type": "code",
      "execution_count": null,
      "metadata": {
        "id": "ep9xWhDh4VKU",
        "outputId": "31c79ec1-fd31-4335-d881-2db8f23fed61"
      },
      "outputs": [
        {
          "name": "stdout",
          "output_type": "stream",
          "text": [
            "200.0\n",
            "AI is successfully functional\n"
          ]
        }
      ],
      "source": [
        "account = mt5.account_info()\n",
        "terminal = mt5.terminal_info()\n",
        "\n",
        "print(account.equity)\n",
        "\n",
        "if(terminal.connected == True or terminal.trade_allowed == True):\n",
        "    print(\"AI is successfully functional\")\n",
        "else:\n",
        "    print(\"Please make sure metatrade 5 has internet and algo Trade is Turn On\")"
      ]
    },
    {
      "cell_type": "code",
      "execution_count": null,
      "metadata": {
        "id": "Cm6_C7cwJaFl",
        "outputId": "14ed083f-33ea-49ce-81da-0259753f3a03"
      },
      "outputs": [
        {
          "name": "stdout",
          "output_type": "stream",
          "text": [
            "280\n",
            "Yes  EURUSD\n",
            "Yes  GBPUSD\n",
            "Yes  USDJPY\n",
            "Yes  USDCHF\n",
            "Yes  AUDUSD\n",
            "Yes  NZDUSD\n",
            "Yes  USDCAD\n",
            "Yes  USDMXN\n",
            "Yes  USDZAR\n",
            "Yes  XAGUSD\n",
            "Yes  XAUUSD\n",
            "Yes  XBRUSD\n",
            "Yes  XTIUSD\n",
            "Yes  XNGUSD\n",
            "Yes  BTCUSD\n",
            "Yes  ETHUSD\n",
            "Yes  LTCUSD\n",
            "Yes  XRPUSD\n",
            "Yes  BCHUSD\n",
            "Yes  AAVEUSD\n",
            "Yes  ADAUSD\n",
            "Yes  ALGOUSD\n",
            "Yes  ATOMUSD\n",
            "Yes  AVAXUSD\n",
            "Yes  AXSUSD\n",
            "Yes  BNBUSD\n",
            "Yes  DASHUSD\n",
            "Yes  DOGEUSD\n",
            "Yes  DOTUSD\n",
            "Yes  FILUSD\n",
            "Yes  GRTUSD\n",
            "Yes  ICPUSD\n",
            "Yes  IOTAUSD\n",
            "Yes  LINKUSD\n",
            "Yes  LRCUSD\n",
            "Yes  MANAUSD\n",
            "Yes  NEARUSD\n",
            "Yes  SOLUSD\n",
            "Yes  UNIUSD\n",
            "Yes  ZECUSD\n",
            "Yes  ETCUSD\n",
            "Yes  TRXUSD\n",
            "Yes  FETUSD\n",
            "Yes  ARBUSD\n",
            "Yes  APTUSD\n",
            "Yes  SUIUSD\n",
            "Yes  USDDKK\n",
            "Yes  USDCZK\n",
            "Yes  USDHUF\n",
            "Yes  USDNOK\n",
            "Yes  USDPLN\n",
            "Yes  USDSEK\n",
            "Yes  USDSGD\n",
            "Yes  USDHKD\n",
            "Yes  USDCNH\n",
            "Yes  USDTRY\n",
            "Yes  XBRUSD.Daily\n",
            "Yes  XTIUSD.Daily\n",
            "Yes  BTCUSD.Daily\n",
            "Yes  ETHUSD.Daily\n",
            "Yes  XRPUSD.Daily\n",
            "Yes  LTCUSD.Daily\n",
            "Yes  BCHUSD.Daily\n",
            "Yes  LINKUSD.Daily\n",
            "Yes  SOLUSD.Daily\n",
            "65\n"
          ]
        }
      ],
      "source": [
        "symbols = mt5.symbols_get()\n",
        "print(len(symbols))\n",
        "t_symbol = []\n",
        "for symbol in symbols:\n",
        "    if \"USD\" in symbol.name:\n",
        "        print(\"Yes \", symbol.name)\n",
        "        t_symbol.append(symbol.name)\n",
        "\n",
        "print(len(t_symbol))"
      ]
    },
    {
      "cell_type": "code",
      "execution_count": null,
      "metadata": {
        "id": "v4Nye5Nj2DGW",
        "outputId": "0dec2b90-1041-4a82-ca35-4016bfbf33f0"
      },
      "outputs": [
        {
          "data": {
            "text/plain": [
              "array([(1251374400, 1.42654, 1.4275 , 1.42551, 1.42554, 2320, 20, 0),\n",
              "       (1251378000, 1.4255 , 1.42816, 1.4254 , 1.42773, 2302, 20, 0),\n",
              "       (1251381600, 1.42774, 1.42818, 1.42469, 1.4256 , 3678, 20, 0), ...,\n",
              "       (1759525200, 1.17335, 1.17399, 1.17265, 1.17393, 2009,  8, 0),\n",
              "       (1759528800, 1.1739 , 1.17418, 1.17369, 1.17405, 1529,  8, 0),\n",
              "       (1759532400, 1.17408, 1.17444, 1.1738 , 1.1738 , 1423,  8, 0)],\n",
              "      dtype=[('time', '<i8'), ('open', '<f8'), ('high', '<f8'), ('low', '<f8'), ('close', '<f8'), ('tick_volume', '<u8'), ('spread', '<i4'), ('real_volume', '<u8')])"
            ]
          },
          "metadata": {},
          "output_type": "display_data"
        }
      ],
      "source": [
        "market = mt5.copy_rates_from_pos(t_symbol[0], mt5.TIMEFRAME_H1, 0, 99999)\n",
        "display(market)"
      ]
    },
    {
      "cell_type": "code",
      "execution_count": null,
      "metadata": {
        "id": "PT_T7TBpJaFl"
      },
      "outputs": [],
      "source": [
        "test_symbol = []\n",
        "for t_s in t_symbol:\n",
        "    market = mt5.copy_rates_from_pos(t_s, mt5.TIMEFRAME_H1, 0, 99999)\n",
        "    if(len(market) > 80000 and market[0][4] < 1):\n",
        "        data = []\n",
        "        for i in range(len(market)):\n",
        "            data.append([market[i][1],market[i][2],market[i][3],market[i][4]])\n",
        "        df = pd.DataFrame(data, columns=[\"open\", \"high\",\"low\", \"close\"])\n",
        "        df.to_csv(\"Generated\"+t_s+\" dbot.csv\", index=False)\n",
        "        test_symbol.append(t_s)\n"
      ]
    },
    {
      "cell_type": "code",
      "execution_count": null,
      "metadata": {
        "id": "b4CF7z2N8h2S"
      },
      "outputs": [],
      "source": [
        "\n",
        "for t_s in test_symbol:\n",
        "    market = mt5.copy_rates_from_pos(t_s, mt5.TIMEFRAME_D1, 0, 1000)\n",
        "    if(len(market) > 900):\n",
        "        data = []\n",
        "        for i in range(len(market)):\n",
        "            data.append([market[i][1],market[i][2],market[i][3],market[i][4]])\n",
        "        df = pd.DataFrame(data, columns=[\"open\", \"high\",\"low\", \"close\"])\n",
        "        df.to_csv(\"Generated\"+t_s+\" test.csv\", index=False)\n",
        "\n"
      ]
    },
    {
      "cell_type": "code",
      "execution_count": null,
      "metadata": {
        "id": "hjdWs03YJaFm",
        "outputId": "65b3d587-0c44-45ea-8550-33b17d991ad6"
      },
      "outputs": [
        {
          "data": {
            "text/plain": [
              "['symbol.joblib']"
            ]
          },
          "execution_count": 15,
          "metadata": {},
          "output_type": "execute_result"
        }
      ],
      "source": [
        "import joblib\n",
        "\n",
        "joblib.dump(t_symbol,\"symbol.joblib\")"
      ]
    },
    {
      "cell_type": "code",
      "execution_count": 1,
      "metadata": {
        "id": "M8QyUXsy4op6"
      },
      "outputs": [],
      "source": [
        "import numpy as np # linear algebra\n",
        "import pandas as pd # data processing, CSV file I/O (e.g. pd.read_csv)\n",
        "import tensorflow as tf\n"
      ]
    },
    {
      "cell_type": "code",
      "execution_count": 2,
      "metadata": {
        "id": "PqACycZPJaFn"
      },
      "outputs": [],
      "source": [
        "from sklearn.preprocessing import MinMaxScaler, StandardScaler\n",
        "from sklearn.metrics import mean_squared_error, mean_absolute_error\n",
        "import math\n",
        "import joblib\n",
        "import os\n",
        "from sklearn.model_selection import train_test_split"
      ]
    },
    {
      "cell_type": "code",
      "execution_count": 3,
      "metadata": {
        "id": "tpswK5-7JaFo"
      },
      "outputs": [],
      "source": [
        "from tensorflow.keras.optimizers import SGD,Adam\n",
        "import matplotlib.pyplot as plt\n",
        "\n",
        "\n",
        "\n",
        "from tensorflow.keras import Model\n",
        "from tensorflow.keras.layers import Input, LSTM, Dense, Dropout, BatchNormalization, LayerNormalization, Bidirectional\n",
        "from tensorflow.keras.callbacks import EarlyStopping, ReduceLROnPlateau, ModelCheckpoint\n",
        "\n",
        "from sklearn.metrics import r2_score\n",
        "from tensorflow.keras.models import load_model"
      ]
    },
    {
      "cell_type": "code",
      "execution_count": 4,
      "metadata": {
        "id": "e5GJ3N6HJaFo"
      },
      "outputs": [],
      "source": [
        "# Get the list of all files and directories in the specified path\n",
        "\n",
        "dir_contents = os.listdir(\".\")\n",
        "t_symbol = joblib.load(\"symbol.joblib\")"
      ]
    },
    {
      "cell_type": "code",
      "execution_count": 5,
      "metadata": {
        "colab": {
          "base_uri": "https://localhost:8080/"
        },
        "id": "G82RO07oi6t1",
        "outputId": "679b1771-f61c-499c-811d-b960d68c7a8d"
      },
      "outputs": [
        {
          "name": "stdout",
          "output_type": "stream",
          "text": [
            "['EURUSD', 'GBPUSD', 'USDJPY', 'USDCHF', 'AUDUSD', 'NZDUSD', 'USDCAD', 'USDMXN', 'USDZAR', 'XAGUSD', 'XAUUSD', 'XBRUSD', 'XTIUSD', 'XNGUSD', 'BTCUSD', 'ETHUSD', 'LTCUSD', 'XRPUSD', 'BCHUSD', 'AAVEUSD', 'ADAUSD', 'ALGOUSD', 'ATOMUSD', 'AVAXUSD', 'AXSUSD', 'BNBUSD', 'DASHUSD', 'DOGEUSD', 'DOTUSD', 'FILUSD', 'GRTUSD', 'ICPUSD', 'IOTAUSD', 'LINKUSD', 'LRCUSD', 'MANAUSD', 'NEARUSD', 'SOLUSD', 'UNIUSD', 'ZECUSD', 'ETCUSD', 'TRXUSD', 'FETUSD', 'ARBUSD', 'APTUSD', 'SUIUSD', 'USDDKK', 'USDCZK', 'USDHUF', 'USDNOK', 'USDPLN', 'USDSEK', 'USDSGD', 'USDHKD', 'USDCNH', 'USDTRY', 'XBRUSD.Daily', 'XTIUSD.Daily', 'BTCUSD.Daily', 'ETHUSD.Daily', 'XRPUSD.Daily', 'LTCUSD.Daily', 'BCHUSD.Daily', 'LINKUSD.Daily', 'SOLUSD.Daily']\n"
          ]
        }
      ],
      "source": [
        "print(t_symbol)"
      ]
    },
    {
      "cell_type": "code",
      "execution_count": 6,
      "metadata": {
        "id": "UC2tpiHOpgVu"
      },
      "outputs": [],
      "source": [
        "#t_symbol = [\"EURUSD\",\"AUDUSD\",\"GBPUSD\",\"USDCAD\"]"
      ]
    },
    {
      "cell_type": "code",
      "execution_count": 6,
      "metadata": {
        "colab": {
          "base_uri": "https://localhost:8080/"
        },
        "id": "L9Urbl8tJaFp",
        "outputId": "b6299a2a-23c2-42c6-8f42-2268afe6c8e7"
      },
      "outputs": [
        {
          "name": "stdout",
          "output_type": "stream",
          "text": [
            "GeneratedAUDUSD dbot.csv\n",
            "GeneratedNZDUSD dbot.csv\n",
            "----------------------------------------------------\n",
            "2\n",
            "2\n"
          ]
        }
      ],
      "source": [
        "\n",
        "# Filter the list to include only files, not directories\n",
        "# os.path.join is used to create a full path for isfile() to check\n",
        "files = [item for item in dir_contents]\n",
        "\n",
        "file_target = []\n",
        "test_target = []\n",
        "\n",
        "for filename in files:\n",
        "    for t_s in t_symbol:\n",
        "        if t_s in filename  and \"dbot.csv\" in filename:\n",
        "            print(filename)\n",
        "            file_target.append(filename)\n",
        "            test_target.append(filename.replace(\"dbot\",\"test\"))\n",
        "\n",
        "print(\"----------------------------------------------------\")\n",
        "\n",
        "print(len(file_target))\n",
        "print(len(test_target))\n",
        "train_dfs = []\n",
        "for f_t in file_target:\n",
        "    train_dfs.append(pd.read_csv(f_t))\n",
        "\n",
        "train_dfs_test = []\n",
        "for f_t in test_target:\n",
        "    train_dfs_test.append(pd.read_csv(f_t))"
      ]
    },
    {
      "cell_type": "code",
      "execution_count": 7,
      "metadata": {
        "colab": {
          "base_uri": "https://localhost:8080/",
          "height": 424
        },
        "id": "94sFD1Kc29tr",
        "outputId": "c8aa60f1-e8b6-4aa1-b736-2bef8f7d1611"
      },
      "outputs": [
        {
          "data": {
            "text/html": [
              "<div>\n",
              "<style scoped>\n",
              "    .dataframe tbody tr th:only-of-type {\n",
              "        vertical-align: middle;\n",
              "    }\n",
              "\n",
              "    .dataframe tbody tr th {\n",
              "        vertical-align: top;\n",
              "    }\n",
              "\n",
              "    .dataframe thead th {\n",
              "        text-align: right;\n",
              "    }\n",
              "</style>\n",
              "<table border=\"1\" class=\"dataframe\">\n",
              "  <thead>\n",
              "    <tr style=\"text-align: right;\">\n",
              "      <th></th>\n",
              "      <th>open</th>\n",
              "      <th>high</th>\n",
              "      <th>low</th>\n",
              "      <th>close</th>\n",
              "    </tr>\n",
              "  </thead>\n",
              "  <tbody>\n",
              "    <tr>\n",
              "      <th>0</th>\n",
              "      <td>0.84057</td>\n",
              "      <td>0.84059</td>\n",
              "      <td>0.83818</td>\n",
              "      <td>0.83867</td>\n",
              "    </tr>\n",
              "    <tr>\n",
              "      <th>1</th>\n",
              "      <td>0.83869</td>\n",
              "      <td>0.83914</td>\n",
              "      <td>0.83827</td>\n",
              "      <td>0.83865</td>\n",
              "    </tr>\n",
              "    <tr>\n",
              "      <th>2</th>\n",
              "      <td>0.83866</td>\n",
              "      <td>0.83950</td>\n",
              "      <td>0.83863</td>\n",
              "      <td>0.83927</td>\n",
              "    </tr>\n",
              "    <tr>\n",
              "      <th>3</th>\n",
              "      <td>0.83928</td>\n",
              "      <td>0.84099</td>\n",
              "      <td>0.83778</td>\n",
              "      <td>0.83974</td>\n",
              "    </tr>\n",
              "    <tr>\n",
              "      <th>4</th>\n",
              "      <td>0.83973</td>\n",
              "      <td>0.84158</td>\n",
              "      <td>0.83926</td>\n",
              "      <td>0.84040</td>\n",
              "    </tr>\n",
              "    <tr>\n",
              "      <th>...</th>\n",
              "      <td>...</td>\n",
              "      <td>...</td>\n",
              "      <td>...</td>\n",
              "      <td>...</td>\n",
              "    </tr>\n",
              "    <tr>\n",
              "      <th>99994</th>\n",
              "      <td>0.65906</td>\n",
              "      <td>0.65922</td>\n",
              "      <td>0.65839</td>\n",
              "      <td>0.65879</td>\n",
              "    </tr>\n",
              "    <tr>\n",
              "      <th>99995</th>\n",
              "      <td>0.65878</td>\n",
              "      <td>0.65936</td>\n",
              "      <td>0.65865</td>\n",
              "      <td>0.65931</td>\n",
              "    </tr>\n",
              "    <tr>\n",
              "      <th>99996</th>\n",
              "      <td>0.65935</td>\n",
              "      <td>0.65977</td>\n",
              "      <td>0.65915</td>\n",
              "      <td>0.65974</td>\n",
              "    </tr>\n",
              "    <tr>\n",
              "      <th>99997</th>\n",
              "      <td>0.65976</td>\n",
              "      <td>0.66068</td>\n",
              "      <td>0.65920</td>\n",
              "      <td>0.66063</td>\n",
              "    </tr>\n",
              "    <tr>\n",
              "      <th>99998</th>\n",
              "      <td>0.66064</td>\n",
              "      <td>0.66085</td>\n",
              "      <td>0.66046</td>\n",
              "      <td>0.66061</td>\n",
              "    </tr>\n",
              "  </tbody>\n",
              "</table>\n",
              "<p>99999 rows × 4 columns</p>\n",
              "</div>"
            ],
            "text/plain": [
              "          open     high      low    close\n",
              "0      0.84057  0.84059  0.83818  0.83867\n",
              "1      0.83869  0.83914  0.83827  0.83865\n",
              "2      0.83866  0.83950  0.83863  0.83927\n",
              "3      0.83928  0.84099  0.83778  0.83974\n",
              "4      0.83973  0.84158  0.83926  0.84040\n",
              "...        ...      ...      ...      ...\n",
              "99994  0.65906  0.65922  0.65839  0.65879\n",
              "99995  0.65878  0.65936  0.65865  0.65931\n",
              "99996  0.65935  0.65977  0.65915  0.65974\n",
              "99997  0.65976  0.66068  0.65920  0.66063\n",
              "99998  0.66064  0.66085  0.66046  0.66061\n",
              "\n",
              "[99999 rows x 4 columns]"
            ]
          },
          "metadata": {},
          "output_type": "display_data"
        }
      ],
      "source": [
        "display(train_dfs[0])"
      ]
    },
    {
      "cell_type": "code",
      "execution_count": 9,
      "metadata": {
        "colab": {
          "base_uri": "https://localhost:8080/",
          "height": 424
        },
        "id": "tOE5gYlbhIFd",
        "outputId": "a9da9a6f-ec25-4759-e740-841cb535bf7f"
      },
      "outputs": [
        {
          "data": {
            "application/vnd.google.colaboratory.intrinsic+json": {
              "summary": "{\n  \"name\": \"display(train_dfs_test[0])\",\n  \"rows\": 1000,\n  \"fields\": [\n    {\n      \"column\": \"open\",\n      \"properties\": {\n        \"dtype\": \"number\",\n        \"std\": 0.028618985382335174,\n        \"min\": 0.59568,\n        \"max\": 0.7575,\n        \"num_unique_values\": 948,\n        \"samples\": [\n          0.65619,\n          0.66417,\n          0.69008\n        ],\n        \"semantic_type\": \"\",\n        \"description\": \"\"\n      }\n    },\n    {\n      \"column\": \"high\",\n      \"properties\": {\n        \"dtype\": \"number\",\n        \"std\": 0.028832420986782542,\n        \"min\": 0.60847,\n        \"max\": 0.76607,\n        \"num_unique_values\": 943,\n        \"samples\": [\n          0.72648,\n          0.67756,\n          0.63308\n        ],\n        \"semantic_type\": \"\",\n        \"description\": \"\"\n      }\n    },\n    {\n      \"column\": \"low\",\n      \"properties\": {\n        \"dtype\": \"number\",\n        \"std\": 0.02844601069433152,\n        \"min\": 0.5913,\n        \"max\": 0.75354,\n        \"num_unique_values\": 935,\n        \"samples\": [\n          0.66093,\n          0.74659,\n          0.62744\n        ],\n        \"semantic_type\": \"\",\n        \"description\": \"\"\n      }\n    },\n    {\n      \"column\": \"close\",\n      \"properties\": {\n        \"dtype\": \"number\",\n        \"std\": 0.028631184746013585,\n        \"min\": 0.59537,\n        \"max\": 0.7576,\n        \"num_unique_values\": 945,\n        \"samples\": [\n          0.64082,\n          0.67512,\n          0.69091\n        ],\n        \"semantic_type\": \"\",\n        \"description\": \"\"\n      }\n    }\n  ]\n}",
              "type": "dataframe"
            },
            "text/html": [
              "\n",
              "  <div id=\"df-796ad0dd-bdf9-412b-bc06-50bd6fb37c37\" class=\"colab-df-container\">\n",
              "    <div>\n",
              "<style scoped>\n",
              "    .dataframe tbody tr th:only-of-type {\n",
              "        vertical-align: middle;\n",
              "    }\n",
              "\n",
              "    .dataframe tbody tr th {\n",
              "        vertical-align: top;\n",
              "    }\n",
              "\n",
              "    .dataframe thead th {\n",
              "        text-align: right;\n",
              "    }\n",
              "</style>\n",
              "<table border=\"1\" class=\"dataframe\">\n",
              "  <thead>\n",
              "    <tr style=\"text-align: right;\">\n",
              "      <th></th>\n",
              "      <th>open</th>\n",
              "      <th>high</th>\n",
              "      <th>low</th>\n",
              "      <th>close</th>\n",
              "    </tr>\n",
              "  </thead>\n",
              "  <tbody>\n",
              "    <tr>\n",
              "      <th>0</th>\n",
              "      <td>0.71238</td>\n",
              "      <td>0.71324</td>\n",
              "      <td>0.70817</td>\n",
              "      <td>0.71097</td>\n",
              "    </tr>\n",
              "    <tr>\n",
              "      <th>1</th>\n",
              "      <td>0.71060</td>\n",
              "      <td>0.71557</td>\n",
              "      <td>0.70982</td>\n",
              "      <td>0.71521</td>\n",
              "    </tr>\n",
              "    <tr>\n",
              "      <th>2</th>\n",
              "      <td>0.71501</td>\n",
              "      <td>0.72199</td>\n",
              "      <td>0.71203</td>\n",
              "      <td>0.72115</td>\n",
              "    </tr>\n",
              "    <tr>\n",
              "      <th>3</th>\n",
              "      <td>0.72088</td>\n",
              "      <td>0.72513</td>\n",
              "      <td>0.71916</td>\n",
              "      <td>0.72398</td>\n",
              "    </tr>\n",
              "    <tr>\n",
              "      <th>4</th>\n",
              "      <td>0.72398</td>\n",
              "      <td>0.72435</td>\n",
              "      <td>0.72156</td>\n",
              "      <td>0.72161</td>\n",
              "    </tr>\n",
              "    <tr>\n",
              "      <th>...</th>\n",
              "      <td>...</td>\n",
              "      <td>...</td>\n",
              "      <td>...</td>\n",
              "      <td>...</td>\n",
              "    </tr>\n",
              "    <tr>\n",
              "      <th>995</th>\n",
              "      <td>0.65754</td>\n",
              "      <td>0.66277</td>\n",
              "      <td>0.65703</td>\n",
              "      <td>0.66112</td>\n",
              "    </tr>\n",
              "    <tr>\n",
              "      <th>996</th>\n",
              "      <td>0.66105</td>\n",
              "      <td>0.66279</td>\n",
              "      <td>0.65886</td>\n",
              "      <td>0.66109</td>\n",
              "    </tr>\n",
              "    <tr>\n",
              "      <th>997</th>\n",
              "      <td>0.66117</td>\n",
              "      <td>0.66238</td>\n",
              "      <td>0.65761</td>\n",
              "      <td>0.65939</td>\n",
              "    </tr>\n",
              "    <tr>\n",
              "      <th>998</th>\n",
              "      <td>0.65933</td>\n",
              "      <td>0.66134</td>\n",
              "      <td>0.65882</td>\n",
              "      <td>0.65999</td>\n",
              "    </tr>\n",
              "    <tr>\n",
              "      <th>999</th>\n",
              "      <td>0.65936</td>\n",
              "      <td>0.66085</td>\n",
              "      <td>0.65839</td>\n",
              "      <td>0.66065</td>\n",
              "    </tr>\n",
              "  </tbody>\n",
              "</table>\n",
              "<p>1000 rows × 4 columns</p>\n",
              "</div>\n",
              "    <div class=\"colab-df-buttons\">\n",
              "\n",
              "  <div class=\"colab-df-container\">\n",
              "    <button class=\"colab-df-convert\" onclick=\"convertToInteractive('df-796ad0dd-bdf9-412b-bc06-50bd6fb37c37')\"\n",
              "            title=\"Convert this dataframe to an interactive table.\"\n",
              "            style=\"display:none;\">\n",
              "\n",
              "  <svg xmlns=\"http://www.w3.org/2000/svg\" height=\"24px\" viewBox=\"0 -960 960 960\">\n",
              "    <path d=\"M120-120v-720h720v720H120Zm60-500h600v-160H180v160Zm220 220h160v-160H400v160Zm0 220h160v-160H400v160ZM180-400h160v-160H180v160Zm440 0h160v-160H620v160ZM180-180h160v-160H180v160Zm440 0h160v-160H620v160Z\"/>\n",
              "  </svg>\n",
              "    </button>\n",
              "\n",
              "  <style>\n",
              "    .colab-df-container {\n",
              "      display:flex;\n",
              "      gap: 12px;\n",
              "    }\n",
              "\n",
              "    .colab-df-convert {\n",
              "      background-color: #E8F0FE;\n",
              "      border: none;\n",
              "      border-radius: 50%;\n",
              "      cursor: pointer;\n",
              "      display: none;\n",
              "      fill: #1967D2;\n",
              "      height: 32px;\n",
              "      padding: 0 0 0 0;\n",
              "      width: 32px;\n",
              "    }\n",
              "\n",
              "    .colab-df-convert:hover {\n",
              "      background-color: #E2EBFA;\n",
              "      box-shadow: 0px 1px 2px rgba(60, 64, 67, 0.3), 0px 1px 3px 1px rgba(60, 64, 67, 0.15);\n",
              "      fill: #174EA6;\n",
              "    }\n",
              "\n",
              "    .colab-df-buttons div {\n",
              "      margin-bottom: 4px;\n",
              "    }\n",
              "\n",
              "    [theme=dark] .colab-df-convert {\n",
              "      background-color: #3B4455;\n",
              "      fill: #D2E3FC;\n",
              "    }\n",
              "\n",
              "    [theme=dark] .colab-df-convert:hover {\n",
              "      background-color: #434B5C;\n",
              "      box-shadow: 0px 1px 3px 1px rgba(0, 0, 0, 0.15);\n",
              "      filter: drop-shadow(0px 1px 2px rgba(0, 0, 0, 0.3));\n",
              "      fill: #FFFFFF;\n",
              "    }\n",
              "  </style>\n",
              "\n",
              "    <script>\n",
              "      const buttonEl =\n",
              "        document.querySelector('#df-796ad0dd-bdf9-412b-bc06-50bd6fb37c37 button.colab-df-convert');\n",
              "      buttonEl.style.display =\n",
              "        google.colab.kernel.accessAllowed ? 'block' : 'none';\n",
              "\n",
              "      async function convertToInteractive(key) {\n",
              "        const element = document.querySelector('#df-796ad0dd-bdf9-412b-bc06-50bd6fb37c37');\n",
              "        const dataTable =\n",
              "          await google.colab.kernel.invokeFunction('convertToInteractive',\n",
              "                                                    [key], {});\n",
              "        if (!dataTable) return;\n",
              "\n",
              "        const docLinkHtml = 'Like what you see? Visit the ' +\n",
              "          '<a target=\"_blank\" href=https://colab.research.google.com/notebooks/data_table.ipynb>data table notebook</a>'\n",
              "          + ' to learn more about interactive tables.';\n",
              "        element.innerHTML = '';\n",
              "        dataTable['output_type'] = 'display_data';\n",
              "        await google.colab.output.renderOutput(dataTable, element);\n",
              "        const docLink = document.createElement('div');\n",
              "        docLink.innerHTML = docLinkHtml;\n",
              "        element.appendChild(docLink);\n",
              "      }\n",
              "    </script>\n",
              "  </div>\n",
              "\n",
              "\n",
              "    <div id=\"df-0121b2dd-8479-4401-b230-a9cc5ff79a9a\">\n",
              "      <button class=\"colab-df-quickchart\" onclick=\"quickchart('df-0121b2dd-8479-4401-b230-a9cc5ff79a9a')\"\n",
              "                title=\"Suggest charts\"\n",
              "                style=\"display:none;\">\n",
              "\n",
              "<svg xmlns=\"http://www.w3.org/2000/svg\" height=\"24px\"viewBox=\"0 0 24 24\"\n",
              "     width=\"24px\">\n",
              "    <g>\n",
              "        <path d=\"M19 3H5c-1.1 0-2 .9-2 2v14c0 1.1.9 2 2 2h14c1.1 0 2-.9 2-2V5c0-1.1-.9-2-2-2zM9 17H7v-7h2v7zm4 0h-2V7h2v10zm4 0h-2v-4h2v4z\"/>\n",
              "    </g>\n",
              "</svg>\n",
              "      </button>\n",
              "\n",
              "<style>\n",
              "  .colab-df-quickchart {\n",
              "      --bg-color: #E8F0FE;\n",
              "      --fill-color: #1967D2;\n",
              "      --hover-bg-color: #E2EBFA;\n",
              "      --hover-fill-color: #174EA6;\n",
              "      --disabled-fill-color: #AAA;\n",
              "      --disabled-bg-color: #DDD;\n",
              "  }\n",
              "\n",
              "  [theme=dark] .colab-df-quickchart {\n",
              "      --bg-color: #3B4455;\n",
              "      --fill-color: #D2E3FC;\n",
              "      --hover-bg-color: #434B5C;\n",
              "      --hover-fill-color: #FFFFFF;\n",
              "      --disabled-bg-color: #3B4455;\n",
              "      --disabled-fill-color: #666;\n",
              "  }\n",
              "\n",
              "  .colab-df-quickchart {\n",
              "    background-color: var(--bg-color);\n",
              "    border: none;\n",
              "    border-radius: 50%;\n",
              "    cursor: pointer;\n",
              "    display: none;\n",
              "    fill: var(--fill-color);\n",
              "    height: 32px;\n",
              "    padding: 0;\n",
              "    width: 32px;\n",
              "  }\n",
              "\n",
              "  .colab-df-quickchart:hover {\n",
              "    background-color: var(--hover-bg-color);\n",
              "    box-shadow: 0 1px 2px rgba(60, 64, 67, 0.3), 0 1px 3px 1px rgba(60, 64, 67, 0.15);\n",
              "    fill: var(--button-hover-fill-color);\n",
              "  }\n",
              "\n",
              "  .colab-df-quickchart-complete:disabled,\n",
              "  .colab-df-quickchart-complete:disabled:hover {\n",
              "    background-color: var(--disabled-bg-color);\n",
              "    fill: var(--disabled-fill-color);\n",
              "    box-shadow: none;\n",
              "  }\n",
              "\n",
              "  .colab-df-spinner {\n",
              "    border: 2px solid var(--fill-color);\n",
              "    border-color: transparent;\n",
              "    border-bottom-color: var(--fill-color);\n",
              "    animation:\n",
              "      spin 1s steps(1) infinite;\n",
              "  }\n",
              "\n",
              "  @keyframes spin {\n",
              "    0% {\n",
              "      border-color: transparent;\n",
              "      border-bottom-color: var(--fill-color);\n",
              "      border-left-color: var(--fill-color);\n",
              "    }\n",
              "    20% {\n",
              "      border-color: transparent;\n",
              "      border-left-color: var(--fill-color);\n",
              "      border-top-color: var(--fill-color);\n",
              "    }\n",
              "    30% {\n",
              "      border-color: transparent;\n",
              "      border-left-color: var(--fill-color);\n",
              "      border-top-color: var(--fill-color);\n",
              "      border-right-color: var(--fill-color);\n",
              "    }\n",
              "    40% {\n",
              "      border-color: transparent;\n",
              "      border-right-color: var(--fill-color);\n",
              "      border-top-color: var(--fill-color);\n",
              "    }\n",
              "    60% {\n",
              "      border-color: transparent;\n",
              "      border-right-color: var(--fill-color);\n",
              "    }\n",
              "    80% {\n",
              "      border-color: transparent;\n",
              "      border-right-color: var(--fill-color);\n",
              "      border-bottom-color: var(--fill-color);\n",
              "    }\n",
              "    90% {\n",
              "      border-color: transparent;\n",
              "      border-bottom-color: var(--fill-color);\n",
              "    }\n",
              "  }\n",
              "</style>\n",
              "\n",
              "      <script>\n",
              "        async function quickchart(key) {\n",
              "          const quickchartButtonEl =\n",
              "            document.querySelector('#' + key + ' button');\n",
              "          quickchartButtonEl.disabled = true;  // To prevent multiple clicks.\n",
              "          quickchartButtonEl.classList.add('colab-df-spinner');\n",
              "          try {\n",
              "            const charts = await google.colab.kernel.invokeFunction(\n",
              "                'suggestCharts', [key], {});\n",
              "          } catch (error) {\n",
              "            console.error('Error during call to suggestCharts:', error);\n",
              "          }\n",
              "          quickchartButtonEl.classList.remove('colab-df-spinner');\n",
              "          quickchartButtonEl.classList.add('colab-df-quickchart-complete');\n",
              "        }\n",
              "        (() => {\n",
              "          let quickchartButtonEl =\n",
              "            document.querySelector('#df-0121b2dd-8479-4401-b230-a9cc5ff79a9a button');\n",
              "          quickchartButtonEl.style.display =\n",
              "            google.colab.kernel.accessAllowed ? 'block' : 'none';\n",
              "        })();\n",
              "      </script>\n",
              "    </div>\n",
              "\n",
              "    </div>\n",
              "  </div>\n"
            ],
            "text/plain": [
              "        open     high      low    close\n",
              "0    0.71238  0.71324  0.70817  0.71097\n",
              "1    0.71060  0.71557  0.70982  0.71521\n",
              "2    0.71501  0.72199  0.71203  0.72115\n",
              "3    0.72088  0.72513  0.71916  0.72398\n",
              "4    0.72398  0.72435  0.72156  0.72161\n",
              "..       ...      ...      ...      ...\n",
              "995  0.65754  0.66277  0.65703  0.66112\n",
              "996  0.66105  0.66279  0.65886  0.66109\n",
              "997  0.66117  0.66238  0.65761  0.65939\n",
              "998  0.65933  0.66134  0.65882  0.65999\n",
              "999  0.65936  0.66085  0.65839  0.66065\n",
              "\n",
              "[1000 rows x 4 columns]"
            ]
          },
          "metadata": {},
          "output_type": "display_data"
        }
      ],
      "source": [
        "display(train_dfs_test[0])"
      ]
    },
    {
      "cell_type": "code",
      "execution_count": 10,
      "metadata": {
        "colab": {
          "base_uri": "https://localhost:8080/"
        },
        "id": "X-1MEa4L3HwH",
        "outputId": "4d48a4c1-6224-4026-a485-1aa764490f34"
      },
      "outputs": [
        {
          "name": "stdout",
          "output_type": "stream",
          "text": [
            "[[0.83867]\n",
            " [0.83865]\n",
            " [0.83927]\n",
            " ...\n",
            " [0.65974]\n",
            " [0.66063]\n",
            " [0.66061]]\n"
          ]
        }
      ],
      "source": [
        "print(train_dfs[0].values[:,-1:])"
      ]
    },
    {
      "cell_type": "code",
      "execution_count": 8,
      "metadata": {
        "id": "xnvfkDwKJaFp"
      },
      "outputs": [],
      "source": [
        "def create_sequences(data_scaled, seq_len, pred_steps = 5):\n",
        "    \"\"\"\n",
        "    data_scaled: np.array shaped (n_rows, n_features)\n",
        "    returns X (n_samples, seq_len, n_features), y (n_samples, n_features)\n",
        "    where y is the row immediately following the window.\n",
        "    \"\"\"\n",
        "    X, y = [], []\n",
        "    n_rows = data_scaled.shape[0]\n",
        "    for i in range(n_rows - seq_len - pred_steps + 1):\n",
        "        X.append(data_scaled[i:i+seq_len])\n",
        "        y.append(data_scaled[i+seq_len : i + seq_len+pred_steps, -1:])\n",
        "    X = np.array(X)\n",
        "    y = np.array(y)\n",
        "    return X, y\n",
        "\n",
        "\n",
        "\n"
      ]
    },
    {
      "cell_type": "code",
      "execution_count": 9,
      "metadata": {
        "id": "DqNMMybC2oHD"
      },
      "outputs": [],
      "source": [
        "n = 0"
      ]
    },
    {
      "cell_type": "code",
      "execution_count": 10,
      "metadata": {
        "colab": {
          "base_uri": "https://localhost:8080/"
        },
        "id": "FgfuQq2n2yc1",
        "outputId": "0784b3a8-b631-4e7f-8a48-75962084f30d"
      },
      "outputs": [
        {
          "name": "stdout",
          "output_type": "stream",
          "text": [
            "GeneratedAUDUSD \n"
          ]
        }
      ],
      "source": [
        "m_label = file_target[n].replace(\"dbot.csv\",\"\")\n",
        "train_df = train_dfs[n]\n",
        "train_df_test = train_dfs_test[n]\n",
        "print(m_label)\n",
        "SEQ_LEN = 240 # length of input sequence (timesteps). Typical choices: 30, 60, 90\n",
        "n_rows, n_features = train_df.values.shape\n",
        "\n",
        "X, y = create_sequences(train_df.values, SEQ_LEN, 5)  # X: (n_samples, SEQ_LEN, n_features), y: (n_samples, n_features)\n",
        "X1, y1 = create_sequences(train_df.values, SEQ_LEN, 5)  # X: (n_samples, SEQ_LEN, n_features), y: (n_samples, n_features)\n",
        "\n",
        "n_samples = X.shape[0]\n"
      ]
    },
    {
      "cell_type": "code",
      "execution_count": 11,
      "metadata": {
        "colab": {
          "base_uri": "https://localhost:8080/"
        },
        "id": "jgr3stmT3oDg",
        "outputId": "80d849ed-9728-4fd8-fa96-1b2f778e1aef"
      },
      "outputs": [
        {
          "name": "stdout",
          "output_type": "stream",
          "text": [
            "(99755, 240, 4)\n"
          ]
        }
      ],
      "source": [
        "print(X.shape)"
      ]
    },
    {
      "cell_type": "code",
      "execution_count": 12,
      "metadata": {
        "colab": {
          "base_uri": "https://localhost:8080/"
        },
        "id": "plEgpMeQ3uvA",
        "outputId": "62472221-56a3-42b1-ff61-2b4b91bc4b19"
      },
      "outputs": [
        {
          "name": "stdout",
          "output_type": "stream",
          "text": [
            "(99755, 5, 1)\n"
          ]
        }
      ],
      "source": [
        "print(y.shape)"
      ]
    },
    {
      "cell_type": "code",
      "execution_count": 13,
      "metadata": {
        "colab": {
          "base_uri": "https://localhost:8080/",
          "height": 408
        },
        "id": "5j_wkyXD5s_s",
        "outputId": "13511d5b-1acf-450a-8259-13ee9a53e3e9"
      },
      "outputs": [
        {
          "name": "stdout",
          "output_type": "stream",
          "text": [
            "Model: \"model\"\n",
            "_________________________________________________________________\n",
            " Layer (type)                Output Shape              Param #   \n",
            "=================================================================\n",
            " input_1 (InputLayer)        [(None, 240, 4)]          0         \n",
            "                                                                 \n",
            " bidirectional (Bidirectiona  (None, 240, 400)         328000    \n",
            " l)                                                              \n",
            "                                                                 \n",
            " bidirectional_1 (Bidirectio  (None, 240, 400)         961600    \n",
            " nal)                                                            \n",
            "                                                                 \n",
            " bidirectional_2 (Bidirectio  (None, 240, 400)         961600    \n",
            " nal)                                                            \n",
            "                                                                 \n",
            " bidirectional_3 (Bidirectio  (None, 400)              961600    \n",
            " nal)                                                            \n",
            "                                                                 \n",
            " dense (Dense)               (None, 150)               60150     \n",
            "                                                                 \n",
            " dropout (Dropout)           (None, 150)               0         \n",
            "                                                                 \n",
            " dense_1 (Dense)             (None, 1)                 151       \n",
            "                                                                 \n",
            "=================================================================\n",
            "Total params: 3,273,101\n",
            "Trainable params: 3,273,101\n",
            "Non-trainable params: 0\n",
            "_________________________________________________________________\n"
          ]
        }
      ],
      "source": [
        "X_train, X_test, y_train, y_test = train_test_split(X, y, test_size=0.33, random_state=0, shuffle=False)\n",
        "X_val, X_test, y_val,  y_test = train_test_split(X_test, y_test, test_size=0.01, random_state=0, shuffle=False)\n",
        "\n",
        "seq_len = X_train.shape[1]\n",
        "n_features = X_train.shape[2]\n",
        "output_dim = y_train.shape[2]\n",
        "\n",
        "i = Input(shape=(seq_len, n_features))\n",
        "X = Bidirectional(LSTM(200, return_sequences=True))(i)\n",
        "X = Bidirectional(LSTM(200, return_sequences=True))(X)\n",
        "X = Bidirectional(LSTM(200, return_sequences=True))(X)\n",
        "X = Bidirectional(LSTM(200))(X)\n",
        "#X = Dropout(0.5)(X)\n",
        "X = Dense(150, activation=\"relu\")(X)\n",
        "X = Dropout(0.25)(X)\n",
        "X = Dense(output_dim)(X)\n",
        "\n",
        "model = Model(i, X)\n",
        "model.summary()\n"
      ]
    },
    {
      "cell_type": "code",
      "execution_count": 14,
      "metadata": {
        "colab": {
          "base_uri": "https://localhost:8080/"
        },
        "id": "i8q4twW84DPd",
        "outputId": "7749addf-c964-4642-d789-c97dd802c6c5"
      },
      "outputs": [
        {
          "name": "stdout",
          "output_type": "stream",
          "text": [
            "Epoch 1/100\n",
            "2089/2089 [==============================] - ETA: 0s - loss: 0.0073 - mae: 0.0595 - root_mean_squared_error: 0.0855 - mape: 6.9977 - msle: 0.0021\n",
            "Epoch 1: val_loss improved from inf to 0.00003, saving model to GeneratedAUDUSD lstm_best.keras\n",
            "2089/2089 [==============================] - 364s 166ms/step - loss: 0.0073 - mae: 0.0595 - root_mean_squared_error: 0.0855 - mape: 6.9977 - msle: 0.0021 - val_loss: 2.7402e-05 - val_mae: 0.0043 - val_root_mean_squared_error: 0.0052 - val_mape: 0.6330 - val_msle: 9.7886e-06 - lr: 0.0010\n",
            "Epoch 2/100\n",
            "2089/2089 [==============================] - ETA: 0s - loss: 0.0022 - mae: 0.0358 - root_mean_squared_error: 0.0467 - mape: 4.1688 - msle: 6.1421e-04\n",
            "Epoch 2: val_loss did not improve from 0.00003\n",
            "2089/2089 [==============================] - 346s 166ms/step - loss: 0.0022 - mae: 0.0358 - root_mean_squared_error: 0.0467 - mape: 4.1688 - msle: 6.1421e-04 - val_loss: 7.5456e-05 - val_mae: 0.0081 - val_root_mean_squared_error: 0.0087 - val_mape: 1.1987 - val_msle: 2.6935e-05 - lr: 0.0010\n",
            "Epoch 3/100\n",
            "2089/2089 [==============================] - ETA: 0s - loss: 6.5732e-04 - mae: 0.0189 - root_mean_squared_error: 0.0256 - mape: 2.1549 - msle: 1.7830e-04\n",
            "Epoch 3: val_loss did not improve from 0.00003\n",
            "2089/2089 [==============================] - 369s 177ms/step - loss: 6.5732e-04 - mae: 0.0189 - root_mean_squared_error: 0.0256 - mape: 2.1549 - msle: 1.7830e-04 - val_loss: 1.0269e-04 - val_mae: 0.0089 - val_root_mean_squared_error: 0.0101 - val_mape: 1.3334 - val_msle: 3.7480e-05 - lr: 0.0010\n",
            "Epoch 4/100\n",
            "2089/2089 [==============================] - ETA: 0s - loss: 2.5301e-04 - mae: 0.0115 - root_mean_squared_error: 0.0159 - mape: 1.3078 - msle: 6.7778e-05\n",
            "Epoch 4: val_loss improved from 0.00003 to 0.00002, saving model to GeneratedAUDUSD lstm_best.keras\n",
            "2089/2089 [==============================] - 360s 173ms/step - loss: 2.5301e-04 - mae: 0.0115 - root_mean_squared_error: 0.0159 - mape: 1.3078 - msle: 6.7778e-05 - val_loss: 2.4211e-05 - val_mae: 0.0044 - val_root_mean_squared_error: 0.0049 - val_mape: 0.6293 - val_msle: 8.3568e-06 - lr: 0.0010\n",
            "Epoch 5/100\n",
            "2089/2089 [==============================] - ETA: 0s - loss: 2.0035e-04 - mae: 0.0106 - root_mean_squared_error: 0.0142 - mape: 1.2393 - msle: 5.6109e-05\n",
            "Epoch 5: val_loss did not improve from 0.00002\n",
            "2089/2089 [==============================] - 382s 183ms/step - loss: 2.0035e-04 - mae: 0.0106 - root_mean_squared_error: 0.0142 - mape: 1.2393 - msle: 5.6109e-05 - val_loss: 3.2907e-04 - val_mae: 0.0180 - val_root_mean_squared_error: 0.0181 - val_mape: 2.6321 - val_msle: 1.1776e-04 - lr: 0.0010\n",
            "Epoch 6/100\n",
            "2089/2089 [==============================] - ETA: 0s - loss: 1.8481e-04 - mae: 0.0102 - root_mean_squared_error: 0.0136 - mape: 1.1937 - msle: 5.2124e-05\n",
            "Epoch 6: val_loss did not improve from 0.00002\n",
            "2089/2089 [==============================] - 384s 184ms/step - loss: 1.8481e-04 - mae: 0.0102 - root_mean_squared_error: 0.0136 - mape: 1.1937 - msle: 5.2124e-05 - val_loss: 7.2296e-05 - val_mae: 0.0083 - val_root_mean_squared_error: 0.0085 - val_mape: 1.2093 - val_msle: 2.5618e-05 - lr: 0.0010\n",
            "Epoch 7/100\n",
            "2089/2089 [==============================] - ETA: 0s - loss: 1.7671e-04 - mae: 0.0099 - root_mean_squared_error: 0.0133 - mape: 1.1693 - msle: 4.9973e-05\n",
            "Epoch 7: ReduceLROnPlateau reducing learning rate to 0.0005000000237487257.\n",
            "\n",
            "Epoch 7: val_loss did not improve from 0.00002\n",
            "2089/2089 [==============================] - 390s 187ms/step - loss: 1.7671e-04 - mae: 0.0099 - root_mean_squared_error: 0.0133 - mape: 1.1693 - msle: 4.9973e-05 - val_loss: 4.8591e-05 - val_mae: 0.0062 - val_root_mean_squared_error: 0.0070 - val_mape: 0.9272 - val_msle: 1.7557e-05 - lr: 0.0010\n",
            "Epoch 8/100\n",
            "2089/2089 [==============================] - ETA: 0s - loss: 1.5153e-04 - mae: 0.0090 - root_mean_squared_error: 0.0123 - mape: 1.0622 - msle: 4.2700e-05\n",
            "Epoch 8: val_loss improved from 0.00002 to 0.00001, saving model to GeneratedAUDUSD lstm_best.keras\n",
            "2089/2089 [==============================] - 383s 183ms/step - loss: 1.5153e-04 - mae: 0.0090 - root_mean_squared_error: 0.0123 - mape: 1.0622 - msle: 4.2700e-05 - val_loss: 6.7093e-06 - val_mae: 0.0020 - val_root_mean_squared_error: 0.0026 - val_mape: 0.2894 - val_msle: 2.2974e-06 - lr: 5.0000e-04\n",
            "Epoch 9/100\n",
            "2089/2089 [==============================] - ETA: 0s - loss: 1.4934e-04 - mae: 0.0090 - root_mean_squared_error: 0.0122 - mape: 1.0535 - msle: 4.2106e-05\n",
            "Epoch 9: val_loss did not improve from 0.00001\n",
            "2089/2089 [==============================] - 383s 183ms/step - loss: 1.4934e-04 - mae: 0.0090 - root_mean_squared_error: 0.0122 - mape: 1.0535 - msle: 4.2106e-05 - val_loss: 1.9094e-05 - val_mae: 0.0037 - val_root_mean_squared_error: 0.0044 - val_mape: 0.5188 - val_msle: 6.4632e-06 - lr: 5.0000e-04\n",
            "Epoch 10/100\n",
            "2089/2089 [==============================] - ETA: 0s - loss: 1.4942e-04 - mae: 0.0090 - root_mean_squared_error: 0.0122 - mape: 1.0583 - msle: 4.2075e-05\n",
            "Epoch 10: val_loss did not improve from 0.00001\n",
            "2089/2089 [==============================] - 353s 169ms/step - loss: 1.4942e-04 - mae: 0.0090 - root_mean_squared_error: 0.0122 - mape: 1.0583 - msle: 4.2075e-05 - val_loss: 7.6902e-06 - val_mae: 0.0023 - val_root_mean_squared_error: 0.0028 - val_mape: 0.3389 - val_msle: 2.6842e-06 - lr: 5.0000e-04\n",
            "Epoch 11/100\n",
            "2089/2089 [==============================] - ETA: 0s - loss: 1.4575e-04 - mae: 0.0089 - root_mean_squared_error: 0.0121 - mape: 1.0434 - msle: 4.1138e-05\n",
            "Epoch 11: val_loss improved from 0.00001 to 0.00000, saving model to GeneratedAUDUSD lstm_best.keras\n",
            "2089/2089 [==============================] - 358s 171ms/step - loss: 1.4575e-04 - mae: 0.0089 - root_mean_squared_error: 0.0121 - mape: 1.0434 - msle: 4.1138e-05 - val_loss: 3.4638e-06 - val_mae: 0.0014 - val_root_mean_squared_error: 0.0019 - val_mape: 0.1973 - val_msle: 1.2146e-06 - lr: 5.0000e-04\n",
            "Epoch 12/100\n",
            "2089/2089 [==============================] - ETA: 0s - loss: 1.4564e-04 - mae: 0.0089 - root_mean_squared_error: 0.0121 - mape: 1.0406 - msle: 4.1048e-05\n",
            "Epoch 12: val_loss did not improve from 0.00000\n",
            "2089/2089 [==============================] - 297s 142ms/step - loss: 1.4564e-04 - mae: 0.0089 - root_mean_squared_error: 0.0121 - mape: 1.0406 - msle: 4.1048e-05 - val_loss: 1.6148e-04 - val_mae: 0.0125 - val_root_mean_squared_error: 0.0127 - val_mape: 1.8362 - val_msle: 5.7034e-05 - lr: 5.0000e-04\n",
            "Epoch 13/100\n",
            "2089/2089 [==============================] - ETA: 0s - loss: 1.4753e-04 - mae: 0.0089 - root_mean_squared_error: 0.0121 - mape: 1.0491 - msle: 4.1704e-05\n",
            "Epoch 13: ReduceLROnPlateau reducing learning rate to 0.0002500000118743628.\n",
            "\n",
            "Epoch 13: val_loss did not improve from 0.00000\n",
            "2089/2089 [==============================] - 296s 142ms/step - loss: 1.4753e-04 - mae: 0.0089 - root_mean_squared_error: 0.0121 - mape: 1.0491 - msle: 4.1704e-05 - val_loss: 5.6996e-06 - val_mae: 0.0019 - val_root_mean_squared_error: 0.0024 - val_mape: 0.2797 - val_msle: 2.0344e-06 - lr: 5.0000e-04\n",
            "Epoch 14/100\n",
            "2089/2089 [==============================] - ETA: 0s - loss: 1.3386e-04 - mae: 0.0084 - root_mean_squared_error: 0.0116 - mape: 0.9869 - msle: 3.7706e-05\n",
            "Epoch 14: val_loss did not improve from 0.00000\n",
            "2089/2089 [==============================] - 373s 178ms/step - loss: 1.3386e-04 - mae: 0.0084 - root_mean_squared_error: 0.0116 - mape: 0.9869 - msle: 3.7706e-05 - val_loss: 5.2699e-06 - val_mae: 0.0018 - val_root_mean_squared_error: 0.0023 - val_mape: 0.2659 - val_msle: 1.8921e-06 - lr: 2.5000e-04\n",
            "Epoch 15/100\n",
            "2089/2089 [==============================] - ETA: 0s - loss: 1.3581e-04 - mae: 0.0085 - root_mean_squared_error: 0.0117 - mape: 0.9931 - msle: 3.8237e-05\n",
            "Epoch 15: val_loss did not improve from 0.00000\n",
            "2089/2089 [==============================] - 391s 187ms/step - loss: 1.3581e-04 - mae: 0.0085 - root_mean_squared_error: 0.0117 - mape: 0.9931 - msle: 3.8237e-05 - val_loss: 1.8629e-05 - val_mae: 0.0040 - val_root_mean_squared_error: 0.0043 - val_mape: 0.5712 - val_msle: 6.4644e-06 - lr: 2.5000e-04\n",
            "Epoch 16/100\n",
            "2089/2089 [==============================] - ETA: 0s - loss: 1.3692e-04 - mae: 0.0085 - root_mean_squared_error: 0.0117 - mape: 0.9959 - msle: 3.8497e-05\n",
            "Epoch 16: val_loss did not improve from 0.00000\n",
            "2089/2089 [==============================] - 398s 191ms/step - loss: 1.3692e-04 - mae: 0.0085 - root_mean_squared_error: 0.0117 - mape: 0.9959 - msle: 3.8497e-05 - val_loss: 4.9893e-06 - val_mae: 0.0018 - val_root_mean_squared_error: 0.0022 - val_mape: 0.2560 - val_msle: 1.7350e-06 - lr: 2.5000e-04\n",
            "Epoch 17/100\n",
            "2089/2089 [==============================] - ETA: 0s - loss: 1.3297e-04 - mae: 0.0084 - root_mean_squared_error: 0.0115 - mape: 0.9849 - msle: 3.7478e-05\n",
            "Epoch 17: val_loss did not improve from 0.00000\n",
            "2089/2089 [==============================] - 339s 162ms/step - loss: 1.3297e-04 - mae: 0.0084 - root_mean_squared_error: 0.0115 - mape: 0.9849 - msle: 3.7478e-05 - val_loss: 4.9862e-06 - val_mae: 0.0018 - val_root_mean_squared_error: 0.0022 - val_mape: 0.2539 - val_msle: 1.7421e-06 - lr: 2.5000e-04\n",
            "Epoch 18/100\n",
            "2089/2089 [==============================] - ETA: 0s - loss: 1.3850e-04 - mae: 0.0086 - root_mean_squared_error: 0.0118 - mape: 1.0078 - msle: 3.9054e-05\n",
            "Epoch 18: val_loss did not improve from 0.00000\n",
            "2089/2089 [==============================] - 298s 143ms/step - loss: 1.3850e-04 - mae: 0.0086 - root_mean_squared_error: 0.0118 - mape: 1.0078 - msle: 3.9054e-05 - val_loss: 1.9098e-05 - val_mae: 0.0041 - val_root_mean_squared_error: 0.0044 - val_mape: 0.5935 - val_msle: 6.7114e-06 - lr: 2.5000e-04\n",
            "Epoch 19/100\n",
            "2089/2089 [==============================] - ETA: 0s - loss: 1.3514e-04 - mae: 0.0085 - root_mean_squared_error: 0.0116 - mape: 0.9929 - msle: 3.8077e-05"
          ]
        }
      ],
      "source": [
        "\n",
        "es = EarlyStopping(monitor='val_loss', patience=12, restore_best_weights=True, verbose=2)\n",
        "rlr = ReduceLROnPlateau(monitor='val_loss', factor=0.5, patience=6, min_lr=1e-6, verbose=2)\n",
        "mc = ModelCheckpoint(m_label + 'lstm_best.keras', monitor='val_loss', save_best_only=True, verbose=2)\n",
        "model.compile(optimizer=Adam(learning_rate=0.001),\n",
        "              loss='mse',\n",
        "              metrics=['mae',tf.keras.metrics.RootMeanSquaredError(),'mape','msle'])\n",
        "r = model.fit(\n",
        "  X_train, y_train,\n",
        "  validation_data=(X_val, y_val),\n",
        "  epochs=100,\n",
        "  #batch_size=1024,\n",
        "  callbacks=[es, rlr, mc ],\n",
        "  verbose=1\n",
        "\n",
        ")\n",
        "\n",
        "\n"
      ]
    },
    {
      "cell_type": "code",
      "execution_count": null,
      "metadata": {
        "id": "gN-5WQ-M4QOP"
      },
      "outputs": [],
      "source": [
        "plt.title(\"Loss on data\")\n",
        "plt.plot(r.history['loss'], label=\"loss\")\n",
        "plt.plot(r.history['val_loss'], label=\"val_loss\")\n",
        "plt.legend()\n",
        "plt.show()\n",
        "\n",
        "plt.title(\"MAE on data\")\n",
        "plt.plot(r.history['mae'], label=\"mae\")\n",
        "plt.plot(r.history['val_mae'], label=\"val_mae\")\n",
        "plt.legend()\n",
        "plt.show()\n",
        "\n",
        "plt.title(\"mape on data\")\n",
        "plt.plot(r.history['mape'], label=\"mape\")\n",
        "plt.plot(r.history['val_mape'], label=\"val_mape\")\n",
        "plt.legend()\n",
        "plt.show()\n",
        "\n",
        "plt.title(\"msle on data\")\n",
        "plt.plot(r.history['msle'], label=\"msle\")\n",
        "plt.plot(r.history['val_msle'], label=\"val_msle\")\n",
        "plt.legend()\n",
        "plt.show()\n",
        "\n",
        "plt.title(\"root_mean_squared_error on data\")\n",
        "plt.plot(r.history['root_mean_squared_error'], label=\"root_mean_squared_error\")\n",
        "plt.plot(r.history['val_root_mean_squared_error'], label=\"val_root_mean_squared_error\")\n",
        "plt.legend()\n",
        "plt.show()\n",
        "\n",
        "\n"
      ]
    },
    {
      "cell_type": "code",
      "execution_count": null,
      "metadata": {},
      "outputs": [],
      "source": [
        "best_model = load_model(m_label + 'lstm_best.keras')\n",
        "y_pred = best_model.predict(X_test)\n",
        "print(\"R^2 value for \", m_label)\n",
        "print(r2_score(y_test.reshape((len(y_test),1)), y_pred.reshape((len(y_pred),1))))\n",
        "\n",
        "plt.figure(figsize=(12, 6))\n",
        "plt.plot(y_test[:, -1], label='Actual Close Price', color='blue')\n",
        "plt.plot(y_pred[:, -1], label='Predicted Close Price', color='red', linestyle='--')\n",
        "plt.title('Actual vs. Predicted Close Price')\n",
        "plt.xlabel('Time')\n",
        "plt.ylabel('Close Price')\n",
        "plt.legend()\n",
        "plt.grid(True)\n",
        "plt.savefig('actual_vs_predicted.png')\n",
        "plt.show()\n",
        "\n",
        "y_pred = best_model.predict(X1)\n",
        "print(\"R^2 value for test \", m_label)\n",
        "print(r2_score(y1.reshape((len(y1),1)), y_pred.reshape((len(y_pred),1))))\n",
        "\n",
        "plt.figure(figsize=(12, 6))\n",
        "plt.plot(y1[:, -1], label='Actual Close Price', color='blue')\n",
        "plt.plot(y_pred[:, -1], label='Predicted Close Price', color='red', linestyle='--')\n",
        "plt.title('Actual vs. Predicted Close Price Test')\n",
        "plt.xlabel('Time')\n",
        "plt.ylabel('Close Price')\n",
        "plt.legend()\n",
        "plt.grid(True)\n",
        "plt.savefig('actual_vs_predicted.png')\n",
        "plt.show()"
      ]
    },
    {
      "cell_type": "code",
      "execution_count": null,
      "metadata": {
        "id": "xjxPQbLgmcI7"
      },
      "outputs": [],
      "source": [
        "!zip -r \"target.zip\" \".\""
      ]
    },
    {
      "cell_type": "code",
      "execution_count": null,
      "metadata": {
        "id": "phLewG94CgH8"
      },
      "outputs": [],
      "source": [
        "\"\"\"\n",
        "best_model = load_model(m_label + 'lstm_best.keras')\n",
        "    y_pred = best_model.predict(X_test)\n",
        "    print(\"R^2 value for \", m_label)\n",
        "    print(r2_score(y_test.reshape((len(y_test),1)), y_pred.reshape((len(y_pred),1))))\n",
        "\n",
        "    plt.figure(figsize=(12, 6))\n",
        "    plt.plot(y_test[:, -1], label='Actual Close Price', color='blue')\n",
        "    plt.plot(y_pred[:, -1], label='Predicted Close Price', color='red', linestyle='--')\n",
        "    plt.title('Actual vs. Predicted Close Price')\n",
        "    plt.xlabel('Time')\n",
        "    plt.ylabel('Close Price')\n",
        "    plt.legend()\n",
        "    plt.grid(True)\n",
        "    plt.savefig('actual_vs_predicted.png')\n",
        "    plt.show()\n",
        "\n",
        "    y_pred = best_model.predict(X1)\n",
        "    print(\"R^2 value for test \", m_label)\n",
        "    print(r2_score(y1.reshape((len(y1),1)), y_pred.reshape((len(y_pred),1))))\n",
        "\n",
        "    plt.figure(figsize=(12, 6))\n",
        "    plt.plot(y1[:, -1], label='Actual Close Price', color='blue')\n",
        "    plt.plot(y_pred[:, -1], label='Predicted Close Price', color='red', linestyle='--')\n",
        "    plt.title('Actual vs. Predicted Close Price Test')\n",
        "    plt.xlabel('Time')\n",
        "    plt.ylabel('Close Price')\n",
        "    plt.legend()\n",
        "    plt.grid(True)\n",
        "    plt.savefig('actual_vs_predicted.png')\n",
        "    plt.show()\n",
        "\"\"\""
      ]
    },
    {
      "cell_type": "code",
      "execution_count": null,
      "metadata": {
        "id": "G6u5b2IWUDm-"
      },
      "outputs": [],
      "source": [
        "dir_contents = os.listdir(\".\")\n",
        "t_symbol = joblib.load(\"symbol.joblib\")\n",
        "# Filter the list to include only files, not directories\n",
        "# os.path.join is used to create a full path for isfile() to check\n",
        "files = [item for item in dir_contents]\n",
        "\n",
        "file_target = []\n",
        "\n",
        "for filename in files:\n",
        "    for t_s in t_symbol:\n",
        "        if t_s in filename and \"lstm_best.keras\" in filename:\n",
        "            print(filename)\n",
        "            #file_target.append(filename)\n",
        "print(\"----------------------------------------------------\")\n",
        "\n",
        "print(len(file_target))\n"
      ]
    },
    {
      "cell_type": "code",
      "execution_count": null,
      "metadata": {
        "id": "T1IK-bCRTSSV"
      },
      "outputs": [],
      "source": [
        "\n",
        "\n",
        "best_model = load_model(file_target[0])"
      ]
    },
    {
      "cell_type": "code",
      "execution_count": null,
      "metadata": {
        "id": "fGxCK9h0RKL1"
      },
      "outputs": [],
      "source": [
        "y_pred = best_model.predict(X_test)\n",
        "print(y_pred)"
      ]
    },
    {
      "cell_type": "code",
      "execution_count": null,
      "metadata": {
        "id": "Q_wbrFrlR3a-"
      },
      "outputs": [],
      "source": [
        "print(y_test)"
      ]
    },
    {
      "cell_type": "code",
      "execution_count": null,
      "metadata": {
        "id": "zRoHAR1nSG1Z"
      },
      "outputs": [],
      "source": [
        "\n",
        "r2_score(y_test.reshape((len(y_test),1)), y_pred.reshape((len(y_pred),1)))"
      ]
    },
    {
      "cell_type": "code",
      "execution_count": null,
      "metadata": {
        "id": "4RXPB75_TS6L"
      },
      "outputs": [],
      "source": [
        "plt.figure(figsize=(12, 6))\n",
        "plt.plot(y_test[:, -1], label='Actual Close Price', color='blue')\n",
        "plt.plot(y_pred[:, -1], label='Predicted Close Price', color='red', linestyle='--')\n",
        "plt.title('Actual vs. Predicted Close Price')\n",
        "plt.xlabel('Time')\n",
        "plt.ylabel('Close Price')\n",
        "plt.legend()\n",
        "plt.grid(True)\n",
        "plt.savefig('actual_vs_predicted.png')\n",
        "plt.show()"
      ]
    },
    {
      "cell_type": "code",
      "execution_count": null,
      "metadata": {
        "id": "5hwbdScYaBhK"
      },
      "outputs": [],
      "source": [
        "# Save this as plot_forecast.py and run where your model, x_test, y_test (and optional scalers) are available.\n",
        "\n",
        "import numpy as np\n",
        "import matplotlib.pyplot as plt\n",
        "\n",
        "def ensure_2d_preds(preds):\n",
        "    \"\"\"Normalize model.predict outputs to shape (n_samples, n_features).\"\"\"\n",
        "    preds = np.asarray(preds)\n",
        "    if preds.ndim == 3:\n",
        "        # common case: (n_samples, 1, n_features) or (n_samples, seq_len, n_features)\n",
        "        # we assume model outputs final-step predictions if seq_len>1\n",
        "        if preds.shape[1] == 1:\n",
        "            preds = preds[:, 0, :]\n",
        "        else:\n",
        "            preds = preds[:, -1, :]\n",
        "    elif preds.ndim == 1:\n",
        "        preds = preds.reshape(-1, 1)\n",
        "    return preds\n",
        "\n",
        "def plot_test_vs_pred_close(y_test, preds, output_index=-1, figsize=(12,5), savepath=None):\n",
        "    \"\"\"\n",
        "    Plot actual vs predicted for the 'close' column (default last column).\n",
        "    y_test: (n, n_features)\n",
        "    preds: (n, n_features)\n",
        "    \"\"\"\n",
        "    y_test = np.asarray(y_test)\n",
        "    preds = np.asarray(preds)\n",
        "    # normalize shapes\n",
        "    preds = ensure_2d_preds(preds)\n",
        "\n",
        "    actual_close = y_test[:, output_index]\n",
        "    pred_close   = preds[:, output_index]\n",
        "\n",
        "    plt.figure(figsize=figsize)\n",
        "    plt.plot(actual_close, label='Actual Close')\n",
        "    plt.plot(pred_close, label='Predicted Close')\n",
        "    plt.xlabel('Time (test index)')\n",
        "    plt.ylabel('Close price')\n",
        "    plt.title('Actual vs Predicted Close Price (test set)')\n",
        "    plt.legend()\n",
        "    plt.grid(True)\n",
        "    if savepath:\n",
        "        plt.savefig(savepath, bbox_inches='tight')\n",
        "    plt.show()\n",
        "\n",
        "def recursive_forecast(model, last_window, n_steps=200):\n",
        "    \"\"\"\n",
        "    Do recursive multi-step forecasting:\n",
        "      - model.predict expects input shape (1, window_len, n_features)\n",
        "      - last_window: shape (window_len, n_features)\n",
        "      - returns array shape (n_steps, n_features)\n",
        "    \"\"\"\n",
        "    last_window = last_window.reshape((len(last_window),1))\n",
        "    if last_window.ndim != 2:\n",
        "        raise ValueError(\"last_window must be 2D: (window_len, n_features)\")\n",
        "\n",
        "    window_len, n_features = last_window.shape\n",
        "    history = last_window.copy()\n",
        "    preds = []\n",
        "    for i in range(n_steps):\n",
        "        x_in = history.reshape(1, window_len, n_features)\n",
        "        p = model.predict(x_in)\n",
        "        p = ensure_2d_preds(p)[0]  # shape: (n_features,)\n",
        "        preds.append(p)\n",
        "        # slide window\n",
        "        history = np.vstack([history[1:], p.reshape(1, n_features)])\n",
        "    return np.vstack(preds)  # shape (n_steps, n_features)\n",
        "\n",
        "def plot_extended_series(y_test, future_preds, output_index=-1, figsize=(14,5), savepath=None):\n",
        "    \"\"\"\n",
        "    Plot the test-close series and appended future predictions as one continuous line.\n",
        "    \"\"\"\n",
        "    actual_close = np.asarray(y_test)[:, output_index]\n",
        "    future_close = np.asarray(future_preds)[:, output_index]\n",
        "    combined = np.concatenate([actual_close, future_close])\n",
        "\n",
        "    plt.figure(figsize=figsize)\n",
        "    plt.plot(combined, label='Actual (test) + Forecast (future)')\n",
        "    # mark border between known and forecast\n",
        "    split_index = len(actual_close)\n",
        "    plt.axvline(split_index - 0.5, linestyle='--', linewidth=1)\n",
        "    plt.text(split_index + 5, combined[split_index], ' Forecast starts', va='center')\n",
        "    plt.xlabel('Time (index)')\n",
        "    plt.ylabel('Close price')\n",
        "    plt.title(f'Actual Close (test) and {len(future_close)} Step Forecast')\n",
        "    plt.legend()\n",
        "    plt.grid(True)\n",
        "    if savepath:\n",
        "        plt.savefig(savepath, bbox_inches='tight')\n",
        "    plt.show()\n",
        "\n"
      ]
    },
    {
      "cell_type": "code",
      "execution_count": null,
      "metadata": {
        "id": "1IaGU2AJkhpd"
      },
      "outputs": [],
      "source": [
        "# ------------------------------------------------------------\n",
        "# USAGE (example)\n",
        "# ------------------------------------------------------------\n",
        "# Assumptions:\n",
        "# - x_test shape = (n_samples, window_len, n_features) e.g. (6247, 48, 4)\n",
        "# - y_test shape = (n_samples, n_features) e.g. (6247, 4)\n",
        "# - model.predict(x_test) -> (n_samples, n_features) (or shape convertible)\n",
        "#\n",
        "# Optional:\n",
        "# - scaler_X (used during training on inputs) or scaler_y (used on outputs).\n",
        "#   If present, inverse_transform predictions and y_test before plotting.\n",
        "#\n",
        "# Replace these names with your actual variables present in the workspace.\n",
        "\n",
        "# Example (uncomment and run where variables exist):\n",
        "preds_test = best_model.predict(X_test)\n",
        "preds_test = ensure_2d_preds(preds_test)\n",
        "\n",
        "# # 1) plot actual vs predicted (test)\n",
        "plot_test_vs_pred_close(y_test, preds_test, output_index=-1, savepath='test_vs_pred.png')\n"
      ]
    },
    {
      "cell_type": "code",
      "execution_count": null,
      "metadata": {
        "id": "bnYWb1TVo-4o"
      },
      "outputs": [],
      "source": [
        "#\n",
        "# # 2) recursive forecast next 2000 values starting from last input window:\n",
        "last_window = X_test[-1].reshape((len(X_test[-1]),1))   # shape (window_len, n_features)\n",
        "future_preds = recursive_forecast(best_model, last_window, n_steps=200)\n",
        "future_preds_inv = future_preds\n",
        "\n",
        "# # 3) plot extended series (append future close to test close)\n",
        "plot_extended_series(y_test, future_preds_inv, output_index=-1, savepath='extended_forecast.png')\n",
        "#\n",
        "# # Optional: save future_preds_inv to disk\n",
        "# # np.save('future_preds.npy', future_preds_inv)"
      ]
    }
  ],
  "metadata": {
    "accelerator": "GPU",
    "colab": {
      "gpuType": "T4",
      "include_colab_link": true,
      "provenance": []
    },
    "kernelspec": {
      "display_name": "Python 3",
      "name": "python3"
    },
    "language_info": {
      "codemirror_mode": {
        "name": "ipython",
        "version": 3
      },
      "file_extension": ".py",
      "mimetype": "text/x-python",
      "name": "python",
      "nbconvert_exporter": "python",
      "pygments_lexer": "ipython3",
      "version": "3.10.13"
    }
  },
  "nbformat": 4,
  "nbformat_minor": 0
}
