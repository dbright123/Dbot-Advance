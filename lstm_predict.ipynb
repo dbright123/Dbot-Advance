{
  "cells": [
    {
      "cell_type": "code",
      "execution_count": null,
      "metadata": {
        "id": "Z1oCaggK4VKR"
      },
      "outputs": [],
      "source": [
        "import MetaTrader5 as mt5\n",
        "import numpy as np\n",
        "import pandas as pd\n",
        "import joblib\n",
        "import matplotlib.pyplot as plt\n",
        "\n"
      ]
    },
    {
      "cell_type": "code",
      "execution_count": null,
      "metadata": {
        "id": "btJoWVAx4VKS",
        "outputId": "077d53d7-b8ac-4d3c-9251-3f449e68e0f3"
      },
      "outputs": [
        {
          "name": "stdout",
          "output_type": "stream",
          "text": [
            "MetaTrader5 package author:  MetaQuotes Ltd.\n",
            "MetaTrader5 package version:  5.0.4200\n",
            "True\n"
          ]
        }
      ],
      "source": [
        "print(\"MetaTrader5 package author: \",mt5.__author__)\n",
        "print(\"MetaTrader5 package version: \",mt5.__version__)\n",
        "\n",
        "trade_active = mt5.initialize()\n",
        "\n",
        "print(trade_active)"
      ]
    },
    {
      "cell_type": "code",
      "execution_count": null,
      "metadata": {
        "id": "zOwkO05C4VKT",
        "outputId": "d3fac923-d7cb-4ca0-b281-cb6af05cafa8"
      },
      "outputs": [
        {
          "name": "stdout",
          "output_type": "stream",
          "text": [
            "{'login': 213644473, 'trade_mode': 0, 'leverage': 1000, 'limit_orders': 500, 'margin_so_mode': 0, 'trade_allowed': True, 'trade_expert': True, 'margin_mode': 2, 'currency_digits': 2, 'fifo_close': False, 'balance': 200.0, 'credit': 0.0, 'profit': 0.0, 'equity': 200.0, 'margin': 0.0, 'margin_free': 200.0, 'margin_level': 0.0, 'margin_so_call': 25.0, 'margin_so_so': 15.0, 'margin_initial': 0.0, 'margin_maintenance': 0.0, 'assets': 0.0, 'liabilities': 0.0, 'commission_blocked': 0.0, 'name': 'micheal bright omage ', 'server': 'OctaFX-Demo', 'currency': 'USD', 'company': 'Octa Markets Incorporated'}\n",
            "\n",
            "\n",
            "{'community_account': False, 'community_connection': False, 'connected': True, 'dlls_allowed': False, 'trade_allowed': True, 'tradeapi_disabled': False, 'email_enabled': False, 'ftp_enabled': False, 'notifications_enabled': False, 'mqid': False, 'build': 5200, 'maxbars': 100000, 'codepage': 0, 'ping_last': 150601, 'community_balance': 0.0, 'retransmission': 0.6890690676895515, 'company': 'MetaQuotes Software Corp.', 'name': 'MetaTrader 5', 'language': 'English', 'path': 'C:\\\\Program Files\\\\MetaTrader 5', 'data_path': 'C:\\\\Program Files\\\\MetaTrader 5', 'commondata_path': 'C:\\\\Users\\\\omage\\\\AppData\\\\Roaming\\\\MetaQuotes\\\\Terminal\\\\Common'}\n",
            "\n",
            "\n",
            "280\n"
          ]
        }
      ],
      "source": [
        "if not trade_active:\n",
        "    print('Initialization failed, check internet connection. You must have Meta Trader 5 installed.')\n",
        "    mt5.shutdown()\n",
        "\n",
        "else:\n",
        "    print(mt5.account_info()._asdict())\n",
        "    print(\"\\n\")\n",
        "    print(mt5.terminal_info()._asdict())\n",
        "    print(\"\\n\")\n",
        "    print(mt5.symbols_total())\n",
        "\n"
      ]
    },
    {
      "cell_type": "code",
      "execution_count": null,
      "metadata": {
        "id": "ep9xWhDh4VKU",
        "outputId": "31c79ec1-fd31-4335-d881-2db8f23fed61"
      },
      "outputs": [
        {
          "name": "stdout",
          "output_type": "stream",
          "text": [
            "200.0\n",
            "AI is successfully functional\n"
          ]
        }
      ],
      "source": [
        "account = mt5.account_info()\n",
        "terminal = mt5.terminal_info()\n",
        "\n",
        "print(account.equity)\n",
        "\n",
        "if(terminal.connected == True and terminal.trade_allowed == True):\n",
        "    print(\"AI is successfully functional\")\n",
        "else:\n",
        "    print(\"Please make sure metatrade 5 has internet and algo Trade is Turn On\")"
      ]
    },
    {
      "cell_type": "code",
      "execution_count": null,
      "metadata": {
        "id": "LEqpQHyh4VKU",
        "outputId": "c1be5336-539c-4560-9f60-f3f5e9ba9910"
      },
      "outputs": [
        {
          "name": "stdout",
          "output_type": "stream",
          "text": [
            "280\n",
            "yes  EURUSD\n",
            "yes  GBPUSD\n",
            "yes  USDJPY\n",
            "yes  AUDUSD\n",
            "yes  USDCAD\n"
          ]
        }
      ],
      "source": [
        "symbols = mt5.symbols_get()\n",
        "print(len(symbols))\n",
        "t_symbol = [\"GBPUSD\",\"EURUSD\",\"USDCAD\",\"USDJPY\",\"AUDUSD\"]\n",
        "for symbol in symbols:\n",
        "    for t_s in t_symbol:\n",
        "        if(symbol.name == t_s):\n",
        "            print(\"yes \",t_s)\n",
        "            break\n",
        "\n",
        ""
      ]
    },
    {
      "cell_type": "code",
      "execution_count": null,
      "metadata": {
        "id": "fAWrlqlX4VKV"
      },
      "outputs": [],
      "source": [
        "n = 0"
      ]
    },
    {
      "cell_type": "code",
      "execution_count": null,
      "metadata": {
        "id": "gIrl4Aa64VKV"
      },
      "outputs": [],
      "source": [
        "market = mt5.copy_rates_from_pos(t_symbol[n], mt5.TIMEFRAME_M30, 0, 99999)"
      ]
    },
    {
      "cell_type": "code",
      "execution_count": null,
      "metadata": {
        "id": "AMyZKKm94VKW",
        "outputId": "705ee253-4ce9-4194-cdda-d11432fac80c"
      },
      "outputs": [
        {
          "data": {
            "text/plain": [
              "array([(1503012600, 1.28688, 1.28692, 1.28629, 1.28644, 1504,  8, 0),\n",
              "       (1503014400, 1.28668, 1.28693, 1.28656, 1.2868 ,  183, 13, 0),\n",
              "       (1503016200, 1.28677, 1.28694, 1.28643, 1.28664, 2022, 24, 0), ...,\n",
              "       (1756506600, 1.35073, 1.35148, 1.35073, 1.35147, 1963, 13, 0),\n",
              "       (1756508400, 1.35148, 1.35164, 1.35101, 1.35124, 1228, 13, 0),\n",
              "       (1756510200, 1.35125, 1.35126, 1.34995, 1.35018, 2122, 13, 0)],\n",
              "      dtype=[('time', '<i8'), ('open', '<f8'), ('high', '<f8'), ('low', '<f8'), ('close', '<f8'), ('tick_volume', '<u8'), ('spread', '<i4'), ('real_volume', '<u8')])"
            ]
          },
          "execution_count": 27,
          "metadata": {},
          "output_type": "execute_result"
        }
      ],
      "source": [
        "market"
      ]
    },
    {
      "cell_type": "code",
      "execution_count": null,
      "metadata": {
        "id": "_dwSWH3M4VKW",
        "outputId": "74646f6f-1425-4150-d7e5-49d69b48894f"
      },
      "outputs": [
        {
          "data": {
            "text/plain": [
              "99999"
            ]
          },
          "execution_count": 28,
          "metadata": {},
          "output_type": "execute_result"
        }
      ],
      "source": [
        "len(market)"
      ]
    },
    {
      "cell_type": "code",
      "execution_count": null,
      "metadata": {
        "id": "cgAOsT3T4VKW"
      },
      "outputs": [],
      "source": [
        "data = []\n",
        "for i in range(len(market)):\n",
        "    data.append([market[i][1],market[i][2],market[i][3],market[i][4]])"
      ]
    },
    {
      "cell_type": "code",
      "execution_count": null,
      "metadata": {
        "id": "lqYLs3rv4VKX",
        "outputId": "fd44ae43-9eb5-449e-c518-3174370640ac"
      },
      "outputs": [
        {
          "data": {
            "text/html": [
              "<div>\n",
              "<style scoped>\n",
              "    .dataframe tbody tr th:only-of-type {\n",
              "        vertical-align: middle;\n",
              "    }\n",
              "\n",
              "    .dataframe tbody tr th {\n",
              "        vertical-align: top;\n",
              "    }\n",
              "\n",
              "    .dataframe thead th {\n",
              "        text-align: right;\n",
              "    }\n",
              "</style>\n",
              "<table border=\"1\" class=\"dataframe\">\n",
              "  <thead>\n",
              "    <tr style=\"text-align: right;\">\n",
              "      <th></th>\n",
              "      <th>open</th>\n",
              "      <th>high</th>\n",
              "      <th>low</th>\n",
              "      <th>close</th>\n",
              "    </tr>\n",
              "  </thead>\n",
              "  <tbody>\n",
              "    <tr>\n",
              "      <th>0</th>\n",
              "      <td>1.28688</td>\n",
              "      <td>1.28692</td>\n",
              "      <td>1.28629</td>\n",
              "      <td>1.28644</td>\n",
              "    </tr>\n",
              "    <tr>\n",
              "      <th>1</th>\n",
              "      <td>1.28668</td>\n",
              "      <td>1.28693</td>\n",
              "      <td>1.28656</td>\n",
              "      <td>1.28680</td>\n",
              "    </tr>\n",
              "    <tr>\n",
              "      <th>2</th>\n",
              "      <td>1.28677</td>\n",
              "      <td>1.28694</td>\n",
              "      <td>1.28643</td>\n",
              "      <td>1.28664</td>\n",
              "    </tr>\n",
              "    <tr>\n",
              "      <th>3</th>\n",
              "      <td>1.28667</td>\n",
              "      <td>1.28741</td>\n",
              "      <td>1.28647</td>\n",
              "      <td>1.28671</td>\n",
              "    </tr>\n",
              "    <tr>\n",
              "      <th>4</th>\n",
              "      <td>1.28672</td>\n",
              "      <td>1.28736</td>\n",
              "      <td>1.28669</td>\n",
              "      <td>1.28711</td>\n",
              "    </tr>\n",
              "    <tr>\n",
              "      <th>...</th>\n",
              "      <td>...</td>\n",
              "      <td>...</td>\n",
              "      <td>...</td>\n",
              "      <td>...</td>\n",
              "    </tr>\n",
              "    <tr>\n",
              "      <th>99994</th>\n",
              "      <td>1.35005</td>\n",
              "      <td>1.35105</td>\n",
              "      <td>1.35003</td>\n",
              "      <td>1.35095</td>\n",
              "    </tr>\n",
              "    <tr>\n",
              "      <th>99995</th>\n",
              "      <td>1.35093</td>\n",
              "      <td>1.35114</td>\n",
              "      <td>1.35050</td>\n",
              "      <td>1.35073</td>\n",
              "    </tr>\n",
              "    <tr>\n",
              "      <th>99996</th>\n",
              "      <td>1.35073</td>\n",
              "      <td>1.35148</td>\n",
              "      <td>1.35073</td>\n",
              "      <td>1.35147</td>\n",
              "    </tr>\n",
              "    <tr>\n",
              "      <th>99997</th>\n",
              "      <td>1.35148</td>\n",
              "      <td>1.35164</td>\n",
              "      <td>1.35101</td>\n",
              "      <td>1.35124</td>\n",
              "    </tr>\n",
              "    <tr>\n",
              "      <th>99998</th>\n",
              "      <td>1.35125</td>\n",
              "      <td>1.35126</td>\n",
              "      <td>1.34995</td>\n",
              "      <td>1.35018</td>\n",
              "    </tr>\n",
              "  </tbody>\n",
              "</table>\n",
              "<p>99999 rows × 4 columns</p>\n",
              "</div>"
            ],
            "text/plain": [
              "          open     high      low    close\n",
              "0      1.28688  1.28692  1.28629  1.28644\n",
              "1      1.28668  1.28693  1.28656  1.28680\n",
              "2      1.28677  1.28694  1.28643  1.28664\n",
              "3      1.28667  1.28741  1.28647  1.28671\n",
              "4      1.28672  1.28736  1.28669  1.28711\n",
              "...        ...      ...      ...      ...\n",
              "99994  1.35005  1.35105  1.35003  1.35095\n",
              "99995  1.35093  1.35114  1.35050  1.35073\n",
              "99996  1.35073  1.35148  1.35073  1.35147\n",
              "99997  1.35148  1.35164  1.35101  1.35124\n",
              "99998  1.35125  1.35126  1.34995  1.35018\n",
              "\n",
              "[99999 rows x 4 columns]"
            ]
          },
          "metadata": {},
          "output_type": "display_data"
        }
      ],
      "source": [
        "df = pd.DataFrame(data, columns=[\"open\", \"high\",\"low\", \"close\"])\n",
        "display(df)"
      ]
    },
    {
      "cell_type": "code",
      "execution_count": null,
      "metadata": {
        "id": "akg_hIFS4VKX"
      },
      "outputs": [],
      "source": [
        "df.to_csv(\"Generated\"+t_symbol[n]+\" dbot.csv\", index=False)"
      ]
    },
    {
      "cell_type": "code",
      "source": [],
      "metadata": {
        "id": "M8QyUXsy4op6"
      },
      "execution_count": null,
      "outputs": []
    }
  ],
  "metadata": {
    "kernelspec": {
      "display_name": "Python 3",
      "language": "python",
      "name": "python3"
    },
    "language_info": {
      "codemirror_mode": {
        "name": "ipython",
        "version": 3
      },
      "file_extension": ".py",
      "mimetype": "text/x-python",
      "name": "python",
      "nbconvert_exporter": "python",
      "pygments_lexer": "ipython3",
      "version": "3.10.13"
    },
    "colab": {
      "provenance": []
    }
  },
  "nbformat": 4,
  "nbformat_minor": 0
}