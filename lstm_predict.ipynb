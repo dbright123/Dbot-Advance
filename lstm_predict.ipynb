{
  "cells": [
    {
      "cell_type": "markdown",
      "metadata": {
        "colab_type": "text",
        "id": "view-in-github"
      },
      "source": [
        "<a href=\"https://colab.research.google.com/github/dbright123/Dbot-Advance/blob/main/lstm_predict.ipynb\" target=\"_parent\"><img src=\"https://colab.research.google.com/assets/colab-badge.svg\" alt=\"Open In Colab\"/></a>"
      ]
    },
    {
      "cell_type": "code",
      "execution_count": null,
      "metadata": {
        "id": "Z1oCaggK4VKR"
      },
      "outputs": [],
      "source": [
        "import MetaTrader5 as mt5\n",
        "import numpy as np\n",
        "import pandas as pd\n",
        "\n",
        "\n",
        "\n"
      ]
    },
    {
      "cell_type": "code",
      "execution_count": null,
      "metadata": {
        "id": "btJoWVAx4VKS",
        "outputId": "077d53d7-b8ac-4d3c-9251-3f449e68e0f3"
      },
      "outputs": [],
      "source": [
        "print(\"MetaTrader5 package author: \",mt5.__author__)\n",
        "print(\"MetaTrader5 package version: \",mt5.__version__)\n",
        "\n",
        "trade_active = mt5.initialize()\n",
        "\n",
        "print(trade_active)\n",
        "\n",
        "if not trade_active:\n",
        "    print('Initialization failed, check internet connection. You must have Meta Trader 5 installed.')\n",
        "    mt5.shutdown()\n",
        "\n",
        "else:\n",
        "    print(mt5.account_info()._asdict())\n",
        "    print(\"\\n\")\n",
        "    print(mt5.terminal_info()._asdict())\n",
        "    print(\"\\n\")\n",
        "    print(mt5.symbols_total())"
      ]
    },
    {
      "cell_type": "code",
      "execution_count": null,
      "metadata": {
        "id": "ep9xWhDh4VKU",
        "outputId": "31c79ec1-fd31-4335-d881-2db8f23fed61"
      },
      "outputs": [],
      "source": [
        "account = mt5.account_info()\n",
        "terminal = mt5.terminal_info()\n",
        "\n",
        "print(account.equity)\n",
        "\n",
        "if(terminal.connected == True or terminal.trade_allowed == True):\n",
        "    print(\"AI is successfully functional\")\n",
        "else:\n",
        "    print(\"Please make sure metatrade 5 has internet and algo Trade is Turn On\")"
      ]
    },
    {
      "cell_type": "code",
      "execution_count": null,
      "metadata": {
        "id": "Cm6_C7cwJaFl",
        "outputId": "14ed083f-33ea-49ce-81da-0259753f3a03"
      },
      "outputs": [],
      "source": [
        "symbols = mt5.symbols_get()\n",
        "print(len(symbols))\n",
        "t_symbol = []\n",
        "for symbol in symbols:\n",
        "    if \"USD\" in symbol.name:\n",
        "        print(\"Yes \", symbol.name)\n",
        "        t_symbol.append(symbol.name)\n",
        "\n",
        "print(len(t_symbol))"
      ]
    },
    {
      "cell_type": "code",
      "execution_count": null,
      "metadata": {
        "id": "v4Nye5Nj2DGW",
        "outputId": "0dec2b90-1041-4a82-ca35-4016bfbf33f0"
      },
      "outputs": [],
      "source": [
        "market = mt5.copy_rates_from_pos(t_symbol[10], mt5.TIMEFRAME_M30, 0, 99999)\n",
        "display(market)\n",
        "print(market.shape)\n",
        "print(t_symbol[10])\n",
        "t_s = t_symbol[10]\n",
        "\n",
        "data = []\n",
        "for i in range(len(market)):\n",
        "    data.append([market[i][1],market[i][2],market[i][3],market[i][4]])\n",
        "df = pd.DataFrame(data, columns=[\"open\", \"high\",\"low\", \"close\"])\n",
        "df.to_csv(\"Generated\"+t_s+\" dbot.csv\", index=False)\n"
      ]
    },
    {
      "cell_type": "code",
      "execution_count": null,
      "metadata": {
        "id": "PT_T7TBpJaFl"
      },
      "outputs": [],
      "source": [
        "test_symbol = []\n",
        "for t_s in t_symbol:\n",
        "    market = mt5.copy_rates_from_pos(t_s, mt5.TIMEFRAME_H1, 0, 99999)\n",
        "    if(len(market) > 80000 ):\n",
        "        data = []\n",
        "        for i in range(len(market)):\n",
        "            data.append([market[i][1],market[i][2],market[i][3],market[i][4]])\n",
        "        df = pd.DataFrame(data, columns=[\"open\", \"high\",\"low\", \"close\"])\n",
        "        df.to_csv(\"Generated\"+t_s+\" dbot.csv\", index=False)\n",
        "        test_symbol.append(t_s)\n"
      ]
    },
    {
      "cell_type": "code",
      "execution_count": null,
      "metadata": {
        "id": "b4CF7z2N8h2S"
      },
      "outputs": [],
      "source": [
        "\n",
        "for t_s in test_symbol:\n",
        "    market = mt5.copy_rates_from_pos(t_s, mt5.TIMEFRAME_D1, 0, 1000)\n",
        "    if(len(market) > 900):\n",
        "        data = []\n",
        "        for i in range(len(market)):\n",
        "            data.append([market[i][1],market[i][2],market[i][3],market[i][4]])\n",
        "        df = pd.DataFrame(data, columns=[\"open\", \"high\",\"low\", \"close\"])\n",
        "        df.to_csv(\"Generated\"+t_s+\" test.csv\", index=False)\n",
        "\n"
      ]
    },
    {
      "cell_type": "code",
      "execution_count": null,
      "metadata": {
        "id": "hjdWs03YJaFm",
        "outputId": "65b3d587-0c44-45ea-8550-33b17d991ad6"
      },
      "outputs": [],
      "source": [
        "import joblib\n",
        "\n",
        "joblib.dump(t_symbol,\"symbol.joblib\")"
      ]
    },
    {
      "cell_type": "code",
      "execution_count": 1,
      "metadata": {
        "id": "M8QyUXsy4op6"
      },
      "outputs": [
        {
          "name": "stdout",
          "output_type": "stream",
          "text": [
            "2.10.1\n"
          ]
        }
      ],
      "source": [
        "import numpy as np # linear algebra\n",
        "import pandas as pd # data processing, CSV file I/O (e.g. pd.read_csv)\n",
        "import tensorflow as tf\n",
        "print(tf.__version__)\n"
      ]
    },
    {
      "cell_type": "code",
      "execution_count": 2,
      "metadata": {
        "id": "PqACycZPJaFn"
      },
      "outputs": [],
      "source": [
        "from sklearn.preprocessing import MinMaxScaler, StandardScaler\n",
        "from sklearn.metrics import mean_squared_error, mean_absolute_error\n",
        "import joblib\n",
        "import os\n",
        "from sklearn.model_selection import train_test_split\n",
        "import numpy as np\n",
        "from sklearn.preprocessing import MinMaxScaler\n",
        "from scaler3d2d import preprocess_and_save_scalers,transform_data, inverse_transform_data\n",
        "\n"
      ]
    },
    {
      "cell_type": "code",
      "execution_count": 3,
      "metadata": {
        "id": "tpswK5-7JaFo"
      },
      "outputs": [],
      "source": [
        "from tensorflow.keras.optimizers import SGD,Adam\n",
        "import matplotlib.pyplot as plt\n",
        "\n",
        "\n",
        "\n",
        "from tensorflow.keras import Model\n",
        "from tensorflow.keras.layers import Input, LSTM, Dense, Dropout, BatchNormalization, LayerNormalization, Bidirectional\n",
        "from tensorflow.keras.callbacks import EarlyStopping, ReduceLROnPlateau, ModelCheckpoint\n",
        "\n",
        "from sklearn.metrics import r2_score\n",
        "from tensorflow.keras.models import load_model\n",
        "import keras"
      ]
    },
    {
      "cell_type": "code",
      "execution_count": 4,
      "metadata": {
        "id": "e5GJ3N6HJaFo"
      },
      "outputs": [],
      "source": [
        "# Get the list of all files and directories in the specified path\n",
        "\n",
        "dir_contents = os.listdir(\".\")\n",
        "t_symbol = joblib.load(\"symbol.joblib\")"
      ]
    },
    {
      "cell_type": "code",
      "execution_count": 5,
      "metadata": {
        "colab": {
          "base_uri": "https://localhost:8080/"
        },
        "id": "G82RO07oi6t1",
        "outputId": "679b1771-f61c-499c-811d-b960d68c7a8d"
      },
      "outputs": [
        {
          "name": "stdout",
          "output_type": "stream",
          "text": [
            "['EURUSD', 'GBPUSD', 'USDJPY', 'USDCHF', 'AUDUSD', 'NZDUSD', 'USDCAD', 'USDMXN', 'USDZAR', 'XAGUSD', 'XAUUSD', 'XBRUSD', 'XTIUSD', 'XNGUSD', 'BTCUSD', 'ETHUSD', 'LTCUSD', 'XRPUSD', 'BCHUSD', 'AAVEUSD', 'ADAUSD', 'ALGOUSD', 'ATOMUSD', 'AVAXUSD', 'AXSUSD', 'BNBUSD', 'DASHUSD', 'DOGEUSD', 'DOTUSD', 'FILUSD', 'GRTUSD', 'ICPUSD', 'IOTAUSD', 'LINKUSD', 'LRCUSD', 'MANAUSD', 'NEARUSD', 'SOLUSD', 'UNIUSD', 'ZECUSD', 'ETCUSD', 'TRXUSD', 'FETUSD', 'ARBUSD', 'APTUSD', 'SUIUSD', 'USDDKK', 'USDCZK', 'USDHUF', 'USDNOK', 'USDPLN', 'USDSEK', 'USDSGD', 'USDHKD', 'USDCNH', 'USDTRY', 'XBRUSD.Daily', 'XTIUSD.Daily', 'BTCUSD.Daily', 'ETHUSD.Daily', 'XRPUSD.Daily', 'LTCUSD.Daily', 'BCHUSD.Daily', 'LINKUSD.Daily', 'SOLUSD.Daily']\n"
          ]
        }
      ],
      "source": [
        "print(t_symbol)"
      ]
    },
    {
      "cell_type": "code",
      "execution_count": null,
      "metadata": {
        "id": "UC2tpiHOpgVu"
      },
      "outputs": [],
      "source": [
        "#t_symbol = [\"EURUSD\",\"AUDUSD\",\"GBPUSD\",\"USDCAD\"]"
      ]
    },
    {
      "cell_type": "code",
      "execution_count": 6,
      "metadata": {
        "colab": {
          "base_uri": "https://localhost:8080/"
        },
        "id": "L9Urbl8tJaFp",
        "outputId": "b6299a2a-23c2-42c6-8f42-2268afe6c8e7"
      },
      "outputs": [
        {
          "name": "stdout",
          "output_type": "stream",
          "text": [
            "GeneratedAUDUSD dbot.csv\n",
            "GeneratedEURUSD dbot.csv\n",
            "GeneratedGBPUSD dbot.csv\n",
            "GeneratedNZDUSD dbot.csv\n",
            "GeneratedUSDCAD dbot.csv\n",
            "GeneratedUSDCHF dbot.csv\n",
            "GeneratedUSDJPY dbot.csv\n",
            "GeneratedUSDMXN dbot.csv\n",
            "GeneratedUSDZAR dbot.csv\n",
            "GeneratedXAUUSD dbot.csv\n",
            "----------------------------------------------------\n",
            "10\n",
            "10\n"
          ]
        }
      ],
      "source": [
        "\n",
        "# Filter the list to include only files, not directories\n",
        "# os.path.join is used to create a full path for isfile() to check\n",
        "files = [item for item in dir_contents]\n",
        "\n",
        "file_target = []\n",
        "test_target = []\n",
        "\n",
        "for filename in files:\n",
        "    for t_s in t_symbol:\n",
        "        if t_s in filename  and \"dbot.csv\" in filename:\n",
        "            print(filename)\n",
        "            file_target.append(filename)\n",
        "            test_target.append(filename.replace(\"dbot\",\"test\"))\n",
        "\n",
        "print(\"----------------------------------------------------\")\n",
        "\n",
        "print(len(file_target))\n",
        "print(len(test_target))\n",
        "train_dfs = []\n",
        "for f_t in file_target:\n",
        "    train_dfs.append(pd.read_csv(f_t))\n",
        "try:\n",
        "    train_dfs_test = []\n",
        "    for f_t in test_target:\n",
        "        train_dfs_test.append(pd.read_csv(f_t))\n",
        "except:\n",
        "    pass"
      ]
    },
    {
      "cell_type": "code",
      "execution_count": null,
      "metadata": {
        "colab": {
          "base_uri": "https://localhost:8080/",
          "height": 424
        },
        "id": "94sFD1Kc29tr",
        "outputId": "c8aa60f1-e8b6-4aa1-b736-2bef8f7d1611"
      },
      "outputs": [],
      "source": [
        "display(train_dfs[0])"
      ]
    },
    {
      "cell_type": "code",
      "execution_count": null,
      "metadata": {
        "colab": {
          "base_uri": "https://localhost:8080/",
          "height": 424
        },
        "id": "tOE5gYlbhIFd",
        "outputId": "a9da9a6f-ec25-4759-e740-841cb535bf7f"
      },
      "outputs": [],
      "source": [
        "display(train_dfs_test[0])"
      ]
    },
    {
      "cell_type": "code",
      "execution_count": null,
      "metadata": {
        "colab": {
          "base_uri": "https://localhost:8080/"
        },
        "id": "X-1MEa4L3HwH",
        "outputId": "4d48a4c1-6224-4026-a485-1aa764490f34"
      },
      "outputs": [],
      "source": [
        "print(train_dfs[0].values[:,-1:])"
      ]
    },
    {
      "cell_type": "code",
      "execution_count": 7,
      "metadata": {
        "id": "xnvfkDwKJaFp"
      },
      "outputs": [],
      "source": [
        "def create_sequences(data_scaled, seq_len, pred_steps = 5):\n",
        "    \"\"\"\n",
        "    data_scaled: np.array shaped (n_rows, n_features)\n",
        "    returns X (n_samples, seq_len, n_features), y (n_samples, n_features)\n",
        "    where y is the row immediately following the window.\n",
        "    \"\"\"\n",
        "    X, y = [], []\n",
        "    n_rows = data_scaled.shape[0]\n",
        "    for i in range(n_rows - seq_len - pred_steps + 1):\n",
        "        X.append(data_scaled[i:i+seq_len])\n",
        "        y.append(data_scaled[i+seq_len : i + seq_len+pred_steps, -1])\n",
        "    X = np.array(X)\n",
        "    y = np.array(y)\n",
        "    return X, y\n",
        "\n",
        "\n",
        "\n"
      ]
    },
    {
      "cell_type": "code",
      "execution_count": 34,
      "metadata": {
        "id": "DqNMMybC2oHD"
      },
      "outputs": [],
      "source": [
        "n = 1"
      ]
    },
    {
      "cell_type": "code",
      "execution_count": 35,
      "metadata": {},
      "outputs": [],
      "source": [
        "\n",
        "def preprocess_and_save_scalers(data_x, data_y, scaler_x_filename='scaler_x.joblib', scaler_y_filename='scaler_y.joblib'):\n",
        "    \"\"\"\n",
        "    Preprocesses 3D X and 2D Y data, scales them to a range of [0, 1],\n",
        "    and saves the fitted scalers.\n",
        "\n",
        "    Args:\n",
        "        data_x (np.ndarray): The input features, a 3D numpy array of shape (samples, timesteps, features).\n",
        "        data_y (np.ndarray): The target values, a 2D numpy array of shape (samples, output_dim).\n",
        "        scaler_x_filename (str): Filename to save the scaler for X data.\n",
        "        scaler_y_filename (str): Filename to save the scaler for Y data.\n",
        "\n",
        "    Returns:\n",
        "        tuple: A tuple containing the scaled X data (3D) and scaled Y data (2D).\n",
        "    \"\"\"\n",
        "    try:\n",
        "        # --- Preprocess X data (3D) ---\n",
        "        # Reshape 3D data to 2D for scaler\n",
        "        original_shape_x = data_x.shape\n",
        "        data_x_reshaped = data_x.reshape(-1, original_shape_x[2])\n",
        "\n",
        "        # Initialize and fit the scaler for X\n",
        "        scaler_x = MinMaxScaler(feature_range=(0, 1))\n",
        "        scaled_x_reshaped = scaler_x.fit_transform(data_x_reshaped)\n",
        "\n",
        "        # Reshape the scaled data back to its original 3D shape\n",
        "        scaled_x = scaled_x_reshaped.reshape(original_shape_x)\n",
        "\n",
        "        # --- Preprocess Y data (2D) ---\n",
        "        scaler_y = MinMaxScaler(feature_range=(0, 1))\n",
        "        scaled_y = scaler_y.fit_transform(data_y)\n",
        "\n",
        "        # --- Save the scalers ---\n",
        "        joblib.dump(scaler_x, scaler_x_filename)\n",
        "        joblib.dump(scaler_y, scaler_y_filename)\n",
        "        print(f\"Scaler for X saved to '{scaler_x_filename}'\")\n",
        "        print(f\"Scaler for Y saved to '{scaler_y_filename}'\")\n",
        "\n",
        "        return scaled_x, scaled_y\n",
        "\n",
        "    except Exception as e:\n",
        "        print(f\"An error occurred during preprocessing: {e}\")\n",
        "        return None, None\n",
        "\n",
        "def transform_data(data_x=None, data_y=None, scaler_x_filename='scaler_x.joblib', scaler_y_filename='scaler_y.joblib'):\n",
        "    \"\"\"\n",
        "    Transforms new 3D X and/or 2D Y data using saved scalers.\n",
        "\n",
        "    Args:\n",
        "        data_x (np.ndarray, optional): The new input features (3D numpy array). Defaults to None.\n",
        "        data_y (np.ndarray, optional): The new target values (2D numpy array). Defaults to None.\n",
        "        scaler_x_filename (str): Filename of the saved scaler for X data.\n",
        "        scaler_y_filename (str): Filename of the saved scaler for Y data.\n",
        "\n",
        "    Returns:\n",
        "        tuple: A tuple containing (scaled_x, scaled_y). Elements will be None if not provided.\n",
        "    \"\"\"\n",
        "    scaled_x = None\n",
        "    scaled_y = None\n",
        "\n",
        "    # Transform X data if provided\n",
        "    if data_x is not None:\n",
        "        if not os.path.exists(scaler_x_filename):\n",
        "            print(f\"Error: Scaler file for X not found at '{scaler_x_filename}'\")\n",
        "        else:\n",
        "            try:\n",
        "                scaler_x = joblib.load(scaler_x_filename)\n",
        "                original_shape_x = data_x.shape\n",
        "                # Ensure there's data to reshape\n",
        "                if original_shape_x[0] > 0:\n",
        "                    data_x_reshaped = data_x.reshape(-1, original_shape_x[2])\n",
        "                    scaled_x_reshaped = scaler_x.transform(data_x_reshaped)\n",
        "                    scaled_x = scaled_x_reshaped.reshape(original_shape_x)\n",
        "                else:\n",
        "                    # Handle empty array case\n",
        "                    scaled_x = np.array([]).reshape(original_shape_x)\n",
        "            except Exception as e:\n",
        "                print(f\"An error occurred during X transformation: {e}\")\n",
        "\n",
        "    # Transform Y data if provided\n",
        "    if data_y is not None:\n",
        "        if not os.path.exists(scaler_y_filename):\n",
        "            print(f\"Error: Scaler file for Y not found at '{scaler_y_filename}'\")\n",
        "        else:\n",
        "            try:\n",
        "                scaler_y = joblib.load(scaler_y_filename)\n",
        "                scaled_y = scaler_y.transform(data_y)\n",
        "            except Exception as e:\n",
        "                print(f\"An error occurred during Y transformation: {e}\")\n",
        "\n",
        "    return scaled_x, scaled_y\n",
        "\n",
        "\n",
        "def inverse_transform_data(scaled_x=None, scaled_y=None, scaler_x_filename='scaler_x.joblib', scaler_y_filename='scaler_y.joblib'):\n",
        "    \"\"\"\n",
        "    Inverse transforms scaled 3D X and/or 2D Y data to their original scale.\n",
        "\n",
        "    Args:\n",
        "        scaled_x (np.ndarray, optional): The scaled input features (3D numpy array). Defaults to None.\n",
        "        scaled_y (np.ndarray, optional): The scaled target values or predictions (2D numpy array). Defaults to None.\n",
        "        scaler_x_filename (str): Filename of the saved scaler for X data.\n",
        "        scaler_y_filename (str): Filename of the saved scaler for Y data.\n",
        "\n",
        "    Returns:\n",
        "        tuple: A tuple containing (inversed_x, inversed_y). Elements will be None if not provided.\n",
        "    \"\"\"\n",
        "    inversed_x = None\n",
        "    inversed_y = None\n",
        "\n",
        "    # Inverse transform X data if provided\n",
        "    if scaled_x is not None:\n",
        "        if not os.path.exists(scaler_x_filename):\n",
        "            print(f\"Error: Scaler file for X not found at '{scaler_x_filename}'\")\n",
        "        else:\n",
        "            try:\n",
        "                scaler_x = joblib.load(scaler_x_filename)\n",
        "                original_shape_x = scaled_x.shape\n",
        "                # Ensure there's data to reshape\n",
        "                if original_shape_x[0] > 0:\n",
        "                    scaled_x_reshaped = scaled_x.reshape(-1, original_shape_x[2])\n",
        "                    inversed_x_reshaped = scaler_x.inverse_transform(scaled_x_reshaped)\n",
        "                    inversed_x = inversed_x_reshaped.reshape(original_shape_x)\n",
        "                else:\n",
        "                    inversed_x = np.array([]).reshape(original_shape_x)\n",
        "            except Exception as e:\n",
        "                print(f\"An error occurred during X inverse transformation: {e}\")\n",
        "\n",
        "    # Inverse transform Y data if provided\n",
        "    if scaled_y is not None:\n",
        "        if not os.path.exists(scaler_y_filename):\n",
        "            print(f\"Error: Scaler file for Y not found at '{scaler_y_filename}'\")\n",
        "        else:\n",
        "            try:\n",
        "                scaler_y = joblib.load(scaler_y_filename)\n",
        "                inversed_y = scaler_y.inverse_transform(scaled_y)\n",
        "            except Exception as e:\n",
        "                print(f\"An error occurred during Y inverse transformation: {e}\")\n",
        "\n",
        "    return inversed_x, inversed_y\n"
      ]
    },
    {
      "cell_type": "code",
      "execution_count": 36,
      "metadata": {
        "colab": {
          "base_uri": "https://localhost:8080/"
        },
        "id": "FgfuQq2n2yc1",
        "outputId": "0784b3a8-b631-4e7f-8a48-75962084f30d"
      },
      "outputs": [
        {
          "name": "stdout",
          "output_type": "stream",
          "text": [
            "GeneratedEURUSD \n"
          ]
        }
      ],
      "source": [
        "m_label = file_target[n].replace(\"dbot.csv\",\"\")\n",
        "train_df = train_dfs[n]\n",
        "#train_df_test = train_dfs_test[n]\n",
        "print(m_label)\n",
        "SEQ_LEN = 240 # length of input sequence (timesteps). Typical choices: 30, 60, 90\n",
        "n_rows, n_features = train_df.values.shape\n",
        "\n",
        "X, y = create_sequences(train_df.values, SEQ_LEN, 5)  # X: (n_samples, SEQ_LEN, n_features), y: (n_samples, n_features)\n",
        "#X1, y1 = create_sequences(train_df.values, SEQ_LEN, 5)  # X: (n_samples, SEQ_LEN, n_features), y: (n_samples, n_features)\n",
        "\n",
        "n_samples = X.shape[0]\n"
      ]
    },
    {
      "cell_type": "code",
      "execution_count": 37,
      "metadata": {},
      "outputs": [
        {
          "name": "stdout",
          "output_type": "stream",
          "text": [
            "Scaler for X saved to 'scaler_x.joblib'\n",
            "Scaler for Y saved to 'scaler_y.joblib'\n"
          ]
        }
      ],
      "source": [
        "X, y = preprocess_and_save_scalers(X, y)\n",
        "#X1, y1 = transform_data(X1, y1)"
      ]
    },
    {
      "cell_type": "code",
      "execution_count": 39,
      "metadata": {
        "colab": {
          "base_uri": "https://localhost:8080/"
        },
        "id": "jgr3stmT3oDg",
        "outputId": "80d849ed-9728-4fd8-fa96-1b2f778e1aef"
      },
      "outputs": [
        {
          "name": "stdout",
          "output_type": "stream",
          "text": [
            "[[0.38406625 0.38275319 0.38430062 0.3843175 ]\n",
            " [0.3843518  0.38366638 0.3850511  0.38556668]\n",
            " [0.38561893 0.3843647  0.3859088  0.38629834]\n",
            " [0.38631496 0.3843647  0.38642699 0.3866374 ]\n",
            " [0.38663621 0.38463329 0.38649846 0.38560237]\n",
            " [0.38563678 0.38363057 0.38648059 0.38567375]\n",
            " [0.38592233 0.38441842 0.38671289 0.38638757]\n",
            " [0.3864042  0.38508093 0.38739189 0.38647679]\n",
            " [0.38649343 0.3874803  0.38749911 0.38947481]\n",
            " [0.38943818 0.38789214 0.38930384 0.38972465]\n",
            " [0.38975942 0.38848303 0.39069759 0.39026001]\n",
            " [0.39029483 0.38857255 0.39118004 0.39008155]\n",
            " [0.39009852 0.38925297 0.39073333 0.39043846]\n",
            " [0.3904733  0.38925297 0.39098349 0.3906883 ]\n",
            " [0.39065177 0.38848303 0.3898935  0.38917144]\n",
            " [0.38909909 0.38921716 0.3898399  0.39042061]\n",
            " [0.3904733  0.38848303 0.38808877 0.38983172]\n",
            " [0.38984866 0.38801748 0.38969695 0.38874315]\n",
            " [0.38875999 0.38721172 0.38946466 0.38915359]\n",
            " [0.38917047 0.38882323 0.3883568  0.39079537]\n",
            " [0.39083024 0.39249391 0.39001858 0.3945072 ]\n",
            " [0.39452456 0.39310271 0.39325281 0.39291896]\n",
            " [0.39288264 0.39131213 0.39196626 0.39100951]\n",
            " [0.39102656 0.38943203 0.39069759 0.39079537]\n",
            " [0.39081239 0.38925297 0.39121578 0.39083106]\n",
            " [0.39086593 0.38896648 0.39053677 0.38945697]\n",
            " [0.38954526 0.38919926 0.39030448 0.39120581]\n",
            " [0.39124072 0.38898439 0.39134086 0.39052769]\n",
            " [0.39052684 0.38828606 0.39089415 0.39008155]\n",
            " [0.39000928 0.38909182 0.3910371  0.39056338]\n",
            " [0.39065177 0.3884114  0.39110857 0.39052769]\n",
            " [0.39054469 0.38910973 0.39155529 0.39108089]\n",
            " [0.39111579 0.38894857 0.38896433 0.3893142 ]\n",
            " [0.38943818 0.38792795 0.38912515 0.38813641]\n",
            " [0.38813535 0.38760564 0.38885712 0.38958188]\n",
            " [0.3895988  0.38805329 0.39034022 0.38986741]\n",
            " [0.38988435 0.38844721 0.38994711 0.39070614]\n",
            " [0.39074101 0.3899692  0.39173397 0.39152703]\n",
            " [0.39157981 0.39118679 0.39219856 0.39229438]\n",
            " [0.39229369 0.39199255 0.39316346 0.39306173]\n",
            " [0.3931325  0.39449936 0.39421771 0.39552439]\n",
            " [0.39547045 0.39378313 0.39477164 0.39422167]\n",
            " [0.39425685 0.39252972 0.39391394 0.39373985]\n",
            " [0.39382853 0.39202836 0.39323494 0.39311526]\n",
            " [0.39311465 0.39175978 0.3926274  0.392223  ]\n",
            " [0.392258   0.39032732 0.38966121 0.39083106]\n",
            " [0.39091947 0.39269088 0.39059038 0.39448936]\n",
            " [0.39448886 0.39233276 0.39128726 0.39174117]\n",
            " [0.39172259 0.39389056 0.39273462 0.39568499]\n",
            " [0.3957203  0.3943203  0.39507541 0.39441797]\n",
            " [0.39441748 0.39226114 0.39307412 0.39288327]\n",
            " [0.39291833 0.39075705 0.39318133 0.39270482]\n",
            " [0.39277556 0.39052428 0.39235937 0.39134857]\n",
            " [0.39141919 0.38980805 0.39250232 0.39172333]\n",
            " [0.39163335 0.39093611 0.39227003 0.39175902]\n",
            " [0.39181182 0.39095402 0.39271675 0.39188393]\n",
            " [0.39186536 0.39018407 0.392002   0.3920267 ]\n",
            " [0.39206168 0.39061381 0.39212708 0.3925799 ]\n",
            " [0.39265063 0.39039894 0.39248445 0.39234791]\n",
            " [0.39238292 0.39032732 0.39275248 0.3923836 ]\n",
            " [0.39240077 0.39381894 0.3934851  0.39598836]\n",
            " [0.39600585 0.39528721 0.39604031 0.39497118]\n",
            " [0.39502427 0.39673757 0.39575441 0.39773721]\n",
            " [0.39766562 0.39740009 0.39419984 0.3945072 ]\n",
            " [0.39459595 0.39509024 0.39532557 0.39422167]\n",
            " [0.39413192 0.39301318 0.39219856 0.39149134]\n",
            " [0.39149058 0.38930669 0.389554   0.39013509]\n",
            " [0.3901699  0.39056009 0.39119791 0.39174117]\n",
            " [0.39175828 0.39564532 0.3904653  0.39436444]\n",
            " [0.39438178 0.3943203  0.39493246 0.39502472]\n",
            " [0.39498858 0.39467841 0.39221642 0.39390046]\n",
            " [0.39382853 0.3921537  0.39051891 0.38968896]\n",
            " [0.38965234 0.3880891  0.38939318 0.38968896]\n",
            " [0.38972373 0.38918135 0.39078693 0.38984956]\n",
            " [0.38993789 0.39084658 0.39050104 0.39181255]\n",
            " [0.39181182 0.3899513  0.39201987 0.3910452 ]\n",
            " [0.3910801  0.38887695 0.39134086 0.39056338]\n",
            " [0.39054469 0.38884114 0.39135873 0.39095598]\n",
            " [0.39099086 0.39004083 0.3919484  0.3916341 ]\n",
            " [0.39168689 0.3899513  0.39255593 0.39147349]\n",
            " [0.39147273 0.38959318 0.3910907  0.39093813]\n",
            " [0.39093732 0.39030941 0.39096562 0.39252637]\n",
            " [0.39256139 0.39081077 0.39328854 0.39224084]\n",
            " [0.39229369 0.3902736  0.39253806 0.39181255]\n",
            " [0.39182967 0.38973643 0.39209134 0.39172333]\n",
            " [0.39174043 0.3899513  0.39198413 0.39193747]\n",
            " [0.39200814 0.39138376 0.39273462 0.39325803]\n",
            " [0.39331097 0.39344292 0.39403903 0.39454289]\n",
            " [0.3945781  0.39347873 0.3947359  0.39516748]\n",
            " [0.39518489 0.39376522 0.39570081 0.39539947]\n",
            " [0.39539906 0.39312061 0.39495033 0.39488195]\n",
            " [0.39493504 0.39344292 0.39511114 0.39459643]\n",
            " [0.39463164 0.39378313 0.3928597  0.39229438]\n",
            " [0.39232938 0.39116889 0.38907155 0.38956404]\n",
            " [0.38954526 0.38724753 0.38746337 0.38799365]\n",
            " [0.38793903 0.38570764 0.38363948 0.38497778]\n",
            " [0.38501214 0.38599413 0.38580159 0.38826133]\n",
            " [0.38820674 0.38697894 0.38891073 0.38804718]\n",
            " [0.38804612 0.38730125 0.38894647 0.38936774]\n",
            " [0.38940248 0.388107   0.38976842 0.38899299]\n",
            " [0.3890277  0.38764146 0.38919663 0.38810072]\n",
            " [0.38804612 0.38644177 0.38903581 0.38863608]\n",
            " [0.38858152 0.38708638 0.38860696 0.38901083]\n",
            " [0.3890277  0.38794585 0.39003645 0.39001017]\n",
            " [0.39002713 0.38780261 0.39009006 0.38992095]\n",
            " [0.38995574 0.38857255 0.3896076  0.39040277]\n",
            " [0.39040191 0.38825025 0.39037596 0.38997448]\n",
            " [0.38997359 0.38816072 0.39025088 0.3902957 ]\n",
            " [0.39029483 0.38833978 0.38991137 0.38881453]\n",
            " [0.38881354 0.387158   0.38935744 0.38861823]\n",
            " [0.38863507 0.38851884 0.3896076  0.38924282]\n",
            " [0.38934894 0.38944994 0.39039382 0.39136642]\n",
            " [0.39140134 0.39131213 0.39227003 0.39279405]\n",
            " [0.39277556 0.39063171 0.39227003 0.39225869]\n",
            " [0.39240077 0.39047056 0.39273462 0.39208023]\n",
            " [0.39211522 0.39104355 0.39225216 0.39166979]\n",
            " [0.39175828 0.39068543 0.39148381 0.39265128]\n",
            " [0.39265063 0.39127632 0.39252019 0.39213377]\n",
            " [0.39232938 0.39398009 0.39278822 0.39288327]\n",
            " [0.39293618 0.39204627 0.39325281 0.39384692]\n",
            " [0.39388207 0.39197465 0.39332428 0.39270482]\n",
            " [0.39268632 0.39077496 0.39241298 0.3916341 ]\n",
            " [0.39166905 0.39052428 0.39150168 0.39268697]\n",
            " [0.39265063 0.39086449 0.39336002 0.39290112]\n",
            " [0.39297187 0.39133004 0.39355657 0.39245499]\n",
            " [0.39154412 0.38925297 0.39139447 0.39063476]\n",
            " [0.39054469 0.38844721 0.38951826 0.38849332]\n",
            " [0.38852798 0.38628062 0.38782074 0.38770812]\n",
            " [0.38781411 0.38672826 0.38842828 0.38849332]\n",
            " [0.38858152 0.3877668  0.38851762 0.3899031 ]\n",
            " [0.38992005 0.38885905 0.39094775 0.39043846]\n",
            " [0.3904733  0.38869789 0.39087628 0.38997448]\n",
            " [0.38999143 0.38821444 0.39021514 0.38920713]\n",
            " [0.38922401 0.38783842 0.38919663 0.38865393]\n",
            " [0.38870645 0.38681779 0.38494389 0.38447811]\n",
            " [0.38445888 0.38549277 0.37992281 0.37894605]\n",
            " [0.37896202 0.3796734  0.3780466  0.37980263]\n",
            " [0.3796759  0.37784701 0.37885069 0.37958849]\n",
            " [0.37960451 0.37739937 0.37822529 0.37907097]\n",
            " [0.37908695 0.37954806 0.37904724 0.38121241]\n",
            " [0.38119289 0.38146397 0.38183475 0.38365723]\n",
            " [0.38370931 0.38382753 0.38378243 0.38551314]\n",
            " [0.38551185 0.38649549 0.38581946 0.3885647 ]\n",
            " [0.38859937 0.38717591 0.38719534 0.38676232]\n",
            " [0.38681468 0.38543905 0.38723108 0.38770812]\n",
            " [0.38770702 0.38615528 0.38842828 0.38745829]\n",
            " [0.38742147 0.38613737 0.38839254 0.38786873]\n",
            " [0.38786765 0.38633434 0.38851762 0.38752967]\n",
            " [0.38751071 0.38581507 0.38819598 0.38744044]\n",
            " [0.38711808 0.38549277 0.38812451 0.38745829]\n",
            " [0.38745717 0.3859225  0.38817811 0.38735121]\n",
            " [0.38738578 0.38588669 0.38816025 0.38727983]\n",
            " [0.38735009 0.38531371 0.38746337 0.38717276]\n",
            " [0.38718946 0.38488397 0.38601601 0.38503132]\n",
            " [0.38506568 0.3843647  0.38612322 0.38590574]\n",
            " [0.38592233 0.38459748 0.38667715 0.38619127]\n",
            " [0.38619003 0.38463329 0.38571224 0.385299  ]\n",
            " [0.38529769 0.38327245 0.38444357 0.38417474]\n",
            " [0.38417333 0.3818579  0.38362161 0.3831754 ]\n",
            " [0.3831739  0.38115958 0.38138804 0.38139087]\n",
            " [0.38140705 0.38021057 0.38042313 0.3795171 ]\n",
            " [0.37953312 0.37813351 0.37965478 0.37962418]\n",
            " [0.37960451 0.37899298 0.38010149 0.38099827]\n",
            " [0.38099657 0.37870649 0.37843971 0.37892821]\n",
            " [0.37887279 0.37739937 0.37842184 0.37969556]\n",
            " [0.37969375 0.37809769 0.37938675 0.37851777]\n",
            " [0.37851585 0.37725612 0.37860053 0.37901743]\n",
            " [0.37903341 0.37974502 0.3798156  0.38078412]\n",
            " [0.38078241 0.37988827 0.38128082 0.38026661]\n",
            " [0.3802827  0.37961968 0.3807269  0.37976694]\n",
            " [0.37983652 0.37757843 0.37897577 0.37807163]\n",
            " [0.37808752 0.37585948 0.37724251 0.37673323]\n",
            " [0.37673115 0.37587738 0.37758202 0.37773257]\n",
            " [0.37751642 0.3756088  0.37840397 0.37775041]\n",
            " [0.37778412 0.37637874 0.37879708 0.37833931]\n",
            " [0.37835523 0.37602063 0.37826102 0.37719721]\n",
            " [0.37719517 0.37489257 0.37699235 0.37619787]\n",
            " [0.37623144 0.37388984 0.37338289 0.37252173]\n",
            " [0.37257282 0.37027288 0.37175684 0.37200421]\n",
            " [0.37201956 0.36986105 0.37198914 0.3720399 ]\n",
            " [0.37203741 0.36993267 0.3716675  0.37118333]\n",
            " [0.3711986  0.36885833 0.37093489 0.37080857]\n",
            " [0.37080597 0.36903739 0.36995211 0.3707015 ]\n",
            " [0.37078812 0.37152629 0.37093489 0.37328908]\n",
            " [0.37332239 0.37175906 0.37072046 0.37036244]\n",
            " [0.37041334 0.36905529 0.36979129 0.36979139]\n",
            " [0.36980654 0.37193812 0.37045243 0.3737709 ]\n",
            " [0.37376856 0.37159791 0.37332928 0.37245035]\n",
            " [0.37248358 0.3721888  0.37322207 0.37353891]\n",
            " [0.37357224 0.3734422  0.37372239 0.37344969]\n",
            " [0.37346516 0.37200974 0.37245372 0.37159377]\n",
            " [0.37166262 0.36943131 0.36936245 0.36875636]\n",
            " [0.36878926 0.36660221 0.36846902 0.36875636]\n",
            " [0.36878926 0.36706776 0.36925524 0.36882774]\n",
            " [0.36878926 0.36944922 0.36868344 0.37132609]\n",
            " [0.37143061 0.37048775 0.37248946 0.37277156]\n",
            " [0.37276913 0.37122189 0.37357944 0.37266449]\n",
            " [0.37244789 0.37021917 0.37293617 0.3724325 ]\n",
            " [0.37255497 0.37168744 0.37354371 0.37375306]\n",
            " [0.37380425 0.37145466 0.37384747 0.37296786]\n",
            " [0.37296545 0.37276178 0.37384747 0.3743598 ]\n",
            " [0.37437536 0.37358545 0.37534844 0.37494869]\n",
            " [0.37496431 0.37394356 0.37579515 0.37560897]\n",
            " [0.37562464 0.3737466  0.37608105 0.37575174]\n",
            " [0.37578527 0.37381822 0.37631334 0.37591234]\n",
            " [0.37589235 0.37403309 0.37563434 0.37464532]\n",
            " [0.37467875 0.37233204 0.37070259 0.37055874]\n",
            " [0.37060965 0.36959247 0.36998785 0.3697557 ]\n",
            " [0.369753   0.36799885 0.36936245 0.37000553]\n",
            " [0.36998501 0.37027288 0.37077407 0.37234327]\n",
            " [0.37248358 0.3703087  0.37118505 0.37105841]\n",
            " [0.37107367 0.3693776  0.37048817 0.36993415]\n",
            " [0.36991362 0.36832116 0.36966621 0.37045167]\n",
            " [0.37044903 0.36962828 0.36728969 0.36823884]\n",
            " [0.3682717  0.36590388 0.36457365 0.36438425]\n",
            " [0.36432753 0.36212577 0.35939175 0.36040473]\n",
            " [0.36043689 0.35884902 0.36033879 0.36027982]\n",
            " [0.36027627 0.35938619 0.36064256 0.36060103]\n",
            " [0.36057967 0.35834766 0.35849832 0.35819191]\n",
            " [0.35831311 0.35852672 0.35930241 0.3605475 ]\n",
            " [0.36047259 0.35949363 0.36144664 0.36115424]\n",
            " [0.36099015 0.35886692 0.36162533 0.36124346]\n",
            " [0.3612757  0.35956525 0.3619827  0.36145761]\n",
            " [0.36147202 0.35936829 0.36114288 0.36160037]\n",
            " [0.36159694 0.36017404 0.36176828 0.36197512]\n",
            " [0.36202527 0.36028148 0.36214352 0.36113639]\n",
            " [0.36124001 0.36056797 0.36214352 0.36234988]\n",
            " [0.36236436 0.36090818 0.36300122 0.36295662]\n",
            " [0.36295331 0.36072912 0.36300122 0.363028  ]\n",
            " [0.36304255 0.36144535 0.36341219 0.36240341]\n",
            " [0.3624179  0.36090818 0.36187549 0.36247479]\n",
            " [0.36247144 0.36182137 0.36239368 0.36383104]\n",
            " [0.36384566 0.36352242 0.3643771  0.36399165]\n",
            " [0.36398844 0.36183928 0.36325138 0.36318861]\n",
            " [0.36323886 0.36244807 0.36348367 0.36268894]\n",
            " [0.36270346 0.36090818 0.36173254 0.36079733]\n",
            " [0.36079383 0.3612842  0.36153599 0.36276032]\n",
            " [0.362757   0.36078284 0.36203631 0.36190374]\n",
            " [0.36190034 0.36225111 0.36241155 0.36392027]\n",
            " [0.36391705 0.37102492 0.36484168 0.37002338]]\n"
          ]
        }
      ],
      "source": [
        "print(X[-1])"
      ]
    },
    {
      "cell_type": "code",
      "execution_count": 40,
      "metadata": {
        "colab": {
          "base_uri": "https://localhost:8080/"
        },
        "id": "plEgpMeQ3uvA",
        "outputId": "62472221-56a3-42b1-ff61-2b4b91bc4b19"
      },
      "outputs": [
        {
          "name": "stdout",
          "output_type": "stream",
          "text": [
            "[0.36879205 0.36795332 0.36929172 0.37002338 0.37066581]\n"
          ]
        }
      ],
      "source": [
        "print(y[-1])"
      ]
    },
    {
      "cell_type": "code",
      "execution_count": 41,
      "metadata": {
        "colab": {
          "base_uri": "https://localhost:8080/",
          "height": 408
        },
        "id": "5j_wkyXD5s_s",
        "outputId": "13511d5b-1acf-450a-8259-13ee9a53e3e9"
      },
      "outputs": [
        {
          "name": "stdout",
          "output_type": "stream",
          "text": [
            "Model: \"model_2\"\n",
            "_________________________________________________________________\n",
            " Layer (type)                Output Shape              Param #   \n",
            "=================================================================\n",
            " input_3 (InputLayer)        [(None, 240, 4)]          0         \n",
            "                                                                 \n",
            " bidirectional_8 (Bidirectio  (None, 240, 400)         328000    \n",
            " nal)                                                            \n",
            "                                                                 \n",
            " bidirectional_9 (Bidirectio  (None, 240, 400)         961600    \n",
            " nal)                                                            \n",
            "                                                                 \n",
            " bidirectional_10 (Bidirecti  (None, 240, 400)         961600    \n",
            " onal)                                                           \n",
            "                                                                 \n",
            " bidirectional_11 (Bidirecti  (None, 400)              961600    \n",
            " onal)                                                           \n",
            "                                                                 \n",
            " dense_4 (Dense)             (None, 150)               60150     \n",
            "                                                                 \n",
            " dropout_2 (Dropout)         (None, 150)               0         \n",
            "                                                                 \n",
            " dense_5 (Dense)             (None, 5)                 755       \n",
            "                                                                 \n",
            "=================================================================\n",
            "Total params: 3,273,705\n",
            "Trainable params: 3,273,705\n",
            "Non-trainable params: 0\n",
            "_________________________________________________________________\n"
          ]
        }
      ],
      "source": [
        "X_train, X_test, y_train, y_test = train_test_split(X, y, test_size=0.33, random_state=0, shuffle=False)\n",
        "X_val, X_test, y_val,  y_test = train_test_split(X_test, y_test, test_size=0.01, random_state=0, shuffle=False)\n",
        "\n",
        "seq_len = X_train.shape[1]\n",
        "n_features = X_train.shape[2]\n",
        "output_dim = y_train.shape[1]\n",
        "\n",
        "i = Input(shape=(seq_len, n_features))\n",
        "X = Bidirectional(LSTM(200, return_sequences=True))(i)\n",
        "X = Bidirectional(LSTM(200, return_sequences=True))(X)\n",
        "X = Bidirectional(LSTM(200, return_sequences=True))(X)\n",
        "X = Bidirectional(LSTM(200))(X)\n",
        "#X = Dropout(0.5)(X)\n",
        "X = Dense(150, activation=\"relu\")(X)\n",
        "X = Dropout(0.5)(X)\n",
        "X = Dense(output_dim)(X)\n",
        "\n",
        "model = Model(i, X)\n",
        "model.summary()\n"
      ]
    },
    {
      "cell_type": "code",
      "execution_count": 42,
      "metadata": {
        "colab": {
          "base_uri": "https://localhost:8080/"
        },
        "id": "i8q4twW84DPd",
        "outputId": "7749addf-c964-4642-d789-c97dd802c6c5"
      },
      "outputs": [
        {
          "name": "stdout",
          "output_type": "stream",
          "text": [
            "Epoch 1/100\n",
            "2089/2089 [==============================] - ETA: 0s - loss: 0.0055 - mae: 0.0472 - root_mean_squared_error: 0.0740 - mape: 9.2497 - msle: 0.0021\n",
            "Epoch 1: val_loss improved from inf to 0.00040, saving model to GeneratedEURUSD lstm_best.keras\n",
            "2089/2089 [==============================] - 318s 149ms/step - loss: 0.0055 - mae: 0.0472 - root_mean_squared_error: 0.0740 - mape: 9.2497 - msle: 0.0021 - val_loss: 4.0151e-04 - val_mae: 0.0173 - val_root_mean_squared_error: 0.0200 - val_mape: 1744.2241 - val_msle: 2.8185e-04 - lr: 0.0010\n",
            "Epoch 2/100\n",
            "2089/2089 [==============================] - ETA: 0s - loss: 0.0014 - mae: 0.0275 - root_mean_squared_error: 0.0377 - mape: 6.3481 - msle: 5.8338e-04\n",
            "Epoch 2: val_loss improved from 0.00040 to 0.00008, saving model to GeneratedEURUSD lstm_best.keras\n",
            "2089/2089 [==============================] - 309s 148ms/step - loss: 0.0014 - mae: 0.0275 - root_mean_squared_error: 0.0377 - mape: 6.3481 - msle: 5.8338e-04 - val_loss: 8.0401e-05 - val_mae: 0.0074 - val_root_mean_squared_error: 0.0090 - val_mape: 508.6113 - val_msle: 4.5944e-05 - lr: 0.0010\n",
            "Epoch 3/100\n",
            "2089/2089 [==============================] - ETA: 0s - loss: 0.0013 - mae: 0.0262 - root_mean_squared_error: 0.0355 - mape: 6.3866 - msle: 5.4976e-04\n",
            "Epoch 3: val_loss improved from 0.00008 to 0.00003, saving model to GeneratedEURUSD lstm_best.keras\n",
            "2089/2089 [==============================] - 363s 174ms/step - loss: 0.0013 - mae: 0.0262 - root_mean_squared_error: 0.0355 - mape: 6.3866 - msle: 5.4976e-04 - val_loss: 3.4070e-05 - val_mae: 0.0046 - val_root_mean_squared_error: 0.0058 - val_mape: 450.9330 - val_msle: 2.1060e-05 - lr: 0.0010\n",
            "Epoch 4/100\n",
            "2089/2089 [==============================] - ETA: 0s - loss: 0.0012 - mae: 0.0258 - root_mean_squared_error: 0.0350 - mape: 6.3046 - msle: 5.3592e-04"
          ]
        }
      ],
      "source": [
        "\n",
        "es = EarlyStopping(monitor='val_loss', patience=12, restore_best_weights=True, verbose=2)\n",
        "rlr = ReduceLROnPlateau(monitor='val_loss', factor=0.5, patience=6, min_lr=1e-6, verbose=2)\n",
        "mc = ModelCheckpoint(m_label + 'lstm_best.keras', monitor='val_loss', save_best_only=True, verbose=2)\n",
        "model.compile(optimizer=Adam(learning_rate=0.001),\n",
        "              loss='mse',\n",
        "              metrics=['mae',tf.keras.metrics.RootMeanSquaredError(),'mape','msle'])\n",
        "r = model.fit(\n",
        "  X_train, y_train,\n",
        "  validation_data=(X_val, y_val),\n",
        "  epochs=100,\n",
        "  #batch_size=1024,\n",
        "  callbacks=[es, rlr, mc ],\n",
        "  verbose=1\n",
        "\n",
        ")\n",
        "\n",
        "\n"
      ]
    },
    {
      "cell_type": "code",
      "execution_count": 22,
      "metadata": {
        "id": "gN-5WQ-M4QOP"
      },
      "outputs": [
        {
          "data": {
            "image/png": "[encoded data removed]",
            "text/plain": [
              "<Figure size 640x480 with 1 Axes>"
            ]
          },
          "metadata": {},
          "output_type": "display_data"
        },
        {
          "data": {
            "image/png": "[encoded data removed]",
            "text/plain": [
              "<Figure size 640x480 with 1 Axes>"
            ]
          },
          "metadata": {},
          "output_type": "display_data"
        },
        {
          "data": {
            "image/png": "[encoded data removed]",
            "text/plain": [
              "<Figure size 640x480 with 1 Axes>"
            ]
          },
          "metadata": {},
          "output_type": "display_data"
        },
        {
          "data": {
            "image/png": "[encoded data removed]",
            "text/plain": [
              "<Figure size 640x480 with 1 Axes>"
            ]
          },
          "metadata": {},
          "output_type": "display_data"
        },
        {
          "data": {
            "image/png": "[encoded data removed]",
            "text/plain": [
              "<Figure size 640x480 with 1 Axes>"
            ]
          },
          "metadata": {},
          "output_type": "display_data"
        }
      ],
      "source": [
        "plt.title(\"Loss on data\")\n",
        "plt.plot(r.history['loss'], label=\"loss\")\n",
        "plt.plot(r.history['val_loss'], label=\"val_loss\")\n",
        "plt.legend()\n",
        "plt.show()\n",
        "\n",
        "plt.title(\"MAE on data\")\n",
        "plt.plot(r.history['mae'], label=\"mae\")\n",
        "plt.plot(r.history['val_mae'], label=\"val_mae\")\n",
        "plt.legend()\n",
        "plt.show()\n",
        "\n",
        "plt.title(\"mape on data\")\n",
        "plt.plot(r.history['mape'], label=\"mape\")\n",
        "plt.plot(r.history['val_mape'], label=\"val_mape\")\n",
        "plt.legend()\n",
        "plt.show()\n",
        "\n",
        "plt.title(\"msle on data\")\n",
        "plt.plot(r.history['msle'], label=\"msle\")\n",
        "plt.plot(r.history['val_msle'], label=\"val_msle\")\n",
        "plt.legend()\n",
        "plt.show()\n",
        "\n",
        "plt.title(\"root_mean_squared_error on data\")\n",
        "plt.plot(r.history['root_mean_squared_error'], label=\"root_mean_squared_error\")\n",
        "plt.plot(r.history['val_root_mean_squared_error'], label=\"val_root_mean_squared_error\")\n",
        "plt.legend()\n",
        "plt.show()\n",
        "\n",
        "\n"
      ]
    },
    {
      "cell_type": "code",
      "execution_count": 23,
      "metadata": {},
      "outputs": [],
      "source": [
        "best_model = load_model(m_label + 'lstm_best.keras')\n"
      ]
    },
    {
      "cell_type": "code",
      "execution_count": 26,
      "metadata": {},
      "outputs": [
        {
          "name": "stdout",
          "output_type": "stream",
          "text": [
            "11/11 [==============================] - 2s 53ms/step\n"
          ]
        }
      ],
      "source": [
        "y_pred = best_model.predict(X_test)"
      ]
    },
    {
      "cell_type": "code",
      "execution_count": 31,
      "metadata": {},
      "outputs": [
        {
          "name": "stdout",
          "output_type": "stream",
          "text": [
            "(330, 5)\n"
          ]
        }
      ],
      "source": [
        "print(y_pred.shape)"
      ]
    },
    {
      "cell_type": "code",
      "execution_count": 33,
      "metadata": {},
      "outputs": [
        {
          "name": "stdout",
          "output_type": "stream",
          "text": [
            "(None, array([[1.35382, 1.35405, 1.355  , 1.35438, 1.35432],\n",
            "       [1.35405, 1.355  , 1.35438, 1.35432, 1.35071],\n",
            "       [1.355  , 1.35438, 1.35432, 1.35071, 1.34903],\n",
            "       ...,\n",
            "       [1.33867, 1.33801, 1.33887, 1.3399 , 1.34021],\n",
            "       [1.33801, 1.33887, 1.3399 , 1.34021, 1.34015],\n",
            "       [1.33887, 1.3399 , 1.34021, 1.34015, 1.34019]]))  comparing to  (None, array([[1.351884 , 1.3519434, 1.3520848, 1.3517829, 1.3518162],\n",
            "       [1.3512676, 1.3513267, 1.3514686, 1.3511654, 1.3511987],\n",
            "       [1.3509374, 1.3509964, 1.3511387, 1.3508348, 1.3508681],\n",
            "       ...,\n",
            "       [1.3365673, 1.3366233, 1.3367802, 1.3364441, 1.3364775],\n",
            "       [1.3353945, 1.3354504, 1.3356084, 1.3352698, 1.3353032],\n",
            "       [1.3352273, 1.335283 , 1.3354411, 1.3351021, 1.3351356]],\n",
            "      dtype=float32))\n"
          ]
        }
      ],
      "source": [
        "print(inverse_transform_data(scaled_y=y_test), \" comparing to \", inverse_transform_data(scaled_y=y_pred))"
      ]
    },
    {
      "cell_type": "code",
      "execution_count": 29,
      "metadata": {},
      "outputs": [
        {
          "name": "stdout",
          "output_type": "stream",
          "text": [
            "R^2 value for  GeneratedGBPUSD \n",
            "0.4060373426943434\n"
          ]
        }
      ],
      "source": [
        "print(\"R^2 value for \", m_label)\n",
        "print(r2_score(y_test, y_pred))"
      ]
    },
    {
      "cell_type": "code",
      "execution_count": null,
      "metadata": {},
      "outputs": [],
      "source": [
        "\n",
        "\n",
        "\n",
        "\n",
        "plt.figure(figsize=(12, 6))\n",
        "plt.plot(y_test[:, 0], label='Actual Close Price', color='blue')\n",
        "plt.plot(y_pred[:, 0], label='Predicted Close Price', color='red', linestyle='--')\n",
        "plt.title('Actual vs. Predicted Close Price')\n",
        "plt.xlabel('Time')\n",
        "plt.ylabel('Close Price')\n",
        "plt.legend()\n",
        "plt.grid(True)\n",
        "plt.savefig('actual_vs_predicted.png')\n",
        "plt.show()\n"
      ]
    }
  ],
  "metadata": {
    "accelerator": "GPU",
    "colab": {
      "gpuType": "T4",
      "include_colab_link": true,
      "provenance": []
    },
    "kernelspec": {
      "display_name": "Python 3",
      "name": "python3"
    },
    "language_info": {
      "codemirror_mode": {
        "name": "ipython",
        "version": 3
      },
      "file_extension": ".py",
      "mimetype": "text/x-python",
      "name": "python",
      "nbconvert_exporter": "python",
      "pygments_lexer": "ipython3",
      "version": "3.10.13"
    }
  },
  "nbformat": 4,
  "nbformat_minor": 0
}
