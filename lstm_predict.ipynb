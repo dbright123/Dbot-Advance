{
  "cells": [
    {
      "cell_type": "code",
      "execution_count": null,
      "metadata": {
        "id": "Z1oCaggK4VKR"
      },
      "outputs": [],
      "source": [
        "import MetaTrader5 as mt5\n",
        "import numpy as np\n",
        "import pandas as pd\n",
        "import joblib\n",
        "import matplotlib.pyplot as plt\n",
        "\n"
      ]
    },
    {
      "cell_type": "code",
      "execution_count": null,
      "metadata": {
        "id": "btJoWVAx4VKS",
        "outputId": "077d53d7-b8ac-4d3c-9251-3f449e68e0f3"
      },
      "outputs": [
        {
          "name": "stdout",
          "output_type": "stream",
          "text": [
            "MetaTrader5 package author:  MetaQuotes Ltd.\n",
            "MetaTrader5 package version:  5.0.4200\n",
            "True\n"
          ]
        }
      ],
      "source": [
        "print(\"MetaTrader5 package author: \",mt5.__author__)\n",
        "print(\"MetaTrader5 package version: \",mt5.__version__)\n",
        "\n",
        "trade_active = mt5.initialize()\n",
        "\n",
        "print(trade_active)"
      ]
    },
    {
      "cell_type": "code",
      "execution_count": null,
      "metadata": {
        "id": "zOwkO05C4VKT",
        "outputId": "d3fac923-d7cb-4ca0-b281-cb6af05cafa8"
      },
      "outputs": [
        {
          "name": "stdout",
          "output_type": "stream",
          "text": [
            "{'login': 213644473, 'trade_mode': 0, 'leverage': 1000, 'limit_orders': 500, 'margin_so_mode': 0, 'trade_allowed': True, 'trade_expert': True, 'margin_mode': 2, 'currency_digits': 2, 'fifo_close': False, 'balance': 200.0, 'credit': 0.0, 'profit': 0.0, 'equity': 200.0, 'margin': 0.0, 'margin_free': 200.0, 'margin_level': 0.0, 'margin_so_call': 25.0, 'margin_so_so': 15.0, 'margin_initial': 0.0, 'margin_maintenance': 0.0, 'assets': 0.0, 'liabilities': 0.0, 'commission_blocked': 0.0, 'name': 'micheal bright omage ', 'server': 'OctaFX-Demo', 'currency': 'USD', 'company': 'Octa Markets Incorporated'}\n",
            "\n",
            "\n",
            "{'community_account': False, 'community_connection': False, 'connected': True, 'dlls_allowed': False, 'trade_allowed': True, 'tradeapi_disabled': False, 'email_enabled': False, 'ftp_enabled': False, 'notifications_enabled': False, 'mqid': False, 'build': 5200, 'maxbars': 100000, 'codepage': 0, 'ping_last': 150601, 'community_balance': 0.0, 'retransmission': 0.6890690676895515, 'company': 'MetaQuotes Software Corp.', 'name': 'MetaTrader 5', 'language': 'English', 'path': 'C:\\\\Program Files\\\\MetaTrader 5', 'data_path': 'C:\\\\Program Files\\\\MetaTrader 5', 'commondata_path': 'C:\\\\Users\\\\omage\\\\AppData\\\\Roaming\\\\MetaQuotes\\\\Terminal\\\\Common'}\n",
            "\n",
            "\n",
            "280\n"
          ]
        }
      ],
      "source": [
        "if not trade_active:\n",
        "    print('Initialization failed, check internet connection. You must have Meta Trader 5 installed.')\n",
        "    mt5.shutdown()\n",
        "\n",
        "else:\n",
        "    print(mt5.account_info()._asdict())\n",
        "    print(\"\\n\")\n",
        "    print(mt5.terminal_info()._asdict())\n",
        "    print(\"\\n\")\n",
        "    print(mt5.symbols_total())\n",
        "\n"
      ]
    },
    {
      "cell_type": "code",
      "execution_count": null,
      "metadata": {
        "id": "ep9xWhDh4VKU",
        "outputId": "31c79ec1-fd31-4335-d881-2db8f23fed61"
      },
      "outputs": [
        {
          "name": "stdout",
          "output_type": "stream",
          "text": [
            "200.0\n",
            "AI is successfully functional\n"
          ]
        }
      ],
      "source": [
        "account = mt5.account_info()\n",
        "terminal = mt5.terminal_info()\n",
        "\n",
        "print(account.equity)\n",
        "\n",
        "if(terminal.connected == True and terminal.trade_allowed == True):\n",
        "    print(\"AI is successfully functional\")\n",
        "else:\n",
        "    print(\"Please make sure metatrade 5 has internet and algo Trade is Turn On\")"
      ]
    },
    {
      "cell_type": "code",
      "execution_count": null,
      "metadata": {
        "id": "LEqpQHyh4VKU",
        "outputId": "c1be5336-539c-4560-9f60-f3f5e9ba9910"
      },
      "outputs": [
        {
          "name": "stdout",
          "output_type": "stream",
          "text": [
            "280\n",
            "yes  EURUSD\n",
            "yes  GBPUSD\n",
            "yes  USDJPY\n",
            "yes  AUDUSD\n",
            "yes  USDCAD\n"
          ]
        }
      ],
      "source": [
        "symbols = mt5.symbols_get()\n",
        "print(len(symbols))\n",
        "t_symbol = [\"GBPUSD\",\"EURUSD\",\"USDCAD\",\"USDJPY\",\"AUDUSD\"]\n",
        "for symbol in symbols:\n",
        "    for t_s in t_symbol:\n",
        "        if(symbol.name == t_s):\n",
        "            print(\"yes \",t_s)\n",
        "            break\n",
        "\n",
        ""
      ]
    },
    {
      "cell_type": "code",
      "execution_count": null,
      "metadata": {
        "id": "fAWrlqlX4VKV"
      },
      "outputs": [],
      "source": [
        "n = 0"
      ]
    },
    {
      "cell_type": "code",
      "execution_count": null,
      "metadata": {
        "id": "gIrl4Aa64VKV"
      },
      "outputs": [],
      "source": [
        "market = mt5.copy_rates_from_pos(t_symbol[n], mt5.TIMEFRAME_M30, 0, 99999)"
      ]
    },
    {
      "cell_type": "code",
      "execution_count": null,
      "metadata": {
        "id": "AMyZKKm94VKW",
        "outputId": "705ee253-4ce9-4194-cdda-d11432fac80c"
      },
      "outputs": [
        {
          "data": {
            "text/plain": [
              "array([(1503012600, 1.28688, 1.28692, 1.28629, 1.28644, 1504,  8, 0),\n",
              "       (1503014400, 1.28668, 1.28693, 1.28656, 1.2868 ,  183, 13, 0),\n",
              "       (1503016200, 1.28677, 1.28694, 1.28643, 1.28664, 2022, 24, 0), ...,\n",
              "       (1756506600, 1.35073, 1.35148, 1.35073, 1.35147, 1963, 13, 0),\n",
              "       (1756508400, 1.35148, 1.35164, 1.35101, 1.35124, 1228, 13, 0),\n",
              "       (1756510200, 1.35125, 1.35126, 1.34995, 1.35018, 2122, 13, 0)],\n",
              "      dtype=[('time', '<i8'), ('open', '<f8'), ('high', '<f8'), ('low', '<f8'), ('close', '<f8'), ('tick_volume', '<u8'), ('spread', '<i4'), ('real_volume', '<u8')])"
            ]
          },
          "execution_count": 27,
          "metadata": {},
          "output_type": "execute_result"
        }
      ],
      "source": [
        "market"
      ]
    },
    {
      "cell_type": "code",
      "execution_count": null,
      "metadata": {
        "id": "_dwSWH3M4VKW",
        "outputId": "74646f6f-1425-4150-d7e5-49d69b48894f"
      },
      "outputs": [
        {
          "data": {
            "text/plain": [
              "99999"
            ]
          },
          "execution_count": 28,
          "metadata": {},
          "output_type": "execute_result"
        }
      ],
      "source": [
        "len(market)"
      ]
    },
    {
      "cell_type": "code",
      "execution_count": null,
      "metadata": {
        "id": "cgAOsT3T4VKW"
      },
      "outputs": [],
      "source": [
        "data = []\n",
        "for i in range(len(market)):\n",
        "    data.append([market[i][1],market[i][2],market[i][3],market[i][4]])"
      ]
    },
    {
      "cell_type": "code",
      "execution_count": null,
      "metadata": {
        "id": "lqYLs3rv4VKX",
        "outputId": "fd44ae43-9eb5-449e-c518-3174370640ac"
      },
      "outputs": [
        {
          "data": {
            "text/html": [
              "<div>\n",
              "<style scoped>\n",
              "    .dataframe tbody tr th:only-of-type {\n",
              "        vertical-align: middle;\n",
              "    }\n",
              "\n",
              "    .dataframe tbody tr th {\n",
              "        vertical-align: top;\n",
              "    }\n",
              "\n",
              "    .dataframe thead th {\n",
              "        text-align: right;\n",
              "    }\n",
              "</style>\n",
              "<table border=\"1\" class=\"dataframe\">\n",
              "  <thead>\n",
              "    <tr style=\"text-align: right;\">\n",
              "      <th></th>\n",
              "      <th>open</th>\n",
              "      <th>high</th>\n",
              "      <th>low</th>\n",
              "      <th>close</th>\n",
              "    </tr>\n",
              "  </thead>\n",
              "  <tbody>\n",
              "    <tr>\n",
              "      <th>0</th>\n",
              "      <td>1.28688</td>\n",
              "      <td>1.28692</td>\n",
              "      <td>1.28629</td>\n",
              "      <td>1.28644</td>\n",
              "    </tr>\n",
              "    <tr>\n",
              "      <th>1</th>\n",
              "      <td>1.28668</td>\n",
              "      <td>1.28693</td>\n",
              "      <td>1.28656</td>\n",
              "      <td>1.28680</td>\n",
              "    </tr>\n",
              "    <tr>\n",
              "      <th>2</th>\n",
              "      <td>1.28677</td>\n",
              "      <td>1.28694</td>\n",
              "      <td>1.28643</td>\n",
              "      <td>1.28664</td>\n",
              "    </tr>\n",
              "    <tr>\n",
              "      <th>3</th>\n",
              "      <td>1.28667</td>\n",
              "      <td>1.28741</td>\n",
              "      <td>1.28647</td>\n",
              "      <td>1.28671</td>\n",
              "    </tr>\n",
              "    <tr>\n",
              "      <th>4</th>\n",
              "      <td>1.28672</td>\n",
              "      <td>1.28736</td>\n",
              "      <td>1.28669</td>\n",
              "      <td>1.28711</td>\n",
              "    </tr>\n",
              "    <tr>\n",
              "      <th>...</th>\n",
              "      <td>...</td>\n",
              "      <td>...</td>\n",
              "      <td>...</td>\n",
              "      <td>...</td>\n",
              "    </tr>\n",
              "    <tr>\n",
              "      <th>99994</th>\n",
              "      <td>1.35005</td>\n",
              "      <td>1.35105</td>\n",
              "      <td>1.35003</td>\n",
              "      <td>1.35095</td>\n",
              "    </tr>\n",
              "    <tr>\n",
              "      <th>99995</th>\n",
              "      <td>1.35093</td>\n",
              "      <td>1.35114</td>\n",
              "      <td>1.35050</td>\n",
              "      <td>1.35073</td>\n",
              "    </tr>\n",
              "    <tr>\n",
              "      <th>99996</th>\n",
              "      <td>1.35073</td>\n",
              "      <td>1.35148</td>\n",
              "      <td>1.35073</td>\n",
              "      <td>1.35147</td>\n",
              "    </tr>\n",
              "    <tr>\n",
              "      <th>99997</th>\n",
              "      <td>1.35148</td>\n",
              "      <td>1.35164</td>\n",
              "      <td>1.35101</td>\n",
              "      <td>1.35124</td>\n",
              "    </tr>\n",
              "    <tr>\n",
              "      <th>99998</th>\n",
              "      <td>1.35125</td>\n",
              "      <td>1.35126</td>\n",
              "      <td>1.34995</td>\n",
              "      <td>1.35018</td>\n",
              "    </tr>\n",
              "  </tbody>\n",
              "</table>\n",
              "<p>99999 rows × 4 columns</p>\n",
              "</div>"
            ],
            "text/plain": [
              "          open     high      low    close\n",
              "0      1.28688  1.28692  1.28629  1.28644\n",
              "1      1.28668  1.28693  1.28656  1.28680\n",
              "2      1.28677  1.28694  1.28643  1.28664\n",
              "3      1.28667  1.28741  1.28647  1.28671\n",
              "4      1.28672  1.28736  1.28669  1.28711\n",
              "...        ...      ...      ...      ...\n",
              "99994  1.35005  1.35105  1.35003  1.35095\n",
              "99995  1.35093  1.35114  1.35050  1.35073\n",
              "99996  1.35073  1.35148  1.35073  1.35147\n",
              "99997  1.35148  1.35164  1.35101  1.35124\n",
              "99998  1.35125  1.35126  1.34995  1.35018\n",
              "\n",
              "[99999 rows x 4 columns]"
            ]
          },
          "metadata": {},
          "output_type": "display_data"
        }
      ],
      "source": [
        "df = pd.DataFrame(data, columns=[\"open\", \"high\",\"low\", \"close\"])\n",
        "display(df)"
      ]
    },
    {
      "cell_type": "code",
      "execution_count": null,
      "metadata": {
        "id": "akg_hIFS4VKX"
      },
      "outputs": [],
      "source": [
        "df.to_csv(\"Generated\"+t_symbol[n]+\" dbot.csv\", index=False)"
      ]
    },
    {
      "cell_type": "code",
      "source": [
        "import numpy as np # linear algebra\n",
        "import pandas as pd # data processing, CSV file I/O (e.g. pd.read_csv)\n",
        "import tensorflow as tf\n"
      ],
      "metadata": {
        "id": "M8QyUXsy4op6"
      },
      "execution_count": 1,
      "outputs": []
    },
    {
      "cell_type": "code",
      "source": [
        "train_df = pd.read_csv(\"GeneratedGBPUSD dbot.csv\")\n",
        "display(train_df)"
      ],
      "metadata": {
        "colab": {
          "base_uri": "https://localhost:8080/",
          "height": 424
        },
        "id": "YMI_hgF-5ZC8",
        "outputId": "de44a161-984d-4332-f412-cf2c9c118a37"
      },
      "execution_count": 2,
      "outputs": [
        {
          "output_type": "display_data",
          "data": {
            "text/plain": [
              "          open     high      low    close\n",
              "0      1.28688  1.28692  1.28629  1.28644\n",
              "1      1.28668  1.28693  1.28656  1.28680\n",
              "2      1.28677  1.28694  1.28643  1.28664\n",
              "3      1.28667  1.28741  1.28647  1.28671\n",
              "4      1.28672  1.28736  1.28669  1.28711\n",
              "...        ...      ...      ...      ...\n",
              "99994  1.35005  1.35105  1.35003  1.35095\n",
              "99995  1.35093  1.35114  1.35050  1.35073\n",
              "99996  1.35073  1.35148  1.35073  1.35147\n",
              "99997  1.35148  1.35164  1.35101  1.35124\n",
              "99998  1.35125  1.35126  1.34995  1.35018\n",
              "\n",
              "[99999 rows x 4 columns]"
            ],
            "text/html": [
              "\n",
              "  <div id=\"df-1ce21dab-18ef-4ca8-a370-01949411659f\" class=\"colab-df-container\">\n",
              "    <div>\n",
              "<style scoped>\n",
              "    .dataframe tbody tr th:only-of-type {\n",
              "        vertical-align: middle;\n",
              "    }\n",
              "\n",
              "    .dataframe tbody tr th {\n",
              "        vertical-align: top;\n",
              "    }\n",
              "\n",
              "    .dataframe thead th {\n",
              "        text-align: right;\n",
              "    }\n",
              "</style>\n",
              "<table border=\"1\" class=\"dataframe\">\n",
              "  <thead>\n",
              "    <tr style=\"text-align: right;\">\n",
              "      <th></th>\n",
              "      <th>open</th>\n",
              "      <th>high</th>\n",
              "      <th>low</th>\n",
              "      <th>close</th>\n",
              "    </tr>\n",
              "  </thead>\n",
              "  <tbody>\n",
              "    <tr>\n",
              "      <th>0</th>\n",
              "      <td>1.28688</td>\n",
              "      <td>1.28692</td>\n",
              "      <td>1.28629</td>\n",
              "      <td>1.28644</td>\n",
              "    </tr>\n",
              "    <tr>\n",
              "      <th>1</th>\n",
              "      <td>1.28668</td>\n",
              "      <td>1.28693</td>\n",
              "      <td>1.28656</td>\n",
              "      <td>1.28680</td>\n",
              "    </tr>\n",
              "    <tr>\n",
              "      <th>2</th>\n",
              "      <td>1.28677</td>\n",
              "      <td>1.28694</td>\n",
              "      <td>1.28643</td>\n",
              "      <td>1.28664</td>\n",
              "    </tr>\n",
              "    <tr>\n",
              "      <th>3</th>\n",
              "      <td>1.28667</td>\n",
              "      <td>1.28741</td>\n",
              "      <td>1.28647</td>\n",
              "      <td>1.28671</td>\n",
              "    </tr>\n",
              "    <tr>\n",
              "      <th>4</th>\n",
              "      <td>1.28672</td>\n",
              "      <td>1.28736</td>\n",
              "      <td>1.28669</td>\n",
              "      <td>1.28711</td>\n",
              "    </tr>\n",
              "    <tr>\n",
              "      <th>...</th>\n",
              "      <td>...</td>\n",
              "      <td>...</td>\n",
              "      <td>...</td>\n",
              "      <td>...</td>\n",
              "    </tr>\n",
              "    <tr>\n",
              "      <th>99994</th>\n",
              "      <td>1.35005</td>\n",
              "      <td>1.35105</td>\n",
              "      <td>1.35003</td>\n",
              "      <td>1.35095</td>\n",
              "    </tr>\n",
              "    <tr>\n",
              "      <th>99995</th>\n",
              "      <td>1.35093</td>\n",
              "      <td>1.35114</td>\n",
              "      <td>1.35050</td>\n",
              "      <td>1.35073</td>\n",
              "    </tr>\n",
              "    <tr>\n",
              "      <th>99996</th>\n",
              "      <td>1.35073</td>\n",
              "      <td>1.35148</td>\n",
              "      <td>1.35073</td>\n",
              "      <td>1.35147</td>\n",
              "    </tr>\n",
              "    <tr>\n",
              "      <th>99997</th>\n",
              "      <td>1.35148</td>\n",
              "      <td>1.35164</td>\n",
              "      <td>1.35101</td>\n",
              "      <td>1.35124</td>\n",
              "    </tr>\n",
              "    <tr>\n",
              "      <th>99998</th>\n",
              "      <td>1.35125</td>\n",
              "      <td>1.35126</td>\n",
              "      <td>1.34995</td>\n",
              "      <td>1.35018</td>\n",
              "    </tr>\n",
              "  </tbody>\n",
              "</table>\n",
              "<p>99999 rows × 4 columns</p>\n",
              "</div>\n",
              "    <div class=\"colab-df-buttons\">\n",
              "\n",
              "  <div class=\"colab-df-container\">\n",
              "    <button class=\"colab-df-convert\" onclick=\"convertToInteractive('df-1ce21dab-18ef-4ca8-a370-01949411659f')\"\n",
              "            title=\"Convert this dataframe to an interactive table.\"\n",
              "            style=\"display:none;\">\n",
              "\n",
              "  <svg xmlns=\"http://www.w3.org/2000/svg\" height=\"24px\" viewBox=\"0 -960 960 960\">\n",
              "    <path d=\"M120-120v-720h720v720H120Zm60-500h600v-160H180v160Zm220 220h160v-160H400v160Zm0 220h160v-160H400v160ZM180-400h160v-160H180v160Zm440 0h160v-160H620v160ZM180-180h160v-160H180v160Zm440 0h160v-160H620v160Z\"/>\n",
              "  </svg>\n",
              "    </button>\n",
              "\n",
              "  <style>\n",
              "    .colab-df-container {\n",
              "      display:flex;\n",
              "      gap: 12px;\n",
              "    }\n",
              "\n",
              "    .colab-df-convert {\n",
              "      background-color: #E8F0FE;\n",
              "      border: none;\n",
              "      border-radius: 50%;\n",
              "      cursor: pointer;\n",
              "      display: none;\n",
              "      fill: #1967D2;\n",
              "      height: 32px;\n",
              "      padding: 0 0 0 0;\n",
              "      width: 32px;\n",
              "    }\n",
              "\n",
              "    .colab-df-convert:hover {\n",
              "      background-color: #E2EBFA;\n",
              "      box-shadow: 0px 1px 2px rgba(60, 64, 67, 0.3), 0px 1px 3px 1px rgba(60, 64, 67, 0.15);\n",
              "      fill: #174EA6;\n",
              "    }\n",
              "\n",
              "    .colab-df-buttons div {\n",
              "      margin-bottom: 4px;\n",
              "    }\n",
              "\n",
              "    [theme=dark] .colab-df-convert {\n",
              "      background-color: #3B4455;\n",
              "      fill: #D2E3FC;\n",
              "    }\n",
              "\n",
              "    [theme=dark] .colab-df-convert:hover {\n",
              "      background-color: #434B5C;\n",
              "      box-shadow: 0px 1px 3px 1px rgba(0, 0, 0, 0.15);\n",
              "      filter: drop-shadow(0px 1px 2px rgba(0, 0, 0, 0.3));\n",
              "      fill: #FFFFFF;\n",
              "    }\n",
              "  </style>\n",
              "\n",
              "    <script>\n",
              "      const buttonEl =\n",
              "        document.querySelector('#df-1ce21dab-18ef-4ca8-a370-01949411659f button.colab-df-convert');\n",
              "      buttonEl.style.display =\n",
              "        google.colab.kernel.accessAllowed ? 'block' : 'none';\n",
              "\n",
              "      async function convertToInteractive(key) {\n",
              "        const element = document.querySelector('#df-1ce21dab-18ef-4ca8-a370-01949411659f');\n",
              "        const dataTable =\n",
              "          await google.colab.kernel.invokeFunction('convertToInteractive',\n",
              "                                                    [key], {});\n",
              "        if (!dataTable) return;\n",
              "\n",
              "        const docLinkHtml = 'Like what you see? Visit the ' +\n",
              "          '<a target=\"_blank\" href=https://colab.research.google.com/notebooks/data_table.ipynb>data table notebook</a>'\n",
              "          + ' to learn more about interactive tables.';\n",
              "        element.innerHTML = '';\n",
              "        dataTable['output_type'] = 'display_data';\n",
              "        await google.colab.output.renderOutput(dataTable, element);\n",
              "        const docLink = document.createElement('div');\n",
              "        docLink.innerHTML = docLinkHtml;\n",
              "        element.appendChild(docLink);\n",
              "      }\n",
              "    </script>\n",
              "  </div>\n",
              "\n",
              "\n",
              "    <div id=\"df-1a82c18b-554d-4091-9588-23588f892c6b\">\n",
              "      <button class=\"colab-df-quickchart\" onclick=\"quickchart('df-1a82c18b-554d-4091-9588-23588f892c6b')\"\n",
              "                title=\"Suggest charts\"\n",
              "                style=\"display:none;\">\n",
              "\n",
              "<svg xmlns=\"http://www.w3.org/2000/svg\" height=\"24px\"viewBox=\"0 0 24 24\"\n",
              "     width=\"24px\">\n",
              "    <g>\n",
              "        <path d=\"M19 3H5c-1.1 0-2 .9-2 2v14c0 1.1.9 2 2 2h14c1.1 0 2-.9 2-2V5c0-1.1-.9-2-2-2zM9 17H7v-7h2v7zm4 0h-2V7h2v10zm4 0h-2v-4h2v4z\"/>\n",
              "    </g>\n",
              "</svg>\n",
              "      </button>\n",
              "\n",
              "<style>\n",
              "  .colab-df-quickchart {\n",
              "      --bg-color: #E8F0FE;\n",
              "      --fill-color: #1967D2;\n",
              "      --hover-bg-color: #E2EBFA;\n",
              "      --hover-fill-color: #174EA6;\n",
              "      --disabled-fill-color: #AAA;\n",
              "      --disabled-bg-color: #DDD;\n",
              "  }\n",
              "\n",
              "  [theme=dark] .colab-df-quickchart {\n",
              "      --bg-color: #3B4455;\n",
              "      --fill-color: #D2E3FC;\n",
              "      --hover-bg-color: #434B5C;\n",
              "      --hover-fill-color: #FFFFFF;\n",
              "      --disabled-bg-color: #3B4455;\n",
              "      --disabled-fill-color: #666;\n",
              "  }\n",
              "\n",
              "  .colab-df-quickchart {\n",
              "    background-color: var(--bg-color);\n",
              "    border: none;\n",
              "    border-radius: 50%;\n",
              "    cursor: pointer;\n",
              "    display: none;\n",
              "    fill: var(--fill-color);\n",
              "    height: 32px;\n",
              "    padding: 0;\n",
              "    width: 32px;\n",
              "  }\n",
              "\n",
              "  .colab-df-quickchart:hover {\n",
              "    background-color: var(--hover-bg-color);\n",
              "    box-shadow: 0 1px 2px rgba(60, 64, 67, 0.3), 0 1px 3px 1px rgba(60, 64, 67, 0.15);\n",
              "    fill: var(--button-hover-fill-color);\n",
              "  }\n",
              "\n",
              "  .colab-df-quickchart-complete:disabled,\n",
              "  .colab-df-quickchart-complete:disabled:hover {\n",
              "    background-color: var(--disabled-bg-color);\n",
              "    fill: var(--disabled-fill-color);\n",
              "    box-shadow: none;\n",
              "  }\n",
              "\n",
              "  .colab-df-spinner {\n",
              "    border: 2px solid var(--fill-color);\n",
              "    border-color: transparent;\n",
              "    border-bottom-color: var(--fill-color);\n",
              "    animation:\n",
              "      spin 1s steps(1) infinite;\n",
              "  }\n",
              "\n",
              "  @keyframes spin {\n",
              "    0% {\n",
              "      border-color: transparent;\n",
              "      border-bottom-color: var(--fill-color);\n",
              "      border-left-color: var(--fill-color);\n",
              "    }\n",
              "    20% {\n",
              "      border-color: transparent;\n",
              "      border-left-color: var(--fill-color);\n",
              "      border-top-color: var(--fill-color);\n",
              "    }\n",
              "    30% {\n",
              "      border-color: transparent;\n",
              "      border-left-color: var(--fill-color);\n",
              "      border-top-color: var(--fill-color);\n",
              "      border-right-color: var(--fill-color);\n",
              "    }\n",
              "    40% {\n",
              "      border-color: transparent;\n",
              "      border-right-color: var(--fill-color);\n",
              "      border-top-color: var(--fill-color);\n",
              "    }\n",
              "    60% {\n",
              "      border-color: transparent;\n",
              "      border-right-color: var(--fill-color);\n",
              "    }\n",
              "    80% {\n",
              "      border-color: transparent;\n",
              "      border-right-color: var(--fill-color);\n",
              "      border-bottom-color: var(--fill-color);\n",
              "    }\n",
              "    90% {\n",
              "      border-color: transparent;\n",
              "      border-bottom-color: var(--fill-color);\n",
              "    }\n",
              "  }\n",
              "</style>\n",
              "\n",
              "      <script>\n",
              "        async function quickchart(key) {\n",
              "          const quickchartButtonEl =\n",
              "            document.querySelector('#' + key + ' button');\n",
              "          quickchartButtonEl.disabled = true;  // To prevent multiple clicks.\n",
              "          quickchartButtonEl.classList.add('colab-df-spinner');\n",
              "          try {\n",
              "            const charts = await google.colab.kernel.invokeFunction(\n",
              "                'suggestCharts', [key], {});\n",
              "          } catch (error) {\n",
              "            console.error('Error during call to suggestCharts:', error);\n",
              "          }\n",
              "          quickchartButtonEl.classList.remove('colab-df-spinner');\n",
              "          quickchartButtonEl.classList.add('colab-df-quickchart-complete');\n",
              "        }\n",
              "        (() => {\n",
              "          let quickchartButtonEl =\n",
              "            document.querySelector('#df-1a82c18b-554d-4091-9588-23588f892c6b button');\n",
              "          quickchartButtonEl.style.display =\n",
              "            google.colab.kernel.accessAllowed ? 'block' : 'none';\n",
              "        })();\n",
              "      </script>\n",
              "    </div>\n",
              "\n",
              "  <div id=\"id_12c95ee2-9654-4b87-839a-ac81caa9aca4\">\n",
              "    <style>\n",
              "      .colab-df-generate {\n",
              "        background-color: #E8F0FE;\n",
              "        border: none;\n",
              "        border-radius: 50%;\n",
              "        cursor: pointer;\n",
              "        display: none;\n",
              "        fill: #1967D2;\n",
              "        height: 32px;\n",
              "        padding: 0 0 0 0;\n",
              "        width: 32px;\n",
              "      }\n",
              "\n",
              "      .colab-df-generate:hover {\n",
              "        background-color: #E2EBFA;\n",
              "        box-shadow: 0px 1px 2px rgba(60, 64, 67, 0.3), 0px 1px 3px 1px rgba(60, 64, 67, 0.15);\n",
              "        fill: #174EA6;\n",
              "      }\n",
              "\n",
              "      [theme=dark] .colab-df-generate {\n",
              "        background-color: #3B4455;\n",
              "        fill: #D2E3FC;\n",
              "      }\n",
              "\n",
              "      [theme=dark] .colab-df-generate:hover {\n",
              "        background-color: #434B5C;\n",
              "        box-shadow: 0px 1px 3px 1px rgba(0, 0, 0, 0.15);\n",
              "        filter: drop-shadow(0px 1px 2px rgba(0, 0, 0, 0.3));\n",
              "        fill: #FFFFFF;\n",
              "      }\n",
              "    </style>\n",
              "    <button class=\"colab-df-generate\" onclick=\"generateWithVariable('train_df')\"\n",
              "            title=\"Generate code using this dataframe.\"\n",
              "            style=\"display:none;\">\n",
              "\n",
              "  <svg xmlns=\"http://www.w3.org/2000/svg\" height=\"24px\"viewBox=\"0 0 24 24\"\n",
              "       width=\"24px\">\n",
              "    <path d=\"M7,19H8.4L18.45,9,17,7.55,7,17.6ZM5,21V16.75L18.45,3.32a2,2,0,0,1,2.83,0l1.4,1.43a1.91,1.91,0,0,1,.58,1.4,1.91,1.91,0,0,1-.58,1.4L9.25,21ZM18.45,9,17,7.55Zm-12,3A5.31,5.31,0,0,0,4.9,8.1,5.31,5.31,0,0,0,1,6.5,5.31,5.31,0,0,0,4.9,4.9,5.31,5.31,0,0,0,6.5,1,5.31,5.31,0,0,0,8.1,4.9,5.31,5.31,0,0,0,12,6.5,5.46,5.46,0,0,0,6.5,12Z\"/>\n",
              "  </svg>\n",
              "    </button>\n",
              "    <script>\n",
              "      (() => {\n",
              "      const buttonEl =\n",
              "        document.querySelector('#id_12c95ee2-9654-4b87-839a-ac81caa9aca4 button.colab-df-generate');\n",
              "      buttonEl.style.display =\n",
              "        google.colab.kernel.accessAllowed ? 'block' : 'none';\n",
              "\n",
              "      buttonEl.onclick = () => {\n",
              "        google.colab.notebook.generateWithVariable('train_df');\n",
              "      }\n",
              "      })();\n",
              "    </script>\n",
              "  </div>\n",
              "\n",
              "    </div>\n",
              "  </div>\n"
            ],
            "application/vnd.google.colaboratory.intrinsic+json": {
              "type": "dataframe",
              "variable_name": "train_df",
              "summary": "{\n  \"name\": \"train_df\",\n  \"rows\": 99999,\n  \"fields\": [\n    {\n      \"column\": \"open\",\n      \"properties\": {\n        \"dtype\": \"number\",\n        \"std\": 0.06058484342898948,\n        \"min\": 1.03959,\n        \"max\": 1.43742,\n        \"num_unique_values\": 24851,\n        \"samples\": [\n          1.31883,\n          1.18638,\n          1.35727\n        ],\n        \"semantic_type\": \"\",\n        \"description\": \"\"\n      }\n    },\n    {\n      \"column\": \"high\",\n      \"properties\": {\n        \"dtype\": \"number\",\n        \"std\": 0.06050771651817559,\n        \"min\": 1.05424,\n        \"max\": 1.43761,\n        \"num_unique_values\": 24800,\n        \"samples\": [\n          1.21129,\n          1.31088,\n          1.25709\n        ],\n        \"semantic_type\": \"\",\n        \"description\": \"\"\n      }\n    },\n    {\n      \"column\": \"low\",\n      \"properties\": {\n        \"dtype\": \"number\",\n        \"std\": 0.06065649646083252,\n        \"min\": 1.03514,\n        \"max\": 1.43648,\n        \"num_unique_values\": 24877,\n        \"samples\": [\n          1.38499,\n          1.27733,\n          1.28502\n        ],\n        \"semantic_type\": \"\",\n        \"description\": \"\"\n      }\n    },\n    {\n      \"column\": \"close\",\n      \"properties\": {\n        \"dtype\": \"number\",\n        \"std\": 0.06058462936297183,\n        \"min\": 1.03984,\n        \"max\": 1.43741,\n        \"num_unique_values\": 24859,\n        \"samples\": [\n          1.3386,\n          1.25258,\n          1.38987\n        ],\n        \"semantic_type\": \"\",\n        \"description\": \"\"\n      }\n    }\n  ]\n}"
            }
          },
          "metadata": {}
        }
      ]
    },
    {
      "cell_type": "code",
      "source": [
        "# -------------------------\n",
        "# User-adjustable settings\n",
        "# -------------------------\n",
        "SEQ_LEN = 48              # length of input sequence (timesteps). Typical choices: 30, 60, 90\n",
        "VAL_SIZE = 0.1           # fraction used as validation (small, for fine-tuning)\n",
        "MODEL_SAVE_PATH = 'lstm_multivar_best.h5'"
      ],
      "metadata": {
        "id": "5j_wkyXD5s_s"
      },
      "execution_count": 3,
      "outputs": []
    },
    {
      "cell_type": "code",
      "source": [
        "from sklearn.preprocessing import MinMaxScaler\n",
        "from sklearn.metrics import mean_squared_error, mean_absolute_error\n",
        "import math"
      ],
      "metadata": {
        "id": "nW0blS3d56TI"
      },
      "execution_count": 4,
      "outputs": []
    },
    {
      "cell_type": "code",
      "source": [
        "def create_sequences(data_scaled, seq_len):\n",
        "    \"\"\"\n",
        "    data_scaled: np.array shaped (n_rows, n_features)\n",
        "    returns X (n_samples, seq_len, n_features), y (n_samples, n_features)\n",
        "    where y is the row immediately following the window.\n",
        "    \"\"\"\n",
        "    X, y = [], []\n",
        "    n_rows = data_scaled.shape[0]\n",
        "    for i in range(n_rows - seq_len):\n",
        "        X.append(data_scaled[i:i+seq_len])\n",
        "        y.append(data_scaled[i+seq_len])\n",
        "    X = np.array(X)\n",
        "    y = np.array(y)\n",
        "    return X, y\n",
        "\n",
        "# 1) Convert to numpy and ensure numeric\n",
        "n_rows, n_features = train_df.values.shape\n",
        "\"\"\"\n",
        "# 2) Fit scaler on all feature columns (important to use same scaler for inverse transform)\n",
        "scaler = MinMaxScaler(feature_range=(0, 1))\n",
        "scaled_all = scaler.fit_transform(train_df.values)  # (n_rows, n_features)\n",
        "\"\"\"\n",
        "# 3) Build sequences\n",
        "X, y = create_sequences(train_df.values, SEQ_LEN)  # X: (n_samples, SEQ_LEN, n_features), y: (n_samples, n_features)\n",
        "\n",
        "n_samples = X.shape[0]\n"
      ],
      "metadata": {
        "id": "DuHea8-f5-CG"
      },
      "execution_count": 5,
      "outputs": []
    },
    {
      "cell_type": "code",
      "source": [
        "from sklearn.model_selection import train_test_split"
      ],
      "metadata": {
        "id": "mhn0x45M7ItX"
      },
      "execution_count": 6,
      "outputs": []
    },
    {
      "cell_type": "code",
      "source": [
        "X_train, X_test, y_train, y_test = train_test_split(X, y, test_size=0.25, random_state=None, shuffle=False)"
      ],
      "metadata": {
        "id": "fMWOjf9T7Lub"
      },
      "execution_count": 7,
      "outputs": []
    },
    {
      "cell_type": "code",
      "source": [
        "X_test, x_val, y_test,  y_val = train_test_split(X_test, y_test, test_size=0.45, random_state=None, shuffle=False)"
      ],
      "metadata": {
        "id": "jlP8fEXg8or1"
      },
      "execution_count": 8,
      "outputs": []
    },
    {
      "cell_type": "code",
      "source": [
        "print(X_train.shape)\n",
        "print(X_test.shape)\n",
        "print(y_train.shape)\n",
        "print(y_test.shape)\n",
        "print(x_val.shape)\n",
        "print(y_val.shape)"
      ],
      "metadata": {
        "colab": {
          "base_uri": "https://localhost:8080/"
        },
        "id": "kp-iXSn-7ZpW",
        "outputId": "6d1c3226-26aa-4dc2-dd87-367726e853f2"
      },
      "execution_count": 9,
      "outputs": [
        {
          "output_type": "stream",
          "name": "stdout",
          "text": [
            "(74963, 48, 4)\n",
            "(13743, 48, 4)\n",
            "(74963, 4)\n",
            "(13743, 4)\n",
            "(11245, 48, 4)\n",
            "(11245, 4)\n"
          ]
        }
      ]
    },
    {
      "cell_type": "code",
      "source": [
        "import concurrent.futures\n",
        "import os, json, math\n",
        "import numpy as np\n",
        "import tensorflow as tf\n",
        "from tensorflow.keras.callbacks import EarlyStopping, ReduceLROnPlateau, ModelCheckpoint\n",
        "from tensorflow.keras.models import Model\n",
        "from tensorflow.keras.layers import Input, LSTM, Dense, Dropout, Bidirectional, BatchNormalization, LayerNormalization"
      ],
      "metadata": {
        "id": "IMfmQvu1Acqx"
      },
      "execution_count": 10,
      "outputs": []
    },
    {
      "cell_type": "code",
      "source": [
        "# ------------------------\n",
        "# Settings\n",
        "# ------------------------\n",
        "RANDOM_STATE = 42\n",
        "tf.random.set_seed(RANDOM_STATE)\n",
        "np.random.seed(RANDOM_STATE)\n",
        "\n",
        "MODEL_SAVE_PATH = \"lstm_tuned_best.h5\"\n",
        "HP_SAVE_PATH = \"lstm_tuned_best_hparams.json\"\n",
        "MAX_EPOCHS = 100\n",
        "N_RANDOM_TRIALS = 15\n",
        "NO_IMPROVE_ROUNDS = 10\n",
        "\n",
        "ES_PATIENCE = 12\n",
        "RLR_PATIENCE = 6"
      ],
      "metadata": {
        "id": "E0nDgQutAhMR"
      },
      "execution_count": 11,
      "outputs": []
    },
    {
      "cell_type": "code",
      "source": [
        "\n",
        "# Assumed data already prepared\n",
        "try:\n",
        "    X_train, y_train, x_val, y_val\n",
        "except NameError:\n",
        "    raise RuntimeError(\"Please prepare X_train, y_train, X_val, y_val before running this tuner script.\")\n",
        "\n",
        "seq_len = X_train.shape[1]\n",
        "n_features = X_train.shape[2]\n",
        "output_dim = y_train.shape[1]\n",
        "assert output_dim == n_features, \"For multi-output forecasting, y must match X features.\""
      ],
      "metadata": {
        "id": "Uq_kXDTkAqyx"
      },
      "execution_count": 12,
      "outputs": []
    },
    {
      "cell_type": "code",
      "source": [
        "\n",
        "# ------------------------\n",
        "# Model Builder\n",
        "# ------------------------\n",
        "def build_model_from_cfg(cfg):\n",
        "    i = Input(shape=(seq_len, n_features))\n",
        "    x = i\n",
        "    for li in range(cfg[\"num_lstm_layers\"]):\n",
        "        units = cfg[\"units_per_layer\"][li]\n",
        "        return_sequences = (li < cfg[\"num_lstm_layers\"] - 1)\n",
        "        if cfg[\"bidirectional\"]:\n",
        "            lstm_layer = Bidirectional(\n",
        "                LSTM(units, return_sequences=return_sequences,\n",
        "                     recurrent_dropout=cfg[\"recurrent_dropout\"])\n",
        "            )\n",
        "        else:\n",
        "            lstm_layer = LSTM(units, return_sequences=return_sequences,\n",
        "                              recurrent_dropout=cfg[\"recurrent_dropout\"])\n",
        "        x = lstm_layer(x)\n",
        "        if cfg[\"normalization\"] == \"batch\":\n",
        "            x = BatchNormalization()(x)\n",
        "        elif cfg[\"normalization\"] == \"layer\":\n",
        "            x = LayerNormalization()(x)\n",
        "        if cfg[\"dropout\"] > 0:\n",
        "            x = Dropout(cfg[\"dropout\"])(x)\n",
        "\n",
        "    if cfg[\"dense_head\"] > 0:\n",
        "        x = Dense(cfg[\"dense_head\"], activation=\"relu\")(x)\n",
        "        if cfg[\"dropout_head\"] > 0:\n",
        "            x = Dropout(cfg[\"dropout_head\"])(x)\n",
        "\n",
        "    out = Dense(output_dim)(x)\n",
        "    model = Model(i, out)\n",
        "    opt = tf.keras.optimizers.Adam(learning_rate=cfg[\"lr\"])\n",
        "    model.compile(optimizer=opt, loss=\"mse\", metrics=[\"mae\"])\n",
        "    return model\n",
        "\n",
        "\n",
        "# ------------------------\n",
        "# Config Sampler\n",
        "# ------------------------\n",
        "def sample_config(rng):\n",
        "    num_lstm_layers = rng.randint(1, 5)\n",
        "    candidate_units = [64, 96, 128, 160, 192, 256, 320, 384, 512]\n",
        "    first_units = rng.choice(candidate_units)\n",
        "    units_per_layer = [first_units]\n",
        "    for _ in range(1, num_lstm_layers):\n",
        "        allowed = [u for u in candidate_units if u <= units_per_layer[-1]]\n",
        "        units_per_layer.append(rng.choice(allowed))\n",
        "\n",
        "    return {\n",
        "        \"num_lstm_layers\": num_lstm_layers,\n",
        "        \"units_per_layer\": units_per_layer,\n",
        "        \"bidirectional\": bool(rng.randint(0, 2)),\n",
        "        \"dropout\": float(rng.uniform(0.1, 0.5)),\n",
        "        \"recurrent_dropout\": float(rng.uniform(0.0, 0.3)),\n",
        "        \"normalization\": rng.choice([\"none\", \"batch\", \"layer\"]),\n",
        "        \"dense_head\": int(rng.choice([0, 64, 96, 128, 160, 192, 256])),\n",
        "        \"dropout_head\": float(rng.uniform(0.0, 0.5)),\n",
        "        \"lr\": float(rng.choice([1e-4, 3e-4, 5e-4, 1e-3])),\n",
        "        \"batch_size\": int(rng.choice([8, 16, 32, 48, 64])),\n",
        "        \"epochs\": int(rng.choice([60, 80, 100, 120]))\n",
        "    }\n",
        "\n",
        "\n",
        "# ------------------------\n",
        "# Worker: train a config\n",
        "# ------------------------\n",
        "def train_one_config(cfg, trial_id):\n",
        "    model = build_model_from_cfg(cfg)\n",
        "    es = EarlyStopping(monitor='val_loss', patience=ES_PATIENCE, restore_best_weights=True, verbose=2)\n",
        "    rlr = ReduceLROnPlateau(monitor='val_loss', factor=0.5, patience=RLR_PATIENCE, min_lr=1e-6, verbose=2)\n",
        "    mc_path = f\"trial_{trial_id}_best.h5\"\n",
        "\n",
        "    mc = ModelCheckpoint(mc_path, monitor='val_loss', save_best_only=True, verbose=2)\n",
        "\n",
        "    hist = model.fit(\n",
        "        X_train, y_train,\n",
        "        validation_data=(x_val, y_val),\n",
        "        epochs=min(cfg[\"epochs\"], MAX_EPOCHS),\n",
        "        batch_size=cfg[\"batch_size\"],\n",
        "        callbacks=[es, rlr, mc],\n",
        "        verbose=2\n",
        "    )\n",
        "\n",
        "    best_vloss = float(np.min(hist.history[\"val_loss\"]))\n",
        "    return best_vloss, cfg, mc_path\n",
        "\n",
        "\n"
      ],
      "metadata": {
        "id": "tDPqlRni_5Qa"
      },
      "execution_count": 13,
      "outputs": []
    },
    {
      "cell_type": "code",
      "source": [
        "rng = np.random.RandomState(RANDOM_STATE)\n",
        "configs = [sample_config(rng) for _ in range(N_RANDOM_TRIALS)]\n",
        "\n",
        "best_vloss = math.inf\n",
        "best_cfg = None\n",
        "best_model_path = None\n",
        "\n",
        "with concurrent.futures.ProcessPoolExecutor(max_workers=os.cpu_count()//2) as executor:\n",
        "    futures = {executor.submit(train_one_config, cfg, i): i for i, cfg in enumerate(configs, 1)}\n",
        "    for future in concurrent.futures.as_completed(futures):\n",
        "        trial_id = futures[future]\n",
        "        try:\n",
        "            vloss, cfg, mc_path = future.result()\n",
        "            print(f\"[Trial {trial_id}] val_loss={vloss:.6f} cfg={cfg}\")\n",
        "            if vloss < best_vloss:\n",
        "                best_vloss = vloss\n",
        "                best_cfg = cfg\n",
        "                best_model_path = mc_path\n",
        "        except Exception as e:\n",
        "            print(f\"[Trial {trial_id}] failed with {e}\")\n",
        "\n",
        "if best_model_path and os.path.exists(best_model_path):\n",
        "    os.replace(best_model_path, MODEL_SAVE_PATH)\n",
        "\n",
        "with open(HP_SAVE_PATH, \"w\") as f:\n",
        "    json.dump(best_cfg, f, indent=2)\n",
        "\n",
        "print(f\"\\n✅ Best val_loss: {best_vloss:.6f}\")\n",
        "print(f\"✅ Best model saved to: {MODEL_SAVE_PATH}\")\n",
        "print(f\"✅ Best hyperparameters saved to: {HP_SAVE_PATH}\")\n"
      ],
      "metadata": {
        "id": "jbbu472rA1AG",
        "outputId": "5720c237-ca90-47e8-9d36-bccdc282574c",
        "colab": {
          "base_uri": "https://localhost:8080/"
        }
      },
      "execution_count": null,
      "outputs": [
        {
          "output_type": "stream",
          "name": "stdout",
          "text": [
            "[Trial 1] failed with Exception encountered when calling LSTM.call().\n",
            "\n",
            "\u001b[1moutput_size must be an integer.\u001b[0m\n",
            "\n",
            "Arguments received by LSTM.call():\n",
            "  • args=('<KerasTensor shape=(None, 48, 4), dtype=float32, sparse=False, ragged=False, name=keras_tensor>',)\n",
            "  • kwargs={'training': 'False', 'mask': 'None'}\n",
            "Epoch 1/60\n"
          ]
        }
      ]
    }
  ],
  "metadata": {
    "kernelspec": {
      "display_name": "Python 3",
      "name": "python3"
    },
    "language_info": {
      "codemirror_mode": {
        "name": "ipython",
        "version": 3
      },
      "file_extension": ".py",
      "mimetype": "text/x-python",
      "name": "python",
      "nbconvert_exporter": "python",
      "pygments_lexer": "ipython3",
      "version": "3.10.13"
    },
    "colab": {
      "provenance": [],
      "gpuType": "T4"
    },
    "accelerator": "GPU"
  },
  "nbformat": 4,
  "nbformat_minor": 0
}