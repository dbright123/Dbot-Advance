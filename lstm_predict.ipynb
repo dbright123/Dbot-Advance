{
  "cells": [
    {
      "cell_type": "markdown",
      "metadata": {
        "id": "view-in-github",
        "colab_type": "text"
      },
      "source": [
        "<a href=\"https://colab.research.google.com/github/dbright123/Dbot-Advance/blob/main/lstm_predict.ipynb\" target=\"_parent\"><img src=\"https://colab.research.google.com/assets/colab-badge.svg\" alt=\"Open In Colab\"/></a>"
      ]
    },
    {
      "cell_type": "code",
      "execution_count": null,
      "metadata": {
        "id": "Z1oCaggK4VKR"
      },
      "outputs": [],
      "source": [
        "import MetaTrader5 as mt5\n",
        "import numpy as np\n",
        "import pandas as pd\n",
        "\n",
        "\n",
        "\n"
      ]
    },
    {
      "cell_type": "code",
      "execution_count": null,
      "metadata": {
        "id": "btJoWVAx4VKS",
        "outputId": "077d53d7-b8ac-4d3c-9251-3f449e68e0f3"
      },
      "outputs": [
        {
          "name": "stdout",
          "output_type": "stream",
          "text": [
            "MetaTrader5 package author:  MetaQuotes Ltd.\n",
            "MetaTrader5 package version:  5.0.5200\n",
            "True\n",
            "{'login': 63134054, 'trade_mode': 2, 'leverage': 100, 'limit_orders': 500, 'margin_so_mode': 0, 'trade_allowed': True, 'trade_expert': True, 'margin_mode': 2, 'currency_digits': 2, 'fifo_close': False, 'balance': 56.54, 'credit': 13.06, 'profit': 0.0, 'equity': 69.6, 'margin': 0.0, 'margin_free': 69.6, 'margin_level': 0.0, 'margin_so_call': 25.0, 'margin_so_so': 15.0, 'margin_initial': 0.0, 'margin_maintenance': 0.0, 'assets': 0.0, 'liabilities': 0.0, 'commission_blocked': 0.0, 'name': 'Bright Idowu ', 'server': 'OctaFX-Real', 'currency': 'USD', 'company': 'Octa Markets Incorporated'}\n",
            "\n",
            "\n",
            "{'community_account': False, 'community_connection': False, 'connected': True, 'dlls_allowed': False, 'trade_allowed': True, 'tradeapi_disabled': False, 'email_enabled': False, 'ftp_enabled': False, 'notifications_enabled': False, 'mqid': True, 'build': 5370, 'maxbars': 100000000, 'codepage': 0, 'ping_last': 160086, 'community_balance': 0.0, 'retransmission': 2.734702047378007, 'company': 'MetaQuotes Ltd.', 'name': 'MetaTrader 5', 'language': 'English', 'path': 'C:\\\\Program Files\\\\MetaTrader 5', 'data_path': 'C:\\\\Users\\\\dbright\\\\AppData\\\\Roaming\\\\MetaQuotes\\\\Terminal\\\\D0E8209F77C8CF37AD8BF550E51FF075', 'commondata_path': 'C:\\\\Users\\\\dbright\\\\AppData\\\\Roaming\\\\MetaQuotes\\\\Terminal\\\\Common'}\n",
            "\n",
            "\n",
            "279\n"
          ]
        }
      ],
      "source": [
        "print(\"MetaTrader5 package author: \",mt5.__author__)\n",
        "print(\"MetaTrader5 package version: \",mt5.__version__)\n",
        "\n",
        "trade_active = mt5.initialize()\n",
        "\n",
        "print(trade_active)\n",
        "\n",
        "if not trade_active:\n",
        "    print('Initialization failed, check internet connection. You must have Meta Trader 5 installed.')\n",
        "    mt5.shutdown()\n",
        "\n",
        "else:\n",
        "    print(mt5.account_info()._asdict())\n",
        "    print(\"\\n\")\n",
        "    print(mt5.terminal_info()._asdict())\n",
        "    print(\"\\n\")\n",
        "    print(mt5.symbols_total())"
      ]
    },
    {
      "cell_type": "code",
      "execution_count": null,
      "metadata": {
        "id": "ep9xWhDh4VKU",
        "outputId": "31c79ec1-fd31-4335-d881-2db8f23fed61"
      },
      "outputs": [
        {
          "name": "stdout",
          "output_type": "stream",
          "text": [
            "69.6\n",
            "AI is successfully functional\n"
          ]
        }
      ],
      "source": [
        "account = mt5.account_info()\n",
        "terminal = mt5.terminal_info()\n",
        "\n",
        "print(account.equity)\n",
        "\n",
        "if(terminal.connected == True or terminal.trade_allowed == True):\n",
        "    print(\"AI is successfully functional\")\n",
        "else:\n",
        "    print(\"Please make sure metatrade 5 has internet and algo Trade is Turn On\")"
      ]
    },
    {
      "cell_type": "code",
      "execution_count": null,
      "metadata": {
        "id": "Cm6_C7cwJaFl",
        "outputId": "14ed083f-33ea-49ce-81da-0259753f3a03"
      },
      "outputs": [
        {
          "name": "stdout",
          "output_type": "stream",
          "text": [
            "279\n",
            "Yes  EURUSD\n",
            "Yes  GBPUSD\n",
            "Yes  USDJPY\n",
            "Yes  USDCHF\n",
            "Yes  AUDUSD\n",
            "Yes  NZDUSD\n",
            "Yes  USDCAD\n",
            "Yes  USDMXN\n",
            "Yes  USDZAR\n",
            "Yes  XAGUSD\n",
            "Yes  XAUUSD\n",
            "Yes  XBRUSD\n",
            "Yes  XTIUSD\n",
            "Yes  XNGUSD\n",
            "Yes  AUS200\n",
            "Yes  EUSTX50\n",
            "Yes  US30\n",
            "Yes  BTCUSD\n",
            "Yes  ETHUSD\n",
            "Yes  LTCUSD\n",
            "Yes  XRPUSD\n",
            "Yes  BCHUSD\n",
            "Yes  AAVEUSD\n",
            "Yes  ADAUSD\n",
            "Yes  ALGOUSD\n",
            "Yes  ATOMUSD\n",
            "Yes  AVAXUSD\n",
            "Yes  AXSUSD\n",
            "Yes  BNBUSD\n",
            "Yes  DASHUSD\n",
            "Yes  DOGEUSD\n",
            "Yes  DOTUSD\n",
            "Yes  FILUSD\n",
            "Yes  GRTUSD\n",
            "Yes  ICPUSD\n",
            "Yes  IOTAUSD\n",
            "Yes  LINKUSD\n",
            "Yes  LRCUSD\n",
            "Yes  MANAUSD\n",
            "Yes  NEARUSD\n",
            "Yes  SOLUSD\n",
            "Yes  UNIUSD\n",
            "Yes  ZECUSD\n",
            "Yes  ETCUSD\n",
            "Yes  TRXUSD\n",
            "Yes  FETUSD\n",
            "Yes  ARBUSD\n",
            "Yes  APTUSD\n",
            "Yes  SUIUSD\n",
            "Yes  TMUS.NAS\n",
            "Yes  USDCNH\n",
            "Yes  USDCZK\n",
            "Yes  USDDKK\n",
            "Yes  USDHKD\n",
            "Yes  USDHUF\n",
            "Yes  USDNOK\n",
            "Yes  USDPLN\n",
            "Yes  USDSEK\n",
            "Yes  USDSGD\n",
            "Yes  USDTRY\n",
            "Yes  US30.Daily\n",
            "Yes  XBRUSD.Daily\n",
            "Yes  XTIUSD.Daily\n",
            "Yes  BTCUSD.Daily\n",
            "Yes  ETHUSD.Daily\n",
            "Yes  XRPUSD.Daily\n",
            "Yes  LTCUSD.Daily\n",
            "Yes  BCHUSD.Daily\n",
            "Yes  LINKUSD.Daily\n",
            "Yes  SOLUSD.Daily\n",
            "70\n"
          ]
        }
      ],
      "source": [
        "symbols = mt5.symbols_get()\n",
        "print(len(symbols))\n",
        "t_symbol = []\n",
        "for symbol in symbols:\n",
        "    if \"US\" in symbol.name:\n",
        "        print(\"Yes \", symbol.name)\n",
        "        t_symbol.append(symbol.name)\n",
        "\n",
        "print(len(t_symbol))"
      ]
    },
    {
      "cell_type": "code",
      "execution_count": null,
      "metadata": {
        "id": "S9rw9k_WbKfm",
        "outputId": "eb70bbd8-c5f8-4f29-94b8-4697f9acd144"
      },
      "outputs": [
        {
          "name": "stdout",
          "output_type": "stream",
          "text": [
            "[( 737164800, 1.537  , 1.5445 , 1.529  , 1.5338 , 2781, 50, 0)\n",
            " ( 737251200, 1.5328 , 1.536  , 1.518  , 1.5225 , 2571, 50, 0)\n",
            " ( 737337600, 1.5228 , 1.5415 , 1.52   , 1.5387 , 2711, 50, 0) ...\n",
            " (1760971800, 1.34032, 1.34067, 1.34032, 1.34055,  262, 14, 0)\n",
            " (1760972100, 1.34059, 1.34111, 1.34054, 1.34111,  424, 14, 0)\n",
            " (1760972400, 1.34113, 1.34136, 1.34091, 1.34116,  561, 14, 0)]\n",
            "GBPUSD\n"
          ]
        }
      ],
      "source": [
        "t_s = \"GBPUSD\"\n",
        "market = mt5.copy_rates_from_pos(t_s, mt5.TIMEFRAME_M5, 0, 10000000)\n",
        "#display(market)\n",
        "print(market)\n",
        "\n",
        "print(t_s)\n",
        "\n",
        "\n"
      ]
    },
    {
      "cell_type": "code",
      "execution_count": null,
      "metadata": {
        "id": "S0FLlKcMh-mJ",
        "outputId": "88baf341-a149-4ca8-d777-0f34a72f1785"
      },
      "outputs": [
        {
          "data": {
            "text/plain": [
              "array([( 737164800, 1.537  , 1.5445 , 1.529  , 1.5338 , 2781, 50, 0),\n",
              "       ( 737251200, 1.5328 , 1.536  , 1.518  , 1.5225 , 2571, 50, 0),\n",
              "       ( 737337600, 1.5228 , 1.5415 , 1.52   , 1.5387 , 2711, 50, 0), ...,\n",
              "       (1760971800, 1.34032, 1.34067, 1.34032, 1.34055,  262, 14, 0),\n",
              "       (1760972100, 1.34059, 1.34111, 1.34054, 1.34111,  424, 14, 0),\n",
              "       (1760972400, 1.34113, 1.34136, 1.34091, 1.34116,  561, 14, 0)],\n",
              "      dtype=[('time', '<i8'), ('open', '<f8'), ('high', '<f8'), ('low', '<f8'), ('close', '<f8'), ('tick_volume', '<u8'), ('spread', '<i4'), ('real_volume', '<u8')])"
            ]
          },
          "execution_count": 6,
          "metadata": {},
          "output_type": "execute_result"
        }
      ],
      "source": [
        "market"
      ]
    },
    {
      "cell_type": "code",
      "execution_count": null,
      "metadata": {
        "id": "EzfEfHeTzI4A"
      },
      "outputs": [],
      "source": [
        "data = []\n",
        "for i in range(len(market)):\n",
        "    data.append([market[i][1],market[i][2],market[i][3],market[i][4],market[i][5],market[i][6]])\n",
        "df = pd.DataFrame(data, columns=[\"open\", \"high\",\"low\", \"close\", \"volume\",\"spread\"])\n",
        "df.to_csv(\"Generated\"+t_s+\" dbot.csv\", index=False)"
      ]
    },
    {
      "cell_type": "code",
      "execution_count": 1,
      "metadata": {
        "colab": {
          "base_uri": "https://localhost:8080/"
        },
        "id": "M8QyUXsy4op6",
        "outputId": "1967ebd8-7b2b-4f88-e599-9d3420f607e7"
      },
      "outputs": [
        {
          "output_type": "stream",
          "name": "stdout",
          "text": [
            "2.19.0\n"
          ]
        }
      ],
      "source": [
        "import numpy as np # linear algebra\n",
        "import pandas as pd # data processing, CSV file I/O (e.g. pd.read_csv)\n",
        "import tensorflow as tf\n",
        "print(tf.__version__)\n"
      ]
    },
    {
      "cell_type": "code",
      "execution_count": 2,
      "metadata": {
        "id": "PqACycZPJaFn"
      },
      "outputs": [],
      "source": [
        "from sklearn.preprocessing import MinMaxScaler, StandardScaler\n",
        "from sklearn.metrics import mean_squared_error, mean_absolute_error\n",
        "import joblib\n",
        "import os\n",
        "from sklearn.model_selection import train_test_split\n",
        "import numpy as np\n",
        "from sklearn.preprocessing import MinMaxScaler\n",
        "from scaler3d2d import preprocess_and_save_scalers,transform_data, inverse_transform_data,create_sequences\n",
        "\n"
      ]
    },
    {
      "cell_type": "code",
      "execution_count": 3,
      "metadata": {
        "id": "tpswK5-7JaFo"
      },
      "outputs": [],
      "source": [
        "from tensorflow.keras.optimizers import SGD,Adam\n",
        "import matplotlib.pyplot as plt\n",
        "\n",
        "\n",
        "\n",
        "from tensorflow.keras import Model\n",
        "from tensorflow.keras.layers import Input, LSTM, Dense, Dropout, BatchNormalization, LayerNormalization, Bidirectional\n",
        "from tensorflow.keras.callbacks import EarlyStopping, ReduceLROnPlateau, ModelCheckpoint\n",
        "\n",
        "from sklearn.metrics import r2_score\n",
        "from tensorflow.keras.models import load_model\n",
        "import keras"
      ]
    },
    {
      "cell_type": "code",
      "execution_count": 4,
      "metadata": {
        "id": "UC2tpiHOpgVu"
      },
      "outputs": [],
      "source": [
        "t_symbol = [\"GBPUSD\"]"
      ]
    },
    {
      "cell_type": "code",
      "execution_count": 5,
      "metadata": {
        "id": "NWXhyS91bKfn"
      },
      "outputs": [],
      "source": [
        "\n",
        "\n",
        "def engineer_features_5min_btc(df):\n",
        "    \"\"\"\n",
        "    Input: df with columns ['timestamp', 'open', 'high', 'low', 'close', 'volume']\n",
        "    Output: df with 68 features\n",
        "    \"\"\"\n",
        "\n",
        "    # GROUP 1: Core Price Features\n",
        "    df['typical_price'] = (df['high'] + df['low'] + df['close']) / 3\n",
        "    df['weighted_close'] = (df['high'] + df['low'] + 2*df['close']) / 4\n",
        "    df['hl_range'] = df['high'] - df['low']\n",
        "    df['body_size'] = abs(df['close'] - df['open'])\n",
        "    df['upper_wick'] = df['high'] - df[['open', 'close']].max(axis=1)\n",
        "    df['lower_wick'] = df[['open', 'close']].min(axis=1) - df['low']\n",
        "\n",
        "    return df\n",
        "\n",
        "# Usage:\n",
        "# df = pd.read_csv('btcusd_5min.csv')\n",
        "# df = engineer_features_5min_btc(df)"
      ]
    },
    {
      "cell_type": "code",
      "execution_count": 6,
      "metadata": {
        "id": "p5vJpq3AbKfo"
      },
      "outputs": [],
      "source": [
        "n = 0\n",
        "m_label = \"Generated\"+t_symbol[n]\n",
        "train_df = pd.read_csv(m_label+ \" dbot.csv\")\n",
        "train_df = engineer_features_5min_btc(train_df)"
      ]
    },
    {
      "cell_type": "code",
      "execution_count": 7,
      "metadata": {
        "id": "IW84qQV4bKfo",
        "outputId": "6277d0bc-f7aa-4370-b988-40af7ab9341b",
        "colab": {
          "base_uri": "https://localhost:8080/",
          "height": 444
        }
      },
      "outputs": [
        {
          "output_type": "display_data",
          "data": {
            "text/plain": [
              "            open     high      low    close  volume  spread  typical_price  \\\n",
              "0        1.53700  1.54450  1.52900  1.53380    2781      50       1.535767   \n",
              "1        1.53280  1.53600  1.51800  1.52250    2571      50       1.525500   \n",
              "2        1.52280  1.54150  1.52000  1.53870    2711      50       1.533400   \n",
              "3        1.53650  1.54600  1.53090  1.53550    2921      50       1.537467   \n",
              "4        1.53500  1.53800  1.52370  1.53650    2711      50       1.532733   \n",
              "...          ...      ...      ...      ...     ...     ...            ...   \n",
              "1980013  1.34053  1.34054  1.34016  1.34021     433      14       1.340303   \n",
              "1980014  1.34019  1.34050  1.34014  1.34032     259      14       1.340320   \n",
              "1980015  1.34032  1.34067  1.34032  1.34055     262      14       1.340513   \n",
              "1980016  1.34059  1.34111  1.34054  1.34111     424      14       1.340920   \n",
              "1980017  1.34113  1.34136  1.34091  1.34116     561      14       1.341143   \n",
              "\n",
              "         weighted_close  hl_range  body_size  upper_wick  lower_wick  \n",
              "0              1.535275   0.01550    0.00320     0.00750     0.00480  \n",
              "1              1.524750   0.01800    0.01030     0.00320     0.00450  \n",
              "2              1.534725   0.02150    0.01590     0.00280     0.00280  \n",
              "3              1.536975   0.01510    0.00100     0.00950     0.00460  \n",
              "4              1.533675   0.01430    0.00150     0.00150     0.01130  \n",
              "...                 ...       ...        ...         ...         ...  \n",
              "1980013        1.340280   0.00038    0.00032     0.00001     0.00005  \n",
              "1980014        1.340320   0.00036    0.00013     0.00018     0.00005  \n",
              "1980015        1.340523   0.00035    0.00023     0.00012     0.00000  \n",
              "1980016        1.340968   0.00057    0.00052     0.00000     0.00005  \n",
              "1980017        1.341147   0.00045    0.00003     0.00020     0.00022  \n",
              "\n",
              "[1980018 rows x 12 columns]"
            ],
            "text/html": [
              "\n",
              "  <div id=\"df-bb4a3636-3359-4783-861d-fa26a0306c00\" class=\"colab-df-container\">\n",
              "    <div>\n",
              "<style scoped>\n",
              "    .dataframe tbody tr th:only-of-type {\n",
              "        vertical-align: middle;\n",
              "    }\n",
              "\n",
              "    .dataframe tbody tr th {\n",
              "        vertical-align: top;\n",
              "    }\n",
              "\n",
              "    .dataframe thead th {\n",
              "        text-align: right;\n",
              "    }\n",
              "</style>\n",
              "<table border=\"1\" class=\"dataframe\">\n",
              "  <thead>\n",
              "    <tr style=\"text-align: right;\">\n",
              "      <th></th>\n",
              "      <th>open</th>\n",
              "      <th>high</th>\n",
              "      <th>low</th>\n",
              "      <th>close</th>\n",
              "      <th>volume</th>\n",
              "      <th>spread</th>\n",
              "      <th>typical_price</th>\n",
              "      <th>weighted_close</th>\n",
              "      <th>hl_range</th>\n",
              "      <th>body_size</th>\n",
              "      <th>upper_wick</th>\n",
              "      <th>lower_wick</th>\n",
              "    </tr>\n",
              "  </thead>\n",
              "  <tbody>\n",
              "    <tr>\n",
              "      <th>0</th>\n",
              "      <td>1.53700</td>\n",
              "      <td>1.54450</td>\n",
              "      <td>1.52900</td>\n",
              "      <td>1.53380</td>\n",
              "      <td>2781</td>\n",
              "      <td>50</td>\n",
              "      <td>1.535767</td>\n",
              "      <td>1.535275</td>\n",
              "      <td>0.01550</td>\n",
              "      <td>0.00320</td>\n",
              "      <td>0.00750</td>\n",
              "      <td>0.00480</td>\n",
              "    </tr>\n",
              "    <tr>\n",
              "      <th>1</th>\n",
              "      <td>1.53280</td>\n",
              "      <td>1.53600</td>\n",
              "      <td>1.51800</td>\n",
              "      <td>1.52250</td>\n",
              "      <td>2571</td>\n",
              "      <td>50</td>\n",
              "      <td>1.525500</td>\n",
              "      <td>1.524750</td>\n",
              "      <td>0.01800</td>\n",
              "      <td>0.01030</td>\n",
              "      <td>0.00320</td>\n",
              "      <td>0.00450</td>\n",
              "    </tr>\n",
              "    <tr>\n",
              "      <th>2</th>\n",
              "      <td>1.52280</td>\n",
              "      <td>1.54150</td>\n",
              "      <td>1.52000</td>\n",
              "      <td>1.53870</td>\n",
              "      <td>2711</td>\n",
              "      <td>50</td>\n",
              "      <td>1.533400</td>\n",
              "      <td>1.534725</td>\n",
              "      <td>0.02150</td>\n",
              "      <td>0.01590</td>\n",
              "      <td>0.00280</td>\n",
              "      <td>0.00280</td>\n",
              "    </tr>\n",
              "    <tr>\n",
              "      <th>3</th>\n",
              "      <td>1.53650</td>\n",
              "      <td>1.54600</td>\n",
              "      <td>1.53090</td>\n",
              "      <td>1.53550</td>\n",
              "      <td>2921</td>\n",
              "      <td>50</td>\n",
              "      <td>1.537467</td>\n",
              "      <td>1.536975</td>\n",
              "      <td>0.01510</td>\n",
              "      <td>0.00100</td>\n",
              "      <td>0.00950</td>\n",
              "      <td>0.00460</td>\n",
              "    </tr>\n",
              "    <tr>\n",
              "      <th>4</th>\n",
              "      <td>1.53500</td>\n",
              "      <td>1.53800</td>\n",
              "      <td>1.52370</td>\n",
              "      <td>1.53650</td>\n",
              "      <td>2711</td>\n",
              "      <td>50</td>\n",
              "      <td>1.532733</td>\n",
              "      <td>1.533675</td>\n",
              "      <td>0.01430</td>\n",
              "      <td>0.00150</td>\n",
              "      <td>0.00150</td>\n",
              "      <td>0.01130</td>\n",
              "    </tr>\n",
              "    <tr>\n",
              "      <th>...</th>\n",
              "      <td>...</td>\n",
              "      <td>...</td>\n",
              "      <td>...</td>\n",
              "      <td>...</td>\n",
              "      <td>...</td>\n",
              "      <td>...</td>\n",
              "      <td>...</td>\n",
              "      <td>...</td>\n",
              "      <td>...</td>\n",
              "      <td>...</td>\n",
              "      <td>...</td>\n",
              "      <td>...</td>\n",
              "    </tr>\n",
              "    <tr>\n",
              "      <th>1980013</th>\n",
              "      <td>1.34053</td>\n",
              "      <td>1.34054</td>\n",
              "      <td>1.34016</td>\n",
              "      <td>1.34021</td>\n",
              "      <td>433</td>\n",
              "      <td>14</td>\n",
              "      <td>1.340303</td>\n",
              "      <td>1.340280</td>\n",
              "      <td>0.00038</td>\n",
              "      <td>0.00032</td>\n",
              "      <td>0.00001</td>\n",
              "      <td>0.00005</td>\n",
              "    </tr>\n",
              "    <tr>\n",
              "      <th>1980014</th>\n",
              "      <td>1.34019</td>\n",
              "      <td>1.34050</td>\n",
              "      <td>1.34014</td>\n",
              "      <td>1.34032</td>\n",
              "      <td>259</td>\n",
              "      <td>14</td>\n",
              "      <td>1.340320</td>\n",
              "      <td>1.340320</td>\n",
              "      <td>0.00036</td>\n",
              "      <td>0.00013</td>\n",
              "      <td>0.00018</td>\n",
              "      <td>0.00005</td>\n",
              "    </tr>\n",
              "    <tr>\n",
              "      <th>1980015</th>\n",
              "      <td>1.34032</td>\n",
              "      <td>1.34067</td>\n",
              "      <td>1.34032</td>\n",
              "      <td>1.34055</td>\n",
              "      <td>262</td>\n",
              "      <td>14</td>\n",
              "      <td>1.340513</td>\n",
              "      <td>1.340523</td>\n",
              "      <td>0.00035</td>\n",
              "      <td>0.00023</td>\n",
              "      <td>0.00012</td>\n",
              "      <td>0.00000</td>\n",
              "    </tr>\n",
              "    <tr>\n",
              "      <th>1980016</th>\n",
              "      <td>1.34059</td>\n",
              "      <td>1.34111</td>\n",
              "      <td>1.34054</td>\n",
              "      <td>1.34111</td>\n",
              "      <td>424</td>\n",
              "      <td>14</td>\n",
              "      <td>1.340920</td>\n",
              "      <td>1.340968</td>\n",
              "      <td>0.00057</td>\n",
              "      <td>0.00052</td>\n",
              "      <td>0.00000</td>\n",
              "      <td>0.00005</td>\n",
              "    </tr>\n",
              "    <tr>\n",
              "      <th>1980017</th>\n",
              "      <td>1.34113</td>\n",
              "      <td>1.34136</td>\n",
              "      <td>1.34091</td>\n",
              "      <td>1.34116</td>\n",
              "      <td>561</td>\n",
              "      <td>14</td>\n",
              "      <td>1.341143</td>\n",
              "      <td>1.341147</td>\n",
              "      <td>0.00045</td>\n",
              "      <td>0.00003</td>\n",
              "      <td>0.00020</td>\n",
              "      <td>0.00022</td>\n",
              "    </tr>\n",
              "  </tbody>\n",
              "</table>\n",
              "<p>1980018 rows × 12 columns</p>\n",
              "</div>\n",
              "    <div class=\"colab-df-buttons\">\n",
              "\n",
              "  <div class=\"colab-df-container\">\n",
              "    <button class=\"colab-df-convert\" onclick=\"convertToInteractive('df-bb4a3636-3359-4783-861d-fa26a0306c00')\"\n",
              "            title=\"Convert this dataframe to an interactive table.\"\n",
              "            style=\"display:none;\">\n",
              "\n",
              "  <svg xmlns=\"http://www.w3.org/2000/svg\" height=\"24px\" viewBox=\"0 -960 960 960\">\n",
              "    <path d=\"M120-120v-720h720v720H120Zm60-500h600v-160H180v160Zm220 220h160v-160H400v160Zm0 220h160v-160H400v160ZM180-400h160v-160H180v160Zm440 0h160v-160H620v160ZM180-180h160v-160H180v160Zm440 0h160v-160H620v160Z\"/>\n",
              "  </svg>\n",
              "    </button>\n",
              "\n",
              "  <style>\n",
              "    .colab-df-container {\n",
              "      display:flex;\n",
              "      gap: 12px;\n",
              "    }\n",
              "\n",
              "    .colab-df-convert {\n",
              "      background-color: #E8F0FE;\n",
              "      border: none;\n",
              "      border-radius: 50%;\n",
              "      cursor: pointer;\n",
              "      display: none;\n",
              "      fill: #1967D2;\n",
              "      height: 32px;\n",
              "      padding: 0 0 0 0;\n",
              "      width: 32px;\n",
              "    }\n",
              "\n",
              "    .colab-df-convert:hover {\n",
              "      background-color: #E2EBFA;\n",
              "      box-shadow: 0px 1px 2px rgba(60, 64, 67, 0.3), 0px 1px 3px 1px rgba(60, 64, 67, 0.15);\n",
              "      fill: #174EA6;\n",
              "    }\n",
              "\n",
              "    .colab-df-buttons div {\n",
              "      margin-bottom: 4px;\n",
              "    }\n",
              "\n",
              "    [theme=dark] .colab-df-convert {\n",
              "      background-color: #3B4455;\n",
              "      fill: #D2E3FC;\n",
              "    }\n",
              "\n",
              "    [theme=dark] .colab-df-convert:hover {\n",
              "      background-color: #434B5C;\n",
              "      box-shadow: 0px 1px 3px 1px rgba(0, 0, 0, 0.15);\n",
              "      filter: drop-shadow(0px 1px 2px rgba(0, 0, 0, 0.3));\n",
              "      fill: #FFFFFF;\n",
              "    }\n",
              "  </style>\n",
              "\n",
              "    <script>\n",
              "      const buttonEl =\n",
              "        document.querySelector('#df-bb4a3636-3359-4783-861d-fa26a0306c00 button.colab-df-convert');\n",
              "      buttonEl.style.display =\n",
              "        google.colab.kernel.accessAllowed ? 'block' : 'none';\n",
              "\n",
              "      async function convertToInteractive(key) {\n",
              "        const element = document.querySelector('#df-bb4a3636-3359-4783-861d-fa26a0306c00');\n",
              "        const dataTable =\n",
              "          await google.colab.kernel.invokeFunction('convertToInteractive',\n",
              "                                                    [key], {});\n",
              "        if (!dataTable) return;\n",
              "\n",
              "        const docLinkHtml = 'Like what you see? Visit the ' +\n",
              "          '<a target=\"_blank\" href=https://colab.research.google.com/notebooks/data_table.ipynb>data table notebook</a>'\n",
              "          + ' to learn more about interactive tables.';\n",
              "        element.innerHTML = '';\n",
              "        dataTable['output_type'] = 'display_data';\n",
              "        await google.colab.output.renderOutput(dataTable, element);\n",
              "        const docLink = document.createElement('div');\n",
              "        docLink.innerHTML = docLinkHtml;\n",
              "        element.appendChild(docLink);\n",
              "      }\n",
              "    </script>\n",
              "  </div>\n",
              "\n",
              "\n",
              "    <div id=\"df-34941cf5-2f77-4835-a99c-81fc554f5b1d\">\n",
              "      <button class=\"colab-df-quickchart\" onclick=\"quickchart('df-34941cf5-2f77-4835-a99c-81fc554f5b1d')\"\n",
              "                title=\"Suggest charts\"\n",
              "                style=\"display:none;\">\n",
              "\n",
              "<svg xmlns=\"http://www.w3.org/2000/svg\" height=\"24px\"viewBox=\"0 0 24 24\"\n",
              "     width=\"24px\">\n",
              "    <g>\n",
              "        <path d=\"M19 3H5c-1.1 0-2 .9-2 2v14c0 1.1.9 2 2 2h14c1.1 0 2-.9 2-2V5c0-1.1-.9-2-2-2zM9 17H7v-7h2v7zm4 0h-2V7h2v10zm4 0h-2v-4h2v4z\"/>\n",
              "    </g>\n",
              "</svg>\n",
              "      </button>\n",
              "\n",
              "<style>\n",
              "  .colab-df-quickchart {\n",
              "      --bg-color: #E8F0FE;\n",
              "      --fill-color: #1967D2;\n",
              "      --hover-bg-color: #E2EBFA;\n",
              "      --hover-fill-color: #174EA6;\n",
              "      --disabled-fill-color: #AAA;\n",
              "      --disabled-bg-color: #DDD;\n",
              "  }\n",
              "\n",
              "  [theme=dark] .colab-df-quickchart {\n",
              "      --bg-color: #3B4455;\n",
              "      --fill-color: #D2E3FC;\n",
              "      --hover-bg-color: #434B5C;\n",
              "      --hover-fill-color: #FFFFFF;\n",
              "      --disabled-bg-color: #3B4455;\n",
              "      --disabled-fill-color: #666;\n",
              "  }\n",
              "\n",
              "  .colab-df-quickchart {\n",
              "    background-color: var(--bg-color);\n",
              "    border: none;\n",
              "    border-radius: 50%;\n",
              "    cursor: pointer;\n",
              "    display: none;\n",
              "    fill: var(--fill-color);\n",
              "    height: 32px;\n",
              "    padding: 0;\n",
              "    width: 32px;\n",
              "  }\n",
              "\n",
              "  .colab-df-quickchart:hover {\n",
              "    background-color: var(--hover-bg-color);\n",
              "    box-shadow: 0 1px 2px rgba(60, 64, 67, 0.3), 0 1px 3px 1px rgba(60, 64, 67, 0.15);\n",
              "    fill: var(--button-hover-fill-color);\n",
              "  }\n",
              "\n",
              "  .colab-df-quickchart-complete:disabled,\n",
              "  .colab-df-quickchart-complete:disabled:hover {\n",
              "    background-color: var(--disabled-bg-color);\n",
              "    fill: var(--disabled-fill-color);\n",
              "    box-shadow: none;\n",
              "  }\n",
              "\n",
              "  .colab-df-spinner {\n",
              "    border: 2px solid var(--fill-color);\n",
              "    border-color: transparent;\n",
              "    border-bottom-color: var(--fill-color);\n",
              "    animation:\n",
              "      spin 1s steps(1) infinite;\n",
              "  }\n",
              "\n",
              "  @keyframes spin {\n",
              "    0% {\n",
              "      border-color: transparent;\n",
              "      border-bottom-color: var(--fill-color);\n",
              "      border-left-color: var(--fill-color);\n",
              "    }\n",
              "    20% {\n",
              "      border-color: transparent;\n",
              "      border-left-color: var(--fill-color);\n",
              "      border-top-color: var(--fill-color);\n",
              "    }\n",
              "    30% {\n",
              "      border-color: transparent;\n",
              "      border-left-color: var(--fill-color);\n",
              "      border-top-color: var(--fill-color);\n",
              "      border-right-color: var(--fill-color);\n",
              "    }\n",
              "    40% {\n",
              "      border-color: transparent;\n",
              "      border-right-color: var(--fill-color);\n",
              "      border-top-color: var(--fill-color);\n",
              "    }\n",
              "    60% {\n",
              "      border-color: transparent;\n",
              "      border-right-color: var(--fill-color);\n",
              "    }\n",
              "    80% {\n",
              "      border-color: transparent;\n",
              "      border-right-color: var(--fill-color);\n",
              "      border-bottom-color: var(--fill-color);\n",
              "    }\n",
              "    90% {\n",
              "      border-color: transparent;\n",
              "      border-bottom-color: var(--fill-color);\n",
              "    }\n",
              "  }\n",
              "</style>\n",
              "\n",
              "      <script>\n",
              "        async function quickchart(key) {\n",
              "          const quickchartButtonEl =\n",
              "            document.querySelector('#' + key + ' button');\n",
              "          quickchartButtonEl.disabled = true;  // To prevent multiple clicks.\n",
              "          quickchartButtonEl.classList.add('colab-df-spinner');\n",
              "          try {\n",
              "            const charts = await google.colab.kernel.invokeFunction(\n",
              "                'suggestCharts', [key], {});\n",
              "          } catch (error) {\n",
              "            console.error('Error during call to suggestCharts:', error);\n",
              "          }\n",
              "          quickchartButtonEl.classList.remove('colab-df-spinner');\n",
              "          quickchartButtonEl.classList.add('colab-df-quickchart-complete');\n",
              "        }\n",
              "        (() => {\n",
              "          let quickchartButtonEl =\n",
              "            document.querySelector('#df-34941cf5-2f77-4835-a99c-81fc554f5b1d button');\n",
              "          quickchartButtonEl.style.display =\n",
              "            google.colab.kernel.accessAllowed ? 'block' : 'none';\n",
              "        })();\n",
              "      </script>\n",
              "    </div>\n",
              "\n",
              "  <div id=\"id_1a4e42a1-14bd-417a-99b2-c65c366eaea1\">\n",
              "    <style>\n",
              "      .colab-df-generate {\n",
              "        background-color: #E8F0FE;\n",
              "        border: none;\n",
              "        border-radius: 50%;\n",
              "        cursor: pointer;\n",
              "        display: none;\n",
              "        fill: #1967D2;\n",
              "        height: 32px;\n",
              "        padding: 0 0 0 0;\n",
              "        width: 32px;\n",
              "      }\n",
              "\n",
              "      .colab-df-generate:hover {\n",
              "        background-color: #E2EBFA;\n",
              "        box-shadow: 0px 1px 2px rgba(60, 64, 67, 0.3), 0px 1px 3px 1px rgba(60, 64, 67, 0.15);\n",
              "        fill: #174EA6;\n",
              "      }\n",
              "\n",
              "      [theme=dark] .colab-df-generate {\n",
              "        background-color: #3B4455;\n",
              "        fill: #D2E3FC;\n",
              "      }\n",
              "\n",
              "      [theme=dark] .colab-df-generate:hover {\n",
              "        background-color: #434B5C;\n",
              "        box-shadow: 0px 1px 3px 1px rgba(0, 0, 0, 0.15);\n",
              "        filter: drop-shadow(0px 1px 2px rgba(0, 0, 0, 0.3));\n",
              "        fill: #FFFFFF;\n",
              "      }\n",
              "    </style>\n",
              "    <button class=\"colab-df-generate\" onclick=\"generateWithVariable('train_df')\"\n",
              "            title=\"Generate code using this dataframe.\"\n",
              "            style=\"display:none;\">\n",
              "\n",
              "  <svg xmlns=\"http://www.w3.org/2000/svg\" height=\"24px\"viewBox=\"0 0 24 24\"\n",
              "       width=\"24px\">\n",
              "    <path d=\"M7,19H8.4L18.45,9,17,7.55,7,17.6ZM5,21V16.75L18.45,3.32a2,2,0,0,1,2.83,0l1.4,1.43a1.91,1.91,0,0,1,.58,1.4,1.91,1.91,0,0,1-.58,1.4L9.25,21ZM18.45,9,17,7.55Zm-12,3A5.31,5.31,0,0,0,4.9,8.1,5.31,5.31,0,0,0,1,6.5,5.31,5.31,0,0,0,4.9,4.9,5.31,5.31,0,0,0,6.5,1,5.31,5.31,0,0,0,8.1,4.9,5.31,5.31,0,0,0,12,6.5,5.46,5.46,0,0,0,6.5,12Z\"/>\n",
              "  </svg>\n",
              "    </button>\n",
              "    <script>\n",
              "      (() => {\n",
              "      const buttonEl =\n",
              "        document.querySelector('#id_1a4e42a1-14bd-417a-99b2-c65c366eaea1 button.colab-df-generate');\n",
              "      buttonEl.style.display =\n",
              "        google.colab.kernel.accessAllowed ? 'block' : 'none';\n",
              "\n",
              "      buttonEl.onclick = () => {\n",
              "        google.colab.notebook.generateWithVariable('train_df');\n",
              "      }\n",
              "      })();\n",
              "    </script>\n",
              "  </div>\n",
              "\n",
              "    </div>\n",
              "  </div>\n"
            ],
            "application/vnd.google.colaboratory.intrinsic+json": {
              "type": "dataframe",
              "variable_name": "train_df"
            }
          },
          "metadata": {}
        }
      ],
      "source": [
        "display(train_df)"
      ]
    },
    {
      "cell_type": "code",
      "execution_count": 8,
      "metadata": {
        "id": "FgfuQq2n2yc1",
        "outputId": "92258035-c207-48c9-8956-a19d16a94459",
        "colab": {
          "base_uri": "https://localhost:8080/"
        }
      },
      "outputs": [
        {
          "output_type": "stream",
          "name": "stdout",
          "text": [
            "GeneratedGBPUSD\n",
            "[1.34116]\n"
          ]
        }
      ],
      "source": [
        "\n",
        "#train_df_test = train_dfs_test[n]\n",
        "print(m_label)\n",
        "SEQ_LEN = 25 # length of input sequence (timesteps). Typical choices: 30, 60, 90\n",
        "n_rows, n_features = train_df.values.shape\n",
        "\n",
        "X, y = create_sequences(train_df.values, SEQ_LEN, 1, 3)  # X: (n_samples, SEQ_LEN, n_features), y: (n_samples, n_features)\n",
        "\n",
        "n_samples = X.shape[0]\n",
        "#print(X[-1])\n",
        "print(y[-1])"
      ]
    },
    {
      "cell_type": "code",
      "execution_count": 9,
      "metadata": {
        "id": "rsrSNZt8bKfo",
        "outputId": "f1e0436c-0e0e-4939-c684-9908680a330e",
        "colab": {
          "base_uri": "https://localhost:8080/"
        }
      },
      "outputs": [
        {
          "output_type": "stream",
          "name": "stdout",
          "text": [
            "[[1.34278000e+00 1.34291000e+00 1.34246000e+00 1.34274000e+00\n",
            "  5.81000000e+02 1.40000000e+01 1.34270333e+00 1.34271250e+00\n",
            "  4.50000000e-04 4.00000000e-05 1.30000000e-04 2.80000000e-04]\n",
            " [1.34273000e+00 1.34317000e+00 1.34230000e+00 1.34233000e+00\n",
            "  4.25000000e+02 1.40000000e+01 1.34260000e+00 1.34253250e+00\n",
            "  8.70000000e-04 4.00000000e-04 4.40000000e-04 3.00000000e-05]\n",
            " [1.34234000e+00 1.34244000e+00 1.34190000e+00 1.34200000e+00\n",
            "  2.88000000e+02 1.40000000e+01 1.34211333e+00 1.34208500e+00\n",
            "  5.40000000e-04 3.40000000e-04 1.00000000e-04 1.00000000e-04]\n",
            " [1.34200000e+00 1.34200000e+00 1.34141000e+00 1.34177000e+00\n",
            "  3.49000000e+02 1.40000000e+01 1.34172667e+00 1.34173750e+00\n",
            "  5.90000000e-04 2.30000000e-04 0.00000000e+00 3.60000000e-04]\n",
            " [1.34177000e+00 1.34183000e+00 1.34136000e+00 1.34136000e+00\n",
            "  4.03000000e+02 1.40000000e+01 1.34151667e+00 1.34147750e+00\n",
            "  4.70000000e-04 4.10000000e-04 6.00000000e-05 0.00000000e+00]\n",
            " [1.34135000e+00 1.34150000e+00 1.34110000e+00 1.34130000e+00\n",
            "  3.49000000e+02 1.40000000e+01 1.34130000e+00 1.34130000e+00\n",
            "  4.00000000e-04 5.00000000e-05 1.50000000e-04 2.00000000e-04]\n",
            " [1.34130000e+00 1.34155000e+00 1.34119000e+00 1.34143000e+00\n",
            "  2.60000000e+02 1.40000000e+01 1.34139000e+00 1.34140000e+00\n",
            "  3.60000000e-04 1.30000000e-04 1.20000000e-04 1.10000000e-04]\n",
            " [1.34143000e+00 1.34164000e+00 1.34135000e+00 1.34140000e+00\n",
            "  3.10000000e+02 1.40000000e+01 1.34146333e+00 1.34144750e+00\n",
            "  2.90000000e-04 3.00000000e-05 2.10000000e-04 5.00000000e-05]\n",
            " [1.34134000e+00 1.34171000e+00 1.34128000e+00 1.34169000e+00\n",
            "  2.58000000e+02 1.40000000e+01 1.34156000e+00 1.34159250e+00\n",
            "  4.30000000e-04 3.50000000e-04 2.00000000e-05 6.00000000e-05]\n",
            " [1.34170000e+00 1.34175000e+00 1.34133000e+00 1.34154000e+00\n",
            "  2.97000000e+02 1.40000000e+01 1.34154000e+00 1.34154000e+00\n",
            "  4.20000000e-04 1.60000000e-04 5.00000000e-05 2.10000000e-04]\n",
            " [1.34153000e+00 1.34167000e+00 1.34133000e+00 1.34145000e+00\n",
            "  2.80000000e+02 1.40000000e+01 1.34148333e+00 1.34147500e+00\n",
            "  3.40000000e-04 8.00000000e-05 1.40000000e-04 1.20000000e-04]\n",
            " [1.34146000e+00 1.34146000e+00 1.34108000e+00 1.34116000e+00\n",
            "  3.06000000e+02 1.40000000e+01 1.34123333e+00 1.34121500e+00\n",
            "  3.80000000e-04 3.00000000e-04 0.00000000e+00 8.00000000e-05]\n",
            " [1.34119000e+00 1.34130000e+00 1.34094000e+00 1.34098000e+00\n",
            "  4.79000000e+02 1.40000000e+01 1.34107333e+00 1.34105000e+00\n",
            "  3.60000000e-04 2.10000000e-04 1.10000000e-04 4.00000000e-05]\n",
            " [1.34097000e+00 1.34098000e+00 1.34064000e+00 1.34093000e+00\n",
            "  4.30000000e+02 1.40000000e+01 1.34085000e+00 1.34087000e+00\n",
            "  3.40000000e-04 4.00000000e-05 1.00000000e-05 2.90000000e-04]\n",
            " [1.34093000e+00 1.34128000e+00 1.34083000e+00 1.34103000e+00\n",
            "  2.79000000e+02 1.40000000e+01 1.34104667e+00 1.34104250e+00\n",
            "  4.50000000e-04 1.00000000e-04 2.50000000e-04 1.00000000e-04]\n",
            " [1.34104000e+00 1.34104000e+00 1.34051000e+00 1.34074000e+00\n",
            "  3.07000000e+02 1.40000000e+01 1.34076333e+00 1.34075750e+00\n",
            "  5.30000000e-04 3.00000000e-04 0.00000000e+00 2.30000000e-04]\n",
            " [1.34070000e+00 1.34084000e+00 1.34063000e+00 1.34082000e+00\n",
            "  2.44000000e+02 1.40000000e+01 1.34076333e+00 1.34077750e+00\n",
            "  2.10000000e-04 1.20000000e-04 2.00000000e-05 7.00000000e-05]\n",
            " [1.34084000e+00 1.34104000e+00 1.34069000e+00 1.34072000e+00\n",
            "  3.14000000e+02 1.40000000e+01 1.34081667e+00 1.34079250e+00\n",
            "  3.50000000e-04 1.20000000e-04 2.00000000e-04 3.00000000e-05]\n",
            " [1.34071000e+00 1.34123000e+00 1.34068000e+00 1.34110000e+00\n",
            "  3.26000000e+02 1.40000000e+01 1.34100333e+00 1.34102750e+00\n",
            "  5.50000000e-04 3.90000000e-04 1.30000000e-04 3.00000000e-05]\n",
            " [1.34110000e+00 1.34112000e+00 1.33993000e+00 1.34004000e+00\n",
            "  5.21000000e+02 1.40000000e+01 1.34036333e+00 1.34028250e+00\n",
            "  1.19000000e-03 1.06000000e-03 2.00000000e-05 1.10000000e-04]\n",
            " [1.34010000e+00 1.34073000e+00 1.34004000e+00 1.34050000e+00\n",
            "  4.13000000e+02 1.40000000e+01 1.34042333e+00 1.34044250e+00\n",
            "  6.90000000e-04 4.00000000e-04 2.30000000e-04 6.00000000e-05]\n",
            " [1.34053000e+00 1.34054000e+00 1.34016000e+00 1.34021000e+00\n",
            "  4.33000000e+02 1.40000000e+01 1.34030333e+00 1.34028000e+00\n",
            "  3.80000000e-04 3.20000000e-04 1.00000000e-05 5.00000000e-05]\n",
            " [1.34019000e+00 1.34050000e+00 1.34014000e+00 1.34032000e+00\n",
            "  2.59000000e+02 1.40000000e+01 1.34032000e+00 1.34032000e+00\n",
            "  3.60000000e-04 1.30000000e-04 1.80000000e-04 5.00000000e-05]\n",
            " [1.34032000e+00 1.34067000e+00 1.34032000e+00 1.34055000e+00\n",
            "  2.62000000e+02 1.40000000e+01 1.34051333e+00 1.34052250e+00\n",
            "  3.50000000e-04 2.30000000e-04 1.20000000e-04 0.00000000e+00]\n",
            " [1.34059000e+00 1.34111000e+00 1.34054000e+00 1.34111000e+00\n",
            "  4.24000000e+02 1.40000000e+01 1.34092000e+00 1.34096750e+00\n",
            "  5.70000000e-04 5.20000000e-04 0.00000000e+00 5.00000000e-05]]\n"
          ]
        }
      ],
      "source": [
        "print(X[-1])"
      ]
    },
    {
      "cell_type": "code",
      "execution_count": 10,
      "metadata": {
        "id": "ZmhqTdKdbKfo",
        "outputId": "d964889b-025d-49b7-c75f-a19bd7aa2cdb",
        "colab": {
          "base_uri": "https://localhost:8080/"
        }
      },
      "outputs": [
        {
          "output_type": "stream",
          "name": "stdout",
          "text": [
            "Scaler for X saved to 'scaler_x.joblib'\n",
            "Scaler for Y saved to 'scaler_y.joblib'\n"
          ]
        }
      ],
      "source": [
        "X, y = preprocess_and_save_scalers(X, y)\n"
      ]
    },
    {
      "cell_type": "code",
      "execution_count": 11,
      "metadata": {
        "id": "5j_wkyXD5s_s",
        "outputId": "c6745930-6d85-4c6e-95a0-571b051870c9",
        "colab": {
          "base_uri": "https://localhost:8080/",
          "height": 408
        }
      },
      "outputs": [
        {
          "output_type": "display_data",
          "data": {
            "text/plain": [
              "\u001b[1mModel: \"functional\"\u001b[0m\n"
            ],
            "text/html": [
              "<pre style=\"white-space:pre;overflow-x:auto;line-height:normal;font-family:Menlo,'DejaVu Sans Mono',consolas,'Courier New',monospace\"><span style=\"font-weight: bold\">Model: \"functional\"</span>\n",
              "</pre>\n"
            ]
          },
          "metadata": {}
        },
        {
          "output_type": "display_data",
          "data": {
            "text/plain": [
              "┏━━━━━━━━━━━━━━━━━━━━━━━━━━━━━━━━━┳━━━━━━━━━━━━━━━━━━━━━━━━┳━━━━━━━━━━━━━━━┓\n",
              "┃\u001b[1m \u001b[0m\u001b[1mLayer (type)                   \u001b[0m\u001b[1m \u001b[0m┃\u001b[1m \u001b[0m\u001b[1mOutput Shape          \u001b[0m\u001b[1m \u001b[0m┃\u001b[1m \u001b[0m\u001b[1m      Param #\u001b[0m\u001b[1m \u001b[0m┃\n",
              "┡━━━━━━━━━━━━━━━━━━━━━━━━━━━━━━━━━╇━━━━━━━━━━━━━━━━━━━━━━━━╇━━━━━━━━━━━━━━━┩\n",
              "│ input_layer (\u001b[38;5;33mInputLayer\u001b[0m)        │ (\u001b[38;5;45mNone\u001b[0m, \u001b[38;5;34m25\u001b[0m, \u001b[38;5;34m12\u001b[0m)         │             \u001b[38;5;34m0\u001b[0m │\n",
              "├─────────────────────────────────┼────────────────────────┼───────────────┤\n",
              "│ bidirectional (\u001b[38;5;33mBidirectional\u001b[0m)   │ (\u001b[38;5;45mNone\u001b[0m, \u001b[38;5;34m25\u001b[0m, \u001b[38;5;34m100\u001b[0m)        │        \u001b[38;5;34m25,200\u001b[0m │\n",
              "├─────────────────────────────────┼────────────────────────┼───────────────┤\n",
              "│ bidirectional_1 (\u001b[38;5;33mBidirectional\u001b[0m) │ (\u001b[38;5;45mNone\u001b[0m, \u001b[38;5;34m25\u001b[0m, \u001b[38;5;34m100\u001b[0m)        │        \u001b[38;5;34m60,400\u001b[0m │\n",
              "├─────────────────────────────────┼────────────────────────┼───────────────┤\n",
              "│ bidirectional_2 (\u001b[38;5;33mBidirectional\u001b[0m) │ (\u001b[38;5;45mNone\u001b[0m, \u001b[38;5;34m25\u001b[0m, \u001b[38;5;34m100\u001b[0m)        │        \u001b[38;5;34m60,400\u001b[0m │\n",
              "├─────────────────────────────────┼────────────────────────┼───────────────┤\n",
              "│ bidirectional_3 (\u001b[38;5;33mBidirectional\u001b[0m) │ (\u001b[38;5;45mNone\u001b[0m, \u001b[38;5;34m100\u001b[0m)            │        \u001b[38;5;34m60,400\u001b[0m │\n",
              "├─────────────────────────────────┼────────────────────────┼───────────────┤\n",
              "│ dense (\u001b[38;5;33mDense\u001b[0m)                   │ (\u001b[38;5;45mNone\u001b[0m, \u001b[38;5;34m150\u001b[0m)            │        \u001b[38;5;34m15,150\u001b[0m │\n",
              "├─────────────────────────────────┼────────────────────────┼───────────────┤\n",
              "│ dropout (\u001b[38;5;33mDropout\u001b[0m)               │ (\u001b[38;5;45mNone\u001b[0m, \u001b[38;5;34m150\u001b[0m)            │             \u001b[38;5;34m0\u001b[0m │\n",
              "├─────────────────────────────────┼────────────────────────┼───────────────┤\n",
              "│ dense_1 (\u001b[38;5;33mDense\u001b[0m)                 │ (\u001b[38;5;45mNone\u001b[0m, \u001b[38;5;34m1\u001b[0m)              │           \u001b[38;5;34m151\u001b[0m │\n",
              "└─────────────────────────────────┴────────────────────────┴───────────────┘\n"
            ],
            "text/html": [
              "<pre style=\"white-space:pre;overflow-x:auto;line-height:normal;font-family:Menlo,'DejaVu Sans Mono',consolas,'Courier New',monospace\">┏━━━━━━━━━━━━━━━━━━━━━━━━━━━━━━━━━┳━━━━━━━━━━━━━━━━━━━━━━━━┳━━━━━━━━━━━━━━━┓\n",
              "┃<span style=\"font-weight: bold\"> Layer (type)                    </span>┃<span style=\"font-weight: bold\"> Output Shape           </span>┃<span style=\"font-weight: bold\">       Param # </span>┃\n",
              "┡━━━━━━━━━━━━━━━━━━━━━━━━━━━━━━━━━╇━━━━━━━━━━━━━━━━━━━━━━━━╇━━━━━━━━━━━━━━━┩\n",
              "│ input_layer (<span style=\"color: #0087ff; text-decoration-color: #0087ff\">InputLayer</span>)        │ (<span style=\"color: #00d7ff; text-decoration-color: #00d7ff\">None</span>, <span style=\"color: #00af00; text-decoration-color: #00af00\">25</span>, <span style=\"color: #00af00; text-decoration-color: #00af00\">12</span>)         │             <span style=\"color: #00af00; text-decoration-color: #00af00\">0</span> │\n",
              "├─────────────────────────────────┼────────────────────────┼───────────────┤\n",
              "│ bidirectional (<span style=\"color: #0087ff; text-decoration-color: #0087ff\">Bidirectional</span>)   │ (<span style=\"color: #00d7ff; text-decoration-color: #00d7ff\">None</span>, <span style=\"color: #00af00; text-decoration-color: #00af00\">25</span>, <span style=\"color: #00af00; text-decoration-color: #00af00\">100</span>)        │        <span style=\"color: #00af00; text-decoration-color: #00af00\">25,200</span> │\n",
              "├─────────────────────────────────┼────────────────────────┼───────────────┤\n",
              "│ bidirectional_1 (<span style=\"color: #0087ff; text-decoration-color: #0087ff\">Bidirectional</span>) │ (<span style=\"color: #00d7ff; text-decoration-color: #00d7ff\">None</span>, <span style=\"color: #00af00; text-decoration-color: #00af00\">25</span>, <span style=\"color: #00af00; text-decoration-color: #00af00\">100</span>)        │        <span style=\"color: #00af00; text-decoration-color: #00af00\">60,400</span> │\n",
              "├─────────────────────────────────┼────────────────────────┼───────────────┤\n",
              "│ bidirectional_2 (<span style=\"color: #0087ff; text-decoration-color: #0087ff\">Bidirectional</span>) │ (<span style=\"color: #00d7ff; text-decoration-color: #00d7ff\">None</span>, <span style=\"color: #00af00; text-decoration-color: #00af00\">25</span>, <span style=\"color: #00af00; text-decoration-color: #00af00\">100</span>)        │        <span style=\"color: #00af00; text-decoration-color: #00af00\">60,400</span> │\n",
              "├─────────────────────────────────┼────────────────────────┼───────────────┤\n",
              "│ bidirectional_3 (<span style=\"color: #0087ff; text-decoration-color: #0087ff\">Bidirectional</span>) │ (<span style=\"color: #00d7ff; text-decoration-color: #00d7ff\">None</span>, <span style=\"color: #00af00; text-decoration-color: #00af00\">100</span>)            │        <span style=\"color: #00af00; text-decoration-color: #00af00\">60,400</span> │\n",
              "├─────────────────────────────────┼────────────────────────┼───────────────┤\n",
              "│ dense (<span style=\"color: #0087ff; text-decoration-color: #0087ff\">Dense</span>)                   │ (<span style=\"color: #00d7ff; text-decoration-color: #00d7ff\">None</span>, <span style=\"color: #00af00; text-decoration-color: #00af00\">150</span>)            │        <span style=\"color: #00af00; text-decoration-color: #00af00\">15,150</span> │\n",
              "├─────────────────────────────────┼────────────────────────┼───────────────┤\n",
              "│ dropout (<span style=\"color: #0087ff; text-decoration-color: #0087ff\">Dropout</span>)               │ (<span style=\"color: #00d7ff; text-decoration-color: #00d7ff\">None</span>, <span style=\"color: #00af00; text-decoration-color: #00af00\">150</span>)            │             <span style=\"color: #00af00; text-decoration-color: #00af00\">0</span> │\n",
              "├─────────────────────────────────┼────────────────────────┼───────────────┤\n",
              "│ dense_1 (<span style=\"color: #0087ff; text-decoration-color: #0087ff\">Dense</span>)                 │ (<span style=\"color: #00d7ff; text-decoration-color: #00d7ff\">None</span>, <span style=\"color: #00af00; text-decoration-color: #00af00\">1</span>)              │           <span style=\"color: #00af00; text-decoration-color: #00af00\">151</span> │\n",
              "└─────────────────────────────────┴────────────────────────┴───────────────┘\n",
              "</pre>\n"
            ]
          },
          "metadata": {}
        },
        {
          "output_type": "display_data",
          "data": {
            "text/plain": [
              "\u001b[1m Total params: \u001b[0m\u001b[38;5;34m221,701\u001b[0m (866.02 KB)\n"
            ],
            "text/html": [
              "<pre style=\"white-space:pre;overflow-x:auto;line-height:normal;font-family:Menlo,'DejaVu Sans Mono',consolas,'Courier New',monospace\"><span style=\"font-weight: bold\"> Total params: </span><span style=\"color: #00af00; text-decoration-color: #00af00\">221,701</span> (866.02 KB)\n",
              "</pre>\n"
            ]
          },
          "metadata": {}
        },
        {
          "output_type": "display_data",
          "data": {
            "text/plain": [
              "\u001b[1m Trainable params: \u001b[0m\u001b[38;5;34m221,701\u001b[0m (866.02 KB)\n"
            ],
            "text/html": [
              "<pre style=\"white-space:pre;overflow-x:auto;line-height:normal;font-family:Menlo,'DejaVu Sans Mono',consolas,'Courier New',monospace\"><span style=\"font-weight: bold\"> Trainable params: </span><span style=\"color: #00af00; text-decoration-color: #00af00\">221,701</span> (866.02 KB)\n",
              "</pre>\n"
            ]
          },
          "metadata": {}
        },
        {
          "output_type": "display_data",
          "data": {
            "text/plain": [
              "\u001b[1m Non-trainable params: \u001b[0m\u001b[38;5;34m0\u001b[0m (0.00 B)\n"
            ],
            "text/html": [
              "<pre style=\"white-space:pre;overflow-x:auto;line-height:normal;font-family:Menlo,'DejaVu Sans Mono',consolas,'Courier New',monospace\"><span style=\"font-weight: bold\"> Non-trainable params: </span><span style=\"color: #00af00; text-decoration-color: #00af00\">0</span> (0.00 B)\n",
              "</pre>\n"
            ]
          },
          "metadata": {}
        }
      ],
      "source": [
        "X_train, X_test, y_train, y_test = train_test_split(X, y, test_size=0.33, random_state=0, shuffle=False)\n",
        "X_val, X_test, y_val,  y_test = train_test_split(X_test, y_test, test_size=0.01, random_state=0, shuffle=False)\n",
        "\n",
        "seq_len = X_train.shape[1]\n",
        "n_features = X_train.shape[2]\n",
        "output_dim = y_train.shape[1]\n",
        "\n",
        "i = Input(shape=(seq_len, n_features))\n",
        "X = Bidirectional(LSTM(50, return_sequences=True))(i)\n",
        "X = Bidirectional(LSTM(50, return_sequences=True))(X)\n",
        "X = Bidirectional(LSTM(50, return_sequences=True))(X)\n",
        "X = Bidirectional(LSTM(50))(X)\n",
        "#X = Dropout(0.5)(X)\n",
        "X = Dense(150, activation=\"relu\")(X)\n",
        "X = Dropout(0.25)(X)\n",
        "X = Dense(output_dim)(X)\n",
        "\n",
        "model = Model(i, X)\n",
        "model.summary()\n"
      ]
    },
    {
      "cell_type": "code",
      "execution_count": null,
      "metadata": {
        "id": "_ou0YHmXzI4D",
        "outputId": "0ece41cf-8e01-4c35-fa21-f4abc8349272",
        "colab": {
          "base_uri": "https://localhost:8080/"
        }
      },
      "outputs": [
        {
          "output_type": "stream",
          "name": "stdout",
          "text": [
            "Epoch 1/100\n",
            "\u001b[1m1296/1296\u001b[0m \u001b[32m━━━━━━━━━━━━━━━━━━━━\u001b[0m\u001b[37m\u001b[0m \u001b[1m0s\u001b[0m 47ms/step - loss: 0.0055 - mae: 0.0441 - mape: 7.9843 - msle: 0.0024 - root_mean_squared_error: 0.0656\n",
            "Epoch 1: val_loss improved from inf to 0.00005, saving model to GeneratedGBPUSDlstm_best.keras\n",
            "\u001b[1m1296/1296\u001b[0m \u001b[32m━━━━━━━━━━━━━━━━━━━━\u001b[0m\u001b[37m\u001b[0m \u001b[1m94s\u001b[0m 65ms/step - loss: 0.0055 - mae: 0.0440 - mape: 7.9826 - msle: 0.0024 - root_mean_squared_error: 0.0656 - val_loss: 4.9294e-05 - val_mae: 0.0033 - val_mape: 183.3387 - val_msle: 3.9928e-05 - val_root_mean_squared_error: 0.0070 - learning_rate: 0.0010\n",
            "Epoch 2/100\n",
            "\u001b[1m1296/1296\u001b[0m \u001b[32m━━━━━━━━━━━━━━━━━━━━\u001b[0m\u001b[37m\u001b[0m \u001b[1m0s\u001b[0m 47ms/step - loss: 9.2271e-04 - mae: 0.0222 - mape: 3.8534 - msle: 3.3722e-04 - root_mean_squared_error: 0.0303\n",
            "Epoch 2: val_loss improved from 0.00005 to 0.00002, saving model to GeneratedGBPUSDlstm_best.keras\n",
            "\u001b[1m1296/1296\u001b[0m \u001b[32m━━━━━━━━━━━━━━━━━━━━\u001b[0m\u001b[37m\u001b[0m \u001b[1m73s\u001b[0m 56ms/step - loss: 9.2257e-04 - mae: 0.0222 - mape: 3.8530 - msle: 3.3717e-04 - root_mean_squared_error: 0.0303 - val_loss: 1.9573e-05 - val_mae: 0.0036 - val_mape: 100.4521 - val_msle: 1.4504e-05 - val_root_mean_squared_error: 0.0044 - learning_rate: 0.0010\n",
            "Epoch 3/100\n",
            "\u001b[1m1296/1296\u001b[0m \u001b[32m━━━━━━━━━━━━━━━━━━━━\u001b[0m\u001b[37m\u001b[0m \u001b[1m0s\u001b[0m 48ms/step - loss: 3.4871e-04 - mae: 0.0123 - mape: 2.0928 - msle: 1.2010e-04 - root_mean_squared_error: 0.0186\n",
            "Epoch 3: val_loss improved from 0.00002 to 0.00001, saving model to GeneratedGBPUSDlstm_best.keras\n",
            "\u001b[1m1296/1296\u001b[0m \u001b[32m━━━━━━━━━━━━━━━━━━━━\u001b[0m\u001b[37m\u001b[0m \u001b[1m73s\u001b[0m 57ms/step - loss: 3.4866e-04 - mae: 0.0123 - mape: 2.0927 - msle: 1.2009e-04 - root_mean_squared_error: 0.0186 - val_loss: 1.4483e-05 - val_mae: 0.0030 - val_mape: 88.5636 - val_msle: 1.0768e-05 - val_root_mean_squared_error: 0.0038 - learning_rate: 0.0010\n",
            "Epoch 4/100\n",
            "\u001b[1m1295/1296\u001b[0m \u001b[32m━━━━━━━━━━━━━━━━━━━\u001b[0m\u001b[37m━\u001b[0m \u001b[1m0s\u001b[0m 48ms/step - loss: 1.9456e-04 - mae: 0.0089 - mape: 1.6753 - msle: 7.1952e-05 - root_mean_squared_error: 0.0139\n",
            "Epoch 4: val_loss did not improve from 0.00001\n",
            "\u001b[1m1296/1296\u001b[0m \u001b[32m━━━━━━━━━━━━━━━━━━━━\u001b[0m\u001b[37m\u001b[0m \u001b[1m73s\u001b[0m 56ms/step - loss: 1.9454e-04 - mae: 0.0089 - mape: 1.6753 - msle: 7.1950e-05 - root_mean_squared_error: 0.0139 - val_loss: 7.0361e-05 - val_mae: 0.0080 - val_mape: 91.2709 - val_msle: 4.8443e-05 - val_root_mean_squared_error: 0.0084 - learning_rate: 0.0010\n",
            "Epoch 5/100\n",
            "\u001b[1m1296/1296\u001b[0m \u001b[32m━━━━━━━━━━━━━━━━━━━━\u001b[0m\u001b[37m\u001b[0m \u001b[1m0s\u001b[0m 47ms/step - loss: 1.7331e-04 - mae: 0.0085 - mape: 1.6966 - msle: 6.8802e-05 - root_mean_squared_error: 0.0132\n",
            "Epoch 5: val_loss did not improve from 0.00001\n",
            "\u001b[1m1296/1296\u001b[0m \u001b[32m━━━━━━━━━━━━━━━━━━━━\u001b[0m\u001b[37m\u001b[0m \u001b[1m73s\u001b[0m 56ms/step - loss: 1.7331e-04 - mae: 0.0085 - mape: 1.6966 - msle: 6.8802e-05 - root_mean_squared_error: 0.0132 - val_loss: 1.9841e-05 - val_mae: 0.0041 - val_mape: 78.0311 - val_msle: 1.3940e-05 - val_root_mean_squared_error: 0.0045 - learning_rate: 0.0010\n",
            "Epoch 6/100\n",
            "\u001b[1m1296/1296\u001b[0m \u001b[32m━━━━━━━━━━━━━━━━━━━━\u001b[0m\u001b[37m\u001b[0m \u001b[1m0s\u001b[0m 47ms/step - loss: 1.7522e-04 - mae: 0.0088 - mape: 1.7509 - msle: 7.0357e-05 - root_mean_squared_error: 0.0132\n",
            "Epoch 6: val_loss improved from 0.00001 to 0.00001, saving model to GeneratedGBPUSDlstm_best.keras\n",
            "\u001b[1m1296/1296\u001b[0m \u001b[32m━━━━━━━━━━━━━━━━━━━━\u001b[0m\u001b[37m\u001b[0m \u001b[1m73s\u001b[0m 56ms/step - loss: 1.7522e-04 - mae: 0.0088 - mape: 1.7508 - msle: 7.0356e-05 - root_mean_squared_error: 0.0132 - val_loss: 1.3073e-05 - val_mae: 0.0031 - val_mape: 73.8098 - val_msle: 9.3196e-06 - val_root_mean_squared_error: 0.0036 - learning_rate: 0.0010\n",
            "Epoch 7/100\n",
            "\u001b[1m1296/1296\u001b[0m \u001b[32m━━━━━━━━━━━━━━━━━━━━\u001b[0m\u001b[37m\u001b[0m \u001b[1m0s\u001b[0m 48ms/step - loss: 1.6543e-04 - mae: 0.0084 - mape: 1.6911 - msle: 6.6646e-05 - root_mean_squared_error: 0.0129\n",
            "Epoch 7: ReduceLROnPlateau reducing learning rate to 0.0005000000237487257.\n",
            "\n",
            "Epoch 7: val_loss improved from 0.00001 to 0.00000, saving model to GeneratedGBPUSDlstm_best.keras\n",
            "\u001b[1m1296/1296\u001b[0m \u001b[32m━━━━━━━━━━━━━━━━━━━━\u001b[0m\u001b[37m\u001b[0m \u001b[1m74s\u001b[0m 57ms/step - loss: 1.6543e-04 - mae: 0.0084 - mape: 1.6911 - msle: 6.6646e-05 - root_mean_squared_error: 0.0129 - val_loss: 3.4568e-06 - val_mae: 0.0016 - val_mape: 62.9746 - val_msle: 2.4018e-06 - val_root_mean_squared_error: 0.0019 - learning_rate: 0.0010\n",
            "Epoch 8/100\n",
            "\u001b[1m1296/1296\u001b[0m \u001b[32m━━━━━━━━━━━━━━━━━━━━\u001b[0m\u001b[37m\u001b[0m \u001b[1m0s\u001b[0m 48ms/step - loss: 1.5638e-04 - mae: 0.0080 - mape: 1.6102 - msle: 6.3574e-05 - root_mean_squared_error: 0.0125\n",
            "Epoch 8: val_loss did not improve from 0.00000\n",
            "\u001b[1m1296/1296\u001b[0m \u001b[32m━━━━━━━━━━━━━━━━━━━━\u001b[0m\u001b[37m\u001b[0m \u001b[1m73s\u001b[0m 57ms/step - loss: 1.5638e-04 - mae: 0.0080 - mape: 1.6102 - msle: 6.3574e-05 - root_mean_squared_error: 0.0125 - val_loss: 1.8121e-05 - val_mae: 0.0041 - val_mape: 67.0167 - val_msle: 1.2329e-05 - val_root_mean_squared_error: 0.0043 - learning_rate: 5.0000e-04\n",
            "Epoch 9/100\n",
            "\u001b[1m1296/1296\u001b[0m \u001b[32m━━━━━━━━━━━━━━━━━━━━\u001b[0m\u001b[37m\u001b[0m \u001b[1m0s\u001b[0m 48ms/step - loss: 1.5694e-04 - mae: 0.0080 - mape: 1.6187 - msle: 6.3600e-05 - root_mean_squared_error: 0.0125\n",
            "Epoch 9: val_loss did not improve from 0.00000\n",
            "\u001b[1m1296/1296\u001b[0m \u001b[32m━━━━━━━━━━━━━━━━━━━━\u001b[0m\u001b[37m\u001b[0m \u001b[1m73s\u001b[0m 57ms/step - loss: 1.5694e-04 - mae: 0.0080 - mape: 1.6187 - msle: 6.3600e-05 - root_mean_squared_error: 0.0125 - val_loss: 5.3085e-06 - val_mae: 0.0020 - val_mape: 65.3494 - val_msle: 3.7714e-06 - val_root_mean_squared_error: 0.0023 - learning_rate: 5.0000e-04\n",
            "Epoch 10/100\n",
            "\u001b[1m1295/1296\u001b[0m \u001b[32m━━━━━━━━━━━━━━━━━━━\u001b[0m\u001b[37m━\u001b[0m \u001b[1m0s\u001b[0m 48ms/step - loss: 1.5450e-04 - mae: 0.0080 - mape: 1.6091 - msle: 6.2604e-05 - root_mean_squared_error: 0.0124\n",
            "Epoch 10: val_loss did not improve from 0.00000\n",
            "\u001b[1m1296/1296\u001b[0m \u001b[32m━━━━━━━━━━━━━━━━━━━━\u001b[0m\u001b[37m\u001b[0m \u001b[1m74s\u001b[0m 57ms/step - loss: 1.5450e-04 - mae: 0.0080 - mape: 1.6091 - msle: 6.2604e-05 - root_mean_squared_error: 0.0124 - val_loss: 1.1712e-05 - val_mae: 0.0031 - val_mape: 68.0697 - val_msle: 8.1913e-06 - val_root_mean_squared_error: 0.0034 - learning_rate: 5.0000e-04\n",
            "Epoch 11/100\n",
            "\u001b[1m1295/1296\u001b[0m \u001b[32m━━━━━━━━━━━━━━━━━━━\u001b[0m\u001b[37m━\u001b[0m \u001b[1m0s\u001b[0m 48ms/step - loss: 1.5343e-04 - mae: 0.0079 - mape: 1.6015 - msle: 6.2162e-05 - root_mean_squared_error: 0.0124\n",
            "Epoch 11: val_loss did not improve from 0.00000\n",
            "\u001b[1m1296/1296\u001b[0m \u001b[32m━━━━━━━━━━━━━━━━━━━━\u001b[0m\u001b[37m\u001b[0m \u001b[1m74s\u001b[0m 57ms/step - loss: 1.5343e-04 - mae: 0.0079 - mape: 1.6015 - msle: 6.2162e-05 - root_mean_squared_error: 0.0124 - val_loss: 2.3149e-05 - val_mae: 0.0047 - val_mape: 66.9462 - val_msle: 1.5556e-05 - val_root_mean_squared_error: 0.0048 - learning_rate: 5.0000e-04\n",
            "Epoch 12/100\n",
            "\u001b[1m1295/1296\u001b[0m \u001b[32m━━━━━━━━━━━━━━━━━━━\u001b[0m\u001b[37m━\u001b[0m \u001b[1m0s\u001b[0m 48ms/step - loss: 1.5216e-04 - mae: 0.0079 - mape: 1.5921 - msle: 6.1567e-05 - root_mean_squared_error: 0.0123\n",
            "Epoch 12: val_loss improved from 0.00000 to 0.00000, saving model to GeneratedGBPUSDlstm_best.keras\n",
            "\u001b[1m1296/1296\u001b[0m \u001b[32m━━━━━━━━━━━━━━━━━━━━\u001b[0m\u001b[37m\u001b[0m \u001b[1m74s\u001b[0m 57ms/step - loss: 1.5216e-04 - mae: 0.0079 - mape: 1.5921 - msle: 6.1567e-05 - root_mean_squared_error: 0.0123 - val_loss: 1.1298e-06 - val_mae: 7.7765e-04 - val_mape: 52.4051 - val_msle: 7.4736e-07 - val_root_mean_squared_error: 0.0011 - learning_rate: 5.0000e-04\n",
            "Epoch 13/100\n",
            "\u001b[1m1295/1296\u001b[0m \u001b[32m━━━━━━━━━━━━━━━━━━━\u001b[0m\u001b[37m━\u001b[0m \u001b[1m0s\u001b[0m 48ms/step - loss: 1.5286e-04 - mae: 0.0079 - mape: 1.5986 - msle: 6.2042e-05 - root_mean_squared_error: 0.0124\n",
            "Epoch 13: ReduceLROnPlateau reducing learning rate to 0.0002500000118743628.\n",
            "\n",
            "Epoch 13: val_loss improved from 0.00000 to 0.00000, saving model to GeneratedGBPUSDlstm_best.keras\n",
            "\u001b[1m1296/1296\u001b[0m \u001b[32m━━━━━━━━━━━━━━━━━━━━\u001b[0m\u001b[37m\u001b[0m \u001b[1m74s\u001b[0m 57ms/step - loss: 1.5286e-04 - mae: 0.0079 - mape: 1.5986 - msle: 6.2042e-05 - root_mean_squared_error: 0.0124 - val_loss: 8.8003e-07 - val_mae: 6.9047e-04 - val_mape: 53.7370 - val_msle: 6.0414e-07 - val_root_mean_squared_error: 9.3810e-04 - learning_rate: 5.0000e-04\n",
            "Epoch 14/100\n",
            "\u001b[1m1296/1296\u001b[0m \u001b[32m━━━━━━━━━━━━━━━━━━━━\u001b[0m\u001b[37m\u001b[0m \u001b[1m0s\u001b[0m 48ms/step - loss: 1.4774e-04 - mae: 0.0077 - mape: 1.5486 - msle: 5.9866e-05 - root_mean_squared_error: 0.0122\n",
            "Epoch 14: val_loss did not improve from 0.00000\n",
            "\u001b[1m1296/1296\u001b[0m \u001b[32m━━━━━━━━━━━━━━━━━━━━\u001b[0m\u001b[37m\u001b[0m \u001b[1m82s\u001b[0m 57ms/step - loss: 1.4774e-04 - mae: 0.0077 - mape: 1.5486 - msle: 5.9867e-05 - root_mean_squared_error: 0.0122 - val_loss: 2.5835e-05 - val_mae: 0.0050 - val_mape: 68.1136 - val_msle: 1.7436e-05 - val_root_mean_squared_error: 0.0051 - learning_rate: 2.5000e-04\n",
            "Epoch 15/100\n",
            "\u001b[1m1296/1296\u001b[0m \u001b[32m━━━━━━━━━━━━━━━━━━━━\u001b[0m\u001b[37m\u001b[0m \u001b[1m0s\u001b[0m 48ms/step - loss: 1.5125e-04 - mae: 0.0078 - mape: 1.5806 - msle: 6.1323e-05 - root_mean_squared_error: 0.0123\n",
            "Epoch 15: val_loss did not improve from 0.00000\n",
            "\u001b[1m1296/1296\u001b[0m \u001b[32m━━━━━━━━━━━━━━━━━━━━\u001b[0m\u001b[37m\u001b[0m \u001b[1m74s\u001b[0m 57ms/step - loss: 1.5125e-04 - mae: 0.0078 - mape: 1.5806 - msle: 6.1323e-05 - root_mean_squared_error: 0.0123 - val_loss: 1.9626e-06 - val_mae: 0.0012 - val_mape: 59.8139 - val_msle: 1.3766e-06 - val_root_mean_squared_error: 0.0014 - learning_rate: 2.5000e-04\n",
            "Epoch 16/100\n",
            "\u001b[1m1295/1296\u001b[0m \u001b[32m━━━━━━━━━━━━━━━━━━━\u001b[0m\u001b[37m━\u001b[0m \u001b[1m0s\u001b[0m 48ms/step - loss: 1.4857e-04 - mae: 0.0077 - mape: 1.5577 - msle: 6.0274e-05 - root_mean_squared_error: 0.0122\n",
            "Epoch 16: val_loss did not improve from 0.00000\n",
            "\u001b[1m1296/1296\u001b[0m \u001b[32m━━━━━━━━━━━━━━━━━━━━\u001b[0m\u001b[37m\u001b[0m \u001b[1m75s\u001b[0m 58ms/step - loss: 1.4857e-04 - mae: 0.0077 - mape: 1.5577 - msle: 6.0274e-05 - root_mean_squared_error: 0.0122 - val_loss: 2.2765e-06 - val_mae: 0.0014 - val_mape: 52.1050 - val_msle: 1.5325e-06 - val_root_mean_squared_error: 0.0015 - learning_rate: 2.5000e-04\n",
            "Epoch 17/100\n",
            "\u001b[1m1295/1296\u001b[0m \u001b[32m━━━━━━━━━━━━━━━━━━━\u001b[0m\u001b[37m━\u001b[0m \u001b[1m0s\u001b[0m 50ms/step - loss: 1.4857e-04 - mae: 0.0077 - mape: 1.5581 - msle: 6.0156e-05 - root_mean_squared_error: 0.0122\n",
            "Epoch 17: val_loss did not improve from 0.00000\n",
            "\u001b[1m1296/1296\u001b[0m \u001b[32m━━━━━━━━━━━━━━━━━━━━\u001b[0m\u001b[37m\u001b[0m \u001b[1m77s\u001b[0m 59ms/step - loss: 1.4857e-04 - mae: 0.0077 - mape: 1.5581 - msle: 6.0156e-05 - root_mean_squared_error: 0.0122 - val_loss: 4.3929e-06 - val_mae: 0.0020 - val_mape: 51.5154 - val_msle: 2.9894e-06 - val_root_mean_squared_error: 0.0021 - learning_rate: 2.5000e-04\n",
            "Epoch 18/100\n",
            "\u001b[1m1295/1296\u001b[0m \u001b[32m━━━━━━━━━━━━━━━━━━━\u001b[0m\u001b[37m━\u001b[0m \u001b[1m0s\u001b[0m 48ms/step - loss: 1.4901e-04 - mae: 0.0077 - mape: 1.5641 - msle: 6.0552e-05 - root_mean_squared_error: 0.0122\n",
            "Epoch 18: val_loss did not improve from 0.00000\n",
            "\u001b[1m1296/1296\u001b[0m \u001b[32m━━━━━━━━━━━━━━━━━━━━\u001b[0m\u001b[37m\u001b[0m \u001b[1m74s\u001b[0m 57ms/step - loss: 1.4900e-04 - mae: 0.0077 - mape: 1.5641 - msle: 6.0551e-05 - root_mean_squared_error: 0.0122 - val_loss: 9.6706e-07 - val_mae: 7.8879e-04 - val_mape: 56.3773 - val_msle: 6.5679e-07 - val_root_mean_squared_error: 9.8339e-04 - learning_rate: 2.5000e-04\n",
            "Epoch 19/100\n",
            "\u001b[1m1295/1296\u001b[0m \u001b[32m━━━━━━━━━━━━━━━━━━━\u001b[0m\u001b[37m━\u001b[0m \u001b[1m0s\u001b[0m 48ms/step - loss: 1.4799e-04 - mae: 0.0077 - mape: 1.5600 - msle: 6.0055e-05 - root_mean_squared_error: 0.0122\n",
            "Epoch 19: ReduceLROnPlateau reducing learning rate to 0.0001250000059371814.\n",
            "\n",
            "Epoch 19: val_loss did not improve from 0.00000\n",
            "\u001b[1m1296/1296\u001b[0m \u001b[32m━━━━━━━━━━━━━━━━━━━━\u001b[0m\u001b[37m\u001b[0m \u001b[1m74s\u001b[0m 57ms/step - loss: 1.4799e-04 - mae: 0.0077 - mape: 1.5600 - msle: 6.0054e-05 - root_mean_squared_error: 0.0122 - val_loss: 3.9383e-05 - val_mae: 0.0061 - val_mape: 74.8983 - val_msle: 2.6909e-05 - val_root_mean_squared_error: 0.0063 - learning_rate: 2.5000e-04\n",
            "Epoch 20/100\n",
            "\u001b[1m 328/1296\u001b[0m \u001b[32m━━━━━\u001b[0m\u001b[37m━━━━━━━━━━━━━━━\u001b[0m \u001b[1m47s\u001b[0m 49ms/step - loss: 1.4671e-04 - mae: 0.0076 - mape: 1.5426 - msle: 5.9451e-05 - root_mean_squared_error: 0.0121"
          ]
        }
      ],
      "source": [
        "\n",
        "es = EarlyStopping(monitor='val_loss', patience=12, restore_best_weights=True, verbose=2)\n",
        "rlr = ReduceLROnPlateau(monitor='val_loss', factor=0.5, patience=6, min_lr=1e-6, verbose=2)\n",
        "mc = ModelCheckpoint(m_label + 'lstm_best.keras', monitor='val_loss', save_best_only=True, verbose=2)\n",
        "model.compile(optimizer=Adam(learning_rate=0.001),\n",
        "              loss='mse',\n",
        "              metrics=['mae',tf.keras.metrics.RootMeanSquaredError(),'mape','msle'])\n",
        "r = model.fit(\n",
        "  X_train, y_train,\n",
        "  validation_data=(X_val, y_val),\n",
        "  epochs=100,\n",
        "  batch_size=1024,\n",
        "  callbacks=[es, rlr, mc ],\n",
        "  verbose=1\n",
        "\n",
        ")"
      ]
    },
    {
      "cell_type": "code",
      "execution_count": null,
      "metadata": {
        "id": "gN-5WQ-M4QOP"
      },
      "outputs": [],
      "source": [
        "plt.title(\"Loss on data\")\n",
        "plt.plot(r.history['loss'], label=\"loss\")\n",
        "plt.plot(r.history['val_loss'], label=\"val_loss\")\n",
        "plt.legend()\n",
        "plt.show()\n",
        "\n",
        "plt.title(\"MAE on data\")\n",
        "plt.plot(r.history['mae'], label=\"mae\")\n",
        "plt.plot(r.history['val_mae'], label=\"val_mae\")\n",
        "plt.legend()\n",
        "plt.show()\n",
        "\n",
        "plt.title(\"mape on data\")\n",
        "plt.plot(r.history['mape'], label=\"mape\")\n",
        "plt.plot(r.history['val_mape'], label=\"val_mape\")\n",
        "plt.legend()\n",
        "plt.show()\n",
        "\n",
        "plt.title(\"msle on data\")\n",
        "plt.plot(r.history['msle'], label=\"msle\")\n",
        "plt.plot(r.history['val_msle'], label=\"val_msle\")\n",
        "plt.legend()\n",
        "plt.show()\n",
        "\n",
        "plt.title(\"root_mean_squared_error on data\")\n",
        "plt.plot(r.history['root_mean_squared_error'], label=\"root_mean_squared_error\")\n",
        "plt.plot(r.history['val_root_mean_squared_error'], label=\"val_root_mean_squared_error\")\n",
        "plt.legend()\n",
        "plt.show()\n",
        "\n",
        "\n"
      ]
    },
    {
      "cell_type": "code",
      "execution_count": null,
      "metadata": {
        "id": "gq_ghklFbKfo"
      },
      "outputs": [],
      "source": [
        "best_model = load_model(m_label + 'lstm_best.keras')\n"
      ]
    },
    {
      "cell_type": "code",
      "execution_count": null,
      "metadata": {
        "id": "nlqwzEAlbKfo"
      },
      "outputs": [],
      "source": [
        "y_pred = best_model.predict(X_test)"
      ]
    },
    {
      "cell_type": "code",
      "execution_count": null,
      "metadata": {
        "id": "sJaWHWTdbKfp"
      },
      "outputs": [],
      "source": [
        "print(y_pred.shape)"
      ]
    },
    {
      "cell_type": "code",
      "execution_count": null,
      "metadata": {
        "id": "KSyo7nJsbKfp"
      },
      "outputs": [],
      "source": [
        "_,y_test = inverse_transform_data(scaled_y=y_test)\n",
        "_,y_pred = inverse_transform_data(scaled_y=y_pred)\n",
        "print(y_test, \" comparing to \", y_pred)"
      ]
    },
    {
      "cell_type": "code",
      "execution_count": null,
      "metadata": {
        "id": "b3amOO49bKfp"
      },
      "outputs": [],
      "source": [
        "# 1. Calculate the error (the gap between actual and predicted)\n",
        "error = y_test - y_pred\n",
        "\n",
        "# 2. Calculate the average gap (the bias)\n",
        "average_gap = np.mean(error)\n",
        "print(f\"Average Gap (Bias): {average_gap:.7f}\")\n",
        "\n",
        "# 3. Add the average gap to your predictions to create a corrected version\n",
        "y_pred_corrected = y_pred + average_gap\n",
        "\n",
        "# --- Verification ---\n",
        "# Let's check the first predicted value vs. the first actual value\n",
        "print(\"\\n--- Example of Correction ---\")\n",
        "print(f\"Original Prediction: {y_pred[0, 0]:.7f}\")\n",
        "print(f\"Corrected Prediction: {y_pred_corrected[0, 0]:.7f}\")\n",
        "print(f\"Actual Value:        {y_test[0, 0]:.7f}\")"
      ]
    },
    {
      "cell_type": "code",
      "execution_count": null,
      "metadata": {
        "id": "ssFZIdC4bKfp"
      },
      "outputs": [],
      "source": [
        "print(\"R^2 value for \", m_label)\n",
        "print(r2_score(y_test, y_pred_corrected))"
      ]
    },
    {
      "cell_type": "code",
      "execution_count": null,
      "metadata": {
        "id": "Ok2GYKWsbKfp"
      },
      "outputs": [],
      "source": [
        "\n",
        "\n",
        "\n",
        "\n",
        "plt.figure(figsize=(12, 6))\n",
        "plt.plot(y_test[-50:, 0], label='Actual Close Price', color='blue')\n",
        "plt.plot(y_pred[-50:, 0], label='Predicted Close Price', color='red', linestyle='--')\n",
        "plt.plot(y_pred_corrected[-50:, 0], label='corrected Predicted Close Price', color='gray', linestyle='--')\n",
        "plt.title('Actual vs. Predicted Close Price')\n",
        "plt.xlabel('Time')\n",
        "plt.ylabel('Close Price')\n",
        "plt.legend()\n",
        "plt.grid(True)\n",
        "plt.savefig('actual_vs_predicted.png')\n",
        "plt.show()\n"
      ]
    }
  ],
  "metadata": {
    "accelerator": "GPU",
    "colab": {
      "gpuType": "T4",
      "provenance": [],
      "include_colab_link": true
    },
    "kernelspec": {
      "display_name": "Python 3",
      "name": "python3"
    },
    "language_info": {
      "codemirror_mode": {
        "name": "ipython",
        "version": 3
      },
      "file_extension": ".py",
      "mimetype": "text/x-python",
      "name": "python",
      "nbconvert_exporter": "python",
      "pygments_lexer": "ipython3",
      "version": "3.10.11"
    }
  },
  "nbformat": 4,
  "nbformat_minor": 0
}