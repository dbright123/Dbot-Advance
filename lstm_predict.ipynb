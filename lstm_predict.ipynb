{
  "cells": [
    {
      "cell_type": "markdown",
      "metadata": {
        "id": "view-in-github",
        "colab_type": "text"
      },
      "source": [
        "<a href=\"https://colab.research.google.com/github/dbright123/Dbot-Advance/blob/main/lstm_predict.ipynb\" target=\"_parent\"><img src=\"https://colab.research.google.com/assets/colab-badge.svg\" alt=\"Open In Colab\"/></a>"
      ]
    },
    {
      "cell_type": "code",
      "execution_count": null,
      "metadata": {
        "id": "Z1oCaggK4VKR"
      },
      "outputs": [],
      "source": [
        "import MetaTrader5 as mt5\n",
        "import numpy as np\n",
        "import pandas as pd\n",
        "\n",
        "\n",
        "\n"
      ]
    },
    {
      "cell_type": "code",
      "execution_count": null,
      "metadata": {
        "id": "btJoWVAx4VKS",
        "outputId": "077d53d7-b8ac-4d3c-9251-3f449e68e0f3"
      },
      "outputs": [
        {
          "name": "stdout",
          "output_type": "stream",
          "text": [
            "MetaTrader5 package author:  MetaQuotes Ltd.\n",
            "MetaTrader5 package version:  5.0.5200\n",
            "True\n",
            "{'login': 63134054, 'trade_mode': 2, 'leverage': 100, 'limit_orders': 500, 'margin_so_mode': 0, 'trade_allowed': True, 'trade_expert': True, 'margin_mode': 2, 'currency_digits': 2, 'fifo_close': False, 'balance': 56.54, 'credit': 13.06, 'profit': 0.0, 'equity': 69.6, 'margin': 0.0, 'margin_free': 69.6, 'margin_level': 0.0, 'margin_so_call': 25.0, 'margin_so_so': 15.0, 'margin_initial': 0.0, 'margin_maintenance': 0.0, 'assets': 0.0, 'liabilities': 0.0, 'commission_blocked': 0.0, 'name': 'Bright Idowu ', 'server': 'OctaFX-Real', 'currency': 'USD', 'company': 'Octa Markets Incorporated'}\n",
            "\n",
            "\n",
            "{'community_account': False, 'community_connection': False, 'connected': True, 'dlls_allowed': False, 'trade_allowed': True, 'tradeapi_disabled': False, 'email_enabled': False, 'ftp_enabled': False, 'notifications_enabled': False, 'mqid': True, 'build': 5370, 'maxbars': 100000000, 'codepage': 0, 'ping_last': 161323, 'community_balance': 0.0, 'retransmission': 2.69786228708608, 'company': 'MetaQuotes Ltd.', 'name': 'MetaTrader 5', 'language': 'English', 'path': 'C:\\\\Program Files\\\\MetaTrader 5', 'data_path': 'C:\\\\Users\\\\dbright\\\\AppData\\\\Roaming\\\\MetaQuotes\\\\Terminal\\\\D0E8209F77C8CF37AD8BF550E51FF075', 'commondata_path': 'C:\\\\Users\\\\dbright\\\\AppData\\\\Roaming\\\\MetaQuotes\\\\Terminal\\\\Common'}\n",
            "\n",
            "\n",
            "279\n"
          ]
        }
      ],
      "source": [
        "print(\"MetaTrader5 package author: \",mt5.__author__)\n",
        "print(\"MetaTrader5 package version: \",mt5.__version__)\n",
        "\n",
        "trade_active = mt5.initialize()\n",
        "\n",
        "print(trade_active)\n",
        "\n",
        "if not trade_active:\n",
        "    print('Initialization failed, check internet connection. You must have Meta Trader 5 installed.')\n",
        "    mt5.shutdown()\n",
        "\n",
        "else:\n",
        "    print(mt5.account_info()._asdict())\n",
        "    print(\"\\n\")\n",
        "    print(mt5.terminal_info()._asdict())\n",
        "    print(\"\\n\")\n",
        "    print(mt5.symbols_total())"
      ]
    },
    {
      "cell_type": "code",
      "execution_count": null,
      "metadata": {
        "id": "ep9xWhDh4VKU",
        "outputId": "31c79ec1-fd31-4335-d881-2db8f23fed61"
      },
      "outputs": [
        {
          "name": "stdout",
          "output_type": "stream",
          "text": [
            "69.6\n",
            "AI is successfully functional\n"
          ]
        }
      ],
      "source": [
        "account = mt5.account_info()\n",
        "terminal = mt5.terminal_info()\n",
        "\n",
        "print(account.equity)\n",
        "\n",
        "if(terminal.connected == True or terminal.trade_allowed == True):\n",
        "    print(\"AI is successfully functional\")\n",
        "else:\n",
        "    print(\"Please make sure metatrade 5 has internet and algo Trade is Turn On\")"
      ]
    },
    {
      "cell_type": "code",
      "execution_count": null,
      "metadata": {
        "id": "Cm6_C7cwJaFl",
        "outputId": "14ed083f-33ea-49ce-81da-0259753f3a03"
      },
      "outputs": [
        {
          "name": "stdout",
          "output_type": "stream",
          "text": [
            "279\n",
            "Yes  EURUSD\n",
            "Yes  GBPUSD\n",
            "Yes  USDJPY\n",
            "Yes  USDCHF\n",
            "Yes  AUDUSD\n",
            "Yes  NZDUSD\n",
            "Yes  USDCAD\n",
            "Yes  USDMXN\n",
            "Yes  USDZAR\n",
            "Yes  XAGUSD\n",
            "Yes  XAUUSD\n",
            "Yes  XBRUSD\n",
            "Yes  XTIUSD\n",
            "Yes  XNGUSD\n",
            "Yes  AUS200\n",
            "Yes  EUSTX50\n",
            "Yes  US30\n",
            "Yes  BTCUSD\n",
            "Yes  ETHUSD\n",
            "Yes  LTCUSD\n",
            "Yes  XRPUSD\n",
            "Yes  BCHUSD\n",
            "Yes  AAVEUSD\n",
            "Yes  ADAUSD\n",
            "Yes  ALGOUSD\n",
            "Yes  ATOMUSD\n",
            "Yes  AVAXUSD\n",
            "Yes  AXSUSD\n",
            "Yes  BNBUSD\n",
            "Yes  DASHUSD\n",
            "Yes  DOGEUSD\n",
            "Yes  DOTUSD\n",
            "Yes  FILUSD\n",
            "Yes  GRTUSD\n",
            "Yes  ICPUSD\n",
            "Yes  IOTAUSD\n",
            "Yes  LINKUSD\n",
            "Yes  LRCUSD\n",
            "Yes  MANAUSD\n",
            "Yes  NEARUSD\n",
            "Yes  SOLUSD\n",
            "Yes  UNIUSD\n",
            "Yes  ZECUSD\n",
            "Yes  ETCUSD\n",
            "Yes  TRXUSD\n",
            "Yes  FETUSD\n",
            "Yes  ARBUSD\n",
            "Yes  APTUSD\n",
            "Yes  SUIUSD\n",
            "Yes  TMUS.NAS\n",
            "Yes  USDCNH\n",
            "Yes  USDCZK\n",
            "Yes  USDDKK\n",
            "Yes  USDHKD\n",
            "Yes  USDHUF\n",
            "Yes  USDNOK\n",
            "Yes  USDPLN\n",
            "Yes  USDSEK\n",
            "Yes  USDSGD\n",
            "Yes  USDTRY\n",
            "Yes  US30.Daily\n",
            "Yes  XBRUSD.Daily\n",
            "Yes  XTIUSD.Daily\n",
            "Yes  BTCUSD.Daily\n",
            "Yes  ETHUSD.Daily\n",
            "Yes  XRPUSD.Daily\n",
            "Yes  LTCUSD.Daily\n",
            "Yes  BCHUSD.Daily\n",
            "Yes  LINKUSD.Daily\n",
            "Yes  SOLUSD.Daily\n",
            "70\n"
          ]
        }
      ],
      "source": [
        "symbols = mt5.symbols_get()\n",
        "print(len(symbols))\n",
        "t_symbol = []\n",
        "for symbol in symbols:\n",
        "    if \"US\" in symbol.name:\n",
        "        print(\"Yes \", symbol.name)\n",
        "        t_symbol.append(symbol.name)\n",
        "\n",
        "print(len(t_symbol))"
      ]
    },
    {
      "cell_type": "code",
      "execution_count": null,
      "metadata": {
        "id": "S9rw9k_WbKfm",
        "outputId": "eb70bbd8-c5f8-4f29-94b8-4697f9acd144"
      },
      "outputs": [
        {
          "data": {
            "text/plain": [
              "array([(1451901600, 17258. , 17271. , 17221. , 17225. , 190,  0, 0),\n",
              "       (1451902500, 17225. , 17245. , 17223. , 17239. , 161,  0, 0),\n",
              "       (1451903400, 17239. , 17239. , 17201. , 17215. , 156,  0, 0), ...,\n",
              "       (1760940900, 46298.1, 46302.3, 46293.1, 46296.1, 138, 55, 0),\n",
              "       (1760941800, 46297.1, 46312.6, 46291.3, 46310.1, 235, 55, 0),\n",
              "       (1760942700, 46311.1, 46341.3, 46310.3, 46324.3, 297, 55, 0)],\n",
              "      dtype=[('time', '<i8'), ('open', '<f8'), ('high', '<f8'), ('low', '<f8'), ('close', '<f8'), ('tick_volume', '<u8'), ('spread', '<i4'), ('real_volume', '<u8')])"
            ]
          },
          "metadata": {},
          "output_type": "display_data"
        },
        {
          "name": "stdout",
          "output_type": "stream",
          "text": [
            "(223826,)\n",
            "US30\n"
          ]
        }
      ],
      "source": [
        "t_s = \"US30\"\n",
        "market = mt5.copy_rates_from_pos(t_s, mt5.TIMEFRAME_M15, 0, 10000000)\n",
        "display(market)\n",
        "print(market.shape)\n",
        "\n",
        "print(t_s)\n",
        "\n",
        "\n"
      ]
    },
    {
      "cell_type": "code",
      "execution_count": null,
      "metadata": {
        "id": "EzfEfHeTzI4A"
      },
      "outputs": [],
      "source": [
        "data = []\n",
        "for i in range(len(market)):\n",
        "    data.append([market[i][1],market[i][2],market[i][3],market[i][4],market[i][5]])\n",
        "df = pd.DataFrame(data, columns=[\"open\", \"high\",\"low\", \"close\", \"volume\"])\n",
        "df.to_csv(\"Generated\"+t_s+\" dbot.csv\", index=False)"
      ]
    },
    {
      "cell_type": "code",
      "execution_count": 1,
      "metadata": {
        "colab": {
          "base_uri": "https://localhost:8080/"
        },
        "id": "M8QyUXsy4op6",
        "outputId": "29dae8d5-dbfe-4151-a484-ea8e541de199"
      },
      "outputs": [
        {
          "output_type": "stream",
          "name": "stdout",
          "text": [
            "2.19.0\n"
          ]
        }
      ],
      "source": [
        "import numpy as np # linear algebra\n",
        "import pandas as pd # data processing, CSV file I/O (e.g. pd.read_csv)\n",
        "import tensorflow as tf\n",
        "print(tf.__version__)\n"
      ]
    },
    {
      "cell_type": "code",
      "execution_count": 2,
      "metadata": {
        "id": "PqACycZPJaFn",
        "colab": {
          "base_uri": "https://localhost:8080/",
          "height": 366
        },
        "outputId": "22b4909b-9c74-41af-92a9-8904706cb362"
      },
      "outputs": [
        {
          "output_type": "error",
          "ename": "ModuleNotFoundError",
          "evalue": "No module named 'scaler3d2d'",
          "traceback": [
            "\u001b[0;31m---------------------------------------------------------------------------\u001b[0m",
            "\u001b[0;31mModuleNotFoundError\u001b[0m                       Traceback (most recent call last)",
            "\u001b[0;32m/tmp/ipython-input-3230214972.py\u001b[0m in \u001b[0;36m<cell line: 0>\u001b[0;34m()\u001b[0m\n\u001b[1;32m      6\u001b[0m \u001b[0;32mimport\u001b[0m \u001b[0mnumpy\u001b[0m \u001b[0;32mas\u001b[0m \u001b[0mnp\u001b[0m\u001b[0;34m\u001b[0m\u001b[0;34m\u001b[0m\u001b[0m\n\u001b[1;32m      7\u001b[0m \u001b[0;32mfrom\u001b[0m \u001b[0msklearn\u001b[0m\u001b[0;34m.\u001b[0m\u001b[0mpreprocessing\u001b[0m \u001b[0;32mimport\u001b[0m \u001b[0mMinMaxScaler\u001b[0m\u001b[0;34m\u001b[0m\u001b[0;34m\u001b[0m\u001b[0m\n\u001b[0;32m----> 8\u001b[0;31m \u001b[0;32mfrom\u001b[0m \u001b[0mscaler3d2d\u001b[0m \u001b[0;32mimport\u001b[0m \u001b[0mpreprocess_and_save_scalers\u001b[0m\u001b[0;34m,\u001b[0m\u001b[0mtransform_data\u001b[0m\u001b[0;34m,\u001b[0m \u001b[0minverse_transform_data\u001b[0m\u001b[0;34m,\u001b[0m\u001b[0mcreate_sequences\u001b[0m\u001b[0;34m\u001b[0m\u001b[0;34m\u001b[0m\u001b[0m\n\u001b[0m\u001b[1;32m      9\u001b[0m \u001b[0;34m\u001b[0m\u001b[0m\n",
            "\u001b[0;31mModuleNotFoundError\u001b[0m: No module named 'scaler3d2d'",
            "",
            "\u001b[0;31m---------------------------------------------------------------------------\u001b[0;32m\nNOTE: If your import is failing due to a missing package, you can\nmanually install dependencies using either !pip or !apt.\n\nTo view examples of installing some common dependencies, click the\n\"Open Examples\" button below.\n\u001b[0;31m---------------------------------------------------------------------------\u001b[0m\n"
          ],
          "errorDetails": {
            "actions": [
              {
                "action": "open_url",
                "actionText": "Open Examples",
                "url": "/notebooks/snippets/importing_libraries.ipynb"
              }
            ]
          }
        }
      ],
      "source": [
        "from sklearn.preprocessing import MinMaxScaler, StandardScaler\n",
        "from sklearn.metrics import mean_squared_error, mean_absolute_error\n",
        "import joblib\n",
        "import os\n",
        "from sklearn.model_selection import train_test_split\n",
        "import numpy as np\n",
        "from sklearn.preprocessing import MinMaxScaler\n",
        "from scaler3d2d import preprocess_and_save_scalers,transform_data, inverse_transform_data,create_sequences\n",
        "\n"
      ]
    },
    {
      "cell_type": "code",
      "execution_count": null,
      "metadata": {
        "id": "tpswK5-7JaFo"
      },
      "outputs": [],
      "source": [
        "from tensorflow.keras.optimizers import SGD,Adam\n",
        "import matplotlib.pyplot as plt\n",
        "\n",
        "\n",
        "\n",
        "from tensorflow.keras import Model\n",
        "from tensorflow.keras.layers import Input, LSTM, Dense, Dropout, BatchNormalization, LayerNormalization, Bidirectional\n",
        "from tensorflow.keras.callbacks import EarlyStopping, ReduceLROnPlateau, ModelCheckpoint\n",
        "\n",
        "from sklearn.metrics import r2_score\n",
        "from tensorflow.keras.models import load_model\n",
        "import keras"
      ]
    },
    {
      "cell_type": "code",
      "execution_count": null,
      "metadata": {
        "id": "UC2tpiHOpgVu"
      },
      "outputs": [],
      "source": [
        "t_symbol = [\"US30\"]"
      ]
    },
    {
      "cell_type": "code",
      "execution_count": null,
      "metadata": {
        "id": "NWXhyS91bKfn"
      },
      "outputs": [],
      "source": [
        "\n",
        "\n",
        "def engineer_features_5min_btc(df):\n",
        "    \"\"\"\n",
        "    Input: df with columns ['timestamp', 'open', 'high', 'low', 'close', 'volume']\n",
        "    Output: df with 68 features\n",
        "    \"\"\"\n",
        "\n",
        "    # GROUP 1: Core Price Features\n",
        "    df['typical_price'] = (df['high'] + df['low'] + df['close']) / 3\n",
        "    df['weighted_close'] = (df['high'] + df['low'] + 2*df['close']) / 4\n",
        "    df['hl_range'] = df['high'] - df['low']\n",
        "    df['body_size'] = abs(df['close'] - df['open'])\n",
        "    df['upper_wick'] = df['high'] - df[['open', 'close']].max(axis=1)\n",
        "    df['lower_wick'] = df[['open', 'close']].min(axis=1) - df['low']\n",
        "\n",
        "    return df\n",
        "\n",
        "# Usage:\n",
        "# df = pd.read_csv('btcusd_5min.csv')\n",
        "# df = engineer_features_5min_btc(df)"
      ]
    },
    {
      "cell_type": "code",
      "execution_count": null,
      "metadata": {
        "id": "p5vJpq3AbKfo"
      },
      "outputs": [],
      "source": [
        "n = 0\n",
        "m_label = \"Generated\"+t_symbol[n]\n",
        "train_df = pd.read_csv(t_symbol[n])\n",
        "train_df = engineer_features_5min_btc(train_df)"
      ]
    },
    {
      "cell_type": "code",
      "execution_count": null,
      "metadata": {
        "id": "IW84qQV4bKfo"
      },
      "outputs": [],
      "source": [
        "display(train_df)"
      ]
    },
    {
      "cell_type": "code",
      "execution_count": null,
      "metadata": {
        "id": "FgfuQq2n2yc1"
      },
      "outputs": [],
      "source": [
        "\n",
        "#train_df_test = train_dfs_test[n]\n",
        "print(m_label)\n",
        "SEQ_LEN = 90 # length of input sequence (timesteps). Typical choices: 30, 60, 90\n",
        "n_rows, n_features = train_df.values.shape\n",
        "\n",
        "X, y = create_sequences(train_df.values, SEQ_LEN, 1, 3)  # X: (n_samples, SEQ_LEN, n_features), y: (n_samples, n_features)\n",
        "\n",
        "n_samples = X.shape[0]\n",
        "#print(X[-1])\n",
        "print(y[-1])"
      ]
    },
    {
      "cell_type": "code",
      "execution_count": null,
      "metadata": {
        "id": "rsrSNZt8bKfo"
      },
      "outputs": [],
      "source": [
        "print(X[-1])"
      ]
    },
    {
      "cell_type": "code",
      "execution_count": null,
      "metadata": {
        "id": "ZmhqTdKdbKfo"
      },
      "outputs": [],
      "source": [
        "X, y = preprocess_and_save_scalers(X, y)\n"
      ]
    },
    {
      "cell_type": "code",
      "execution_count": null,
      "metadata": {
        "id": "5j_wkyXD5s_s"
      },
      "outputs": [],
      "source": [
        "X_train, X_test, y_train, y_test = train_test_split(X, y, test_size=0.33, random_state=0, shuffle=False)\n",
        "X_val, X_test, y_val,  y_test = train_test_split(X_test, y_test, test_size=0.01, random_state=0, shuffle=False)\n",
        "\n",
        "seq_len = X_train.shape[1]\n",
        "n_features = X_train.shape[2]\n",
        "output_dim = y_train.shape[1]\n",
        "\n",
        "i = Input(shape=(seq_len, n_features))\n",
        "X = Bidirectional(LSTM(50, return_sequences=True))(i)\n",
        "X = Bidirectional(LSTM(50, return_sequences=True))(X)\n",
        "X = Bidirectional(LSTM(50, return_sequences=True))(X)\n",
        "X = Bidirectional(LSTM(50))(X)\n",
        "#X = Dropout(0.5)(X)\n",
        "X = Dense(150, activation=\"relu\")(X)\n",
        "X = Dropout(0.25)(X)\n",
        "X = Dense(output_dim)(X)\n",
        "\n",
        "model = Model(i, X)\n",
        "model.summary()\n"
      ]
    },
    {
      "cell_type": "code",
      "execution_count": null,
      "metadata": {
        "id": "_ou0YHmXzI4D"
      },
      "outputs": [],
      "source": [
        "\n",
        "es = EarlyStopping(monitor='val_loss', patience=12, restore_best_weights=True, verbose=2)\n",
        "rlr = ReduceLROnPlateau(monitor='val_loss', factor=0.5, patience=6, min_lr=1e-6, verbose=2)\n",
        "mc = ModelCheckpoint(m_label + 'lstm_best.keras', monitor='val_loss', save_best_only=True, verbose=2)\n",
        "model.compile(optimizer=Adam(learning_rate=0.001),\n",
        "              loss='mse',\n",
        "              metrics=['mae',tf.keras.metrics.RootMeanSquaredError(),'mape','msle'])\n",
        "r = model.fit(\n",
        "  X_train, y_train,\n",
        "  validation_data=(X_val, y_val),\n",
        "  epochs=100,\n",
        "  #batch_size=2048,\n",
        "  callbacks=[es, rlr, mc ],\n",
        "  verbose=1\n",
        "\n",
        ")"
      ]
    },
    {
      "cell_type": "code",
      "execution_count": null,
      "metadata": {
        "id": "gN-5WQ-M4QOP"
      },
      "outputs": [],
      "source": [
        "plt.title(\"Loss on data\")\n",
        "plt.plot(r.history['loss'], label=\"loss\")\n",
        "plt.plot(r.history['val_loss'], label=\"val_loss\")\n",
        "plt.legend()\n",
        "plt.show()\n",
        "\n",
        "plt.title(\"MAE on data\")\n",
        "plt.plot(r.history['mae'], label=\"mae\")\n",
        "plt.plot(r.history['val_mae'], label=\"val_mae\")\n",
        "plt.legend()\n",
        "plt.show()\n",
        "\n",
        "plt.title(\"mape on data\")\n",
        "plt.plot(r.history['mape'], label=\"mape\")\n",
        "plt.plot(r.history['val_mape'], label=\"val_mape\")\n",
        "plt.legend()\n",
        "plt.show()\n",
        "\n",
        "plt.title(\"msle on data\")\n",
        "plt.plot(r.history['msle'], label=\"msle\")\n",
        "plt.plot(r.history['val_msle'], label=\"val_msle\")\n",
        "plt.legend()\n",
        "plt.show()\n",
        "\n",
        "plt.title(\"root_mean_squared_error on data\")\n",
        "plt.plot(r.history['root_mean_squared_error'], label=\"root_mean_squared_error\")\n",
        "plt.plot(r.history['val_root_mean_squared_error'], label=\"val_root_mean_squared_error\")\n",
        "plt.legend()\n",
        "plt.show()\n",
        "\n",
        "\n"
      ]
    },
    {
      "cell_type": "code",
      "execution_count": null,
      "metadata": {
        "id": "gq_ghklFbKfo"
      },
      "outputs": [],
      "source": [
        "best_model = load_model(m_label + 'lstm_best.keras')\n"
      ]
    },
    {
      "cell_type": "code",
      "execution_count": null,
      "metadata": {
        "id": "nlqwzEAlbKfo"
      },
      "outputs": [],
      "source": [
        "y_pred = best_model.predict(X_test)"
      ]
    },
    {
      "cell_type": "code",
      "execution_count": null,
      "metadata": {
        "id": "sJaWHWTdbKfp"
      },
      "outputs": [],
      "source": [
        "print(y_pred.shape)"
      ]
    },
    {
      "cell_type": "code",
      "execution_count": null,
      "metadata": {
        "id": "KSyo7nJsbKfp"
      },
      "outputs": [],
      "source": [
        "_,y_test = inverse_transform_data(scaled_y=y_test)\n",
        "_,y_pred = inverse_transform_data(scaled_y=y_pred)\n",
        "print(y_test, \" comparing to \", y_pred)"
      ]
    },
    {
      "cell_type": "code",
      "execution_count": null,
      "metadata": {
        "id": "b3amOO49bKfp"
      },
      "outputs": [],
      "source": [
        "# 1. Calculate the error (the gap between actual and predicted)\n",
        "error = y_test - y_pred\n",
        "\n",
        "# 2. Calculate the average gap (the bias)\n",
        "average_gap = np.mean(error)\n",
        "print(f\"Average Gap (Bias): {average_gap:.7f}\")\n",
        "\n",
        "# 3. Add the average gap to your predictions to create a corrected version\n",
        "y_pred_corrected = y_pred + average_gap\n",
        "\n",
        "# --- Verification ---\n",
        "# Let's check the first predicted value vs. the first actual value\n",
        "print(\"\\n--- Example of Correction ---\")\n",
        "print(f\"Original Prediction: {y_pred[0, 0]:.7f}\")\n",
        "print(f\"Corrected Prediction: {y_pred_corrected[0, 0]:.7f}\")\n",
        "print(f\"Actual Value:        {y_test[0, 0]:.7f}\")"
      ]
    },
    {
      "cell_type": "code",
      "execution_count": null,
      "metadata": {
        "id": "ssFZIdC4bKfp"
      },
      "outputs": [],
      "source": [
        "print(\"R^2 value for \", m_label)\n",
        "print(r2_score(y_test, y_pred_corrected))"
      ]
    },
    {
      "cell_type": "code",
      "execution_count": null,
      "metadata": {
        "id": "Ok2GYKWsbKfp"
      },
      "outputs": [],
      "source": [
        "\n",
        "\n",
        "\n",
        "\n",
        "plt.figure(figsize=(12, 6))\n",
        "plt.plot(y_test[-50:, 0], label='Actual Close Price', color='blue')\n",
        "plt.plot(y_pred[-50:, 0], label='Predicted Close Price', color='red', linestyle='--')\n",
        "plt.plot(y_pred_corrected[-50:, 0], label='corrected Predicted Close Price', color='gray', linestyle='--')\n",
        "plt.title('Actual vs. Predicted Close Price')\n",
        "plt.xlabel('Time')\n",
        "plt.ylabel('Close Price')\n",
        "plt.legend()\n",
        "plt.grid(True)\n",
        "plt.savefig('actual_vs_predicted.png')\n",
        "plt.show()\n"
      ]
    }
  ],
  "metadata": {
    "accelerator": "GPU",
    "colab": {
      "gpuType": "T4",
      "provenance": [],
      "include_colab_link": true
    },
    "kernelspec": {
      "display_name": "Python 3",
      "name": "python3"
    },
    "language_info": {
      "codemirror_mode": {
        "name": "ipython",
        "version": 3
      },
      "file_extension": ".py",
      "mimetype": "text/x-python",
      "name": "python",
      "nbconvert_exporter": "python",
      "pygments_lexer": "ipython3",
      "version": "3.10.11"
    }
  },
  "nbformat": 4,
  "nbformat_minor": 0
}