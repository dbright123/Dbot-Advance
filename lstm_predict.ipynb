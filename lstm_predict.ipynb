{
  "cells": [
    {
      "cell_type": "markdown",
      "metadata": {
        "colab_type": "text",
        "id": "view-in-github"
      },
      "source": [
        "<a href=\"https://colab.research.google.com/github/dbright123/Dbot-Advance/blob/main/lstm_predict.ipynb\" target=\"_parent\"><img src=\"https://colab.research.google.com/assets/colab-badge.svg\" alt=\"Open In Colab\"/></a>"
      ]
    },
    {
      "cell_type": "code",
      "execution_count": 1,
      "metadata": {
        "id": "Z1oCaggK4VKR"
      },
      "outputs": [],
      "source": [
        "import MetaTrader5 as mt5\n",
        "import numpy as np\n",
        "import pandas as pd\n",
        "\n",
        "\n",
        "\n"
      ]
    },
    {
      "cell_type": "code",
      "execution_count": 2,
      "metadata": {
        "id": "btJoWVAx4VKS",
        "outputId": "077d53d7-b8ac-4d3c-9251-3f449e68e0f3"
      },
      "outputs": [
        {
          "name": "stdout",
          "output_type": "stream",
          "text": [
            "MetaTrader5 package author:  MetaQuotes Ltd.\n",
            "MetaTrader5 package version:  5.0.4200\n",
            "True\n",
            "{'login': 213644473, 'trade_mode': 0, 'leverage': 1000, 'limit_orders': 500, 'margin_so_mode': 0, 'trade_allowed': True, 'trade_expert': True, 'margin_mode': 2, 'currency_digits': 2, 'fifo_close': False, 'balance': 200.0, 'credit': 0.0, 'profit': 0.0, 'equity': 200.0, 'margin': 0.0, 'margin_free': 200.0, 'margin_level': 0.0, 'margin_so_call': 25.0, 'margin_so_so': 15.0, 'margin_initial': 0.0, 'margin_maintenance': 0.0, 'assets': 0.0, 'liabilities': 0.0, 'commission_blocked': 0.0, 'name': 'micheal bright omage ', 'server': 'OctaFX-Demo', 'currency': 'USD', 'company': 'Octa Markets Incorporated'}\n",
            "\n",
            "\n",
            "{'community_account': False, 'community_connection': False, 'connected': True, 'dlls_allowed': False, 'trade_allowed': False, 'tradeapi_disabled': False, 'email_enabled': False, 'ftp_enabled': False, 'notifications_enabled': False, 'mqid': False, 'build': 5327, 'maxbars': 100000, 'codepage': 0, 'ping_last': 118649, 'community_balance': 0.0, 'retransmission': 0.0, 'company': 'MetaQuotes Software Corp.', 'name': 'MetaTrader 5', 'language': 'English', 'path': 'C:\\\\Program Files\\\\MetaTrader 5', 'data_path': 'C:\\\\Program Files\\\\MetaTrader 5', 'commondata_path': 'C:\\\\Users\\\\omage\\\\AppData\\\\Roaming\\\\MetaQuotes\\\\Terminal\\\\Common'}\n",
            "\n",
            "\n",
            "280\n"
          ]
        }
      ],
      "source": [
        "print(\"MetaTrader5 package author: \",mt5.__author__)\n",
        "print(\"MetaTrader5 package version: \",mt5.__version__)\n",
        "\n",
        "trade_active = mt5.initialize()\n",
        "\n",
        "print(trade_active)\n",
        "\n",
        "if not trade_active:\n",
        "    print('Initialization failed, check internet connection. You must have Meta Trader 5 installed.')\n",
        "    mt5.shutdown()\n",
        "\n",
        "else:\n",
        "    print(mt5.account_info()._asdict())\n",
        "    print(\"\\n\")\n",
        "    print(mt5.terminal_info()._asdict())\n",
        "    print(\"\\n\")\n",
        "    print(mt5.symbols_total())"
      ]
    },
    {
      "cell_type": "code",
      "execution_count": 3,
      "metadata": {
        "id": "ep9xWhDh4VKU",
        "outputId": "31c79ec1-fd31-4335-d881-2db8f23fed61"
      },
      "outputs": [
        {
          "name": "stdout",
          "output_type": "stream",
          "text": [
            "200.0\n",
            "AI is successfully functional\n"
          ]
        }
      ],
      "source": [
        "account = mt5.account_info()\n",
        "terminal = mt5.terminal_info()\n",
        "\n",
        "print(account.equity)\n",
        "\n",
        "if(terminal.connected == True or terminal.trade_allowed == True):\n",
        "    print(\"AI is successfully functional\")\n",
        "else:\n",
        "    print(\"Please make sure metatrade 5 has internet and algo Trade is Turn On\")"
      ]
    },
    {
      "cell_type": "code",
      "execution_count": 4,
      "metadata": {
        "id": "Cm6_C7cwJaFl",
        "outputId": "14ed083f-33ea-49ce-81da-0259753f3a03"
      },
      "outputs": [
        {
          "name": "stdout",
          "output_type": "stream",
          "text": [
            "280\n",
            "Yes  EURUSD\n",
            "Yes  GBPUSD\n",
            "Yes  USDJPY\n",
            "Yes  USDCHF\n",
            "Yes  AUDUSD\n",
            "Yes  NZDUSD\n",
            "Yes  USDCAD\n",
            "Yes  USDMXN\n",
            "Yes  USDZAR\n",
            "Yes  XAGUSD\n",
            "Yes  XAUUSD\n",
            "Yes  XBRUSD\n",
            "Yes  XTIUSD\n",
            "Yes  XNGUSD\n",
            "Yes  BTCUSD\n",
            "Yes  ETHUSD\n",
            "Yes  LTCUSD\n",
            "Yes  XRPUSD\n",
            "Yes  BCHUSD\n",
            "Yes  AAVEUSD\n",
            "Yes  ADAUSD\n",
            "Yes  ALGOUSD\n",
            "Yes  ATOMUSD\n",
            "Yes  AVAXUSD\n",
            "Yes  AXSUSD\n",
            "Yes  BNBUSD\n",
            "Yes  DASHUSD\n",
            "Yes  DOGEUSD\n",
            "Yes  DOTUSD\n",
            "Yes  FILUSD\n",
            "Yes  GRTUSD\n",
            "Yes  ICPUSD\n",
            "Yes  IOTAUSD\n",
            "Yes  LINKUSD\n",
            "Yes  LRCUSD\n",
            "Yes  MANAUSD\n",
            "Yes  NEARUSD\n",
            "Yes  SOLUSD\n",
            "Yes  UNIUSD\n",
            "Yes  ZECUSD\n",
            "Yes  ETCUSD\n",
            "Yes  TRXUSD\n",
            "Yes  FETUSD\n",
            "Yes  ARBUSD\n",
            "Yes  APTUSD\n",
            "Yes  SUIUSD\n",
            "Yes  USDDKK\n",
            "Yes  USDCZK\n",
            "Yes  USDHUF\n",
            "Yes  USDNOK\n",
            "Yes  USDPLN\n",
            "Yes  USDSEK\n",
            "Yes  USDSGD\n",
            "Yes  USDHKD\n",
            "Yes  USDCNH\n",
            "Yes  USDTRY\n",
            "Yes  XBRUSD.Daily\n",
            "Yes  XTIUSD.Daily\n",
            "Yes  BTCUSD.Daily\n",
            "Yes  ETHUSD.Daily\n",
            "Yes  XRPUSD.Daily\n",
            "Yes  LTCUSD.Daily\n",
            "Yes  BCHUSD.Daily\n",
            "Yes  LINKUSD.Daily\n",
            "Yes  SOLUSD.Daily\n",
            "65\n"
          ]
        }
      ],
      "source": [
        "symbols = mt5.symbols_get()\n",
        "print(len(symbols))\n",
        "t_symbol = []\n",
        "for symbol in symbols:\n",
        "    if \"USD\" in symbol.name:\n",
        "        print(\"Yes \", symbol.name)\n",
        "        t_symbol.append(symbol.name)\n",
        "\n",
        "print(len(t_symbol))"
      ]
    },
    {
      "cell_type": "code",
      "execution_count": null,
      "metadata": {
        "id": "v4Nye5Nj2DGW",
        "outputId": "0dec2b90-1041-4a82-ca35-4016bfbf33f0"
      },
      "outputs": [
        {
          "data": {
            "text/plain": [
              "array([(1251374400, 1.42654, 1.4275 , 1.42551, 1.42554, 2320, 20, 0),\n",
              "       (1251378000, 1.4255 , 1.42816, 1.4254 , 1.42773, 2302, 20, 0),\n",
              "       (1251381600, 1.42774, 1.42818, 1.42469, 1.4256 , 3678, 20, 0), ...,\n",
              "       (1759525200, 1.17335, 1.17399, 1.17265, 1.17393, 2009,  8, 0),\n",
              "       (1759528800, 1.1739 , 1.17418, 1.17369, 1.17405, 1529,  8, 0),\n",
              "       (1759532400, 1.17408, 1.17444, 1.1738 , 1.1738 , 1423,  8, 0)],\n",
              "      dtype=[('time', '<i8'), ('open', '<f8'), ('high', '<f8'), ('low', '<f8'), ('close', '<f8'), ('tick_volume', '<u8'), ('spread', '<i4'), ('real_volume', '<u8')])"
            ]
          },
          "metadata": {},
          "output_type": "display_data"
        }
      ],
      "source": [
        "market = mt5.copy_rates_from_pos(t_symbol[0], mt5.TIMEFRAME_H1, 0, 99999)\n",
        "display(market)"
      ]
    },
    {
      "cell_type": "code",
      "execution_count": 5,
      "metadata": {
        "id": "PT_T7TBpJaFl"
      },
      "outputs": [],
      "source": [
        "test_symbol = []\n",
        "for t_s in t_symbol:\n",
        "    market = mt5.copy_rates_from_pos(t_s, mt5.TIMEFRAME_H1, 0, 99999)\n",
        "    if(len(market) > 80000 and market[0][4] < 1):\n",
        "        data = []\n",
        "        for i in range(len(market)):\n",
        "            data.append([market[i][1],market[i][2],market[i][3],market[i][4]])\n",
        "        df = pd.DataFrame(data, columns=[\"open\", \"high\",\"low\", \"close\"])\n",
        "        df.to_csv(\"Generated\"+t_s+\" dbot.csv\", index=False)\n",
        "        test_symbol.append(t_s)\n"
      ]
    },
    {
      "cell_type": "code",
      "execution_count": 6,
      "metadata": {
        "id": "b4CF7z2N8h2S"
      },
      "outputs": [],
      "source": [
        "\n",
        "for t_s in test_symbol:\n",
        "    market = mt5.copy_rates_from_pos(t_s, mt5.TIMEFRAME_D1, 0, 1000)\n",
        "    if(len(market) > 900):\n",
        "        data = []\n",
        "        for i in range(len(market)):\n",
        "            data.append([market[i][1],market[i][2],market[i][3],market[i][4]])\n",
        "        df = pd.DataFrame(data, columns=[\"open\", \"high\",\"low\", \"close\"])\n",
        "        df.to_csv(\"Generated\"+t_s+\" test.csv\", index=False)\n",
        "\n"
      ]
    },
    {
      "cell_type": "code",
      "execution_count": null,
      "metadata": {
        "id": "hjdWs03YJaFm",
        "outputId": "65b3d587-0c44-45ea-8550-33b17d991ad6"
      },
      "outputs": [
        {
          "data": {
            "text/plain": [
              "['symbol.joblib']"
            ]
          },
          "execution_count": 15,
          "metadata": {},
          "output_type": "execute_result"
        }
      ],
      "source": [
        "import joblib\n",
        "\n",
        "joblib.dump(t_symbol,\"symbol.joblib\")"
      ]
    },
    {
      "cell_type": "code",
      "execution_count": 1,
      "metadata": {
        "id": "M8QyUXsy4op6"
      },
      "outputs": [
        {
          "name": "stdout",
          "output_type": "stream",
          "text": [
            "2.10.1\n"
          ]
        }
      ],
      "source": [
        "import numpy as np # linear algebra\n",
        "import pandas as pd # data processing, CSV file I/O (e.g. pd.read_csv)\n",
        "import tensorflow as tf\n",
        "print(tf.__version__)\n"
      ]
    },
    {
      "cell_type": "code",
      "execution_count": 2,
      "metadata": {
        "id": "PqACycZPJaFn"
      },
      "outputs": [],
      "source": [
        "from sklearn.preprocessing import MinMaxScaler, StandardScaler\n",
        "from sklearn.metrics import mean_squared_error, mean_absolute_error\n",
        "import math\n",
        "import joblib\n",
        "import os\n",
        "from sklearn.model_selection import train_test_split"
      ]
    },
    {
      "cell_type": "code",
      "execution_count": 8,
      "metadata": {
        "id": "tpswK5-7JaFo"
      },
      "outputs": [],
      "source": [
        "from tensorflow.keras.optimizers import SGD,Adam\n",
        "import matplotlib.pyplot as plt\n",
        "\n",
        "\n",
        "\n",
        "from tensorflow.keras import Model\n",
        "from tensorflow.keras.layers import Input, LSTM, Dense, Dropout, BatchNormalization, LayerNormalization, Bidirectional\n",
        "from tensorflow.keras.callbacks import EarlyStopping, ReduceLROnPlateau, ModelCheckpoint\n",
        "\n",
        "from sklearn.metrics import r2_score\n",
        "from tensorflow.keras.models import load_model\n",
        "import keras"
      ]
    },
    {
      "cell_type": "code",
      "execution_count": 7,
      "metadata": {
        "id": "e5GJ3N6HJaFo"
      },
      "outputs": [],
      "source": [
        "# Get the list of all files and directories in the specified path\n",
        "\n",
        "dir_contents = os.listdir(\".\")\n",
        "t_symbol = joblib.load(\"symbol.joblib\")"
      ]
    },
    {
      "cell_type": "code",
      "execution_count": 19,
      "metadata": {
        "colab": {
          "base_uri": "https://localhost:8080/"
        },
        "id": "G82RO07oi6t1",
        "outputId": "679b1771-f61c-499c-811d-b960d68c7a8d"
      },
      "outputs": [
        {
          "name": "stdout",
          "output_type": "stream",
          "text": [
            "['EURUSD', 'GBPUSD', 'USDJPY', 'USDCHF', 'AUDUSD', 'NZDUSD', 'USDCAD', 'USDMXN', 'USDZAR', 'XAGUSD', 'XAUUSD', 'XBRUSD', 'XTIUSD', 'XNGUSD', 'BTCUSD', 'ETHUSD', 'LTCUSD', 'XRPUSD', 'BCHUSD', 'AAVEUSD', 'ADAUSD', 'ALGOUSD', 'ATOMUSD', 'AVAXUSD', 'AXSUSD', 'BNBUSD', 'DASHUSD', 'DOGEUSD', 'DOTUSD', 'FILUSD', 'GRTUSD', 'ICPUSD', 'IOTAUSD', 'LINKUSD', 'LRCUSD', 'MANAUSD', 'NEARUSD', 'SOLUSD', 'UNIUSD', 'ZECUSD', 'ETCUSD', 'TRXUSD', 'FETUSD', 'ARBUSD', 'APTUSD', 'SUIUSD', 'USDDKK', 'USDCZK', 'USDHUF', 'USDNOK', 'USDPLN', 'USDSEK', 'USDSGD', 'USDHKD', 'USDCNH', 'USDTRY', 'XBRUSD.Daily', 'XTIUSD.Daily', 'BTCUSD.Daily', 'ETHUSD.Daily', 'XRPUSD.Daily', 'LTCUSD.Daily', 'BCHUSD.Daily', 'LINKUSD.Daily', 'SOLUSD.Daily']\n"
          ]
        }
      ],
      "source": [
        "print(t_symbol)"
      ]
    },
    {
      "cell_type": "code",
      "execution_count": 6,
      "metadata": {
        "id": "UC2tpiHOpgVu"
      },
      "outputs": [],
      "source": [
        "#t_symbol = [\"EURUSD\",\"AUDUSD\",\"GBPUSD\",\"USDCAD\"]"
      ]
    },
    {
      "cell_type": "code",
      "execution_count": 9,
      "metadata": {
        "colab": {
          "base_uri": "https://localhost:8080/"
        },
        "id": "L9Urbl8tJaFp",
        "outputId": "b6299a2a-23c2-42c6-8f42-2268afe6c8e7"
      },
      "outputs": [
        {
          "name": "stdout",
          "output_type": "stream",
          "text": [
            "GeneratedAUDUSD dbot.csv\n",
            "GeneratedNZDUSD dbot.csv\n",
            "----------------------------------------------------\n",
            "2\n",
            "2\n"
          ]
        }
      ],
      "source": [
        "\n",
        "# Filter the list to include only files, not directories\n",
        "# os.path.join is used to create a full path for isfile() to check\n",
        "files = [item for item in dir_contents]\n",
        "\n",
        "file_target = []\n",
        "test_target = []\n",
        "\n",
        "for filename in files:\n",
        "    for t_s in t_symbol:\n",
        "        if t_s in filename  and \"dbot.csv\" in filename:\n",
        "            print(filename)\n",
        "            file_target.append(filename)\n",
        "            test_target.append(filename.replace(\"dbot\",\"test\"))\n",
        "\n",
        "print(\"----------------------------------------------------\")\n",
        "\n",
        "print(len(file_target))\n",
        "print(len(test_target))\n",
        "train_dfs = []\n",
        "for f_t in file_target:\n",
        "    train_dfs.append(pd.read_csv(f_t))\n",
        "\n",
        "train_dfs_test = []\n",
        "for f_t in test_target:\n",
        "    train_dfs_test.append(pd.read_csv(f_t))"
      ]
    },
    {
      "cell_type": "code",
      "execution_count": 7,
      "metadata": {
        "colab": {
          "base_uri": "https://localhost:8080/",
          "height": 424
        },
        "id": "94sFD1Kc29tr",
        "outputId": "c8aa60f1-e8b6-4aa1-b736-2bef8f7d1611"
      },
      "outputs": [
        {
          "data": {
            "text/html": [
              "<div>\n",
              "<style scoped>\n",
              "    .dataframe tbody tr th:only-of-type {\n",
              "        vertical-align: middle;\n",
              "    }\n",
              "\n",
              "    .dataframe tbody tr th {\n",
              "        vertical-align: top;\n",
              "    }\n",
              "\n",
              "    .dataframe thead th {\n",
              "        text-align: right;\n",
              "    }\n",
              "</style>\n",
              "<table border=\"1\" class=\"dataframe\">\n",
              "  <thead>\n",
              "    <tr style=\"text-align: right;\">\n",
              "      <th></th>\n",
              "      <th>open</th>\n",
              "      <th>high</th>\n",
              "      <th>low</th>\n",
              "      <th>close</th>\n",
              "    </tr>\n",
              "  </thead>\n",
              "  <tbody>\n",
              "    <tr>\n",
              "      <th>0</th>\n",
              "      <td>0.84057</td>\n",
              "      <td>0.84059</td>\n",
              "      <td>0.83818</td>\n",
              "      <td>0.83867</td>\n",
              "    </tr>\n",
              "    <tr>\n",
              "      <th>1</th>\n",
              "      <td>0.83869</td>\n",
              "      <td>0.83914</td>\n",
              "      <td>0.83827</td>\n",
              "      <td>0.83865</td>\n",
              "    </tr>\n",
              "    <tr>\n",
              "      <th>2</th>\n",
              "      <td>0.83866</td>\n",
              "      <td>0.83950</td>\n",
              "      <td>0.83863</td>\n",
              "      <td>0.83927</td>\n",
              "    </tr>\n",
              "    <tr>\n",
              "      <th>3</th>\n",
              "      <td>0.83928</td>\n",
              "      <td>0.84099</td>\n",
              "      <td>0.83778</td>\n",
              "      <td>0.83974</td>\n",
              "    </tr>\n",
              "    <tr>\n",
              "      <th>4</th>\n",
              "      <td>0.83973</td>\n",
              "      <td>0.84158</td>\n",
              "      <td>0.83926</td>\n",
              "      <td>0.84040</td>\n",
              "    </tr>\n",
              "    <tr>\n",
              "      <th>...</th>\n",
              "      <td>...</td>\n",
              "      <td>...</td>\n",
              "      <td>...</td>\n",
              "      <td>...</td>\n",
              "    </tr>\n",
              "    <tr>\n",
              "      <th>99994</th>\n",
              "      <td>0.65906</td>\n",
              "      <td>0.65922</td>\n",
              "      <td>0.65839</td>\n",
              "      <td>0.65879</td>\n",
              "    </tr>\n",
              "    <tr>\n",
              "      <th>99995</th>\n",
              "      <td>0.65878</td>\n",
              "      <td>0.65936</td>\n",
              "      <td>0.65865</td>\n",
              "      <td>0.65931</td>\n",
              "    </tr>\n",
              "    <tr>\n",
              "      <th>99996</th>\n",
              "      <td>0.65935</td>\n",
              "      <td>0.65977</td>\n",
              "      <td>0.65915</td>\n",
              "      <td>0.65974</td>\n",
              "    </tr>\n",
              "    <tr>\n",
              "      <th>99997</th>\n",
              "      <td>0.65976</td>\n",
              "      <td>0.66068</td>\n",
              "      <td>0.65920</td>\n",
              "      <td>0.66063</td>\n",
              "    </tr>\n",
              "    <tr>\n",
              "      <th>99998</th>\n",
              "      <td>0.66064</td>\n",
              "      <td>0.66085</td>\n",
              "      <td>0.66046</td>\n",
              "      <td>0.66061</td>\n",
              "    </tr>\n",
              "  </tbody>\n",
              "</table>\n",
              "<p>99999 rows × 4 columns</p>\n",
              "</div>"
            ],
            "text/plain": [
              "          open     high      low    close\n",
              "0      0.84057  0.84059  0.83818  0.83867\n",
              "1      0.83869  0.83914  0.83827  0.83865\n",
              "2      0.83866  0.83950  0.83863  0.83927\n",
              "3      0.83928  0.84099  0.83778  0.83974\n",
              "4      0.83973  0.84158  0.83926  0.84040\n",
              "...        ...      ...      ...      ...\n",
              "99994  0.65906  0.65922  0.65839  0.65879\n",
              "99995  0.65878  0.65936  0.65865  0.65931\n",
              "99996  0.65935  0.65977  0.65915  0.65974\n",
              "99997  0.65976  0.66068  0.65920  0.66063\n",
              "99998  0.66064  0.66085  0.66046  0.66061\n",
              "\n",
              "[99999 rows x 4 columns]"
            ]
          },
          "metadata": {},
          "output_type": "display_data"
        }
      ],
      "source": [
        "display(train_dfs[0])"
      ]
    },
    {
      "cell_type": "code",
      "execution_count": 9,
      "metadata": {
        "colab": {
          "base_uri": "https://localhost:8080/",
          "height": 424
        },
        "id": "tOE5gYlbhIFd",
        "outputId": "a9da9a6f-ec25-4759-e740-841cb535bf7f"
      },
      "outputs": [
        {
          "data": {
            "application/vnd.google.colaboratory.intrinsic+json": {
              "summary": "{\n  \"name\": \"display(train_dfs_test[0])\",\n  \"rows\": 1000,\n  \"fields\": [\n    {\n      \"column\": \"open\",\n      \"properties\": {\n        \"dtype\": \"number\",\n        \"std\": 0.028618985382335174,\n        \"min\": 0.59568,\n        \"max\": 0.7575,\n        \"num_unique_values\": 948,\n        \"samples\": [\n          0.65619,\n          0.66417,\n          0.69008\n        ],\n        \"semantic_type\": \"\",\n        \"description\": \"\"\n      }\n    },\n    {\n      \"column\": \"high\",\n      \"properties\": {\n        \"dtype\": \"number\",\n        \"std\": 0.028832420986782542,\n        \"min\": 0.60847,\n        \"max\": 0.76607,\n        \"num_unique_values\": 943,\n        \"samples\": [\n          0.72648,\n          0.67756,\n          0.63308\n        ],\n        \"semantic_type\": \"\",\n        \"description\": \"\"\n      }\n    },\n    {\n      \"column\": \"low\",\n      \"properties\": {\n        \"dtype\": \"number\",\n        \"std\": 0.02844601069433152,\n        \"min\": 0.5913,\n        \"max\": 0.75354,\n        \"num_unique_values\": 935,\n        \"samples\": [\n          0.66093,\n          0.74659,\n          0.62744\n        ],\n        \"semantic_type\": \"\",\n        \"description\": \"\"\n      }\n    },\n    {\n      \"column\": \"close\",\n      \"properties\": {\n        \"dtype\": \"number\",\n        \"std\": 0.028631184746013585,\n        \"min\": 0.59537,\n        \"max\": 0.7576,\n        \"num_unique_values\": 945,\n        \"samples\": [\n          0.64082,\n          0.67512,\n          0.69091\n        ],\n        \"semantic_type\": \"\",\n        \"description\": \"\"\n      }\n    }\n  ]\n}",
              "type": "dataframe"
            },
            "text/html": [
              "\n",
              "  <div id=\"df-796ad0dd-bdf9-412b-bc06-50bd6fb37c37\" class=\"colab-df-container\">\n",
              "    <div>\n",
              "<style scoped>\n",
              "    .dataframe tbody tr th:only-of-type {\n",
              "        vertical-align: middle;\n",
              "    }\n",
              "\n",
              "    .dataframe tbody tr th {\n",
              "        vertical-align: top;\n",
              "    }\n",
              "\n",
              "    .dataframe thead th {\n",
              "        text-align: right;\n",
              "    }\n",
              "</style>\n",
              "<table border=\"1\" class=\"dataframe\">\n",
              "  <thead>\n",
              "    <tr style=\"text-align: right;\">\n",
              "      <th></th>\n",
              "      <th>open</th>\n",
              "      <th>high</th>\n",
              "      <th>low</th>\n",
              "      <th>close</th>\n",
              "    </tr>\n",
              "  </thead>\n",
              "  <tbody>\n",
              "    <tr>\n",
              "      <th>0</th>\n",
              "      <td>0.71238</td>\n",
              "      <td>0.71324</td>\n",
              "      <td>0.70817</td>\n",
              "      <td>0.71097</td>\n",
              "    </tr>\n",
              "    <tr>\n",
              "      <th>1</th>\n",
              "      <td>0.71060</td>\n",
              "      <td>0.71557</td>\n",
              "      <td>0.70982</td>\n",
              "      <td>0.71521</td>\n",
              "    </tr>\n",
              "    <tr>\n",
              "      <th>2</th>\n",
              "      <td>0.71501</td>\n",
              "      <td>0.72199</td>\n",
              "      <td>0.71203</td>\n",
              "      <td>0.72115</td>\n",
              "    </tr>\n",
              "    <tr>\n",
              "      <th>3</th>\n",
              "      <td>0.72088</td>\n",
              "      <td>0.72513</td>\n",
              "      <td>0.71916</td>\n",
              "      <td>0.72398</td>\n",
              "    </tr>\n",
              "    <tr>\n",
              "      <th>4</th>\n",
              "      <td>0.72398</td>\n",
              "      <td>0.72435</td>\n",
              "      <td>0.72156</td>\n",
              "      <td>0.72161</td>\n",
              "    </tr>\n",
              "    <tr>\n",
              "      <th>...</th>\n",
              "      <td>...</td>\n",
              "      <td>...</td>\n",
              "      <td>...</td>\n",
              "      <td>...</td>\n",
              "    </tr>\n",
              "    <tr>\n",
              "      <th>995</th>\n",
              "      <td>0.65754</td>\n",
              "      <td>0.66277</td>\n",
              "      <td>0.65703</td>\n",
              "      <td>0.66112</td>\n",
              "    </tr>\n",
              "    <tr>\n",
              "      <th>996</th>\n",
              "      <td>0.66105</td>\n",
              "      <td>0.66279</td>\n",
              "      <td>0.65886</td>\n",
              "      <td>0.66109</td>\n",
              "    </tr>\n",
              "    <tr>\n",
              "      <th>997</th>\n",
              "      <td>0.66117</td>\n",
              "      <td>0.66238</td>\n",
              "      <td>0.65761</td>\n",
              "      <td>0.65939</td>\n",
              "    </tr>\n",
              "    <tr>\n",
              "      <th>998</th>\n",
              "      <td>0.65933</td>\n",
              "      <td>0.66134</td>\n",
              "      <td>0.65882</td>\n",
              "      <td>0.65999</td>\n",
              "    </tr>\n",
              "    <tr>\n",
              "      <th>999</th>\n",
              "      <td>0.65936</td>\n",
              "      <td>0.66085</td>\n",
              "      <td>0.65839</td>\n",
              "      <td>0.66065</td>\n",
              "    </tr>\n",
              "  </tbody>\n",
              "</table>\n",
              "<p>1000 rows × 4 columns</p>\n",
              "</div>\n",
              "    <div class=\"colab-df-buttons\">\n",
              "\n",
              "  <div class=\"colab-df-container\">\n",
              "    <button class=\"colab-df-convert\" onclick=\"convertToInteractive('df-796ad0dd-bdf9-412b-bc06-50bd6fb37c37')\"\n",
              "            title=\"Convert this dataframe to an interactive table.\"\n",
              "            style=\"display:none;\">\n",
              "\n",
              "  <svg xmlns=\"http://www.w3.org/2000/svg\" height=\"24px\" viewBox=\"0 -960 960 960\">\n",
              "    <path d=\"M120-120v-720h720v720H120Zm60-500h600v-160H180v160Zm220 220h160v-160H400v160Zm0 220h160v-160H400v160ZM180-400h160v-160H180v160Zm440 0h160v-160H620v160ZM180-180h160v-160H180v160Zm440 0h160v-160H620v160Z\"/>\n",
              "  </svg>\n",
              "    </button>\n",
              "\n",
              "  <style>\n",
              "    .colab-df-container {\n",
              "      display:flex;\n",
              "      gap: 12px;\n",
              "    }\n",
              "\n",
              "    .colab-df-convert {\n",
              "      background-color: #E8F0FE;\n",
              "      border: none;\n",
              "      border-radius: 50%;\n",
              "      cursor: pointer;\n",
              "      display: none;\n",
              "      fill: #1967D2;\n",
              "      height: 32px;\n",
              "      padding: 0 0 0 0;\n",
              "      width: 32px;\n",
              "    }\n",
              "\n",
              "    .colab-df-convert:hover {\n",
              "      background-color: #E2EBFA;\n",
              "      box-shadow: 0px 1px 2px rgba(60, 64, 67, 0.3), 0px 1px 3px 1px rgba(60, 64, 67, 0.15);\n",
              "      fill: #174EA6;\n",
              "    }\n",
              "\n",
              "    .colab-df-buttons div {\n",
              "      margin-bottom: 4px;\n",
              "    }\n",
              "\n",
              "    [theme=dark] .colab-df-convert {\n",
              "      background-color: #3B4455;\n",
              "      fill: #D2E3FC;\n",
              "    }\n",
              "\n",
              "    [theme=dark] .colab-df-convert:hover {\n",
              "      background-color: #434B5C;\n",
              "      box-shadow: 0px 1px 3px 1px rgba(0, 0, 0, 0.15);\n",
              "      filter: drop-shadow(0px 1px 2px rgba(0, 0, 0, 0.3));\n",
              "      fill: #FFFFFF;\n",
              "    }\n",
              "  </style>\n",
              "\n",
              "    <script>\n",
              "      const buttonEl =\n",
              "        document.querySelector('#df-796ad0dd-bdf9-412b-bc06-50bd6fb37c37 button.colab-df-convert');\n",
              "      buttonEl.style.display =\n",
              "        google.colab.kernel.accessAllowed ? 'block' : 'none';\n",
              "\n",
              "      async function convertToInteractive(key) {\n",
              "        const element = document.querySelector('#df-796ad0dd-bdf9-412b-bc06-50bd6fb37c37');\n",
              "        const dataTable =\n",
              "          await google.colab.kernel.invokeFunction('convertToInteractive',\n",
              "                                                    [key], {});\n",
              "        if (!dataTable) return;\n",
              "\n",
              "        const docLinkHtml = 'Like what you see? Visit the ' +\n",
              "          '<a target=\"_blank\" href=https://colab.research.google.com/notebooks/data_table.ipynb>data table notebook</a>'\n",
              "          + ' to learn more about interactive tables.';\n",
              "        element.innerHTML = '';\n",
              "        dataTable['output_type'] = 'display_data';\n",
              "        await google.colab.output.renderOutput(dataTable, element);\n",
              "        const docLink = document.createElement('div');\n",
              "        docLink.innerHTML = docLinkHtml;\n",
              "        element.appendChild(docLink);\n",
              "      }\n",
              "    </script>\n",
              "  </div>\n",
              "\n",
              "\n",
              "    <div id=\"df-0121b2dd-8479-4401-b230-a9cc5ff79a9a\">\n",
              "      <button class=\"colab-df-quickchart\" onclick=\"quickchart('df-0121b2dd-8479-4401-b230-a9cc5ff79a9a')\"\n",
              "                title=\"Suggest charts\"\n",
              "                style=\"display:none;\">\n",
              "\n",
              "<svg xmlns=\"http://www.w3.org/2000/svg\" height=\"24px\"viewBox=\"0 0 24 24\"\n",
              "     width=\"24px\">\n",
              "    <g>\n",
              "        <path d=\"M19 3H5c-1.1 0-2 .9-2 2v14c0 1.1.9 2 2 2h14c1.1 0 2-.9 2-2V5c0-1.1-.9-2-2-2zM9 17H7v-7h2v7zm4 0h-2V7h2v10zm4 0h-2v-4h2v4z\"/>\n",
              "    </g>\n",
              "</svg>\n",
              "      </button>\n",
              "\n",
              "<style>\n",
              "  .colab-df-quickchart {\n",
              "      --bg-color: #E8F0FE;\n",
              "      --fill-color: #1967D2;\n",
              "      --hover-bg-color: #E2EBFA;\n",
              "      --hover-fill-color: #174EA6;\n",
              "      --disabled-fill-color: #AAA;\n",
              "      --disabled-bg-color: #DDD;\n",
              "  }\n",
              "\n",
              "  [theme=dark] .colab-df-quickchart {\n",
              "      --bg-color: #3B4455;\n",
              "      --fill-color: #D2E3FC;\n",
              "      --hover-bg-color: #434B5C;\n",
              "      --hover-fill-color: #FFFFFF;\n",
              "      --disabled-bg-color: #3B4455;\n",
              "      --disabled-fill-color: #666;\n",
              "  }\n",
              "\n",
              "  .colab-df-quickchart {\n",
              "    background-color: var(--bg-color);\n",
              "    border: none;\n",
              "    border-radius: 50%;\n",
              "    cursor: pointer;\n",
              "    display: none;\n",
              "    fill: var(--fill-color);\n",
              "    height: 32px;\n",
              "    padding: 0;\n",
              "    width: 32px;\n",
              "  }\n",
              "\n",
              "  .colab-df-quickchart:hover {\n",
              "    background-color: var(--hover-bg-color);\n",
              "    box-shadow: 0 1px 2px rgba(60, 64, 67, 0.3), 0 1px 3px 1px rgba(60, 64, 67, 0.15);\n",
              "    fill: var(--button-hover-fill-color);\n",
              "  }\n",
              "\n",
              "  .colab-df-quickchart-complete:disabled,\n",
              "  .colab-df-quickchart-complete:disabled:hover {\n",
              "    background-color: var(--disabled-bg-color);\n",
              "    fill: var(--disabled-fill-color);\n",
              "    box-shadow: none;\n",
              "  }\n",
              "\n",
              "  .colab-df-spinner {\n",
              "    border: 2px solid var(--fill-color);\n",
              "    border-color: transparent;\n",
              "    border-bottom-color: var(--fill-color);\n",
              "    animation:\n",
              "      spin 1s steps(1) infinite;\n",
              "  }\n",
              "\n",
              "  @keyframes spin {\n",
              "    0% {\n",
              "      border-color: transparent;\n",
              "      border-bottom-color: var(--fill-color);\n",
              "      border-left-color: var(--fill-color);\n",
              "    }\n",
              "    20% {\n",
              "      border-color: transparent;\n",
              "      border-left-color: var(--fill-color);\n",
              "      border-top-color: var(--fill-color);\n",
              "    }\n",
              "    30% {\n",
              "      border-color: transparent;\n",
              "      border-left-color: var(--fill-color);\n",
              "      border-top-color: var(--fill-color);\n",
              "      border-right-color: var(--fill-color);\n",
              "    }\n",
              "    40% {\n",
              "      border-color: transparent;\n",
              "      border-right-color: var(--fill-color);\n",
              "      border-top-color: var(--fill-color);\n",
              "    }\n",
              "    60% {\n",
              "      border-color: transparent;\n",
              "      border-right-color: var(--fill-color);\n",
              "    }\n",
              "    80% {\n",
              "      border-color: transparent;\n",
              "      border-right-color: var(--fill-color);\n",
              "      border-bottom-color: var(--fill-color);\n",
              "    }\n",
              "    90% {\n",
              "      border-color: transparent;\n",
              "      border-bottom-color: var(--fill-color);\n",
              "    }\n",
              "  }\n",
              "</style>\n",
              "\n",
              "      <script>\n",
              "        async function quickchart(key) {\n",
              "          const quickchartButtonEl =\n",
              "            document.querySelector('#' + key + ' button');\n",
              "          quickchartButtonEl.disabled = true;  // To prevent multiple clicks.\n",
              "          quickchartButtonEl.classList.add('colab-df-spinner');\n",
              "          try {\n",
              "            const charts = await google.colab.kernel.invokeFunction(\n",
              "                'suggestCharts', [key], {});\n",
              "          } catch (error) {\n",
              "            console.error('Error during call to suggestCharts:', error);\n",
              "          }\n",
              "          quickchartButtonEl.classList.remove('colab-df-spinner');\n",
              "          quickchartButtonEl.classList.add('colab-df-quickchart-complete');\n",
              "        }\n",
              "        (() => {\n",
              "          let quickchartButtonEl =\n",
              "            document.querySelector('#df-0121b2dd-8479-4401-b230-a9cc5ff79a9a button');\n",
              "          quickchartButtonEl.style.display =\n",
              "            google.colab.kernel.accessAllowed ? 'block' : 'none';\n",
              "        })();\n",
              "      </script>\n",
              "    </div>\n",
              "\n",
              "    </div>\n",
              "  </div>\n"
            ],
            "text/plain": [
              "        open     high      low    close\n",
              "0    0.71238  0.71324  0.70817  0.71097\n",
              "1    0.71060  0.71557  0.70982  0.71521\n",
              "2    0.71501  0.72199  0.71203  0.72115\n",
              "3    0.72088  0.72513  0.71916  0.72398\n",
              "4    0.72398  0.72435  0.72156  0.72161\n",
              "..       ...      ...      ...      ...\n",
              "995  0.65754  0.66277  0.65703  0.66112\n",
              "996  0.66105  0.66279  0.65886  0.66109\n",
              "997  0.66117  0.66238  0.65761  0.65939\n",
              "998  0.65933  0.66134  0.65882  0.65999\n",
              "999  0.65936  0.66085  0.65839  0.66065\n",
              "\n",
              "[1000 rows x 4 columns]"
            ]
          },
          "metadata": {},
          "output_type": "display_data"
        }
      ],
      "source": [
        "display(train_dfs_test[0])"
      ]
    },
    {
      "cell_type": "code",
      "execution_count": 10,
      "metadata": {
        "colab": {
          "base_uri": "https://localhost:8080/"
        },
        "id": "X-1MEa4L3HwH",
        "outputId": "4d48a4c1-6224-4026-a485-1aa764490f34"
      },
      "outputs": [
        {
          "name": "stdout",
          "output_type": "stream",
          "text": [
            "[[0.83867]\n",
            " [0.83865]\n",
            " [0.83927]\n",
            " ...\n",
            " [0.65974]\n",
            " [0.66063]\n",
            " [0.66061]]\n"
          ]
        }
      ],
      "source": [
        "print(train_dfs[0].values[:,-1:])"
      ]
    },
    {
      "cell_type": "code",
      "execution_count": 10,
      "metadata": {
        "id": "xnvfkDwKJaFp"
      },
      "outputs": [],
      "source": [
        "def create_sequences(data_scaled, seq_len, pred_steps = 5):\n",
        "    \"\"\"\n",
        "    data_scaled: np.array shaped (n_rows, n_features)\n",
        "    returns X (n_samples, seq_len, n_features), y (n_samples, n_features)\n",
        "    where y is the row immediately following the window.\n",
        "    \"\"\"\n",
        "    X, y = [], []\n",
        "    n_rows = data_scaled.shape[0]\n",
        "    for i in range(n_rows - seq_len - pred_steps + 1):\n",
        "        X.append(data_scaled[i:i+seq_len])\n",
        "        y.append(data_scaled[i+seq_len : i + seq_len+pred_steps, -1])\n",
        "    X = np.array(X)\n",
        "    y = np.array(y)\n",
        "    return X, y\n",
        "\n",
        "\n",
        "\n"
      ]
    },
    {
      "cell_type": "code",
      "execution_count": 11,
      "metadata": {
        "id": "DqNMMybC2oHD"
      },
      "outputs": [],
      "source": [
        "n = 0"
      ]
    },
    {
      "cell_type": "code",
      "execution_count": 12,
      "metadata": {
        "colab": {
          "base_uri": "https://localhost:8080/"
        },
        "id": "FgfuQq2n2yc1",
        "outputId": "0784b3a8-b631-4e7f-8a48-75962084f30d"
      },
      "outputs": [
        {
          "name": "stdout",
          "output_type": "stream",
          "text": [
            "GeneratedAUDUSD \n"
          ]
        }
      ],
      "source": [
        "m_label = file_target[n].replace(\"dbot.csv\",\"\")\n",
        "train_df = train_dfs[n]\n",
        "train_df_test = train_dfs_test[n]\n",
        "print(m_label)\n",
        "SEQ_LEN = 240 # length of input sequence (timesteps). Typical choices: 30, 60, 90\n",
        "n_rows, n_features = train_df.values.shape\n",
        "\n",
        "X, y = create_sequences(train_df.values, SEQ_LEN, 5)  # X: (n_samples, SEQ_LEN, n_features), y: (n_samples, n_features)\n",
        "X1, y1 = create_sequences(train_df.values, SEQ_LEN, 5)  # X: (n_samples, SEQ_LEN, n_features), y: (n_samples, n_features)\n",
        "\n",
        "n_samples = X.shape[0]\n"
      ]
    },
    {
      "cell_type": "code",
      "execution_count": 37,
      "metadata": {
        "colab": {
          "base_uri": "https://localhost:8080/"
        },
        "id": "jgr3stmT3oDg",
        "outputId": "80d849ed-9728-4fd8-fa96-1b2f778e1aef"
      },
      "outputs": [
        {
          "name": "stdout",
          "output_type": "stream",
          "text": [
            "[[0.6421  0.64316 0.64205 0.64256]\n",
            " [0.64256 0.64944 0.64253 0.64925]\n",
            " [0.64925 0.65004 0.64826 0.64827]\n",
            " [0.64827 0.64914 0.64827 0.64877]\n",
            " [0.64877 0.64976 0.64877 0.64943]\n",
            " [0.64942 0.64965 0.64882 0.64883]\n",
            " [0.64883 0.64889 0.64841 0.64874]\n",
            " [0.64875 0.64927 0.64869 0.64895]\n",
            " [0.64879 0.64922 0.64879 0.64914]\n",
            " [0.64913 0.64933 0.64834 0.64872]\n",
            " [0.64872 0.6489  0.64833 0.64841]\n",
            " [0.64842 0.64852 0.64794 0.6483 ]\n",
            " [0.6483  0.64845 0.6471  0.64721]\n",
            " [0.64721 0.64808 0.64716 0.64803]\n",
            " [0.64803 0.6488  0.64803 0.64864]\n",
            " [0.64864 0.64915 0.64864 0.64889]\n",
            " [0.64889 0.6495  0.64883 0.64919]\n",
            " [0.6492  0.65045 0.6492  0.64999]\n",
            " [0.64999 0.65003 0.64853 0.64859]\n",
            " [0.64859 0.64984 0.64859 0.64951]\n",
            " [0.6495  0.64953 0.64857 0.64885]\n",
            " [0.64886 0.64911 0.64859 0.64893]\n",
            " [0.64894 0.64988 0.64891 0.64983]\n",
            " [0.64983 0.6499  0.64907 0.64914]\n",
            " [0.64915 0.65006 0.64883 0.64974]\n",
            " [0.64974 0.65038 0.64949 0.64994]\n",
            " [0.64994 0.65033 0.64951 0.64977]\n",
            " [0.64977 0.64992 0.64938 0.64958]\n",
            " [0.64957 0.64963 0.64894 0.64907]\n",
            " [0.64907 0.64914 0.64819 0.64824]\n",
            " [0.64825 0.64834 0.64772 0.64785]\n",
            " [0.64786 0.64842 0.64785 0.64807]\n",
            " [0.64795 0.64802 0.64779 0.64796]\n",
            " [0.64796 0.64835 0.64796 0.64824]\n",
            " [0.64824 0.64833 0.64791 0.6481 ]\n",
            " [0.64809 0.6493  0.64784 0.64896]\n",
            " [0.64896 0.64925 0.64739 0.64747]\n",
            " [0.64747 0.64846 0.64745 0.648  ]\n",
            " [0.648   0.648   0.64704 0.64724]\n",
            " [0.64723 0.64792 0.64711 0.6479 ]\n",
            " [0.64791 0.64814 0.64774 0.64803]\n",
            " [0.64803 0.64845 0.64694 0.64795]\n",
            " [0.64795 0.64812 0.64697 0.64731]\n",
            " [0.64731 0.64794 0.64726 0.64761]\n",
            " [0.6476  0.64863 0.64759 0.6485 ]\n",
            " [0.64849 0.64874 0.64811 0.64839]\n",
            " [0.6484  0.64917 0.64832 0.64896]\n",
            " [0.64895 0.64929 0.64844 0.64857]\n",
            " [0.64856 0.64881 0.64799 0.64867]\n",
            " [0.64866 0.64955 0.64836 0.64936]\n",
            " [0.64935 0.64981 0.64925 0.64968]\n",
            " [0.64968 0.65002 0.64946 0.64955]\n",
            " [0.64955 0.64972 0.64931 0.64939]\n",
            " [0.6494  0.64955 0.64914 0.64935]\n",
            " [0.64935 0.64963 0.64922 0.64928]\n",
            " [0.64927 0.64948 0.64913 0.64929]\n",
            " [0.64916 0.64916 0.64894 0.64907]\n",
            " [0.64907 0.64967 0.64906 0.64961]\n",
            " [0.64961 0.6497  0.64939 0.64947]\n",
            " [0.64947 0.64959 0.64912 0.64924]\n",
            " [0.64924 0.65039 0.64889 0.64969]\n",
            " [0.64968 0.64975 0.64865 0.64907]\n",
            " [0.64907 0.64932 0.64871 0.64876]\n",
            " [0.64876 0.64884 0.6483  0.64842]\n",
            " [0.64842 0.64868 0.64826 0.64854]\n",
            " [0.64853 0.64899 0.64841 0.64876]\n",
            " [0.64876 0.64888 0.64742 0.64778]\n",
            " [0.64777 0.64778 0.6464  0.64702]\n",
            " [0.64702 0.64732 0.64655 0.64707]\n",
            " [0.64707 0.64708 0.64633 0.64654]\n",
            " [0.64654 0.64687 0.64617 0.64656]\n",
            " [0.64656 0.64737 0.64654 0.6471 ]\n",
            " [0.64709 0.64785 0.64686 0.64749]\n",
            " [0.64748 0.64851 0.64717 0.64849]\n",
            " [0.6485  0.64945 0.64848 0.64942]\n",
            " [0.64943 0.65093 0.64937 0.65082]\n",
            " [0.65082 0.65123 0.65069 0.65114]\n",
            " [0.65114 0.65115 0.65057 0.65088]\n",
            " [0.65088 0.65094 0.65051 0.65082]\n",
            " [0.65082 0.65092 0.65038 0.65046]\n",
            " [0.65036 0.65036 0.65012 0.65013]\n",
            " [0.65012 0.65086 0.65011 0.65077]\n",
            " [0.65077 0.6512  0.65072 0.65119]\n",
            " [0.65119 0.65146 0.65093 0.65118]\n",
            " [0.65118 0.65169 0.65094 0.65117]\n",
            " [0.65116 0.6519  0.65112 0.65189]\n",
            " [0.6519  0.65213 0.65123 0.65138]\n",
            " [0.65138 0.65139 0.65089 0.65102]\n",
            " [0.65103 0.65103 0.6505  0.65081]\n",
            " [0.65081 0.65146 0.65074 0.65114]\n",
            " [0.65114 0.65148 0.65079 0.65142]\n",
            " [0.65142 0.65195 0.65076 0.65186]\n",
            " [0.65185 0.65227 0.6517  0.65195]\n",
            " [0.65196 0.65291 0.65176 0.65273]\n",
            " [0.65273 0.65299 0.6524  0.65267]\n",
            " [0.65268 0.65337 0.65214 0.65277]\n",
            " [0.65277 0.65287 0.65187 0.65225]\n",
            " [0.65225 0.6533  0.65204 0.65245]\n",
            " [0.65245 0.65307 0.65233 0.65297]\n",
            " [0.65296 0.65359 0.65287 0.65339]\n",
            " [0.65338 0.6537  0.65324 0.65338]\n",
            " [0.65338 0.65353 0.65324 0.6534 ]\n",
            " [0.65339 0.65345 0.65303 0.65305]\n",
            " [0.65305 0.65319 0.65289 0.653  ]\n",
            " [0.65289 0.65292 0.65252 0.6528 ]\n",
            " [0.6528  0.65301 0.65269 0.65279]\n",
            " [0.65279 0.65316 0.65278 0.65299]\n",
            " [0.653   0.65351 0.65295 0.6535 ]\n",
            " [0.65351 0.65397 0.65275 0.65396]\n",
            " [0.65396 0.65415 0.65363 0.65367]\n",
            " [0.65368 0.65386 0.65324 0.65358]\n",
            " [0.65358 0.65389 0.65348 0.65387]\n",
            " [0.65387 0.65391 0.65342 0.6537 ]\n",
            " [0.6537  0.65399 0.65291 0.65304]\n",
            " [0.65304 0.65386 0.65271 0.65379]\n",
            " [0.6538  0.65385 0.65313 0.65352]\n",
            " [0.65351 0.65358 0.65261 0.65272]\n",
            " [0.65273 0.65298 0.65256 0.65267]\n",
            " [0.65267 0.65283 0.65249 0.65259]\n",
            " [0.65258 0.65291 0.65219 0.65284]\n",
            " [0.65284 0.65367 0.65241 0.65348]\n",
            " [0.65346 0.6548  0.65329 0.65435]\n",
            " [0.65436 0.65448 0.65369 0.65434]\n",
            " [0.65433 0.65463 0.65422 0.65454]\n",
            " [0.65454 0.65454 0.65421 0.65432]\n",
            " [0.65431 0.65446 0.65406 0.6544 ]\n",
            " [0.6544  0.65461 0.65424 0.6544 ]\n",
            " [0.6544  0.65456 0.65343 0.65375]\n",
            " [0.65441 0.65444 0.65377 0.65378]\n",
            " [0.65378 0.65423 0.65377 0.65411]\n",
            " [0.65411 0.65434 0.65408 0.65426]\n",
            " [0.65426 0.6548  0.65425 0.65468]\n",
            " [0.65467 0.65467 0.65343 0.65393]\n",
            " [0.65393 0.65484 0.65387 0.65468]\n",
            " [0.65468 0.65485 0.65423 0.65465]\n",
            " [0.65465 0.65472 0.65411 0.65423]\n",
            " [0.65423 0.65463 0.65411 0.65421]\n",
            " [0.6542  0.65475 0.65391 0.65422]\n",
            " [0.65421 0.65467 0.65343 0.65464]\n",
            " [0.65464 0.65568 0.65447 0.65562]\n",
            " [0.65563 0.65578 0.65529 0.65566]\n",
            " [0.65567 0.65593 0.6554  0.65562]\n",
            " [0.65563 0.65577 0.65519 0.65532]\n",
            " [0.65532 0.6554  0.65479 0.65516]\n",
            " [0.65516 0.6554  0.65487 0.65524]\n",
            " [0.65523 0.65578 0.65507 0.65565]\n",
            " [0.65565 0.65571 0.65516 0.6552 ]\n",
            " [0.65521 0.65539 0.65486 0.6553 ]\n",
            " [0.65529 0.6553  0.65509 0.65517]\n",
            " [0.65518 0.65523 0.6551  0.65522]\n",
            " [0.65523 0.65546 0.6552  0.65544]\n",
            " [0.65544 0.65547 0.65516 0.65516]\n",
            " [0.65498 0.65527 0.65484 0.65516]\n",
            " [0.65516 0.65547 0.65515 0.65538]\n",
            " [0.65537 0.65568 0.65524 0.65561]\n",
            " [0.65562 0.65578 0.65478 0.65521]\n",
            " [0.65521 0.65527 0.6545  0.65459]\n",
            " [0.65459 0.65463 0.6538  0.65445]\n",
            " [0.65445 0.65459 0.65373 0.65396]\n",
            " [0.65396 0.65402 0.65352 0.65366]\n",
            " [0.65367 0.65387 0.65337 0.65357]\n",
            " [0.65357 0.65421 0.65357 0.65419]\n",
            " [0.65419 0.6543  0.64996 0.65035]\n",
            " [0.65036 0.65184 0.65002 0.65128]\n",
            " [0.65129 0.65143 0.65037 0.65101]\n",
            " [0.65101 0.65127 0.65056 0.65106]\n",
            " [0.65107 0.65133 0.6503  0.65078]\n",
            " [0.65078 0.6513  0.64824 0.64863]\n",
            " [0.64863 0.65109 0.64832 0.65079]\n",
            " [0.65086 0.65243 0.65072 0.6522 ]\n",
            " [0.65219 0.65231 0.65114 0.65142]\n",
            " [0.65142 0.65213 0.65129 0.65199]\n",
            " [0.652   0.65217 0.65172 0.65172]\n",
            " [0.65172 0.65184 0.65115 0.65144]\n",
            " [0.65142 0.65197 0.65137 0.65192]\n",
            " [0.65196 0.6522  0.65185 0.65187]\n",
            " [0.65172 0.65174 0.65128 0.6516 ]\n",
            " [0.65154 0.65204 0.65151 0.65169]\n",
            " [0.65172 0.65187 0.65168 0.65179]\n",
            " [0.6518  0.65185 0.65116 0.65141]\n",
            " [0.65142 0.65247 0.65116 0.65237]\n",
            " [0.65238 0.65241 0.65162 0.65201]\n",
            " [0.65202 0.65234 0.65161 0.65173]\n",
            " [0.65173 0.65209 0.65165 0.65204]\n",
            " [0.65203 0.65213 0.65062 0.65114]\n",
            " [0.65116 0.65155 0.65085 0.65104]\n",
            " [0.65104 0.6523  0.65015 0.65216]\n",
            " [0.65215 0.65285 0.65205 0.65244]\n",
            " [0.65244 0.65328 0.65224 0.65305]\n",
            " [0.65304 0.65343 0.65242 0.6529 ]\n",
            " [0.65289 0.65365 0.65278 0.65349]\n",
            " [0.65348 0.65399 0.65298 0.65398]\n",
            " [0.65399 0.65435 0.6533  0.65348]\n",
            " [0.65353 0.65487 0.65352 0.65433]\n",
            " [0.65432 0.65498 0.65421 0.65481]\n",
            " [0.6548  0.65511 0.65462 0.65502]\n",
            " [0.65503 0.65536 0.65422 0.65439]\n",
            " [0.65438 0.65479 0.65419 0.65443]\n",
            " [0.65443 0.65443 0.65386 0.65395]\n",
            " [0.65396 0.65454 0.65394 0.65414]\n",
            " [0.65401 0.65404 0.65367 0.65382]\n",
            " [0.65382 0.65428 0.65382 0.65403]\n",
            " [0.65404 0.65441 0.65403 0.65441]\n",
            " [0.65444 0.6549  0.65433 0.65461]\n",
            " [0.6546  0.65479 0.65365 0.65376]\n",
            " [0.65375 0.65387 0.65343 0.65362]\n",
            " [0.65363 0.65374 0.65306 0.65324]\n",
            " [0.65324 0.65342 0.65274 0.65277]\n",
            " [0.65276 0.65276 0.65222 0.6524 ]\n",
            " [0.65242 0.65268 0.65223 0.65239]\n",
            " [0.65238 0.65262 0.65199 0.65247]\n",
            " [0.65246 0.65271 0.65222 0.65265]\n",
            " [0.65266 0.65271 0.65164 0.65177]\n",
            " [0.65177 0.65217 0.65172 0.65186]\n",
            " [0.65183 0.65184 0.65142 0.65158]\n",
            " [0.65158 0.6523  0.65084 0.652  ]\n",
            " [0.65201 0.65262 0.65134 0.65198]\n",
            " [0.65178 0.65184 0.65005 0.65068]\n",
            " [0.65069 0.65116 0.65028 0.65108]\n",
            " [0.65108 0.65117 0.65061 0.65097]\n",
            " [0.65096 0.6513  0.65086 0.6509 ]\n",
            " [0.65091 0.65145 0.65089 0.65126]\n",
            " [0.65126 0.65175 0.65125 0.65172]\n",
            " [0.65172 0.65183 0.65154 0.65163]\n",
            " [0.65138 0.65153 0.6512  0.65144]\n",
            " [0.65142 0.65192 0.65142 0.65168]\n",
            " [0.65168 0.65218 0.65166 0.65215]\n",
            " [0.65216 0.65259 0.65192 0.65258]\n",
            " [0.65259 0.65303 0.65248 0.65283]\n",
            " [0.65283 0.65302 0.65261 0.65285]\n",
            " [0.65285 0.65302 0.65263 0.65301]\n",
            " [0.65302 0.65306 0.65259 0.65269]\n",
            " [0.6527  0.65361 0.65262 0.65354]\n",
            " [0.6535  0.65382 0.6529  0.65319]\n",
            " [0.6532  0.65436 0.65318 0.65427]\n",
            " [0.65425 0.65468 0.65413 0.65436]\n",
            " [0.65436 0.65457 0.6541  0.65436]\n",
            " [0.65436 0.65468 0.65424 0.65425]\n",
            " [0.65425 0.65444 0.65397 0.65401]\n",
            " [0.65401 0.65726 0.65398 0.65712]]\n"
          ]
        }
      ],
      "source": [
        "print(X[-1])"
      ]
    },
    {
      "cell_type": "code",
      "execution_count": 33,
      "metadata": {
        "colab": {
          "base_uri": "https://localhost:8080/"
        },
        "id": "plEgpMeQ3uvA",
        "outputId": "62472221-56a3-42b1-ff61-2b4b91bc4b19"
      },
      "outputs": [
        {
          "name": "stdout",
          "output_type": "stream",
          "text": [
            "[0.65549 0.65516 0.65517 0.65546 0.65831]\n"
          ]
        }
      ],
      "source": [
        "print(y[-2])"
      ]
    },
    {
      "cell_type": "code",
      "execution_count": 13,
      "metadata": {
        "colab": {
          "base_uri": "https://localhost:8080/",
          "height": 408
        },
        "id": "5j_wkyXD5s_s",
        "outputId": "13511d5b-1acf-450a-8259-13ee9a53e3e9"
      },
      "outputs": [
        {
          "name": "stdout",
          "output_type": "stream",
          "text": [
            "Model: \"model\"\n",
            "_________________________________________________________________\n",
            " Layer (type)                Output Shape              Param #   \n",
            "=================================================================\n",
            " input_1 (InputLayer)        [(None, 240, 4)]          0         \n",
            "                                                                 \n",
            " bidirectional (Bidirectiona  (None, 240, 400)         328000    \n",
            " l)                                                              \n",
            "                                                                 \n",
            " bidirectional_1 (Bidirectio  (None, 240, 400)         961600    \n",
            " nal)                                                            \n",
            "                                                                 \n",
            " bidirectional_2 (Bidirectio  (None, 240, 400)         961600    \n",
            " nal)                                                            \n",
            "                                                                 \n",
            " bidirectional_3 (Bidirectio  (None, 400)              961600    \n",
            " nal)                                                            \n",
            "                                                                 \n",
            " dense (Dense)               (None, 150)               60150     \n",
            "                                                                 \n",
            " dropout (Dropout)           (None, 150)               0         \n",
            "                                                                 \n",
            " dense_1 (Dense)             (None, 5)                 755       \n",
            "                                                                 \n",
            "=================================================================\n",
            "Total params: 3,273,705\n",
            "Trainable params: 3,273,705\n",
            "Non-trainable params: 0\n",
            "_________________________________________________________________\n"
          ]
        }
      ],
      "source": [
        "X_train, X_test, y_train, y_test = train_test_split(X, y, test_size=0.33, random_state=0, shuffle=False)\n",
        "X_val, X_test, y_val,  y_test = train_test_split(X_test, y_test, test_size=0.01, random_state=0, shuffle=False)\n",
        "\n",
        "seq_len = X_train.shape[1]\n",
        "n_features = X_train.shape[2]\n",
        "output_dim = y_train.shape[1]\n",
        "\n",
        "i = Input(shape=(seq_len, n_features))\n",
        "X = Bidirectional(LSTM(200, return_sequences=True))(i)\n",
        "X = Bidirectional(LSTM(200, return_sequences=True))(X)\n",
        "X = Bidirectional(LSTM(200, return_sequences=True))(X)\n",
        "X = Bidirectional(LSTM(200))(X)\n",
        "#X = Dropout(0.5)(X)\n",
        "X = Dense(150, activation=\"relu\")(X)\n",
        "X = Dropout(0.5)(X)\n",
        "X = Dense(output_dim)(X)\n",
        "\n",
        "model = Model(i, X)\n",
        "model.summary()\n"
      ]
    },
    {
      "cell_type": "code",
      "execution_count": 14,
      "metadata": {
        "colab": {
          "base_uri": "https://localhost:8080/"
        },
        "id": "i8q4twW84DPd",
        "outputId": "7749addf-c964-4642-d789-c97dd802c6c5"
      },
      "outputs": [
        {
          "name": "stdout",
          "output_type": "stream",
          "text": [
            "Epoch 1/100\n",
            "2089/2089 [==============================] - ETA: 0s - loss: 0.0157 - mae: 0.0884 - root_mean_squared_error: 0.1253 - mape: 10.3055 - msle: 0.0048\n",
            "Epoch 1: val_loss improved from inf to 0.00001, saving model to GeneratedAUDUSD lstm_best.keras\n",
            "2089/2089 [==============================] - 429s 201ms/step - loss: 0.0157 - mae: 0.0884 - root_mean_squared_error: 0.1253 - mape: 10.3055 - msle: 0.0048 - val_loss: 1.2255e-05 - val_mae: 0.0028 - val_root_mean_squared_error: 0.0035 - val_mape: 0.4024 - val_msle: 4.3209e-06 - lr: 0.0010\n",
            "Epoch 2/100\n",
            "2089/2089 [==============================] - ETA: 0s - loss: 0.0013 - mae: 0.0250 - root_mean_squared_error: 0.0358 - mape: 2.8211 - msle: 3.4388e-04\n",
            "Epoch 2: val_loss did not improve from 0.00001\n",
            "2089/2089 [==============================] - 410s 196ms/step - loss: 0.0013 - mae: 0.0250 - root_mean_squared_error: 0.0358 - mape: 2.8211 - msle: 3.4388e-04 - val_loss: 1.3131e-04 - val_mae: 0.0108 - val_root_mean_squared_error: 0.0115 - val_mape: 1.5882 - val_msle: 4.7303e-05 - lr: 0.0010\n",
            "Epoch 3/100\n",
            "2089/2089 [==============================] - ETA: 0s - loss: 5.0700e-04 - mae: 0.0167 - root_mean_squared_error: 0.0225 - mape: 1.9495 - msle: 1.4187e-04\n",
            "Epoch 3: val_loss did not improve from 0.00001\n",
            "2089/2089 [==============================] - 401s 192ms/step - loss: 5.0700e-04 - mae: 0.0167 - root_mean_squared_error: 0.0225 - mape: 1.9495 - msle: 1.4187e-04 - val_loss: 2.2200e-05 - val_mae: 0.0039 - val_root_mean_squared_error: 0.0047 - val_mape: 0.5694 - val_msle: 7.7005e-06 - lr: 0.0010\n",
            "Epoch 4/100\n",
            "2089/2089 [==============================] - ETA: 0s - loss: 4.7675e-04 - mae: 0.0164 - root_mean_squared_error: 0.0218 - mape: 1.9476 - msle: 1.3694e-04\n",
            "Epoch 4: val_loss did not improve from 0.00001\n",
            "2089/2089 [==============================] - 294s 141ms/step - loss: 4.7675e-04 - mae: 0.0164 - root_mean_squared_error: 0.0218 - mape: 1.9476 - msle: 1.3694e-04 - val_loss: 2.4304e-05 - val_mae: 0.0042 - val_root_mean_squared_error: 0.0049 - val_mape: 0.6026 - val_msle: 8.4325e-06 - lr: 0.0010\n",
            "Epoch 5/100\n",
            "2089/2089 [==============================] - ETA: 0s - loss: 4.6404e-04 - mae: 0.0161 - root_mean_squared_error: 0.0215 - mape: 1.9165 - msle: 1.3338e-04\n",
            "Epoch 5: val_loss did not improve from 0.00001\n",
            "2089/2089 [==============================] - 294s 141ms/step - loss: 4.6404e-04 - mae: 0.0161 - root_mean_squared_error: 0.0215 - mape: 1.9165 - msle: 1.3338e-04 - val_loss: 8.3168e-05 - val_mae: 0.0088 - val_root_mean_squared_error: 0.0091 - val_mape: 1.2628 - val_msle: 2.8851e-05 - lr: 0.0010\n",
            "Epoch 6/100\n",
            "2089/2089 [==============================] - ETA: 0s - loss: 4.3986e-04 - mae: 0.0157 - root_mean_squared_error: 0.0210 - mape: 1.8645 - msle: 1.2669e-04\n",
            "Epoch 6: val_loss did not improve from 0.00001\n",
            "2089/2089 [==============================] - 315s 151ms/step - loss: 4.3986e-04 - mae: 0.0157 - root_mean_squared_error: 0.0210 - mape: 1.8645 - msle: 1.2669e-04 - val_loss: 3.8406e-05 - val_mae: 0.0054 - val_root_mean_squared_error: 0.0062 - val_mape: 0.8064 - val_msle: 1.3910e-05 - lr: 0.0010\n",
            "Epoch 7/100\n",
            "2089/2089 [==============================] - ETA: 0s - loss: 4.2945e-04 - mae: 0.0155 - root_mean_squared_error: 0.0207 - mape: 1.8407 - msle: 1.2368e-04\n",
            "Epoch 7: ReduceLROnPlateau reducing learning rate to 0.0005000000237487257.\n",
            "\n",
            "Epoch 7: val_loss did not improve from 0.00001\n",
            "2089/2089 [==============================] - 293s 140ms/step - loss: 4.2945e-04 - mae: 0.0155 - root_mean_squared_error: 0.0207 - mape: 1.8407 - msle: 1.2368e-04 - val_loss: 1.8333e-04 - val_mae: 0.0129 - val_root_mean_squared_error: 0.0135 - val_mape: 1.9183 - val_msle: 6.5395e-05 - lr: 0.0010\n",
            "Epoch 8/100\n",
            "2089/2089 [==============================] - ETA: 0s - loss: 3.8723e-04 - mae: 0.0145 - root_mean_squared_error: 0.0197 - mape: 1.7263 - msle: 1.1140e-04\n",
            "Epoch 8: val_loss improved from 0.00001 to 0.00001, saving model to GeneratedAUDUSD lstm_best.keras\n",
            "2089/2089 [==============================] - 296s 142ms/step - loss: 3.8723e-04 - mae: 0.0145 - root_mean_squared_error: 0.0197 - mape: 1.7263 - msle: 1.1140e-04 - val_loss: 1.0093e-05 - val_mae: 0.0026 - val_root_mean_squared_error: 0.0032 - val_mape: 0.3835 - val_msle: 3.6541e-06 - lr: 5.0000e-04\n",
            "Epoch 9/100\n",
            "2089/2089 [==============================] - ETA: 0s - loss: 3.8437e-04 - mae: 0.0145 - root_mean_squared_error: 0.0196 - mape: 1.7235 - msle: 1.1086e-04\n",
            "Epoch 9: val_loss did not improve from 0.00001\n",
            "2089/2089 [==============================] - 294s 141ms/step - loss: 3.8437e-04 - mae: 0.0145 - root_mean_squared_error: 0.0196 - mape: 1.7235 - msle: 1.1086e-04 - val_loss: 2.7296e-05 - val_mae: 0.0044 - val_root_mean_squared_error: 0.0052 - val_mape: 0.6660 - val_msle: 9.9121e-06 - lr: 5.0000e-04\n",
            "Epoch 10/100\n",
            "2089/2089 [==============================] - ETA: 0s - loss: 3.8883e-04 - mae: 0.0146 - root_mean_squared_error: 0.0197 - mape: 1.7370 - msle: 1.1186e-04\n",
            "Epoch 10: val_loss did not improve from 0.00001\n",
            "2089/2089 [==============================] - 304s 146ms/step - loss: 3.8883e-04 - mae: 0.0146 - root_mean_squared_error: 0.0197 - mape: 1.7370 - msle: 1.1186e-04 - val_loss: 3.7585e-05 - val_mae: 0.0058 - val_root_mean_squared_error: 0.0061 - val_mape: 0.8516 - val_msle: 1.3409e-05 - lr: 5.0000e-04\n",
            "Epoch 11/100\n",
            "2089/2089 [==============================] - ETA: 0s - loss: 3.9032e-04 - mae: 0.0146 - root_mean_squared_error: 0.0198 - mape: 1.7356 - msle: 1.1241e-04\n",
            "Epoch 11: val_loss did not improve from 0.00001\n",
            "2089/2089 [==============================] - 293s 140ms/step - loss: 3.9032e-04 - mae: 0.0146 - root_mean_squared_error: 0.0198 - mape: 1.7356 - msle: 1.1241e-04 - val_loss: 6.0211e-05 - val_mae: 0.0065 - val_root_mean_squared_error: 0.0078 - val_mape: 0.9819 - val_msle: 2.1910e-05 - lr: 5.0000e-04\n",
            "Epoch 12/100\n",
            "2089/2089 [==============================] - ETA: 0s - loss: 3.8796e-04 - mae: 0.0145 - root_mean_squared_error: 0.0197 - mape: 1.7270 - msle: 1.1160e-04\n",
            "Epoch 12: val_loss did not improve from 0.00001\n",
            "2089/2089 [==============================] - 302s 144ms/step - loss: 3.8796e-04 - mae: 0.0145 - root_mean_squared_error: 0.0197 - mape: 1.7270 - msle: 1.1160e-04 - val_loss: 1.7989e-05 - val_mae: 0.0038 - val_root_mean_squared_error: 0.0042 - val_mape: 0.5547 - val_msle: 6.2509e-06 - lr: 5.0000e-04\n",
            "Epoch 13/100\n",
            "2089/2089 [==============================] - ETA: 0s - loss: 3.8347e-04 - mae: 0.0144 - root_mean_squared_error: 0.0196 - mape: 1.7196 - msle: 1.1062e-04\n",
            "Epoch 13: ReduceLROnPlateau reducing learning rate to 0.0002500000118743628.\n",
            "\n",
            "Epoch 13: val_loss did not improve from 0.00001\n",
            "2089/2089 [==============================] - 293s 140ms/step - loss: 3.8347e-04 - mae: 0.0144 - root_mean_squared_error: 0.0196 - mape: 1.7196 - msle: 1.1062e-04 - val_loss: 6.3712e-05 - val_mae: 0.0076 - val_root_mean_squared_error: 0.0080 - val_mape: 1.1212 - val_msle: 2.2743e-05 - lr: 5.0000e-04\n",
            "Epoch 14/100\n",
            "2089/2089 [==============================] - ETA: 0s - loss: 3.6673e-04 - mae: 0.0140 - root_mean_squared_error: 0.0192 - mape: 1.6679 - msle: 1.0562e-04\n",
            "Epoch 14: val_loss did not improve from 0.00001\n",
            "2089/2089 [==============================] - 292s 140ms/step - loss: 3.6673e-04 - mae: 0.0140 - root_mean_squared_error: 0.0192 - mape: 1.6679 - msle: 1.0562e-04 - val_loss: 3.7143e-05 - val_mae: 0.0054 - val_root_mean_squared_error: 0.0061 - val_mape: 0.8114 - val_msle: 1.3420e-05 - lr: 2.5000e-04\n",
            "Epoch 15/100\n",
            "2089/2089 [==============================] - ETA: 0s - loss: 3.6977e-04 - mae: 0.0141 - root_mean_squared_error: 0.0192 - mape: 1.6791 - msle: 1.0655e-04\n",
            "Epoch 15: val_loss did not improve from 0.00001\n",
            "2089/2089 [==============================] - 352s 169ms/step - loss: 3.6977e-04 - mae: 0.0141 - root_mean_squared_error: 0.0192 - mape: 1.6791 - msle: 1.0655e-04 - val_loss: 1.2765e-04 - val_mae: 0.0109 - val_root_mean_squared_error: 0.0113 - val_mape: 1.6068 - val_msle: 4.5488e-05 - lr: 2.5000e-04\n",
            "Epoch 16/100\n",
            "2089/2089 [==============================] - ETA: 0s - loss: 3.6798e-04 - mae: 0.0140 - root_mean_squared_error: 0.0192 - mape: 1.6675 - msle: 1.0595e-04\n",
            "Epoch 16: val_loss did not improve from 0.00001\n",
            "2089/2089 [==============================] - 299s 143ms/step - loss: 3.6798e-04 - mae: 0.0140 - root_mean_squared_error: 0.0192 - mape: 1.6675 - msle: 1.0595e-04 - val_loss: 2.0142e-05 - val_mae: 0.0038 - val_root_mean_squared_error: 0.0045 - val_mape: 0.5711 - val_msle: 7.3057e-06 - lr: 2.5000e-04\n",
            "Epoch 17/100\n",
            "2089/2089 [==============================] - ETA: 0s - loss: 3.6925e-04 - mae: 0.0141 - root_mean_squared_error: 0.0192 - mape: 1.6759 - msle: 1.0637e-04\n",
            "Epoch 17: val_loss did not improve from 0.00001\n",
            "2089/2089 [==============================] - 413s 198ms/step - loss: 3.6925e-04 - mae: 0.0141 - root_mean_squared_error: 0.0192 - mape: 1.6759 - msle: 1.0637e-04 - val_loss: 3.7013e-05 - val_mae: 0.0053 - val_root_mean_squared_error: 0.0061 - val_mape: 0.8001 - val_msle: 1.3403e-05 - lr: 2.5000e-04\n",
            "Epoch 18/100\n",
            "2089/2089 [==============================] - ETA: 0s - loss: 3.7160e-04 - mae: 0.0141 - root_mean_squared_error: 0.0193 - mape: 1.6781 - msle: 1.0699e-04\n",
            "Epoch 18: val_loss did not improve from 0.00001\n",
            "2089/2089 [==============================] - 342s 164ms/step - loss: 3.7160e-04 - mae: 0.0141 - root_mean_squared_error: 0.0193 - mape: 1.6781 - msle: 1.0699e-04 - val_loss: 9.9023e-05 - val_mae: 0.0094 - val_root_mean_squared_error: 0.0100 - val_mape: 1.3905 - val_msle: 3.5503e-05 - lr: 2.5000e-04\n",
            "Epoch 19/100\n",
            "2089/2089 [==============================] - ETA: 0s - loss: 3.6535e-04 - mae: 0.0140 - root_mean_squared_error: 0.0191 - mape: 1.6696 - msle: 1.0510e-04\n",
            "Epoch 19: ReduceLROnPlateau reducing learning rate to 0.0001250000059371814.\n",
            "\n",
            "Epoch 19: val_loss improved from 0.00001 to 0.00001, saving model to GeneratedAUDUSD lstm_best.keras\n",
            "2089/2089 [==============================] - 389s 186ms/step - loss: 3.6535e-04 - mae: 0.0140 - root_mean_squared_error: 0.0191 - mape: 1.6696 - msle: 1.0510e-04 - val_loss: 9.1449e-06 - val_mae: 0.0026 - val_root_mean_squared_error: 0.0030 - val_mape: 0.3841 - val_msle: 3.2442e-06 - lr: 2.5000e-04\n",
            "Epoch 20/100\n",
            "2089/2089 [==============================] - ETA: 0s - loss: 3.6204e-04 - mae: 0.0139 - root_mean_squared_error: 0.0190 - mape: 1.6517 - msle: 1.0405e-04\n",
            "Epoch 20: val_loss improved from 0.00001 to 0.00000, saving model to GeneratedAUDUSD lstm_best.keras\n",
            "2089/2089 [==============================] - 344s 165ms/step - loss: 3.6204e-04 - mae: 0.0139 - root_mean_squared_error: 0.0190 - mape: 1.6517 - msle: 1.0405e-04 - val_loss: 4.9822e-06 - val_mae: 0.0017 - val_root_mean_squared_error: 0.0022 - val_mape: 0.2523 - val_msle: 1.7416e-06 - lr: 1.2500e-04\n",
            "Epoch 21/100\n",
            "2089/2089 [==============================] - ETA: 0s - loss: 3.6058e-04 - mae: 0.0139 - root_mean_squared_error: 0.0190 - mape: 1.6513 - msle: 1.0382e-04\n",
            "Epoch 21: val_loss improved from 0.00000 to 0.00000, saving model to GeneratedAUDUSD lstm_best.keras\n",
            "2089/2089 [==============================] - 328s 157ms/step - loss: 3.6058e-04 - mae: 0.0139 - root_mean_squared_error: 0.0190 - mape: 1.6513 - msle: 1.0382e-04 - val_loss: 3.8757e-06 - val_mae: 0.0015 - val_root_mean_squared_error: 0.0020 - val_mape: 0.2139 - val_msle: 1.3529e-06 - lr: 1.2500e-04\n",
            "Epoch 22/100\n",
            "2089/2089 [==============================] - ETA: 0s - loss: 3.5990e-04 - mae: 0.0139 - root_mean_squared_error: 0.0190 - mape: 1.6541 - msle: 1.0366e-04\n",
            "Epoch 22: val_loss did not improve from 0.00000\n",
            "2089/2089 [==============================] - 382s 183ms/step - loss: 3.5990e-04 - mae: 0.0139 - root_mean_squared_error: 0.0190 - mape: 1.6541 - msle: 1.0366e-04 - val_loss: 6.0411e-06 - val_mae: 0.0019 - val_root_mean_squared_error: 0.0025 - val_mape: 0.2897 - val_msle: 2.1700e-06 - lr: 1.2500e-04\n",
            "Epoch 23/100\n",
            "2089/2089 [==============================] - ETA: 0s - loss: 3.5902e-04 - mae: 0.0138 - root_mean_squared_error: 0.0189 - mape: 1.6470 - msle: 1.0356e-04\n",
            "Epoch 23: val_loss did not improve from 0.00000\n",
            "2089/2089 [==============================] - 320s 153ms/step - loss: 3.5902e-04 - mae: 0.0138 - root_mean_squared_error: 0.0189 - mape: 1.6470 - msle: 1.0356e-04 - val_loss: 1.1378e-05 - val_mae: 0.0029 - val_root_mean_squared_error: 0.0034 - val_mape: 0.4266 - val_msle: 4.0990e-06 - lr: 1.2500e-04\n",
            "Epoch 24/100\n",
            "2089/2089 [==============================] - ETA: 0s - loss: 3.5550e-04 - mae: 0.0138 - root_mean_squared_error: 0.0189 - mape: 1.6410 - msle: 1.0269e-04\n",
            "Epoch 24: val_loss did not improve from 0.00000\n",
            "2089/2089 [==============================] - 390s 187ms/step - loss: 3.5550e-04 - mae: 0.0138 - root_mean_squared_error: 0.0189 - mape: 1.6410 - msle: 1.0269e-04 - val_loss: 6.2070e-06 - val_mae: 0.0020 - val_root_mean_squared_error: 0.0025 - val_mape: 0.2932 - val_msle: 2.1966e-06 - lr: 1.2500e-04\n",
            "Epoch 25/100\n",
            "2089/2089 [==============================] - ETA: 0s - loss: 3.5967e-04 - mae: 0.0138 - root_mean_squared_error: 0.0190 - mape: 1.6429 - msle: 1.0358e-04\n",
            "Epoch 25: ReduceLROnPlateau reducing learning rate to 6.25000029685907e-05.\n",
            "\n",
            "Epoch 25: val_loss did not improve from 0.00000\n",
            "2089/2089 [==============================] - 432s 207ms/step - loss: 3.5967e-04 - mae: 0.0138 - root_mean_squared_error: 0.0190 - mape: 1.6429 - msle: 1.0358e-04 - val_loss: 7.5320e-06 - val_mae: 0.0022 - val_root_mean_squared_error: 0.0027 - val_mape: 0.3291 - val_msle: 2.7210e-06 - lr: 1.2500e-04\n",
            "Epoch 26/100\n",
            "2089/2089 [==============================] - ETA: 0s - loss: 3.5507e-04 - mae: 0.0137 - root_mean_squared_error: 0.0188 - mape: 1.6336 - msle: 1.0234e-04\n",
            "Epoch 26: val_loss did not improve from 0.00000\n",
            "2089/2089 [==============================] - 398s 191ms/step - loss: 3.5507e-04 - mae: 0.0137 - root_mean_squared_error: 0.0188 - mape: 1.6336 - msle: 1.0234e-04 - val_loss: 6.0978e-05 - val_mae: 0.0074 - val_root_mean_squared_error: 0.0078 - val_mape: 1.0957 - val_msle: 2.1798e-05 - lr: 6.2500e-05\n",
            "Epoch 27/100\n",
            "2089/2089 [==============================] - ETA: 0s - loss: 3.5641e-04 - mae: 0.0137 - root_mean_squared_error: 0.0189 - mape: 1.6361 - msle: 1.0289e-04\n",
            "Epoch 27: val_loss did not improve from 0.00000\n",
            "2089/2089 [==============================] - 415s 199ms/step - loss: 3.5641e-04 - mae: 0.0137 - root_mean_squared_error: 0.0189 - mape: 1.6361 - msle: 1.0289e-04 - val_loss: 9.4470e-06 - val_mae: 0.0025 - val_root_mean_squared_error: 0.0031 - val_mape: 0.3751 - val_msle: 3.4196e-06 - lr: 6.2500e-05\n",
            "Epoch 28/100\n",
            "2089/2089 [==============================] - ETA: 0s - loss: 3.5507e-04 - mae: 0.0137 - root_mean_squared_error: 0.0188 - mape: 1.6279 - msle: 1.0238e-04\n",
            "Epoch 28: val_loss did not improve from 0.00000\n",
            "2089/2089 [==============================] - 411s 197ms/step - loss: 3.5507e-04 - mae: 0.0137 - root_mean_squared_error: 0.0188 - mape: 1.6279 - msle: 1.0238e-04 - val_loss: 1.6092e-05 - val_mae: 0.0034 - val_root_mean_squared_error: 0.0040 - val_mape: 0.5077 - val_msle: 5.8338e-06 - lr: 6.2500e-05\n",
            "Epoch 29/100\n",
            "2089/2089 [==============================] - ETA: 0s - loss: 3.5364e-04 - mae: 0.0137 - root_mean_squared_error: 0.0188 - mape: 1.6286 - msle: 1.0185e-04\n",
            "Epoch 29: val_loss did not improve from 0.00000\n",
            "2089/2089 [==============================] - 410s 196ms/step - loss: 3.5364e-04 - mae: 0.0137 - root_mean_squared_error: 0.0188 - mape: 1.6286 - msle: 1.0185e-04 - val_loss: 6.1561e-05 - val_mae: 0.0075 - val_root_mean_squared_error: 0.0078 - val_mape: 1.1127 - val_msle: 2.1887e-05 - lr: 6.2500e-05\n",
            "Epoch 30/100\n",
            "2089/2089 [==============================] - ETA: 0s - loss: 3.5515e-04 - mae: 0.0137 - root_mean_squared_error: 0.0188 - mape: 1.6357 - msle: 1.0234e-04\n",
            "Epoch 30: val_loss did not improve from 0.00000\n",
            "2089/2089 [==============================] - 412s 197ms/step - loss: 3.5515e-04 - mae: 0.0137 - root_mean_squared_error: 0.0188 - mape: 1.6357 - msle: 1.0234e-04 - val_loss: 9.5908e-06 - val_mae: 0.0025 - val_root_mean_squared_error: 0.0031 - val_mape: 0.3758 - val_msle: 3.4752e-06 - lr: 6.2500e-05\n",
            "Epoch 31/100\n",
            "2089/2089 [==============================] - ETA: 0s - loss: 3.4932e-04 - mae: 0.0136 - root_mean_squared_error: 0.0187 - mape: 1.6233 - msle: 1.0054e-04\n",
            "Epoch 31: ReduceLROnPlateau reducing learning rate to 3.125000148429535e-05.\n",
            "\n",
            "Epoch 31: val_loss did not improve from 0.00000\n",
            "2089/2089 [==============================] - 434s 208ms/step - loss: 3.4932e-04 - mae: 0.0136 - root_mean_squared_error: 0.0187 - mape: 1.6233 - msle: 1.0054e-04 - val_loss: 1.7095e-05 - val_mae: 0.0037 - val_root_mean_squared_error: 0.0041 - val_mape: 0.5481 - val_msle: 6.1352e-06 - lr: 6.2500e-05\n",
            "Epoch 32/100\n",
            "2089/2089 [==============================] - ETA: 0s - loss: 3.4815e-04 - mae: 0.0136 - root_mean_squared_error: 0.0187 - mape: 1.6166 - msle: 1.0019e-04\n",
            "Epoch 32: val_loss did not improve from 0.00000\n",
            "2089/2089 [==============================] - 421s 201ms/step - loss: 3.4815e-04 - mae: 0.0136 - root_mean_squared_error: 0.0187 - mape: 1.6166 - msle: 1.0019e-04 - val_loss: 6.8370e-05 - val_mae: 0.0079 - val_root_mean_squared_error: 0.0083 - val_mape: 1.1713 - val_msle: 2.4355e-05 - lr: 3.1250e-05\n",
            "Epoch 33/100\n",
            "2089/2089 [==============================] - ETA: 0s - loss: 3.4810e-04 - mae: 0.0135 - root_mean_squared_error: 0.0187 - mape: 1.6117 - msle: 1.0008e-04Restoring model weights from the end of the best epoch: 21.\n",
            "\n",
            "Epoch 33: val_loss did not improve from 0.00000\n",
            "2089/2089 [==============================] - 414s 198ms/step - loss: 3.4810e-04 - mae: 0.0135 - root_mean_squared_error: 0.0187 - mape: 1.6117 - msle: 1.0008e-04 - val_loss: 3.1352e-05 - val_mae: 0.0052 - val_root_mean_squared_error: 0.0056 - val_mape: 0.7698 - val_msle: 1.1224e-05 - lr: 3.1250e-05\n",
            "Epoch 33: early stopping\n"
          ]
        }
      ],
      "source": [
        "\n",
        "es = EarlyStopping(monitor='val_loss', patience=12, restore_best_weights=True, verbose=2)\n",
        "rlr = ReduceLROnPlateau(monitor='val_loss', factor=0.5, patience=6, min_lr=1e-6, verbose=2)\n",
        "mc = ModelCheckpoint(m_label + 'lstm_best.keras', monitor='val_loss', save_best_only=True, verbose=2)\n",
        "model.compile(optimizer=Adam(learning_rate=0.001),\n",
        "              loss='mse',\n",
        "              metrics=['mae',tf.keras.metrics.RootMeanSquaredError(),'mape','msle'])\n",
        "r = model.fit(\n",
        "  X_train, y_train,\n",
        "  validation_data=(X_val, y_val),\n",
        "  epochs=100,\n",
        "  #batch_size=1024,\n",
        "  callbacks=[es, rlr, mc ],\n",
        "  verbose=1\n",
        "\n",
        ")\n",
        "\n",
        "\n"
      ]
    },
    {
      "cell_type": "code",
      "execution_count": 16,
      "metadata": {
        "id": "gN-5WQ-M4QOP"
      },
      "outputs": [
        {
          "data": {
            "image/png": "[encoded data removed]",
            "text/plain": [
              "<Figure size 640x480 with 1 Axes>"
            ]
          },
          "metadata": {},
          "output_type": "display_data"
        },
        {
          "data": {
            "image/png": "[encoded data removed]",
            "text/plain": [
              "<Figure size 640x480 with 1 Axes>"
            ]
          },
          "metadata": {},
          "output_type": "display_data"
        },
        {
          "data": {
            "image/png": "[encoded data removed]",
            "text/plain": [
              "<Figure size 640x480 with 1 Axes>"
            ]
          },
          "metadata": {},
          "output_type": "display_data"
        },
        {
          "data": {
            "image/png": "[encoded data removed]",
            "text/plain": [
              "<Figure size 640x480 with 1 Axes>"
            ]
          },
          "metadata": {},
          "output_type": "display_data"
        },
        {
          "data": {
            "image/png": "[encoded data removed]",
            "text/plain": [
              "<Figure size 640x480 with 1 Axes>"
            ]
          },
          "metadata": {},
          "output_type": "display_data"
        }
      ],
      "source": [
        "plt.title(\"Loss on data\")\n",
        "plt.plot(r.history['loss'], label=\"loss\")\n",
        "plt.plot(r.history['val_loss'], label=\"val_loss\")\n",
        "plt.legend()\n",
        "plt.show()\n",
        "\n",
        "plt.title(\"MAE on data\")\n",
        "plt.plot(r.history['mae'], label=\"mae\")\n",
        "plt.plot(r.history['val_mae'], label=\"val_mae\")\n",
        "plt.legend()\n",
        "plt.show()\n",
        "\n",
        "plt.title(\"mape on data\")\n",
        "plt.plot(r.history['mape'], label=\"mape\")\n",
        "plt.plot(r.history['val_mape'], label=\"val_mape\")\n",
        "plt.legend()\n",
        "plt.show()\n",
        "\n",
        "plt.title(\"msle on data\")\n",
        "plt.plot(r.history['msle'], label=\"msle\")\n",
        "plt.plot(r.history['val_msle'], label=\"val_msle\")\n",
        "plt.legend()\n",
        "plt.show()\n",
        "\n",
        "plt.title(\"root_mean_squared_error on data\")\n",
        "plt.plot(r.history['root_mean_squared_error'], label=\"root_mean_squared_error\")\n",
        "plt.plot(r.history['val_root_mean_squared_error'], label=\"val_root_mean_squared_error\")\n",
        "plt.legend()\n",
        "plt.show()\n",
        "\n",
        "\n"
      ]
    },
    {
      "cell_type": "code",
      "execution_count": 17,
      "metadata": {},
      "outputs": [],
      "source": [
        "best_model = load_model(m_label + 'lstm_best.keras')\n"
      ]
    },
    {
      "cell_type": "code",
      "execution_count": 19,
      "metadata": {},
      "outputs": [
        {
          "name": "stdout",
          "output_type": "stream",
          "text": [
            "Model: \"model\"\n",
            "_________________________________________________________________\n",
            " Layer (type)                Output Shape              Param #   \n",
            "=================================================================\n",
            " input_1 (InputLayer)        [(None, 240, 4)]          0         \n",
            "                                                                 \n",
            " bidirectional (Bidirectiona  (None, 240, 400)         328000    \n",
            " l)                                                              \n",
            "                                                                 \n",
            " bidirectional_1 (Bidirectio  (None, 240, 400)         961600    \n",
            " nal)                                                            \n",
            "                                                                 \n",
            " bidirectional_2 (Bidirectio  (None, 240, 400)         961600    \n",
            " nal)                                                            \n",
            "                                                                 \n",
            " bidirectional_3 (Bidirectio  (None, 400)              961600    \n",
            " nal)                                                            \n",
            "                                                                 \n",
            " dense (Dense)               (None, 150)               60150     \n",
            "                                                                 \n",
            " dropout (Dropout)           (None, 150)               0         \n",
            "                                                                 \n",
            " dense_1 (Dense)             (None, 5)                 755       \n",
            "                                                                 \n",
            "=================================================================\n",
            "Total params: 3,273,705\n",
            "Trainable params: 3,273,705\n",
            "Non-trainable params: 0\n",
            "_________________________________________________________________\n"
          ]
        }
      ],
      "source": [
        "best_model.summary()"
      ]
    },
    {
      "cell_type": "code",
      "execution_count": 18,
      "metadata": {},
      "outputs": [
        {
          "name": "stdout",
          "output_type": "stream",
          "text": [
            "3118/3118 [==============================] - 150s 48ms/step - loss: 6.5306e-06 - mae: 0.0019 - root_mean_squared_error: 0.0026 - mape: 0.2345 - msle: 1.9119e-06\n"
          ]
        },
        {
          "data": {
            "text/plain": [
              "[6.53060033073416e-06,\n",
              " 0.001902485848404467,\n",
              " 0.002555504208430648,\n",
              " 0.23454256355762482,\n",
              " 1.9118847376375925e-06]"
            ]
          },
          "execution_count": 18,
          "metadata": {},
          "output_type": "execute_result"
        }
      ],
      "source": [
        "best_model.evaluate(X1,y1)"
      ]
    },
    {
      "cell_type": "code",
      "execution_count": 47,
      "metadata": {},
      "outputs": [
        {
          "name": "stdout",
          "output_type": "stream",
          "text": [
            "11/11 [==============================] - 1s 46ms/step\n"
          ]
        }
      ],
      "source": [
        "y_pred = best_model.predict(X_test)"
      ]
    },
    {
      "cell_type": "code",
      "execution_count": 48,
      "metadata": {},
      "outputs": [
        {
          "name": "stdout",
          "output_type": "stream",
          "text": [
            "[[0.64902 0.64911 0.64934 ... 0.64864 0.64884 0.64789]\n",
            " [0.64911 0.64934 0.64939 ... 0.64884 0.64789 0.64901]\n",
            " [0.64934 0.64939 0.64935 ... 0.64789 0.64901 0.64851]\n",
            " ...\n",
            " [0.65401 0.65712 0.65877 ... 0.65516 0.65517 0.65546]\n",
            " [0.65712 0.65877 0.65564 ... 0.65517 0.65546 0.65831]\n",
            " [0.65877 0.65564 0.65672 ... 0.65546 0.65831 0.65863]]  comparing to  [[0.64911157 0.64912194 0.64917445 ... 0.64911705 0.6491786  0.64932853]\n",
            " [0.6489623  0.6489727  0.64902526 ... 0.64896774 0.6490294  0.64917946]\n",
            " [0.64890385 0.6489142  0.64896685 ... 0.6489092  0.6489709  0.64912105]\n",
            " ...\n",
            " [0.6540427  0.6540556  0.6541031  ... 0.65405506 0.6541065  0.65425795]\n",
            " [0.65354574 0.6535586  0.65360624 ... 0.6535578  0.6536096  0.6537616 ]\n",
            " [0.65569717 0.65570986 0.655757   ... 0.65571034 0.6557607  0.65591025]]\n"
          ]
        }
      ],
      "source": [
        "print(y_test, \" comparing to \", y_pred)"
      ]
    },
    {
      "cell_type": "code",
      "execution_count": 49,
      "metadata": {},
      "outputs": [
        {
          "name": "stdout",
          "output_type": "stream",
          "text": [
            "R^2 value for  GeneratedAUDUSD \n",
            "0.8687540694075089\n"
          ]
        }
      ],
      "source": [
        "print(\"R^2 value for \", m_label)\n",
        "print(r2_score(y_test, y_pred))"
      ]
    },
    {
      "cell_type": "code",
      "execution_count": 50,
      "metadata": {},
      "outputs": [
        {
          "name": "stdout",
          "output_type": "stream",
          "text": [
            "3118/3118 [==============================] - 143s 46ms/step\n",
            "R^2 value for test  GeneratedAUDUSD \n",
            "0.9995593957582634\n"
          ]
        }
      ],
      "source": [
        "y_pred = best_model.predict(X1)\n",
        "print(\"R^2 value for test \", m_label)\n",
        "print(r2_score(y1, y_pred))"
      ]
    },
    {
      "cell_type": "code",
      "execution_count": 52,
      "metadata": {},
      "outputs": [
        {
          "name": "stdout",
          "output_type": "stream",
          "text": [
            "[0.65877 0.65564 0.65672 0.6563  0.65549 0.65516 0.65517 0.65546 0.65831\n",
            " 0.65863]  comparing to  [0.6556973  0.65571004 0.6557571  0.6558425  0.6557368  0.6557678\n",
            " 0.6557008  0.65571046 0.6557608  0.65591043]\n"
          ]
        }
      ],
      "source": [
        "print(y1[-1], \" comparing to \", y_pred[-1])"
      ]
    },
    {
      "cell_type": "code",
      "execution_count": null,
      "metadata": {},
      "outputs": [],
      "source": [
        "\n",
        "\n",
        "\n",
        "\n",
        "plt.figure(figsize=(12, 6))\n",
        "plt.plot(y_test[:, -1], label='Actual Close Price', color='blue')\n",
        "plt.plot(y_pred[:, -1], label='Predicted Close Price', color='red', linestyle='--')\n",
        "plt.title('Actual vs. Predicted Close Price')\n",
        "plt.xlabel('Time')\n",
        "plt.ylabel('Close Price')\n",
        "plt.legend()\n",
        "plt.grid(True)\n",
        "plt.savefig('actual_vs_predicted.png')\n",
        "plt.show()\n",
        "\n",
        "\n",
        "\n",
        "plt.figure(figsize=(12, 6))\n",
        "plt.plot(y1[:, -1], label='Actual Close Price', color='blue')\n",
        "plt.plot(y_pred[:, -1], label='Predicted Close Price', color='red', linestyle='--')\n",
        "plt.title('Actual vs. Predicted Close Price Test')\n",
        "plt.xlabel('Time')\n",
        "plt.ylabel('Close Price')\n",
        "plt.legend()\n",
        "plt.grid(True)\n",
        "plt.savefig('actual_vs_predicted.png')\n",
        "plt.show()"
      ]
    }
  ],
  "metadata": {
    "accelerator": "GPU",
    "colab": {
      "gpuType": "T4",
      "include_colab_link": true,
      "provenance": []
    },
    "kernelspec": {
      "display_name": "Python 3",
      "name": "python3"
    },
    "language_info": {
      "codemirror_mode": {
        "name": "ipython",
        "version": 3
      },
      "file_extension": ".py",
      "mimetype": "text/x-python",
      "name": "python",
      "nbconvert_exporter": "python",
      "pygments_lexer": "ipython3",
      "version": "3.10.13"
    }
  },
  "nbformat": 4,
  "nbformat_minor": 0
}
