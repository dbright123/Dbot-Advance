{
  "cells": [
    {
      "cell_type": "markdown",
      "metadata": {
        "colab_type": "text",
        "id": "view-in-github"
      },
      "source": [
        "<a href=\"https://colab.research.google.com/github/dbright123/Dbot-Advance/blob/main/lstm_predict.ipynb\" target=\"_parent\"><img src=\"https://colab.research.google.com/assets/colab-badge.svg\" alt=\"Open In Colab\"/></a>"
      ]
    },
    {
      "cell_type": "code",
      "execution_count": 8,
      "metadata": {
        "id": "Z1oCaggK4VKR"
      },
      "outputs": [],
      "source": [
        "import MetaTrader5 as mt5\n",
        "import numpy as np\n",
        "import pandas as pd\n",
        "\n",
        "\n",
        "\n"
      ]
    },
    {
      "cell_type": "code",
      "execution_count": 9,
      "metadata": {
        "id": "btJoWVAx4VKS",
        "outputId": "077d53d7-b8ac-4d3c-9251-3f449e68e0f3"
      },
      "outputs": [
        {
          "name": "stdout",
          "output_type": "stream",
          "text": [
            "MetaTrader5 package author:  MetaQuotes Ltd.\n",
            "MetaTrader5 package version:  5.0.5200\n",
            "True\n",
            "{'login': 63134054, 'trade_mode': 2, 'leverage': 100, 'limit_orders': 500, 'margin_so_mode': 0, 'trade_allowed': True, 'trade_expert': True, 'margin_mode': 2, 'currency_digits': 2, 'fifo_close': False, 'balance': 56.54, 'credit': 13.06, 'profit': 0.0, 'equity': 69.6, 'margin': 0.0, 'margin_free': 69.6, 'margin_level': 0.0, 'margin_so_call': 25.0, 'margin_so_so': 15.0, 'margin_initial': 0.0, 'margin_maintenance': 0.0, 'assets': 0.0, 'liabilities': 0.0, 'commission_blocked': 0.0, 'name': 'Bright Idowu ', 'server': 'OctaFX-Real', 'currency': 'USD', 'company': 'Octa Markets Incorporated'}\n",
            "\n",
            "\n",
            "{'community_account': False, 'community_connection': False, 'connected': True, 'dlls_allowed': False, 'trade_allowed': True, 'tradeapi_disabled': False, 'email_enabled': False, 'ftp_enabled': False, 'notifications_enabled': False, 'mqid': True, 'build': 5370, 'maxbars': 100000000, 'codepage': 0, 'ping_last': 165150, 'community_balance': 0.0, 'retransmission': 0.2827581964983168, 'company': 'MetaQuotes Ltd.', 'name': 'MetaTrader 5', 'language': 'English', 'path': 'C:\\\\Program Files\\\\MetaTrader 5', 'data_path': 'C:\\\\Users\\\\dbright\\\\AppData\\\\Roaming\\\\MetaQuotes\\\\Terminal\\\\D0E8209F77C8CF37AD8BF550E51FF075', 'commondata_path': 'C:\\\\Users\\\\dbright\\\\AppData\\\\Roaming\\\\MetaQuotes\\\\Terminal\\\\Common'}\n",
            "\n",
            "\n",
            "279\n"
          ]
        }
      ],
      "source": [
        "print(\"MetaTrader5 package author: \",mt5.__author__)\n",
        "print(\"MetaTrader5 package version: \",mt5.__version__)\n",
        "\n",
        "trade_active = mt5.initialize()\n",
        "\n",
        "print(trade_active)\n",
        "\n",
        "if not trade_active:\n",
        "    print('Initialization failed, check internet connection. You must have Meta Trader 5 installed.')\n",
        "    mt5.shutdown()\n",
        "\n",
        "else:\n",
        "    print(mt5.account_info()._asdict())\n",
        "    print(\"\\n\")\n",
        "    print(mt5.terminal_info()._asdict())\n",
        "    print(\"\\n\")\n",
        "    print(mt5.symbols_total())"
      ]
    },
    {
      "cell_type": "code",
      "execution_count": 10,
      "metadata": {
        "id": "ep9xWhDh4VKU",
        "outputId": "31c79ec1-fd31-4335-d881-2db8f23fed61"
      },
      "outputs": [
        {
          "name": "stdout",
          "output_type": "stream",
          "text": [
            "69.6\n",
            "AI is successfully functional\n"
          ]
        }
      ],
      "source": [
        "account = mt5.account_info()\n",
        "terminal = mt5.terminal_info()\n",
        "\n",
        "print(account.equity)\n",
        "\n",
        "if(terminal.connected == True or terminal.trade_allowed == True):\n",
        "    print(\"AI is successfully functional\")\n",
        "else:\n",
        "    print(\"Please make sure metatrade 5 has internet and algo Trade is Turn On\")"
      ]
    },
    {
      "cell_type": "code",
      "execution_count": 11,
      "metadata": {
        "id": "Cm6_C7cwJaFl",
        "outputId": "14ed083f-33ea-49ce-81da-0259753f3a03"
      },
      "outputs": [
        {
          "name": "stdout",
          "output_type": "stream",
          "text": [
            "279\n",
            "Yes  EURUSD\n",
            "Yes  GBPUSD\n",
            "Yes  USDJPY\n",
            "Yes  USDCHF\n",
            "Yes  AUDUSD\n",
            "Yes  NZDUSD\n",
            "Yes  USDCAD\n",
            "Yes  USDMXN\n",
            "Yes  USDZAR\n",
            "Yes  XAGUSD\n",
            "Yes  XAUUSD\n",
            "Yes  XBRUSD\n",
            "Yes  XTIUSD\n",
            "Yes  XNGUSD\n",
            "Yes  AUS200\n",
            "Yes  EUSTX50\n",
            "Yes  US30\n",
            "Yes  BTCUSD\n",
            "Yes  ETHUSD\n",
            "Yes  LTCUSD\n",
            "Yes  XRPUSD\n",
            "Yes  BCHUSD\n",
            "Yes  AAVEUSD\n",
            "Yes  ADAUSD\n",
            "Yes  ALGOUSD\n",
            "Yes  ATOMUSD\n",
            "Yes  AVAXUSD\n",
            "Yes  AXSUSD\n",
            "Yes  BNBUSD\n",
            "Yes  DASHUSD\n",
            "Yes  DOGEUSD\n",
            "Yes  DOTUSD\n",
            "Yes  FILUSD\n",
            "Yes  GRTUSD\n",
            "Yes  ICPUSD\n",
            "Yes  IOTAUSD\n",
            "Yes  LINKUSD\n",
            "Yes  LRCUSD\n",
            "Yes  MANAUSD\n",
            "Yes  NEARUSD\n",
            "Yes  SOLUSD\n",
            "Yes  UNIUSD\n",
            "Yes  ZECUSD\n",
            "Yes  ETCUSD\n",
            "Yes  TRXUSD\n",
            "Yes  FETUSD\n",
            "Yes  ARBUSD\n",
            "Yes  APTUSD\n",
            "Yes  SUIUSD\n",
            "Yes  TMUS.NAS\n",
            "Yes  USDCNH\n",
            "Yes  USDCZK\n",
            "Yes  USDDKK\n",
            "Yes  USDHKD\n",
            "Yes  USDHUF\n",
            "Yes  USDNOK\n",
            "Yes  USDPLN\n",
            "Yes  USDSEK\n",
            "Yes  USDSGD\n",
            "Yes  USDTRY\n",
            "Yes  US30.Daily\n",
            "Yes  XBRUSD.Daily\n",
            "Yes  XTIUSD.Daily\n",
            "Yes  BTCUSD.Daily\n",
            "Yes  ETHUSD.Daily\n",
            "Yes  XRPUSD.Daily\n",
            "Yes  LTCUSD.Daily\n",
            "Yes  BCHUSD.Daily\n",
            "Yes  LINKUSD.Daily\n",
            "Yes  SOLUSD.Daily\n",
            "70\n"
          ]
        }
      ],
      "source": [
        "symbols = mt5.symbols_get()\n",
        "print(len(symbols))\n",
        "t_symbol = []\n",
        "for symbol in symbols:\n",
        "    if \"US\" in symbol.name:\n",
        "        print(\"Yes \", symbol.name)\n",
        "        t_symbol.append(symbol.name)\n",
        "\n",
        "print(len(t_symbol))"
      ]
    },
    {
      "cell_type": "code",
      "execution_count": 17,
      "metadata": {
        "id": "S9rw9k_WbKfm",
        "outputId": "eb70bbd8-c5f8-4f29-94b8-4697f9acd144"
      },
      "outputs": [
        {
          "name": "stdout",
          "output_type": "stream",
          "text": [
            "(333823,)\n",
            "GBPUSD\n"
          ]
        }
      ],
      "source": [
        "t_s = \"GBPUSD\"\n",
        "market = mt5.copy_rates_from_pos(t_s, mt5.TIMEFRAME_M30, 0, 10000000)\n",
        "#display(market)\n",
        "print(market.shape)\n",
        "\n",
        "print(t_s)\n",
        "\n",
        "\n"
      ]
    },
    {
      "cell_type": "code",
      "execution_count": 18,
      "metadata": {
        "id": "S0FLlKcMh-mJ",
        "outputId": "88baf341-a149-4ca8-d777-0f34a72f1785"
      },
      "outputs": [
        {
          "data": {
            "text/plain": [
              "array([( 737164800, 1.537  , 1.5445 , 1.529  , 1.5338 , 2781, 50, 0),\n",
              "       ( 737251200, 1.5328 , 1.536  , 1.518  , 1.5225 , 2571, 50, 0),\n",
              "       ( 737337600, 1.5228 , 1.5415 , 1.52   , 1.5387 , 2711, 50, 0), ...,\n",
              "       (1761177600, 1.33527, 1.33581, 1.33514, 1.3354 ,   81, 20, 0),\n",
              "       (1761179400, 1.33538, 1.33547, 1.33525, 1.33536, 2410, 14, 0),\n",
              "       (1761181200, 1.33538, 1.33588, 1.3353 , 1.33575,  194, 14, 0)],\n",
              "      dtype=[('time', '<i8'), ('open', '<f8'), ('high', '<f8'), ('low', '<f8'), ('close', '<f8'), ('tick_volume', '<u8'), ('spread', '<i4'), ('real_volume', '<u8')])"
            ]
          },
          "execution_count": 18,
          "metadata": {},
          "output_type": "execute_result"
        }
      ],
      "source": [
        "market"
      ]
    },
    {
      "cell_type": "code",
      "execution_count": 19,
      "metadata": {
        "id": "EzfEfHeTzI4A"
      },
      "outputs": [],
      "source": [
        "data = []\n",
        "for i in range(len(market)):\n",
        "    data.append([market[i][1],market[i][2],market[i][3],market[i][4],market[i][5]])\n",
        "df = pd.DataFrame(data, columns=[\"open\", \"high\",\"low\", \"close\", \"volume\"])\n",
        "df.to_csv(\"Generated\"+t_s+\" dbot.csv\", index=False)"
      ]
    },
    {
      "cell_type": "code",
      "execution_count": 1,
      "metadata": {
        "id": "M8QyUXsy4op6"
      },
      "outputs": [
        {
          "name": "stdout",
          "output_type": "stream",
          "text": [
            "2.10.1\n"
          ]
        }
      ],
      "source": [
        "import numpy as np # linear algebra\n",
        "import pandas as pd # data processing, CSV file I/O (e.g. pd.read_csv)\n",
        "import tensorflow as tf\n",
        "print(tf.__version__)\n"
      ]
    },
    {
      "cell_type": "code",
      "execution_count": 2,
      "metadata": {
        "id": "PqACycZPJaFn"
      },
      "outputs": [],
      "source": [
        "from sklearn.preprocessing import MinMaxScaler, StandardScaler\n",
        "from sklearn.metrics import mean_squared_error, mean_absolute_error\n",
        "import joblib\n",
        "import os\n",
        "from sklearn.model_selection import train_test_split\n",
        "import numpy as np\n",
        "from sklearn.preprocessing import MinMaxScaler\n",
        "from scaler3d2d import preprocess_and_save_scalers,transform_data, inverse_transform_data,create_sequences\n",
        "\n"
      ]
    },
    {
      "cell_type": "code",
      "execution_count": 3,
      "metadata": {
        "id": "tpswK5-7JaFo"
      },
      "outputs": [],
      "source": [
        "from tensorflow.keras.optimizers import SGD,Adam\n",
        "import matplotlib.pyplot as plt\n",
        "\n",
        "\n",
        "\n",
        "from tensorflow.keras import Model\n",
        "from tensorflow.keras.layers import Input, LSTM, Dense, Dropout, BatchNormalization, LayerNormalization, Bidirectional\n",
        "from tensorflow.keras.callbacks import EarlyStopping, ReduceLROnPlateau, ModelCheckpoint\n",
        "\n",
        "from sklearn.metrics import r2_score\n",
        "from tensorflow.keras.models import load_model\n",
        "import keras"
      ]
    },
    {
      "cell_type": "code",
      "execution_count": 4,
      "metadata": {
        "id": "UC2tpiHOpgVu"
      },
      "outputs": [],
      "source": [
        "t_symbol = [\"GBPUSD\"]"
      ]
    },
    {
      "cell_type": "code",
      "execution_count": 7,
      "metadata": {
        "id": "NWXhyS91bKfn"
      },
      "outputs": [],
      "source": [
        "\n",
        "\n",
        "def engineer_features_5min_btc(df):\n",
        "    \"\"\"\n",
        "    Input: df with columns ['timestamp', 'open', 'high', 'low', 'close', 'volume']\n",
        "    Output: df with 68 features\n",
        "    \"\"\"\n",
        "\n",
        "    # GROUP 1: Core Price Features\n",
        "    df['typical_price'] = (df['high'] + df['low'] + df['close']) / 3\n",
        "    df['hl_range'] = df['high'] - df['low']\n",
        "\n",
        "    # GROUP 7: Support/Resistance Features\n",
        "    df['pivot_point'] = (df['high'].shift(1) + df['low'].shift(1) + df['close'].shift(1)) / 3\n",
        "    \n",
        "    return df\n",
        "\n",
        "# Usage:\n",
        "# df = pd.read_csv('btcusd_5min.csv')\n",
        "# df = engineer_features_5min_btc(df)"
      ]
    },
    {
      "cell_type": "code",
      "execution_count": 8,
      "metadata": {
        "id": "p5vJpq3AbKfo"
      },
      "outputs": [],
      "source": [
        "n = 0\n",
        "m_label = \"Generated\"+t_symbol[n]\n",
        "train_df = pd.read_csv(m_label+ \" dbot.csv\")\n",
        "#train_df = engineer_features_5min_btc()[1000:]"
      ]
    },
    {
      "cell_type": "code",
      "execution_count": 9,
      "metadata": {
        "id": "IW84qQV4bKfo"
      },
      "outputs": [
        {
          "data": {
            "text/html": [
              "<div>\n",
              "<style scoped>\n",
              "    .dataframe tbody tr th:only-of-type {\n",
              "        vertical-align: middle;\n",
              "    }\n",
              "\n",
              "    .dataframe tbody tr th {\n",
              "        vertical-align: top;\n",
              "    }\n",
              "\n",
              "    .dataframe thead th {\n",
              "        text-align: right;\n",
              "    }\n",
              "</style>\n",
              "<table border=\"1\" class=\"dataframe\">\n",
              "  <thead>\n",
              "    <tr style=\"text-align: right;\">\n",
              "      <th></th>\n",
              "      <th>open</th>\n",
              "      <th>high</th>\n",
              "      <th>low</th>\n",
              "      <th>close</th>\n",
              "      <th>volume</th>\n",
              "      <th>spread</th>\n",
              "    </tr>\n",
              "  </thead>\n",
              "  <tbody>\n",
              "    <tr>\n",
              "      <th>0</th>\n",
              "      <td>1.53700</td>\n",
              "      <td>1.54450</td>\n",
              "      <td>1.52900</td>\n",
              "      <td>1.53380</td>\n",
              "      <td>2781</td>\n",
              "      <td>50</td>\n",
              "    </tr>\n",
              "    <tr>\n",
              "      <th>1</th>\n",
              "      <td>1.53280</td>\n",
              "      <td>1.53600</td>\n",
              "      <td>1.51800</td>\n",
              "      <td>1.52250</td>\n",
              "      <td>2571</td>\n",
              "      <td>50</td>\n",
              "    </tr>\n",
              "    <tr>\n",
              "      <th>2</th>\n",
              "      <td>1.52280</td>\n",
              "      <td>1.54150</td>\n",
              "      <td>1.52000</td>\n",
              "      <td>1.53870</td>\n",
              "      <td>2711</td>\n",
              "      <td>50</td>\n",
              "    </tr>\n",
              "    <tr>\n",
              "      <th>3</th>\n",
              "      <td>1.53650</td>\n",
              "      <td>1.54600</td>\n",
              "      <td>1.53090</td>\n",
              "      <td>1.53550</td>\n",
              "      <td>2921</td>\n",
              "      <td>50</td>\n",
              "    </tr>\n",
              "    <tr>\n",
              "      <th>4</th>\n",
              "      <td>1.53500</td>\n",
              "      <td>1.53800</td>\n",
              "      <td>1.52370</td>\n",
              "      <td>1.53650</td>\n",
              "      <td>2711</td>\n",
              "      <td>50</td>\n",
              "    </tr>\n",
              "    <tr>\n",
              "      <th>...</th>\n",
              "      <td>...</td>\n",
              "      <td>...</td>\n",
              "      <td>...</td>\n",
              "      <td>...</td>\n",
              "      <td>...</td>\n",
              "      <td>...</td>\n",
              "    </tr>\n",
              "    <tr>\n",
              "      <th>1980013</th>\n",
              "      <td>1.34053</td>\n",
              "      <td>1.34054</td>\n",
              "      <td>1.34016</td>\n",
              "      <td>1.34021</td>\n",
              "      <td>433</td>\n",
              "      <td>14</td>\n",
              "    </tr>\n",
              "    <tr>\n",
              "      <th>1980014</th>\n",
              "      <td>1.34019</td>\n",
              "      <td>1.34050</td>\n",
              "      <td>1.34014</td>\n",
              "      <td>1.34032</td>\n",
              "      <td>259</td>\n",
              "      <td>14</td>\n",
              "    </tr>\n",
              "    <tr>\n",
              "      <th>1980015</th>\n",
              "      <td>1.34032</td>\n",
              "      <td>1.34067</td>\n",
              "      <td>1.34032</td>\n",
              "      <td>1.34055</td>\n",
              "      <td>262</td>\n",
              "      <td>14</td>\n",
              "    </tr>\n",
              "    <tr>\n",
              "      <th>1980016</th>\n",
              "      <td>1.34059</td>\n",
              "      <td>1.34111</td>\n",
              "      <td>1.34054</td>\n",
              "      <td>1.34111</td>\n",
              "      <td>424</td>\n",
              "      <td>14</td>\n",
              "    </tr>\n",
              "    <tr>\n",
              "      <th>1980017</th>\n",
              "      <td>1.34113</td>\n",
              "      <td>1.34136</td>\n",
              "      <td>1.34091</td>\n",
              "      <td>1.34116</td>\n",
              "      <td>561</td>\n",
              "      <td>14</td>\n",
              "    </tr>\n",
              "  </tbody>\n",
              "</table>\n",
              "<p>1980018 rows × 6 columns</p>\n",
              "</div>"
            ],
            "text/plain": [
              "            open     high      low    close  volume  spread\n",
              "0        1.53700  1.54450  1.52900  1.53380    2781      50\n",
              "1        1.53280  1.53600  1.51800  1.52250    2571      50\n",
              "2        1.52280  1.54150  1.52000  1.53870    2711      50\n",
              "3        1.53650  1.54600  1.53090  1.53550    2921      50\n",
              "4        1.53500  1.53800  1.52370  1.53650    2711      50\n",
              "...          ...      ...      ...      ...     ...     ...\n",
              "1980013  1.34053  1.34054  1.34016  1.34021     433      14\n",
              "1980014  1.34019  1.34050  1.34014  1.34032     259      14\n",
              "1980015  1.34032  1.34067  1.34032  1.34055     262      14\n",
              "1980016  1.34059  1.34111  1.34054  1.34111     424      14\n",
              "1980017  1.34113  1.34136  1.34091  1.34116     561      14\n",
              "\n",
              "[1980018 rows x 6 columns]"
            ]
          },
          "execution_count": 9,
          "metadata": {},
          "output_type": "execute_result"
        }
      ],
      "source": [
        "train_df"
      ]
    },
    {
      "cell_type": "code",
      "execution_count": 10,
      "metadata": {
        "id": "FgfuQq2n2yc1"
      },
      "outputs": [
        {
          "name": "stdout",
          "output_type": "stream",
          "text": [
            "GeneratedGBPUSD\n",
            "[1.34116]\n"
          ]
        }
      ],
      "source": [
        "\n",
        "#train_df_test = train_dfs_test[n]\n",
        "print(m_label)\n",
        "SEQ_LEN = 120 # length of input sequence (timesteps). Typical choices: 30, 60, 90\n",
        "n_rows, n_features = train_df.values.shape\n",
        "\n",
        "X, y = create_sequences(train_df.values, SEQ_LEN, 3, 3)  # X: (n_samples, SEQ_LEN, n_features), y: (n_samples, n_features)\n",
        "\n",
        "n_samples = X.shape[0]\n",
        "#print(X[-1])\n",
        "print(y[-1])"
      ]
    },
    {
      "cell_type": "code",
      "execution_count": 11,
      "metadata": {
        "id": "rsrSNZt8bKfo"
      },
      "outputs": [
        {
          "name": "stdout",
          "output_type": "stream",
          "text": [
            "[[  1.34322   1.34354   1.34318   1.34352 283.       14.     ]\n",
            " [  1.34352   1.34372   1.34348   1.34354 223.       14.     ]\n",
            " [  1.34353   1.34373   1.3435    1.34372 259.       14.     ]\n",
            " [  1.34372   1.34387   1.34366   1.34387 151.       14.     ]\n",
            " [  1.34384   1.34415   1.3438    1.34409 183.       14.     ]\n",
            " [  1.3441    1.34414   1.34401   1.34413 159.       14.     ]\n",
            " [  1.34413   1.34425   1.34403   1.34422 235.       14.     ]\n",
            " [  1.34422   1.34423   1.34399   1.34403 164.       14.     ]\n",
            " [  1.34401   1.34405   1.34384   1.34385 148.       14.     ]\n",
            " [  1.34386   1.34386   1.34363   1.34373 149.       14.     ]\n",
            " [  1.34372   1.34375   1.3436    1.34362 137.       14.     ]\n",
            " [  1.34361   1.34362   1.34344   1.34351 162.       14.     ]\n",
            " [  1.3435    1.34355   1.34335   1.34339 161.       14.     ]\n",
            " [  1.34339   1.34358   1.34339   1.34353  99.       14.     ]\n",
            " [  1.34354   1.34365   1.34352   1.34361  94.       14.     ]\n",
            " [  1.34361   1.34386   1.34359   1.34384  86.       14.     ]\n",
            " [  1.34384   1.34385   1.34376   1.3438  107.       14.     ]\n",
            " [  1.3438    1.34386   1.34376   1.3438  120.       14.     ]\n",
            " [  1.3438    1.3438    1.34368   1.34374  78.       14.     ]\n",
            " [  1.34374   1.34382   1.3436    1.34365  82.       14.     ]\n",
            " [  1.34364   1.34374   1.34361   1.34362  77.       14.     ]\n",
            " [  1.34362   1.34365   1.3436    1.34364  62.       14.     ]\n",
            " [  1.34364   1.34385   1.34361   1.34384 232.       14.     ]\n",
            " [  1.34383   1.34402   1.34381   1.34394 187.       14.     ]\n",
            " [  1.34394   1.34404   1.34384   1.34394 188.       14.     ]\n",
            " [  1.34394   1.34395   1.34378   1.34379 107.       14.     ]\n",
            " [  1.34381   1.34383   1.34361   1.34363  74.       14.     ]\n",
            " [  1.34363   1.34384   1.34363   1.34365 116.       14.     ]\n",
            " [  1.34368   1.3438    1.34368   1.34379  69.       14.     ]\n",
            " [  1.34379   1.3439    1.34372   1.34374 116.       14.     ]\n",
            " [  1.34373   1.34385   1.34373   1.34374 112.       14.     ]\n",
            " [  1.3438    1.34389   1.34375   1.34381 120.       14.     ]\n",
            " [  1.34381   1.34385   1.34366   1.34383 181.       14.     ]\n",
            " [  1.34389   1.34419   1.34385   1.34419 116.       14.     ]\n",
            " [  1.34419   1.34423   1.34411   1.34412 115.       14.     ]\n",
            " [  1.34411   1.34413   1.34351   1.34353 259.       14.     ]\n",
            " [  1.34352   1.34358   1.34321   1.34355 228.       14.     ]\n",
            " [  1.34355   1.34382   1.34354   1.34379 153.       14.     ]\n",
            " [  1.34375   1.34382   1.34364   1.34373 135.       14.     ]\n",
            " [  1.34374   1.34374   1.34364   1.34364  56.       14.     ]\n",
            " [  1.34364   1.34371   1.34354   1.34362 150.       14.     ]\n",
            " [  1.3436    1.34386   1.34353   1.34384 173.       14.     ]\n",
            " [  1.34384   1.34393   1.34382   1.34391 162.       14.     ]\n",
            " [  1.34387   1.34406   1.34373   1.34383 187.       14.     ]\n",
            " [  1.34384   1.34392   1.34369   1.34379 173.       14.     ]\n",
            " [  1.34379   1.3439    1.34363   1.34389 150.       14.     ]\n",
            " [  1.34389   1.344     1.34376   1.34381 220.       14.     ]\n",
            " [  1.3438    1.34402   1.3437    1.344   215.       14.     ]\n",
            " [  1.34399   1.344     1.3433    1.34344 560.       14.     ]\n",
            " [  1.34346   1.34352   1.34295   1.34311 487.       14.     ]\n",
            " [  1.34311   1.34314   1.34285   1.34285 381.       14.     ]\n",
            " [  1.34289   1.34313   1.34245   1.34252 424.       14.     ]\n",
            " [  1.34253   1.34253   1.3421    1.34219 411.       14.     ]\n",
            " [  1.34219   1.34235   1.34197   1.34224 389.       14.     ]\n",
            " [  1.34223   1.34259   1.34213   1.34251 409.       14.     ]\n",
            " [  1.34252   1.34255   1.34222   1.34226 317.       14.     ]\n",
            " [  1.34225   1.34271   1.34219   1.34255 404.       14.     ]\n",
            " [  1.34254   1.34255   1.34203   1.34215 293.       14.     ]\n",
            " [  1.34215   1.34217   1.34171   1.34194 318.       14.     ]\n",
            " [  1.34202   1.34208   1.34149   1.34162 539.       14.     ]\n",
            " [  1.34161   1.34163   1.3411    1.34136 715.       14.     ]\n",
            " [  1.34137   1.34149   1.3405    1.34092 509.       14.     ]\n",
            " [  1.34092   1.34132   1.34084   1.34125 487.       14.     ]\n",
            " [  1.34127   1.34153   1.34096   1.34121 470.       14.     ]\n",
            " [  1.3412    1.34157   1.34119   1.34139 401.       14.     ]\n",
            " [  1.34141   1.34216   1.34132   1.34212 413.       14.     ]\n",
            " [  1.34212   1.34269   1.34194   1.34233 472.       14.     ]\n",
            " [  1.34234   1.34249   1.342     1.34223 416.       14.     ]\n",
            " [  1.34223   1.34273   1.34223   1.34232 404.       14.     ]\n",
            " [  1.34233   1.3424    1.3418    1.3419  313.       14.     ]\n",
            " [  1.34189   1.34222   1.34178   1.34192 444.       14.     ]\n",
            " [  1.34193   1.34197   1.34124   1.34152 612.       14.     ]\n",
            " [  1.34151   1.34184   1.34109   1.34183 547.       14.     ]\n",
            " [  1.34183   1.34194   1.34176   1.3419  421.       14.     ]\n",
            " [  1.34191   1.34227   1.34189   1.34202 325.       14.     ]\n",
            " [  1.34201   1.34212   1.3418    1.34201 356.       14.     ]\n",
            " [  1.342     1.34212   1.3419    1.34199 281.       14.     ]\n",
            " [  1.342     1.34231   1.342     1.34222 285.       14.     ]\n",
            " [  1.34215   1.34241   1.34211   1.34239 245.       14.     ]\n",
            " [  1.3424    1.34243   1.34202   1.34236 285.       14.     ]\n",
            " [  1.34236   1.34269   1.3422    1.34221 471.       14.     ]\n",
            " [  1.34221   1.34258   1.34221   1.3425  413.       14.     ]\n",
            " [  1.3425    1.34257   1.34217   1.34244 392.       14.     ]\n",
            " [  1.34243   1.34279   1.34229   1.3427  512.       14.     ]\n",
            " [  1.34271   1.34335   1.3424    1.34322 638.       14.     ]\n",
            " [  1.3432    1.34323   1.34267   1.34299 531.       14.     ]\n",
            " [  1.34299   1.34342   1.34288   1.34299 588.       14.     ]\n",
            " [  1.34299   1.3436    1.34296   1.34351 473.       14.     ]\n",
            " [  1.34351   1.34355   1.34322   1.34353 332.       14.     ]\n",
            " [  1.34352   1.34383   1.34341   1.34362 307.       14.     ]\n",
            " [  1.3436    1.34363   1.34334   1.34355 405.       14.     ]\n",
            " [  1.34355   1.34369   1.34349   1.34361 327.       14.     ]\n",
            " [  1.34361   1.34373   1.3433    1.34352 320.       14.     ]\n",
            " [  1.3435    1.34354   1.34332   1.34343 307.       14.     ]\n",
            " [  1.34345   1.34345   1.34274   1.3428  493.       14.     ]\n",
            " [  1.34278   1.34291   1.34246   1.34274 581.       14.     ]\n",
            " [  1.34273   1.34317   1.3423    1.34233 425.       14.     ]\n",
            " [  1.34234   1.34244   1.3419    1.342   288.       14.     ]\n",
            " [  1.342     1.342     1.34141   1.34177 349.       14.     ]\n",
            " [  1.34177   1.34183   1.34136   1.34136 403.       14.     ]\n",
            " [  1.34135   1.3415    1.3411    1.3413  349.       14.     ]\n",
            " [  1.3413    1.34155   1.34119   1.34143 260.       14.     ]\n",
            " [  1.34143   1.34164   1.34135   1.3414  310.       14.     ]\n",
            " [  1.34134   1.34171   1.34128   1.34169 258.       14.     ]\n",
            " [  1.3417    1.34175   1.34133   1.34154 297.       14.     ]\n",
            " [  1.34153   1.34167   1.34133   1.34145 280.       14.     ]\n",
            " [  1.34146   1.34146   1.34108   1.34116 306.       14.     ]\n",
            " [  1.34119   1.3413    1.34094   1.34098 479.       14.     ]\n",
            " [  1.34097   1.34098   1.34064   1.34093 430.       14.     ]\n",
            " [  1.34093   1.34128   1.34083   1.34103 279.       14.     ]\n",
            " [  1.34104   1.34104   1.34051   1.34074 307.       14.     ]\n",
            " [  1.3407    1.34084   1.34063   1.34082 244.       14.     ]\n",
            " [  1.34084   1.34104   1.34069   1.34072 314.       14.     ]\n",
            " [  1.34071   1.34123   1.34068   1.3411  326.       14.     ]\n",
            " [  1.3411    1.34112   1.33993   1.34004 521.       14.     ]\n",
            " [  1.3401    1.34073   1.34004   1.3405  413.       14.     ]\n",
            " [  1.34053   1.34054   1.34016   1.34021 433.       14.     ]\n",
            " [  1.34019   1.3405    1.34014   1.34032 259.       14.     ]\n",
            " [  1.34032   1.34067   1.34032   1.34055 262.       14.     ]\n",
            " [  1.34059   1.34111   1.34054   1.34111 424.       14.     ]]\n"
          ]
        }
      ],
      "source": [
        "print(X[-1])"
      ]
    },
    {
      "cell_type": "code",
      "execution_count": 12,
      "metadata": {
        "id": "ZmhqTdKdbKfo"
      },
      "outputs": [
        {
          "name": "stdout",
          "output_type": "stream",
          "text": [
            "Scaler for X saved to 'scaler_x.joblib'\n",
            "Scaler for Y saved to 'scaler_y.joblib'\n"
          ]
        }
      ],
      "source": [
        "X, y = preprocess_and_save_scalers(X, y)\n"
      ]
    },
    {
      "cell_type": "code",
      "execution_count": 13,
      "metadata": {
        "id": "5j_wkyXD5s_s"
      },
      "outputs": [
        {
          "name": "stdout",
          "output_type": "stream",
          "text": [
            "Model: \"model\"\n",
            "_________________________________________________________________\n",
            " Layer (type)                Output Shape              Param #   \n",
            "=================================================================\n",
            " input_1 (InputLayer)        [(None, 120, 6)]          0         \n",
            "                                                                 \n",
            " bidirectional (Bidirectiona  (None, 120, 100)         22800     \n",
            " l)                                                              \n",
            "                                                                 \n",
            " bidirectional_1 (Bidirectio  (None, 120, 100)         60400     \n",
            " nal)                                                            \n",
            "                                                                 \n",
            " bidirectional_2 (Bidirectio  (None, 120, 100)         60400     \n",
            " nal)                                                            \n",
            "                                                                 \n",
            " bidirectional_3 (Bidirectio  (None, 100)              60400     \n",
            " nal)                                                            \n",
            "                                                                 \n",
            " dense (Dense)               (None, 150)               15150     \n",
            "                                                                 \n",
            " dropout (Dropout)           (None, 150)               0         \n",
            "                                                                 \n",
            " dense_1 (Dense)             (None, 1)                 151       \n",
            "                                                                 \n",
            "=================================================================\n",
            "Total params: 219,301\n",
            "Trainable params: 219,301\n",
            "Non-trainable params: 0\n",
            "_________________________________________________________________\n"
          ]
        }
      ],
      "source": [
        "X_train, X_test, y_train, y_test = train_test_split(X, y, test_size=0.33, random_state=0, shuffle=False)\n",
        "X_val, X_test, y_val,  y_test = train_test_split(X_test, y_test, test_size=0.01, random_state=0, shuffle=False)\n",
        "\n",
        "seq_len = X_train.shape[1]\n",
        "n_features = X_train.shape[2]\n",
        "output_dim = y_train.shape[1]\n",
        "\n",
        "i = Input(shape=(seq_len, n_features))\n",
        "X = Bidirectional(LSTM(100, return_sequences=True))(i)\n",
        "X = Bidirectional(LSTM(100, return_sequences=True))(X)\n",
        "X = Bidirectional(LSTM(100, return_sequences=True))(X)\n",
        "X = LSTM(100)(X)\n",
        "\n",
        "X = Dense(150, activation=\"relu\")(X)\n",
        "X = Dropout(0.25)(X)\n",
        "\n",
        "X = Dense(output_dim)(X)\n",
        "\n",
        "model = Model(i, X)\n",
        "model.summary()\n"
      ]
    },
    {
      "cell_type": "code",
      "execution_count": 14,
      "metadata": {
        "id": "_ou0YHmXzI4D"
      },
      "outputs": [
        {
          "name": "stdout",
          "output_type": "stream",
          "text": [
            "Epoch 1/100\n",
            "41455/41455 [==============================] - ETA: 0s - loss: 3.1775e-04 - mae: 0.0111 - root_mean_squared_error: 0.0178 - mape: 2.1625 - msle: 1.2557e-04"
          ]
        },
        {
          "ename": "InternalError",
          "evalue": "Graph execution error:\n\nFailed to call ThenRnnForward with model config: [rnn_mode, rnn_input_mode, rnn_direction_mode]: 2, 0, 0 , [num_layers, input_size, num_units, dir_count, max_seq_length, batch_size, cell_num_units]: [1, 100, 50, 1, 120, 32, 50] \n\t [[{{node CudnnRNN}}]]\n\t [[model/bidirectional_1/backward_lstm_1/PartitionedCall]] [Op:__inference_test_function_314671]",
          "output_type": "error",
          "traceback": [
            "\u001b[1;31m---------------------------------------------------------------------------\u001b[0m",
            "\u001b[1;31mInternalError\u001b[0m                             Traceback (most recent call last)",
            "Cell \u001b[1;32mIn[14], line 7\u001b[0m\n\u001b[0;32m      3\u001b[0m mc \u001b[38;5;241m=\u001b[39m ModelCheckpoint(m_label \u001b[38;5;241m+\u001b[39m \u001b[38;5;124m'\u001b[39m\u001b[38;5;124mlstm_best.keras\u001b[39m\u001b[38;5;124m'\u001b[39m, monitor\u001b[38;5;241m=\u001b[39m\u001b[38;5;124m'\u001b[39m\u001b[38;5;124mval_loss\u001b[39m\u001b[38;5;124m'\u001b[39m, save_best_only\u001b[38;5;241m=\u001b[39m\u001b[38;5;28;01mTrue\u001b[39;00m, verbose\u001b[38;5;241m=\u001b[39m\u001b[38;5;241m2\u001b[39m)\n\u001b[0;32m      4\u001b[0m model\u001b[38;5;241m.\u001b[39mcompile(optimizer\u001b[38;5;241m=\u001b[39mAdam(learning_rate\u001b[38;5;241m=\u001b[39m\u001b[38;5;241m0.001\u001b[39m),\n\u001b[0;32m      5\u001b[0m               loss\u001b[38;5;241m=\u001b[39m\u001b[38;5;124m'\u001b[39m\u001b[38;5;124mmse\u001b[39m\u001b[38;5;124m'\u001b[39m,\n\u001b[0;32m      6\u001b[0m               metrics\u001b[38;5;241m=\u001b[39m[\u001b[38;5;124m'\u001b[39m\u001b[38;5;124mmae\u001b[39m\u001b[38;5;124m'\u001b[39m,tf\u001b[38;5;241m.\u001b[39mkeras\u001b[38;5;241m.\u001b[39mmetrics\u001b[38;5;241m.\u001b[39mRootMeanSquaredError(),\u001b[38;5;124m'\u001b[39m\u001b[38;5;124mmape\u001b[39m\u001b[38;5;124m'\u001b[39m,\u001b[38;5;124m'\u001b[39m\u001b[38;5;124mmsle\u001b[39m\u001b[38;5;124m'\u001b[39m])\n\u001b[1;32m----> 7\u001b[0m r \u001b[38;5;241m=\u001b[39m \u001b[43mmodel\u001b[49m\u001b[38;5;241;43m.\u001b[39;49m\u001b[43mfit\u001b[49m\u001b[43m(\u001b[49m\n\u001b[0;32m      8\u001b[0m \u001b[43m  \u001b[49m\u001b[43mX_train\u001b[49m\u001b[43m,\u001b[49m\u001b[43m \u001b[49m\u001b[43my_train\u001b[49m\u001b[43m,\u001b[49m\n\u001b[0;32m      9\u001b[0m \u001b[43m  \u001b[49m\u001b[43mvalidation_data\u001b[49m\u001b[38;5;241;43m=\u001b[39;49m\u001b[43m(\u001b[49m\u001b[43mX_val\u001b[49m\u001b[43m,\u001b[49m\u001b[43m \u001b[49m\u001b[43my_val\u001b[49m\u001b[43m)\u001b[49m\u001b[43m,\u001b[49m\n\u001b[0;32m     10\u001b[0m \u001b[43m  \u001b[49m\u001b[43mepochs\u001b[49m\u001b[38;5;241;43m=\u001b[39;49m\u001b[38;5;241;43m100\u001b[39;49m\u001b[43m,\u001b[49m\n\u001b[0;32m     11\u001b[0m \u001b[43m  \u001b[49m\u001b[38;5;66;43;03m#batch_size=256,\u001b[39;49;00m\n\u001b[0;32m     12\u001b[0m \u001b[43m  \u001b[49m\u001b[43mcallbacks\u001b[49m\u001b[38;5;241;43m=\u001b[39;49m\u001b[43m[\u001b[49m\u001b[43mes\u001b[49m\u001b[43m,\u001b[49m\u001b[43m \u001b[49m\u001b[43mrlr\u001b[49m\u001b[43m,\u001b[49m\u001b[43m \u001b[49m\u001b[43mmc\u001b[49m\u001b[43m \u001b[49m\u001b[43m]\u001b[49m\u001b[43m,\u001b[49m\n\u001b[0;32m     13\u001b[0m \u001b[43m  \u001b[49m\u001b[43mverbose\u001b[49m\u001b[38;5;241;43m=\u001b[39;49m\u001b[38;5;241;43m1\u001b[39;49m\n\u001b[0;32m     14\u001b[0m \n\u001b[0;32m     15\u001b[0m \u001b[43m)\u001b[49m\n",
            "File \u001b[1;32mc:\\Users\\omage\\.conda\\envs\\py310\\lib\\site-packages\\keras\\utils\\traceback_utils.py:70\u001b[0m, in \u001b[0;36mfilter_traceback.<locals>.error_handler\u001b[1;34m(*args, **kwargs)\u001b[0m\n\u001b[0;32m     67\u001b[0m     filtered_tb \u001b[38;5;241m=\u001b[39m _process_traceback_frames(e\u001b[38;5;241m.\u001b[39m__traceback__)\n\u001b[0;32m     68\u001b[0m     \u001b[38;5;66;03m# To get the full stack trace, call:\u001b[39;00m\n\u001b[0;32m     69\u001b[0m     \u001b[38;5;66;03m# `tf.debugging.disable_traceback_filtering()`\u001b[39;00m\n\u001b[1;32m---> 70\u001b[0m     \u001b[38;5;28;01mraise\u001b[39;00m e\u001b[38;5;241m.\u001b[39mwith_traceback(filtered_tb) \u001b[38;5;28;01mfrom\u001b[39;00m \u001b[38;5;28;01mNone\u001b[39;00m\n\u001b[0;32m     71\u001b[0m \u001b[38;5;28;01mfinally\u001b[39;00m:\n\u001b[0;32m     72\u001b[0m     \u001b[38;5;28;01mdel\u001b[39;00m filtered_tb\n",
            "File \u001b[1;32mc:\\Users\\omage\\.conda\\envs\\py310\\lib\\site-packages\\tensorflow\\python\\eager\\execute.py:54\u001b[0m, in \u001b[0;36mquick_execute\u001b[1;34m(op_name, num_outputs, inputs, attrs, ctx, name)\u001b[0m\n\u001b[0;32m     52\u001b[0m \u001b[38;5;28;01mtry\u001b[39;00m:\n\u001b[0;32m     53\u001b[0m   ctx\u001b[38;5;241m.\u001b[39mensure_initialized()\n\u001b[1;32m---> 54\u001b[0m   tensors \u001b[38;5;241m=\u001b[39m pywrap_tfe\u001b[38;5;241m.\u001b[39mTFE_Py_Execute(ctx\u001b[38;5;241m.\u001b[39m_handle, device_name, op_name,\n\u001b[0;32m     55\u001b[0m                                       inputs, attrs, num_outputs)\n\u001b[0;32m     56\u001b[0m \u001b[38;5;28;01mexcept\u001b[39;00m core\u001b[38;5;241m.\u001b[39m_NotOkStatusException \u001b[38;5;28;01mas\u001b[39;00m e:\n\u001b[0;32m     57\u001b[0m   \u001b[38;5;28;01mif\u001b[39;00m name \u001b[38;5;129;01mis\u001b[39;00m \u001b[38;5;129;01mnot\u001b[39;00m \u001b[38;5;28;01mNone\u001b[39;00m:\n",
            "\u001b[1;31mInternalError\u001b[0m: Graph execution error:\n\nFailed to call ThenRnnForward with model config: [rnn_mode, rnn_input_mode, rnn_direction_mode]: 2, 0, 0 , [num_layers, input_size, num_units, dir_count, max_seq_length, batch_size, cell_num_units]: [1, 100, 50, 1, 120, 32, 50] \n\t [[{{node CudnnRNN}}]]\n\t [[model/bidirectional_1/backward_lstm_1/PartitionedCall]] [Op:__inference_test_function_314671]"
          ]
        }
      ],
      "source": [
        "\n",
        "es = EarlyStopping(monitor='val_loss', patience=12, restore_best_weights=True, verbose=2)\n",
        "rlr = ReduceLROnPlateau(monitor='val_loss', factor=0.5, patience=6, min_lr=1e-6, verbose=2)\n",
        "mc = ModelCheckpoint(m_label + 'lstm_best.keras', monitor='val_loss', save_best_only=True, verbose=2)\n",
        "model.compile(optimizer=Adam(learning_rate=0.001),\n",
        "              loss='mse',\n",
        "              metrics=['mae',tf.keras.metrics.RootMeanSquaredError(),'mape','msle'])\n",
        "r = model.fit(\n",
        "  X_train, y_train,\n",
        "  validation_data=(X_val, y_val),\n",
        "  epochs=100,\n",
        "  batch_size=1024,\n",
        "  callbacks=[es, rlr, mc ],\n",
        "  verbose=1\n",
        "\n",
        ")"
      ]
    },
    {
      "cell_type": "code",
      "execution_count": null,
      "metadata": {
        "id": "gN-5WQ-M4QOP"
      },
      "outputs": [],
      "source": [
        "plt.title(\"Loss on data\")\n",
        "plt.plot(r.history['loss'], label=\"loss\")\n",
        "plt.plot(r.history['val_loss'], label=\"val_loss\")\n",
        "plt.legend()\n",
        "plt.show()\n",
        "\n",
        "plt.title(\"MAE on data\")\n",
        "plt.plot(r.history['mae'], label=\"mae\")\n",
        "plt.plot(r.history['val_mae'], label=\"val_mae\")\n",
        "plt.legend()\n",
        "plt.show()\n",
        "\n",
        "plt.title(\"mape on data\")\n",
        "plt.plot(r.history['mape'], label=\"mape\")\n",
        "plt.plot(r.history['val_mape'], label=\"val_mape\")\n",
        "plt.legend()\n",
        "plt.show()\n",
        "\n",
        "plt.title(\"msle on data\")\n",
        "plt.plot(r.history['msle'], label=\"msle\")\n",
        "plt.plot(r.history['val_msle'], label=\"val_msle\")\n",
        "plt.legend()\n",
        "plt.show()\n",
        "\n",
        "plt.title(\"root_mean_squared_error on data\")\n",
        "plt.plot(r.history['root_mean_squared_error'], label=\"root_mean_squared_error\")\n",
        "plt.plot(r.history['val_root_mean_squared_error'], label=\"val_root_mean_squared_error\")\n",
        "plt.legend()\n",
        "plt.show()\n",
        "\n",
        "\n"
      ]
    },
    {
      "cell_type": "code",
      "execution_count": null,
      "metadata": {
        "id": "gq_ghklFbKfo"
      },
      "outputs": [],
      "source": [
        "best_model = load_model(m_label + 'lstm_best.keras')\n"
      ]
    },
    {
      "cell_type": "code",
      "execution_count": null,
      "metadata": {
        "id": "nlqwzEAlbKfo"
      },
      "outputs": [],
      "source": [
        "y_pred = best_model.predict(X_test)"
      ]
    },
    {
      "cell_type": "code",
      "execution_count": null,
      "metadata": {
        "id": "sJaWHWTdbKfp"
      },
      "outputs": [],
      "source": [
        "print(y_pred.shape)"
      ]
    },
    {
      "cell_type": "code",
      "execution_count": null,
      "metadata": {
        "id": "KSyo7nJsbKfp"
      },
      "outputs": [],
      "source": [
        "_,y_test = inverse_transform_data(scaled_y=y_test)\n",
        "_,y_pred = inverse_transform_data(scaled_y=y_pred)\n",
        "print(y_test, \" comparing to \", y_pred)"
      ]
    },
    {
      "cell_type": "code",
      "execution_count": null,
      "metadata": {
        "id": "b3amOO49bKfp"
      },
      "outputs": [],
      "source": [
        "# 1. Calculate the error (the gap between actual and predicted)\n",
        "error = y_test - y_pred\n",
        "\n",
        "# 2. Calculate the average gap (the bias)\n",
        "average_gap = np.mean(error)\n",
        "print(f\"Average Gap (Bias): {average_gap:.7f}\")\n",
        "\n",
        "# 3. Add the average gap to your predictions to create a corrected version\n",
        "y_pred_corrected = y_pred + average_gap\n",
        "\n",
        "# --- Verification ---\n",
        "# Let's check the first predicted value vs. the first actual value\n",
        "print(\"\\n--- Example of Correction ---\")\n",
        "print(f\"Original Prediction: {y_pred[0, 0]:.7f}\")\n",
        "print(f\"Corrected Prediction: {y_pred_corrected[0, 0]:.7f}\")\n",
        "print(f\"Actual Value:        {y_test[0, 0]:.7f}\")"
      ]
    },
    {
      "cell_type": "code",
      "execution_count": null,
      "metadata": {
        "id": "ssFZIdC4bKfp"
      },
      "outputs": [],
      "source": [
        "print(\"R^2 value for \", m_label)\n",
        "print(r2_score(y_test, y_pred_corrected))"
      ]
    },
    {
      "cell_type": "code",
      "execution_count": null,
      "metadata": {
        "id": "Ok2GYKWsbKfp"
      },
      "outputs": [],
      "source": [
        "\n",
        "\n",
        "\n",
        "\n",
        "plt.figure(figsize=(12, 6))\n",
        "plt.plot(y_test[-50:, 0], label='Actual Close Price', color='blue')\n",
        "plt.plot(y_pred[-50:, 0], label='Predicted Close Price', color='red', linestyle='--')\n",
        "plt.plot(y_pred_corrected[-50:, 0], label='corrected Predicted Close Price', color='gray', linestyle='--')\n",
        "plt.title('Actual vs. Predicted Close Price')\n",
        "plt.xlabel('Time')\n",
        "plt.ylabel('Close Price')\n",
        "plt.legend()\n",
        "plt.grid(True)\n",
        "plt.savefig('actual_vs_predicted.png')\n",
        "plt.show()\n"
      ]
    }
  ],
  "metadata": {
    "accelerator": "GPU",
    "colab": {
      "gpuType": "T4",
      "include_colab_link": true,
      "provenance": []
    },
    "kernelspec": {
      "display_name": "Python 3",
      "name": "python3"
    },
    "language_info": {
      "codemirror_mode": {
        "name": "ipython",
        "version": 3
      },
      "file_extension": ".py",
      "mimetype": "text/x-python",
      "name": "python",
      "nbconvert_exporter": "python",
      "pygments_lexer": "ipython3",
      "version": "3.10.13"
    }
  },
  "nbformat": 4,
  "nbformat_minor": 0
}
