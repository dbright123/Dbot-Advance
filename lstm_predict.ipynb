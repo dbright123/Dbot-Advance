{
  "cells": [
    {
      "cell_type": "markdown",
      "metadata": {
        "colab_type": "text",
        "id": "view-in-github"
      },
      "source": [
        "<a href=\"https://colab.research.google.com/github/dbright123/Dbot-Advance/blob/main/lstm_predict.ipynb\" target=\"_parent\"><img src=\"https://colab.research.google.com/assets/colab-badge.svg\" alt=\"Open In Colab\"/></a>"
      ]
    },
    {
      "cell_type": "code",
      "execution_count": null,
      "metadata": {
        "id": "Z1oCaggK4VKR"
      },
      "outputs": [],
      "source": [
        "import MetaTrader5 as mt5\n",
        "import numpy as np\n",
        "import pandas as pd\n",
        "\n",
        "\n",
        "\n"
      ]
    },
    {
      "cell_type": "code",
      "execution_count": null,
      "metadata": {
        "id": "btJoWVAx4VKS",
        "outputId": "077d53d7-b8ac-4d3c-9251-3f449e68e0f3"
      },
      "outputs": [
        {
          "name": "stdout",
          "output_type": "stream",
          "text": [
            "MetaTrader5 package author:  MetaQuotes Ltd.\n",
            "MetaTrader5 package version:  5.0.4200\n",
            "True\n",
            "{'login': 213644473, 'trade_mode': 0, 'leverage': 1000, 'limit_orders': 500, 'margin_so_mode': 0, 'trade_allowed': True, 'trade_expert': True, 'margin_mode': 2, 'currency_digits': 2, 'fifo_close': False, 'balance': 200.0, 'credit': 0.0, 'profit': 0.0, 'equity': 200.0, 'margin': 0.0, 'margin_free': 200.0, 'margin_level': 0.0, 'margin_so_call': 25.0, 'margin_so_so': 15.0, 'margin_initial': 0.0, 'margin_maintenance': 0.0, 'assets': 0.0, 'liabilities': 0.0, 'commission_blocked': 0.0, 'name': 'micheal bright omage ', 'server': 'OctaFX-Demo', 'currency': 'USD', 'company': 'Octa Markets Incorporated'}\n",
            "\n",
            "\n",
            "{'community_account': False, 'community_connection': False, 'connected': True, 'dlls_allowed': False, 'trade_allowed': True, 'tradeapi_disabled': False, 'email_enabled': False, 'ftp_enabled': False, 'notifications_enabled': False, 'mqid': True, 'build': 5370, 'maxbars': 100000000, 'codepage': 0, 'ping_last': 216691, 'community_balance': 0.0, 'retransmission': 0.0, 'company': 'MetaQuotes Software Corp.', 'name': 'MetaTrader 5', 'language': 'English', 'path': 'C:\\\\Program Files\\\\MetaTrader 5', 'data_path': 'C:\\\\Program Files\\\\MetaTrader 5', 'commondata_path': 'C:\\\\Users\\\\omage\\\\AppData\\\\Roaming\\\\MetaQuotes\\\\Terminal\\\\Common'}\n",
            "\n",
            "\n",
            "280\n"
          ]
        }
      ],
      "source": [
        "print(\"MetaTrader5 package author: \",mt5.__author__)\n",
        "print(\"MetaTrader5 package version: \",mt5.__version__)\n",
        "\n",
        "trade_active = mt5.initialize()\n",
        "\n",
        "print(trade_active)\n",
        "\n",
        "if not trade_active:\n",
        "    print('Initialization failed, check internet connection. You must have Meta Trader 5 installed.')\n",
        "    mt5.shutdown()\n",
        "\n",
        "else:\n",
        "    print(mt5.account_info()._asdict())\n",
        "    print(\"\\n\")\n",
        "    print(mt5.terminal_info()._asdict())\n",
        "    print(\"\\n\")\n",
        "    print(mt5.symbols_total())"
      ]
    },
    {
      "cell_type": "code",
      "execution_count": null,
      "metadata": {
        "id": "ep9xWhDh4VKU",
        "outputId": "31c79ec1-fd31-4335-d881-2db8f23fed61"
      },
      "outputs": [
        {
          "name": "stdout",
          "output_type": "stream",
          "text": [
            "200.0\n",
            "AI is successfully functional\n"
          ]
        }
      ],
      "source": [
        "account = mt5.account_info()\n",
        "terminal = mt5.terminal_info()\n",
        "\n",
        "print(account.equity)\n",
        "\n",
        "if(terminal.connected == True or terminal.trade_allowed == True):\n",
        "    print(\"AI is successfully functional\")\n",
        "else:\n",
        "    print(\"Please make sure metatrade 5 has internet and algo Trade is Turn On\")"
      ]
    },
    {
      "cell_type": "code",
      "execution_count": null,
      "metadata": {
        "id": "Cm6_C7cwJaFl",
        "outputId": "14ed083f-33ea-49ce-81da-0259753f3a03"
      },
      "outputs": [
        {
          "name": "stdout",
          "output_type": "stream",
          "text": [
            "280\n",
            "Yes  EURUSD\n",
            "Yes  GBPUSD\n",
            "Yes  USDJPY\n",
            "Yes  USDCHF\n",
            "Yes  AUDUSD\n",
            "Yes  NZDUSD\n",
            "Yes  USDCAD\n",
            "Yes  USDMXN\n",
            "Yes  USDZAR\n",
            "Yes  XAGUSD\n",
            "Yes  XAUUSD\n",
            "Yes  XBRUSD\n",
            "Yes  XTIUSD\n",
            "Yes  XNGUSD\n",
            "Yes  BTCUSD\n",
            "Yes  ETHUSD\n",
            "Yes  LTCUSD\n",
            "Yes  XRPUSD\n",
            "Yes  BCHUSD\n",
            "Yes  AAVEUSD\n",
            "Yes  ADAUSD\n",
            "Yes  ALGOUSD\n",
            "Yes  ATOMUSD\n",
            "Yes  AVAXUSD\n",
            "Yes  AXSUSD\n",
            "Yes  BNBUSD\n",
            "Yes  DASHUSD\n",
            "Yes  DOGEUSD\n",
            "Yes  DOTUSD\n",
            "Yes  FILUSD\n",
            "Yes  GRTUSD\n",
            "Yes  ICPUSD\n",
            "Yes  IOTAUSD\n",
            "Yes  LINKUSD\n",
            "Yes  LRCUSD\n",
            "Yes  MANAUSD\n",
            "Yes  NEARUSD\n",
            "Yes  SOLUSD\n",
            "Yes  UNIUSD\n",
            "Yes  ZECUSD\n",
            "Yes  ETCUSD\n",
            "Yes  TRXUSD\n",
            "Yes  FETUSD\n",
            "Yes  ARBUSD\n",
            "Yes  APTUSD\n",
            "Yes  SUIUSD\n",
            "Yes  USDDKK\n",
            "Yes  USDCZK\n",
            "Yes  USDHUF\n",
            "Yes  USDNOK\n",
            "Yes  USDPLN\n",
            "Yes  USDSEK\n",
            "Yes  USDSGD\n",
            "Yes  USDHKD\n",
            "Yes  USDCNH\n",
            "Yes  USDTRY\n",
            "Yes  XBRUSD.Daily\n",
            "Yes  XTIUSD.Daily\n",
            "Yes  BTCUSD.Daily\n",
            "Yes  ETHUSD.Daily\n",
            "Yes  XRPUSD.Daily\n",
            "Yes  LTCUSD.Daily\n",
            "Yes  BCHUSD.Daily\n",
            "Yes  LINKUSD.Daily\n",
            "Yes  SOLUSD.Daily\n",
            "65\n"
          ]
        }
      ],
      "source": [
        "symbols = mt5.symbols_get()\n",
        "print(len(symbols))\n",
        "t_symbol = []\n",
        "for symbol in symbols:\n",
        "    if \"USD\" in symbol.name:\n",
        "        print(\"Yes \", symbol.name)\n",
        "        t_symbol.append(symbol.name)\n",
        "\n",
        "print(len(t_symbol))"
      ]
    },
    {
      "cell_type": "code",
      "execution_count": null,
      "metadata": {
        "id": "S9rw9k_WbKfm",
        "outputId": "eb70bbd8-c5f8-4f29-94b8-4697f9acd144"
      },
      "outputs": [
        {
          "data": {
            "text/plain": [
              "array([(1311242400, 1.3690000e+01, 1.3780000e+01, 1.3400000e+01, 1.3610000e+01,   69,    0, 0),\n",
              "       (1311328800, 1.3610000e+01, 1.3810000e+01, 1.3450000e+01, 1.3700000e+01,   64,    0, 0),\n",
              "       (1311415200, 1.3700000e+01, 1.3760000e+01, 1.3510000e+01, 1.3680000e+01,   49,    0, 0),\n",
              "       ...,\n",
              "       (1760819100, 1.0678301e+05, 1.0696346e+05, 1.0676581e+05, 1.0693836e+05, 1293, 2250, 0),\n",
              "       (1760819400, 1.0693651e+05, 1.0697401e+05, 1.0681261e+05, 1.0685496e+05, 1250, 2252, 0),\n",
              "       (1760819700, 1.0685331e+05, 1.0688001e+05, 1.0683882e+05, 1.0686067e+05,  556, 2252, 0)],\n",
              "      dtype=[('time', '<i8'), ('open', '<f8'), ('high', '<f8'), ('low', '<f8'), ('close', '<f8'), ('tick_volume', '<u8'), ('spread', '<i4'), ('real_volume', '<u8')])"
            ]
          },
          "metadata": {},
          "output_type": "display_data"
        },
        {
          "name": "stdout",
          "output_type": "stream",
          "text": [
            "(719038,)\n",
            "BTCUSD\n"
          ]
        }
      ],
      "source": [
        "t_s = \"BTCUSD\"\n",
        "market = mt5.copy_rates_from_pos(t_s, mt5.TIMEFRAME_M5, 0, 10000000)\n",
        "display(market)\n",
        "print(market.shape)\n",
        "\n",
        "print(t_s)\n",
        "\n",
        "\n",
        "data = []\n",
        "for i in range(len(market)):\n",
        "    data.append([market[i][1],market[i][2],market[i][3],market[i][4],market[i][5]])\n",
        "df = pd.DataFrame(data, columns=[\"open\", \"high\",\"low\", \"close\", \"volume\"])\n",
        "df.to_csv(\"Generated\"+t_s+\" dbot.csv\", index=False)"
      ]
    },
    {
      "cell_type": "code",
      "execution_count": null,
      "metadata": {
        "id": "hjdWs03YJaFm",
        "outputId": "65b3d587-0c44-45ea-8550-33b17d991ad6"
      },
      "outputs": [
        {
          "data": {
            "text/plain": [
              "['symbol.joblib']"
            ]
          },
          "execution_count": 6,
          "metadata": {},
          "output_type": "execute_result"
        }
      ],
      "source": [
        "import joblib\n",
        "\n",
        "joblib.dump(t_symbol,\"symbol.joblib\")"
      ]
    },
    {
      "cell_type": "code",
      "execution_count": 1,
      "metadata": {
        "colab": {
          "base_uri": "https://localhost:8080/"
        },
        "id": "M8QyUXsy4op6",
        "outputId": "338b39b9-9cb4-4418-a94f-2fdc457db9bb"
      },
      "outputs": [
        {
          "name": "stdout",
          "output_type": "stream",
          "text": [
            "2.10.1\n"
          ]
        }
      ],
      "source": [
        "import numpy as np # linear algebra\n",
        "import pandas as pd # data processing, CSV file I/O (e.g. pd.read_csv)\n",
        "import tensorflow as tf\n",
        "print(tf.__version__)\n"
      ]
    },
    {
      "cell_type": "code",
      "execution_count": 2,
      "metadata": {
        "id": "PqACycZPJaFn"
      },
      "outputs": [],
      "source": [
        "from sklearn.preprocessing import MinMaxScaler, StandardScaler\n",
        "from sklearn.metrics import mean_squared_error, mean_absolute_error\n",
        "import joblib\n",
        "import os\n",
        "from sklearn.model_selection import train_test_split\n",
        "import numpy as np\n",
        "from sklearn.preprocessing import MinMaxScaler\n",
        "from scaler3d2d import preprocess_and_save_scalers,transform_data, inverse_transform_data,create_sequences\n",
        "\n"
      ]
    },
    {
      "cell_type": "code",
      "execution_count": 3,
      "metadata": {
        "id": "tpswK5-7JaFo"
      },
      "outputs": [],
      "source": [
        "from tensorflow.keras.optimizers import SGD,Adam\n",
        "import matplotlib.pyplot as plt\n",
        "\n",
        "\n",
        "\n",
        "from tensorflow.keras import Model\n",
        "from tensorflow.keras.layers import Input, LSTM, Dense, Dropout, BatchNormalization, LayerNormalization, Bidirectional\n",
        "from tensorflow.keras.callbacks import EarlyStopping, ReduceLROnPlateau, ModelCheckpoint\n",
        "\n",
        "from sklearn.metrics import r2_score\n",
        "from tensorflow.keras.models import load_model\n",
        "import keras"
      ]
    },
    {
      "cell_type": "code",
      "execution_count": 4,
      "metadata": {
        "id": "e5GJ3N6HJaFo"
      },
      "outputs": [],
      "source": [
        "# Get the list of all files and directories in the specified path\n",
        "\n",
        "dir_contents = os.listdir(\".\")\n",
        "t_symbol = joblib.load(\"symbol.joblib\")"
      ]
    },
    {
      "cell_type": "code",
      "execution_count": 5,
      "metadata": {
        "colab": {
          "base_uri": "https://localhost:8080/"
        },
        "id": "G82RO07oi6t1",
        "outputId": "af9bcf3e-6155-42bc-9c93-986f8b69cb76"
      },
      "outputs": [
        {
          "name": "stdout",
          "output_type": "stream",
          "text": [
            "['EURUSD', 'GBPUSD', 'USDJPY', 'USDCHF', 'AUDUSD', 'NZDUSD', 'USDCAD', 'USDMXN', 'USDZAR', 'XAGUSD', 'XAUUSD', 'XBRUSD', 'XTIUSD', 'XNGUSD', 'BTCUSD', 'ETHUSD', 'LTCUSD', 'XRPUSD', 'BCHUSD', 'AAVEUSD', 'ADAUSD', 'ALGOUSD', 'ATOMUSD', 'AVAXUSD', 'AXSUSD', 'BNBUSD', 'DASHUSD', 'DOGEUSD', 'DOTUSD', 'FILUSD', 'GRTUSD', 'ICPUSD', 'IOTAUSD', 'LINKUSD', 'LRCUSD', 'MANAUSD', 'NEARUSD', 'SOLUSD', 'UNIUSD', 'ZECUSD', 'ETCUSD', 'TRXUSD', 'FETUSD', 'ARBUSD', 'APTUSD', 'SUIUSD', 'USDDKK', 'USDCZK', 'USDHUF', 'USDNOK', 'USDPLN', 'USDSEK', 'USDSGD', 'USDHKD', 'USDCNH', 'USDTRY', 'XBRUSD.Daily', 'XTIUSD.Daily', 'BTCUSD.Daily', 'ETHUSD.Daily', 'XRPUSD.Daily', 'LTCUSD.Daily', 'BCHUSD.Daily', 'LINKUSD.Daily', 'SOLUSD.Daily']\n"
          ]
        }
      ],
      "source": [
        "print(t_symbol)"
      ]
    },
    {
      "cell_type": "code",
      "execution_count": 6,
      "metadata": {
        "id": "UC2tpiHOpgVu"
      },
      "outputs": [],
      "source": [
        "t_symbol = [\"BTCUSD\"]"
      ]
    },
    {
      "cell_type": "code",
      "execution_count": 7,
      "metadata": {
        "colab": {
          "base_uri": "https://localhost:8080/"
        },
        "id": "L9Urbl8tJaFp",
        "outputId": "8ecbdb03-4d2f-495a-8246-bbe9979cef21"
      },
      "outputs": [
        {
          "name": "stdout",
          "output_type": "stream",
          "text": [
            "GeneratedBTCUSD dbot.csv\n",
            "----------------------------------------------------\n",
            "1\n",
            "1\n"
          ]
        }
      ],
      "source": [
        "\n",
        "# Filter the list to include only files, not directories\n",
        "# os.path.join is used to create a full path for isfile() to check\n",
        "files = [item for item in dir_contents]\n",
        "\n",
        "file_target = []\n",
        "test_target = []\n",
        "\n",
        "for filename in files:\n",
        "    for t_s in t_symbol:\n",
        "        if t_s in filename  and \"dbot.csv\" in filename:\n",
        "            print(filename)\n",
        "            file_target.append(filename)\n",
        "            test_target.append(filename.replace(\"dbot\",\"test\"))\n",
        "\n",
        "print(\"----------------------------------------------------\")\n",
        "\n",
        "print(len(file_target))\n",
        "print(len(test_target))\n",
        "train_dfs = []\n",
        "for f_t in file_target:\n",
        "    train_dfs.append(pd.read_csv(f_t))\n",
        "try:\n",
        "    train_dfs_test = []\n",
        "    for f_t in test_target:\n",
        "        train_dfs_test.append(pd.read_csv(f_t))\n",
        "except:\n",
        "    pass"
      ]
    },
    {
      "cell_type": "code",
      "execution_count": 8,
      "metadata": {
        "id": "NWXhyS91bKfn"
      },
      "outputs": [],
      "source": [
        "\n",
        "\n",
        "def engineer_features_5min_btc(df):\n",
        "    \"\"\"\n",
        "    Input: df with columns ['timestamp', 'open', 'high', 'low', 'close', 'volume']\n",
        "    Output: df with 68 features\n",
        "    \"\"\"\n",
        "\n",
        "    # GROUP 1: Core Price Features\n",
        "    df['typical_price'] = (df['high'] + df['low'] + df['close']) / 3\n",
        "    df['weighted_close'] = (df['high'] + df['low'] + 2*df['close']) / 4\n",
        "    df['hl_range'] = df['high'] - df['low']\n",
        "    df['body_size'] = abs(df['close'] - df['open'])\n",
        "    df['upper_wick'] = df['high'] - df[['open', 'close']].max(axis=1)\n",
        "    df['lower_wick'] = df[['open', 'close']].min(axis=1) - df['low']\n",
        "\n",
        "    # GROUP 2: Volume Features\n",
        "    df['volume_usd'] = df['volume'] * df['close']\n",
        "    df['volume_ma10'] = df['volume'].rolling(10).mean()\n",
        "    df['volume_ratio'] = df['volume'] / df['volume_ma10']\n",
        "    df['volume_delta'] = df['volume'].diff()\n",
        "    df['vwap'] = (df['typical_price'] * df['volume']).cumsum() / df['volume'].cumsum()\n",
        "    df['distance_to_vwap'] = (df['close'] - df['vwap']) / df['close']\n",
        "    df['obv'] = (np.sign(df['close'].diff()) * df['volume']).fillna(0).cumsum()\n",
        "\n",
        "    # GROUP 3: Price Momentum\n",
        "    df['price_change'] = df['close'].diff()\n",
        "    df['price_change_pct'] = df['close'].pct_change() * 100\n",
        "    df['price_change_5'] = df['close'].diff(5)\n",
        "    df['price_change_12'] = df['close'].diff(12)\n",
        "    df['roc_10'] = ((df['close'] - df['close'].shift(10)) / df['close'].shift(10)) * 100\n",
        "    df['roc_20'] = ((df['close'] - df['close'].shift(20)) / df['close'].shift(20)) * 100\n",
        "    df['momentum_10'] = df['close'] - df['close'].shift(10)\n",
        "\n",
        "    return df\n",
        "\n",
        "# Usage:\n",
        "# df = pd.read_csv('btcusd_5min.csv')\n",
        "# df = engineer_features_5min_btc(df)"
      ]
    },
    {
      "cell_type": "code",
      "execution_count": 9,
      "metadata": {
        "id": "p5vJpq3AbKfo"
      },
      "outputs": [],
      "source": [
        "n = 0\n",
        "m_label = file_target[n].replace(\"dbot.csv\",\"\")\n",
        "train_df = train_dfs[n]\n",
        "train_df = engineer_features_5min_btc(train_df)[200:]"
      ]
    },
    {
      "cell_type": "code",
      "execution_count": 10,
      "metadata": {
        "colab": {
          "base_uri": "https://localhost:8080/",
          "height": 444
        },
        "id": "IW84qQV4bKfo",
        "outputId": "6dac9962-8398-44fc-b1e2-4b0851a7a0a0"
      },
      "outputs": [
        {
          "data": {
            "text/html": [
              "<div>\n",
              "<style scoped>\n",
              "    .dataframe tbody tr th:only-of-type {\n",
              "        vertical-align: middle;\n",
              "    }\n",
              "\n",
              "    .dataframe tbody tr th {\n",
              "        vertical-align: top;\n",
              "    }\n",
              "\n",
              "    .dataframe thead th {\n",
              "        text-align: right;\n",
              "    }\n",
              "</style>\n",
              "<table border=\"1\" class=\"dataframe\">\n",
              "  <thead>\n",
              "    <tr style=\"text-align: right;\">\n",
              "      <th></th>\n",
              "      <th>open</th>\n",
              "      <th>high</th>\n",
              "      <th>low</th>\n",
              "      <th>close</th>\n",
              "      <th>volume</th>\n",
              "      <th>typical_price</th>\n",
              "      <th>weighted_close</th>\n",
              "      <th>hl_range</th>\n",
              "      <th>body_size</th>\n",
              "      <th>upper_wick</th>\n",
              "      <th>...</th>\n",
              "      <th>vwap</th>\n",
              "      <th>distance_to_vwap</th>\n",
              "      <th>obv</th>\n",
              "      <th>price_change</th>\n",
              "      <th>price_change_pct</th>\n",
              "      <th>price_change_5</th>\n",
              "      <th>price_change_12</th>\n",
              "      <th>roc_10</th>\n",
              "      <th>roc_20</th>\n",
              "      <th>momentum_10</th>\n",
              "    </tr>\n",
              "  </thead>\n",
              "  <tbody>\n",
              "    <tr>\n",
              "      <th>200</th>\n",
              "      <td>5.60</td>\n",
              "      <td>5.92</td>\n",
              "      <td>5.50</td>\n",
              "      <td>5.83</td>\n",
              "      <td>62</td>\n",
              "      <td>5.750000</td>\n",
              "      <td>5.7700</td>\n",
              "      <td>0.42</td>\n",
              "      <td>0.23</td>\n",
              "      <td>0.09</td>\n",
              "      <td>...</td>\n",
              "      <td>6.931474</td>\n",
              "      <td>-0.188932</td>\n",
              "      <td>-1179.0</td>\n",
              "      <td>0.23</td>\n",
              "      <td>4.107143</td>\n",
              "      <td>-0.04</td>\n",
              "      <td>0.20</td>\n",
              "      <td>6.193078</td>\n",
              "      <td>-10.169492</td>\n",
              "      <td>0.34</td>\n",
              "    </tr>\n",
              "    <tr>\n",
              "      <th>201</th>\n",
              "      <td>5.83</td>\n",
              "      <td>5.99</td>\n",
              "      <td>5.80</td>\n",
              "      <td>5.91</td>\n",
              "      <td>31</td>\n",
              "      <td>5.900000</td>\n",
              "      <td>5.9025</td>\n",
              "      <td>0.19</td>\n",
              "      <td>0.08</td>\n",
              "      <td>0.08</td>\n",
              "      <td>...</td>\n",
              "      <td>6.929809</td>\n",
              "      <td>-0.172557</td>\n",
              "      <td>-1148.0</td>\n",
              "      <td>0.08</td>\n",
              "      <td>1.372213</td>\n",
              "      <td>0.22</td>\n",
              "      <td>0.53</td>\n",
              "      <td>7.846715</td>\n",
              "      <td>-4.368932</td>\n",
              "      <td>0.43</td>\n",
              "    </tr>\n",
              "    <tr>\n",
              "      <th>202</th>\n",
              "      <td>5.91</td>\n",
              "      <td>6.00</td>\n",
              "      <td>5.54</td>\n",
              "      <td>5.60</td>\n",
              "      <td>62</td>\n",
              "      <td>5.713333</td>\n",
              "      <td>5.6850</td>\n",
              "      <td>0.46</td>\n",
              "      <td>0.31</td>\n",
              "      <td>0.09</td>\n",
              "      <td>...</td>\n",
              "      <td>6.925894</td>\n",
              "      <td>-0.236767</td>\n",
              "      <td>-1210.0</td>\n",
              "      <td>-0.31</td>\n",
              "      <td>-5.245347</td>\n",
              "      <td>0.15</td>\n",
              "      <td>0.11</td>\n",
              "      <td>-7.894737</td>\n",
              "      <td>-11.251981</td>\n",
              "      <td>-0.48</td>\n",
              "    </tr>\n",
              "    <tr>\n",
              "      <th>203</th>\n",
              "      <td>5.60</td>\n",
              "      <td>5.85</td>\n",
              "      <td>5.43</td>\n",
              "      <td>5.51</td>\n",
              "      <td>76</td>\n",
              "      <td>5.596667</td>\n",
              "      <td>5.5750</td>\n",
              "      <td>0.42</td>\n",
              "      <td>0.09</td>\n",
              "      <td>0.25</td>\n",
              "      <td>...</td>\n",
              "      <td>6.920671</td>\n",
              "      <td>-0.256020</td>\n",
              "      <td>-1286.0</td>\n",
              "      <td>-0.09</td>\n",
              "      <td>-1.607143</td>\n",
              "      <td>-0.18</td>\n",
              "      <td>0.03</td>\n",
              "      <td>-9.672131</td>\n",
              "      <td>-13.364780</td>\n",
              "      <td>-0.59</td>\n",
              "    </tr>\n",
              "    <tr>\n",
              "      <th>204</th>\n",
              "      <td>5.51</td>\n",
              "      <td>5.72</td>\n",
              "      <td>5.20</td>\n",
              "      <td>5.26</td>\n",
              "      <td>80</td>\n",
              "      <td>5.393333</td>\n",
              "      <td>5.3600</td>\n",
              "      <td>0.52</td>\n",
              "      <td>0.25</td>\n",
              "      <td>0.21</td>\n",
              "      <td>...</td>\n",
              "      <td>6.914379</td>\n",
              "      <td>-0.314521</td>\n",
              "      <td>-1366.0</td>\n",
              "      <td>-0.25</td>\n",
              "      <td>-4.537205</td>\n",
              "      <td>-0.34</td>\n",
              "      <td>-0.82</td>\n",
              "      <td>-11.744966</td>\n",
              "      <td>-16.375199</td>\n",
              "      <td>-0.70</td>\n",
              "    </tr>\n",
              "    <tr>\n",
              "      <th>...</th>\n",
              "      <td>...</td>\n",
              "      <td>...</td>\n",
              "      <td>...</td>\n",
              "      <td>...</td>\n",
              "      <td>...</td>\n",
              "      <td>...</td>\n",
              "      <td>...</td>\n",
              "      <td>...</td>\n",
              "      <td>...</td>\n",
              "      <td>...</td>\n",
              "      <td>...</td>\n",
              "      <td>...</td>\n",
              "      <td>...</td>\n",
              "      <td>...</td>\n",
              "      <td>...</td>\n",
              "      <td>...</td>\n",
              "      <td>...</td>\n",
              "      <td>...</td>\n",
              "      <td>...</td>\n",
              "      <td>...</td>\n",
              "      <td>...</td>\n",
              "    </tr>\n",
              "    <tr>\n",
              "      <th>719033</th>\n",
              "      <td>106723.29</td>\n",
              "      <td>106806.71</td>\n",
              "      <td>106714.88</td>\n",
              "      <td>106762.63</td>\n",
              "      <td>730</td>\n",
              "      <td>106761.406667</td>\n",
              "      <td>106761.7125</td>\n",
              "      <td>91.83</td>\n",
              "      <td>39.34</td>\n",
              "      <td>44.08</td>\n",
              "      <td>...</td>\n",
              "      <td>39416.800433</td>\n",
              "      <td>0.630800</td>\n",
              "      <td>7234485.0</td>\n",
              "      <td>38.44</td>\n",
              "      <td>0.036018</td>\n",
              "      <td>62.12</td>\n",
              "      <td>-87.20</td>\n",
              "      <td>-0.072304</td>\n",
              "      <td>-0.156121</td>\n",
              "      <td>-77.25</td>\n",
              "    </tr>\n",
              "    <tr>\n",
              "      <th>719034</th>\n",
              "      <td>106761.08</td>\n",
              "      <td>106787.62</td>\n",
              "      <td>106728.97</td>\n",
              "      <td>106783.06</td>\n",
              "      <td>917</td>\n",
              "      <td>106766.550000</td>\n",
              "      <td>106770.6775</td>\n",
              "      <td>58.65</td>\n",
              "      <td>21.98</td>\n",
              "      <td>4.56</td>\n",
              "      <td>...</td>\n",
              "      <td>39416.894934</td>\n",
              "      <td>0.630869</td>\n",
              "      <td>7235402.0</td>\n",
              "      <td>20.43</td>\n",
              "      <td>0.019136</td>\n",
              "      <td>118.51</td>\n",
              "      <td>-14.56</td>\n",
              "      <td>0.190279</td>\n",
              "      <td>-0.144738</td>\n",
              "      <td>202.80</td>\n",
              "    </tr>\n",
              "    <tr>\n",
              "      <th>719035</th>\n",
              "      <td>106783.01</td>\n",
              "      <td>106963.46</td>\n",
              "      <td>106765.81</td>\n",
              "      <td>106938.36</td>\n",
              "      <td>1293</td>\n",
              "      <td>106889.210000</td>\n",
              "      <td>106901.4975</td>\n",
              "      <td>197.65</td>\n",
              "      <td>155.35</td>\n",
              "      <td>25.10</td>\n",
              "      <td>...</td>\n",
              "      <td>39417.028427</td>\n",
              "      <td>0.631404</td>\n",
              "      <td>7236695.0</td>\n",
              "      <td>155.30</td>\n",
              "      <td>0.145435</td>\n",
              "      <td>279.06</td>\n",
              "      <td>98.48</td>\n",
              "      <td>0.368339</td>\n",
              "      <td>-0.029120</td>\n",
              "      <td>392.45</td>\n",
              "    </tr>\n",
              "    <tr>\n",
              "      <th>719036</th>\n",
              "      <td>106936.51</td>\n",
              "      <td>106974.01</td>\n",
              "      <td>106812.61</td>\n",
              "      <td>106854.96</td>\n",
              "      <td>1250</td>\n",
              "      <td>106880.526667</td>\n",
              "      <td>106874.1350</td>\n",
              "      <td>161.40</td>\n",
              "      <td>81.55</td>\n",
              "      <td>37.50</td>\n",
              "      <td>...</td>\n",
              "      <td>39417.157463</td>\n",
              "      <td>0.631115</td>\n",
              "      <td>7235445.0</td>\n",
              "      <td>-83.40</td>\n",
              "      <td>-0.077989</td>\n",
              "      <td>198.69</td>\n",
              "      <td>274.70</td>\n",
              "      <td>0.236861</td>\n",
              "      <td>-0.146293</td>\n",
              "      <td>252.50</td>\n",
              "    </tr>\n",
              "    <tr>\n",
              "      <th>719037</th>\n",
              "      <td>106853.31</td>\n",
              "      <td>106880.01</td>\n",
              "      <td>106838.82</td>\n",
              "      <td>106860.67</td>\n",
              "      <td>556</td>\n",
              "      <td>106859.833333</td>\n",
              "      <td>106860.0425</td>\n",
              "      <td>41.19</td>\n",
              "      <td>7.36</td>\n",
              "      <td>19.34</td>\n",
              "      <td>...</td>\n",
              "      <td>39417.214840</td>\n",
              "      <td>0.631134</td>\n",
              "      <td>7236001.0</td>\n",
              "      <td>5.71</td>\n",
              "      <td>0.005344</td>\n",
              "      <td>136.48</td>\n",
              "      <td>314.76</td>\n",
              "      <td>0.164437</td>\n",
              "      <td>-0.104532</td>\n",
              "      <td>175.43</td>\n",
              "    </tr>\n",
              "  </tbody>\n",
              "</table>\n",
              "<p>718838 rows × 25 columns</p>\n",
              "</div>"
            ],
            "text/plain": [
              "             open       high        low      close  volume  typical_price  \\\n",
              "200          5.60       5.92       5.50       5.83      62       5.750000   \n",
              "201          5.83       5.99       5.80       5.91      31       5.900000   \n",
              "202          5.91       6.00       5.54       5.60      62       5.713333   \n",
              "203          5.60       5.85       5.43       5.51      76       5.596667   \n",
              "204          5.51       5.72       5.20       5.26      80       5.393333   \n",
              "...           ...        ...        ...        ...     ...            ...   \n",
              "719033  106723.29  106806.71  106714.88  106762.63     730  106761.406667   \n",
              "719034  106761.08  106787.62  106728.97  106783.06     917  106766.550000   \n",
              "719035  106783.01  106963.46  106765.81  106938.36    1293  106889.210000   \n",
              "719036  106936.51  106974.01  106812.61  106854.96    1250  106880.526667   \n",
              "719037  106853.31  106880.01  106838.82  106860.67     556  106859.833333   \n",
              "\n",
              "        weighted_close  hl_range  body_size  upper_wick  ...          vwap  \\\n",
              "200             5.7700      0.42       0.23        0.09  ...      6.931474   \n",
              "201             5.9025      0.19       0.08        0.08  ...      6.929809   \n",
              "202             5.6850      0.46       0.31        0.09  ...      6.925894   \n",
              "203             5.5750      0.42       0.09        0.25  ...      6.920671   \n",
              "204             5.3600      0.52       0.25        0.21  ...      6.914379   \n",
              "...                ...       ...        ...         ...  ...           ...   \n",
              "719033     106761.7125     91.83      39.34       44.08  ...  39416.800433   \n",
              "719034     106770.6775     58.65      21.98        4.56  ...  39416.894934   \n",
              "719035     106901.4975    197.65     155.35       25.10  ...  39417.028427   \n",
              "719036     106874.1350    161.40      81.55       37.50  ...  39417.157463   \n",
              "719037     106860.0425     41.19       7.36       19.34  ...  39417.214840   \n",
              "\n",
              "        distance_to_vwap        obv  price_change  price_change_pct  \\\n",
              "200            -0.188932    -1179.0          0.23          4.107143   \n",
              "201            -0.172557    -1148.0          0.08          1.372213   \n",
              "202            -0.236767    -1210.0         -0.31         -5.245347   \n",
              "203            -0.256020    -1286.0         -0.09         -1.607143   \n",
              "204            -0.314521    -1366.0         -0.25         -4.537205   \n",
              "...                  ...        ...           ...               ...   \n",
              "719033          0.630800  7234485.0         38.44          0.036018   \n",
              "719034          0.630869  7235402.0         20.43          0.019136   \n",
              "719035          0.631404  7236695.0        155.30          0.145435   \n",
              "719036          0.631115  7235445.0        -83.40         -0.077989   \n",
              "719037          0.631134  7236001.0          5.71          0.005344   \n",
              "\n",
              "        price_change_5  price_change_12     roc_10     roc_20  momentum_10  \n",
              "200              -0.04             0.20   6.193078 -10.169492         0.34  \n",
              "201               0.22             0.53   7.846715  -4.368932         0.43  \n",
              "202               0.15             0.11  -7.894737 -11.251981        -0.48  \n",
              "203              -0.18             0.03  -9.672131 -13.364780        -0.59  \n",
              "204              -0.34            -0.82 -11.744966 -16.375199        -0.70  \n",
              "...                ...              ...        ...        ...          ...  \n",
              "719033           62.12           -87.20  -0.072304  -0.156121       -77.25  \n",
              "719034          118.51           -14.56   0.190279  -0.144738       202.80  \n",
              "719035          279.06            98.48   0.368339  -0.029120       392.45  \n",
              "719036          198.69           274.70   0.236861  -0.146293       252.50  \n",
              "719037          136.48           314.76   0.164437  -0.104532       175.43  \n",
              "\n",
              "[718838 rows x 25 columns]"
            ]
          },
          "metadata": {},
          "output_type": "display_data"
        }
      ],
      "source": [
        "display(train_df)"
      ]
    },
    {
      "cell_type": "code",
      "execution_count": 11,
      "metadata": {
        "colab": {
          "base_uri": "https://localhost:8080/"
        },
        "id": "FgfuQq2n2yc1",
        "outputId": "5775c0a7-317f-47b4-9a10-378d7483ac5a"
      },
      "outputs": [
        {
          "name": "stdout",
          "output_type": "stream",
          "text": [
            "GeneratedBTCUSD \n",
            "[[ 1.07093230e+05  1.07119630e+05  1.06995860e+05 ...  2.28124628e-02\n",
            "   1.05180814e-01  2.44200000e+01]\n",
            " [ 1.07071170e+05  1.07084320e+05  1.06981040e+05 ...  7.63107260e-02\n",
            "   2.10932373e-01  8.16400000e+01]\n",
            " [ 1.07066140e+05  1.07110700e+05  1.07027330e+05 ... -1.58769882e-01\n",
            "   2.59958555e-01 -1.70280000e+02]\n",
            " ...\n",
            " [ 1.06761080e+05  1.06787620e+05  1.06728970e+05 ...  1.90279138e-01\n",
            "  -1.44738289e-01  2.02800000e+02]\n",
            " [ 1.06783010e+05  1.06963460e+05  1.06765810e+05 ...  3.68338869e-01\n",
            "  -2.91204475e-02  3.92450000e+02]\n",
            " [ 1.06936510e+05  1.06974010e+05  1.06812610e+05 ...  2.36861326e-01\n",
            "  -1.46292674e-01  2.52500000e+02]]\n",
            "[106860.67]\n"
          ]
        }
      ],
      "source": [
        "\n",
        "#train_df_test = train_dfs_test[n]\n",
        "print(m_label)\n",
        "SEQ_LEN = 60 # length of input sequence (timesteps). Typical choices: 30, 60, 90\n",
        "n_rows, n_features = train_df.values.shape\n",
        "\n",
        "X, y = create_sequences(train_df.values, SEQ_LEN, 1, 3)  # X: (n_samples, SEQ_LEN, n_features), y: (n_samples, n_features)\n",
        "#X1, y1 = create_sequences(train_df.values, SEQ_LEN, 5)  # X: (n_samples, SEQ_LEN, n_features), y: (n_samples, n_features)\n",
        "\n",
        "n_samples = X.shape[0]\n",
        "print(X[-1])\n",
        "print(y[-1])"
      ]
    },
    {
      "cell_type": "code",
      "execution_count": 12,
      "metadata": {
        "colab": {
          "base_uri": "https://localhost:8080/"
        },
        "id": "rsrSNZt8bKfo",
        "outputId": "b999f416-59c5-413c-ba77-eaf5df3ff1d8"
      },
      "outputs": [
        {
          "name": "stdout",
          "output_type": "stream",
          "text": [
            "[[ 1.07093230e+05  1.07119630e+05  1.06995860e+05 ...  2.28124628e-02\n",
            "   1.05180814e-01  2.44200000e+01]\n",
            " [ 1.07071170e+05  1.07084320e+05  1.06981040e+05 ...  7.63107260e-02\n",
            "   2.10932373e-01  8.16400000e+01]\n",
            " [ 1.07066140e+05  1.07110700e+05  1.07027330e+05 ... -1.58769882e-01\n",
            "   2.59958555e-01 -1.70280000e+02]\n",
            " ...\n",
            " [ 1.06761080e+05  1.06787620e+05  1.06728970e+05 ...  1.90279138e-01\n",
            "  -1.44738289e-01  2.02800000e+02]\n",
            " [ 1.06783010e+05  1.06963460e+05  1.06765810e+05 ...  3.68338869e-01\n",
            "  -2.91204475e-02  3.92450000e+02]\n",
            " [ 1.06936510e+05  1.06974010e+05  1.06812610e+05 ...  2.36861326e-01\n",
            "  -1.46292674e-01  2.52500000e+02]]\n"
          ]
        }
      ],
      "source": [
        "print(X[-1])"
      ]
    },
    {
      "cell_type": "code",
      "execution_count": 13,
      "metadata": {
        "colab": {
          "base_uri": "https://localhost:8080/"
        },
        "id": "ZmhqTdKdbKfo",
        "outputId": "c5e9f59e-4195-493b-9772-652a23102474"
      },
      "outputs": [
        {
          "name": "stdout",
          "output_type": "stream",
          "text": [
            "Scaler for X saved to 'scaler_x.joblib'\n",
            "Scaler for Y saved to 'scaler_y.joblib'\n"
          ]
        }
      ],
      "source": [
        "X, y = preprocess_and_save_scalers(X, y)\n"
      ]
    },
    {
      "cell_type": "code",
      "execution_count": 14,
      "metadata": {
        "colab": {
          "base_uri": "https://localhost:8080/",
          "height": 595
        },
        "id": "5j_wkyXD5s_s",
        "outputId": "eb03b419-7ca2-4305-fe3c-1740fd86e995"
      },
      "outputs": [
        {
          "name": "stdout",
          "output_type": "stream",
          "text": [
            "Model: \"model\"\n",
            "_________________________________________________________________\n",
            " Layer (type)                Output Shape              Param #   \n",
            "=================================================================\n",
            " input_1 (InputLayer)        [(None, 60, 25)]          0         \n",
            "                                                                 \n",
            " bidirectional (Bidirectiona  (None, 60, 256)          157696    \n",
            " l)                                                              \n",
            "                                                                 \n",
            " bidirectional_1 (Bidirectio  (None, 60, 128)          164352    \n",
            " nal)                                                            \n",
            "                                                                 \n",
            " lstm_2 (LSTM)               (None, 64)                49408     \n",
            "                                                                 \n",
            " dropout (Dropout)           (None, 64)                0         \n",
            "                                                                 \n",
            " dense (Dense)               (None, 32)                2080      \n",
            "                                                                 \n",
            " dropout_1 (Dropout)         (None, 32)                0         \n",
            "                                                                 \n",
            " dense_1 (Dense)             (None, 1)                 33        \n",
            "                                                                 \n",
            "=================================================================\n",
            "Total params: 373,569\n",
            "Trainable params: 373,569\n",
            "Non-trainable params: 0\n",
            "_________________________________________________________________\n"
          ]
        }
      ],
      "source": [
        "X_train, X_test, y_train, y_test = train_test_split(X, y, test_size=0.33, random_state=0, shuffle=False)\n",
        "X_val, X_test, y_val,  y_test = train_test_split(X_test, y_test, test_size=0.01, random_state=0, shuffle=False)\n",
        "\n",
        "seq_len = X_train.shape[1]\n",
        "n_features = X_train.shape[2]\n",
        "output_dim = y_train.shape[1]\n",
        "\n",
        "i = Input(shape=(seq_len, n_features))\n",
        "X = Bidirectional(LSTM(128, return_sequences=True))(i)\n",
        "X = Bidirectional(LSTM(64, return_sequences=True))(X)\n",
        "X = LSTM(64)(X)\n",
        "X = Dropout(0.5)(X)\n",
        "X = Dense(32, activation=\"relu\")(X)\n",
        "X = Dropout(0.25)(X)\n",
        "X = Dense(output_dim)(X)\n",
        "\n",
        "model = Model(i, X)\n",
        "model.summary()\n"
      ]
    },
    {
      "cell_type": "code",
      "execution_count": 15,
      "metadata": {
        "colab": {
          "base_uri": "https://localhost:8080/"
        },
        "id": "i8q4twW84DPd",
        "outputId": "c29818b8-ff21-4255-c6f0-6e6d59887d39"
      },
      "outputs": [
        {
          "name": "stdout",
          "output_type": "stream",
          "text": [
            "Epoch 1/100\n",
            "1882/1882 [==============================] - ETA: 0s - loss: 9.7688e-04 - mae: 0.0200 - root_mean_squared_error: 0.0313 - mape: 367.6392 - msle: 6.0612e-04\n",
            "Epoch 1: val_loss improved from inf to 0.00461, saving model to GeneratedBTCUSD lstm_best.keras\n",
            "1882/1882 [==============================] - 92s 45ms/step - loss: 9.7688e-04 - mae: 0.0200 - root_mean_squared_error: 0.0313 - mape: 367.6392 - msle: 6.0612e-04 - val_loss: 0.0046 - val_mae: 0.0544 - val_root_mean_squared_error: 0.0679 - val_mape: 8.0891 - val_msle: 0.0015 - lr: 0.0010\n",
            "Epoch 2/100\n",
            "1881/1882 [============================>.] - ETA: 0s - loss: 5.1276e-04 - mae: 0.0160 - root_mean_squared_error: 0.0226 - mape: 402.9076 - msle: 3.2416e-04\n",
            "Epoch 2: val_loss improved from 0.00461 to 0.00218, saving model to GeneratedBTCUSD lstm_best.keras\n",
            "1882/1882 [==============================] - 82s 43ms/step - loss: 5.1276e-04 - mae: 0.0160 - root_mean_squared_error: 0.0226 - mape: 402.8716 - msle: 3.2416e-04 - val_loss: 0.0022 - val_mae: 0.0376 - val_root_mean_squared_error: 0.0467 - val_mape: 5.5232 - val_msle: 7.2157e-04 - lr: 0.0010\n",
            "Epoch 3/100\n",
            "1882/1882 [==============================] - ETA: 0s - loss: 4.7927e-04 - mae: 0.0155 - root_mean_squared_error: 0.0219 - mape: 332.4506 - msle: 3.0382e-04\n",
            "Epoch 3: val_loss improved from 0.00218 to 0.00062, saving model to GeneratedBTCUSD lstm_best.keras\n",
            "1882/1882 [==============================] - 78s 41ms/step - loss: 4.7927e-04 - mae: 0.0155 - root_mean_squared_error: 0.0219 - mape: 332.4506 - msle: 3.0382e-04 - val_loss: 6.1762e-04 - val_mae: 0.0215 - val_root_mean_squared_error: 0.0249 - val_mape: 3.5796 - val_msle: 2.2894e-04 - lr: 0.0010\n",
            "Epoch 4/100\n",
            "1881/1882 [============================>.] - ETA: 0s - loss: 4.5813e-04 - mae: 0.0151 - root_mean_squared_error: 0.0214 - mape: 425.8176 - msle: 2.9077e-04\n",
            "Epoch 4: val_loss did not improve from 0.00062\n",
            "1882/1882 [==============================] - 85s 45ms/step - loss: 4.5814e-04 - mae: 0.0151 - root_mean_squared_error: 0.0214 - mape: 425.7793 - msle: 2.9078e-04 - val_loss: 0.0031 - val_mae: 0.0468 - val_root_mean_squared_error: 0.0558 - val_mape: 7.2563 - val_msle: 0.0011 - lr: 0.0010\n",
            "Epoch 5/100\n",
            "1881/1882 [============================>.] - ETA: 0s - loss: 4.5547e-04 - mae: 0.0150 - root_mean_squared_error: 0.0213 - mape: 332.9380 - msle: 2.8922e-04\n",
            "Epoch 5: val_loss did not improve from 0.00062\n",
            "1882/1882 [==============================] - 77s 41ms/step - loss: 4.5548e-04 - mae: 0.0150 - root_mean_squared_error: 0.0213 - mape: 332.9085 - msle: 2.8923e-04 - val_loss: 9.7563e-04 - val_mae: 0.0273 - val_root_mean_squared_error: 0.0312 - val_mape: 4.5748 - val_msle: 3.3966e-04 - lr: 0.0010\n",
            "Epoch 6/100\n",
            "1881/1882 [============================>.] - ETA: 0s - loss: 4.4620e-04 - mae: 0.0148 - root_mean_squared_error: 0.0211 - mape: 388.9315 - msle: 2.8305e-04\n",
            "Epoch 6: val_loss improved from 0.00062 to 0.00009, saving model to GeneratedBTCUSD lstm_best.keras\n",
            "1882/1882 [==============================] - 77s 41ms/step - loss: 4.4620e-04 - mae: 0.0148 - root_mean_squared_error: 0.0211 - mape: 388.8966 - msle: 2.8305e-04 - val_loss: 8.6500e-05 - val_mae: 0.0072 - val_root_mean_squared_error: 0.0093 - val_mape: 1.3028 - val_msle: 2.9383e-05 - lr: 0.0010\n",
            "Epoch 7/100\n",
            "1881/1882 [============================>.] - ETA: 0s - loss: 4.4264e-04 - mae: 0.0148 - root_mean_squared_error: 0.0210 - mape: 311.3228 - msle: 2.8044e-04\n",
            "Epoch 7: val_loss did not improve from 0.00009\n",
            "1882/1882 [==============================] - 76s 41ms/step - loss: 4.4264e-04 - mae: 0.0148 - root_mean_squared_error: 0.0210 - mape: 311.2953 - msle: 2.8044e-04 - val_loss: 0.0031 - val_mae: 0.0413 - val_root_mean_squared_error: 0.0558 - val_mape: 5.7411 - val_msle: 9.8366e-04 - lr: 0.0010\n",
            "Epoch 8/100\n",
            "1881/1882 [============================>.] - ETA: 0s - loss: 4.3404e-04 - mae: 0.0146 - root_mean_squared_error: 0.0208 - mape: 322.4197 - msle: 2.7481e-04\n",
            "Epoch 8: val_loss did not improve from 0.00009\n",
            "1882/1882 [==============================] - 83s 44ms/step - loss: 4.3402e-04 - mae: 0.0146 - root_mean_squared_error: 0.0208 - mape: 322.4250 - msle: 2.7480e-04 - val_loss: 0.0049 - val_mae: 0.0491 - val_root_mean_squared_error: 0.0698 - val_mape: 6.6188 - val_msle: 0.0015 - lr: 0.0010\n",
            "Epoch 9/100\n",
            "1882/1882 [==============================] - ETA: 0s - loss: 4.3133e-04 - mae: 0.0145 - root_mean_squared_error: 0.0208 - mape: 273.0139 - msle: 2.7272e-04\n",
            "Epoch 9: val_loss did not improve from 0.00009\n",
            "1882/1882 [==============================] - 84s 45ms/step - loss: 4.3133e-04 - mae: 0.0145 - root_mean_squared_error: 0.0208 - mape: 273.0139 - msle: 2.7272e-04 - val_loss: 0.0054 - val_mae: 0.0543 - val_root_mean_squared_error: 0.0736 - val_mape: 7.5793 - val_msle: 0.0017 - lr: 0.0010\n",
            "Epoch 10/100\n",
            "1881/1882 [============================>.] - ETA: 0s - loss: 4.2918e-04 - mae: 0.0144 - root_mean_squared_error: 0.0207 - mape: 268.0828 - msle: 2.7116e-04\n",
            "Epoch 10: val_loss did not improve from 0.00009\n",
            "1882/1882 [==============================] - 77s 41ms/step - loss: 4.2921e-04 - mae: 0.0144 - root_mean_squared_error: 0.0207 - mape: 268.0593 - msle: 2.7117e-04 - val_loss: 0.0050 - val_mae: 0.0503 - val_root_mean_squared_error: 0.0705 - val_mape: 6.9664 - val_msle: 0.0016 - lr: 0.0010\n",
            "Epoch 11/100\n",
            "1882/1882 [==============================] - ETA: 0s - loss: 4.2716e-04 - mae: 0.0143 - root_mean_squared_error: 0.0207 - mape: 313.3890 - msle: 2.6944e-04\n",
            "Epoch 11: val_loss did not improve from 0.00009\n",
            "1882/1882 [==============================] - 78s 41ms/step - loss: 4.2716e-04 - mae: 0.0143 - root_mean_squared_error: 0.0207 - mape: 313.3890 - msle: 2.6944e-04 - val_loss: 0.0090 - val_mae: 0.0684 - val_root_mean_squared_error: 0.0950 - val_mape: 9.3345 - val_msle: 0.0029 - lr: 0.0010\n",
            "Epoch 12/100\n",
            "1881/1882 [============================>.] - ETA: 0s - loss: 4.1848e-04 - mae: 0.0142 - root_mean_squared_error: 0.0205 - mape: 308.5277 - msle: 2.6426e-04\n",
            "Epoch 12: ReduceLROnPlateau reducing learning rate to 0.0005000000237487257.\n",
            "\n",
            "Epoch 12: val_loss did not improve from 0.00009\n",
            "1882/1882 [==============================] - 78s 41ms/step - loss: 4.1847e-04 - mae: 0.0142 - root_mean_squared_error: 0.0205 - mape: 308.5002 - msle: 2.6425e-04 - val_loss: 0.0072 - val_mae: 0.0559 - val_root_mean_squared_error: 0.0848 - val_mape: 7.2353 - val_msle: 0.0023 - lr: 0.0010\n",
            "Epoch 13/100\n",
            "1881/1882 [============================>.] - ETA: 0s - loss: 4.0578e-04 - mae: 0.0140 - root_mean_squared_error: 0.0201 - mape: 381.6718 - msle: 2.5662e-04\n",
            "Epoch 13: val_loss did not improve from 0.00009\n",
            "1882/1882 [==============================] - 78s 41ms/step - loss: 4.0577e-04 - mae: 0.0140 - root_mean_squared_error: 0.0201 - mape: 381.6375 - msle: 2.5661e-04 - val_loss: 0.0082 - val_mae: 0.0615 - val_root_mean_squared_error: 0.0905 - val_mape: 8.2087 - val_msle: 0.0026 - lr: 5.0000e-04\n",
            "Epoch 14/100\n",
            "1881/1882 [============================>.] - ETA: 0s - loss: 3.9821e-04 - mae: 0.0139 - root_mean_squared_error: 0.0200 - mape: 307.4450 - msle: 2.5296e-04\n",
            "Epoch 14: val_loss did not improve from 0.00009\n",
            "1882/1882 [==============================] - 77s 41ms/step - loss: 3.9822e-04 - mae: 0.0139 - root_mean_squared_error: 0.0200 - mape: 307.4182 - msle: 2.5296e-04 - val_loss: 0.0088 - val_mae: 0.0650 - val_root_mean_squared_error: 0.0937 - val_mape: 8.8571 - val_msle: 0.0028 - lr: 5.0000e-04\n",
            "Epoch 15/100\n",
            "1882/1882 [==============================] - ETA: 0s - loss: 3.9220e-04 - mae: 0.0137 - root_mean_squared_error: 0.0198 - mape: 395.1587 - msle: 2.4901e-04\n",
            "Epoch 15: val_loss did not improve from 0.00009\n",
            "1882/1882 [==============================] - 78s 41ms/step - loss: 3.9220e-04 - mae: 0.0137 - root_mean_squared_error: 0.0198 - mape: 395.1587 - msle: 2.4901e-04 - val_loss: 0.0114 - val_mae: 0.0742 - val_root_mean_squared_error: 0.1069 - val_mape: 9.9876 - val_msle: 0.0037 - lr: 5.0000e-04\n",
            "Epoch 16/100\n",
            "1881/1882 [============================>.] - ETA: 0s - loss: 3.8830e-04 - mae: 0.0136 - root_mean_squared_error: 0.0197 - mape: 286.4861 - msle: 2.4724e-04\n",
            "Epoch 16: val_loss did not improve from 0.00009\n",
            "1882/1882 [==============================] - 90s 48ms/step - loss: 3.8828e-04 - mae: 0.0136 - root_mean_squared_error: 0.0197 - mape: 286.4604 - msle: 2.4723e-04 - val_loss: 0.0098 - val_mae: 0.0668 - val_root_mean_squared_error: 0.0987 - val_mape: 8.8481 - val_msle: 0.0031 - lr: 5.0000e-04\n",
            "Epoch 17/100\n",
            "1882/1882 [==============================] - ETA: 0s - loss: 3.8114e-04 - mae: 0.0135 - root_mean_squared_error: 0.0195 - mape: 282.1711 - msle: 2.4336e-04"
          ]
        }
      ],
      "source": [
        "\n",
        "es = EarlyStopping(monitor='val_loss', patience=12, restore_best_weights=True, verbose=2)\n",
        "rlr = ReduceLROnPlateau(monitor='val_loss', factor=0.5, patience=6, min_lr=1e-6, verbose=2)\n",
        "mc = ModelCheckpoint(m_label + 'lstm_best.keras', monitor='val_loss', save_best_only=True, verbose=2)\n",
        "model.compile(optimizer=Adam(learning_rate=0.001),\n",
        "              loss='mse',\n",
        "              metrics=['mae',tf.keras.metrics.RootMeanSquaredError(),'mape','msle'])\n",
        "r = model.fit(\n",
        "  X_train, y_train,\n",
        "  validation_data=(X_val, y_val),\n",
        "  epochs=100,\n",
        "  batch_size=256,\n",
        "  callbacks=[es, rlr, mc ],\n",
        "  verbose=1\n",
        "\n",
        ")\n",
        "\n",
        "\n"
      ]
    },
    {
      "cell_type": "code",
      "execution_count": null,
      "metadata": {
        "id": "gN-5WQ-M4QOP"
      },
      "outputs": [],
      "source": [
        "plt.title(\"Loss on data\")\n",
        "plt.plot(r.history['loss'], label=\"loss\")\n",
        "plt.plot(r.history['val_loss'], label=\"val_loss\")\n",
        "plt.legend()\n",
        "plt.show()\n",
        "\n",
        "plt.title(\"MAE on data\")\n",
        "plt.plot(r.history['mae'], label=\"mae\")\n",
        "plt.plot(r.history['val_mae'], label=\"val_mae\")\n",
        "plt.legend()\n",
        "plt.show()\n",
        "\n",
        "plt.title(\"mape on data\")\n",
        "plt.plot(r.history['mape'], label=\"mape\")\n",
        "plt.plot(r.history['val_mape'], label=\"val_mape\")\n",
        "plt.legend()\n",
        "plt.show()\n",
        "\n",
        "plt.title(\"msle on data\")\n",
        "plt.plot(r.history['msle'], label=\"msle\")\n",
        "plt.plot(r.history['val_msle'], label=\"val_msle\")\n",
        "plt.legend()\n",
        "plt.show()\n",
        "\n",
        "plt.title(\"root_mean_squared_error on data\")\n",
        "plt.plot(r.history['root_mean_squared_error'], label=\"root_mean_squared_error\")\n",
        "plt.plot(r.history['val_root_mean_squared_error'], label=\"val_root_mean_squared_error\")\n",
        "plt.legend()\n",
        "plt.show()\n",
        "\n",
        "\n"
      ]
    },
    {
      "cell_type": "code",
      "execution_count": null,
      "metadata": {
        "id": "gq_ghklFbKfo"
      },
      "outputs": [],
      "source": [
        "best_model = load_model(m_label + 'lstm_best.keras')\n"
      ]
    },
    {
      "cell_type": "code",
      "execution_count": null,
      "metadata": {
        "id": "nlqwzEAlbKfo"
      },
      "outputs": [],
      "source": [
        "y_pred = best_model.predict(X_test)"
      ]
    },
    {
      "cell_type": "code",
      "execution_count": null,
      "metadata": {
        "id": "sJaWHWTdbKfp"
      },
      "outputs": [],
      "source": [
        "print(y_pred.shape)"
      ]
    },
    {
      "cell_type": "code",
      "execution_count": null,
      "metadata": {
        "id": "KSyo7nJsbKfp"
      },
      "outputs": [],
      "source": [
        "_,y_test = inverse_transform_data(scaled_y=y_test)\n",
        "_,y_pred = inverse_transform_data(scaled_y=y_pred)\n",
        "print(y_test, \" comparing to \", y_pred)"
      ]
    },
    {
      "cell_type": "code",
      "execution_count": null,
      "metadata": {
        "id": "b3amOO49bKfp"
      },
      "outputs": [],
      "source": [
        "# 1. Calculate the error (the gap between actual and predicted)\n",
        "error = y_test - y_pred\n",
        "\n",
        "# 2. Calculate the average gap (the bias)\n",
        "average_gap = np.mean(error)\n",
        "print(f\"Average Gap (Bias): {average_gap:.7f}\")\n",
        "\n",
        "# 3. Add the average gap to your predictions to create a corrected version\n",
        "y_pred_corrected = y_pred + average_gap\n",
        "\n",
        "# --- Verification ---\n",
        "# Let's check the first predicted value vs. the first actual value\n",
        "print(\"\\n--- Example of Correction ---\")\n",
        "print(f\"Original Prediction: {y_pred[0, 0]:.7f}\")\n",
        "print(f\"Corrected Prediction: {y_pred_corrected[0, 0]:.7f}\")\n",
        "print(f\"Actual Value:        {y_test[0, 0]:.7f}\")"
      ]
    },
    {
      "cell_type": "code",
      "execution_count": null,
      "metadata": {
        "id": "ssFZIdC4bKfp"
      },
      "outputs": [],
      "source": [
        "print(\"R^2 value for \", m_label)\n",
        "print(r2_score(y_test, y_pred))"
      ]
    },
    {
      "cell_type": "code",
      "execution_count": null,
      "metadata": {
        "id": "Ok2GYKWsbKfp"
      },
      "outputs": [],
      "source": [
        "\n",
        "\n",
        "\n",
        "\n",
        "plt.figure(figsize=(12, 6))\n",
        "plt.plot(y_test[:, 0], label='Actual Close Price', color='blue')\n",
        "#plt.plot(y_pred[:, 0], label='Predicted Close Price', color='red', linestyle='--')\n",
        "plt.plot(y_pred_corrected[:, 0], label='corrected Predicted Close Price', color='gray', linestyle='--')\n",
        "plt.title('Actual vs. Predicted Close Price')\n",
        "plt.xlabel('Time')\n",
        "plt.ylabel('Close Price')\n",
        "plt.legend()\n",
        "plt.grid(True)\n",
        "plt.savefig('actual_vs_predicted.png')\n",
        "plt.show()\n"
      ]
    }
  ],
  "metadata": {
    "accelerator": "GPU",
    "colab": {
      "gpuType": "T4",
      "include_colab_link": true,
      "provenance": []
    },
    "kernelspec": {
      "display_name": "Python 3",
      "name": "python3"
    },
    "language_info": {
      "codemirror_mode": {
        "name": "ipython",
        "version": 3
      },
      "file_extension": ".py",
      "mimetype": "text/x-python",
      "name": "python",
      "nbconvert_exporter": "python",
      "pygments_lexer": "ipython3",
      "version": "3.10.13"
    }
  },
  "nbformat": 4,
  "nbformat_minor": 0
}
