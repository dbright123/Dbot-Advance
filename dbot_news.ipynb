{
 "cells": [
  {
   "cell_type": "code",
   "execution_count": 1,
   "metadata": {},
   "outputs": [],
   "source": [
    "import requests\n",
    "from bs4 import BeautifulSoup\n",
    "import datetime"
   ]
  },
  {
   "cell_type": "code",
   "execution_count": null,
   "metadata": {},
   "outputs": [],
   "source": [
    "\n",
    "\n",
    "# Get the current date in GMT+1\n",
    "current_date = datetime.datetime.now() + datetime.timedelta(hours=1)\n",
    "formatted_date = current_date.strftime(\"%b%d.%Y\")  # Format as \"Jan09.2024\"\n",
    "\n",
    "url = f\"https://www.forexfactory.com/calendar?day={formatted_date}\"\n",
    "response = requests.get(url)\n",
    "soup = BeautifulSoup(response.content, \"html.parser\")\n",
    "\n",
    "high_impact_news = soup.find_all(\"tr\", class_=\"calendar_row high\")\n",
    "\n",
    "news_data = []\n",
    "for item in high_impact_news:\n",
    "    market = item.find(\"td\", class_=\"currency\").text\n",
    "    news = item.find(\"td\", class_=\"event\").text\n",
    "    actual = item.find(\"td\", class_=\"actual\").text or \"\"\n",
    "    forecast = item.find(\"td\", class_=\"forecast\").text or \"\"\n",
    "    previous = item.find(\"td\", class_=\"previous\").text or \"\"\n",
    "\n",
    "    # Extract time in GMT+1 and format it\n",
    "    time_str = item.find(\"td\", class_=\"time\").text\n",
    "    time_gmt_plus1 = datetime.datetime.strptime(time_str, \"%I:%M%p\").strftime(\"%H:%M\")\n",
    "\n",
    "    news_data.append([market, news, actual, forecast, previous, time_gmt_plus1])\n",
    "\n",
    "economic_calendar = news_data\n",
    "\n",
    "print(economic_calendar)\n"
   ]
  }
 ],
 "metadata": {
  "kernelspec": {
   "display_name": "Python 3",
   "language": "python",
   "name": "python3"
  },
  "language_info": {
   "codemirror_mode": {
    "name": "ipython",
    "version": 3
   },
   "file_extension": ".py",
   "mimetype": "text/x-python",
   "name": "python",
   "nbconvert_exporter": "python",
   "pygments_lexer": "ipython3",
   "version": "3.10.5"
  }
 },
 "nbformat": 4,
 "nbformat_minor": 2
}
