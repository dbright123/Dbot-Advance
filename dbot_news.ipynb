{
 "cells": [
  {
   "cell_type": "code",
   "execution_count": 8,
   "metadata": {},
   "outputs": [],
   "source": [
    "import requests\n",
    "from bs4 import BeautifulSoup\n",
    "import datetime"
   ]
  },
  {
   "cell_type": "code",
   "execution_count": 9,
   "metadata": {},
   "outputs": [],
   "source": [
    "url = f\"https://ng.investing.com/economic-calendar/\"\n",
    "response = requests.get(url)\n",
    "soup = BeautifulSoup(response.content, \"html.parser\")\n",
    "\n",
    "news = soup.find(id=\"economicCalendarData\", class_=\"genTbl closedTbl ecoCalTbl persistArea js-economic-table\")\n",
    "news = news.find(\"tbody\")\n",
    "news = news.find_all(\"tr\",class_=\"js-event-item\")\n",
    "\n"
   ]
  },
  {
   "cell_type": "code",
   "execution_count": 10,
   "metadata": {},
   "outputs": [],
   "source": [
    "currency = ['USD','EUR','JPY','GBP','NZD','AUD']\n",
    "impact_color = ['greenFont','blackFont','redFont']"
   ]
  },
  {
   "cell_type": "code",
   "execution_count": 11,
   "metadata": {},
   "outputs": [
    {
     "name": "stdout",
     "output_type": "stream",
     "text": [
      "51\n",
      "[<td class=\"first left time js-time\" title=\"\">01:01</td>, <td class=\"left flagCur noWrap\"><span class=\"ceFlags United_Kingdom\" data-img_key=\"United_Kingdom\" title=\"United Kingdom\"> </span> GBP</td>, <td class=\"left textNum sentiment noWrap\" data-img_key=\"bull1\" title=\"Low Volatility Expected\"><i class=\"grayFullBullishIcon\"></i><i class=\"grayEmptyBullishIcon\"></i><i class=\"grayEmptyBullishIcon\"></i></td>, <td class=\"left event\" title=\"Click to view more info on Rightmove House Price Index\"><a href=\"/economic-calendar/rightmove-house-price-index-265\" target=\"_blank\">\n",
      "Rightmove House Price Index (MoM) </a>\n",
      "</td>, <td class=\"bold act blackFont event-490992-actual\" id=\"eventActual_490992\" title=\"\">1.3%</td>, <td class=\"fore event-490992-forecast\" id=\"eventForecast_490992\"> </td>, <td class=\"prev blackFont event-490992-previous\" id=\"eventPrevious_490992\"><span title=\"\">-1.9%</span></td>, <td class=\"alert js-injected-user-alert-container\" data-event-id=\"265\" data-name=\"Rightmove House Price Index\" data-status-enabled=\"0\">\n",
      "<span class=\"js-plus-icon alertBellGrayPlus genToolTip oneliner\" data-reg_ep=\"add alert\" data-tooltip=\"Create Alert\" data-tooltip-alt=\"Alert is active\"></span>\n",
      "</td>]\n"
     ]
    }
   ],
   "source": [
    "n = 1\n",
    "print(len(news))\n",
    "target_news = news[n].find_all(\"td\")\n",
    "print(target_news)"
   ]
  },
  {
   "cell_type": "code",
   "execution_count": 12,
   "metadata": {},
   "outputs": [
    {
     "name": "stdout",
     "output_type": "stream",
     "text": [
      "['01', '01']\n",
      "currency time  1 : 1\n",
      "current time: 14 : 42\n",
      "GBP\n",
      "currency is among target, please wait while i check for information on the currency\n",
      "The news market is not active\n",
      "This news dooesn't have the impact i am looking for\n",
      "<td class=\"bold act blackFont event-490992-actual\" id=\"eventActual_490992\" title=\"\">1.3%</td>\n",
      "<td class=\"fore event-490992-forecast\" id=\"eventForecast_490992\"> </td>\n",
      "<td class=\"prev blackFont event-490992-previous\" id=\"eventPrevious_490992\"><span title=\"\">-1.9%</span></td>\n"
     ]
    }
   ],
   "source": [
    "t_time = str(target_news[0]).replace('<td class=\"first left time js-time\" title=\"\">','')\n",
    "t_time = t_time.replace(\"</td>\",'')\n",
    "\n",
    "t_time = t_time.split(\":\")\n",
    "print(t_time)\n",
    "t_hour = 0\n",
    "t_min = 0\n",
    "try:\n",
    "    t_hour = int(t_time[0])\n",
    "except:\n",
    "    print(\"Correcting time format\")\n",
    "    t_time[0] = t_time[0].replace(\"0\",'')\n",
    "    t_hour = int(t_time[0])\n",
    "try:\n",
    "    t_min = int(t_time[1])\n",
    "except:\n",
    "    print(\"Correcting time format\")\n",
    "    t_time[1] = t_time[1].replace(\"0\",'')\n",
    "    t_hour = int(t_time[0])\n",
    "print(\"currency time \",t_hour,\":\",t_min)\n",
    "\n",
    "# Get the current local time\n",
    "now = datetime.datetime.now()\n",
    "\n",
    "# Extract hour and minute\n",
    "hour = now.hour\n",
    "min = now.minute\n",
    "\n",
    "print(\"current time:\",hour,\":\",min)\n",
    "\n",
    "\n",
    "t_currency = str(target_news[1]).split(' ')\n",
    "t_currency = t_currency[-1].replace(\"</td>\",\"\")\n",
    "print(t_currency)\n",
    "for target in currency:\n",
    "    if target == t_currency:\n",
    "        print(\"currency is among target, please wait while i check for information on the currency\")\n",
    "        if hour == t_hour:\n",
    "            if min >= t_min:\n",
    "                print(\"The news market is active\")\n",
    "            else:\n",
    "                print(\"Please wait for just few minutes for the market actual value to be updated\")\n",
    "        else:\n",
    "            print(\"The news market is not active\")\n",
    "        break\n",
    "\n",
    "\n",
    "t_impact = str(target_news[2]).split(\"High Volatility Expected\")\n",
    "if len(t_impact) <= 1 : print(\"This news dooesn't have the impact i am looking for\") \n",
    "else: print(\"News with high impact detected for \", t_currency)\n",
    "\n",
    "t_actual = target_news[4]\n",
    "print(t_actual)\n",
    "t_forcast = target_news[5]\n",
    "print(t_forcast)\n",
    "t_prev = target_news[6]\n",
    "print(t_prev)\n"
   ]
  }
 ],
 "metadata": {
  "kernelspec": {
   "display_name": "Python 3",
   "language": "python",
   "name": "python3"
  },
  "language_info": {
   "codemirror_mode": {
    "name": "ipython",
    "version": 3
   },
   "file_extension": ".py",
   "mimetype": "text/x-python",
   "name": "python",
   "nbconvert_exporter": "python",
   "pygments_lexer": "ipython3",
   "version": "3.10.5"
  }
 },
 "nbformat": 4,
 "nbformat_minor": 2
}
