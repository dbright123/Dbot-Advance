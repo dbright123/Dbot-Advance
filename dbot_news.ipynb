{
 "cells": [
  {
   "cell_type": "code",
   "execution_count": 1,
   "metadata": {},
   "outputs": [],
   "source": [
    "import requests\n",
    "from bs4 import BeautifulSoup\n",
    "import datetime\n",
    "import time\n",
    "import webbrowser\n",
    "#from mt5linux import MetaTrader5"
   ]
  },
  {
   "cell_type": "code",
   "execution_count": 2,
   "metadata": {},
   "outputs": [],
   "source": [
    "def initialize():\n",
    "    url = f\"https://ng.investing.com/economic-calendar/\"\n",
    "    response = requests.get(url)\n",
    "    soup = BeautifulSoup(response.content, \"html.parser\")\n",
    "\n",
    "    news = soup.find(id=\"economicCalendarData\", class_=\"genTbl closedTbl ecoCalTbl persistArea js-economic-table\")\n",
    "    news = news.find(\"tbody\")\n",
    "    news = news.find_all(\"tr\",class_=\"js-event-item\")\n",
    "    return(news)\n",
    "\n"
   ]
  },
  {
   "cell_type": "code",
   "execution_count": 3,
   "metadata": {},
   "outputs": [],
   "source": [
    "try: \n",
    "    news = initialize()\n",
    "except Exception as e:\n",
    "    print(e)\n",
    "    webbrowser.open(\"https://ng.investing.com/economic-calendar/\")\n",
    "    print(\"please wait..., as i test website on browser\")\n",
    "    time.sleep(5)\n",
    "    news = initialize()\n"
   ]
  },
  {
   "cell_type": "code",
   "execution_count": 4,
   "metadata": {},
   "outputs": [
    {
     "name": "stdout",
     "output_type": "stream",
     "text": [
      "[<tr class=\"js-event-item\" data-event-datetime=\"2025/10/12 23:30:00\" event_attr_id=\"910\" id=\"eventRowId_533040\">\n",
      "<td class=\"first left time js-time\">23:30</td>\n",
      "<td class=\"left flagCur noWrap\"><span class=\"ceFlags New_Zealand\" data-img_key=\"New_Zealand\" title=\"New Zealand\"> </span> NZD</td>\n",
      "<td class=\"left textNum sentiment noWrap\" data-img_key=\"bull1\" title=\"Low Volatility Expected\"><i class=\"grayFullBullishIcon\"></i><i class=\"grayEmptyBullishIcon\"></i><i class=\"grayEmptyBullishIcon\"></i></td>\n",
      "<td class=\"left event\" title=\"Click to view more info on Performance of Services Index\"><a href=\"/economic-calendar/services-pmi-910\" target=\"_blank\">\n",
      "\t\t\t\t      Performance of Services Index  (Sep)</a>\n",
      "</td>\n",
      "<td class=\"bold act blackFont event-533040-actual\" id=\"eventActual_533040\" title=\"\"> </td>\n",
      "<td class=\"fore event-533040-forecast\" id=\"eventForecast_533040\"> </td>\n",
      "<td class=\"prev blackFont event-533040-previous\" id=\"eventPrevious_533040\"><span title=\"\">47.5</span></td>\n",
      "<td class=\"alert js-injected-user-alert-container\" data-event-id=\"910\" data-name=\"Performance of Services Index\" data-status-enabled=\"0\">\n",
      "<span class=\"js-plus-icon alertBellGrayPlus genToolTip oneliner\" data-reg_ep=\"add alert\" data-tooltip=\"Create Alert\" data-tooltip-alt=\"Alert is active\"></span>\n",
      "</td>\n",
      "</tr>, <tr class=\"js-event-item\" data-event-datetime=\"2025/10/12 23:45:00\" event_attr_id=\"1449\" id=\"eventRowId_532385\">\n",
      "<td class=\"first left time js-time\">23:45</td>\n",
      "<td class=\"left flagCur noWrap\"><span class=\"ceFlags New_Zealand\" data-img_key=\"New_Zealand\" title=\"New Zealand\"> </span> NZD</td>\n",
      "<td class=\"left textNum sentiment noWrap\" data-img_key=\"bull1\" title=\"Low Volatility Expected\"><i class=\"grayFullBullishIcon\"></i><i class=\"grayEmptyBullishIcon\"></i><i class=\"grayEmptyBullishIcon\"></i></td>\n",
      "<td class=\"left event\" title=\"Click to view more info on External Migration &amp; Visitors\"><a href=\"/economic-calendar/ext.-migration---visitors-1449\" target=\"_blank\">\n",
      "\t\t\t\t      External Migration &amp; Visitors  (Aug)</a>\n",
      "</td>\n",
      "<td class=\"bold act blackFont event-532385-actual\" id=\"eventActual_532385\" title=\"\"> </td>\n",
      "<td class=\"fore event-532385-forecast\" id=\"eventForecast_532385\"> </td>\n",
      "<td class=\"prev blackFont event-532385-previous\" id=\"eventPrevious_532385\"><span title=\"\">6.60%</span></td>\n",
      "<td class=\"alert js-injected-user-alert-container\" data-event-id=\"1449\" data-name=\"External Migration &amp; Visitors\" data-status-enabled=\"0\">\n",
      "<span class=\"js-plus-icon alertBellGrayPlus genToolTip oneliner\" data-reg_ep=\"add alert\" data-tooltip=\"Create Alert\" data-tooltip-alt=\"Alert is active\"></span>\n",
      "</td>\n",
      "</tr>, <tr class=\"js-event-item\" data-event-datetime=\"2025/10/12 23:45:00\" event_attr_id=\"1500\" id=\"eventRowId_532384\">\n",
      "<td class=\"first left time js-time\">23:45</td>\n",
      "<td class=\"left flagCur noWrap\"><span class=\"ceFlags New_Zealand\" data-img_key=\"New_Zealand\" title=\"New Zealand\"> </span> NZD</td>\n",
      "<td class=\"left textNum sentiment noWrap\" data-img_key=\"bull1\" title=\"Low Volatility Expected\"><i class=\"grayFullBullishIcon\"></i><i class=\"grayEmptyBullishIcon\"></i><i class=\"grayEmptyBullishIcon\"></i></td>\n",
      "<td class=\"left event\" title=\"Click to view more info on Permanent/Long-Term Migration\"><a href=\"/economic-calendar/permanent-long-term-migration-1500\" target=\"_blank\">\n",
      "\t\t\t\t      Permanent/Long-Term Migration  (Aug)</a>\n",
      "</td>\n",
      "<td class=\"bold act blackFont event-532384-actual\" id=\"eventActual_532384\" title=\"\"> </td>\n",
      "<td class=\"fore event-532384-forecast\" id=\"eventForecast_532384\"> </td>\n",
      "<td class=\"prev blackFont event-532384-previous\" id=\"eventPrevious_532384\"><span title=\"\">2,060</span></td>\n",
      "<td class=\"alert js-injected-user-alert-container\" data-event-id=\"1500\" data-name=\"Permanent/Long-Term Migration\" data-status-enabled=\"0\">\n",
      "<span class=\"js-plus-icon alertBellGrayPlus genToolTip oneliner\" data-reg_ep=\"add alert\" data-tooltip=\"Create Alert\" data-tooltip-alt=\"Alert is active\"></span>\n",
      "</td>\n",
      "</tr>]\n"
     ]
    }
   ],
   "source": [
    "print(news)"
   ]
  },
  {
   "cell_type": "code",
   "execution_count": 5,
   "metadata": {},
   "outputs": [
    {
     "name": "stdout",
     "output_type": "stream",
     "text": [
      "GMT +2:00\n",
      "2\n"
     ]
    }
   ],
   "source": [
    "url = f\"https://ng.investing.com/economic-calendar/\"\n",
    "response = requests.get(url)\n",
    "soup = BeautifulSoup(response.content, \"html.parser\")\n",
    "gmt = soup.find(id=\"timeZoneGmtOffsetFormatted\")\n",
    "gmt = str(gmt).replace('<span id=\"timeZoneGmtOffsetFormatted\">','')\n",
    "gmt = gmt.replace('</span>','')\n",
    "gmt = gmt.replace('(','')\n",
    "gmt = gmt.replace(')','')\n",
    "\n",
    "print(gmt)\n",
    "t = gmt.split(\" \")[1].replace('+',\"\").split(\":\")[0]\n",
    "t = int(t)\n",
    "print(t)"
   ]
  },
  {
   "cell_type": "code",
   "execution_count": 6,
   "metadata": {},
   "outputs": [],
   "source": [
    "currency = ['USD','EUR','JPY','GBP','NZD','AUD']\n",
    "impact_color = ['greenFont','redFont','blackFont']"
   ]
  },
  {
   "cell_type": "code",
   "execution_count": 8,
   "metadata": {},
   "outputs": [
    {
     "name": "stdout",
     "output_type": "stream",
     "text": [
      "3\n",
      "[<td class=\"first left time js-time\">23:45</td>, <td class=\"left flagCur noWrap\"><span class=\"ceFlags New_Zealand\" data-img_key=\"New_Zealand\" title=\"New Zealand\"> </span> NZD</td>, <td class=\"left textNum sentiment noWrap\" data-img_key=\"bull1\" title=\"Low Volatility Expected\"><i class=\"grayFullBullishIcon\"></i><i class=\"grayEmptyBullishIcon\"></i><i class=\"grayEmptyBullishIcon\"></i></td>, <td class=\"left event\" title=\"Click to view more info on External Migration &amp; Visitors\"><a href=\"/economic-calendar/ext.-migration---visitors-1449\" target=\"_blank\">\n",
      "\t\t\t\t      External Migration &amp; Visitors  (Aug)</a>\n",
      "</td>, <td class=\"bold act blackFont event-532385-actual\" id=\"eventActual_532385\" title=\"\"> </td>, <td class=\"fore event-532385-forecast\" id=\"eventForecast_532385\"> </td>, <td class=\"prev blackFont event-532385-previous\" id=\"eventPrevious_532385\"><span title=\"\">6.60%</span></td>, <td class=\"alert js-injected-user-alert-container\" data-event-id=\"1449\" data-name=\"External Migration &amp; Visitors\" data-status-enabled=\"0\">\n",
      "<span class=\"js-plus-icon alertBellGrayPlus genToolTip oneliner\" data-reg_ep=\"add alert\" data-tooltip=\"Create Alert\" data-tooltip-alt=\"Alert is active\"></span>\n",
      "</td>]\n"
     ]
    }
   ],
   "source": [
    "n = 1\n",
    "print(len(news))\n",
    "target_news = news[n].find_all(\"td\")\n",
    "print(target_news)"
   ]
  },
  {
   "cell_type": "code",
   "execution_count": 9,
   "metadata": {},
   "outputs": [
    {
     "name": "stdout",
     "output_type": "stream",
     "text": [
      "['<td class=\"first left time js-time\">23', '45']\n",
      "Correcting time format\n"
     ]
    },
    {
     "ename": "ValueError",
     "evalue": "invalid literal for int() with base 10: '<td class=\"first left time js-time\">23'",
     "output_type": "error",
     "traceback": [
      "\u001b[1;31m---------------------------------------------------------------------------\u001b[0m",
      "\u001b[1;31mValueError\u001b[0m                                Traceback (most recent call last)",
      "Cell \u001b[1;32mIn[9], line 9\u001b[0m\n\u001b[0;32m      8\u001b[0m \u001b[38;5;28;01mtry\u001b[39;00m:\n\u001b[1;32m----> 9\u001b[0m     t_hour \u001b[38;5;241m=\u001b[39m \u001b[38;5;28;43mint\u001b[39;49m\u001b[43m(\u001b[49m\u001b[43mt_time\u001b[49m\u001b[43m[\u001b[49m\u001b[38;5;241;43m0\u001b[39;49m\u001b[43m]\u001b[49m\u001b[43m)\u001b[49m\n\u001b[0;32m     10\u001b[0m \u001b[38;5;28;01mexcept\u001b[39;00m:\n",
      "\u001b[1;31mValueError\u001b[0m: invalid literal for int() with base 10: '<td class=\"first left time js-time\">23'",
      "\nDuring handling of the above exception, another exception occurred:\n",
      "\u001b[1;31mValueError\u001b[0m                                Traceback (most recent call last)",
      "Cell \u001b[1;32mIn[9], line 13\u001b[0m\n\u001b[0;32m     11\u001b[0m     \u001b[38;5;28mprint\u001b[39m(\u001b[38;5;124m\"\u001b[39m\u001b[38;5;124mCorrecting time format\u001b[39m\u001b[38;5;124m\"\u001b[39m)\n\u001b[0;32m     12\u001b[0m     t_time[\u001b[38;5;241m0\u001b[39m] \u001b[38;5;241m=\u001b[39m t_time[\u001b[38;5;241m0\u001b[39m]\u001b[38;5;241m.\u001b[39mreplace(\u001b[38;5;124m\"\u001b[39m\u001b[38;5;124m0\u001b[39m\u001b[38;5;124m\"\u001b[39m,\u001b[38;5;124m'\u001b[39m\u001b[38;5;124m'\u001b[39m)\n\u001b[1;32m---> 13\u001b[0m     t_hour \u001b[38;5;241m=\u001b[39m \u001b[38;5;28;43mint\u001b[39;49m\u001b[43m(\u001b[49m\u001b[43mt_time\u001b[49m\u001b[43m[\u001b[49m\u001b[38;5;241;43m0\u001b[39;49m\u001b[43m]\u001b[49m\u001b[43m)\u001b[49m\n\u001b[0;32m     14\u001b[0m \u001b[38;5;28;01mtry\u001b[39;00m:\n\u001b[0;32m     15\u001b[0m     t_min \u001b[38;5;241m=\u001b[39m \u001b[38;5;28mint\u001b[39m(t_time[\u001b[38;5;241m1\u001b[39m])\n",
      "\u001b[1;31mValueError\u001b[0m: invalid literal for int() with base 10: '<td class=\"first left time js-time\">23'"
     ]
    }
   ],
   "source": [
    "t_time = str(target_news[0]).replace('<td class=\"first left time js-time\" title=\"\">','')\n",
    "t_time = t_time.replace(\"</td>\",'')\n",
    "\n",
    "t_time = t_time.split(\":\")\n",
    "print(t_time)\n",
    "t_hour = 0\n",
    "t_min = 0\n",
    "try:\n",
    "    t_hour = int(t_time[0])\n",
    "except:\n",
    "    print(\"Correcting time format\")\n",
    "    t_time[0] = t_time[0].replace(\"0\",'')\n",
    "    t_hour = int(t_time[0])\n",
    "try:\n",
    "    t_min = int(t_time[1])\n",
    "except:\n",
    "    print(\"Correcting time format\")\n",
    "    t_time[1] = t_time[1].replace(\"0\",'')\n",
    "    t_hour = int(t_time[0])\n",
    "print(\"currency time \",t_hour,\":\",t_min)\n",
    "\n",
    "# Get the current local time\n",
    "now = datetime.datetime.now()\n",
    "\n",
    "# Extract hour and minute\n",
    "hour = now.hour\n",
    "min = now.minute\n",
    "\n",
    "print(\"current time:\",hour,\":\",min)\n",
    "\n",
    "if t_hour == hour:\n",
    "    print(\"Please wait ..., all trade is waiting for entry\")\n",
    "    \n",
    "    if t_min == min:\n",
    "        print(\"Action taken place now \")\n",
    "else:\n",
    "    print(\"Please wait ...\")\n",
    "\n",
    "t_currency = str(target_news[1]).split(' ')\n",
    "t_currency = t_currency[-1].replace(\"</td>\",\"\")\n",
    "print(t_currency)\n",
    "for target in currency:\n",
    "    if target == t_currency:\n",
    "        print(\"currency is among target, please wait while i check for information on the currency\")\n",
    "        if hour == t_hour:\n",
    "            if min >= t_min:\n",
    "                print(\"The news market is active\")\n",
    "            else:\n",
    "                print(\"Please wait for just few minutes for the market actual value to be updated\")\n",
    "        else:\n",
    "            print(\"The news market is not active\")\n",
    "        break\n",
    "\n",
    "\n",
    "t_impact = str(target_news[2]).split(\"High Volatility Expected\")\n",
    "if len(t_impact) <= 1 : print(\"This news dooesn't have the impact i am looking for\") \n",
    "else: print(\"News with high impact detected for \", t_currency)\n",
    "\n",
    "for i in range(len(impact_color)):\n",
    "    t_actual = str(target_news[4]).split(impact_color[i])\n",
    "    if len(t_actual) <= 1 : \n",
    "        print(\"The news is still neutral at the moment\") \n",
    "    else:\n",
    "        if i == 0:\n",
    "            print(t_currency, \" is very strong and can be used for quick trading\")\n",
    "            break\n",
    "        elif i == 1:\n",
    "            print(t_currency, \" is very weak and can be used for quick trading\")\n",
    "            break\n",
    "        else:\n",
    "            print(t_currency,\" is neutral, no point trading with it\")\n",
    "            break\n",
    "        \n",
    "\n"
   ]
  },
  {
   "cell_type": "code",
   "execution_count": 59,
   "metadata": {},
   "outputs": [
    {
     "name": "stdout",
     "output_type": "stream",
     "text": [
      "['BTC', 'T']\n"
     ]
    }
   ],
   "source": [
    "#coding from the angle of MT5\n",
    "market = \"BTCUSDT\"\n",
    "print(market.split(\"USD\"))"
   ]
  },
  {
   "cell_type": "code",
   "execution_count": 2,
   "metadata": {},
   "outputs": [
    {
     "name": "stdout",
     "output_type": "stream",
     "text": [
      "current time: 14 : 35\n"
     ]
    }
   ],
   "source": [
    "now = datetime.datetime.now()\n",
    "\n",
    "# Extract hour and minute\n",
    "hour = now.hour\n",
    "min = now.minute\n",
    "\n",
    "print(\"current time:\",hour,\":\",min)"
   ]
  },
  {
   "cell_type": "code",
   "execution_count": 7,
   "metadata": {},
   "outputs": [
    {
     "name": "stdout",
     "output_type": "stream",
     "text": [
      "['14 mins']\n"
     ]
    }
   ],
   "source": [
    "t_time = \"14 mins\"\n",
    "d_time = t_time.split(\":\")\n",
    "print(d_time)"
   ]
  },
  {
   "cell_type": "code",
   "execution_count": 8,
   "metadata": {},
   "outputs": [
    {
     "name": "stdout",
     "output_type": "stream",
     "text": [
      "01\n"
     ]
    }
   ],
   "source": [
    "m = 1\n",
    "t = \"0\"+str(1)\n",
    "print(t)"
   ]
  },
  {
   "cell_type": "code",
   "execution_count": null,
   "metadata": {},
   "outputs": [],
   "source": []
  }
 ],
 "metadata": {
  "kernelspec": {
   "display_name": "Python 3",
   "language": "python",
   "name": "python3"
  },
  "language_info": {
   "codemirror_mode": {
    "name": "ipython",
    "version": 3
   },
   "file_extension": ".py",
   "mimetype": "text/x-python",
   "name": "python",
   "nbconvert_exporter": "python",
   "pygments_lexer": "ipython3",
   "version": "3.10.13"
  }
 },
 "nbformat": 4,
 "nbformat_minor": 2
}
