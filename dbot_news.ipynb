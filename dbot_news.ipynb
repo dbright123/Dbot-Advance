{
 "cells": [
  {
   "cell_type": "code",
   "execution_count": 1,
   "metadata": {},
   "outputs": [],
   "source": [
    "import requests\n",
    "from bs4 import BeautifulSoup\n",
    "import datetime\n",
    "import time\n",
    "import webbrowser"
   ]
  },
  {
   "cell_type": "code",
   "execution_count": 29,
   "metadata": {},
   "outputs": [],
   "source": [
    "def initialize():\n",
    "    url = f\"https://ng.investing.com/economic-calendar/\"\n",
    "    response = requests.get(url)\n",
    "    soup = BeautifulSoup(response.content, \"html.parser\")\n",
    "\n",
    "    news = soup.find(id=\"economicCalendarData\", class_=\"genTbl closedTbl ecoCalTbl persistArea js-economic-table\")\n",
    "    news = news.find(\"tbody\")\n",
    "    news = news.find_all(\"tr\",class_=\"js-event-item\")\n",
    "    return(news)\n",
    "\n"
   ]
  },
  {
   "cell_type": "code",
   "execution_count": 30,
   "metadata": {},
   "outputs": [],
   "source": [
    "try: \n",
    "    news = initialize()\n",
    "except Exception as e:\n",
    "    print(e)\n",
    "    webbrowser.open(\"https://ng.investing.com/economic-calendar/\")\n",
    "    print(\"please wait..., as i test website on browser\")\n",
    "    time.sleep(5)\n",
    "    news = initialize()\n"
   ]
  },
  {
   "cell_type": "code",
   "execution_count": 31,
   "metadata": {},
   "outputs": [],
   "source": [
    "currency = ['USD','EUR','JPY','GBP','NZD','AUD']\n",
    "impact_color = ['greenFont','redFont','blackFont']"
   ]
  },
  {
   "cell_type": "code",
   "execution_count": 55,
   "metadata": {},
   "outputs": [
    {
     "name": "stdout",
     "output_type": "stream",
     "text": [
      "51\n",
      "[<td class=\"first left time js-time\" title=\"\">14:55</td>, <td class=\"left flagCur noWrap\"><span class=\"ceFlags France\" data-img_key=\"France\" title=\"France\"> </span> EUR</td>, <td class=\"left textNum sentiment noWrap\" data-img_key=\"bull1\" title=\"Low Volatility Expected\"><i class=\"grayFullBullishIcon\"></i><i class=\"grayEmptyBullishIcon\"></i><i class=\"grayEmptyBullishIcon\"></i></td>, <td class=\"left event\" title=\"Click to view more info on French 6-Month BTF Auction\"><a href=\"/economic-calendar/french-6-month-btf-auction-684\" target=\"_blank\">\n",
      "French 6-Month BTF Auction </a>\n",
      "</td>, <td class=\"bold act blackFont event-490739-actual\" id=\"eventActual_490739\" title=\"\">3.697%</td>, <td class=\"fore event-490739-forecast\" id=\"eventForecast_490739\"> </td>, <td class=\"prev blackFont event-490739-previous\" id=\"eventPrevious_490739\"><span title=\"\">3.766%</span></td>, <td class=\"alert js-injected-user-alert-container\" data-event-id=\"684\" data-name=\"French 6-Month BTF Auction\" data-status-enabled=\"0\">\n",
      "<span class=\"js-plus-icon alertBellGrayPlus genToolTip oneliner\" data-reg_ep=\"add alert\" data-tooltip=\"Create Alert\" data-tooltip-alt=\"Alert is active\"></span>\n",
      "</td>]\n"
     ]
    }
   ],
   "source": [
    "n = -6\n",
    "print(len(news))\n",
    "target_news = news[n].find_all(\"td\")\n",
    "print(target_news)"
   ]
  },
  {
   "cell_type": "code",
   "execution_count": 60,
   "metadata": {},
   "outputs": [
    {
     "name": "stdout",
     "output_type": "stream",
     "text": [
      "['14', '55']\n",
      "currency time  14 : 55\n",
      "current time: 21 : 58\n",
      "Please wait ...\n",
      "EUR\n",
      "currency is among target, please wait while i check for information on the currency\n",
      "The news market is not active\n",
      "This news dooesn't have the impact i am looking for\n",
      "The news is still neutral at the moment\n",
      "The news is still neutral at the moment\n",
      "EUR  is neutral, no point trading with it\n"
     ]
    }
   ],
   "source": [
    "t_time = str(target_news[0]).replace('<td class=\"first left time js-time\" title=\"\">','')\n",
    "t_time = t_time.replace(\"</td>\",'')\n",
    "\n",
    "t_time = t_time.split(\":\")\n",
    "print(t_time)\n",
    "t_hour = 0\n",
    "t_min = 0\n",
    "try:\n",
    "    t_hour = int(t_time[0])\n",
    "except:\n",
    "    print(\"Correcting time format\")\n",
    "    t_time[0] = t_time[0].replace(\"0\",'')\n",
    "    t_hour = int(t_time[0])\n",
    "try:\n",
    "    t_min = int(t_time[1])\n",
    "except:\n",
    "    print(\"Correcting time format\")\n",
    "    t_time[1] = t_time[1].replace(\"0\",'')\n",
    "    t_hour = int(t_time[0])\n",
    "print(\"currency time \",t_hour,\":\",t_min)\n",
    "\n",
    "# Get the current local time\n",
    "now = datetime.datetime.now()\n",
    "\n",
    "# Extract hour and minute\n",
    "hour = now.hour\n",
    "min = now.minute\n",
    "\n",
    "print(\"current time:\",hour,\":\",min)\n",
    "\n",
    "if t_hour == hour:\n",
    "    print(\"Please wait ..., all trade is waiting for entry\")\n",
    "    \n",
    "    if t_min == min:\n",
    "        print(\"Action taken place now \")\n",
    "else:\n",
    "    print(\"Please wait ...\")\n",
    "\n",
    "t_currency = str(target_news[1]).split(' ')\n",
    "t_currency = t_currency[-1].replace(\"</td>\",\"\")\n",
    "print(t_currency)\n",
    "for target in currency:\n",
    "    if target == t_currency:\n",
    "        print(\"currency is among target, please wait while i check for information on the currency\")\n",
    "        if hour == t_hour:\n",
    "            if min >= t_min:\n",
    "                print(\"The news market is active\")\n",
    "            else:\n",
    "                print(\"Please wait for just few minutes for the market actual value to be updated\")\n",
    "        else:\n",
    "            print(\"The news market is not active\")\n",
    "        break\n",
    "\n",
    "\n",
    "t_impact = str(target_news[2]).split(\"High Volatility Expected\")\n",
    "if len(t_impact) <= 1 : print(\"This news dooesn't have the impact i am looking for\") \n",
    "else: print(\"News with high impact detected for \", t_currency)\n",
    "\n",
    "for i in range(len(impact_color)):\n",
    "    t_actual = str(target_news[4]).split(impact_color[i])\n",
    "    if len(t_actual) <= 1 : \n",
    "        print(\"The news is still neutral at the moment\") \n",
    "    else:\n",
    "        if i == 0:\n",
    "            print(t_currency, \" is very strong and can be used for quick trading\")\n",
    "            break\n",
    "        elif i == 1:\n",
    "            print(t_currency, \" is very weak and can be used for quick trading\")\n",
    "            break\n",
    "        else:\n",
    "            print(t_currency,\" is neutral, no point trading with it\")\n",
    "            break\n",
    "        \n",
    "\n"
   ]
  },
  {
   "cell_type": "code",
   "execution_count": 59,
   "metadata": {},
   "outputs": [
    {
     "name": "stdout",
     "output_type": "stream",
     "text": [
      "['BTC', 'T']\n"
     ]
    }
   ],
   "source": [
    "#coding from the angle of MT5\n",
    "market = \"BTCUSDT\"\n",
    "print(market.split(\"USD\"))"
   ]
  },
  {
   "cell_type": "code",
   "execution_count": 2,
   "metadata": {},
   "outputs": [
    {
     "name": "stdout",
     "output_type": "stream",
     "text": [
      "current time: 14 : 35\n"
     ]
    }
   ],
   "source": [
    "now = datetime.datetime.now()\n",
    "\n",
    "# Extract hour and minute\n",
    "hour = now.hour\n",
    "min = now.minute\n",
    "\n",
    "print(\"current time:\",hour,\":\",min)"
   ]
  },
  {
   "cell_type": "code",
   "execution_count": 7,
   "metadata": {},
   "outputs": [
    {
     "name": "stdout",
     "output_type": "stream",
     "text": [
      "['14 mins']\n"
     ]
    }
   ],
   "source": [
    "t_time = \"14 mins\"\n",
    "d_time = t_time.split(\":\")\n",
    "print(d_time)"
   ]
  },
  {
   "cell_type": "code",
   "execution_count": 8,
   "metadata": {},
   "outputs": [
    {
     "name": "stdout",
     "output_type": "stream",
     "text": [
      "01\n"
     ]
    }
   ],
   "source": [
    "m = 1\n",
    "t = \"0\"+str(1)\n",
    "print(t)"
   ]
  }
 ],
 "metadata": {
  "kernelspec": {
   "display_name": "Python 3",
   "language": "python",
   "name": "python3"
  },
  "language_info": {
   "codemirror_mode": {
    "name": "ipython",
    "version": 3
   },
   "file_extension": ".py",
   "mimetype": "text/x-python",
   "name": "python",
   "nbconvert_exporter": "python",
   "pygments_lexer": "ipython3",
   "version": "3.10.5"
  }
 },
 "nbformat": 4,
 "nbformat_minor": 2
}
