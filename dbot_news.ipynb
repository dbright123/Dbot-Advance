{
 "cells": [
  {
   "cell_type": "code",
   "execution_count": 56,
   "metadata": {},
   "outputs": [],
   "source": [
    "import requests\n",
    "from bs4 import BeautifulSoup\n",
    "import datetime"
   ]
  },
  {
   "cell_type": "code",
   "execution_count": 57,
   "metadata": {},
   "outputs": [],
   "source": [
    "url = f\"https://ng.investing.com/economic-calendar/\"\n",
    "response = requests.get(url)\n",
    "soup = BeautifulSoup(response.content, \"html.parser\")\n",
    "\n",
    "news = soup.find(id=\"economicCalendarData\", class_=\"genTbl closedTbl ecoCalTbl persistArea js-economic-table\")\n",
    "news = news.find(\"tbody\")\n",
    "news = news.find_all(\"tr\",class_=\"js-event-item\")\n",
    "\n"
   ]
  },
  {
   "cell_type": "code",
   "execution_count": 58,
   "metadata": {},
   "outputs": [],
   "source": [
    "currency = ['USD','EUR','JPY','GBP','NZD','AUD']"
   ]
  },
  {
   "cell_type": "code",
   "execution_count": 86,
   "metadata": {},
   "outputs": [],
   "source": [
    "n = 35"
   ]
  },
  {
   "cell_type": "code",
   "execution_count": 87,
   "metadata": {},
   "outputs": [
    {
     "name": "stdout",
     "output_type": "stream",
     "text": [
      "<tr class=\"js-event-item\" data-event-datetime=\"2024/01/11 14:30:00\" event_attr_id=\"56\" id=\"eventRowId_489435\">\n",
      "<td class=\"first left time js-time\" title=\"\">14:30</td>\n",
      "<td class=\"left flagCur noWrap\"><span class=\"ceFlags United_States\" data-img_key=\"United_States\" title=\"United States\"> </span> USD</td>\n",
      "<td class=\"left textNum sentiment noWrap\" data-img_key=\"bull3\" title=\"High Volatility Expected\"><i class=\"grayFullBullishIcon\"></i><i class=\"grayFullBullishIcon\"></i><i class=\"grayFullBullishIcon\"></i></td>\n",
      "<td class=\"left event\" title=\"Click to view more info on Core CPI\"><a href=\"/economic-calendar/core-cpi-56\" target=\"_blank\">\n",
      "Core CPI (MoM) (Dec)</a>\n",
      "</td>\n",
      "<td class=\"bold act blackFont event-489435-actual\" id=\"eventActual_489435\" title=\"\"> </td>\n",
      "<td class=\"fore event-489435-forecast\" id=\"eventForecast_489435\">0.3%</td>\n",
      "<td class=\"prev blackFont event-489435-previous\" id=\"eventPrevious_489435\"><span title=\"\">0.3%</span></td>\n",
      "<td class=\"alert js-injected-user-alert-container\" data-event-id=\"56\" data-name=\"Core CPI\" data-status-enabled=\"0\">\n",
      "<span class=\"js-plus-icon alertBellGrayPlus genToolTip oneliner\" data-reg_ep=\"add alert\" data-tooltip=\"Create Alert\" data-tooltip-alt=\"Alert is active\"></span>\n",
      "</td>\n",
      "</tr>\n",
      "57\n"
     ]
    }
   ],
   "source": [
    "print(news[n])\n",
    "print(len(news))"
   ]
  },
  {
   "cell_type": "code",
   "execution_count": 88,
   "metadata": {},
   "outputs": [
    {
     "name": "stdout",
     "output_type": "stream",
     "text": [
      "[<td class=\"first left time js-time\" title=\"\">14:30</td>, <td class=\"left flagCur noWrap\"><span class=\"ceFlags United_States\" data-img_key=\"United_States\" title=\"United States\"> </span> USD</td>, <td class=\"left textNum sentiment noWrap\" data-img_key=\"bull3\" title=\"High Volatility Expected\"><i class=\"grayFullBullishIcon\"></i><i class=\"grayFullBullishIcon\"></i><i class=\"grayFullBullishIcon\"></i></td>, <td class=\"left event\" title=\"Click to view more info on Core CPI\"><a href=\"/economic-calendar/core-cpi-56\" target=\"_blank\">\n",
      "Core CPI (MoM) (Dec)</a>\n",
      "</td>, <td class=\"bold act blackFont event-489435-actual\" id=\"eventActual_489435\" title=\"\"> </td>, <td class=\"fore event-489435-forecast\" id=\"eventForecast_489435\">0.3%</td>, <td class=\"prev blackFont event-489435-previous\" id=\"eventPrevious_489435\"><span title=\"\">0.3%</span></td>, <td class=\"alert js-injected-user-alert-container\" data-event-id=\"56\" data-name=\"Core CPI\" data-status-enabled=\"0\">\n",
      "<span class=\"js-plus-icon alertBellGrayPlus genToolTip oneliner\" data-reg_ep=\"add alert\" data-tooltip=\"Create Alert\" data-tooltip-alt=\"Alert is active\"></span>\n",
      "</td>]\n"
     ]
    }
   ],
   "source": [
    "target_news = news[n].find_all(\"td\")\n",
    "print(target_news)"
   ]
  },
  {
   "cell_type": "code",
   "execution_count": 92,
   "metadata": {},
   "outputs": [
    {
     "name": "stdout",
     "output_type": "stream",
     "text": [
      "14:30\n",
      "USD\n",
      "currency is among target, please wait while i check for information on the currency\n",
      "News with high impact detected for  USD\n",
      "['<td class=\"left textNum sentiment noWrap\" data-img_key=\"bull3\" title=\"', '\"><i class=\"grayFullBullishIcon\"></i><i class=\"grayFullBullishIcon\"></i><i class=\"grayFullBullishIcon\"></i></td>']\n"
     ]
    }
   ],
   "source": [
    "t_time = str(target_news[0]).replace('<td class=\"first left time js-time\" title=\"\">','')\n",
    "t_time = t_time.replace(\"</td>\",'')\n",
    "print(t_time)\n",
    "\n",
    "t_currency = str(target_news[1]).split(' ')\n",
    "t_currency = t_currency[-1].replace(\"</td>\",\"\")\n",
    "print(t_currency)\n",
    "for target in currency:\n",
    "    if target == t_currency:\n",
    "        print(\"currency is among target, please wait while i check for information on the currency\")\n",
    "        break\n",
    "\n",
    "\n",
    "t_impact = str(target_news[2]).split(\"High Volatility Expected\")\n",
    "if len(t_impact) <= 1 : print(\"This news dooesn't have the impact i am looking for\") \n",
    "else: print(\"News with high impact detected for \", t_currency)\n",
    "\n",
    "\n"
   ]
  }
 ],
 "metadata": {
  "kernelspec": {
   "display_name": "Python 3",
   "language": "python",
   "name": "python3"
  },
  "language_info": {
   "codemirror_mode": {
    "name": "ipython",
    "version": 3
   },
   "file_extension": ".py",
   "mimetype": "text/x-python",
   "name": "python",
   "nbconvert_exporter": "python",
   "pygments_lexer": "ipython3",
   "version": "3.10.5"
  }
 },
 "nbformat": 4,
 "nbformat_minor": 2
}
