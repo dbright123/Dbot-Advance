{
 "cells": [
  {
   "cell_type": "code",
   "execution_count": 114,
   "metadata": {},
   "outputs": [],
   "source": [
    "import requests\n",
    "from bs4 import BeautifulSoup\n",
    "import datetime"
   ]
  },
  {
   "cell_type": "code",
   "execution_count": 115,
   "metadata": {},
   "outputs": [],
   "source": [
    "url = f\"https://ng.investing.com/economic-calendar/\"\n",
    "response = requests.get(url)\n",
    "soup = BeautifulSoup(response.content, \"html.parser\")\n",
    "\n",
    "news = soup.find(id=\"economicCalendarData\", class_=\"genTbl closedTbl ecoCalTbl persistArea js-economic-table\")\n",
    "news = news.find(\"tbody\")\n",
    "news = news.find_all(\"tr\",class_=\"js-event-item\")\n",
    "\n"
   ]
  },
  {
   "cell_type": "code",
   "execution_count": 116,
   "metadata": {},
   "outputs": [],
   "source": [
    "currency = ['USD','EUR','JPY','GBP','NZD','AUD']\n",
    "impact_color = ['greenFont','blackFont','redFont']"
   ]
  },
  {
   "cell_type": "code",
   "execution_count": 117,
   "metadata": {},
   "outputs": [
    {
     "name": "stdout",
     "output_type": "stream",
     "text": [
      "96\n",
      "[<td class=\"first left time js-time\" title=\"\">00:50</td>, <td class=\"left flagCur noWrap\"><span class=\"ceFlags Japan\" data-img_key=\"Japan\" title=\"Japan\"> </span> JPY</td>, <td class=\"left textNum sentiment noWrap\" data-img_key=\"bull2\" title=\"Moderate Volatility Expected\"><i class=\"grayFullBullishIcon\"></i><i class=\"grayFullBullishIcon\"></i><i class=\"grayEmptyBullishIcon\"></i></td>, <td class=\"left event\" title=\"Click to view more info on Current Account n.s.a.\"><a href=\"/economic-calendar/current-account-nsa-994\" target=\"_blank\">\n",
      "Current Account n.s.a. (Nov)</a>\n",
      "</td>, <td class=\"bold act redFont event-489492-actual\" id=\"eventActual_489492\" title=\"Worse Than Expected\">1.926T</td>, <td class=\"fore event-489492-forecast\" id=\"eventForecast_489492\">2.385T</td>, <td class=\"prev blackFont event-489492-previous\" id=\"eventPrevious_489492\"><span title=\"\">2.583T</span></td>, <td class=\"alert js-injected-user-alert-container\" data-event-id=\"994\" data-name=\"Current Account n.s.a.\" data-status-enabled=\"0\">\n",
      "<span class=\"js-plus-icon alertBellGrayPlus genToolTip oneliner\" data-reg_ep=\"add alert\" data-tooltip=\"Create Alert\" data-tooltip-alt=\"Alert is active\"></span>\n",
      "</td>]\n"
     ]
    }
   ],
   "source": [
    "n = 2\n",
    "print(len(news))\n",
    "target_news = news[n].find_all(\"td\")\n",
    "print(target_news)"
   ]
  },
  {
   "cell_type": "code",
   "execution_count": 1,
   "metadata": {},
   "outputs": [
    {
     "ename": "NameError",
     "evalue": "name 'target_news' is not defined",
     "output_type": "error",
     "traceback": [
      "\u001b[0;31m---------------------------------------------------------------------------\u001b[0m",
      "\u001b[0;31mNameError\u001b[0m                                 Traceback (most recent call last)",
      "Cell \u001b[0;32mIn[1], line 1\u001b[0m\n\u001b[0;32m----> 1\u001b[0m t_time \u001b[38;5;241m=\u001b[39m \u001b[38;5;28mstr\u001b[39m(\u001b[43mtarget_news\u001b[49m[\u001b[38;5;241m0\u001b[39m])\u001b[38;5;241m.\u001b[39mreplace(\u001b[38;5;124m'\u001b[39m\u001b[38;5;124m<td class=\u001b[39m\u001b[38;5;124m\"\u001b[39m\u001b[38;5;124mfirst left time js-time\u001b[39m\u001b[38;5;124m\"\u001b[39m\u001b[38;5;124m title=\u001b[39m\u001b[38;5;124m\"\u001b[39m\u001b[38;5;124m\"\u001b[39m\u001b[38;5;124m>\u001b[39m\u001b[38;5;124m'\u001b[39m,\u001b[38;5;124m'\u001b[39m\u001b[38;5;124m'\u001b[39m)\n\u001b[1;32m      2\u001b[0m t_time \u001b[38;5;241m=\u001b[39m t_time\u001b[38;5;241m.\u001b[39mreplace(\u001b[38;5;124m\"\u001b[39m\u001b[38;5;124m</td>\u001b[39m\u001b[38;5;124m\"\u001b[39m,\u001b[38;5;124m'\u001b[39m\u001b[38;5;124m'\u001b[39m)\n\u001b[1;32m      4\u001b[0m t_time \u001b[38;5;241m=\u001b[39m t_time\u001b[38;5;241m.\u001b[39msplit(\u001b[38;5;124m\"\u001b[39m\u001b[38;5;124m:\u001b[39m\u001b[38;5;124m\"\u001b[39m)\n",
      "\u001b[0;31mNameError\u001b[0m: name 'target_news' is not defined"
     ]
    }
   ],
   "source": [
    "t_time = str(target_news[0]).replace('<td class=\"first left time js-time\" title=\"\">','')\n",
    "t_time = t_time.replace(\"</td>\",'')\n",
    "\n",
    "t_time = t_time.split(\":\")\n",
    "\n",
    "t_hour = int(t_time[0])\n",
    "t_min = int(t_time[1])\n",
    "print(\"currency time \",t_hour,\":\",t_min)\n",
    "\n",
    "# Get the current local time\n",
    "now = datetime.datetime.now()\n",
    "\n",
    "# Extract hour and minute\n",
    "hour = now.hour\n",
    "min = now.minute\n",
    "\n",
    "print(\"current time:\",hour,\":\",min)\n",
    "\n",
    "\n",
    "t_currency = str(target_news[1]).split(' ')\n",
    "t_currency = t_currency[-1].replace(\"</td>\",\"\")\n",
    "print(t_currency)\n",
    "for target in currency:\n",
    "    if target == t_currency:\n",
    "        print(\"currency is among target, please wait while i check for information on the currency\")\n",
    "        if hour == t_hour:\n",
    "            if min >= t_min:\n",
    "                print(\"The news market is active\")\n",
    "            else:\n",
    "                print(\"Please wait for just few minutes for the market actual value to be updated\")\n",
    "        else:\n",
    "            print(\"The news market is not active\")\n",
    "        break\n",
    "\n",
    "\n",
    "t_impact = str(target_news[2]).split(\"High Volatility Expected\")\n",
    "if len(t_impact) <= 1 : print(\"This news dooesn't have the impact i am looking for\") \n",
    "else: print(\"News with high impact detected for \", t_currency)\n",
    "\n",
    "t_actual = target_news[4]\n",
    "print(t_actual)\n",
    "t_forcast = target_news[5]\n",
    "print(t_forcast)\n",
    "t_prev = target_news[6]\n",
    "print(t_prev)\n"
   ]
  }
 ],
 "metadata": {
  "kernelspec": {
   "display_name": "Python 3",
   "language": "python",
   "name": "python3"
  },
  "language_info": {
   "codemirror_mode": {
    "name": "ipython",
    "version": 3
   },
   "file_extension": ".py",
   "mimetype": "text/x-python",
   "name": "python",
   "nbconvert_exporter": "python",
   "pygments_lexer": "ipython3",
   "version": "3.10.5"
  }
 },
 "nbformat": 4,
 "nbformat_minor": 2
}
