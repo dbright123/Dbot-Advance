{
  "cells": [
    {
      "cell_type": "code",
      "execution_count": 1,
      "metadata": {
        "id": "HefoY_Y6Si0h"
      },
      "outputs": [],
      "source": [
        "import numpy as np\n",
        "import pandas as pd\n",
        "\n",
        "from sklearn.ensemble import RandomForestRegressor\n",
        "\n",
        "from sklearn.preprocessing import StandardScaler"
      ]
    },
    {
      "cell_type": "code",
      "execution_count": 2,
      "metadata": {
        "id": "mXGahRJZrsOz"
      },
      "outputs": [],
      "source": [
        "n = 2\n",
        "target_market = [\"GBPUSD\",\"USDCAD\",\"XAUUSD\"]\n",
        "df = pd.read_csv(\"Generated\"+target_market[n] +\" dbot.csv\")\n"
      ]
    },
    {
      "cell_type": "code",
      "execution_count": 3,
      "metadata": {
        "colab": {
          "base_uri": "https://localhost:8080/"
        },
        "id": "j3MtYdgorxNO",
        "outputId": "fcbfbf5d-74e1-471a-b7d6-330288c90c1e"
      },
      "outputs": [
        {
          "name": "stdout",
          "output_type": "stream",
          "text": [
            "29592\n"
          ]
        }
      ],
      "source": [
        "print(len(df))"
      ]
    },
    {
      "cell_type": "code",
      "execution_count": 4,
      "metadata": {
        "colab": {
          "base_uri": "https://localhost:8080/",
          "height": 206
        },
        "id": "NH9L3QP6r2CJ",
        "outputId": "e16bd47c-7137-4454-e148-d1dc4c608be9"
      },
      "outputs": [
        {
          "data": {
            "text/html": [
              "<div>\n",
              "<style scoped>\n",
              "    .dataframe tbody tr th:only-of-type {\n",
              "        vertical-align: middle;\n",
              "    }\n",
              "\n",
              "    .dataframe tbody tr th {\n",
              "        vertical-align: top;\n",
              "    }\n",
              "\n",
              "    .dataframe thead th {\n",
              "        text-align: right;\n",
              "    }\n",
              "</style>\n",
              "<table border=\"1\" class=\"dataframe\">\n",
              "  <thead>\n",
              "    <tr style=\"text-align: right;\">\n",
              "      <th></th>\n",
              "      <th>Time</th>\n",
              "      <th>Open</th>\n",
              "      <th>Close</th>\n",
              "      <th>Tick Volume</th>\n",
              "    </tr>\n",
              "  </thead>\n",
              "  <tbody>\n",
              "    <tr>\n",
              "      <th>0</th>\n",
              "      <td>1086926400</td>\n",
              "      <td>384.0</td>\n",
              "      <td>383.8</td>\n",
              "      <td>47</td>\n",
              "    </tr>\n",
              "    <tr>\n",
              "      <th>1</th>\n",
              "      <td>1086940800</td>\n",
              "      <td>383.8</td>\n",
              "      <td>383.6</td>\n",
              "      <td>170</td>\n",
              "    </tr>\n",
              "    <tr>\n",
              "      <th>2</th>\n",
              "      <td>1086955200</td>\n",
              "      <td>383.5</td>\n",
              "      <td>384.6</td>\n",
              "      <td>57</td>\n",
              "    </tr>\n",
              "    <tr>\n",
              "      <th>3</th>\n",
              "      <td>1086969600</td>\n",
              "      <td>384.3</td>\n",
              "      <td>384.1</td>\n",
              "      <td>29</td>\n",
              "    </tr>\n",
              "    <tr>\n",
              "      <th>4</th>\n",
              "      <td>1087171200</td>\n",
              "      <td>384.3</td>\n",
              "      <td>382.6</td>\n",
              "      <td>135</td>\n",
              "    </tr>\n",
              "  </tbody>\n",
              "</table>\n",
              "</div>"
            ],
            "text/plain": [
              "         Time   Open  Close  Tick Volume\n",
              "0  1086926400  384.0  383.8           47\n",
              "1  1086940800  383.8  383.6          170\n",
              "2  1086955200  383.5  384.6           57\n",
              "3  1086969600  384.3  384.1           29\n",
              "4  1087171200  384.3  382.6          135"
            ]
          },
          "execution_count": 4,
          "metadata": {},
          "output_type": "execute_result"
        }
      ],
      "source": [
        "df.head()"
      ]
    },
    {
      "cell_type": "code",
      "execution_count": 5,
      "metadata": {
        "colab": {
          "base_uri": "https://localhost:8080/",
          "height": 206
        },
        "id": "hexQV5eCr64F",
        "outputId": "ad6b0f9c-f9b5-4770-efc2-e1cd17fb177f"
      },
      "outputs": [
        {
          "data": {
            "text/html": [
              "<div>\n",
              "<style scoped>\n",
              "    .dataframe tbody tr th:only-of-type {\n",
              "        vertical-align: middle;\n",
              "    }\n",
              "\n",
              "    .dataframe tbody tr th {\n",
              "        vertical-align: top;\n",
              "    }\n",
              "\n",
              "    .dataframe thead th {\n",
              "        text-align: right;\n",
              "    }\n",
              "</style>\n",
              "<table border=\"1\" class=\"dataframe\">\n",
              "  <thead>\n",
              "    <tr style=\"text-align: right;\">\n",
              "      <th></th>\n",
              "      <th>Time</th>\n",
              "      <th>Open</th>\n",
              "      <th>Tick Volume</th>\n",
              "      <th>Close</th>\n",
              "    </tr>\n",
              "  </thead>\n",
              "  <tbody>\n",
              "    <tr>\n",
              "      <th>29587</th>\n",
              "      <td>1697227200</td>\n",
              "      <td>1927.19</td>\n",
              "      <td>21549</td>\n",
              "      <td>1929.60</td>\n",
              "    </tr>\n",
              "    <tr>\n",
              "      <th>29588</th>\n",
              "      <td>1697414400</td>\n",
              "      <td>1927.12</td>\n",
              "      <td>12449</td>\n",
              "      <td>1921.70</td>\n",
              "    </tr>\n",
              "    <tr>\n",
              "      <th>29589</th>\n",
              "      <td>1697428800</td>\n",
              "      <td>1921.70</td>\n",
              "      <td>13683</td>\n",
              "      <td>1920.14</td>\n",
              "    </tr>\n",
              "    <tr>\n",
              "      <th>29590</th>\n",
              "      <td>1697443200</td>\n",
              "      <td>1920.16</td>\n",
              "      <td>32883</td>\n",
              "      <td>1911.63</td>\n",
              "    </tr>\n",
              "    <tr>\n",
              "      <th>29591</th>\n",
              "      <td>1697457600</td>\n",
              "      <td>1911.61</td>\n",
              "      <td>33853</td>\n",
              "      <td>1917.48</td>\n",
              "    </tr>\n",
              "  </tbody>\n",
              "</table>\n",
              "</div>"
            ],
            "text/plain": [
              "             Time     Open  Tick Volume    Close\n",
              "29587  1697227200  1927.19        21549  1929.60\n",
              "29588  1697414400  1927.12        12449  1921.70\n",
              "29589  1697428800  1921.70        13683  1920.14\n",
              "29590  1697443200  1920.16        32883  1911.63\n",
              "29591  1697457600  1911.61        33853  1917.48"
            ]
          },
          "execution_count": 5,
          "metadata": {},
          "output_type": "execute_result"
        }
      ],
      "source": [
        "# Change the position of the 'B' column\n",
        "df = df[['Time', 'Open', 'Tick Volume', 'Close']]\n",
        "df.tail()"
      ]
    },
    {
      "cell_type": "code",
      "execution_count": 6,
      "metadata": {
        "colab": {
          "base_uri": "https://localhost:8080/"
        },
        "id": "d5aOmpXAr82m",
        "outputId": "acbc13be-348f-401c-c4ec-26730c1101be"
      },
      "outputs": [
        {
          "name": "stdout",
          "output_type": "stream",
          "text": [
            "[[1.0869264e+09 3.8400000e+02 4.7000000e+01]\n",
            " [1.0869408e+09 3.8380000e+02 1.7000000e+02]\n",
            " [1.0869552e+09 3.8350000e+02 5.7000000e+01]\n",
            " ...\n",
            " [1.6974288e+09 1.9217000e+03 1.3683000e+04]\n",
            " [1.6974432e+09 1.9201600e+03 3.2883000e+04]\n",
            " [1.6974576e+09 1.9116100e+03 3.3853000e+04]]\n",
            "[ 383.8   383.6   384.6  ... 1920.14 1911.63 1917.48]\n"
          ]
        }
      ],
      "source": [
        "x = df.values\n",
        "y = x[:,-1]\n",
        "x = x[:,:3]\n",
        "\n",
        "print(x)\n",
        "print(y)"
      ]
    },
    {
      "cell_type": "code",
      "execution_count": 7,
      "metadata": {
        "colab": {
          "base_uri": "https://localhost:8080/"
        },
        "id": "jYO2Y3O_sDYQ",
        "outputId": "ea2b5a5b-0439-412a-9ae1-f6e6eda96eb9"
      },
      "outputs": [
        {
          "name": "stdout",
          "output_type": "stream",
          "text": [
            "(45, 3)\n"
          ]
        }
      ],
      "source": [
        "from sklearn.model_selection import train_test_split\n",
        "\n",
        "x_train, x_test, y_train, y_test = train_test_split(x, y, test_size=0.0015, random_state=0)\n",
        "sc_x = StandardScaler()\n",
        "sc_y = StandardScaler()\n",
        "\n",
        "x_train = sc_x.fit_transform(x_train)\n",
        "y_train = sc_y.fit_transform(y_train.reshape((len(y_train),1)))\n",
        "y_train = y_train.reshape(-1)\n",
        "\n",
        "x_test = sc_x.transform(x_test)\n",
        "\n",
        "print(x_test.shape)\n",
        "\n"
      ]
    },
    {
      "cell_type": "code",
      "execution_count": 8,
      "metadata": {
        "colab": {
          "base_uri": "https://localhost:8080/",
          "height": 75
        },
        "id": "_Np-6iin-l2v",
        "outputId": "4eb8e153-6b4e-4917-b47d-e570c96a2822"
      },
      "outputs": [
        {
          "data": {
            "text/html": [
              "<style>#sk-container-id-1 {color: black;}#sk-container-id-1 pre{padding: 0;}#sk-container-id-1 div.sk-toggleable {background-color: white;}#sk-container-id-1 label.sk-toggleable__label {cursor: pointer;display: block;width: 100%;margin-bottom: 0;padding: 0.3em;box-sizing: border-box;text-align: center;}#sk-container-id-1 label.sk-toggleable__label-arrow:before {content: \"▸\";float: left;margin-right: 0.25em;color: #696969;}#sk-container-id-1 label.sk-toggleable__label-arrow:hover:before {color: black;}#sk-container-id-1 div.sk-estimator:hover label.sk-toggleable__label-arrow:before {color: black;}#sk-container-id-1 div.sk-toggleable__content {max-height: 0;max-width: 0;overflow: hidden;text-align: left;background-color: #f0f8ff;}#sk-container-id-1 div.sk-toggleable__content pre {margin: 0.2em;color: black;border-radius: 0.25em;background-color: #f0f8ff;}#sk-container-id-1 input.sk-toggleable__control:checked~div.sk-toggleable__content {max-height: 200px;max-width: 100%;overflow: auto;}#sk-container-id-1 input.sk-toggleable__control:checked~label.sk-toggleable__label-arrow:before {content: \"▾\";}#sk-container-id-1 div.sk-estimator input.sk-toggleable__control:checked~label.sk-toggleable__label {background-color: #d4ebff;}#sk-container-id-1 div.sk-label input.sk-toggleable__control:checked~label.sk-toggleable__label {background-color: #d4ebff;}#sk-container-id-1 input.sk-hidden--visually {border: 0;clip: rect(1px 1px 1px 1px);clip: rect(1px, 1px, 1px, 1px);height: 1px;margin: -1px;overflow: hidden;padding: 0;position: absolute;width: 1px;}#sk-container-id-1 div.sk-estimator {font-family: monospace;background-color: #f0f8ff;border: 1px dotted black;border-radius: 0.25em;box-sizing: border-box;margin-bottom: 0.5em;}#sk-container-id-1 div.sk-estimator:hover {background-color: #d4ebff;}#sk-container-id-1 div.sk-parallel-item::after {content: \"\";width: 100%;border-bottom: 1px solid gray;flex-grow: 1;}#sk-container-id-1 div.sk-label:hover label.sk-toggleable__label {background-color: #d4ebff;}#sk-container-id-1 div.sk-serial::before {content: \"\";position: absolute;border-left: 1px solid gray;box-sizing: border-box;top: 0;bottom: 0;left: 50%;z-index: 0;}#sk-container-id-1 div.sk-serial {display: flex;flex-direction: column;align-items: center;background-color: white;padding-right: 0.2em;padding-left: 0.2em;position: relative;}#sk-container-id-1 div.sk-item {position: relative;z-index: 1;}#sk-container-id-1 div.sk-parallel {display: flex;align-items: stretch;justify-content: center;background-color: white;position: relative;}#sk-container-id-1 div.sk-item::before, #sk-container-id-1 div.sk-parallel-item::before {content: \"\";position: absolute;border-left: 1px solid gray;box-sizing: border-box;top: 0;bottom: 0;left: 50%;z-index: -1;}#sk-container-id-1 div.sk-parallel-item {display: flex;flex-direction: column;z-index: 1;position: relative;background-color: white;}#sk-container-id-1 div.sk-parallel-item:first-child::after {align-self: flex-end;width: 50%;}#sk-container-id-1 div.sk-parallel-item:last-child::after {align-self: flex-start;width: 50%;}#sk-container-id-1 div.sk-parallel-item:only-child::after {width: 0;}#sk-container-id-1 div.sk-dashed-wrapped {border: 1px dashed gray;margin: 0 0.4em 0.5em 0.4em;box-sizing: border-box;padding-bottom: 0.4em;background-color: white;}#sk-container-id-1 div.sk-label label {font-family: monospace;font-weight: bold;display: inline-block;line-height: 1.2em;}#sk-container-id-1 div.sk-label-container {text-align: center;}#sk-container-id-1 div.sk-container {/* jupyter's `normalize.less` sets `[hidden] { display: none; }` but bootstrap.min.css set `[hidden] { display: none !important; }` so we also need the `!important` here to be able to override the default hidden behavior on the sphinx rendered scikit-learn.org. See: https://github.com/scikit-learn/scikit-learn/issues/21755 */display: inline-block !important;position: relative;}#sk-container-id-1 div.sk-text-repr-fallback {display: none;}</style><div id=\"sk-container-id-1\" class=\"sk-top-container\"><div class=\"sk-text-repr-fallback\"><pre>RandomForestRegressor(n_estimators=300)</pre><b>In a Jupyter environment, please rerun this cell to show the HTML representation or trust the notebook. <br />On GitHub, the HTML representation is unable to render, please try loading this page with nbviewer.org.</b></div><div class=\"sk-container\" hidden><div class=\"sk-item\"><div class=\"sk-estimator sk-toggleable\"><input class=\"sk-toggleable__control sk-hidden--visually\" id=\"sk-estimator-id-1\" type=\"checkbox\" checked><label for=\"sk-estimator-id-1\" class=\"sk-toggleable__label sk-toggleable__label-arrow\">RandomForestRegressor</label><div class=\"sk-toggleable__content\"><pre>RandomForestRegressor(n_estimators=300)</pre></div></div></div></div></div>"
            ],
            "text/plain": [
              "RandomForestRegressor(n_estimators=300)"
            ]
          },
          "execution_count": 8,
          "metadata": {},
          "output_type": "execute_result"
        }
      ],
      "source": [
        "regressor = RandomForestRegressor(n_estimators=300)\n",
        "regressor.fit(x_train,y_train)\n"
      ]
    },
    {
      "cell_type": "code",
      "execution_count": 9,
      "metadata": {
        "colab": {
          "base_uri": "https://localhost:8080/"
        },
        "id": "6hvi8RLlk6QM",
        "outputId": "54eb8e58-f41f-4908-d0e8-46ee6f21c1e9"
      },
      "outputs": [
        {
          "data": {
            "text/plain": [
              "['XAUUSD regressor.joblib']"
            ]
          },
          "execution_count": 9,
          "metadata": {},
          "output_type": "execute_result"
        }
      ],
      "source": [
        "import joblib\n",
        "\n",
        "joblib.dump(sc_x,target_market[n]+' sc_x.joblib')\n",
        "joblib.dump(sc_y,target_market[n]+' sc_y.joblib')\n",
        "joblib.dump(regressor,target_market[n]+' regressor.joblib')"
      ]
    },
    {
      "cell_type": "code",
      "execution_count": 10,
      "metadata": {},
      "outputs": [
        {
          "name": "stdout",
          "output_type": "stream",
          "text": [
            "0.9997665556780402\n"
          ]
        }
      ],
      "source": [
        "score = regressor.score(\n",
        "    x_test,\n",
        "    sc_y.transform(y_test.reshape((len(y_test),1))).reshape(-1)\n",
        ")\n",
        "print(score)"
      ]
    }
  ],
  "metadata": {
    "colab": {
      "provenance": []
    },
    "kernelspec": {
      "display_name": "Python 3",
      "name": "python3"
    },
    "language_info": {
      "codemirror_mode": {
        "name": "ipython",
        "version": 3
      },
      "file_extension": ".py",
      "mimetype": "text/x-python",
      "name": "python",
      "nbconvert_exporter": "python",
      "pygments_lexer": "ipython3",
      "version": "3.10.7"
    }
  },
  "nbformat": 4,
  "nbformat_minor": 0
}
