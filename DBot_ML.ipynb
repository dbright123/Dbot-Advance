{
  "cells": [
    {
      "cell_type": "code",
      "execution_count": 82,
      "metadata": {
        "id": "HefoY_Y6Si0h"
      },
      "outputs": [],
      "source": [
        "import numpy as np\n",
        "import pandas as pd\n",
        "import joblib\n",
        "from sklearn.ensemble import RandomForestRegressor\n",
        "\n",
        "from sklearn.preprocessing import StandardScaler"
      ]
    },
    {
      "cell_type": "code",
      "execution_count": 116,
      "metadata": {},
      "outputs": [],
      "source": [
        "n = 0"
      ]
    },
    {
      "cell_type": "code",
      "execution_count": 126,
      "metadata": {
        "id": "mXGahRJZrsOz"
      },
      "outputs": [],
      "source": [
        "\n",
        "target_market =  [\"GBPUSD\",\"USDCAD\",\"XAUUSD\",\"AUDUSD\",\"USDJPY\",\"NZDUSD\",\"EURUSD\",\"EURJPY\"]\n",
        "df = pd.read_csv(\"Generated\"+target_market[n] +\" dbot.csv\")\n"
      ]
    },
    {
      "cell_type": "code",
      "execution_count": 127,
      "metadata": {
        "colab": {
          "base_uri": "https://localhost:8080/"
        },
        "id": "j3MtYdgorxNO",
        "outputId": "fcbfbf5d-74e1-471a-b7d6-330288c90c1e"
      },
      "outputs": [
        {
          "name": "stdout",
          "output_type": "stream",
          "text": [
            "40218\n"
          ]
        }
      ],
      "source": [
        "print(len(df))"
      ]
    },
    {
      "cell_type": "code",
      "execution_count": 128,
      "metadata": {
        "colab": {
          "base_uri": "https://localhost:8080/",
          "height": 206
        },
        "id": "NH9L3QP6r2CJ",
        "outputId": "e16bd47c-7137-4454-e148-d1dc4c608be9"
      },
      "outputs": [
        {
          "data": {
            "text/html": [
              "<div>\n",
              "<style scoped>\n",
              "    .dataframe tbody tr th:only-of-type {\n",
              "        vertical-align: middle;\n",
              "    }\n",
              "\n",
              "    .dataframe tbody tr th {\n",
              "        vertical-align: top;\n",
              "    }\n",
              "\n",
              "    .dataframe thead th {\n",
              "        text-align: right;\n",
              "    }\n",
              "</style>\n",
              "<table border=\"1\" class=\"dataframe\">\n",
              "  <thead>\n",
              "    <tr style=\"text-align: right;\">\n",
              "      <th></th>\n",
              "      <th>Time</th>\n",
              "      <th>Open</th>\n",
              "      <th>High</th>\n",
              "      <th>Low</th>\n",
              "      <th>Close</th>\n",
              "      <th>Tick Volume</th>\n",
              "    </tr>\n",
              "  </thead>\n",
              "  <tbody>\n",
              "    <tr>\n",
              "      <th>0</th>\n",
              "      <td>735955200</td>\n",
              "      <td>1.2760</td>\n",
              "      <td>1.2810</td>\n",
              "      <td>1.2683</td>\n",
              "      <td>1.2690</td>\n",
              "      <td>1841</td>\n",
              "    </tr>\n",
              "    <tr>\n",
              "      <th>1</th>\n",
              "      <td>736041600</td>\n",
              "      <td>1.2715</td>\n",
              "      <td>1.2740</td>\n",
              "      <td>1.2687</td>\n",
              "      <td>1.2715</td>\n",
              "      <td>1061</td>\n",
              "    </tr>\n",
              "    <tr>\n",
              "      <th>2</th>\n",
              "      <td>736128000</td>\n",
              "      <td>1.2715</td>\n",
              "      <td>1.2750</td>\n",
              "      <td>1.2693</td>\n",
              "      <td>1.2711</td>\n",
              "      <td>1101</td>\n",
              "    </tr>\n",
              "    <tr>\n",
              "      <th>3</th>\n",
              "      <td>736387200</td>\n",
              "      <td>1.2695</td>\n",
              "      <td>1.2705</td>\n",
              "      <td>1.2670</td>\n",
              "      <td>1.2675</td>\n",
              "      <td>501</td>\n",
              "    </tr>\n",
              "    <tr>\n",
              "      <th>4</th>\n",
              "      <td>736473600</td>\n",
              "      <td>1.2668</td>\n",
              "      <td>1.2732</td>\n",
              "      <td>1.2658</td>\n",
              "      <td>1.2710</td>\n",
              "      <td>1061</td>\n",
              "    </tr>\n",
              "  </tbody>\n",
              "</table>\n",
              "</div>"
            ],
            "text/plain": [
              "        Time    Open    High     Low   Close  Tick Volume\n",
              "0  735955200  1.2760  1.2810  1.2683  1.2690         1841\n",
              "1  736041600  1.2715  1.2740  1.2687  1.2715         1061\n",
              "2  736128000  1.2715  1.2750  1.2693  1.2711         1101\n",
              "3  736387200  1.2695  1.2705  1.2670  1.2675          501\n",
              "4  736473600  1.2668  1.2732  1.2658  1.2710         1061"
            ]
          },
          "execution_count": 128,
          "metadata": {},
          "output_type": "execute_result"
        }
      ],
      "source": [
        "df.head()"
      ]
    },
    {
      "cell_type": "code",
      "execution_count": 129,
      "metadata": {
        "colab": {
          "base_uri": "https://localhost:8080/",
          "height": 206
        },
        "id": "hexQV5eCr64F",
        "outputId": "ad6b0f9c-f9b5-4770-efc2-e1cd17fb177f"
      },
      "outputs": [
        {
          "data": {
            "text/html": [
              "<div>\n",
              "<style scoped>\n",
              "    .dataframe tbody tr th:only-of-type {\n",
              "        vertical-align: middle;\n",
              "    }\n",
              "\n",
              "    .dataframe tbody tr th {\n",
              "        vertical-align: top;\n",
              "    }\n",
              "\n",
              "    .dataframe thead th {\n",
              "        text-align: right;\n",
              "    }\n",
              "</style>\n",
              "<table border=\"1\" class=\"dataframe\">\n",
              "  <thead>\n",
              "    <tr style=\"text-align: right;\">\n",
              "      <th></th>\n",
              "      <th>Time</th>\n",
              "      <th>Open</th>\n",
              "      <th>High</th>\n",
              "      <th>Low</th>\n",
              "      <th>Tick Volume</th>\n",
              "      <th>Close</th>\n",
              "    </tr>\n",
              "  </thead>\n",
              "  <tbody>\n",
              "    <tr>\n",
              "      <th>40213</th>\n",
              "      <td>1700006400</td>\n",
              "      <td>1.36833</td>\n",
              "      <td>1.37094</td>\n",
              "      <td>1.36801</td>\n",
              "      <td>6224</td>\n",
              "      <td>1.37026</td>\n",
              "    </tr>\n",
              "    <tr>\n",
              "      <th>40214</th>\n",
              "      <td>1700020800</td>\n",
              "      <td>1.37025</td>\n",
              "      <td>1.37025</td>\n",
              "      <td>1.36805</td>\n",
              "      <td>4638</td>\n",
              "      <td>1.36878</td>\n",
              "    </tr>\n",
              "    <tr>\n",
              "      <th>40215</th>\n",
              "      <td>1700035200</td>\n",
              "      <td>1.36878</td>\n",
              "      <td>1.37038</td>\n",
              "      <td>1.36763</td>\n",
              "      <td>12147</td>\n",
              "      <td>1.36969</td>\n",
              "    </tr>\n",
              "    <tr>\n",
              "      <th>40216</th>\n",
              "      <td>1700049600</td>\n",
              "      <td>1.36970</td>\n",
              "      <td>1.37005</td>\n",
              "      <td>1.36590</td>\n",
              "      <td>18158</td>\n",
              "      <td>1.36814</td>\n",
              "    </tr>\n",
              "    <tr>\n",
              "      <th>40217</th>\n",
              "      <td>1700064000</td>\n",
              "      <td>1.36815</td>\n",
              "      <td>1.36949</td>\n",
              "      <td>1.36691</td>\n",
              "      <td>10791</td>\n",
              "      <td>1.36844</td>\n",
              "    </tr>\n",
              "  </tbody>\n",
              "</table>\n",
              "</div>"
            ],
            "text/plain": [
              "             Time     Open     High      Low  Tick Volume    Close\n",
              "40213  1700006400  1.36833  1.37094  1.36801         6224  1.37026\n",
              "40214  1700020800  1.37025  1.37025  1.36805         4638  1.36878\n",
              "40215  1700035200  1.36878  1.37038  1.36763        12147  1.36969\n",
              "40216  1700049600  1.36970  1.37005  1.36590        18158  1.36814\n",
              "40217  1700064000  1.36815  1.36949  1.36691        10791  1.36844"
            ]
          },
          "execution_count": 129,
          "metadata": {},
          "output_type": "execute_result"
        }
      ],
      "source": [
        "# Change the position of the 'B' column\n",
        "df = df[['Time', 'Open',\"High\", \"Low\", 'Tick Volume', 'Close']]\n",
        "df.tail()"
      ]
    },
    {
      "cell_type": "code",
      "execution_count": 130,
      "metadata": {
        "colab": {
          "base_uri": "https://localhost:8080/"
        },
        "id": "d5aOmpXAr82m",
        "outputId": "acbc13be-348f-401c-c4ec-26730c1101be"
      },
      "outputs": [
        {
          "name": "stdout",
          "output_type": "stream",
          "text": [
            "[[7.3595520e+08 1.2760000e+00 1.2810000e+00 1.2683000e+00 1.8410000e+03]\n",
            " [7.3604160e+08 1.2715000e+00 1.2740000e+00 1.2687000e+00 1.0610000e+03]\n",
            " [7.3612800e+08 1.2715000e+00 1.2750000e+00 1.2693000e+00 1.1010000e+03]\n",
            " ...\n",
            " [1.7000352e+09 1.3687800e+00 1.3703800e+00 1.3676300e+00 1.2147000e+04]\n",
            " [1.7000496e+09 1.3697000e+00 1.3700500e+00 1.3659000e+00 1.8158000e+04]\n",
            " [1.7000640e+09 1.3681500e+00 1.3694900e+00 1.3669100e+00 1.0791000e+04]]\n",
            "[1.269   1.2715  1.2711  ... 1.36969 1.36814 1.36844]\n"
          ]
        }
      ],
      "source": [
        "x = df.values\n",
        "y = x[:,-1]\n",
        "x = x[:,:5]\n",
        "\n",
        "print(x)\n",
        "print(y)"
      ]
    },
    {
      "cell_type": "code",
      "execution_count": 131,
      "metadata": {
        "colab": {
          "base_uri": "https://localhost:8080/"
        },
        "id": "jYO2Y3O_sDYQ",
        "outputId": "ea2b5a5b-0439-412a-9ae1-f6e6eda96eb9"
      },
      "outputs": [
        {
          "name": "stdout",
          "output_type": "stream",
          "text": [
            "(81, 5)\n"
          ]
        }
      ],
      "source": [
        "from sklearn.model_selection import train_test_split\n",
        "\n",
        "x_train, x_test, y_train, y_test = train_test_split(x, y, test_size=0.002, random_state=0)\n",
        "sc_x = StandardScaler()\n",
        "sc_y = StandardScaler()\n",
        "\n",
        "x_train = sc_x.fit_transform(x_train)\n",
        "y_train = sc_y.fit_transform(y_train.reshape((len(y_train),1)))\n",
        "y_train = y_train.reshape(-1)\n",
        "\n",
        "x_test = sc_x.transform(x_test)\n",
        "\n",
        "print(x_test.shape)\n",
        "\n"
      ]
    },
    {
      "cell_type": "code",
      "execution_count": 123,
      "metadata": {
        "colab": {
          "base_uri": "https://localhost:8080/",
          "height": 75
        },
        "id": "_Np-6iin-l2v",
        "outputId": "4eb8e153-6b4e-4917-b47d-e570c96a2822"
      },
      "outputs": [
        {
          "data": {
            "text/html": [
              "<style>#sk-container-id-11 {color: black;}#sk-container-id-11 pre{padding: 0;}#sk-container-id-11 div.sk-toggleable {background-color: white;}#sk-container-id-11 label.sk-toggleable__label {cursor: pointer;display: block;width: 100%;margin-bottom: 0;padding: 0.3em;box-sizing: border-box;text-align: center;}#sk-container-id-11 label.sk-toggleable__label-arrow:before {content: \"▸\";float: left;margin-right: 0.25em;color: #696969;}#sk-container-id-11 label.sk-toggleable__label-arrow:hover:before {color: black;}#sk-container-id-11 div.sk-estimator:hover label.sk-toggleable__label-arrow:before {color: black;}#sk-container-id-11 div.sk-toggleable__content {max-height: 0;max-width: 0;overflow: hidden;text-align: left;background-color: #f0f8ff;}#sk-container-id-11 div.sk-toggleable__content pre {margin: 0.2em;color: black;border-radius: 0.25em;background-color: #f0f8ff;}#sk-container-id-11 input.sk-toggleable__control:checked~div.sk-toggleable__content {max-height: 200px;max-width: 100%;overflow: auto;}#sk-container-id-11 input.sk-toggleable__control:checked~label.sk-toggleable__label-arrow:before {content: \"▾\";}#sk-container-id-11 div.sk-estimator input.sk-toggleable__control:checked~label.sk-toggleable__label {background-color: #d4ebff;}#sk-container-id-11 div.sk-label input.sk-toggleable__control:checked~label.sk-toggleable__label {background-color: #d4ebff;}#sk-container-id-11 input.sk-hidden--visually {border: 0;clip: rect(1px 1px 1px 1px);clip: rect(1px, 1px, 1px, 1px);height: 1px;margin: -1px;overflow: hidden;padding: 0;position: absolute;width: 1px;}#sk-container-id-11 div.sk-estimator {font-family: monospace;background-color: #f0f8ff;border: 1px dotted black;border-radius: 0.25em;box-sizing: border-box;margin-bottom: 0.5em;}#sk-container-id-11 div.sk-estimator:hover {background-color: #d4ebff;}#sk-container-id-11 div.sk-parallel-item::after {content: \"\";width: 100%;border-bottom: 1px solid gray;flex-grow: 1;}#sk-container-id-11 div.sk-label:hover label.sk-toggleable__label {background-color: #d4ebff;}#sk-container-id-11 div.sk-serial::before {content: \"\";position: absolute;border-left: 1px solid gray;box-sizing: border-box;top: 0;bottom: 0;left: 50%;z-index: 0;}#sk-container-id-11 div.sk-serial {display: flex;flex-direction: column;align-items: center;background-color: white;padding-right: 0.2em;padding-left: 0.2em;position: relative;}#sk-container-id-11 div.sk-item {position: relative;z-index: 1;}#sk-container-id-11 div.sk-parallel {display: flex;align-items: stretch;justify-content: center;background-color: white;position: relative;}#sk-container-id-11 div.sk-item::before, #sk-container-id-11 div.sk-parallel-item::before {content: \"\";position: absolute;border-left: 1px solid gray;box-sizing: border-box;top: 0;bottom: 0;left: 50%;z-index: -1;}#sk-container-id-11 div.sk-parallel-item {display: flex;flex-direction: column;z-index: 1;position: relative;background-color: white;}#sk-container-id-11 div.sk-parallel-item:first-child::after {align-self: flex-end;width: 50%;}#sk-container-id-11 div.sk-parallel-item:last-child::after {align-self: flex-start;width: 50%;}#sk-container-id-11 div.sk-parallel-item:only-child::after {width: 0;}#sk-container-id-11 div.sk-dashed-wrapped {border: 1px dashed gray;margin: 0 0.4em 0.5em 0.4em;box-sizing: border-box;padding-bottom: 0.4em;background-color: white;}#sk-container-id-11 div.sk-label label {font-family: monospace;font-weight: bold;display: inline-block;line-height: 1.2em;}#sk-container-id-11 div.sk-label-container {text-align: center;}#sk-container-id-11 div.sk-container {/* jupyter's `normalize.less` sets `[hidden] { display: none; }` but bootstrap.min.css set `[hidden] { display: none !important; }` so we also need the `!important` here to be able to override the default hidden behavior on the sphinx rendered scikit-learn.org. See: https://github.com/scikit-learn/scikit-learn/issues/21755 */display: inline-block !important;position: relative;}#sk-container-id-11 div.sk-text-repr-fallback {display: none;}</style><div id=\"sk-container-id-11\" class=\"sk-top-container\"><div class=\"sk-text-repr-fallback\"><pre>RandomForestRegressor(n_estimators=300)</pre><b>In a Jupyter environment, please rerun this cell to show the HTML representation or trust the notebook. <br />On GitHub, the HTML representation is unable to render, please try loading this page with nbviewer.org.</b></div><div class=\"sk-container\" hidden><div class=\"sk-item\"><div class=\"sk-estimator sk-toggleable\"><input class=\"sk-toggleable__control sk-hidden--visually\" id=\"sk-estimator-id-11\" type=\"checkbox\" checked><label for=\"sk-estimator-id-11\" class=\"sk-toggleable__label sk-toggleable__label-arrow\">RandomForestRegressor</label><div class=\"sk-toggleable__content\"><pre>RandomForestRegressor(n_estimators=300)</pre></div></div></div></div></div>"
            ],
            "text/plain": [
              "RandomForestRegressor(n_estimators=300)"
            ]
          },
          "execution_count": 123,
          "metadata": {},
          "output_type": "execute_result"
        }
      ],
      "source": [
        "regressor = RandomForestRegressor(n_estimators=300)\n",
        "regressor.fit(x_train,y_train)\n"
      ]
    },
    {
      "cell_type": "code",
      "execution_count": 124,
      "metadata": {
        "colab": {
          "base_uri": "https://localhost:8080/"
        },
        "id": "6hvi8RLlk6QM",
        "outputId": "54eb8e58-f41f-4908-d0e8-46ee6f21c1e9"
      },
      "outputs": [
        {
          "data": {
            "text/plain": [
              "['GBPUSD regressor.joblib']"
            ]
          },
          "execution_count": 124,
          "metadata": {},
          "output_type": "execute_result"
        }
      ],
      "source": [
        "\n",
        "joblib.dump(sc_x,target_market[n]+' sc_x.joblib')\n",
        "joblib.dump(sc_y,target_market[n]+' sc_y.joblib')\n",
        "joblib.dump(regressor,target_market[n]+' regressor.joblib')"
      ]
    },
    {
      "cell_type": "code",
      "execution_count": 125,
      "metadata": {},
      "outputs": [
        {
          "name": "stdout",
          "output_type": "stream",
          "text": [
            "0.9999065271206169\n"
          ]
        }
      ],
      "source": [
        "score = regressor.score(\n",
        "    x_test,\n",
        "    sc_y.transform(y_test.reshape((len(y_test),1))).reshape(-1)\n",
        ")\n",
        "print(score)\n",
        "n+=1\n",
        "print(n)"
      ]
    }
  ],
  "metadata": {
    "colab": {
      "provenance": []
    },
    "kernelspec": {
      "display_name": "Python 3",
      "name": "python3"
    },
    "language_info": {
      "codemirror_mode": {
        "name": "ipython",
        "version": 3
      },
      "file_extension": ".py",
      "mimetype": "text/x-python",
      "name": "python",
      "nbconvert_exporter": "python",
      "pygments_lexer": "ipython3",
      "version": "3.10.7"
    }
  },
  "nbformat": 4,
  "nbformat_minor": 0
}
