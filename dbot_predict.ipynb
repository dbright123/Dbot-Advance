{
 "cells": [
  {
   "cell_type": "code",
   "execution_count": 1,
   "metadata": {},
   "outputs": [],
   "source": [
    "import MetaTrader5 as mt5"
   ]
  },
  {
   "cell_type": "code",
   "execution_count": 2,
   "metadata": {},
   "outputs": [
    {
     "name": "stdout",
     "output_type": "stream",
     "text": [
      "MetaTrader5 initialized\n"
     ]
    }
   ],
   "source": [
    "if mt5.initialize():\n",
    "    print(\"MetaTrader5 initialized\")\n",
    "else:\n",
    "    print(\"MetaTrader5 not initialized\")"
   ]
  },
  {
   "cell_type": "code",
   "execution_count": 3,
   "metadata": {},
   "outputs": [
    {
     "name": "stdout",
     "output_type": "stream",
     "text": [
      "AccountInfo(login=31501023, trade_mode=0, leverage=500, limit_orders=50, margin_so_mode=0, trade_allowed=True, trade_expert=True, margin_mode=2, currency_digits=2, fifo_close=False, balance=9999.56, credit=0.0, profit=0.0, equity=9999.56, margin=0.0, margin_free=9999.56, margin_level=0.0, margin_so_call=100.0, margin_so_so=50.0, margin_initial=0.0, margin_maintenance=0.0, assets=0.0, liabilities=0.0, commission_blocked=0.0, name='Demo Derived', server='Deriv-Demo', currency='USD', company='Deriv.com Limited')\n",
      "\n",
      "\n",
      "TerminalInfo(community_account=False, community_connection=False, connected=True, dlls_allowed=False, trade_allowed=True, tradeapi_disabled=False, email_enabled=False, ftp_enabled=False, notifications_enabled=False, mqid=False, build=4282, maxbars=100000, codepage=0, ping_last=156958, community_balance=0.0, retransmission=2.0630560697438347, company='MetaQuotes Software Corp.', name='MetaTrader 5', language='English', path='C:\\\\Program Files\\\\MetaTrader 5', data_path='C:\\\\Users\\\\omage\\\\AppData\\\\Roaming\\\\MetaQuotes\\\\Terminal\\\\D0E8209F77C8CF37AD8BF550E51FF075', commondata_path='C:\\\\Users\\\\omage\\\\AppData\\\\Roaming\\\\MetaQuotes\\\\Terminal\\\\Common')\n"
     ]
    }
   ],
   "source": [
    "print(mt5.account_info())\n",
    "print(\"\\n\")\n",
    "print(mt5.terminal_info())"
   ]
  },
  {
   "cell_type": "code",
   "execution_count": 4,
   "metadata": {},
   "outputs": [
    {
     "name": "stdout",
     "output_type": "stream",
     "text": [
      "291\n",
      "Volatility 10 (1s) Index\n",
      "Volatility 10 Index\n",
      "Volatility 100 (1s) Index\n",
      "Volatility 100 Index\n",
      "Volatility 150 (1s) Index\n",
      "Volatility 200 (1s) Index\n",
      "Volatility 25 (1s) Index\n",
      "Volatility 25 Index\n",
      "Volatility 250 (1s) Index\n",
      "Volatility 300 (1s) Index\n",
      "Volatility 50 (1s) Index\n",
      "Volatility 50 Index\n",
      "Volatility 75 (1s) Index\n",
      "Volatility 75 Index\n"
     ]
    }
   ],
   "source": [
    "total_market = mt5.symbols_total()\n",
    "print(total_market)\n",
    "markets = mt5.symbols_get(\"Volatility\")\n",
    "for market in markets:\n",
    "    print(market.name)"
   ]
  },
  {
   "cell_type": "code",
   "execution_count": 5,
   "metadata": {},
   "outputs": [
    {
     "name": "stdout",
     "output_type": "stream",
     "text": [
      "[(1546318800, 110937.33, 111280.18, 110692.59, 111096.21, 840, 6000, 0)\n",
      " (1546320600, 111102.52, 112266.87, 111075.16, 111906.08, 900, 6000, 0)\n",
      " (1546322400, 111901.24, 112325.91, 111536.92, 111769.42, 900, 6000, 0)\n",
      " ...\n",
      " (1714120200, 235621.27, 236989.56, 235277.05, 236506.97, 900, 5577, 0)\n",
      " (1714122000, 236511.72, 238781.24, 236142.7 , 238173.15, 900, 5577, 0)\n",
      " (1714123800, 238218.03, 239323.24, 236607.13, 238769.86, 900, 5577, 0)]\n"
     ]
    }
   ],
   "source": [
    "rates = mt5.copy_rates_from_pos(\"Volatility 75 Index\", mt5.TIMEFRAME_M30, 100, 99999)\n",
    "print(rates)"
   ]
  },
  {
   "cell_type": "code",
   "execution_count": 6,
   "metadata": {},
   "outputs": [
    {
     "data": {
      "text/plain": [
       "array([(1546318800, 110937.33, 111280.18, 110692.59, 111096.21, 840, 6000, 0),\n",
       "       (1546320600, 111102.52, 112266.87, 111075.16, 111906.08, 900, 6000, 0),\n",
       "       (1546322400, 111901.24, 112325.91, 111536.92, 111769.42, 900, 6000, 0),\n",
       "       ...,\n",
       "       (1714120200, 235621.27, 236989.56, 235277.05, 236506.97, 900, 5577, 0),\n",
       "       (1714122000, 236511.72, 238781.24, 236142.7 , 238173.15, 900, 5577, 0),\n",
       "       (1714123800, 238218.03, 239323.24, 236607.13, 238769.86, 900, 5577, 0)],\n",
       "      dtype=[('time', '<i8'), ('open', '<f8'), ('high', '<f8'), ('low', '<f8'), ('close', '<f8'), ('tick_volume', '<u8'), ('spread', '<i4'), ('real_volume', '<u8')])"
      ]
     },
     "metadata": {},
     "output_type": "display_data"
    }
   ],
   "source": [
    "display(rates)"
   ]
  },
  {
   "cell_type": "code",
   "execution_count": 7,
   "metadata": {},
   "outputs": [
    {
     "name": "stdout",
     "output_type": "stream",
     "text": [
      "93217\n"
     ]
    }
   ],
   "source": [
    "print(len(rates) - 1)"
   ]
  },
  {
   "cell_type": "code",
   "execution_count": 8,
   "metadata": {},
   "outputs": [
    {
     "name": "stdout",
     "output_type": "stream",
     "text": [
      "done executing\n"
     ]
    }
   ],
   "source": [
    "x = []\n",
    "y = []\n",
    "\n",
    "i = 0\n",
    "for rate in rates:\n",
    "    if i == 0:\n",
    "        i=1\n",
    "    else:    \n",
    "        x.append([rate[1],rate[2],rate[3],rate[4],rate[5]])\n",
    "i = 0\n",
    "for rate in rates:\n",
    "    if i < len(rates) - 1:\n",
    "        y.append(rate[4]) \n",
    "        i += 1\n",
    "    else:\n",
    "        print(\"done executing\")   \n",
    "    "
   ]
  },
  {
   "cell_type": "code",
   "execution_count": 9,
   "metadata": {},
   "outputs": [],
   "source": [
    "import numpy as np"
   ]
  },
  {
   "cell_type": "code",
   "execution_count": 10,
   "metadata": {},
   "outputs": [],
   "source": [
    "x = np.array(x)\n",
    "y = np.array(y)"
   ]
  },
  {
   "cell_type": "code",
   "execution_count": 11,
   "metadata": {},
   "outputs": [
    {
     "name": "stdout",
     "output_type": "stream",
     "text": [
      "(93217, 5)\n",
      "(93217,)\n"
     ]
    }
   ],
   "source": [
    "print(x.shape)\n",
    "print(y.shape)"
   ]
  },
  {
   "cell_type": "code",
   "execution_count": 12,
   "metadata": {},
   "outputs": [
    {
     "name": "stdout",
     "output_type": "stream",
     "text": [
      "[111096.21 111906.08 111769.42 ... 235616.13 236506.97 238173.15]\n"
     ]
    }
   ],
   "source": [
    "print(y)"
   ]
  },
  {
   "cell_type": "code",
   "execution_count": 13,
   "metadata": {},
   "outputs": [],
   "source": [
    "for i in range(3):\n",
    "    x = np.concatenate([x,x])\n",
    "    y = np.concatenate([y,y])"
   ]
  },
  {
   "cell_type": "code",
   "execution_count": 14,
   "metadata": {},
   "outputs": [
    {
     "name": "stdout",
     "output_type": "stream",
     "text": [
      "(745736, 5)\n",
      "(745736,)\n"
     ]
    }
   ],
   "source": [
    "print(x.shape)\n",
    "print(y.shape)"
   ]
  },
  {
   "cell_type": "code",
   "execution_count": 15,
   "metadata": {},
   "outputs": [
    {
     "name": "stdout",
     "output_type": "stream",
     "text": [
      "[[111102.52 112266.87 111075.16 111906.08    900.  ]\n",
      " [111901.24 112325.91 111536.92 111769.42    900.  ]\n",
      " [111821.22 112389.49 111584.01 112294.98    900.  ]\n",
      " ...\n",
      " [235621.27 236989.56 235277.05 236506.97    900.  ]\n",
      " [236511.72 238781.24 236142.7  238173.15    900.  ]\n",
      " [238218.03 239323.24 236607.13 238769.86    900.  ]]\n"
     ]
    }
   ],
   "source": [
    "print(x)"
   ]
  },
  {
   "cell_type": "code",
   "execution_count": 16,
   "metadata": {},
   "outputs": [],
   "source": [
    "from sklearn.model_selection import train_test_split"
   ]
  },
  {
   "cell_type": "code",
   "execution_count": 17,
   "metadata": {},
   "outputs": [],
   "source": [
    "x_train, x_test, y_train, y_test = train_test_split(x,y,test_size=0.001, random_state=40)"
   ]
  },
  {
   "cell_type": "code",
   "execution_count": 18,
   "metadata": {},
   "outputs": [
    {
     "name": "stdout",
     "output_type": "stream",
     "text": [
      "(744990, 5)\n",
      "(746, 5)\n",
      "(744990,)\n",
      "(746,)\n"
     ]
    }
   ],
   "source": [
    "print(x_train.shape)\n",
    "print(x_test.shape)\n",
    "print(y_train.shape)\n",
    "print(y_test.shape)"
   ]
  },
  {
   "cell_type": "code",
   "execution_count": 19,
   "metadata": {},
   "outputs": [],
   "source": [
    "from sklearn.preprocessing import StandardScaler"
   ]
  },
  {
   "cell_type": "code",
   "execution_count": 20,
   "metadata": {},
   "outputs": [
    {
     "name": "stdout",
     "output_type": "stream",
     "text": [
      "(744990, 5)\n",
      "(744990, 1)\n"
     ]
    }
   ],
   "source": [
    "sc_x = StandardScaler()\n",
    "sc_y = StandardScaler()\n",
    "x_train = sc_x.fit_transform(x_train,y_train)\n",
    "y_train = sc_y.fit_transform(y_train.reshape((len(y_train),1)))\n",
    "\n",
    "x_test = sc_x.transform(x_test)\n",
    "y_test = sc_y.transform(y_test.reshape((len(y_test),1)))\n",
    "\n",
    "print(x_train.shape)\n",
    "print(y_train.shape)"
   ]
  },
  {
   "cell_type": "code",
   "execution_count": 21,
   "metadata": {},
   "outputs": [],
   "source": [
    "y_train = y_train.reshape(-1)\n",
    "y_test = y_test.reshape(-1)"
   ]
  },
  {
   "cell_type": "code",
   "execution_count": 22,
   "metadata": {},
   "outputs": [
    {
     "name": "stdout",
     "output_type": "stream",
     "text": [
      "(744990,)\n",
      "(746,)\n"
     ]
    }
   ],
   "source": [
    "print(y_train.shape)\n",
    "print(y_test.shape)"
   ]
  },
  {
   "cell_type": "code",
   "execution_count": 23,
   "metadata": {},
   "outputs": [
    {
     "name": "stdout",
     "output_type": "stream",
     "text": [
      "[[ 1.20542398  1.19996278  1.2021728   1.20296329  0.03360927]\n",
      " [-1.17309953 -1.17341688 -1.1731136  -1.17252286  0.03360927]\n",
      " [ 0.20267307  0.20017358  0.2093813   0.20771481  0.03360927]\n",
      " ...\n",
      " [-0.81628227 -0.81194472 -0.81184984 -0.80832988  0.03360927]\n",
      " [-0.35024862 -0.34956022 -0.34788779 -0.34574634  0.03360927]\n",
      " [-1.43281828 -1.43314059 -1.43351783 -1.43288269  0.03360927]]\n"
     ]
    }
   ],
   "source": [
    "print(x_train)"
   ]
  },
  {
   "cell_type": "code",
   "execution_count": 24,
   "metadata": {},
   "outputs": [],
   "source": [
    "from sklearn.ensemble import RandomForestRegressor"
   ]
  },
  {
   "cell_type": "code",
   "execution_count": 25,
   "metadata": {},
   "outputs": [],
   "source": [
    "regressor = RandomForestRegressor(n_estimators=200, n_jobs = 8, random_state=40, verbose=2)"
   ]
  },
  {
   "cell_type": "code",
   "execution_count": 26,
   "metadata": {},
   "outputs": [
    {
     "name": "stderr",
     "output_type": "stream",
     "text": [
      "[Parallel(n_jobs=8)]: Using backend ThreadingBackend with 8 concurrent workers.\n"
     ]
    },
    {
     "name": "stdout",
     "output_type": "stream",
     "text": [
      "building tree 1 of 200\n",
      "building tree 2 of 200\n",
      "building tree 3 of 200\n",
      "building tree 4 of 200\n",
      "building tree 5 of 200\n",
      "building tree 6 of 200\n",
      "building tree 7 of 200\n",
      "building tree 8 of 200\n",
      "building tree 9 of 200\n",
      "building tree 10 of 200\n",
      "building tree 11 of 200\n",
      "building tree 12 of 200\n",
      "building tree 13 of 200\n",
      "building tree 14 of 200\n",
      "building tree 15 of 200\n",
      "building tree 16 of 200\n",
      "building tree 17 of 200\n",
      "building tree 18 of 200\n",
      "building tree 19 of 200\n",
      "building tree 20 of 200\n",
      "building tree 21 of 200\n",
      "building tree 22 of 200\n",
      "building tree 23 of 200\n",
      "building tree 24 of 200\n",
      "building tree 25 of 200\n",
      "building tree 26 of 200\n",
      "building tree 27 of 200\n",
      "building tree 28 of 200\n",
      "building tree 29 of 200\n",
      "building tree 30 of 200\n",
      "building tree 31 of 200\n",
      "building tree 32 of 200\n",
      "building tree 33 of 200\n"
     ]
    },
    {
     "name": "stderr",
     "output_type": "stream",
     "text": [
      "[Parallel(n_jobs=8)]: Done  25 tasks      | elapsed:    8.2s\n"
     ]
    },
    {
     "name": "stdout",
     "output_type": "stream",
     "text": [
      "building tree 34 of 200\n",
      "building tree 35 of 200\n",
      "building tree 36 of 200\n",
      "building tree 37 of 200\n",
      "building tree 38 of 200\n",
      "building tree 39 of 200\n",
      "building tree 40 of 200\n",
      "building tree 41 of 200\n",
      "building tree 42 of 200\n",
      "building tree 43 of 200\n",
      "building tree 44 of 200\n",
      "building tree 45 of 200\n",
      "building tree 46 of 200\n",
      "building tree 47 of 200\n",
      "building tree 48 of 200\n",
      "building tree 49 of 200\n",
      "building tree 50 of 200\n",
      "building tree 51 of 200\n",
      "building tree 52 of 200\n",
      "building tree 53 of 200\n",
      "building tree 54 of 200\n",
      "building tree 55 of 200\n",
      "building tree 56 of 200\n",
      "building tree 57 of 200\n",
      "building tree 58 of 200\n",
      "building tree 59 of 200\n",
      "building tree 60 of 200\n",
      "building tree 61 of 200\n",
      "building tree 62 of 200\n",
      "building tree 63 of 200\n",
      "building tree 64 of 200\n",
      "building tree 65 of 200\n",
      "building tree 66 of 200\n",
      "building tree 67 of 200\n",
      "building tree 68 of 200\n",
      "building tree 69 of 200\n",
      "building tree 70 of 200\n",
      "building tree 71 of 200\n",
      "building tree 72 of 200\n",
      "building tree 73 of 200\n",
      "building tree 74 of 200\n",
      "building tree 75 of 200\n",
      "building tree 76 of 200\n",
      "building tree 77 of 200\n",
      "building tree 78 of 200\n",
      "building tree 79 of 200\n",
      "building tree 80 of 200\n",
      "building tree 81 of 200\n",
      "building tree 82 of 200\n",
      "building tree 83 of 200\n",
      "building tree 84 of 200\n",
      "building tree 85 of 200\n",
      "building tree 86 of 200\n",
      "building tree 87 of 200\n",
      "building tree 88 of 200\n",
      "building tree 89 of 200\n",
      "building tree 90 of 200\n",
      "building tree 91 of 200\n",
      "building tree 92 of 200\n",
      "building tree 93 of 200\n",
      "building tree 94 of 200\n",
      "building tree 95 of 200\n",
      "building tree 96 of 200\n",
      "building tree 97 of 200\n",
      "building tree 98 of 200\n",
      "building tree 99 of 200\n",
      "building tree 100 of 200\n",
      "building tree 101 of 200\n",
      "building tree 102 of 200\n",
      "building tree 103 of 200\n",
      "building tree 104 of 200\n",
      "building tree 105 of 200\n",
      "building tree 106 of 200\n",
      "building tree 107 of 200\n",
      "building tree 108 of 200\n",
      "building tree 109 of 200\n",
      "building tree 110 of 200\n",
      "building tree 111 of 200\n",
      "building tree 112 of 200\n",
      "building tree 113 of 200\n",
      "building tree 114 of 200\n",
      "building tree 115 of 200\n",
      "building tree 116 of 200\n",
      "building tree 117 of 200\n",
      "building tree 118 of 200\n",
      "building tree 119 of 200\n",
      "building tree 120 of 200\n",
      "building tree 121 of 200\n",
      "building tree 122 of 200\n",
      "building tree 123 of 200\n",
      "building tree 124 of 200\n",
      "building tree 125 of 200\n",
      "building tree 126 of 200\n",
      "building tree 127 of 200\n",
      "building tree 128 of 200\n",
      "building tree 129 of 200\n",
      "building tree 130 of 200\n",
      "building tree 131 of 200\n",
      "building tree 132 of 200\n",
      "building tree 133 of 200\n",
      "building tree 134 of 200\n",
      "building tree 135 of 200\n",
      "building tree 136 of 200\n",
      "building tree 137 of 200\n",
      "building tree 138 of 200\n",
      "building tree 139 of 200\n",
      "building tree 140 of 200\n",
      "building tree 141 of 200\n",
      "building tree 142 of 200\n",
      "building tree 143 of 200\n",
      "building tree 144 of 200\n",
      "building tree 145 of 200\n",
      "building tree 146 of 200building tree 147 of 200\n",
      "\n",
      "building tree 148 of 200\n",
      "building tree 149 of 200\n",
      "building tree 150 of 200\n",
      "building tree 151 of 200\n",
      "building tree 152 of 200\n",
      "building tree 153 of 200\n",
      "building tree 154 of 200\n",
      "building tree 155 of 200\n",
      "building tree 156 of 200\n"
     ]
    },
    {
     "name": "stderr",
     "output_type": "stream",
     "text": [
      "[Parallel(n_jobs=8)]: Done 146 tasks      | elapsed:   43.5s\n"
     ]
    },
    {
     "name": "stdout",
     "output_type": "stream",
     "text": [
      "building tree 157 of 200\n",
      "building tree 158 of 200\n",
      "building tree 159 of 200\n",
      "building tree 160 of 200\n",
      "building tree 161 of 200\n",
      "building tree 162 of 200\n",
      "building tree 163 of 200\n",
      "building tree 164 of 200\n",
      "building tree 165 of 200\n",
      "building tree 166 of 200\n",
      "building tree 167 of 200\n",
      "building tree 168 of 200\n",
      "building tree 169 of 200\n",
      "building tree 170 of 200\n",
      "building tree 171 of 200\n",
      "building tree 172 of 200\n",
      "building tree 173 of 200\n",
      "building tree 174 of 200\n",
      "building tree 175 of 200\n",
      "building tree 176 of 200\n",
      "building tree 177 of 200\n",
      "building tree 178 of 200\n",
      "building tree 179 of 200\n",
      "building tree 180 of 200\n",
      "building tree 181 of 200\n",
      "building tree 182 of 200\n",
      "building tree 183 of 200\n",
      "building tree 184 of 200\n",
      "building tree 185 of 200\n",
      "building tree 186 of 200\n",
      "building tree 187 of 200\n",
      "building tree 188 of 200\n",
      "building tree 189 of 200\n",
      "building tree 190 of 200\n",
      "building tree 191 of 200\n",
      "building tree 192 of 200\n",
      "building tree 193 of 200\n",
      "building tree 194 of 200\n",
      "building tree 195 of 200\n",
      "building tree 196 of 200\n",
      "building tree 197 of 200\n",
      "building tree 198 of 200\n",
      "building tree 199 of 200\n",
      "building tree 200 of 200\n"
     ]
    },
    {
     "name": "stderr",
     "output_type": "stream",
     "text": [
      "[Parallel(n_jobs=8)]: Done 200 out of 200 | elapsed:   58.4s finished\n"
     ]
    }
   ],
   "source": [
    "t_model = regressor.fit(x_train,y_train)"
   ]
  },
  {
   "cell_type": "code",
   "execution_count": 27,
   "metadata": {},
   "outputs": [
    {
     "name": "stdout",
     "output_type": "stream",
     "text": [
      "0.999999999997885\n"
     ]
    },
    {
     "name": "stderr",
     "output_type": "stream",
     "text": [
      "[Parallel(n_jobs=8)]: Using backend ThreadingBackend with 8 concurrent workers.\n",
      "[Parallel(n_jobs=8)]: Done  25 tasks      | elapsed:    0.0s\n",
      "[Parallel(n_jobs=8)]: Done 146 tasks      | elapsed:    0.0s\n",
      "[Parallel(n_jobs=8)]: Done 200 out of 200 | elapsed:    0.0s finished\n"
     ]
    }
   ],
   "source": [
    "print(t_model.score(x_test,y_test))"
   ]
  },
  {
   "cell_type": "code",
   "execution_count": 28,
   "metadata": {},
   "outputs": [
    {
     "name": "stdout",
     "output_type": "stream",
     "text": [
      "[0.39221823 0.39159872 0.39862357 0.39544665 0.03360927]\n"
     ]
    }
   ],
   "source": [
    "print(x_test[-1])"
   ]
  },
  {
   "cell_type": "code",
   "execution_count": 29,
   "metadata": {},
   "outputs": [
    {
     "name": "stdout",
     "output_type": "stream",
     "text": [
      "[0.39250496]\n",
      "[[588196.28]]\n"
     ]
    },
    {
     "name": "stderr",
     "output_type": "stream",
     "text": [
      "[Parallel(n_jobs=8)]: Using backend ThreadingBackend with 8 concurrent workers.\n",
      "[Parallel(n_jobs=8)]: Done  25 tasks      | elapsed:    0.0s\n",
      "[Parallel(n_jobs=8)]: Done 146 tasks      | elapsed:    0.0s\n",
      "[Parallel(n_jobs=8)]: Done 200 out of 200 | elapsed:    0.0s finished\n"
     ]
    }
   ],
   "source": [
    "y_pred = t_model.predict([x_test[-1]])\n",
    "print(y_pred)\n",
    "print(sc_y.inverse_transform(y_pred.reshape(len(y_pred),1)))"
   ]
  },
  {
   "cell_type": "code",
   "execution_count": 30,
   "metadata": {},
   "outputs": [
    {
     "name": "stdout",
     "output_type": "stream",
     "text": [
      "0.3925049597430827\n",
      "[[588196.28]]\n",
      "[0.39221823 0.39159872 0.39862357 0.39544665 0.03360927]\n"
     ]
    }
   ],
   "source": [
    "print(y_test[-1])\n",
    "print(sc_y.inverse_transform(y_test[-1].reshape(1,1)))\n",
    "print(x_test[-1])"
   ]
  },
  {
   "cell_type": "code",
   "execution_count": 31,
   "metadata": {},
   "outputs": [],
   "source": [
    "import joblib"
   ]
  },
  {
   "cell_type": "code",
   "execution_count": 32,
   "metadata": {},
   "outputs": [
    {
     "data": {
      "text/plain": [
       "['v75i sc_y.joblib']"
      ]
     },
     "execution_count": 32,
     "metadata": {},
     "output_type": "execute_result"
    }
   ],
   "source": [
    "joblib.dump(t_model,\"v75i t_model.joblib\")\n",
    "joblib.dump(sc_x,\"v75i sc_x.joblib\")\n",
    "joblib.dump(sc_y,\"v75i sc_y.joblib\")"
   ]
  },
  {
   "cell_type": "code",
   "execution_count": 33,
   "metadata": {},
   "outputs": [],
   "source": [
    "rates = mt5.copy_rates_from_pos(\"Volatility 75 Index\", mt5.TIMEFRAME_H1, 0, 100)"
   ]
  },
  {
   "cell_type": "code",
   "execution_count": 34,
   "metadata": {},
   "outputs": [
    {
     "name": "stdout",
     "output_type": "stream",
     "text": [
      "done executing\n"
     ]
    }
   ],
   "source": [
    "x = []\n",
    "y = []\n",
    "\n",
    "i = 0\n",
    "for rate in rates:\n",
    "    if i == 0:\n",
    "        i=1\n",
    "    else:    \n",
    "        x.append([rate[1],rate[2],rate[3],rate[4],rate[5]])\n",
    "i = 0\n",
    "for rate in rates:\n",
    "    if i < len(rates) - 1:\n",
    "        y.append(rate[4]) \n",
    "        i += 1\n",
    "    else:\n",
    "        print(\"done executing\") "
   ]
  },
  {
   "cell_type": "code",
   "execution_count": 35,
   "metadata": {},
   "outputs": [],
   "source": [
    "x = np.array(x)\n",
    "y = np.array(y)\n",
    "x = sc_x.transform(x)\n",
    "y = sc_y.transform(y.reshape((len(y),1)))"
   ]
  },
  {
   "cell_type": "code",
   "execution_count": 36,
   "metadata": {},
   "outputs": [],
   "source": [
    "y = y.reshape(-1)"
   ]
  },
  {
   "cell_type": "code",
   "execution_count": 37,
   "metadata": {},
   "outputs": [
    {
     "name": "stdout",
     "output_type": "stream",
     "text": [
      "[[-1.07666533 -1.07718597 -1.07705859 -1.07499626 80.8805531 ]\n",
      " [-1.07499051 -1.05907961 -1.07233027 -1.06174476 80.8805531 ]\n",
      " [-1.06168235 -1.06145795 -1.06448063 -1.05836583 80.79072316]\n",
      " [-1.05791052 -1.05691568 -1.05804558 -1.05610751 80.8805531 ]\n",
      " [-1.05598805 -1.05767627 -1.05480867 -1.05858812 80.8805531 ]\n",
      " [-1.05861837 -1.05869113 -1.05876702 -1.05472182 80.8805531 ]\n",
      " [-1.05486335 -1.05558763 -1.0644071  -1.06606835 80.8805531 ]\n",
      " [-1.06601578 -1.06684202 -1.06769562 -1.06938774 80.8805531 ]\n",
      " [-1.069322   -1.07033749 -1.0778871  -1.07732546 80.8805531 ]\n",
      " [-1.0771258  -1.08094668 -1.08375266 -1.08238258 80.70089322]\n",
      " [-1.08238812 -1.08442033 -1.08902825 -1.08600879 80.8805531 ]\n",
      " [-1.0858704  -1.07118149 -1.0825625  -1.06820602 80.8805531 ]\n",
      " [-1.06808324 -1.06668522 -1.06654341 -1.0692407  80.8805531 ]\n",
      " [-1.06920427 -1.06122432 -1.06657559 -1.05878789 80.8805531 ]\n",
      " [-1.0587233  -1.05655792 -1.05931461 -1.06012286 80.8805531 ]\n",
      " [-1.06015946 -1.06007135 -1.06042485 -1.05898925 80.8805531 ]\n",
      " [-1.05883634 -1.05834263 -1.05706447 -1.0545847  80.8805531 ]\n",
      " [-1.05491522 -1.05906413 -1.06586866 -1.06719473 80.8805531 ]\n",
      " [-1.06714586 -1.06035142 -1.06334064 -1.05763739 80.8805531 ]\n",
      " [-1.05784281 -1.05704286 -1.0591079  -1.05956065 80.79072316]\n",
      " [-1.05967472 -1.05684596 -1.05697753 -1.05558534 80.8805531 ]\n",
      " [-1.05544539 -1.05289249 -1.05731607 -1.05926358 80.79072316]\n",
      " [-1.05916128 -1.05987802 -1.05997911 -1.064128   80.8805531 ]\n",
      " [-1.06424264 -1.06643899 -1.06749989 -1.06318171 80.8805531 ]\n",
      " [-1.06287732 -1.06382564 -1.06817418 -1.06962469 80.8805531 ]\n",
      " [-1.06931417 -1.07340689 -1.07640409 -1.07367211 80.8805531 ]\n",
      " [-1.07385414 -1.07122318 -1.07551119 -1.06764647 80.8805531 ]\n",
      " [-1.06741582 -1.06886963 -1.0688409  -1.06988049 80.8805531 ]\n",
      " [-1.06976741 -1.06913796 -1.07290414 -1.0654979  80.8805531 ]\n",
      " [-1.06561787 -1.06665028 -1.0646498  -1.06587336 80.79072316]\n",
      " [-1.06590906 -1.05848374 -1.0618055  -1.05429412 80.8805531 ]\n",
      " [-1.05428442 -1.05603487 -1.05556577 -1.05780141 80.79072316]\n",
      " [-1.05791676 -1.06168772 -1.06483963 -1.06437486 80.8805531 ]\n",
      " [-1.06452444 -1.06841012 -1.06796267 -1.06434409 80.8805531 ]\n",
      " [-1.06428333 -1.05561441 -1.06105783 -1.0519686  80.8805531 ]\n",
      " [-1.05204775 -1.04155213 -1.05060979 -1.03762908 80.8805531 ]\n",
      " [-1.03767362 -1.03309203 -1.03338807 -1.02976262 80.8805531 ]\n",
      " [-1.02956281 -1.02839398 -1.03011259 -1.0271677  80.8805531 ]\n",
      " [-1.02706733 -1.02275892 -1.02484889 -1.02676204 80.8805531 ]\n",
      " [-1.02640758 -1.02884832 -1.03589654 -1.03822035 80.8805531 ]\n",
      " [-1.03805332 -1.03339294 -1.03707769 -1.03758084 80.8805531 ]\n",
      " [-1.03736685 -1.02905242 -1.03330597 -1.03439257 80.8805531 ]\n",
      " [-1.03410992 -1.02951542 -1.03106751 -1.02938161 80.8805531 ]\n",
      " [-1.02924714 -1.02865248 -1.03130599 -1.03340625 80.8805531 ]\n",
      " [-1.03331542 -1.03223254 -1.03483853 -1.03210704 80.8805531 ]\n",
      " [-1.03189844 -1.03572996 -1.04646267 -1.0485806  80.8805531 ]\n",
      " [-1.04885408 -1.03856813 -1.04539626 -1.03725496 80.79072316]\n",
      " [-1.03734534 -1.04119786 -1.04353827 -1.04277186 80.8805531 ]\n",
      " [-1.04274046 -1.03556906 -1.03998991 -1.03353681 80.8805531 ]\n",
      " [-1.03354992 -1.03784249 -1.04483149 -1.04823065 80.8805531 ]\n",
      " [-1.04839321 -1.04986286 -1.0546165  -1.05603634 80.8805531 ]\n",
      " [-1.05581955 -1.05471299 -1.05209176 -1.05503745 80.8805531 ]\n",
      " [-1.05499872 -1.04989858 -1.059319   -1.06316404 80.8805531 ]\n",
      " [-1.06313198 -1.06136344 -1.0612288  -1.06176607 80.8805531 ]\n",
      " [-1.06171096 -1.06476765 -1.07776962 -1.08149185 80.8805531 ]\n",
      " [-1.08165422 -1.08111722 -1.08296449 -1.08661059 80.8805531 ]\n",
      " [-1.08669338 -1.0872262  -1.09129524 -1.08419977 80.8805531 ]\n",
      " [-1.08434804 -1.07330686 -1.08144894 -1.07012091 80.8805531 ]\n",
      " [-1.07028897 -1.07163811 -1.07417354 -1.07678068 80.8805531 ]\n",
      " [-1.07724856 -1.07679457 -1.08397327 -1.08705388 80.8805531 ]\n",
      " [-1.08649451 -1.08449205 -1.08686082 -1.0819286  80.8805531 ]\n",
      " [-1.0819572  -1.08410202 -1.08674027 -1.08678351 80.8805531 ]\n",
      " [-1.0866256  -1.08653619 -1.08627666 -1.08292994 80.8805531 ]\n",
      " [-1.08307896 -1.08536112 -1.08688554 -1.08989444 80.8805531 ]\n",
      " [-1.08978164 -1.08571515 -1.08625801 -1.08313367 80.8805531 ]\n",
      " [-1.08283111 -1.07988189 -1.08532174 -1.08888825 80.8805531 ]\n",
      " [-1.08884275 -1.08970393 -1.08927723 -1.08886931 80.8805531 ]\n",
      " [-1.08880068 -1.09166636 -1.09428629 -1.09713723 80.8805531 ]\n",
      " [-1.09707645 -1.099395   -1.09967202 -1.09772164 80.8805531 ]\n",
      " [-1.09763629 -1.10056613 -1.10435816 -1.10472385 80.8805531 ]\n",
      " [-1.1046726  -1.10762403 -1.10606071 -1.10800546 80.8805531 ]\n",
      " [-1.10767617 -1.1094165  -1.12029289 -1.12330582 80.8805531 ]\n",
      " [-1.12314162 -1.12005052 -1.12543743 -1.12650483 80.8805531 ]\n",
      " [-1.12669675 -1.11653137 -1.12564947 -1.11788875 80.8805531 ]\n",
      " [-1.11785143 -1.11000201 -1.11391982 -1.11085879 80.79072316]\n",
      " [-1.11097383 -1.11357183 -1.12263333 -1.12371348 80.8805531 ]\n",
      " [-1.12347092 -1.12731971 -1.12836191 -1.13199818 80.70089322]\n",
      " [-1.13200934 -1.13391481 -1.13467091 -1.13492958 80.79072316]\n",
      " [-1.13503471 -1.13806583 -1.13826387 -1.13532912 80.97038303]\n",
      " [-1.13509805 -1.13705666 -1.14577107 -1.14938937 80.8805531 ]\n",
      " [-1.14917145 -1.14242956 -1.14704195 -1.14127502 80.8805531 ]\n",
      " [-1.14119539 -1.14323504 -1.14595824 -1.14346461 80.8805531 ]\n",
      " [-1.14356461 -1.13998568 -1.14577821 -1.13770252 80.8805531 ]\n",
      " [-1.13774759 -1.1377387  -1.13905532 -1.13669845 80.8805531 ]\n",
      " [-1.13667701 -1.13871752 -1.14062309 -1.14339364 80.8805531 ]\n",
      " [-1.14344899 -1.14649891 -1.15631839 -1.15655429 80.79072316]\n",
      " [-1.15661293 -1.1573356  -1.15571325 -1.15415702 80.8805531 ]\n",
      " [-1.15431541 -1.14945048 -1.15207204 -1.14721276 80.8805531 ]\n",
      " [-1.14705424 -1.15033873 -1.15331373 -1.15665636 80.8805531 ]\n",
      " [-1.15666875 -1.15824271 -1.15942836 -1.16292304 79.89242378]\n",
      " [-1.16286302 -1.16077939 -1.16253955 -1.16435505 80.8805531 ]\n",
      " [-1.16447492 -1.16431606 -1.16449342 -1.16412296 80.8805531 ]\n",
      " [-1.16377832 -1.15986729 -1.16318389 -1.1611123  80.79072316]\n",
      " [-1.16091885 -1.16231645 -1.16607201 -1.16740166 80.8805531 ]\n",
      " [-1.16713185 -1.16856541 -1.17605973 -1.17776869 80.8805531 ]\n",
      " [-1.17770215 -1.17940746 -1.17661585 -1.17760124 80.8805531 ]\n",
      " [-1.17763987 -1.17891172 -1.18261262 -1.18081743 80.8805531 ]\n",
      " [-1.18081257 -1.1710834  -1.17791382 -1.16753128 80.8805531 ]\n",
      " [-1.16756175 -1.16777935 -1.16642347 -1.16945298 60.75864708]]\n"
     ]
    }
   ],
   "source": [
    "print(x)"
   ]
  },
  {
   "cell_type": "code",
   "execution_count": 38,
   "metadata": {},
   "outputs": [
    {
     "name": "stdout",
     "output_type": "stream",
     "text": [
      "0.9999810188410515\n"
     ]
    },
    {
     "name": "stderr",
     "output_type": "stream",
     "text": [
      "[Parallel(n_jobs=8)]: Using backend ThreadingBackend with 8 concurrent workers.\n",
      "[Parallel(n_jobs=8)]: Done  25 tasks      | elapsed:    0.0s\n",
      "[Parallel(n_jobs=8)]: Done 146 tasks      | elapsed:    0.0s\n",
      "[Parallel(n_jobs=8)]: Done 200 out of 200 | elapsed:    0.0s finished\n"
     ]
    }
   ],
   "source": [
    "print(t_model.score(x,y))"
   ]
  },
  {
   "cell_type": "code",
   "execution_count": 39,
   "metadata": {},
   "outputs": [
    {
     "name": "stderr",
     "output_type": "stream",
     "text": [
      "[Parallel(n_jobs=8)]: Using backend ThreadingBackend with 8 concurrent workers.\n",
      "[Parallel(n_jobs=8)]: Done  25 tasks      | elapsed:    0.0s\n",
      "[Parallel(n_jobs=8)]: Done 146 tasks      | elapsed:    0.0s\n",
      "[Parallel(n_jobs=8)]: Done 200 out of 200 | elapsed:    0.0s finished\n"
     ]
    }
   ],
   "source": [
    "y_pred = t_model.predict(x)"
   ]
  },
  {
   "cell_type": "code",
   "execution_count": 40,
   "metadata": {},
   "outputs": [
    {
     "name": "stdout",
     "output_type": "stream",
     "text": [
      "[-1.07657461 -1.07498309 -1.06170012 -1.05833685 -1.0560823  -1.05847896\n",
      " -1.05488406 -1.06603506 -1.06937213 -1.07728736 -1.08239343 -1.08598724\n",
      " -1.06823383 -1.06936889 -1.0586971  -1.06014072 -1.05895152 -1.05457168\n",
      " -1.0671764  -1.05774942 -1.05960914 -1.05556767 -1.05925015 -1.06427205\n",
      " -1.06272631 -1.06957712 -1.07371098 -1.06736041 -1.06986343 -1.06560753\n",
      " -1.06592906 -1.05426577 -1.05780734 -1.06444744 -1.06424839 -1.05206376\n",
      " -1.0374676  -1.02970105 -1.02711673 -1.02674924 -1.03789879 -1.03749975\n",
      " -1.03409013 -1.02937417 -1.03338264 -1.0320942  -1.04881219 -1.03732074\n",
      " -1.04275836 -1.03355709 -1.04821602 -1.05574714 -1.05494105 -1.06315147\n",
      " -1.06165106 -1.08164631 -1.08696874 -1.0844927  -1.07057477 -1.07724913\n",
      " -1.08655694 -1.08219027 -1.08636045 -1.08319473 -1.08993952 -1.08297943\n",
      " -1.08870906 -1.08876133 -1.09697729 -1.09788248 -1.10442705 -1.10780963\n",
      " -1.12325393 -1.12663884 -1.1176205  -1.11086917 -1.12343948 -1.13196743\n",
      " -1.13480495 -1.13508829 -1.14932727 -1.14112661 -1.1436234  -1.13775258\n",
      " -1.13695212 -1.14325593 -1.15685251 -1.15428953 -1.14704213 -1.15677264\n",
      " -1.16259545 -1.16443963 -1.16365255 -1.16073198 -1.1672446  -1.17768806\n",
      " -1.17762771 -1.18092164 -1.16756017]\n"
     ]
    }
   ],
   "source": [
    "print(y_pred)"
   ]
  },
  {
   "cell_type": "code",
   "execution_count": 41,
   "metadata": {},
   "outputs": [],
   "source": [
    "y = sc_y.inverse_transform(y.reshape((len(y),1)))\n",
    "y_pred = sc_y.inverse_transform(y_pred.reshape((len(y_pred),1)))"
   ]
  },
  {
   "cell_type": "code",
   "execution_count": 42,
   "metadata": {},
   "outputs": [
    {
     "name": "stdout",
     "output_type": "stream",
     "text": [
      "[[228244.13]\n",
      " [228610.94]\n",
      " [231857.99]\n",
      " [232685.94]\n",
      " [233239.3 ]\n",
      " [232631.47]\n",
      " [233578.84]\n",
      " [230798.57]\n",
      " [229985.21]\n",
      " [228040.21]\n",
      " [226801.05]\n",
      " [225912.51]\n",
      " [230274.77]\n",
      " [230021.24]\n",
      " [232582.52]\n",
      " [232255.41]\n",
      " [232533.18]\n",
      " [233612.44]\n",
      " [230522.57]\n",
      " [232864.43]\n",
      " [232393.17]\n",
      " [233367.25]\n",
      " [232465.96]\n",
      " [231274.02]\n",
      " [231505.89]\n",
      " [229927.15]\n",
      " [228935.4 ]\n",
      " [230411.88]\n",
      " [229864.47]\n",
      " [230938.35]\n",
      " [230846.35]\n",
      " [233683.64]\n",
      " [232824.24]\n",
      " [231213.53]\n",
      " [231221.07]\n",
      " [234253.47]\n",
      " [237767.12]\n",
      " [239694.66]\n",
      " [240330.5 ]\n",
      " [240429.9 ]\n",
      " [237622.24]\n",
      " [237778.94]\n",
      " [238560.17]\n",
      " [239788.02]\n",
      " [238801.85]\n",
      " [239120.2 ]\n",
      " [235083.64]\n",
      " [237858.79]\n",
      " [236506.97]\n",
      " [238769.86]\n",
      " [235169.39]\n",
      " [233256.74]\n",
      " [233501.5 ]\n",
      " [231510.22]\n",
      " [231852.77]\n",
      " [227019.31]\n",
      " [225765.05]\n",
      " [226355.78]\n",
      " [229805.56]\n",
      " [228173.7 ]\n",
      " [225656.43]\n",
      " [226912.29]\n",
      " [225722.68]\n",
      " [226666.93]\n",
      " [224960.4 ]\n",
      " [226617.01]\n",
      " [225206.95]\n",
      " [225211.59]\n",
      " [223185.68]\n",
      " [223042.48]\n",
      " [221326.71]\n",
      " [220522.61]\n",
      " [216773.52]\n",
      " [215989.66]\n",
      " [218100.88]\n",
      " [219823.45]\n",
      " [216673.63]\n",
      " [214643.61]\n",
      " [213925.32]\n",
      " [213827.42]\n",
      " [210382.2 ]\n",
      " [212370.48]\n",
      " [211833.96]\n",
      " [213245.86]\n",
      " [213491.89]\n",
      " [211851.35]\n",
      " [208626.56]\n",
      " [209213.97]\n",
      " [210915.54]\n",
      " [208601.55]\n",
      " [207066.01]\n",
      " [206715.12]\n",
      " [206771.99]\n",
      " [207509.7 ]\n",
      " [205968.6 ]\n",
      " [203428.34]\n",
      " [203469.37]\n",
      " [202681.3 ]\n",
      " [205936.84]]\n"
     ]
    }
   ],
   "source": [
    "print(y)\n",
    "\n"
   ]
  },
  {
   "cell_type": "code",
   "execution_count": 43,
   "metadata": {},
   "outputs": [
    {
     "name": "stdout",
     "output_type": "stream",
     "text": [
      "[[228220.96115]\n",
      " [228610.94   ]\n",
      " [231865.726  ]\n",
      " [232689.8443 ]\n",
      " [233242.2876 ]\n",
      " [232655.0217 ]\n",
      " [233535.89695]\n",
      " [230803.5167 ]\n",
      " [229985.81875]\n",
      " [228046.313  ]\n",
      " [226795.14875]\n",
      " [225914.5416 ]\n",
      " [230264.7421 ]\n",
      " [229986.61265]\n",
      " [232601.571  ]\n",
      " [232247.83255]\n",
      " [232539.2285 ]\n",
      " [233612.44   ]\n",
      " [230523.84705]\n",
      " [232833.78505]\n",
      " [232378.0885 ]\n",
      " [233368.38955]\n",
      " [232466.0536 ]\n",
      " [231235.51475]\n",
      " [231614.2746 ]\n",
      " [229935.58855]\n",
      " [228922.649  ]\n",
      " [230478.7601 ]\n",
      " [229865.43295]\n",
      " [230908.27565]\n",
      " [230829.4887 ]\n",
      " [233687.4003 ]\n",
      " [232819.5916 ]\n",
      " [231192.5381 ]\n",
      " [231241.31125]\n",
      " [234226.9687 ]\n",
      " [237803.53275]\n",
      " [239706.605  ]\n",
      " [240339.8529 ]\n",
      " [240429.9    ]\n",
      " [237697.875  ]\n",
      " [237795.65395]\n",
      " [238631.12875]\n",
      " [239786.70355]\n",
      " [238804.4879 ]\n",
      " [239120.2    ]\n",
      " [235023.7138 ]\n",
      " [237839.5186 ]\n",
      " [236507.11355]\n",
      " [238761.74275]\n",
      " [235169.79775]\n",
      " [233324.4122 ]\n",
      " [233521.9323 ]\n",
      " [231510.0947 ]\n",
      " [231877.7466 ]\n",
      " [226978.21855]\n",
      " [225674.04115]\n",
      " [226280.75465]\n",
      " [229691.13115]\n",
      " [228055.682  ]\n",
      " [225774.9463 ]\n",
      " [226844.93085]\n",
      " [225823.0921 ]\n",
      " [226598.804  ]\n",
      " [224946.0956 ]\n",
      " [226651.5584 ]\n",
      " [225247.60055]\n",
      " [225234.79325]\n",
      " [223221.5997 ]\n",
      " [222999.7957 ]\n",
      " [221396.15085]\n",
      " [220567.3005 ]\n",
      " [216782.9143 ]\n",
      " [215953.4928 ]\n",
      " [218163.29915]\n",
      " [219817.6084 ]\n",
      " [216737.44665]\n",
      " [214647.8047 ]\n",
      " [213952.5132 ]\n",
      " [213883.08545]\n",
      " [210394.04395]\n",
      " [212403.48885]\n",
      " [211791.6873 ]\n",
      " [213230.24285]\n",
      " [213426.3825 ]\n",
      " [211881.73205]\n",
      " [208550.0983 ]\n",
      " [209178.11785]\n",
      " [210953.98045]\n",
      " [208569.66915]\n",
      " [207142.8802 ]\n",
      " [206690.9912 ]\n",
      " [206883.85495]\n",
      " [207599.4953 ]\n",
      " [206003.67755]\n",
      " [203444.66905]\n",
      " [203459.4562 ]\n",
      " [202652.33035]\n",
      " [205926.35205]]\n"
     ]
    }
   ],
   "source": [
    "print(y_pred)"
   ]
  },
  {
   "cell_type": "code",
   "execution_count": 44,
   "metadata": {},
   "outputs": [],
   "source": [
    "import matplotlib.pyplot as plt"
   ]
  },
  {
   "cell_type": "code",
   "execution_count": 46,
   "metadata": {},
   "outputs": [
    {
     "data": {
      "image/png": "[encoded data removed]",
      "text/plain": [
       "<Figure size 3000x1000 with 1 Axes>"
      ]
     },
     "metadata": {},
     "output_type": "display_data"
    }
   ],
   "source": [
    "plt.figure(figsize=(30, 10))  # Adjust figure size as needed\n",
    "\n",
    "# Plot close price as scatter chart\n",
    "plt.scatter(range(len(y)), y, label='Close Price', color='blue', alpha=0.7)\n",
    "\n",
    "# Plot predicted price as line graph\n",
    "plt.plot(range(len(y_pred)), y_pred, label='Predicted Price', color='red')\n",
    "\n",
    "# Add labels and title\n",
    "plt.xlabel('Index')\n",
    "plt.ylabel('Price')\n",
    "plt.title('Close Price vs. Predicted Price')\n",
    "\n",
    "# Add legend\n",
    "plt.legend()\n",
    "\n",
    "# Display the plot\n",
    "plt.grid(True)\n",
    "plt.show()"
   ]
  },
  {
   "cell_type": "code",
   "execution_count": null,
   "metadata": {},
   "outputs": [],
   "source": []
  }
 ],
 "metadata": {
  "kernelspec": {
   "display_name": "py310",
   "language": "python",
   "name": "python3"
  },
  "language_info": {
   "codemirror_mode": {
    "name": "ipython",
    "version": 3
   },
   "file_extension": ".py",
   "mimetype": "text/x-python",
   "name": "python",
   "nbconvert_exporter": "python",
   "pygments_lexer": "ipython3",
   "version": "3.10.13"
  }
 },
 "nbformat": 4,
 "nbformat_minor": 2
}
