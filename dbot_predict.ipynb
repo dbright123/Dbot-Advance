{
 "cells": [
  {
   "cell_type": "code",
   "execution_count": 1,
   "metadata": {},
   "outputs": [],
   "source": [
    "import MetaTrader5 as mt5"
   ]
  },
  {
   "cell_type": "code",
   "execution_count": 2,
   "metadata": {},
   "outputs": [
    {
     "name": "stdout",
     "output_type": "stream",
     "text": [
      "MetaTrader5 initialized\n"
     ]
    }
   ],
   "source": [
    "if mt5.initialize():\n",
    "    print(\"MetaTrader5 initialized\")\n",
    "else:\n",
    "    print(\"MetaTrader5 not initialized\")"
   ]
  },
  {
   "cell_type": "code",
   "execution_count": 3,
   "metadata": {},
   "outputs": [
    {
     "name": "stdout",
     "output_type": "stream",
     "text": [
      "AccountInfo(login=31501023, trade_mode=0, leverage=500, limit_orders=50, margin_so_mode=0, trade_allowed=True, trade_expert=True, margin_mode=2, currency_digits=2, fifo_close=False, balance=9988.64, credit=0.0, profit=0.0, equity=9988.64, margin=0.0, margin_free=9988.64, margin_level=0.0, margin_so_call=100.0, margin_so_so=50.0, margin_initial=0.0, margin_maintenance=0.0, assets=0.0, liabilities=0.0, commission_blocked=0.0, name='Demo Derived', server='Deriv-Demo', currency='USD', company='Deriv.com Limited')\n",
      "\n",
      "\n",
      "TerminalInfo(community_account=False, community_connection=False, connected=True, dlls_allowed=False, trade_allowed=True, tradeapi_disabled=False, email_enabled=False, ftp_enabled=False, notifications_enabled=False, mqid=False, build=4330, maxbars=100000, codepage=0, ping_last=173934, community_balance=0.0, retransmission=0.0, company='MetaQuotes Software Corp.', name='MetaTrader 5', language='English', path='C:\\\\Program Files\\\\MetaTrader 5', data_path='C:\\\\Users\\\\omage\\\\AppData\\\\Roaming\\\\MetaQuotes\\\\Terminal\\\\D0E8209F77C8CF37AD8BF550E51FF075', commondata_path='C:\\\\Users\\\\omage\\\\AppData\\\\Roaming\\\\MetaQuotes\\\\Terminal\\\\Common')\n"
     ]
    }
   ],
   "source": [
    "print(mt5.account_info())\n",
    "print(\"\\n\")\n",
    "print(mt5.terminal_info())"
   ]
  },
  {
   "cell_type": "code",
   "execution_count": 4,
   "metadata": {},
   "outputs": [
    {
     "name": "stdout",
     "output_type": "stream",
     "text": [
      "291\n",
      "Volatility 10 (1s) Index\n",
      "Volatility 10 Index\n",
      "Volatility 100 (1s) Index\n",
      "Volatility 100 Index\n",
      "Volatility 150 (1s) Index\n",
      "Volatility 200 (1s) Index\n",
      "Volatility 25 (1s) Index\n",
      "Volatility 25 Index\n",
      "Volatility 250 (1s) Index\n",
      "Volatility 300 (1s) Index\n",
      "Volatility 50 (1s) Index\n",
      "Volatility 50 Index\n",
      "Volatility 75 (1s) Index\n",
      "Volatility 75 Index\n"
     ]
    }
   ],
   "source": [
    "total_market = mt5.symbols_total()\n",
    "print(total_market)\n",
    "markets = mt5.symbols_get(\"Volatility\")\n",
    "for market in markets:\n",
    "    print(market.name)"
   ]
  },
  {
   "cell_type": "code",
   "execution_count": 5,
   "metadata": {},
   "outputs": [
    {
     "name": "stdout",
     "output_type": "stream",
     "text": [
      "[(1546318800, 110937.33, 111280.18, 110692.59, 111096.21, 840, 6000, 0)\n",
      " (1546320600, 111102.52, 112266.87, 111075.16, 111906.08, 900, 6000, 0)\n",
      " (1546322400, 111901.24, 112325.91, 111536.92, 111769.42, 900, 6000, 0)\n",
      " ...\n",
      " (1716483600, 157987.17, 159370.52, 157670.11, 157783.64, 900, 4279, 0)\n",
      " (1716485400, 157778.4 , 158617.49, 157341.7 , 157643.96, 900, 4279, 0)\n",
      " (1716487200, 157592.41, 158338.56, 157242.46, 157737.04, 900, 4279, 0)]\n"
     ]
    }
   ],
   "source": [
    "rates = mt5.copy_rates_from_pos(\"Volatility 75 Index\", mt5.TIMEFRAME_M30, 100, 99999)\n",
    "print(rates)"
   ]
  },
  {
   "cell_type": "code",
   "execution_count": 6,
   "metadata": {},
   "outputs": [
    {
     "data": {
      "text/plain": [
       "array([(1546318800, 110937.33, 111280.18, 110692.59, 111096.21, 840, 6000, 0),\n",
       "       (1546320600, 111102.52, 112266.87, 111075.16, 111906.08, 900, 6000, 0),\n",
       "       (1546322400, 111901.24, 112325.91, 111536.92, 111769.42, 900, 6000, 0),\n",
       "       ...,\n",
       "       (1716483600, 157987.17, 159370.52, 157670.11, 157783.64, 900, 4279, 0),\n",
       "       (1716485400, 157778.4 , 158617.49, 157341.7 , 157643.96, 900, 4279, 0),\n",
       "       (1716487200, 157592.41, 158338.56, 157242.46, 157737.04, 900, 4279, 0)],\n",
       "      dtype=[('time', '<i8'), ('open', '<f8'), ('high', '<f8'), ('low', '<f8'), ('close', '<f8'), ('tick_volume', '<u8'), ('spread', '<i4'), ('real_volume', '<u8')])"
      ]
     },
     "metadata": {},
     "output_type": "display_data"
    }
   ],
   "source": [
    "display(rates)"
   ]
  },
  {
   "cell_type": "code",
   "execution_count": 7,
   "metadata": {},
   "outputs": [
    {
     "name": "stdout",
     "output_type": "stream",
     "text": [
      "94530\n"
     ]
    }
   ],
   "source": [
    "print(len(rates) - 1)"
   ]
  },
  {
   "cell_type": "code",
   "execution_count": 8,
   "metadata": {},
   "outputs": [
    {
     "name": "stdout",
     "output_type": "stream",
     "text": [
      "done executing\n"
     ]
    }
   ],
   "source": [
    "x = []\n",
    "y = []\n",
    "\n",
    "i = 0\n",
    "for rate in rates:\n",
    "    if i == 0:\n",
    "        i=1\n",
    "    else:    \n",
    "        x.append([rate[1],rate[2],rate[3],rate[4],rate[5]])\n",
    "i = 0\n",
    "for rate in rates:\n",
    "    if i < len(rates) - 1:\n",
    "        y.append(rate[4]) \n",
    "        i += 1\n",
    "    else:\n",
    "        print(\"done executing\")   \n",
    "    "
   ]
  },
  {
   "cell_type": "code",
   "execution_count": 9,
   "metadata": {},
   "outputs": [],
   "source": [
    "import numpy as np"
   ]
  },
  {
   "cell_type": "code",
   "execution_count": 10,
   "metadata": {},
   "outputs": [],
   "source": [
    "x = np.array(x)\n",
    "y = np.array(y)"
   ]
  },
  {
   "cell_type": "code",
   "execution_count": 11,
   "metadata": {},
   "outputs": [
    {
     "name": "stdout",
     "output_type": "stream",
     "text": [
      "(94530, 5)\n",
      "(94530,)\n"
     ]
    }
   ],
   "source": [
    "print(x.shape)\n",
    "print(y.shape)"
   ]
  },
  {
   "cell_type": "code",
   "execution_count": 12,
   "metadata": {},
   "outputs": [
    {
     "name": "stdout",
     "output_type": "stream",
     "text": [
      "[111096.21 111906.08 111769.42 ... 158070.9  157783.64 157643.96]\n"
     ]
    }
   ],
   "source": [
    "print(y)"
   ]
  },
  {
   "cell_type": "code",
   "execution_count": 13,
   "metadata": {},
   "outputs": [],
   "source": [
    "for i in range(3):\n",
    "    x = np.concatenate([x,x])\n",
    "    y = np.concatenate([y,y])"
   ]
  },
  {
   "cell_type": "code",
   "execution_count": 14,
   "metadata": {},
   "outputs": [
    {
     "name": "stdout",
     "output_type": "stream",
     "text": [
      "(756240, 5)\n",
      "(756240,)\n"
     ]
    }
   ],
   "source": [
    "print(x.shape)\n",
    "print(y.shape)"
   ]
  },
  {
   "cell_type": "code",
   "execution_count": 15,
   "metadata": {},
   "outputs": [
    {
     "name": "stdout",
     "output_type": "stream",
     "text": [
      "[[111102.52 112266.87 111075.16 111906.08    900.  ]\n",
      " [111901.24 112325.91 111536.92 111769.42    900.  ]\n",
      " [111821.22 112389.49 111584.01 112294.98    900.  ]\n",
      " ...\n",
      " [157987.17 159370.52 157670.11 157783.64    900.  ]\n",
      " [157778.4  158617.49 157341.7  157643.96    900.  ]\n",
      " [157592.41 158338.56 157242.46 157737.04    900.  ]]\n"
     ]
    }
   ],
   "source": [
    "print(x)"
   ]
  },
  {
   "cell_type": "code",
   "execution_count": 16,
   "metadata": {},
   "outputs": [],
   "source": [
    "from sklearn.model_selection import train_test_split"
   ]
  },
  {
   "cell_type": "code",
   "execution_count": 17,
   "metadata": {},
   "outputs": [],
   "source": [
    "x_train, x_test, y_train, y_test = train_test_split(x,y,test_size=0.001, random_state=40)"
   ]
  },
  {
   "cell_type": "code",
   "execution_count": 18,
   "metadata": {},
   "outputs": [
    {
     "name": "stdout",
     "output_type": "stream",
     "text": [
      "(755483, 5)\n",
      "(757, 5)\n",
      "(755483,)\n",
      "(757,)\n"
     ]
    }
   ],
   "source": [
    "print(x_train.shape)\n",
    "print(x_test.shape)\n",
    "print(y_train.shape)\n",
    "print(y_test.shape)"
   ]
  },
  {
   "cell_type": "code",
   "execution_count": 19,
   "metadata": {},
   "outputs": [],
   "source": [
    "from sklearn.preprocessing import StandardScaler"
   ]
  },
  {
   "cell_type": "code",
   "execution_count": 20,
   "metadata": {},
   "outputs": [
    {
     "name": "stdout",
     "output_type": "stream",
     "text": [
      "(755483, 5)\n",
      "(755483, 1)\n"
     ]
    }
   ],
   "source": [
    "sc_x = StandardScaler()\n",
    "sc_y = StandardScaler()\n",
    "x_train = sc_x.fit_transform(x_train,y_train)\n",
    "y_train = sc_y.fit_transform(y_train.reshape((len(y_train),1)))\n",
    "\n",
    "x_test = sc_x.transform(x_test)\n",
    "y_test = sc_y.transform(y_test.reshape((len(y_test),1)))\n",
    "\n",
    "print(x_train.shape)\n",
    "print(y_train.shape)"
   ]
  },
  {
   "cell_type": "code",
   "execution_count": 21,
   "metadata": {},
   "outputs": [],
   "source": [
    "y_train = y_train.reshape(-1)\n",
    "y_test = y_test.reshape(-1)"
   ]
  },
  {
   "cell_type": "code",
   "execution_count": 22,
   "metadata": {},
   "outputs": [
    {
     "name": "stdout",
     "output_type": "stream",
     "text": [
      "(755483,)\n",
      "(757,)\n"
     ]
    }
   ],
   "source": [
    "print(y_train.shape)\n",
    "print(y_test.shape)"
   ]
  },
  {
   "cell_type": "code",
   "execution_count": 23,
   "metadata": {},
   "outputs": [
    {
     "name": "stdout",
     "output_type": "stream",
     "text": [
      "[[-0.55158132 -0.54277966 -0.5453774  -0.53665054 -0.1464032 ]\n",
      " [-1.14592907 -1.14916722 -1.15533001 -1.15878837  0.03379003]\n",
      " [-0.48419156 -0.48418402 -0.48345973 -0.48243171  0.03379003]\n",
      " ...\n",
      " [-1.38171635 -1.37955479 -1.37961709 -1.37861431  0.03379003]\n",
      " [-0.22879601 -0.22443067 -0.22685865 -0.22385371  0.03379003]\n",
      " [-1.47558939 -1.47506693 -1.47353862 -1.47281782  0.03379003]]\n"
     ]
    }
   ],
   "source": [
    "print(x_train)"
   ]
  },
  {
   "cell_type": "code",
   "execution_count": 24,
   "metadata": {},
   "outputs": [],
   "source": [
    "from sklearn.ensemble import RandomForestRegressor"
   ]
  },
  {
   "cell_type": "code",
   "execution_count": 25,
   "metadata": {},
   "outputs": [],
   "source": [
    "regressor = RandomForestRegressor(n_estimators=200, n_jobs = 8, random_state=40, verbose=2)"
   ]
  },
  {
   "cell_type": "code",
   "execution_count": 26,
   "metadata": {},
   "outputs": [
    {
     "name": "stderr",
     "output_type": "stream",
     "text": [
      "[Parallel(n_jobs=8)]: Using backend ThreadingBackend with 8 concurrent workers.\n"
     ]
    },
    {
     "name": "stdout",
     "output_type": "stream",
     "text": [
      "building tree 1 of 200\n",
      "building tree 2 of 200\n",
      "building tree 3 of 200\n",
      "building tree 4 of 200\n",
      "building tree 5 of 200\n",
      "building tree 6 of 200\n",
      "building tree 7 of 200\n",
      "building tree 8 of 200\n",
      "building tree 9 of 200\n",
      "building tree 10 of 200\n",
      "building tree 11 of 200\n",
      "building tree 12 of 200\n",
      "building tree 13 of 200\n",
      "building tree 14 of 200\n",
      "building tree 15 of 200\n",
      "building tree 16 of 200\n",
      "building tree 17 of 200\n",
      "building tree 18 of 200\n",
      "building tree 19 of 200\n",
      "building tree 20 of 200\n",
      "building tree 21 of 200\n",
      "building tree 22 of 200\n",
      "building tree 23 of 200\n",
      "building tree 24 of 200\n",
      "building tree 25 of 200\n",
      "building tree 26 of 200\n",
      "building tree 27 of 200\n",
      "building tree 28 of 200\n",
      "building tree 29 of 200\n",
      "building tree 30 of 200\n",
      "building tree 31 of 200\n",
      "building tree 32 of 200\n",
      "building tree 33 of 200\n"
     ]
    },
    {
     "name": "stderr",
     "output_type": "stream",
     "text": [
      "[Parallel(n_jobs=8)]: Done  25 tasks      | elapsed:    8.7s\n"
     ]
    },
    {
     "name": "stdout",
     "output_type": "stream",
     "text": [
      "building tree 34 of 200\n",
      "building tree 35 of 200\n",
      "building tree 36 of 200\n",
      "building tree 37 of 200\n",
      "building tree 38 of 200\n",
      "building tree 39 of 200\n",
      "building tree 40 of 200\n",
      "building tree 41 of 200\n",
      "building tree 42 of 200\n",
      "building tree 43 of 200\n",
      "building tree 44 of 200\n",
      "building tree 45 of 200\n",
      "building tree 46 of 200\n",
      "building tree 47 of 200\n",
      "building tree 48 of 200\n",
      "building tree 49 of 200\n",
      "building tree 50 of 200\n",
      "building tree 51 of 200\n",
      "building tree 52 of 200\n",
      "building tree 53 of 200\n",
      "building tree 54 of 200\n",
      "building tree 55 of 200\n",
      "building tree 56 of 200\n",
      "building tree 57 of 200\n",
      "building tree 58 of 200\n",
      "building tree 59 of 200\n",
      "building tree 60 of 200\n",
      "building tree 61 of 200\n",
      "building tree 62 of 200\n",
      "building tree 63 of 200\n",
      "building tree 64 of 200\n",
      "building tree 65 of 200\n",
      "building tree 66 of 200\n",
      "building tree 67 of 200\n",
      "building tree 68 of 200\n",
      "building tree 69 of 200\n",
      "building tree 70 of 200\n",
      "building tree 71 of 200\n",
      "building tree 72 of 200\n",
      "building tree 73 of 200\n",
      "building tree 74 of 200\n",
      "building tree 75 of 200\n",
      "building tree 76 of 200\n",
      "building tree 77 of 200\n",
      "building tree 78 of 200\n",
      "building tree 79 of 200\n",
      "building tree 80 of 200\n",
      "building tree 81 of 200\n",
      "building tree 82 of 200\n",
      "building tree 83 of 200\n",
      "building tree 84 of 200\n",
      "building tree 85 of 200\n",
      "building tree 86 of 200\n",
      "building tree 87 of 200\n",
      "building tree 88 of 200\n",
      "building tree 89 of 200\n",
      "building tree 90 of 200\n",
      "building tree 91 of 200\n",
      "building tree 92 of 200\n",
      "building tree 93 of 200\n",
      "building tree 94 of 200\n",
      "building tree 95 of 200\n",
      "building tree 96 of 200\n",
      "building tree 97 of 200\n",
      "building tree 98 of 200\n",
      "building tree 99 of 200\n",
      "building tree 100 of 200\n",
      "building tree 101 of 200\n",
      "building tree 102 of 200\n",
      "building tree 103 of 200\n",
      "building tree 104 of 200\n",
      "building tree 105 of 200\n",
      "building tree 106 of 200\n",
      "building tree 107 of 200\n",
      "building tree 108 of 200\n",
      "building tree 109 of 200\n",
      "building tree 110 of 200\n",
      "building tree 111 of 200\n",
      "building tree 112 of 200\n",
      "building tree 113 of 200\n",
      "building tree 114 of 200\n",
      "building tree 115 of 200\n",
      "building tree 116 of 200\n",
      "building tree 117 of 200\n",
      "building tree 118 of 200\n",
      "building tree 119 of 200\n",
      "building tree 120 of 200\n",
      "building tree 121 of 200\n",
      "building tree 122 of 200\n",
      "building tree 123 of 200\n",
      "building tree 124 of 200\n",
      "building tree 125 of 200\n",
      "building tree 126 of 200\n",
      "building tree 127 of 200\n",
      "building tree 128 of 200\n",
      "building tree 129 of 200\n",
      "building tree 130 of 200\n",
      "building tree 131 of 200\n",
      "building tree 132 of 200\n",
      "building tree 133 of 200\n",
      "building tree 134 of 200\n",
      "building tree 135 of 200\n",
      "building tree 136 of 200\n",
      "building tree 137 of 200\n",
      "building tree 138 of 200\n",
      "building tree 139 of 200\n",
      "building tree 140 of 200\n",
      "building tree 141 of 200\n",
      "building tree 142 of 200\n",
      "building tree 143 of 200\n",
      "building tree 144 of 200\n",
      "building tree 145 of 200\n",
      "building tree 146 of 200\n",
      "building tree 147 of 200\n",
      "building tree 148 of 200\n",
      "building tree 149 of 200\n",
      "building tree 150 of 200\n",
      "building tree 151 of 200\n",
      "building tree 152 of 200\n",
      "building tree 153 of 200\n",
      "building tree 154 of 200\n"
     ]
    },
    {
     "name": "stderr",
     "output_type": "stream",
     "text": [
      "[Parallel(n_jobs=8)]: Done 146 tasks      | elapsed:   43.0s\n"
     ]
    },
    {
     "name": "stdout",
     "output_type": "stream",
     "text": [
      "building tree 155 of 200\n",
      "building tree 156 of 200\n",
      "building tree 157 of 200\n",
      "building tree 158 of 200\n",
      "building tree 159 of 200\n",
      "building tree 160 of 200\n",
      "building tree 161 of 200\n",
      "building tree 162 of 200\n",
      "building tree 163 of 200\n",
      "building tree 164 of 200\n",
      "building tree 165 of 200\n",
      "building tree 166 of 200\n",
      "building tree 167 of 200\n",
      "building tree 168 of 200\n",
      "building tree 169 of 200\n",
      "building tree 170 of 200\n",
      "building tree 171 of 200\n",
      "building tree 172 of 200\n",
      "building tree 173 of 200\n",
      "building tree 174 of 200\n",
      "building tree 175 of 200\n",
      "building tree 176 of 200\n",
      "building tree 177 of 200\n",
      "building tree 178 of 200\n",
      "building tree 179 of 200\n",
      "building tree 180 of 200\n",
      "building tree 181 of 200\n",
      "building tree 182 of 200\n",
      "building tree 183 of 200\n",
      "building tree 184 of 200\n",
      "building tree 185 of 200\n",
      "building tree 186 of 200\n",
      "building tree 187 of 200\n",
      "building tree 188 of 200\n",
      "building tree 189 of 200\n",
      "building tree 190 of 200\n",
      "building tree 191 of 200\n",
      "building tree 192 of 200\n",
      "building tree 193 of 200\n",
      "building tree 194 of 200\n",
      "building tree 195 of 200\n",
      "building tree 196 of 200\n",
      "building tree 197 of 200\n",
      "building tree 198 of 200\n",
      "building tree 199 of 200\n",
      "building tree 200 of 200\n"
     ]
    },
    {
     "name": "stderr",
     "output_type": "stream",
     "text": [
      "[Parallel(n_jobs=8)]: Done 200 out of 200 | elapsed:   58.1s finished\n"
     ]
    }
   ],
   "source": [
    "t_model = regressor.fit(x_train,y_train)"
   ]
  },
  {
   "cell_type": "code",
   "execution_count": 27,
   "metadata": {},
   "outputs": [
    {
     "name": "stdout",
     "output_type": "stream",
     "text": [
      "0.9999999999973004\n"
     ]
    },
    {
     "name": "stderr",
     "output_type": "stream",
     "text": [
      "[Parallel(n_jobs=8)]: Using backend ThreadingBackend with 8 concurrent workers.\n",
      "[Parallel(n_jobs=8)]: Done  25 tasks      | elapsed:    0.0s\n",
      "[Parallel(n_jobs=8)]: Done 146 tasks      | elapsed:    0.0s\n",
      "[Parallel(n_jobs=8)]: Done 200 out of 200 | elapsed:    0.0s finished\n"
     ]
    }
   ],
   "source": [
    "print(t_model.score(x_test,y_test))"
   ]
  },
  {
   "cell_type": "code",
   "execution_count": 28,
   "metadata": {},
   "outputs": [
    {
     "name": "stdout",
     "output_type": "stream",
     "text": [
      "[-0.25074461 -0.25835718 -0.2674044  -0.27335116  0.03379003]\n"
     ]
    }
   ],
   "source": [
    "print(x_test[-1])"
   ]
  },
  {
   "cell_type": "code",
   "execution_count": 29,
   "metadata": {},
   "outputs": [
    {
     "name": "stdout",
     "output_type": "stream",
     "text": [
      "[-0.25078196]\n",
      "[[426089.93]]\n"
     ]
    },
    {
     "name": "stderr",
     "output_type": "stream",
     "text": [
      "[Parallel(n_jobs=8)]: Using backend ThreadingBackend with 8 concurrent workers.\n",
      "[Parallel(n_jobs=8)]: Done  25 tasks      | elapsed:    0.0s\n",
      "[Parallel(n_jobs=8)]: Done 146 tasks      | elapsed:    0.0s\n",
      "[Parallel(n_jobs=8)]: Done 200 out of 200 | elapsed:    0.0s finished\n"
     ]
    }
   ],
   "source": [
    "y_pred = t_model.predict([x_test[-1]])\n",
    "print(y_pred)\n",
    "print(sc_y.inverse_transform(y_pred.reshape(len(y_pred),1)))"
   ]
  },
  {
   "cell_type": "code",
   "execution_count": 30,
   "metadata": {},
   "outputs": [
    {
     "name": "stdout",
     "output_type": "stream",
     "text": [
      "-0.25078195622829313\n",
      "[[426089.93]]\n",
      "[-0.25074461 -0.25835718 -0.2674044  -0.27335116  0.03379003]\n"
     ]
    }
   ],
   "source": [
    "print(y_test[-1])\n",
    "print(sc_y.inverse_transform(y_test[-1].reshape(1,1)))\n",
    "print(x_test[-1])"
   ]
  },
  {
   "cell_type": "code",
   "execution_count": 31,
   "metadata": {},
   "outputs": [],
   "source": [
    "import joblib"
   ]
  },
  {
   "cell_type": "code",
   "execution_count": 32,
   "metadata": {},
   "outputs": [
    {
     "data": {
      "text/plain": [
       "['v75i sc_y.joblib']"
      ]
     },
     "execution_count": 32,
     "metadata": {},
     "output_type": "execute_result"
    }
   ],
   "source": [
    "joblib.dump(t_model,\"v75i t_model.joblib\")\n",
    "joblib.dump(sc_x,\"v75i sc_x.joblib\")\n",
    "joblib.dump(sc_y,\"v75i sc_y.joblib\")"
   ]
  },
  {
   "cell_type": "code",
   "execution_count": 33,
   "metadata": {},
   "outputs": [],
   "source": [
    "rates = mt5.copy_rates_from_pos(\"Volatility 75 Index\", mt5.TIMEFRAME_H1, 0, 100)"
   ]
  },
  {
   "cell_type": "code",
   "execution_count": 34,
   "metadata": {},
   "outputs": [
    {
     "name": "stdout",
     "output_type": "stream",
     "text": [
      "done executing\n"
     ]
    }
   ],
   "source": [
    "x = []\n",
    "y = []\n",
    "\n",
    "i = 0\n",
    "for rate in rates:\n",
    "    if i == 0:\n",
    "        i=1\n",
    "    else:    \n",
    "        x.append([rate[1],rate[2],rate[3],rate[4],rate[5]])\n",
    "i = 0\n",
    "for rate in rates:\n",
    "    if i < len(rates) - 1:\n",
    "        y.append(rate[4]) \n",
    "        i += 1\n",
    "    else:\n",
    "        print(\"done executing\") "
   ]
  },
  {
   "cell_type": "code",
   "execution_count": 35,
   "metadata": {},
   "outputs": [],
   "source": [
    "x = np.array(x)\n",
    "y = np.array(y)\n",
    "x = sc_x.transform(x)\n",
    "y = sc_y.transform(y.reshape((len(y),1)))"
   ]
  },
  {
   "cell_type": "code",
   "execution_count": 36,
   "metadata": {},
   "outputs": [],
   "source": [
    "y = y.reshape(-1)"
   ]
  },
  {
   "cell_type": "code",
   "execution_count": 37,
   "metadata": {},
   "outputs": [
    {
     "name": "stdout",
     "output_type": "stream",
     "text": [
      "[[-1.26955113 -1.26874799 -1.26913754 -1.26794182 81.12074276]\n",
      " [-1.26777197 -1.26342781 -1.26515048 -1.26170632 81.12074276]\n",
      " [-1.26150027 -1.25281862 -1.25900866 -1.25079747 81.12074276]\n",
      " [-1.2508055  -1.24813884 -1.2488168  -1.24879803 81.12074276]\n",
      " [-1.24898524 -1.25069061 -1.25153939 -1.24804414 81.12074276]\n",
      " [-1.2478574  -1.23966915 -1.24596902 -1.23978852 81.03064615]\n",
      " [-1.23979731 -1.23472631 -1.23652834 -1.23309173 81.12074276]\n",
      " [-1.2329652  -1.22978926 -1.23382739 -1.23547895 81.03064615]\n",
      " [-1.23548377 -1.2316897  -1.23319563 -1.23242294 81.12074276]\n",
      " [-1.23239874 -1.23405879 -1.23447709 -1.23319801 81.12074276]\n",
      " [-1.23308961 -1.21600927 -1.2307965  -1.2151889  80.94054954]\n",
      " [-1.21501087 -1.21702891 -1.21860775 -1.21865635 81.12074276]\n",
      " [-1.2187022  -1.2154603  -1.21723551 -1.21622242 81.12074276]\n",
      " [-1.21612855 -1.21394696 -1.21442309 -1.21134232 81.12074276]\n",
      " [-1.21136726 -1.20638252 -1.20890936 -1.21088547 81.12074276]\n",
      " [-1.21069928 -1.21336472 -1.2190589  -1.21735222 30.66663884]\n",
      " [-1.21706315 -1.21121858 -1.2136738  -1.21394193 80.85045292]\n",
      " [-1.21369011 -1.21398573 -1.21615292 -1.21883638 81.12074276]\n",
      " [-1.21892528 -1.21301333 -1.21566139 -1.21401117 81.12074276]\n",
      " [-1.2141727  -1.21347357 -1.21599595 -1.21467626 81.12074276]\n",
      " [-1.21453267 -1.21548431 -1.21641823 -1.21940577 81.12074276]\n",
      " [-1.21975447 -1.22039643 -1.22323347 -1.22402749 81.12074276]\n",
      " [-1.22398678 -1.22733289 -1.22814468 -1.22960712 81.03064615]\n",
      " [-1.22987481 -1.22574531 -1.22953587 -1.22311305 81.12074276]\n",
      " [-1.22318138 -1.22355201 -1.22714029 -1.22810109 81.12074276]\n",
      " [-1.22799413 -1.22694277 -1.23272238 -1.2298548  81.12074276]\n",
      " [-1.22992485 -1.22654499 -1.23039692 -1.22468539 81.12074276]\n",
      " [-1.22456421 -1.2269611  -1.23560856 -1.23782713 81.03064615]\n",
      " [-1.23769087 -1.23758248 -1.23829096 -1.23761926 81.12074276]\n",
      " [-1.23737632 -1.23854322 -1.23932524 -1.24172058 81.12074276]\n",
      " [-1.24158281 -1.24318175 -1.24586452 -1.24232892 81.03064615]\n",
      " [-1.2423025  -1.23406628 -1.23935027 -1.23220904 81.12074276]\n",
      " [-1.23238134 -1.23538509 -1.23853467 -1.238629   81.12074276]\n",
      " [-1.23868126 -1.2351168  -1.23608482 -1.23212448 81.12074276]\n",
      " [-1.23206837 -1.23014643 -1.23294588 -1.23313959 81.12074276]\n",
      " [-1.23312824 -1.21707469 -1.23126362 -1.21757558 81.12074276]\n",
      " [-1.21750411 -1.21216459 -1.21675774 -1.21282315 81.03064615]\n",
      " [-1.21283019 -1.20791845 -1.20963986 -1.2083349  81.12074276]\n",
      " [-1.20837029 -1.20726603 -1.2077836  -1.20555567 81.12074276]\n",
      " [-1.20550574 -1.20731667 -1.20817967 -1.21034153 81.12074276]\n",
      " [-1.21047783 -1.21154508 -1.21084573 -1.20964049 81.12074276]\n",
      " [-1.2095381  -1.20562841 -1.20846649 -1.20401508 81.12074276]\n",
      " [-1.20403183 -1.202619   -1.20835522 -1.20904772 81.12074276]\n",
      " [-1.20907836 -1.20833991 -1.20767845 -1.2099033  81.03064615]\n",
      " [-1.20981785 -1.21202191 -1.22094942 -1.22162036 81.12074276]\n",
      " [-1.22168214 -1.22027937 -1.22346081 -1.22309943 81.12074276]\n",
      " [-1.22299769 -1.21596587 -1.22179402 -1.21414793 81.12074276]\n",
      " [-1.21426231 -1.20549941 -1.21304232 -1.21307819 81.03064615]\n",
      " [-1.2131117  -1.21064485 -1.21548665 -1.20815369 81.12074276]\n",
      " [-1.20810769 -1.20606307 -1.20511565 -1.2056565  81.12074276]\n",
      " [-1.20570947 -1.2087132  -1.20822491 -1.20969139 81.12074276]\n",
      " [-1.2095146  -1.20930033 -1.21149984 -1.21262072 81.12074276]\n",
      " [-1.21261801 -1.2145912  -1.21572488 -1.21911073 81.12074276]\n",
      " [-1.21920695 -1.22187918 -1.2269529  -1.22478025 81.12074276]\n",
      " [-1.22460849 -1.22557927 -1.22989428 -1.23069651 81.03064615]\n",
      " [-1.23081652 -1.22825708 -1.22826694 -1.22967917 81.12074276]\n",
      " [-1.2297243  -1.2249062  -1.22777067 -1.22640873 81.12074276]\n",
      " [-1.22636471 -1.22737798 -1.22606464 -1.22745059 81.12074276]\n",
      " [-1.22721483 -1.22825393 -1.23243584 -1.23179435 81.12074276]\n",
      " [-1.23176662 -1.23449866 -1.23941116 -1.24231185 81.12074276]\n",
      " [-1.24228014 -1.24371634 -1.24641596 -1.24543535 81.12074276]\n",
      " [-1.24544177 -1.24299899 -1.24273929 -1.24206376 81.12074276]\n",
      " [-1.24212036 -1.23984414 -1.2421558  -1.2431107  81.12074276]\n",
      " [-1.24315006 -1.23422532 -1.24015902 -1.23114649 81.12074276]\n",
      " [-1.23123126 -1.23196681 -1.23450044 -1.23289008 81.12074276]\n",
      " [-1.23266069 -1.22290869 -1.23161831 -1.22319408 81.12074276]\n",
      " [-1.22326944 -1.22054077 -1.22090013 -1.22034525 80.94054954]\n",
      " [-1.22016168 -1.22065456 -1.22003634 -1.22157519 81.12074276]\n",
      " [-1.22174751 -1.2249517  -1.23069911 -1.23113129 81.12074276]\n",
      " [-1.23089397 -1.23368914 -1.24050371 -1.2385833  81.12074276]\n",
      " [-1.23856364 -1.2394617  -1.23964997 -1.24004107 81.12074276]\n",
      " [-1.24004617 -1.24116307 -1.24432232 -1.24692768 81.12074276]\n",
      " [-1.2471092  -1.24287197 -1.24423228 -1.24634861 81.12074276]\n",
      " [-1.2462518  -1.24738543 -1.25065207 -1.25100327 81.12074276]\n",
      " [-1.25112664 -1.25223298 -1.25184917 -1.25445572 81.12074276]\n",
      " [-1.2545105  -1.25633567 -1.25900784 -1.25910534 81.12074276]\n",
      " [-1.25920193 -1.26106479 -1.2615026  -1.2618163  81.12074276]\n",
      " [-1.26183446 -1.26164253 -1.2673901  -1.27026468 81.12074276]\n",
      " [-1.27015629 -1.27025247 -1.26919802 -1.26801935 81.12074276]\n",
      " [-1.26789654 -1.26836689 -1.2791286  -1.28147089 81.12074276]\n",
      " [-1.28139606 -1.27997446 -1.28050386 -1.27828466 81.12074276]\n",
      " [-1.278074   -1.26788985 -1.27498886 -1.26600886 81.12074276]\n",
      " [-1.26588138 -1.26904384 -1.27292446 -1.27605925 81.12074276]\n",
      " [-1.27603331 -1.2768609  -1.28046225 -1.27414947 81.12074276]\n",
      " [-1.27427489 -1.27306253 -1.27325021 -1.27219581 81.12074276]\n",
      " [-1.27222675 -1.27094691 -1.27419097 -1.27058053 81.12074276]\n",
      " [-1.27068255 -1.26405679 -1.26801828 -1.26169372 81.12074276]\n",
      " [-1.26169574 -1.26243982 -1.26645689 -1.26857098 81.12074276]\n",
      " [-1.26838649 -1.26563337 -1.26688677 -1.26510836 81.12074276]\n",
      " [-1.26495596 -1.26733903 -1.26892895 -1.27065738 81.12074276]\n",
      " [-1.27062555 -1.26767755 -1.26801489 -1.26451575 81.12074276]\n",
      " [-1.26448049 -1.26167831 -1.26663632 -1.25889031 81.12074276]\n",
      " [-1.25889075 -1.26100002 -1.26299032 -1.26599247 81.03064615]\n",
      " [-1.26573823 -1.25997593 -1.26300286 -1.25742253 81.12074276]\n",
      " [-1.25740969 -1.25820854 -1.26002664 -1.2587848  81.12074276]\n",
      " [-1.25880155 -1.25571259 -1.25945135 -1.25250808 81.12074276]\n",
      " [-1.25261604 -1.24852051 -1.24985313 -1.25079893 81.12074276]\n",
      " [-1.25091186 -1.23542557 -1.24915104 -1.23271566 81.03064615]\n",
      " [-1.23282287 -1.23464179 -1.2346586  -1.23713252  2.19610877]]\n"
     ]
    }
   ],
   "source": [
    "print(x)"
   ]
  },
  {
   "cell_type": "code",
   "execution_count": 38,
   "metadata": {},
   "outputs": [
    {
     "name": "stdout",
     "output_type": "stream",
     "text": [
      "0.9998724815448213\n"
     ]
    },
    {
     "name": "stderr",
     "output_type": "stream",
     "text": [
      "[Parallel(n_jobs=8)]: Using backend ThreadingBackend with 8 concurrent workers.\n",
      "[Parallel(n_jobs=8)]: Done  25 tasks      | elapsed:    0.0s\n",
      "[Parallel(n_jobs=8)]: Done 146 tasks      | elapsed:    0.0s\n",
      "[Parallel(n_jobs=8)]: Done 200 out of 200 | elapsed:    0.0s finished\n"
     ]
    }
   ],
   "source": [
    "print(t_model.score(x,y))"
   ]
  },
  {
   "cell_type": "code",
   "execution_count": 39,
   "metadata": {},
   "outputs": [
    {
     "name": "stderr",
     "output_type": "stream",
     "text": [
      "[Parallel(n_jobs=8)]: Using backend ThreadingBackend with 8 concurrent workers.\n",
      "[Parallel(n_jobs=8)]: Done  25 tasks      | elapsed:    0.0s\n",
      "[Parallel(n_jobs=8)]: Done 146 tasks      | elapsed:    0.0s\n",
      "[Parallel(n_jobs=8)]: Done 200 out of 200 | elapsed:    0.0s finished\n"
     ]
    }
   ],
   "source": [
    "y_pred = t_model.predict(x)"
   ]
  },
  {
   "cell_type": "code",
   "execution_count": 40,
   "metadata": {},
   "outputs": [
    {
     "name": "stdout",
     "output_type": "stream",
     "text": [
      "[-1.26953643 -1.26750894 -1.26152128 -1.2509207  -1.24902646 -1.24801862\n",
      " -1.23961462 -1.23300601 -1.23557433 -1.23252852 -1.23301527 -1.21526735\n",
      " -1.21879113 -1.21572649 -1.21141504 -1.2107708  -1.2166346  -1.21370616\n",
      " -1.21878876 -1.21368218 -1.21458588 -1.21982772 -1.22393327 -1.22998148\n",
      " -1.22303672 -1.22782112 -1.22995962 -1.22500685 -1.23732058 -1.23725498\n",
      " -1.2417842  -1.24235757 -1.23253121 -1.23858549 -1.23206504 -1.23301527\n",
      " -1.21731112 -1.21279637 -1.20830835 -1.20522672 -1.21057508 -1.20964331\n",
      " -1.20388301 -1.20899703 -1.20987271 -1.22164392 -1.22297543 -1.2145082\n",
      " -1.21281288 -1.20837163 -1.20516351 -1.20960364 -1.2126911  -1.21894112\n",
      " -1.22500685 -1.23115362 -1.22995642 -1.22635735 -1.22678204 -1.23173534\n",
      " -1.24222543 -1.2454687  -1.24220289 -1.24320537 -1.23079981 -1.23249481\n",
      " -1.22304565 -1.22017039 -1.22165635 -1.23083792 -1.23855882 -1.2402916\n",
      " -1.24682    -1.24614176 -1.25116039 -1.25428202 -1.25936762 -1.26194266\n",
      " -1.27016319 -1.26811194 -1.28128753 -1.27830751 -1.26571603 -1.27595944\n",
      " -1.27422524 -1.27224033 -1.27071635 -1.26194266 -1.2682374  -1.26479554\n",
      " -1.27070255 -1.26427479 -1.25906471 -1.26583849 -1.25720969 -1.25893707\n",
      " -1.25264333 -1.25089911 -1.2330395 ]\n"
     ]
    }
   ],
   "source": [
    "print(y_pred)"
   ]
  },
  {
   "cell_type": "code",
   "execution_count": 41,
   "metadata": {},
   "outputs": [],
   "source": [
    "y = sc_y.inverse_transform(y.reshape((len(y),1)))\n",
    "y_pred = sc_y.inverse_transform(y_pred.reshape((len(y_pred),1)))"
   ]
  },
  {
   "cell_type": "code",
   "execution_count": 42,
   "metadata": {},
   "outputs": [
    {
     "name": "stdout",
     "output_type": "stream",
     "text": [
      "[[175568.96]\n",
      " [175905.72]\n",
      " [177439.43]\n",
      " [180122.62]\n",
      " [180614.41]\n",
      " [180799.84]\n",
      " [182830.43]\n",
      " [184477.6 ]\n",
      " [183890.43]\n",
      " [184642.1 ]\n",
      " [184451.46]\n",
      " [188881.06]\n",
      " [188028.19]\n",
      " [188626.85]\n",
      " [189827.18]\n",
      " [189939.55]\n",
      " [188348.96]\n",
      " [189187.77]\n",
      " [187983.91]\n",
      " [189170.74]\n",
      " [189007.15]\n",
      " [187843.86]\n",
      " [186707.08]\n",
      " [185334.69]\n",
      " [186932.  ]\n",
      " [185705.12]\n",
      " [185273.77]\n",
      " [186545.26]\n",
      " [183312.86]\n",
      " [183363.99]\n",
      " [182355.21]\n",
      " [182205.58]\n",
      " [184694.71]\n",
      " [183115.63]\n",
      " [184715.51]\n",
      " [184465.83]\n",
      " [188294.02]\n",
      " [189462.95]\n",
      " [190566.9 ]\n",
      " [191250.49]\n",
      " [190073.34]\n",
      " [190245.77]\n",
      " [191629.42]\n",
      " [190391.57]\n",
      " [190181.13]\n",
      " [187299.15]\n",
      " [186935.35]\n",
      " [189137.1 ]\n",
      " [189400.22]\n",
      " [190611.47]\n",
      " [191225.69]\n",
      " [190233.25]\n",
      " [189512.74]\n",
      " [187916.43]\n",
      " [186521.93]\n",
      " [185066.74]\n",
      " [185316.97]\n",
      " [186121.38]\n",
      " [185865.12]\n",
      " [184796.71]\n",
      " [182209.78]\n",
      " [181441.51]\n",
      " [182270.8 ]\n",
      " [182013.29]\n",
      " [184956.06]\n",
      " [184527.2 ]\n",
      " [186912.07]\n",
      " [187612.78]\n",
      " [187310.26]\n",
      " [184959.8 ]\n",
      " [183126.87]\n",
      " [182768.31]\n",
      " [181074.45]\n",
      " [181216.88]\n",
      " [180072.  ]\n",
      " [179222.82]\n",
      " [178079.18]\n",
      " [177412.38]\n",
      " [175334.38]\n",
      " [175886.65]\n",
      " [172578.05]\n",
      " [173361.75]\n",
      " [176381.16]\n",
      " [173909.12]\n",
      " [174378.86]\n",
      " [174859.39]\n",
      " [175256.69]\n",
      " [177442.53]\n",
      " [175750.97]\n",
      " [176602.65]\n",
      " [175237.79]\n",
      " [176748.41]\n",
      " [178132.07]\n",
      " [176385.19]\n",
      " [178493.09]\n",
      " [178158.02]\n",
      " [179701.87]\n",
      " [180122.26]\n",
      " [184570.1 ]]\n"
     ]
    }
   ],
   "source": [
    "print(y)\n",
    "\n"
   ]
  },
  {
   "cell_type": "code",
   "execution_count": 43,
   "metadata": {},
   "outputs": [
    {
     "name": "stdout",
     "output_type": "stream",
     "text": [
      "[[175511.97   ]\n",
      " [176010.664  ]\n",
      " [177483.4184 ]\n",
      " [180090.79   ]\n",
      " [180556.70675]\n",
      " [180804.5997 ]\n",
      " [182871.68985]\n",
      " [184497.177  ]\n",
      " [183865.4594 ]\n",
      " [184614.62165]\n",
      " [184494.89875]\n",
      " [188860.2666 ]\n",
      " [187993.5396 ]\n",
      " [188747.33425]\n",
      " [189807.79965]\n",
      " [189966.2606 ]\n",
      " [188523.9708 ]\n",
      " [189244.26415]\n",
      " [187994.12295]\n",
      " [189250.16145]\n",
      " [189027.8837 ]\n",
      " [187738.57565]\n",
      " [186728.7541 ]\n",
      " [185241.10545]\n",
      " [186949.2737 ]\n",
      " [185772.47725]\n",
      " [185246.483  ]\n",
      " [186464.69   ]\n",
      " [183435.9428 ]\n",
      " [183452.0778 ]\n",
      " [182338.0487 ]\n",
      " [182197.0189 ]\n",
      " [184613.9609 ]\n",
      " [183124.81925]\n",
      " [184728.621  ]\n",
      " [184494.89875]\n",
      " [188357.5695 ]\n",
      " [189468.04145]\n",
      " [190571.93615]\n",
      " [191329.91   ]\n",
      " [190014.40045]\n",
      " [190243.58245]\n",
      " [191660.4152 ]\n",
      " [190402.5457 ]\n",
      " [190187.16005]\n",
      " [187291.8527 ]\n",
      " [186964.34855]\n",
      " [189046.98965]\n",
      " [189463.97975]\n",
      " [190556.3723 ]\n",
      " [191345.4569 ]\n",
      " [190253.34   ]\n",
      " [189493.934  ]\n",
      " [187956.6485 ]\n",
      " [186464.69   ]\n",
      " [184952.8    ]\n",
      " [185247.2696 ]\n",
      " [186132.5137 ]\n",
      " [186028.0564 ]\n",
      " [184809.71795]\n",
      " [182229.5229 ]\n",
      " [181431.79   ]\n",
      " [182235.0662 ]\n",
      " [181988.49025]\n",
      " [185039.8248 ]\n",
      " [184622.9145 ]\n",
      " [186947.07565]\n",
      " [187654.29   ]\n",
      " [187288.7959 ]\n",
      " [185030.4504 ]\n",
      " [183131.38   ]\n",
      " [182705.17505]\n",
      " [181099.4182 ]\n",
      " [181266.2412 ]\n",
      " [180031.8348 ]\n",
      " [179264.02255]\n",
      " [178013.1425 ]\n",
      " [177379.7718 ]\n",
      " [175357.81045]\n",
      " [175862.3459 ]\n",
      " [172621.6129 ]\n",
      " [173354.59125]\n",
      " [176451.655  ]\n",
      " [173932.13655]\n",
      " [174358.6875 ]\n",
      " [174846.9052 ]\n",
      " [175221.75275]\n",
      " [177379.7718 ]\n",
      " [175831.4876 ]\n",
      " [176678.0631 ]\n",
      " [175225.14765]\n",
      " [176806.1513 ]\n",
      " [178087.64895]\n",
      " [176421.53565]\n",
      " [178543.91905]\n",
      " [178119.0425 ]\n",
      " [179667.083  ]\n",
      " [180096.1    ]\n",
      " [184488.94025]]\n"
     ]
    }
   ],
   "source": [
    "print(y_pred)"
   ]
  },
  {
   "cell_type": "code",
   "execution_count": 44,
   "metadata": {},
   "outputs": [],
   "source": [
    "import matplotlib.pyplot as plt"
   ]
  },
  {
   "cell_type": "code",
   "execution_count": 45,
   "metadata": {},
   "outputs": [
    {
     "data": {
      "image/png": "[encoded data removed]",
      "text/plain": [
       "<Figure size 3000x1000 with 1 Axes>"
      ]
     },
     "metadata": {},
     "output_type": "display_data"
    }
   ],
   "source": [
    "plt.figure(figsize=(30, 10))  # Adjust figure size as needed\n",
    "\n",
    "# Plot close price as scatter chart\n",
    "plt.scatter(range(len(y)), y, label='Close Price', color='blue', alpha=0.7)\n",
    "\n",
    "# Plot predicted price as line graph\n",
    "plt.plot(range(len(y_pred)), y_pred, label='Predicted Price', color='red')\n",
    "\n",
    "# Add labels and title\n",
    "plt.xlabel('Index')\n",
    "plt.ylabel('Price')\n",
    "plt.title('Close Price vs. Predicted Price')\n",
    "\n",
    "# Add legend\n",
    "plt.legend()\n",
    "\n",
    "# Display the plot\n",
    "plt.grid(True)\n",
    "plt.show()"
   ]
  },
  {
   "cell_type": "code",
   "execution_count": null,
   "metadata": {},
   "outputs": [],
   "source": []
  }
 ],
 "metadata": {
  "kernelspec": {
   "display_name": "py310",
   "language": "python",
   "name": "python3"
  },
  "language_info": {
   "codemirror_mode": {
    "name": "ipython",
    "version": 3
   },
   "file_extension": ".py",
   "mimetype": "text/x-python",
   "name": "python",
   "nbconvert_exporter": "python",
   "pygments_lexer": "ipython3",
   "version": "3.10.13"
  }
 },
 "nbformat": 4,
 "nbformat_minor": 2
}
